{
  "metadata": {
    "dataExplorerConfig": {},
    "kernelspec": {
      "display_name": "python3",
      "language": "python",
      "name": "python3",
      "metadata": {
        "kernel_name": "bento_kernel_ae_cinder",
        "nightly_builds": false,
        "fbpkg_supported": true,
        "cinder_runtime": true,
        "is_prebuilt": true
      }
    },
    "last_server_session_id": "52821b35-4071-4438-ace9-aa893d8e2e55",
    "last_kernel_id": "02a441e0-69e8-4e67-9562-4420324a48d7",
    "last_base_url": "https://devvm8344.prn0.facebook.com:8090/",
    "last_msg_id": "e00be2c0-65052c02f91edf373152437a_51",
    "captumWidgetMessage": {},
    "outputWidgetContext": {}
  },
  "nbformat": 4,
  "nbformat_minor": 2,
  "cells": [
    {
      "cell_type": "markdown",
      "metadata": {
        "originalKey": "a0534c61-7c52-41ec-bd7a-c4c617eb6d4d"
      },
      "source": [
        "## Bayesian optimization with pairwise comparison data\n",
        "\n",
        "In many real-world problems, people are faced with making multi-objective decisions. While it is often hard write down the exact utility function over those objectives, it is much easier for people to make pairwise comparisons. Drawing from utility theory and discrete choice models in economics, one can assume the user makes comparisons based on some intrinsic utility function and model the latent utility function using only the observed attributes and pairwise comparisons. \n",
        "In machine learning terms, we are concerned with [object ranking](https://en.wikipedia.org/wiki/Preference_learning) here.\n",
        "This [book](https://link.springer.com/book/10.1007/978-3-642-14125-6) has some more general discussions on this topic.\n",
        "\n",
        "In this tutorial, we illustrate how to implement a simple Bayesian Optimization (BO) closed loop in BoTorch when we only observe (noisy) pairwise comparisons of the latent function values."
      ]
    },
    {
      "cell_type": "markdown",
      "metadata": {
        "originalKey": "e61ee00b-9faf-470b-884e-f992b02b95e9"
      },
      "source": [
        "### Data generation\n",
        "\n",
        "Let's first generate some data that we are going to model.\n",
        "\n",
        "In this tutorial, the latent function we aim to fit is the weighted sum of the input vector, where for dimension $i$, the weight is $\\sqrt{i}$.\n",
        "The input tensor X is randomly sampled within the d-dimensional unit cube.\n",
        "\n",
        "\n",
        "Specifically,\n",
        "$$\n",
        "y = f(X) = \\sum_{i=1}^{d} \\sqrt{i} X_i ~~\\text{where}~~X \\in [0, 1]^d\n",
        "$$\n",
        "\n",
        "This function is monotonically increasing in each individual dimension and has different weights for each input dimension, which are some properties that many real-world utility functions possess.\n",
        "\n",
        "We generate the data using following code:"
      ]
    },
    {
      "cell_type": "code",
      "metadata": {
        "originalKey": "bd38b949-e48d-4885-bee1-a5d5375ef0d6",
        "collapsed": false,
        "requestMsgId": "c50039ca-7265-4675-9056-b705baf529ab",
        "executionStartTime": 1655488837713,
        "executionStopTime": 1655488837959,
        "code_folding": [],
        "hidden_ranges": [],
        "customOutput": null
      },
      "source": [
        "import os\n",
        "import warnings\n",
        "from itertools import combinations\n",
        "\n",
        "import numpy as np\n",
        "import torch\n",
        "\n",
        "\n",
        "# suppress warnings from potential numerical issues\n",
        "warnings.filterwarnings(\"ignore\")\n",
        "\n",
        "SMOKE_TEST = os.environ.get(\"SMOKE_TEST\")"
      ],
      "execution_count": 1,
      "outputs": []
    },
    {
      "cell_type": "code",
      "metadata": {
        "originalKey": "9ef56582-57c0-446d-9c5e-60fe80a6e718",
        "collapsed": false,
        "requestMsgId": "7a1e80a1-747e-49dd-a847-a18171054a34",
        "executionStartTime": 1655488837981,
        "executionStopTime": 1655488839277,
        "customOutput": null
      },
      "source": [
        "# data generating helper functions\n",
        "def utility(X):\n",
        "    \"\"\" Given X, output corresponding utility (i.e., the latent function)\n",
        "    \"\"\"\n",
        "    # y is weighted sum of X, with weight sqrt(i) imposed on dimension i\n",
        "    weighted_X = X * torch.sqrt(torch.arange(X.size(-1), dtype=torch.float) + 1)\n",
        "    y = torch.sum(weighted_X, dim=-1)\n",
        "    return y\n",
        "\n",
        "\n",
        "def generate_data(n, dim=2):\n",
        "    \"\"\" Generate data X and y \"\"\"\n",
        "    # X is randomly sampled from dim-dimentional unit cube\n",
        "    # we recommend using double as opposed to float tensor here for\n",
        "    # better numerical stability\n",
        "    X = torch.rand(n, dim, dtype=torch.float64)\n",
        "    y = utility(X)\n",
        "    return X, y\n",
        "\n",
        "\n",
        "def generate_comparisons(y, n_comp, noise=0.1, replace=False):\n",
        "    \"\"\"  Create pairwise comparisons with noise \"\"\"\n",
        "    # generate all possible pairs of elements in y\n",
        "    all_pairs = np.array(list(combinations(range(y.shape[0]), 2)))\n",
        "    # randomly select n_comp pairs from all_pairs\n",
        "    comp_pairs = all_pairs[np.random.choice(range(len(all_pairs)), n_comp, replace=replace)]\n",
        "    # add gaussian noise to the latent y values\n",
        "    c0 = y[comp_pairs[:, 0]] + np.random.standard_normal(len(comp_pairs)) * noise\n",
        "    c1 = y[comp_pairs[:, 1]] + np.random.standard_normal(len(comp_pairs)) * noise\n",
        "    reverse_comp = (c0 < c1).numpy()\n",
        "    comp_pairs[reverse_comp, :] = np.flip(comp_pairs[reverse_comp, :], 1)\n",
        "    comp_pairs = torch.tensor(comp_pairs).long()\n",
        "    \n",
        "    return comp_pairs\n",
        "\n",
        "\n",
        "n = 50 if not SMOKE_TEST else 5\n",
        "m = 100 if not SMOKE_TEST else 10\n",
        "dim = 2\n",
        "noise = 0.1\n",
        "train_X, train_y = generate_data(n, dim=dim)\n",
        "train_comp = generate_comparisons(train_y, m, noise=noise)"
      ],
      "execution_count": 2,
      "outputs": []
    },
    {
      "cell_type": "markdown",
      "metadata": {
        "originalKey": "ccf32bac-a38d-4b26-b18f-0cfaf21cd5cd"
      },
      "source": [
        "`train_X` is a `n x dim` tensor;\n",
        "\n",
        "`train_y` is a `n`-dimensional vector, representing the noise-free latent function value $y$;\n",
        "\n",
        "`train_comp` is a `m x 2` tensor, representing the noisy comparisons based on $\\tilde{y} = y + N(0, \\sigma^2)$, where `train_comp[k, :] = (i, j)` indicates $\\tilde{y_i} > \\tilde{y_j}$.\n",
        "\n",
        "If y is the utility function value for a set of `n` items for a specific user, $\\tilde{y_i} > \\tilde{y_j}$ indicates (with some noise) the user prefers item i over item j.\n",
        ""
      ]
    },
    {
      "cell_type": "markdown",
      "metadata": {
        "originalKey": "b00d6851-2ef7-4897-b77b-f33d81aacc40"
      },
      "source": [
        "### PairwiseGP model fitting\n",
        "\n",
        "In this problem setting, we never observe the actual function value.\n",
        "Therefore, instead of fitting the model  using (`train_X`, `train_y`) pair, we will fit the model with (`train_X`, `train_comp`).\n",
        "\n",
        "`PairwiseGP` from BoTorch is designed to work with such pairwise comparison input.\n",
        "We use `PairwiseLaplaceMarginalLogLikelihood` as the marginal log likelihood that we aim to maximize for optimizing the hyperparameters."
      ]
    },
    {
      "cell_type": "code",
      "metadata": {
        "originalKey": "f9ef97cb-3190-427b-bbf6-b732579a2610",
        "collapsed": false,
        "requestMsgId": "c8c692fa-5485-443d-bc69-a8fe92ae2a3d",
        "executionStartTime": 1655488839298,
        "executionStopTime": 1655488846320,
        "code_folding": [],
        "hidden_ranges": [],
        "customOutput": null
      },
      "source": [
        "from botorch.models.pairwise_gp import PairwiseGP, PairwiseLaplaceMarginalLogLikelihood\n",
        "from botorch.fit import fit_gpytorch_model\n",
        "\n",
        "\n",
        "model = PairwiseGP(train_X, train_comp)\n",
        "mll = PairwiseLaplaceMarginalLogLikelihood(model.likelihood, model)\n",
        "mll = fit_gpytorch_model(mll)"
      ],
      "execution_count": 3,
      "outputs": []
    },
    {
      "cell_type": "markdown",
      "metadata": {
        "originalKey": "368a5c39-3fd4-4840-86bd-2fa6ae17694b"
      },
      "source": [
        "Because the we never observe the latent function value, output values from the model are only meaningful on a relative scale.\n",
        "Hence, given a test pair (`test_X`, `test_y`), we can evaluate the model using Kendall-Tau rank correlation."
      ]
    },
    {
      "cell_type": "code",
      "metadata": {
        "originalKey": "ddecf822-a01c-4ab6-84a8-fa628c70580e",
        "collapsed": false,
        "requestMsgId": "480ac91e-0bb0-4be3-9ca7-3cf206d57b5f",
        "executionStartTime": 1655488846345,
        "executionStopTime": 1655488846827,
        "customOutput": null
      },
      "source": [
        "from scipy.stats import kendalltau\n",
        "\n",
        "\n",
        "# Kendall-Tau rank correlation\n",
        "def eval_kt_cor(model, test_X, test_y):\n",
        "    pred_y = model.posterior(test_X).mean.squeeze().detach().numpy()\n",
        "    return kendalltau(pred_y, test_y).correlation\n",
        "\n",
        "n_kendall = 1000 if not SMOKE_TEST else 10\n",
        "\n",
        "test_X, test_y = generate_data(n_kendall, dim=dim)\n",
        "kt_correlation = eval_kt_cor(model, test_X, test_y)\n",
        "\n",
        "print(f\"Test Kendall-Tau rank correlation: {kt_correlation:.4f}\")"
      ],
      "execution_count": 4,
      "outputs": [
        {
          "output_type": "stream",
          "name": "stdout",
          "text": [
            "Test Kendall-Tau rank correlation: 0.8201\n"
          ]
        }
      ]
    },
    {
      "cell_type": "markdown",
      "metadata": {
        "originalKey": "c0b823a5-6f8e-4a0e-b700-80dc4e0e4f27",
        "showInput": false,
        "code_folding": [],
        "hidden_ranges": []
      },
      "source": [
        "### Perform Bayesian Optimization loop with EUBO\n",
        "\n",
        "Now, we demonstrate how to implement a full Bayesian optimization with `AnalyticExpectedUtilityOfBestOption` (EUBO) acquisition function [4].\n",
        "\n",
        "The Bayesian optimization loop for a batch size of `q` simply iterates the following steps:\n",
        "1. given a surrogate model, choose a batch of points $X_{next} = \\{x_1, x_2, ..., x_q\\}$\n",
        "2. observe `q_comp` randomly selected pairs of (noisy) comparisons between elements in $X_{next}$\n",
        "3. update the surrogate model with $X_{next}$ and the observed pairwise comparisons\n",
        "\n",
        "We start off by defining a few helper functions."
      ]
    },
    {
      "cell_type": "code",
      "metadata": {
        "originalKey": "400d12f2-ba44-4834-a593-6019a1f70b7e",
        "collapsed": false,
        "requestMsgId": "f5f459ad-a7e8-42c0-ada1-9f24acee9885",
        "executionStartTime": 1655488846837,
        "executionStopTime": 1655488846907,
        "customOutput": null,
        "code_folding": [],
        "hidden_ranges": []
      },
      "source": [
        "from botorch.acquisition.preference import AnalyticExpectedUtilityOfBestOption\n",
        "from botorch.optim import optimize_acqf\n",
        "\n",
        "\n",
        "def init_and_fit_model(X, comp, state_dict=None):\n",
        "    \"\"\"Model fitting helper function\"\"\"\n",
        "    model = PairwiseGP(X, comp)\n",
        "    mll = PairwiseLaplaceMarginalLogLikelihood(model.likelihood, model)\n",
        "    fit_gpytorch_model(mll)\n",
        "    return mll, model\n",
        "\n",
        "\n",
        "def make_new_data(X, next_X, comps, q_comp):\n",
        "    \"\"\"Given X and next_X,\n",
        "    generate q_comp new comparisons between next_X\n",
        "    and return the concatenated X and comparisons\n",
        "    \"\"\"\n",
        "    # next_X is float by default; cast it to the dtype of X (i.e., double)\n",
        "    next_X = next_X.to(X)\n",
        "    next_y = utility(next_X)\n",
        "    next_comps = generate_comparisons(next_y, n_comp=q_comp, noise=noise)\n",
        "    comps = torch.cat([comps, next_comps + X.shape[-2]])\n",
        "    X = torch.cat([X, next_X])\n",
        "    return X, comps"
      ],
      "execution_count": 5,
      "outputs": []
    },
    {
      "cell_type": "markdown",
      "metadata": {
        "originalKey": "71133aee-de87-4329-986b-6e43b964b4fc"
      },
      "source": [
        "The Bayesian optimization loop is as follows (running the code may take a while)."
      ]
    },
    {
      "cell_type": "code",
      "metadata": {
        "originalKey": "b6a63e75-8d2d-4659-8010-9c7a9a05fa3f",
        "collapsed": false,
        "requestMsgId": "dad96447-e524-4efb-a452-f3e77336d72e",
        "executionStartTime": 1655488846929,
        "executionStopTime": 1655489271671,
        "customOutput": null,
        "code_folding": [],
        "hidden_ranges": []
      },
      "source": [
        "algos = [\"EUBO\", \"rand\"]\n",
        "\n",
        "NUM_TRIALS = 5 if not SMOKE_TEST else 2\n",
        "NUM_BATCHES = 30 if not SMOKE_TEST else 2\n",
        "\n",
        "dim = 5\n",
        "NUM_RESTARTS = 3\n",
        "RAW_SAMPLES = 256 if not SMOKE_TEST else 8\n",
        "q = 2  # number of points per query\n",
        "q_comp = 1  # number of comparisons per query\n",
        "\n",
        "# initial evals\n",
        "best_vals = {}  # best observed values\n",
        "for algo in algos:\n",
        "    best_vals[algo] = []\n",
        "\n",
        "# average over multiple trials\n",
        "for i in range(NUM_TRIALS):\n",
        "    torch.manual_seed(i)\n",
        "    np.random.seed(i)\n",
        "    data = {}\n",
        "    models = {}\n",
        "\n",
        "    # Create initial data\n",
        "    init_X, init_y = generate_data(q, dim=dim)\n",
        "    comparisons = generate_comparisons(init_y, q_comp, noise=noise)\n",
        "    test_X, test_y = generate_data(1000, dim=dim)\n",
        "    # X are within the unit cube\n",
        "    bounds = torch.stack([torch.zeros(dim), torch.ones(dim)])\n",
        "\n",
        "    for algo in algos:\n",
        "        best_vals[algo].append([])\n",
        "        data[algo] = (init_X, comparisons)\n",
        "        _, models[algo] = init_and_fit_model(init_X, comparisons)\n",
        "        model = models[algo]\n",
        "\n",
        "        best_next_y = utility(init_X).max().item()\n",
        "        best_vals[algo][-1].append(best_next_y)\n",
        "\n",
        "    # we make additional NUM_BATCHES comparison queries after the initial observation\n",
        "    for j in range(1, NUM_BATCHES + 1):\n",
        "        for algo in algos:\n",
        "            if algo == \"EUBO\":\n",
        "                # create the acquisition function object\n",
        "                acq_func = AnalyticExpectedUtilityOfBestOption(pref_model=model)\n",
        "                # optimize and get new observation\n",
        "                next_X, acq_val = optimize_acqf(\n",
        "                    acq_function=acq_func,\n",
        "                    bounds=bounds,\n",
        "                    q=q,\n",
        "                    num_restarts=NUM_RESTARTS,\n",
        "                    raw_samples=RAW_SAMPLES,\n",
        "                )\n",
        "            else:\n",
        "                # randomly sample data\n",
        "                next_X, _ = generate_data(q, dim=dim)\n",
        "\n",
        "            # update data\n",
        "            X, comps = data[algo]\n",
        "            X, comps = make_new_data(X, next_X, comps, q_comp)\n",
        "            data[algo] = (X, comps)\n",
        "\n",
        "            # refit models\n",
        "            model = models[algo]\n",
        "            _, model = init_and_fit_model(X, comps, model.state_dict())\n",
        "            models[algo] = model\n",
        "\n",
        "            # record the best observed values so far\n",
        "            max_val = utility(X).max().item()\n",
        "            best_vals[algo][-1].append(max_val)"
      ],
      "execution_count": 6,
      "outputs": []
    },
    {
      "cell_type": "markdown",
      "metadata": {
        "originalKey": "91928bb9-e627-42dc-93b5-446944a9532d"
      },
      "source": [
        "### Plot the results\n",
        "\n",
        "The plot below shows the best objective value observed at each step of the optimization for each of the acquisition functions. The error bars represent the 95% confidence intervals for the sample mean at that step in the optimization across the trial runs."
      ]
    },
    {
      "cell_type": "code",
      "metadata": {
        "originalKey": "6493c9c1-f456-472f-90c5-84b612516588",
        "code_folding": [],
        "hidden_ranges": [],
        "collapsed": false,
        "requestMsgId": "661c463d-237f-4515-ac1f-faf1e8a42105",
        "executionStartTime": 1655489271674,
        "executionStopTime": 1655489272759,
        "customOutput": null
      },
      "source": [
        "from matplotlib import pyplot as plt\n",
        "\n",
        "\n",
        "%matplotlib inline\n",
        "\n",
        "plt.rcParams.update({\"font.size\": 14})\n",
        "\n",
        "algo_labels = {\n",
        "    \"rand\": \"Random Exploration\",\n",
        "    \"EUBO\": \"EUBO\",\n",
        "}\n",
        "\n",
        "\n",
        "def ci(y):\n",
        "    return 1.96 * y.std(axis=0) / np.sqrt(y.shape[0])\n",
        "\n",
        "\n",
        "# the utility function is maximized at the full vector of 1\n",
        "optimal_val = utility(torch.tensor([[1] * dim])).item()\n",
        "iters = list(range(NUM_BATCHES + 1))\n",
        "\n",
        "fig, ax = plt.subplots(1, 1, figsize=(8, 6))\n",
        "# plot the optimal value\n",
        "ax.plot(iters, [optimal_val] * len(iters), label=\"Optimal Function Value\", color=\"black\", linewidth=1.5)\n",
        "\n",
        "# plot the the best observed value from each algorithm\n",
        "for algo in algos:\n",
        "    ys = np.vstack(best_vals[algo])\n",
        "    ax.errorbar(iters, ys.mean(axis=0), yerr=ci(ys), label=algo_labels[algo], linewidth=1.5)\n",
        "\n",
        "ax.set(\n",
        "    xlabel=f\"Number of queries (q = {q}, num_comparisons = {q_comp})\",\n",
        "    ylabel=\"Best observed value\",\n",
        "    title=f\"{dim}-dim weighted vector sum\",\n",
        ")\n",
        "ax.legend(loc=\"best\")"
      ],
      "execution_count": 7,
      "outputs": [
        {
          "output_type": "execute_result",
          "data": {
            "text/plain": "<matplotlib.legend.Legend at 0x7f9fac2e32b0>"
          },
          "metadata": {
            "bento_obj_id": "140323765236400"
          },
          "execution_count": 7
        },
        {
          "output_type": "display_data",
          "data": {
            "text/plain": "<Figure size 576x432 with 1 Axes>",
            "image/png": "[encoded data removed]"
          },
          "metadata": {
            "bento_obj_id": "140329047545168",
            "needs_background": "light"
          }
        }
      ]
    },
    {
      "cell_type": "markdown",
      "metadata": {
        "originalKey": "37fbe9bf-e19b-43bb-9ada-5dbcd40a46e5",
        "showInput": false,
        "code_folding": [],
        "hidden_ranges": []
      },
      "source": [
        "### References\n",
        "\n",
        "[1] Chu, Wei, and Zoubin Ghahramani. 2005. “Preference Learning with Gaussian Processes.” In Proceedings of the 22Nd International Conference on Machine Learning, 137–44. ICML ’05. New York, NY, USA: ACM.\n",
        "\n",
        "[2] Brochu, Eric, Vlad M. Cora, and Nando de Freitas. 2010. “A Tutorial on Bayesian Optimization of Expensive Cost Functions, with Application to Active User Modeling and Hierarchical Reinforcement Learning.” arXiv [cs.LG]. arXiv.\n",
        "\n",
        "[3] González, Javier, Zhenwen Dai, Andreas Damianou, and Neil D. Lawrence. 2017. “Preferential Bayesian Optimization.” In Proceedings of the 34th International Conference on Machine Learning, edited by Doina Precup and Yee Whye Teh, 70:1282–91. Proceedings of Machine Learning Research. International Convention Centre, Sydney, Australia: PMLR.\n",
        "\n",
        "[4] Lin, Zhiyuan Jerry, Raul Astudillo, Peter I. Frazier, and Eytan Bakshy, Preference Exploration for Efficient Bayesian Optimization with Multiple Outcomes. AISTATS, 2022. https://arxiv.org/abs/2203.11382\n",
        "\n",
        ""
      ]
    }
  ]
}
