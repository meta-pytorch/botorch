{
 "cells": [
  {
   "cell_type": "markdown",
   "metadata": {},
   "source": [
    "# Optimize Acquisition Functions using CMA-ES\n",
    "\n",
    "In this tutorial, we show how to use an external optimizer (in this case [CMA-ES](https://en.wikipedia.org/wiki/CMA-ES)) for optimizing botorch acquisition functions. CMA-ES is a zero-th order optimizer, that is, it only uses function evaluations and does not require gradient information. This is of course very useful if gradient informatiom about the function to be optimized is unavailable. \n",
    "\n",
    "In botorch, we typically do have gradient information available (thanks, autograd!). One is also generally better of using this information, rather than just ignoring it. However, for certain custom models or acquisition functions, we may not be able to backprop through the acquisition function and/or model. In such instances, using a zero-th order optimizer is appropriate.\n",
    "\n",
    "For this example we use the [PyCMA](https://github.com/CMA-ES/pycma) implementation of CMA-ES. PyCMA is easily installed via pip by running `pip install cma`."
   ]
  },
  {
   "cell_type": "markdown",
   "metadata": {},
   "source": [
    "### Starting point\n",
    "\n",
    "Let's assume for the purpose of this tutorial that\n",
    "- `acq_function` is an instance of a botorch `AnalyticAcquistionFunction`, for instance `UpperConfidenceBound`.\n",
    "- `X_init` is a `d`-dim torch Tensor that we use as the initial condition for the CMA-ES algorithm.\n",
    "\n",
    "**Note:** Relative to sequential evaluations, parallel evaluations of ther acqusition function are extremely fast in botorch (due to automatic parallelization across batch dimensions). In order to exploit this, we use the \"ask/tell\" interface to `cma` - this way we can batch-evaluate the whole CMA-ES population in parallel.\n",
    "\n",
    "In this examle we use an initial standard deviation $\\sigma_0 = 0.25$ and a population size $\\lambda = 100$. \n",
    "We also constrain the input `X` to the unit cube `[0, 1]^d`.\n",
    "See `cma`'s [API Reference](http://cma.gforge.inria.fr/apidocs-pycma/cma.evolution_strategy.CMAEvolutionStrategy.html) for more information on these options.\n",
    "\n",
    "With this, we can optimize this acquistition function as follows:"
   ]
  },
  {
   "cell_type": "code",
   "execution_count": null,
   "metadata": {},
   "outputs": [],
   "source": [
    "import torch\n",
    "import cma\n",
    "\n",
    "# convert IC to numpy\n",
    "x0 = X_init.cpu().double().numpy()\n",
    "\n",
    "# create the CMA-ES optimizer\n",
    "es = cma.CMAEvolutionStrategy(\n",
    "    x0=x0,\n",
    "    sigma0=0.25,\n",
    "    inopts={'bounds': [0, 1], \"popsize\": 100},\n",
    ")\n",
    "\n",
    "# speed up things by telling pytorch not to generate a compute graph in the background\n",
    "with torch.no_grad():\n",
    "\n",
    "    # Run the optimization loop using the ask/tell interface -- this uses \n",
    "    # PyCMA's default settings, see the PyCMA documentation for how to modify these\n",
    "    while not es.stop():\n",
    "        xs = es.ask()  # as for new points to evaluate\n",
    "        # convert to Tensor for evaluating the acquisition function\n",
    "        X = torch.from_numpy(xs).to(device=X_init.device, dtype=X_init.dtype)\n",
    "        # evaluate the acquisition function\n",
    "        Y = - acq_func(X)  # the optimizer assumes we're minimizing\n",
    "        y = Y.view(-1).double().numpy()  # convert result into numpy array\n",
    "        es.tell(xs, y)  # return the result to the optimizer\n",
    "\n",
    "# convert result back to torch Tensor\n",
    "best_x = torch.from_numpy(es.best.x)\n",
    "# make sure we have the right device and data type\n",
    "best_x = best_x.to(device=X_init.device, dtype=X_init.dtype)"
   ]
  }
 ],
 "metadata": {
  "kernelspec": {
   "display_name": "Python 3",
   "language": "python",
   "name": "python3"
  },
  "language_info": {
   "codemirror_mode": {
    "name": "ipython",
    "version": 3
   },
   "file_extension": ".py",
   "mimetype": "text/x-python",
   "name": "python",
   "nbconvert_exporter": "python",
   "pygments_lexer": "ipython3",
   "version": "3.6.8"
  }
 },
 "nbformat": 4,
 "nbformat_minor": 2
}
