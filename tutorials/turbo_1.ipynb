{
 "cells": [
  {
   "cell_type": "markdown",
   "metadata": {},
   "source": [
    "## BO with TuRBO-1 and TS/qEI\n",
    "\n",
    "In this tutorial, we show how to implement Trust Region Bayesian Optimization (TuRBO) [1] in a closed loop in BoTorch.\n",
    "\n",
    "This implementation uses one trust region (TuRBO-1) and supports either parallel expected improvement (qEI) or Thompson sampling (TS). We optimize the $10D$ Ackley function on the domain $[-10, 15]^{10}$ and show that TuRBO-1 outperforms qEI as well as Sobol.\n",
    "\n",
    "Since botorch assumes a maximization problem, we will attempt to maximize $-f(x)$ to achieve $\\max_x -f(x)=0$.\n",
    "\n",
    "[1]: [Eriksson, David, et al. Scalable global optimization via local Bayesian optimization. Advances in Neural Information Processing Systems. 2019](https://proceedings.neurips.cc/paper/2019/file/6c990b7aca7bc7058f5e98ea909e924b-Paper.pdf)\n"
   ]
  },
  {
   "cell_type": "code",
   "execution_count": 1,
   "metadata": {},
   "outputs": [],
   "source": [
    "import math\n",
    "\n",
    "import torch\n",
    "from botorch.acquisition import qExpectedImprovement\n",
    "from botorch.fit import fit_gpytorch_model\n",
    "from botorch.models import FixedNoiseGP, SingleTaskGP\n",
    "from botorch.optim import optimize_acqf\n",
    "from botorch.test_functions import Ackley\n",
    "from botorch.utils.transforms import unnormalize\n",
    "from torch.quasirandom import SobolEngine\n",
    "\n",
    "import gpytorch\n",
    "from gpytorch.mlls import ExactMarginalLogLikelihood\n",
    "\n",
    "device = torch.device(\"cuda\" if torch.cuda.is_available() else \"cpu\")\n",
    "dtype = torch.double"
   ]
  },
  {
   "cell_type": "markdown",
   "metadata": {},
   "source": [
    "## Optimize the 10-dimensional Ackley function\n",
    "\n",
    "The goal is to minimize the popular Ackley function:\n",
    "\n",
    "$f(x_1,\\ldots,x_d) = -20\\exp\\left(-0.2 \\sqrt{\\frac{1}{d} \\sum_{j=1}^d x_j^2} \\right) -\\exp \\left( \\frac{1}{d} \\sum_{j=1}^d \\cos(2 \\pi x_j) \\right) + 20 + e$\n",
    "\n",
    "over the domain  $[-10, 15]^{10}$.  The global optimal value of $0$ is attained at $x_1 = \\ldots = x_d = 0$.\n",
    "\n",
    "As mentioned above, since botorch assumes a maximization problem, we instead maximize $-f(x)$."
   ]
  },
  {
   "cell_type": "code",
   "execution_count": 2,
   "metadata": {},
   "outputs": [],
   "source": [
    "fun = Ackley(dim=10, negate=True).to(dtype=dtype, device=device)\n",
    "fun.bounds[0, :].fill_(-10)\n",
    "fun.bounds[1, :].fill_(15)\n",
    "dim = fun.dim\n",
    "lb, ub = fun.bounds\n",
    "\n",
    "\n",
    "def eval_objective(x):\n",
    "    \"\"\"This is a helper function we use to unnormalize and evalaute a point\"\"\"\n",
    "    return fun(unnormalize(x, fun.bounds))"
   ]
  },
  {
   "cell_type": "markdown",
   "metadata": {},
   "source": [
    "## Maintain the TuRBO state\n",
    "TuRBO needs to maintain a state, which includes the length of the trust region, success and failure counters, success and failure tolerance, etc. \n",
    "\n",
    "In this tutorial we store the state in a dictionary and update the state of TuRBO after each batch evaluation. \n",
    "\n",
    "**Note**: These settings assume that the domain has been scaled to $[0, 1]^d$ and that the same batch size is used for each iteration."
   ]
  },
  {
   "cell_type": "code",
   "execution_count": 3,
   "metadata": {},
   "outputs": [],
   "source": [
    "def create_initial_state(dim, batch_size):\n",
    "    return {\n",
    "        \"dim\": dim,\n",
    "        \"batch_size\": batch_size,\n",
    "        \"length\": 0.8,\n",
    "        \"length_min\": 0.5 ** 7,\n",
    "        \"length_max\": 1.6,\n",
    "        \"failure_counter\": 0,\n",
    "        \"failure_tolerance\": math.ceil(\n",
    "            max([4.0 / batch_size, float(dim) / batch_size])\n",
    "        ),\n",
    "        \"success_counter\": 0,\n",
    "        \"success_tolerance\": 10,  # Note: The original paper uses 3\n",
    "        \"best_value\": -float(\"inf\"),\n",
    "        \"restart_triggered\": False,\n",
    "    }\n",
    "\n",
    "\n",
    "def update_state(state, Y_next):\n",
    "    if max(Y_next) > state[\"best_value\"] + 1e-3 * math.fabs(state[\"best_value\"]):\n",
    "        state[\"success_counter\"] += 1\n",
    "        state[\"failure_counter\"] = 0\n",
    "    else:\n",
    "        state[\"success_counter\"] = 0\n",
    "        state[\"failure_counter\"] += 1\n",
    "\n",
    "    if state[\"success_counter\"] == state[\"success_tolerance\"]:  # Expand trust region\n",
    "        state[\"length\"] = min(2.0 * state[\"length\"], state[\"length_max\"])\n",
    "        state[\"success_counter\"] = 0\n",
    "    elif state[\"failure_counter\"] == state[\"failure_tolerance\"]:  # Shrink trust region\n",
    "        state[\"length\"] /= 2.0\n",
    "        state[\"failure_counter\"] = 0\n",
    "\n",
    "    state[\"best_value\"] = max(state[\"best_value\"], max(Y_next).item())\n",
    "    if state[\"length\"] < state[\"length_min\"]:\n",
    "        state[\"restart_triggered\"] = True\n",
    "    return state"
   ]
  },
  {
   "cell_type": "markdown",
   "metadata": {},
   "source": [
    "## Generate initial points\n",
    "This generates an initial set of Sobol points that we use to start of the BO loop."
   ]
  },
  {
   "cell_type": "code",
   "execution_count": 4,
   "metadata": {},
   "outputs": [],
   "source": [
    "def get_initial_points(dim, n_pts):\n",
    "    sobol = SobolEngine(dimension=dim, scramble=True)\n",
    "    X_init = sobol.draw(n=n_pts).to(dtype=dtype, device=device)\n",
    "    return X_init"
   ]
  },
  {
   "cell_type": "markdown",
   "metadata": {},
   "source": [
    "## Generate new batch\n",
    "Given the current `state` and a probabilistic (GP) `model` built from observations `X` and `Y`, we generate a new batch of points.  \n",
    "\n",
    "This method works on the domain $[0, 1]^d$, so make sure to not pass in observations from the true domain.  `unnormalize` is called before the true function is evaluated which will first map the points back to the original domain.\n",
    "\n",
    "We support either TS and qEI which can be specified via the `acqf` argument."
   ]
  },
  {
   "cell_type": "code",
   "execution_count": 5,
   "metadata": {},
   "outputs": [],
   "source": [
    "def generate_batch(\n",
    "    state,\n",
    "    model,  # GP model\n",
    "    X,  # Evaluated points on the domain [0, 1]^d\n",
    "    Y,  # Function values\n",
    "    batch_size,\n",
    "    n_candidates=None,  # Number of candidates for Thompson sampling\n",
    "    num_restarts=10,\n",
    "    raw_samples=512,\n",
    "    acqf=\"ts\",  # \"ei\" or \"ts\"\n",
    "):\n",
    "    assert acqf in (\"ts\", \"ei\")\n",
    "    assert X.min() >= 0.0 and X.max() <= 1.0 and torch.all(torch.isfinite(Y))\n",
    "    if n_candidates is None:\n",
    "        n_candidates = min(5000, max(2000, 200 * X.shape[-1]))\n",
    "\n",
    "    # Scale the TR to be proportional to the lengthscales\n",
    "    x_center = X[Y.argmax(), :].clone()\n",
    "    weights = model.covar_module.base_kernel.lengthscale.squeeze().detach()\n",
    "    weights = weights / weights.mean()\n",
    "    weights = weights / torch.prod(weights.pow(1.0 / len(weights)))\n",
    "    tr_lb = torch.clamp(x_center - weights * state[\"length\"] / 2.0, 0.0, 1.0)\n",
    "    tr_ub = torch.clamp(x_center + weights * state[\"length\"] / 2.0, 0.0, 1.0)\n",
    "\n",
    "    if acqf == \"ts\":\n",
    "        dim = X.shape[-1]\n",
    "        sobol = SobolEngine(dim, scramble=True)\n",
    "        pert = sobol.draw(n_candidates).to(dtype=dtype, device=device)\n",
    "        pert = tr_lb + (tr_ub - tr_lb) * pert\n",
    "\n",
    "        # Create a perturbation mask\n",
    "        prob_perturb = min(20.0 / dim, 1.0)\n",
    "        mask = (\n",
    "            torch.rand(n_candidates, dim, dtype=dtype, device=device)\n",
    "            <= prob_perturb\n",
    "        )\n",
    "        ind = torch.where(mask.sum(dim=1) == 0)[0]\n",
    "        mask[ind, torch.randint(0, dim - 1, size=(len(ind),), device=device)] = 1\n",
    "\n",
    "        # Create candidate points from the perturbations and the mask        \n",
    "        X_cand = x_center.expand(n_candidates, dim).clone()\n",
    "        X_cand[mask] = pert[mask]\n",
    "\n",
    "        # Sample on the candidate points\n",
    "        with torch.no_grad(), gpytorch.settings.cholesky_jitter(1e-4):\n",
    "            y_cand = model(X_cand).sample(torch.Size([batch_size])).t()\n",
    "\n",
    "        # Select the best candidates\n",
    "        X_next = torch.zeros(batch_size, dim, dtype=dtype, device=device)\n",
    "        for i in range(batch_size):\n",
    "            indbest = torch.argmax(y_cand[:, i])\n",
    "            X_next[i, :] = X_cand[indbest, :].clone()\n",
    "            y_cand[indbest, :] = -float(\"inf\")  # Make sure we never pick this point again\n",
    "\n",
    "    elif acqf == \"ei\":\n",
    "        ei = qExpectedImprovement(model, train_Y.max(), maximize=True)\n",
    "        X_next, acq_value = optimize_acqf(\n",
    "            ei,\n",
    "            bounds=torch.stack([tr_lb, tr_ub]),\n",
    "            q=batch_size,\n",
    "            num_restarts=num_restarts,\n",
    "            raw_samples=raw_samples,\n",
    "        )\n",
    "\n",
    "    return X_next"
   ]
  },
  {
   "cell_type": "markdown",
   "metadata": {},
   "source": [
    "## Optimization loop\n",
    "This simple loop runs one instance of TuRBO-1 with Thompson sampling until convergence.\n",
    "\n",
    "TuRBO-1 is a local optimizer that can be used for a fixed evaluation budget in a multi-start fashion.  Once TuRBO converges, `state[\"restart_triggered\"]` will be set to true and the run should be aborted.  If you want to run more evaluations with TuRBO, you simply generate a new set of initial points and then keep generating batches until convergence or when the evaluation budget has been exceeded.  It's important to note that evaluations from previous instances are discarded when TuRBO restarts.\n",
    "\n",
    "NOTE: We use a `FixedNoiseGP` in this case as the problem is noise-free."
   ]
  },
  {
   "cell_type": "code",
   "execution_count": 6,
   "metadata": {},
   "outputs": [],
   "source": [
    "batch_size = 4\n",
    "n_init = 20  # 2*dim, which corresponds to 5 batches of 4"
   ]
  },
  {
   "cell_type": "code",
   "execution_count": 7,
   "metadata": {},
   "outputs": [
    {
     "name": "stdout",
     "output_type": "stream",
     "text": [
      "24) Best value: -1.48e+01, TR length: 8.00e-01\n",
      "28) Best value: -1.12e+01, TR length: 8.00e-01\n",
      "32) Best value: -9.68e+00, TR length: 8.00e-01\n",
      "36) Best value: -9.68e+00, TR length: 8.00e-01\n",
      "40) Best value: -9.68e+00, TR length: 8.00e-01\n",
      "44) Best value: -8.93e+00, TR length: 8.00e-01\n",
      "48) Best value: -8.93e+00, TR length: 8.00e-01\n",
      "52) Best value: -8.93e+00, TR length: 8.00e-01\n",
      "56) Best value: -8.44e+00, TR length: 8.00e-01\n",
      "60) Best value: -8.44e+00, TR length: 8.00e-01\n",
      "64) Best value: -8.44e+00, TR length: 8.00e-01\n",
      "68) Best value: -8.44e+00, TR length: 4.00e-01\n",
      "72) Best value: -6.58e+00, TR length: 4.00e-01\n",
      "76) Best value: -6.21e+00, TR length: 4.00e-01\n",
      "80) Best value: -6.21e+00, TR length: 4.00e-01\n",
      "84) Best value: -6.21e+00, TR length: 4.00e-01\n",
      "88) Best value: -5.99e+00, TR length: 4.00e-01\n",
      "92) Best value: -5.99e+00, TR length: 4.00e-01\n",
      "96) Best value: -5.99e+00, TR length: 4.00e-01\n",
      "100) Best value: -5.89e+00, TR length: 4.00e-01\n",
      "104) Best value: -5.89e+00, TR length: 4.00e-01\n",
      "108) Best value: -5.89e+00, TR length: 4.00e-01\n",
      "112) Best value: -5.76e+00, TR length: 4.00e-01\n",
      "116) Best value: -5.76e+00, TR length: 4.00e-01\n",
      "120) Best value: -5.76e+00, TR length: 4.00e-01\n",
      "124) Best value: -5.76e+00, TR length: 2.00e-01\n",
      "128) Best value: -4.44e+00, TR length: 2.00e-01\n",
      "132) Best value: -3.39e+00, TR length: 2.00e-01\n",
      "136) Best value: -3.39e+00, TR length: 2.00e-01\n",
      "140) Best value: -3.39e+00, TR length: 2.00e-01\n",
      "144) Best value: -3.39e+00, TR length: 1.00e-01\n",
      "148) Best value: -3.29e+00, TR length: 1.00e-01\n",
      "152) Best value: -2.78e+00, TR length: 1.00e-01\n",
      "156) Best value: -2.78e+00, TR length: 1.00e-01\n",
      "160) Best value: -2.78e+00, TR length: 1.00e-01\n",
      "164) Best value: -2.78e+00, TR length: 5.00e-02\n",
      "168) Best value: -2.28e+00, TR length: 5.00e-02\n",
      "172) Best value: -2.28e+00, TR length: 5.00e-02\n",
      "176) Best value: -2.28e+00, TR length: 5.00e-02\n",
      "180) Best value: -2.28e+00, TR length: 2.50e-02\n",
      "184) Best value: -2.28e+00, TR length: 2.50e-02\n",
      "188) Best value: -1.39e+00, TR length: 2.50e-02\n",
      "192) Best value: -1.39e+00, TR length: 2.50e-02\n",
      "196) Best value: -1.30e+00, TR length: 2.50e-02\n",
      "200) Best value: -1.30e+00, TR length: 2.50e-02\n",
      "204) Best value: -1.30e+00, TR length: 2.50e-02\n",
      "208) Best value: -1.22e+00, TR length: 2.50e-02\n",
      "212) Best value: -9.78e-01, TR length: 2.50e-02\n",
      "216) Best value: -5.81e-01, TR length: 2.50e-02\n",
      "220) Best value: -5.81e-01, TR length: 2.50e-02\n",
      "224) Best value: -5.81e-01, TR length: 2.50e-02\n",
      "228) Best value: -5.81e-01, TR length: 1.25e-02\n",
      "232) Best value: -2.46e-01, TR length: 1.25e-02\n",
      "236) Best value: -2.46e-01, TR length: 1.25e-02\n",
      "240) Best value: -2.46e-01, TR length: 1.25e-02\n",
      "244) Best value: -2.25e-01, TR length: 1.25e-02\n",
      "248) Best value: -2.25e-01, TR length: 1.25e-02\n",
      "252) Best value: -1.40e-01, TR length: 1.25e-02\n",
      "256) Best value: -1.40e-01, TR length: 1.25e-02\n",
      "260) Best value: -1.40e-01, TR length: 1.25e-02\n",
      "264) Best value: -1.40e-01, TR length: 6.25e-03\n"
     ]
    }
   ],
   "source": [
    "X_turbo = get_initial_points(dim, n_init)\n",
    "Y_turbo = torch.tensor([eval_objective(x) for x in X_turbo], dtype=dtype, device=device).unsqueeze(-1)\n",
    "\n",
    "state = create_initial_state(dim, batch_size=batch_size)\n",
    "\n",
    "while not state[\"restart_triggered\"]:  # Run until TuRBO converges\n",
    "    # Fit a GP model\n",
    "    train_Y = (Y_turbo - Y_turbo.mean()) / Y_turbo.std()\n",
    "    model = FixedNoiseGP(X_turbo, train_Y, torch.full_like(train_Y, 1e-6))\n",
    "    mll = ExactMarginalLogLikelihood(model.likelihood, model)\n",
    "    fit_gpytorch_model(mll)\n",
    "    \n",
    "    # Create a batch\n",
    "    X_next = generate_batch(\n",
    "        state=state,\n",
    "        model=model,\n",
    "        X=X_turbo,\n",
    "        Y=train_Y,\n",
    "        batch_size=batch_size,\n",
    "        n_candidates=min(5000, max(2000, 200 * dim)),\n",
    "        num_restarts=10,\n",
    "        raw_samples=512,\n",
    "        acqf=\"ts\",\n",
    "    )\n",
    "    Y_next = torch.tensor(\n",
    "        [eval_objective(x) for x in X_next], dtype=dtype, device=device\n",
    "    ).unsqueeze(-1)\n",
    "\n",
    "    # Update state\n",
    "    state = update_state(state=state, Y_next=Y_next)\n",
    "\n",
    "    # Append data\n",
    "    X_turbo = torch.cat((X_turbo, X_next), dim=0)\n",
    "    Y_turbo = torch.cat((Y_turbo, Y_next), dim=0)\n",
    "\n",
    "    # Print current status\n",
    "    print(\n",
    "        f\"{len(X_turbo)}) Best value: {state['best_value']:.2e}, TR length: {state['length']:.2e}\"\n",
    "    )"
   ]
  },
  {
   "cell_type": "markdown",
   "metadata": {},
   "source": [
    "## EI\n",
    "As a baseline, we compare TuRBO to qEI"
   ]
  },
  {
   "cell_type": "code",
   "execution_count": 8,
   "metadata": {},
   "outputs": [
    {
     "name": "stdout",
     "output_type": "stream",
     "text": [
      "24) Best value: -1.39e+01\n",
      "28) Best value: -1.17e+01\n",
      "32) Best value: -1.13e+01\n",
      "36) Best value: -1.08e+01\n",
      "40) Best value: -1.08e+01\n",
      "44) Best value: -1.08e+01\n",
      "48) Best value: -1.08e+01\n",
      "52) Best value: -1.00e+01\n",
      "56) Best value: -9.82e+00\n",
      "60) Best value: -9.82e+00\n",
      "64) Best value: -9.82e+00\n",
      "68) Best value: -9.19e+00\n",
      "72) Best value: -9.19e+00\n",
      "76) Best value: -9.19e+00\n",
      "80) Best value: -9.19e+00\n",
      "84) Best value: -9.19e+00\n",
      "88) Best value: -9.19e+00\n",
      "92) Best value: -6.04e+00\n",
      "96) Best value: -6.04e+00\n",
      "100) Best value: -6.04e+00\n",
      "104) Best value: -6.04e+00\n",
      "108) Best value: -6.04e+00\n",
      "112) Best value: -6.04e+00\n",
      "116) Best value: -6.04e+00\n",
      "120) Best value: -6.04e+00\n",
      "124) Best value: -6.04e+00\n",
      "128) Best value: -6.04e+00\n",
      "132) Best value: -6.04e+00\n",
      "136) Best value: -6.04e+00\n",
      "140) Best value: -6.04e+00\n",
      "144) Best value: -6.04e+00\n",
      "148) Best value: -6.04e+00\n",
      "152) Best value: -6.04e+00\n",
      "156) Best value: -6.04e+00\n",
      "160) Best value: -6.04e+00\n",
      "164) Best value: -6.04e+00\n",
      "168) Best value: -6.04e+00\n",
      "172) Best value: -6.04e+00\n",
      "176) Best value: -6.04e+00\n",
      "180) Best value: -6.04e+00\n",
      "184) Best value: -6.04e+00\n",
      "188) Best value: -6.04e+00\n",
      "192) Best value: -6.04e+00\n",
      "196) Best value: -6.04e+00\n",
      "200) Best value: -6.04e+00\n",
      "204) Best value: -6.04e+00\n",
      "208) Best value: -6.04e+00\n",
      "212) Best value: -6.04e+00\n",
      "216) Best value: -6.04e+00\n",
      "220) Best value: -6.04e+00\n",
      "224) Best value: -6.04e+00\n",
      "228) Best value: -6.04e+00\n",
      "232) Best value: -6.04e+00\n",
      "236) Best value: -6.04e+00\n",
      "240) Best value: -6.04e+00\n",
      "244) Best value: -6.04e+00\n",
      "248) Best value: -6.04e+00\n",
      "252) Best value: -6.04e+00\n",
      "256) Best value: -6.04e+00\n",
      "260) Best value: -6.04e+00\n",
      "264) Best value: -6.04e+00\n"
     ]
    }
   ],
   "source": [
    "X_ei = get_initial_points(dim, n_init)\n",
    "Y_ei = torch.tensor([eval_objective(x) for x in X_ei], dtype=dtype, device=device).unsqueeze(-1)\n",
    "\n",
    "while len(Y_ei) < len(Y_turbo):\n",
    "    train_Y = (Y_ei - Y_ei.mean()) / Y_ei.std()\n",
    "    model = FixedNoiseGP(X_ei, train_Y, torch.full_like(train_Y, 1e-6))\n",
    "    mll = ExactMarginalLogLikelihood(model.likelihood, model)\n",
    "    fit_gpytorch_model(mll)\n",
    "\n",
    "    # Create a batch\n",
    "    ei = qExpectedImprovement(model, train_Y.max(), maximize=True)\n",
    "    candidate, acq_value = optimize_acqf(\n",
    "        ei,\n",
    "        bounds=torch.stack(\n",
    "            [\n",
    "                torch.zeros(dim, dtype=dtype, device=device),\n",
    "                torch.ones(dim, dtype=dtype, device=device),\n",
    "            ]\n",
    "        ),\n",
    "        q=batch_size,\n",
    "        num_restarts=10,\n",
    "        raw_samples=512,\n",
    "    )\n",
    "    Y_next = torch.tensor(\n",
    "        [eval_objective(x) for x in candidate], dtype=dtype, device=device\n",
    "    ).unsqueeze(-1)\n",
    "\n",
    "    # Append data\n",
    "    X_ei = torch.cat((X_ei, candidate), axis=0)\n",
    "    Y_ei = torch.cat((Y_ei, Y_next), axis=0)\n",
    "\n",
    "    # Print current status\n",
    "    print(f\"{len(X_ei)}) Best value: {Y_ei.max().item():.2e}\")"
   ]
  },
  {
   "cell_type": "markdown",
   "metadata": {},
   "source": [
    "## Sobol"
   ]
  },
  {
   "cell_type": "code",
   "execution_count": 9,
   "metadata": {},
   "outputs": [],
   "source": [
    "X_Sobol = (SobolEngine(dim, scramble=True).draw(len(X_turbo)).to(dtype=dtype, device=device))\n",
    "Y_Sobol = torch.tensor([eval_objective(x) for x in X_Sobol], dtype=dtype, device=device).unsqueeze(-1)"
   ]
  },
  {
   "cell_type": "markdown",
   "metadata": {},
   "source": [
    "## Compare the methods"
   ]
  },
  {
   "cell_type": "code",
   "execution_count": 10,
   "metadata": {},
   "outputs": [
    {
     "data": {
      "image/png": "[encoded data removed]",
      "text/plain": [
       "<Figure size 576x432 with 1 Axes>"
      ]
     },
     "metadata": {
      "needs_background": "light"
     },
     "output_type": "display_data"
    }
   ],
   "source": [
    "import matplotlib\n",
    "import matplotlib.pyplot as plt\n",
    "import numpy as np\n",
    "from matplotlib import rc\n",
    "\n",
    "%matplotlib inline\n",
    "\n",
    "\n",
    "names = [\"TuRBO-1\", \"EI\", \"Sobol\"]\n",
    "runs = [Y_turbo, Y_ei, Y_Sobol]\n",
    "fig, ax = plt.subplots(figsize=(8, 6))\n",
    "\n",
    "for name, run in zip(names, runs):\n",
    "    fx = np.maximum.accumulate(run.cpu())\n",
    "    plt.plot(fx, marker=\"\", lw=3)\n",
    "\n",
    "plt.plot([0, len(Y_turbo)], [fun.optimal_value, fun.optimal_value], \"k--\", lw=3)\n",
    "plt.xlabel(\"Function value\", fontsize=18)\n",
    "plt.xlabel(\"Number of evaluations\", fontsize=18)\n",
    "plt.title(\"10D Ackley\", fontsize=24)\n",
    "plt.xlim([0, len(Y_turbo)])\n",
    "plt.ylim([-20, 1])\n",
    "\n",
    "plt.grid(True)\n",
    "plt.tight_layout()\n",
    "plt.legend(\n",
    "    names + [\"Global optimal value\"],\n",
    "    loc=\"lower center\",\n",
    "    bbox_to_anchor=(0, -0.08, 1, 1),\n",
    "    bbox_transform=plt.gcf().transFigure,\n",
    "    ncol=4,\n",
    "    fontsize=16,\n",
    ")\n",
    "plt.show()"
   ]
  },
  {
   "cell_type": "code",
   "execution_count": 3,
   "metadata": {},
   "outputs": [
    {
     "data": {
      "text/plain": [
       "False"
      ]
     },
     "execution_count": 3,
     "metadata": {},
     "output_type": "execute_result"
    }
   ],
   "source": [
    "bool(\"\")"
   ]
  },
  {
   "cell_type": "code",
   "execution_count": null,
   "metadata": {},
   "outputs": [],
   "source": []
  }
 ],
 "metadata": {
  "kernelspec": {
   "display_name": "Python 3",
   "language": "python",
   "name": "python3"
  },
  "language_info": {
   "codemirror_mode": {
    "name": "ipython",
    "version": 3
   },
   "file_extension": ".py",
   "mimetype": "text/x-python",
   "name": "python",
   "nbconvert_exporter": "python",
   "pygments_lexer": "ipython3",
   "version": "3.7.9"
  }
 },
 "nbformat": 4,
 "nbformat_minor": 4
}
