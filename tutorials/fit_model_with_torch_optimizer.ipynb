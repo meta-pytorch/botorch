{
 "cells": [
  {
   "cell_type": "markdown",
   "metadata": {},
   "source": [
    "## Fitting models in BoTorch with a torch.optim.Optimizer\n",
    "\n",
    "BoTorch provides a convenient `botorch.fit.fit_gpytorch_model` function with sensible defaults that work on most basic models, including those that botorch ships with. Internally, this function uses L-BFGS-B to fit the parameters. However, in more advanced use cases you may need or want to implement your own model fitting logic.\n",
    "\n",
    "This tutorial allows you to customize model fitting to your needs using the familiar PyTorch-style model fitting loop.\n",
    "\n",
    "This tutorial is adapted from GPyTorch's [Simple GP Regression Tutorial](https://github.com/cornellius-gp/gpytorch/blob/master/examples/01_Simple_GP_Regression/Simple_GP_Regression.ipynb) and has very few changes because the out-of-the box models that BoTorch provides are GPyTorch models; in fact, they are proper subclasses that add the `botorch.models.Model` API functions."
   ]
  },
  {
   "cell_type": "code",
   "execution_count": 1,
   "metadata": {},
   "outputs": [],
   "source": [
    "import math\n",
    "import torch\n",
    "\n",
    "# use a GPU if available\n",
    "device = torch.device(\"cuda\" if torch.cuda.is_available() else \"cpu\")\n",
    "dtype = torch.float"
   ]
  },
  {
   "cell_type": "markdown",
   "metadata": {},
   "source": [
    "### Set up function to model\n",
    "In this tutorial we will model a simple sinusoidal function with i.i.d. Gaussian noise:\n",
    "\n",
    "$$y = \\sin(2\\pi x) + \\epsilon, ~\\epsilon \\sim \\mathcal N(0, 0.15)$$"
   ]
  },
  {
   "cell_type": "markdown",
   "metadata": {},
   "source": [
    "#### Initialize training data"
   ]
  },
  {
   "cell_type": "code",
   "execution_count": 2,
   "metadata": {},
   "outputs": [],
   "source": [
    "# use regular spaced points on the interval [0, 1]\n",
    "train_X = torch.linspace(0, 1, 15, dtype=dtype, device=device)\n",
    "# training data needs to be explicitly multi-dimensional\n",
    "train_X = train_X.unsqueeze(1)\n",
    "\n",
    "# sample observed values and add some synthetic noise\n",
    "train_Y = torch.sin(train_X * (2 * math.pi)) + 0.15 * torch.randn_like(train_X)\n",
    "\n",
    "# input observations must be single-dimensional for single-output model\n",
    "train_Y = train_Y.view(-1)"
   ]
  },
  {
   "cell_type": "markdown",
   "metadata": {},
   "source": [
    "#### Initialize the model\n",
    "We will model the function using a `SingleTaskGP`, which by default uses a `GaussianLikelihood` and infers the unknown noise level.\n",
    "\n",
    "The default optimizer for the `SingleTaskGP` is L-BFGS-B, which takes as input explicit bounds on the noise parameter. However, the `torch` optimizers don't support parameter bounds as input. To use the `torch` optimizers, then, we'll need to manually register a constraint on the noise level. When registering a constraint, the `softplus` transform is applied by default, enabling us to enforce a lower bound on the noise.\n",
    "\n",
    "**Note**: Without manual registration, the model itself does not apply any constraints, due to the interaction between constraints and transforms. Although the `SingleTaskGP` constructor does in fact define a constraint, the constructor sets `transform=None`, which means that the constraint is not enforced. See the [GPyTorch constraints module](https://github.com/cornellius-gp/gpytorch/blob/master/gpytorch/constraints/constraints.py) for additional information.\n"
   ]
  },
  {
   "cell_type": "code",
   "execution_count": 3,
   "metadata": {},
   "outputs": [],
   "source": [
    "from botorch.models import SingleTaskGP\n",
    "from gpytorch.constraints import GreaterThan\n",
    "\n",
    "\n",
    "model = SingleTaskGP(train_X=train_X, train_Y=train_Y)\n",
    "model.likelihood.noise_covar.register_constraint(\"raw_noise\", GreaterThan(1e-5))"
   ]
  },
  {
   "cell_type": "markdown",
   "metadata": {},
   "source": [
    "#### Define marginal log likelihood \n",
    "We will jointly optimize the kernel hyperparameters and the likelihood's noise parameter, by minimizing the negative `gpytorch.mlls.ExactMarginalLogLikelihood` (our loss function)."
   ]
  },
  {
   "cell_type": "code",
   "execution_count": 4,
   "metadata": {},
   "outputs": [],
   "source": [
    "from gpytorch.mlls import ExactMarginalLogLikelihood\n",
    "\n",
    "mll = ExactMarginalLogLikelihood(likelihood=model.likelihood, model=model)\n",
    "# set mll and all submodules to the specified dtype and device\n",
    "mll = mll.to(train_X)"
   ]
  },
  {
   "cell_type": "markdown",
   "metadata": {},
   "source": [
    "#### Define optimizer and specify parameters to optimize\n",
    "We will use stochastic gradient descent (`torch.optim.SGD`) to optimize the kernel hyperparameters and the noise level. In this example, we will use a simple fixed learning rate of 0.1, but in practice the learning rate may need to be adjusted.\n",
    "\n",
    "Notes:\n",
    "- As the `GaussianLikelihood` module is a of child (submodule) of the `SingleTaskGP` moduel, `model.parameters()` will also include the noise level of the `GaussianLikelihood`. \n",
    "- A subset of the parameters could be passed to the optimizer to tune those parameters, while leaving the other parameters fixed."
   ]
  },
  {
   "cell_type": "code",
   "execution_count": 5,
   "metadata": {},
   "outputs": [],
   "source": [
    "from torch.optim import SGD\n",
    "\n",
    "optimizer = SGD([{'params': model.parameters()}], lr=0.1)"
   ]
  },
  {
   "cell_type": "markdown",
   "metadata": {},
   "source": [
    "#### Fit model hyperparameters and noise level\n",
    "Now we are ready to write our optimization loop. We will perform 150 epochs of stochastic gradient descent using our entire training set."
   ]
  },
  {
   "cell_type": "code",
   "execution_count": 6,
   "metadata": {},
   "outputs": [
    {
     "name": "stdout",
     "output_type": "stream",
     "text": [
      "Epoch  10/150 - Loss: 1.944 lengthscale: 0.648 noise: 2.000\n",
      "Epoch  20/150 - Loss: 1.907 lengthscale: 0.605 noise: 1.858\n",
      "Epoch  30/150 - Loss: 1.870 lengthscale: 0.568 noise: 1.713\n",
      "Epoch  40/150 - Loss: 1.831 lengthscale: 0.536 noise: 1.568\n",
      "Epoch  50/150 - Loss: 1.791 lengthscale: 0.509 noise: 1.422\n",
      "Epoch  60/150 - Loss: 1.749 lengthscale: 0.484 noise: 1.278\n",
      "Epoch  70/150 - Loss: 1.704 lengthscale: 0.462 noise: 1.136\n",
      "Epoch  80/150 - Loss: 1.657 lengthscale: 0.442 noise: 0.999\n",
      "Epoch  90/150 - Loss: 1.606 lengthscale: 0.423 noise: 0.867\n",
      "Epoch 100/150 - Loss: 1.552 lengthscale: 0.405 noise: 0.743\n",
      "Epoch 110/150 - Loss: 1.495 lengthscale: 0.387 noise: 0.629\n",
      "Epoch 120/150 - Loss: 1.435 lengthscale: 0.369 noise: 0.524\n",
      "Epoch 130/150 - Loss: 1.372 lengthscale: 0.352 noise: 0.432\n",
      "Epoch 140/150 - Loss: 1.306 lengthscale: 0.337 noise: 0.351\n",
      "Epoch 150/150 - Loss: 1.239 lengthscale: 0.324 noise: 0.282\n"
     ]
    }
   ],
   "source": [
    "NUM_EPOCHS = 150\n",
    "\n",
    "model.train()\n",
    "\n",
    "for epoch in range(NUM_EPOCHS):\n",
    "    # clear gradients\n",
    "    optimizer.zero_grad()\n",
    "    # forward pass through the model to obtain the output MultivariateNormal\n",
    "    output = model(train_X)\n",
    "    # Compute negative marginal log likelihood\n",
    "    loss = - mll(output, train_Y)\n",
    "    # back prop gradients\n",
    "    loss.backward()\n",
    "    # print every 10 iterations\n",
    "    if (epoch + 1) % 10 == 0:\n",
    "        print(\n",
    "            f\"Epoch {epoch+1:>3}/{NUM_EPOCHS} - Loss: {loss.item():>4.3f} \"\n",
    "            f\"lengthscale: {model.covar_module.base_kernel.lengthscale.item():>4.3f} \" \n",
    "            f\"noise: {model.likelihood.noise.item():>4.3f}\" \n",
    "         )\n",
    "    optimizer.step()"
   ]
  },
  {
   "cell_type": "markdown",
   "metadata": {},
   "source": [
    "#### Compute posterior over test points and plot fit\n",
    "We plot the posterior mean and the 2 standard deviations from the mean."
   ]
  },
  {
   "cell_type": "code",
   "execution_count": 7,
   "metadata": {},
   "outputs": [],
   "source": [
    "# set model (and likelihood)\n",
    "model.eval();"
   ]
  },
  {
   "cell_type": "code",
   "execution_count": 8,
   "metadata": {},
   "outputs": [
    {
     "data": {
      "image/png": "[encoded data removed]",
      "text/plain": [
       "<Figure size 432x288 with 1 Axes>"
      ]
     },
     "metadata": {
      "needs_background": "light"
     },
     "output_type": "display_data"
    }
   ],
   "source": [
    "from matplotlib import pyplot as plt\n",
    "%matplotlib inline\n",
    "\n",
    "# Initialize plot\n",
    "f, ax = plt.subplots(1, 1, figsize=(6, 4))\n",
    "# test model on 101 regular spaced points on the interval [0, 1]\n",
    "test_X = torch.linspace(0, 1, 101, dtype=dtype, device=device)\n",
    "# no need for gradients\n",
    "with torch.no_grad():\n",
    "    # compute posterior\n",
    "    posterior = model.posterior(test_X)\n",
    "    # Get upper and lower confidence bounds (2 standard deviations from the mean)\n",
    "    lower, upper = posterior.mvn.confidence_region()\n",
    "    # Plot training points as black stars\n",
    "    ax.plot(train_X.cpu().numpy(), train_Y.cpu().numpy(), 'k*')\n",
    "    # Plot posterior means as blue line\n",
    "    ax.plot(test_X.cpu().numpy(), posterior.mean.cpu().numpy(), 'b')\n",
    "    # Shade between the lower and upper confidence bounds\n",
    "    ax.fill_between(test_X.cpu().numpy(), lower.cpu().numpy(), upper.cpu().numpy(), alpha=0.5)\n",
    "ax.legend(['Observed Data', 'Mean', 'Confidence'])\n",
    "plt.tight_layout()"
   ]
  },
  {
   "cell_type": "markdown",
   "metadata": {},
   "source": [
    "### Interfacing with Ax\n",
    "\n",
    "It is simple to package up a custom optimizer loop like the one above and use it within Ax. As described in the [Using BoTorch with Ax tutorial](./custom_botorch_model_in_ax), this requires defining a custom `model_constructor` callable that can then be passed to the `get_botorch` factory function."
   ]
  },
  {
   "cell_type": "code",
   "execution_count": 9,
   "metadata": {},
   "outputs": [],
   "source": [
    "def _get_and_fit_model(Xs, Ys, **kwargs):\n",
    "    \n",
    "    train_X, train_Y = Xs[0], Ys[0]\n",
    "    model = SingleTaskGP(train_X=train_X, train_Y=train_Y)\n",
    "    mll = ExactMarginalLogLikelihood(model.likelihood, model).to(train_X)\n",
    "    model.train()\n",
    "    \n",
    "    optimizer = SGD([{'params': model.parameters()}], lr=kwargs.get(\"lr\"))\n",
    "    for epoch in range(kwargs.get(\"epochs\")):\n",
    "        optimizer.zero_grad()\n",
    "        output = model(train_X)\n",
    "        loss = -mll(output, train_Y)\n",
    "        loss.backward()\n",
    "        optimizer.step()\n",
    "    \n",
    "    return model"
   ]
  }
 ],
 "metadata": {
  "kernelspec": {
   "display_name": "Python 3",
   "language": "python",
   "name": "python3"
  },
  "language_info": {
   "codemirror_mode": {
    "name": "ipython",
    "version": 3
   },
   "file_extension": ".py",
   "mimetype": "text/x-python",
   "name": "python",
   "nbconvert_exporter": "python",
   "pygments_lexer": "ipython3",
   "version": "3.7.3"
  }
 },
 "nbformat": 4,
 "nbformat_minor": 1
}
