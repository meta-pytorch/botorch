{
 "cells": [
  {
   "cell_type": "markdown",
   "metadata": {},
   "source": [
    "## Batched Bayesian optimization with EI on Hartmann6\n",
    "\n",
    "This example walks through how to perform batched Bayesian optimization (BO) on the 6-dimensional synthetic test function 'Hartmann6' with noiseless observations in botorch."
   ]
  },
  {
   "cell_type": "markdown",
   "metadata": {},
   "source": [
    "#### Set up device and data type"
   ]
  },
  {
   "cell_type": "code",
   "execution_count": 2,
   "metadata": {
    "collapsed": true
   },
   "outputs": [],
   "source": [
    "import torch\n",
    "\n",
    "# let's run this on the GPU if there is one available\n",
    "if torch.cuda.is_available():\n",
    "    device = torch.device(\"cuda\")\n",
    "else:\n",
    "    device = torch.device(\"cpu\")\n",
    "\n",
    "# set the seed to get comparable results\n",
    "initial_seed = 0"
   ]
  },
  {
   "cell_type": "markdown",
   "metadata": {},
   "source": [
    "The Hartmann6 optimization problem is to minimize\n",
    "\n",
    "$$f(x) = -\\sum_{i=1}^4 \\alpha_i \\exp \\left( -\\sum_{j=1}^6 A_{ij} (x_j - P_{ij})^2  \\right),$$\n",
    "\n",
    "over $x \\in [0,1]^6$. The values of $\\alpha_i$, $A_{ij}$, and $P_{ij}$ can be found in `botorch/test_functions/hartmann6.py`. Since botorch assumes a maximization problem, we will attempt to maximize $-f(x)$ to achieve $\\max_{x} -f(x) = 3.32237$."
   ]
  },
  {
   "cell_type": "markdown",
   "metadata": {},
   "source": [
    "#### Set up oracle (i.e., the function to optimize) and define a random point sampler"
   ]
  },
  {
   "cell_type": "code",
   "execution_count": 3,
   "metadata": {
    "collapsed": true
   },
   "outputs": [],
   "source": [
    "from botorch.test_functions.hartmann6 import neg_hartmann6, GLOBAL_MAXIMUM\n",
    "\n",
    "DATA_DIM = 6  # the dimension of x\n",
    "MAX_VAL = GLOBAL_MAXIMUM\n",
    "\n",
    "def oracle(X):\n",
    "    \"\"\"Oracle function for generating observations, where X is a `b x q x 6` tensor.\n",
    "    Some shape manipulations are performed here to adhere with neg_hartmann6, which accepts\n",
    "    tensors of shape `b' x 6`.\n",
    "    \"\"\"\n",
    "    q = X.shape[-2]\n",
    "    Y = neg_hartmann6(X.view(-1, DATA_DIM))\n",
    "    return Y.reshape(-1, q)\n",
    "\n",
    "def gen_x(num_samples, q=1):\n",
    "    \"\"\"Generate random points in the unit cube [0, 1]^6\"\"\"\n",
    "    return torch.rand(num_samples, q, DATA_DIM, device=device)"
   ]
  },
  {
   "cell_type": "code",
   "execution_count": 4,
   "metadata": {},
   "outputs": [
    {
     "name": "stdout",
     "output_type": "stream",
     "text": [
      "3.32237\n"
     ]
    }
   ],
   "source": [
    "print(GLOBAL_MAXIMUM)"
   ]
  },
  {
   "cell_type": "markdown",
   "metadata": {},
   "source": [
    "#### Import a basic GP model, acquisition functions, and other helper functions\n",
    "\n",
    "This is the model specification of a simple GP model in gpytorch, using a constant mean, RBF Kernel with Automatic Relevance Discovery (ARD).\n",
    "\n",
    "The qEI acquisition function and several other helper functions are also imported here. We use $10$ inital points per trial (sampled using `gen_x`), a batch size of $q=5$, and $30$ batches (or iterations) per trial."
   ]
  },
  {
   "cell_type": "code",
   "execution_count": 9,
   "metadata": {
    "collapsed": true
   },
   "outputs": [],
   "source": [
    "from botorch.models import SingleTaskGP\n",
    "from botorch.acquisition.monte_carlo import qExpectedImprovement\n",
    "from botorch.acquisition.sampler import SobolQMCNormalSampler\n",
    "from botorch.optim import initialize_q_batch_simple\n",
    "from botorch.benchmarks.optimize import optimize_from_initialization\n",
    "from botorch import fit_model\n",
    "from gpytorch.mlls.exact_marginal_log_likelihood import ExactMarginalLogLikelihood\n",
    "import time\n",
    "\n",
    "INITIAL_POINTS = 10  # The number of initial random samples to take at the beginning of each trial\n",
    "BATCH_SIZE = 5  # The batch size, q\n",
    "N_BATCH = 30  # The number of batches to test for each trial\n",
    "N_TRIALS = 20  # The number of independent trials (N_TRIALS of N_BATCH iterations)"
   ]
  },
  {
   "cell_type": "markdown",
   "metadata": {},
   "source": [
    "Next, we set some optimization-related parameters. We use $1000$ (quasi)-Monte Carlo samples to approximate the acquisition function and $40$ random restarts chosen from $100$ initial candidates at each iteration."
   ]
  },
  {
   "cell_type": "code",
   "execution_count": 10,
   "metadata": {
    "collapsed": true
   },
   "outputs": [],
   "source": [
    "MC_SAMPLES = 1000  # The number of Monte Carlo samples used to estimate acquisition functions\n",
    "FIT_OPTIMIZER_ITER = 200  # Number of iterations used to fit model\n",
    "ACQ_OPTIMIZER_ITER = 200  # Number of iterations used to optimize acquisition function\n",
    "N_RESTART_CANDIDATES = 100  # Number of random from which to select restart initial points\n",
    "N_RESTARTS = 40  # Number of restarts"
   ]
  },
  {
   "cell_type": "markdown",
   "metadata": {},
   "source": [
    "#### Define a helper function that performs the essential BO step\n",
    "The Bayesian optimization 'loop' for a batch size of $q$ simply iterates the following steps:\n",
    "\n",
    "1. given a surrogate model, choose a batch of points $\\{x_1, x_2, \\ldots x_q\\}$\n",
    "2. observe $f(x)$ for each $x$ in the batch\n",
    "3. update the surrogate model.\n",
    "\n",
    "Much of the work resides in 1., where the batch is selected by optimizing an acquisition function, q-EI. The helper function below takes an acquisition function as an argument, optimizes it, and returns the batch $\\{x_1, x_2, \\ldots x_q\\}$ along with the observed function values. It also includes logic for selecting restart candidates based on the heuristic `initialize_q_batch_simple`."
   ]
  },
  {
   "cell_type": "code",
   "execution_count": 11,
   "metadata": {
    "collapsed": true
   },
   "outputs": [],
   "source": [
    "def optimize_acq_and_return_observation(acq_func):\n",
    "    \"\"\"Generates restart conditions, optimizes the acquisition function, and returns\n",
    "        a new candidate and a noisy observation at that candidate.\n",
    "    \"\"\"\n",
    "    # Generate a pool of restart candidates and evaluate their acquisition values \n",
    "    X = gen_x(N_RESTART_CANDIDATES, q=BATCH_SIZE)\n",
    "    Y = acq_func(X)\n",
    "    \n",
    "    # Use a heuristic to select N_RESTART points from the pool of restart candidates\n",
    "    initial_candidates = initialize_q_batch_simple(X=X, Y=Y, n=N_RESTARTS)\n",
    "    \n",
    "    # Optimize\n",
    "    candidates = optimize_from_initialization(\n",
    "        initial_candidates=initial_candidates,\n",
    "        acq_func=acq_func,\n",
    "        lower_bounds=0,\n",
    "        upper_bounds=1,\n",
    "        candidate_optim_options={\"maxiter\": ACQ_OPTIMIZER_ITER},\n",
    "    )\n",
    "\n",
    "    # Fetch the new values \n",
    "    new_x = candidates.detach().squeeze()\n",
    "    new_y = oracle(new_x).squeeze()\n",
    "    return new_x, new_y"
   ]
  },
  {
   "cell_type": "markdown",
   "metadata": {},
   "source": [
    "#### Perform the BO loop with q-EI\n",
    "\n",
    "We are now ready to run the full BO loop, repeated N_TRIALS = 20 times. In each trial, we draw initial points using `gen_x` and then fit the `SingleTaskGP` using training data derived from the initial points and noiseless evaluations of $-f(x)$."
   ]
  },
  {
   "cell_type": "code",
   "execution_count": 12,
   "metadata": {},
   "outputs": [
    {
     "name": "stdout",
     "output_type": "stream",
     "text": [
      "Trial 1 of 20\n",
      "Initial sample, best_value: 0.296\n",
      "Batch  5: best_value (EI, random) = (2.61, 0.92)\n",
      "Batch 10: best_value (EI, random) = (2.96, 0.92)\n",
      "Batch 15: best_value (EI, random) = (2.96, 0.92)\n",
      "Batch 20: best_value (EI, random) = (2.99, 1.43)\n",
      "Batch 25: best_value (EI, random) = (2.99, 2.15)\n",
      "Batch 30: best_value (EI, random) = (3.01, 2.34)\n",
      "Trial 2 of 20\n",
      "Initial sample, best_value: 0.431\n",
      "Batch  5: best_value (EI, random) = (2.04, 1.86)\n",
      "Batch 10: best_value (EI, random) = (2.57, 1.86)\n",
      "Batch 15: best_value (EI, random) = (2.99, 1.97)\n",
      "Batch 20: best_value (EI, random) = (3.16, 1.97)\n",
      "Batch 25: best_value (EI, random) = (3.16, 1.97)\n",
      "Batch 30: best_value (EI, random) = (3.16, 1.97)\n",
      "Trial 3 of 20\n",
      "Initial sample, best_value: 1.62\n",
      "Batch  5: best_value (EI, random) = (3.05, 1.62)\n",
      "Batch 10: best_value (EI, random) = (3.06, 1.62)\n",
      "Batch 15: best_value (EI, random) = (3.06, 1.83)\n",
      "Batch 20: best_value (EI, random) = (3.06, 1.83)\n",
      "Batch 25: best_value (EI, random) = (3.06, 2.04)\n",
      "Batch 30: best_value (EI, random) = (3.08, 2.04)\n",
      "Trial 4 of 20\n",
      "Initial sample, best_value: 1.54\n",
      "Batch  5: best_value (EI, random) = (2.79, 1.54)\n",
      "Batch 10: best_value (EI, random) = (2.79, 1.54)\n",
      "Batch 15: best_value (EI, random) = (2.79, 2.22)\n",
      "Batch 20: best_value (EI, random) = (2.79, 2.22)\n",
      "Batch 25: best_value (EI, random) = (2.85, 2.22)\n",
      "Batch 30: best_value (EI, random) = (2.85, 2.22)\n",
      "Trial 5 of 20\n",
      "Initial sample, best_value: 0.909\n",
      "Batch  5: best_value (EI, random) = (3.26, 1.08)\n",
      "Batch 10: best_value (EI, random) = (3.29, 1.54)\n",
      "Batch 15: best_value (EI, random) = (3.31, 1.54)\n",
      "Batch 20: best_value (EI, random) = (3.31, 2.76)\n",
      "Batch 25: best_value (EI, random) = (3.31, 2.87)\n",
      "Batch 30: best_value (EI, random) = (3.31, 2.87)\n",
      "Trial 6 of 20\n",
      "Initial sample, best_value: 0.503\n",
      "Batch  5: best_value (EI, random) = (2.48, 1.14)\n",
      "Batch 10: best_value (EI, random) = (2.98, 2.84)\n",
      "Batch 15: best_value (EI, random) = (3.07, 2.84)\n",
      "Batch 20: best_value (EI, random) = (3.07, 2.84)\n",
      "Batch 25: best_value (EI, random) = (3.07, 2.84)\n",
      "Batch 30: best_value (EI, random) = (3.07, 2.84)\n",
      "Trial 7 of 20\n",
      "Initial sample, best_value: 1.82\n",
      "Batch  5: best_value (EI, random) = (2.72, 1.82)\n",
      "Batch 10: best_value (EI, random) = (2.85, 2.16)\n",
      "Batch 15: best_value (EI, random) = (2.85, 2.16)\n",
      "Batch 20: best_value (EI, random) = (2.85, 2.16)\n",
      "Batch 25: best_value (EI, random) = (2.85, 2.16)\n",
      "Batch 30: best_value (EI, random) = (3.00, 2.16)\n",
      "Trial 8 of 20\n",
      "Initial sample, best_value: 0.514\n",
      "Batch  5: best_value (EI, random) = (2.89, 1.14)\n",
      "Batch 10: best_value (EI, random) = (2.89, 1.55)\n",
      "Batch 15: best_value (EI, random) = (2.95, 1.55)\n",
      "Batch 20: best_value (EI, random) = (3.28, 1.55)\n",
      "Batch 25: best_value (EI, random) = (3.28, 1.55)\n",
      "Batch 30: best_value (EI, random) = (3.28, 2.43)\n",
      "Trial 9 of 20\n",
      "Initial sample, best_value: 0.618\n",
      "Batch  5: best_value (EI, random) = (2.75, 0.62)\n",
      "Batch 10: best_value (EI, random) = (2.87, 1.93)\n",
      "Batch 15: best_value (EI, random) = (3.06, 2.05)\n",
      "Batch 20: best_value (EI, random) = (3.06, 2.05)\n",
      "Batch 25: best_value (EI, random) = (3.06, 2.05)\n",
      "Batch 30: best_value (EI, random) = (3.06, 2.05)\n",
      "Trial 10 of 20\n",
      "Initial sample, best_value: 0.963\n",
      "Batch  5: best_value (EI, random) = (2.05, 0.96)\n",
      "Batch 10: best_value (EI, random) = (2.92, 0.96)\n",
      "Batch 15: best_value (EI, random) = (3.13, 1.42)\n",
      "Batch 20: best_value (EI, random) = (3.13, 2.18)\n",
      "Batch 25: best_value (EI, random) = (3.13, 2.79)\n",
      "Batch 30: best_value (EI, random) = (3.13, 2.79)\n",
      "Trial 11 of 20\n",
      "Initial sample, best_value: 0.97\n",
      "Batch  5: best_value (EI, random) = (1.98, 0.97)\n",
      "Batch 10: best_value (EI, random) = (2.98, 0.97)\n",
      "Batch 15: best_value (EI, random) = (3.28, 0.97)\n",
      "Batch 20: best_value (EI, random) = (3.28, 1.38)\n",
      "Batch 25: best_value (EI, random) = (3.28, 1.38)\n",
      "Batch 30: best_value (EI, random) = (3.28, 1.38)\n",
      "Trial 12 of 20\n",
      "Initial sample, best_value: 1.26\n",
      "Batch  5: best_value (EI, random) = (2.43, 1.52)\n",
      "Batch 10: best_value (EI, random) = (2.98, 2.24)\n",
      "Batch 15: best_value (EI, random) = (2.98, 2.24)\n",
      "Batch 20: best_value (EI, random) = (3.03, 2.24)\n",
      "Batch 25: best_value (EI, random) = (3.03, 2.24)\n",
      "Batch 30: best_value (EI, random) = (3.03, 2.24)\n",
      "Trial 13 of 20\n",
      "Initial sample, best_value: 1.08\n",
      "Batch  5: best_value (EI, random) = (2.79, 1.77)\n",
      "Batch 10: best_value (EI, random) = (3.04, 2.10)\n",
      "Batch 15: best_value (EI, random) = (3.04, 2.10)\n",
      "Batch 20: best_value (EI, random) = (3.04, 2.10)\n",
      "Batch 25: best_value (EI, random) = (3.04, 2.10)\n",
      "Batch 30: best_value (EI, random) = (3.04, 2.10)\n",
      "Trial 14 of 20\n",
      "Initial sample, best_value: 0.848\n",
      "Batch  5: best_value (EI, random) = (2.85, 0.85)\n",
      "Batch 10: best_value (EI, random) = (3.09, 0.85)\n",
      "Batch 15: best_value (EI, random) = (3.09, 0.93)\n",
      "Batch 20: best_value (EI, random) = (3.10, 1.35)\n",
      "Batch 25: best_value (EI, random) = (3.10, 1.54)\n",
      "Batch 30: best_value (EI, random) = (3.10, 1.54)\n",
      "Trial 15 of 20\n",
      "Initial sample, best_value: 1.66\n",
      "Batch  5: best_value (EI, random) = (3.01, 1.66)\n",
      "Batch 10: best_value (EI, random) = (3.17, 2.24)\n",
      "Batch 15: best_value (EI, random) = (3.17, 2.24)\n",
      "Batch 20: best_value (EI, random) = (3.17, 2.52)\n",
      "Batch 25: best_value (EI, random) = (3.17, 2.52)\n",
      "Batch 30: best_value (EI, random) = (3.17, 2.52)\n",
      "Trial 16 of 20\n",
      "Initial sample, best_value: 0.714\n",
      "Batch  5: best_value (EI, random) = (2.35, 2.36)\n",
      "Batch 10: best_value (EI, random) = (2.42, 2.36)\n",
      "Batch 15: best_value (EI, random) = (2.92, 2.36)\n",
      "Batch 20: best_value (EI, random) = (3.01, 2.36)\n",
      "Batch 25: best_value (EI, random) = (3.01, 2.36)\n",
      "Batch 30: best_value (EI, random) = (3.01, 2.36)\n",
      "Trial 17 of 20\n",
      "Initial sample, best_value: 0.483\n",
      "Batch  5: best_value (EI, random) = (2.01, 1.24)\n",
      "Batch 10: best_value (EI, random) = (2.83, 1.24)\n",
      "Batch 15: best_value (EI, random) = (2.83, 1.24)\n",
      "Batch 20: best_value (EI, random) = (2.83, 1.69)\n",
      "Batch 25: best_value (EI, random) = (2.83, 1.69)\n",
      "Batch 30: best_value (EI, random) = (2.83, 1.69)\n",
      "Trial 18 of 20\n",
      "Initial sample, best_value: 1.77\n",
      "Batch  5: best_value (EI, random) = (2.47, 1.85)\n",
      "Batch 10: best_value (EI, random) = (3.22, 1.85)\n",
      "Batch 15: best_value (EI, random) = (3.27, 1.85)\n",
      "Batch 20: best_value (EI, random) = (3.27, 1.85)\n",
      "Batch 25: best_value (EI, random) = (3.27, 1.85)\n",
      "Batch 30: best_value (EI, random) = (3.27, 1.99)\n",
      "Trial 19 of 20\n",
      "Initial sample, best_value: 2.03\n",
      "Batch  5: best_value (EI, random) = (2.59, 2.03)\n",
      "Batch 10: best_value (EI, random) = (2.90, 2.03)\n",
      "Batch 15: best_value (EI, random) = (2.90, 2.03)\n",
      "Batch 20: best_value (EI, random) = (3.04, 2.03)\n",
      "Batch 25: best_value (EI, random) = (3.06, 2.03)\n",
      "Batch 30: best_value (EI, random) = (3.06, 2.03)\n",
      "Trial 20 of 20\n",
      "Initial sample, best_value: 0.691\n",
      "Batch  5: best_value (EI, random) = (1.59, 0.69)\n",
      "Batch 10: best_value (EI, random) = (3.18, 1.12)\n",
      "Batch 15: best_value (EI, random) = (3.18, 1.71)\n",
      "Batch 20: best_value (EI, random) = (3.24, 2.00)\n",
      "Batch 25: best_value (EI, random) = (3.24, 2.00)\n",
      "Batch 30: best_value (EI, random) = (3.24, 2.00)\n"
     ]
    }
   ],
   "source": [
    "torch.manual_seed(initial_seed)\n",
    "best_observed_ei_all = []\n",
    "best_random_all = []\n",
    "cpu_time_all = []\n",
    "\n",
    "import warnings\n",
    "warnings.filterwarnings('ignore')\n",
    "\n",
    "for trial in range(N_TRIALS):\n",
    "    \n",
    "    print(f\"Trial {trial + 1} of {N_TRIALS}\")\n",
    "    best_observed_ei = []\n",
    "    best_random = []\n",
    "    cpu_time = []\n",
    "    \n",
    "    # Initial random observations are the same for both acquisition functions\n",
    "    train_x_ei = gen_x(INITIAL_POINTS).squeeze()\n",
    "    train_y_ei = oracle(train_x_ei).squeeze()\n",
    "    \n",
    "    # Initialize models\n",
    "    model = SingleTaskGP(train_X=train_x_ei, train_Y=train_y_ei)\n",
    "    model = model.to(device=device, dtype=train_x_ei.dtype)\n",
    "    mll = ExactMarginalLogLikelihood(model.likelihood, model)\n",
    "\n",
    "    # Keep track of the best observed point at each iteration\n",
    "    best_value_ei = oracle(train_x_ei).max().item()\n",
    "    best_observed_ei.append(best_value_ei)\n",
    "    best_random.append(best_value_ei)\n",
    "    \n",
    "    print(f\"Initial sample, best_value: {best_value_ei:4.3}\")\n",
    "\n",
    "    # Run N_BATCH rounds of BO after the initial random batch\n",
    "    for iteration in range(N_BATCH):\n",
    "        \n",
    "        t0 = time.time()\n",
    "        \n",
    "        # Fit models\n",
    "        fit_model(mll, options={\"maxiter\": FIT_OPTIMIZER_ITER, \"verbose\": True})\n",
    "        \n",
    "        # Define the acquisition function\n",
    "        sampler = SobolQMCNormalSampler(num_samples=MC_SAMPLES)\n",
    "        qEI = qExpectedImprovement(model, best_f=best_value_ei, sampler=sampler)\n",
    "\n",
    "        # Optimize and get observations\n",
    "        new_x_ei, new_y_ei = optimize_acq_and_return_observation(qEI)\n",
    "        # Update training points\n",
    "        train_x_ei = torch.cat((train_x_ei, new_x_ei))\n",
    "        train_y_ei = torch.cat((train_y_ei, new_y_ei))\n",
    "                        \n",
    "        # Get the new best observed value\n",
    "        best_value_ei = oracle(train_x_ei).max().item()\n",
    "        best_observed_ei.append(best_value_ei)\n",
    "        \n",
    "        # Get the new best value if random sampling is used\n",
    "        next_random_best = oracle(gen_x(BATCH_SIZE)).max().item()\n",
    "        best_random.append(max(best_random[-1], next_random_best))\n",
    "        \n",
    "        # Reinitialize the model\n",
    "        model.reinitialize(train_X=train_x_ei, train_Y=train_y_ei, keep_params=True)        \n",
    "        \n",
    "        t1 = time.time()\n",
    "        cpu_time.append(t1 - t0)\n",
    "        \n",
    "        if (iteration+1) % 5 == 0:\n",
    "            print(f\"Batch {iteration+1:2}: best_value (EI, random) = ({best_value_ei:4.2f}, {max(best_random):4.2f})\")\n",
    "    \n",
    "    best_observed_ei_all.append(best_observed_ei)\n",
    "    best_random_all.append(best_random)\n",
    "    cpu_time_all.append(cpu_time)"
   ]
  },
  {
   "cell_type": "markdown",
   "metadata": {
    "collapsed": true
   },
   "source": [
    "#### Plot results"
   ]
  },
  {
   "cell_type": "code",
   "execution_count": 13,
   "metadata": {},
   "outputs": [
    {
     "data": {
      "text/plain": [
       "<matplotlib.legend.Legend at 0x7f327fb0e1d0>"
      ]
     },
     "execution_count": 13,
     "metadata": {
      "bento_obj_id": "139854867390928"
     },
     "output_type": "execute_result"
    },
    {
     "data": {
      "image/png": "[encoded data removed]",
      "text/plain": [
       "<Figure size 432x288 with 1 Axes>"
      ]
     },
     "metadata": {
      "bento_obj_id": "139855032526104"
     },
     "output_type": "display_data"
    }
   ],
   "source": [
    "import numpy as np\n",
    "from matplotlib import pyplot as plt\n",
    "%matplotlib inline\n",
    "\n",
    "iters = np.arange(N_BATCH+1)\n",
    "y_ei = np.asarray(best_observed_ei_all)\n",
    "y_rnd = np.asarray(best_random_all)\n",
    "\n",
    "fig, ax = plt.subplots(1, 1, figsize=(6, 4))\n",
    "ax.errorbar(iters, y_ei.mean(axis=0), yerr=1.96*y_ei.std(axis=0)/np.sqrt(N_TRIALS), label=\"qEI\", linewidth=1.5)\n",
    "ax.errorbar(iters, y_rnd.mean(axis=0), yerr=1.96*y_rnd.std(axis=0)/np.sqrt(N_TRIALS), label=\"random\", linewidth=1.5)\n",
    "plt.plot([0, N_BATCH], [MAX_VAL]*2, 'k', label=\"true objective\", linewidth=2)\n",
    "ax.set_ylim(bottom=0.5)\n",
    "ax.set(xlabel='number of batches', ylabel='best objective value')\n",
    "ax.legend(loc=\"lower right\")"
   ]
  }
 ],
 "metadata": {
  "anaconda-cloud": [],
  "anp_cloned_from": {
   "notebook_id": "327801827863318",
   "revision_id": "2483261731900726"
  },
  "bento_stylesheets": {
   "bento/extensions/flow/main.css": true,
   "bento/extensions/kernel_selector/main.css": true,
   "bento/extensions/kernel_ui/main.css": true,
   "bento/extensions/new_kernel/main.css": true,
   "bento/extensions/system_usage/main.css": true,
   "bento/extensions/theme/main.css": true
  },
  "disseminate_notebook_id": {
   "notebook_id": "2291093217619943"
  },
  "disseminate_notebook_info": {
   "bento_version": "20190304-030226",
   "description": "",
   "hide_code": false,
   "hipster_group": "",
   "kernel_build_info": {
    "error": "The file located at '/data/users/drjiang/fbsource/fbcode/bento/kernels/local/ae_lazarus/TARGETS' could not be found."
   },
   "no_uii": true,
   "notebook_number": "70442",
   "others_can_edit": false,
   "revision_id": "2572563962772051",
   "tags": "",
   "tasks": "",
   "title": "qEI_Hartmann6_noiseless"
  },
  "kernelspec": {
   "display_name": "ae_lazarus (local)",
   "language": "python",
   "name": "ae_lazarus_local"
  },
  "language_info": {
   "codemirror_mode": {
    "name": "ipython",
    "version": 3
   },
   "file_extension": ".py",
   "mimetype": "text/x-python",
   "name": "python",
   "nbconvert_exporter": "python",
   "pygments_lexer": "ipython3",
   "version": "3.6.3rc1+"
  }
 },
 "nbformat": 4,
 "nbformat_minor": 2
}
