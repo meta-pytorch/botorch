{
 "cells": [
  {
   "cell_type": "markdown",
   "metadata": {
    "code_folding": [],
    "hidden_ranges": [],
    "originalKey": "c31f62e6-7593-4975-ac72-c8d1a59fe3b7",
    "showInput": false
   },
   "source": [
    "## Constraint Active Search for Multiobjective Experimental Design\n",
    "\n",
    "In this tutorial we show how to implement the Expected Coverage Improvement (ECI) [1] acquisition function in BoTorch. For a number of outcome constraints, ECI tries to efficiently discover the feasible region and simultaneously sample diverse feasible configurations. Given a user-specified punchout radius $r$, we center a sphere with that radius around each evaluated configuration. The total coverage is now given by the volume of the union of these sphere intersected with the feasible region; see the paper and, in particular, Figure 2 for a full description of how ECI works.\n",
    "\n",
    "By design, ECI prefers candidates that are in unexplored regions since the candidate's corresponding sphere won't intersect with the spheres around the previously evaluated configurations. On the other hand, ECI also prefers configurations that are likely to satisfy the constraints and to give an improvement in the total coverage. This results in an exploitation-exploration trade-off similar to other acquisition functions.\n",
    "\n",
    "ECI may be estimated using the following equation:\n",
    "$$\n",
    "\\text{ECI}(x) = \\sum_{x' \\in \\mathbb{N}(x) \\setminus \\mathbb{N}_{r}(X)} p(Z(x') = 1 \\;|\\; \\mathcal{D}_t).\n",
    "$$\n",
    "\n",
    "where $\\mathbb{N}(x) \\setminus \\mathbb{N}_{r}(X)$ a set of points generated via Monte Carlo to be inside a sphere of radius $r$ around $x$, but sufficiently far from the set of known evaluations $X$ (where sufficiently far is defined by the punchout radius $r$). The function $p(Z(x') = 1 \\;|\\; \\mathcal{D}_t)$ is the probability that the GP at $x'$ satisfies a user-specified threshold value, or threshold values in the case of multiple objective functions. \n",
    "\n",
    "[1]: [Malkomes et al., Beyond the Pareto Efficient Frontier: Constraint Active Search for Multiobjective Experimental Design, Proceedings of the 38th International Conference on Machine Learning, 2021](http://proceedings.mlr.press/v139/malkomes21a/malkomes21a.pdf)."
   ]
  },
  {
   "cell_type": "code",
   "execution_count": 1,
   "metadata": {
    "code_folding": [],
    "executionStartTime": 1638489228284,
    "executionStopTime": 1638489229640,
    "hidden_ranges": [],
    "originalKey": "bec63924-646e-40dd-a97c-ce13cdc2bcaa",
    "requestMsgId": "9896cb02-0d0e-498f-bdf7-86ea14baaf40"
   },
   "outputs": [],
   "source": [
    "import os\n",
    "\n",
    "import matplotlib.pyplot as plt\n",
    "import torch\n",
    "from botorch.acquisition.monte_carlo import MCAcquisitionFunction\n",
    "from botorch.acquisition.objective import IdentityMCObjective\n",
    "from botorch.fit import fit_gpytorch_model\n",
    "from botorch.models import ModelListGP, SingleTaskGP\n",
    "from botorch.models.transforms.outcome import Standardize\n",
    "from botorch.optim import optimize_acqf\n",
    "from botorch.utils.sampling import sample_hypersphere\n",
    "from botorch.utils.transforms import t_batch_mode_transform\n",
    "from gpytorch.constraints import Interval\n",
    "from gpytorch.likelihoods import GaussianLikelihood\n",
    "from gpytorch.mlls import ExactMarginalLogLikelihood\n",
    "from torch.quasirandom import SobolEngine"
   ]
  },
  {
   "cell_type": "code",
   "execution_count": 2,
   "metadata": {
    "code_folding": [],
    "executionStartTime": 1638489229684,
    "executionStopTime": 1638489230490,
    "hidden_ranges": [],
    "originalKey": "110f7616-b030-4e03-9c6c-b32126d1638f",
    "requestMsgId": "b4b78cb1-b0d4-4203-a97b-7a293ea418d4"
   },
   "outputs": [],
   "source": [
    "tkwargs = {\n",
    "    \"device\": torch.device(\"cuda\" if torch.cuda.is_available() else \"cpu\"),\n",
    "    \"dtype\": torch.double,\n",
    "}\n",
    "SMOKE_TEST = os.environ.get(\"SMOKE_TEST\")"
   ]
  },
  {
   "cell_type": "markdown",
   "metadata": {
    "code_folding": [],
    "hidden_ranges": [],
    "originalKey": "e9cecfd7-f548-4b66-8009-c97809afc144",
    "showInput": false
   },
   "source": [
    "To start, we need to be able to sample points in $\\mathbb{N}(x) \\setminus \\mathbb{N}_{r}(X)$. We can generate a pool of points and use standard rejection sampling to do so, but this leads to an acquisition function that isn't immediately differentiable; rejection sampling is essentially providing either a binary weight of either 0 or 1 to each point in the sample pool, which is not a differentiable function. \n",
    "\n",
    "\n",
    "In order to make the acquisition function differentiable, we rely on a differentiable approximation of this binary weight function. For example, `smooth_box_mask` is a continuous differentiable approximation of $a < x < b$ (see the plot below for a visualization). A larger value of eps will make the sigmoid less steep and result in a smoother (and easier to optimize) but less accurate acquisition function. "
   ]
  },
  {
   "cell_type": "code",
   "execution_count": 3,
   "metadata": {
    "executionStartTime": 1638489230493,
    "executionStopTime": 1638489230509,
    "originalKey": "ee47ba8c-e75c-43a8-980f-8a08e5dcf736",
    "requestMsgId": "63c0a300-c3a1-49bb-a6ba-41cf9dfa9632"
   },
   "outputs": [],
   "source": [
    "def smooth_mask(x, a, eps=2e-3):\n",
    "    \"\"\"Returns 0ish for x < a and 1ish for x > a\"\"\"\n",
    "    return torch.nn.Sigmoid()((x - a) / eps)\n",
    "\n",
    "\n",
    "def smooth_box_mask(x, a, b, eps=2e-3):\n",
    "    \"\"\"Returns 1ish for a < x < b and 0ish otherwise\"\"\"\n",
    "    return smooth_mask(x, a, eps) - smooth_mask(x, b, eps)"
   ]
  },
  {
   "cell_type": "code",
   "execution_count": 4,
   "metadata": {
    "code_folding": [],
    "executionStartTime": 1638489230587,
    "executionStopTime": 1638489233802,
    "hidden_ranges": [],
    "originalKey": "6b64e41e-62fb-4eb2-aaea-859d453a8191",
    "requestMsgId": "7b49f71b-f131-4600-96fd-5aa581212202"
   },
   "outputs": [
    {
     "data": {
      "image/png": "[encoded data removed]",
      "text/plain": [
       "<Figure size 576x288 with 2 Axes>"
      ]
     },
     "metadata": {
      "needs_background": "light"
     },
     "output_type": "display_data"
    }
   ],
   "source": [
    "x = torch.linspace(-2, 2, 500, **tkwargs)\n",
    "\n",
    "fig, ax = plt.subplots(1, 2, figsize=(8, 4))\n",
    "ax[0].plot(x.cpu(), smooth_mask(x, -1).cpu(), \"b\")\n",
    "ax[1].plot(x.cpu(), smooth_box_mask(x, -1, 1).cpu(), \"b\")\n",
    "plt.show()"
   ]
  },
  {
   "cell_type": "markdown",
   "metadata": {
    "code_folding": [],
    "hidden_ranges": [],
    "originalKey": "7ff5ed82-355b-45b8-91f9-823c41c46efc",
    "showInput": false
   },
   "source": [
    "## Implementation of ECI\n",
    "\n",
    "Once we have defined our smooth mask functions, we can compute a differentiable approximation of ECI in a straightforward manner using Monte Carlo (MC). We use the popular variance reduction technique of Common random numbers (CRN).\n",
    "\n",
    "We first use a low discrepancy sequence to generate a set of base samples. We integrate (sum) over these base samples to approximate the ECI acquisition function. Fixing these base samples makes the method deterministic and by using the smooth masks defined earlier, we can filter out infeasible points while still having a differentiable acquisition function.\n",
    "\n",
    "This implementation assumes that the GP models for the different outputs are independent and that each constraints only affects one output (simple box-constraints like f(x) <= 0.5)."
   ]
  },
  {
   "cell_type": "code",
   "execution_count": 5,
   "metadata": {
    "code_folding": [],
    "executionStartTime": 1638489233910,
    "executionStopTime": 1638489233950,
    "hidden_ranges": [],
    "originalKey": "83bc1247-7bfb-4bfc-a571-76f7daef1d94",
    "requestMsgId": "5dd0a6af-0bde-4e57-8bdd-d53baea75075"
   },
   "outputs": [],
   "source": [
    "def identify_samples_which_satisfy_constraints(X, constraints):\n",
    "    \"\"\"\n",
    "    Takes in values (a1, ..., ak, o) and returns (a1, ..., ak, o)\n",
    "    True/False values, where o is the number of outputs.\n",
    "    \"\"\"\n",
    "    successful = torch.ones(X.shape).to(X)\n",
    "    for model_index in range(X.shape[-1]):\n",
    "        these_X = X[..., model_index]\n",
    "        direction, value = constraints[model_index]\n",
    "        successful[..., model_index] = (\n",
    "            these_X < value if direction == \"lt\" else these_X > value\n",
    "        )\n",
    "    return successful\n",
    "\n",
    "\n",
    "class ExpectedCoverageImprovement(MCAcquisitionFunction):\n",
    "    def __init__(\n",
    "        self,\n",
    "        model,\n",
    "        constraints,\n",
    "        punchout_radius,\n",
    "        bounds,\n",
    "        num_samples=512,\n",
    "        **kwargs,\n",
    "    ):\n",
    "        \"\"\"Expected Coverage Improvement (q=1 required, analytic)\n",
    "\n",
    "        Right now, we assume that all the models in the ModelListGP have\n",
    "        the same training inputs.\n",
    "\n",
    "        Args:\n",
    "            model: A ModelListGP object containing models matching the corresponding constraints.\n",
    "                All models are assumed to have the same training data.\n",
    "            constraints: List containing 2-tuples with (direction, value), e.g.,\n",
    "                [('gt', 3), ('lt', 4)]. It is necessary that\n",
    "                len(constraints) == model.num_outputs.\n",
    "            punchout_radius: Positive value defining the desired minimum distance between points\n",
    "            bounds: torch.tensor whose first row is the lower bounds and second row is the upper bounds\n",
    "            num_samples: Number of samples for MC integration\n",
    "        \"\"\"\n",
    "        super().__init__(model=model, objective=IdentityMCObjective(), **kwargs)\n",
    "        assert len(constraints) == model.num_outputs\n",
    "        assert all(direction in (\"gt\", \"lt\") for direction, _ in constraints)\n",
    "        assert punchout_radius > 0\n",
    "        self.constraints = constraints\n",
    "        self.punchout_radius = punchout_radius\n",
    "        self.bounds = bounds\n",
    "        self.base_points = self.train_inputs\n",
    "        self.ball_of_points = self._generate_ball_of_points(\n",
    "            num_samples=num_samples,\n",
    "            radius=punchout_radius,\n",
    "            device=bounds.device,\n",
    "            dtype=bounds.dtype,\n",
    "        )\n",
    "        self._thresholds = torch.tensor(\n",
    "            [threshold for _, threshold in self.constraints]\n",
    "        ).to(bounds)\n",
    "        assert (\n",
    "            all(ub > lb for lb, ub in self.bounds.T) and len(self.bounds.T) == self.dim\n",
    "        )\n",
    "\n",
    "    @property\n",
    "    def num_outputs(self):\n",
    "        return self.model.num_outputs\n",
    "\n",
    "    @property\n",
    "    def dim(self):\n",
    "        return self.train_inputs.shape[-1]\n",
    "\n",
    "    @property\n",
    "    def train_inputs(self):\n",
    "        return self.model.models[0].train_inputs[0]\n",
    "\n",
    "    def _generate_ball_of_points(\n",
    "        self, num_samples, radius, device=None, dtype=torch.double\n",
    "    ):\n",
    "        \"\"\"Creates a ball of points to be used for MC.\"\"\"\n",
    "        tkwargs = {\"device\": device, \"dtype\": dtype}\n",
    "        z = sample_hypersphere(d=self.dim, n=num_samples, qmc=True, **tkwargs)\n",
    "        r = torch.rand(num_samples, 1, **tkwargs) ** (1 / self.dim)\n",
    "        return radius * r * z\n",
    "\n",
    "    def _identify_samples_which_satisfy_constraints(self, X):\n",
    "        return identify_samples_which_satisfy_constraints(X, self.constraints)\n",
    "\n",
    "    def _get_base_point_mask(self, X):\n",
    "        distance_matrix = self.model.models[0].covar_module.base_kernel.covar_dist(\n",
    "            X, self.base_points\n",
    "        )\n",
    "        return smooth_mask(distance_matrix, self.punchout_radius)\n",
    "\n",
    "    def _estimate_probabilities_of_satisfaction_at_points(self, points):\n",
    "        \"\"\"Estimate the probability of satisfying the given constraints.\"\"\"\n",
    "        posterior = self.model.posterior(X=points)\n",
    "        mus, sigma2s = posterior.mean, posterior.variance\n",
    "        dist = torch.distributions.normal.Normal(mus, sigma2s.sqrt())\n",
    "        norm_cdf = dist.cdf(self._thresholds)\n",
    "        probs = torch.ones(points.shape[:-1]).to(points)\n",
    "        for i, (direction, _) in enumerate(self.constraints):\n",
    "            probs = probs * (\n",
    "                norm_cdf[..., i] if direction == \"lt\" else 1 - norm_cdf[..., i]\n",
    "            )\n",
    "        return probs\n",
    "\n",
    "    @t_batch_mode_transform(expected_q=1)\n",
    "    def forward(self, X):\n",
    "        \"\"\"Evaluate Expected Improvement on the candidate set X.\"\"\"\n",
    "        ball_around_X = self.ball_of_points + X\n",
    "        domain_mask = smooth_box_mask(\n",
    "            ball_around_X, self.bounds[0, :], self.bounds[1, :]\n",
    "        ).prod(dim=-1)\n",
    "        num_points_in_integral = domain_mask.sum(dim=-1)\n",
    "        base_point_mask = self._get_base_point_mask(ball_around_X).prod(dim=-1)\n",
    "        prob = self._estimate_probabilities_of_satisfaction_at_points(ball_around_X)\n",
    "        masked_prob = prob * domain_mask * base_point_mask\n",
    "        y = masked_prob.sum(dim=-1) / num_points_in_integral\n",
    "        return y"
   ]
  },
  {
   "cell_type": "code",
   "execution_count": 6,
   "metadata": {
    "code_folding": [],
    "executionStartTime": 1638489234035,
    "executionStopTime": 1638489234089,
    "hidden_ranges": [],
    "originalKey": "28d1ba39-4c20-47da-9dd5-4b40fcc70726",
    "requestMsgId": "b56e4297-9927-4a5e-aa8f-f5e93181e44d"
   },
   "outputs": [],
   "source": [
    "def get_and_fit_gp(X, Y):\n",
    "    \"\"\"Simple method for creating a GP with one output dimension.\n",
    "\n",
    "    X is assumed to be in [0, 1]^d.\n",
    "    \"\"\"\n",
    "    assert Y.ndim == 2 and Y.shape[-1] == 1\n",
    "    likelihood = GaussianLikelihood(noise_constraint=Interval(1e-6, 1e-3))  # Noise-free\n",
    "    octf = Standardize(m=Y.shape[-1])\n",
    "    gp = SingleTaskGP(X, Y, likelihood=likelihood, outcome_transform=octf)\n",
    "    mll = ExactMarginalLogLikelihood(gp.likelihood, gp)\n",
    "    fit_gpytorch_model(mll)\n",
    "    return gp"
   ]
  },
  {
   "cell_type": "markdown",
   "metadata": {
    "code_folding": [],
    "hidden_ranges": [],
    "originalKey": "e7c7c1b3-249f-4e32-b8b7-3c7e737e82b2",
    "showInput": false
   },
   "source": [
    "### Simple 1D function\n",
    "\n",
    "To sanity check things, we consider the ECI acquisition function on a one-dimensional toy problem. "
   ]
  },
  {
   "cell_type": "code",
   "execution_count": 7,
   "metadata": {
    "executionStartTime": 1638489234145,
    "executionStopTime": 1638489234200,
    "originalKey": "5526f64f-f1c7-4575-bc04-088dee87fe55",
    "requestMsgId": "cc435c3c-c65f-4446-a33e-fd5cda030962"
   },
   "outputs": [],
   "source": [
    "def yf(x):\n",
    "    return (1 - torch.exp(-4 * (x[:, 0] - 0.4) ** 2)).unsqueeze(-1)\n",
    "\n",
    "\n",
    "x = torch.tensor([0, 0.15, 0.25, 0.4, 0.8, 1.0], **tkwargs).unsqueeze(-1)\n",
    "y = yf(x)\n",
    "xx = torch.linspace(0, 1, 200, **tkwargs).unsqueeze(-1)\n",
    "yy = yf(xx)"
   ]
  },
  {
   "cell_type": "markdown",
   "metadata": {
    "originalKey": "8bbfe7b8-b758-424a-b6bc-f2c91f8b1e95",
    "showInput": false
   },
   "source": [
    "### Create an ECI acquisition function\n",
    "Our implementation assumes that the GP is passed in as a `ModelListGP` and that the GPs match the corresponding constraints. As an example, assume we have two outputs, represented by `gp1` and `gp2` and two constraints corresponding to output 1 and a third constraint corresponding to output 2. In that case we will create a model list GP as `ModelListGP(gp1, gp1, gp2)` so they match the constraints."
   ]
  },
  {
   "cell_type": "code",
   "execution_count": 8,
   "metadata": {
    "code_folding": [],
    "executionStartTime": 1638489234253,
    "executionStopTime": 1638489235584,
    "hidden_ranges": [],
    "originalKey": "c8950892-86cb-4112-8804-8a632bd6fe34",
    "requestMsgId": "9efe991c-8256-4c7c-b61f-8abb5d258d40"
   },
   "outputs": [],
   "source": [
    "gp = get_and_fit_gp(x, y)\n",
    "model_list_gp = ModelListGP(gp, gp)\n",
    "constraints = [(\"lt\", 0.3), (\"gt\", 0.05)]\n",
    "punchout_radius = 0.03\n",
    "bounds = torch.tensor([(0, 1)], **tkwargs).T\n",
    "eci = ExpectedCoverageImprovement(\n",
    "    model=model_list_gp,\n",
    "    constraints=constraints,\n",
    "    punchout_radius=punchout_radius,\n",
    "    bounds=bounds,\n",
    "    num_samples=512 if not SMOKE_TEST else 4,\n",
    ")"
   ]
  },
  {
   "cell_type": "markdown",
   "metadata": {
    "originalKey": "f1cfa2a0-db3f-49a2-b32f-6fad380b0c3e",
    "showInput": false
   },
   "source": [
    "### Optimize the acquisition function"
   ]
  },
  {
   "cell_type": "code",
   "execution_count": 9,
   "metadata": {
    "code_folding": [],
    "executionStartTime": 1638489235787,
    "executionStopTime": 1638489236864,
    "hidden_ranges": [],
    "originalKey": "720fab8b-ade0-4a7e-b95a-08420c1462eb",
    "requestMsgId": "1ae10691-8d4e-40e7-8c32-f15a35ddf590",
    "showInput": true
   },
   "outputs": [
    {
     "name": "stdout",
     "output_type": "stream",
     "text": [
      "Best candidate: 0.617\n"
     ]
    }
   ],
   "source": [
    "best_candidate, best_eci_value = optimize_acqf(\n",
    "    acq_function=eci,\n",
    "    bounds=torch.tensor([[0.0], [1.0]], **tkwargs),\n",
    "    q=1,\n",
    "    num_restarts=10,\n",
    "    raw_samples=20,  # use a small number here to make sure the optimization works\n",
    ")\n",
    "print(f\"Best candidate: {best_candidate.cpu().item():.3f}\")"
   ]
  },
  {
   "cell_type": "markdown",
   "metadata": {
    "originalKey": "15a4d7cf-be03-4e52-9792-e3a680f37bb7",
    "showInput": false
   },
   "source": [
    "### Plot the GP and the ECI acquisition function\n",
    "The left plot shows the GP posterior with a 95% confidence interval. The two horizontal lines indicate the feasible region defined by $0.05 \\leq f(x) \\leq 0.3$. These inequality constraints implicitly define a feasible region, outside which ECI has value zero. \n",
    "\n",
    "We can see in the right plot that ECI indeed has a nonzero value inside the feasible region and a zero value outside. We also optimize the acquisition function and mark its argmax with black star; the argmax is around $x=0.62$. This is reasonable because ECI seeks to select diverse points within the feasible region. $x=0.62$ is far away from other evaluations and thus has the highest diversity. "
   ]
  },
  {
   "cell_type": "code",
   "execution_count": 10,
   "metadata": {
    "code_folding": [],
    "executionStartTime": 1638489236964,
    "executionStopTime": 1638489237535,
    "hidden_ranges": [],
    "originalKey": "798c3132-bee6-454d-9e8f-6250419f2430",
    "requestMsgId": "5f5b4b6a-4d53-4528-8420-53e4f9358f5c"
   },
   "outputs": [
    {
     "data": {
      "image/png": "[encoded data removed]",
      "text/plain": [
       "<Figure size 864x360 with 2 Axes>"
      ]
     },
     "metadata": {
      "needs_background": "light"
     },
     "output_type": "display_data"
    }
   ],
   "source": [
    "with torch.no_grad():\n",
    "    posterior = gp.posterior(X=xx.unsqueeze(1))\n",
    "ymean, yvar = posterior.mean.squeeze(-1), posterior.variance.squeeze(-1)\n",
    "eci_vals = eci(xx.unsqueeze(1))\n",
    "\n",
    "fig, axes = plt.subplots(1, 2, figsize=(12, 5))\n",
    "ax = axes[0]\n",
    "ax.plot(xx[:, 0].cpu(), ymean[:, 0].cpu(), \"b\")\n",
    "ax.fill_between(\n",
    "    xx[:, 0].cpu(), \n",
    "    ymean[:, 0].cpu() - 1.96 * yvar[:, 0].sqrt().cpu(), \n",
    "    ymean[:, 0].cpu() + 1.96 * yvar[:, 0].sqrt().cpu(), \n",
    "    alpha=0.1, \n",
    "    color=\"b\"\n",
    ")\n",
    "ax.plot(x[:, 0].cpu(), y[:, 0].cpu(), \"or\")\n",
    "ax.axhline(0.05, 0, 1)\n",
    "ax.axhline(0.3, 0, 1)\n",
    "\n",
    "ax = axes[1]\n",
    "ax.plot(xx[:, 0].cpu(), eci_vals.detach().cpu())\n",
    "ax.plot(x[:, 0].cpu(), torch.zeros(len(x), **tkwargs).cpu(), \"or\")\n",
    "ax.plot(best_candidate.cpu(), best_eci_value.cpu(), \"*k\", ms=10)\n",
    "ax.set_title(\"ECI\", fontsize=14)\n",
    "plt.show()"
   ]
  },
  {
   "cell_type": "markdown",
   "metadata": {
    "code_folding": [],
    "hidden_ranges": [],
    "originalKey": "33ea647e-bdaf-4264-ab65-3e6df4ba8c6e",
    "showInput": false
   },
   "source": [
    "## Full 2D CAS-loop \n",
    "This creates a simple function with two outputs that we will consider under the two constraints $f_1(x) \\leq 0.75$ and $f_2(x) \\geq 0.55$. In this particular example, the $f_1(x)$ and $f_2(x)$ are same function for simplicity. \n",
    "\n",
    "The CAS loop follows the prototypical BO loop: \n",
    "1. Given a surrogate model, maximize ECI to select the next evaluation x.\n",
    "2. Observe f(x).\n",
    "3. Update the surrogate model. "
   ]
  },
  {
   "cell_type": "code",
   "execution_count": 11,
   "metadata": {
    "code_folding": [],
    "executionStartTime": 1638489237543,
    "executionStopTime": 1638489237685,
    "hidden_ranges": [],
    "originalKey": "e284a5bf-4b0d-40a0-8b37-765227dd9ff0",
    "requestMsgId": "691460ed-a2c8-45b5-8dc9-c6d8c87ee9d7"
   },
   "outputs": [],
   "source": [
    "def yf2d(x):\n",
    "    v = torch.exp(-2 * (x[:, 0] - 0.3) ** 2 - 4 * (x[:, 1] - 0.6) ** 2)\n",
    "    return torch.stack((v, v), dim=-1)\n",
    "\n",
    "\n",
    "bounds = torch.tensor([[0, 0], [1, 1]], **tkwargs)\n",
    "lb, ub = bounds\n",
    "dim = len(lb)\n",
    "constraints = [(\"lt\", 0.75), (\"gt\", 0.55)]\n",
    "punchout_radius = 0.1"
   ]
  },
  {
   "cell_type": "markdown",
   "metadata": {
    "originalKey": "6f354b25-8703-4156-908d-d53c1c2bbe4a",
    "showInput": false
   },
   "source": [
    "### CAS loop using 5 initial Sobol points and 15 ECI iterations"
   ]
  },
  {
   "cell_type": "code",
   "execution_count": 12,
   "metadata": {
    "code_folding": [],
    "executionStartTime": 1638489237803,
    "executionStopTime": 1638489266352,
    "hidden_ranges": [],
    "originalKey": "69c4c7ee-2be2-4bb4-9072-83a30a3d7ecc",
    "requestMsgId": "6d77353b-8dda-4835-9c6a-b0a53fddc67c"
   },
   "outputs": [],
   "source": [
    "num_init_points = 5\n",
    "num_total_points = 20 if not SMOKE_TEST else 6\n",
    "\n",
    "X = lb + (ub - lb) * SobolEngine(dim, scramble=True).draw(num_init_points).to(**tkwargs)\n",
    "Y = yf2d(X)\n",
    "\n",
    "while len(X) < num_total_points:\n",
    "    # We don't have to normalize X since the domain is [0, 1]^2. Make sure to\n",
    "    # appropriately adjust the punchout radius if the domain is normalized.\n",
    "    gp_models = [get_and_fit_gp(X, Y[:, i : i + 1]) for i in range(Y.shape[-1])]\n",
    "    model_list_gp = ModelListGP(gp_models[0], gp_models[1])\n",
    "    eci = ExpectedCoverageImprovement(\n",
    "        model=model_list_gp,\n",
    "        constraints=constraints,\n",
    "        punchout_radius=punchout_radius,\n",
    "        bounds=bounds,\n",
    "        num_samples=512 if not SMOKE_TEST else 4,\n",
    "    )\n",
    "    x_next, _ = optimize_acqf(\n",
    "        acq_function=eci,\n",
    "        bounds=bounds,\n",
    "        q=1,\n",
    "        num_restarts=10 if not SMOKE_TEST else 2,\n",
    "        raw_samples=512 if not SMOKE_TEST else 4,\n",
    "    )\n",
    "    y_next = yf2d(x_next)\n",
    "    X = torch.cat((X, x_next))\n",
    "    Y = torch.cat((Y, y_next))"
   ]
  },
  {
   "cell_type": "markdown",
   "metadata": {
    "code_folding": [],
    "hidden_ranges": [],
    "originalKey": "255bba4f-4d9a-46cc-aa66-16b90287824a",
    "showInput": false
   },
   "source": [
    "### Plot the selected points\n",
    "We plot the feasible region and the points selected by ECI below. The feasible region is outlined with a black ring, and points selected by ECI are marked in green (feasible) and red (infeasible). By design, observe that ECI selects a diverse i.e., well-spaced set of points inside the feasible region. "
   ]
  },
  {
   "cell_type": "code",
   "execution_count": 13,
   "metadata": {
    "code_folding": [],
    "customInput": null,
    "executionStartTime": 1638489266464,
    "executionStopTime": 1638489266516,
    "hidden_ranges": [],
    "originalKey": "7fa98ec0-a63f-4b77-bbbc-12a7c54d81d0",
    "requestMsgId": "6b62af84-01c0-4971-9122-bd5f01b9f31b",
    "showInput": true
   },
   "outputs": [
    {
     "name": "stderr",
     "output_type": "stream",
     "text": [
      "/Users/deriksson/opt/anaconda3/lib/python3.8/site-packages/torch/functional.py:445: UserWarning: torch.meshgrid: in an upcoming release, it will be required to pass the indexing argument. (Triggered internally at  ../aten/src/ATen/native/TensorShape.cpp:2157.)\n",
      "  return _VF.meshgrid(tensors, **kwargs)  # type: ignore[attr-defined]\n"
     ]
    }
   ],
   "source": [
    "N1, N2 = 50, 50\n",
    "Xplt, Yplt = torch.meshgrid(\n",
    "    torch.linspace(0, 1, N1, **tkwargs), torch.linspace(0, 1, N2, **tkwargs)\n",
    ")\n",
    "xplt = torch.stack(\n",
    "    (\n",
    "        torch.reshape(Xplt, (Xplt.shape[0] * Xplt.shape[1],)),\n",
    "        torch.reshape(Yplt, (Yplt.shape[0] * Yplt.shape[1],)),\n",
    "    ),\n",
    "    dim=1,\n",
    ")\n",
    "yplt = yf2d(xplt)\n",
    "Zplt = torch.reshape(yplt[:, 0], (N1, N2))  # Since f1(x) = f2(x)"
   ]
  },
  {
   "cell_type": "code",
   "execution_count": 14,
   "metadata": {
    "code_folding": [],
    "executionStartTime": 1638489266564,
    "executionStopTime": 1638489267143,
    "hidden_ranges": [],
    "originalKey": "49cb15f1-3dea-4e9b-b452-3c13c26d6f8d",
    "requestMsgId": "a44c258c-0373-4c68-9887-9ae7a57bcccc"
   },
   "outputs": [
    {
     "data": {
      "image/png": "[encoded data removed]",
      "text/plain": [
       "<Figure size 576x432 with 2 Axes>"
      ]
     },
     "metadata": {
      "needs_background": "light"
     },
     "output_type": "display_data"
    }
   ],
   "source": [
    "fig, ax = plt.subplots(figsize=(8, 6))\n",
    "h1 = ax.contourf(Xplt.cpu(), Yplt.cpu(), Zplt.cpu(), 20, cmap=\"Blues\", alpha=0.6)\n",
    "fig.colorbar(h1)\n",
    "ax.contour(Xplt.cpu(), Yplt.cpu(), Zplt.cpu(), [0.55, 0.75], colors=\"k\")\n",
    "\n",
    "feasible_inds = (\n",
    "    identify_samples_which_satisfy_constraints(Y, constraints)\n",
    "    .prod(dim=-1)\n",
    "    .to(torch.bool)\n",
    ")\n",
    "ax.plot(X[feasible_inds, 0].cpu(), X[feasible_inds, 1].cpu(), \"sg\", label=\"Feasible\")\n",
    "ax.plot(\n",
    "    X[~feasible_inds, 0].cpu(), X[~feasible_inds, 1].cpu(), \"sr\", label=\"Infeasible\"\n",
    ")\n",
    "\n",
    "ax.legend(loc=[0.7, 0.05])\n",
    "ax.set_title(\"$f_1(x)$\")  # Recall that f1(x) = f2(x)\n",
    "ax.set_xlabel(\"$x_1$\")\n",
    "ax.set_ylabel(\"$x_2$\")\n",
    "ax.set_aspect(\"equal\", \"box\")\n",
    "ax.set_xlim([-0.05, 1.05])\n",
    "ax.set_ylim([-0.05, 1.05])\n",
    "plt.show()"
   ]
  },
  {
   "cell_type": "code",
   "execution_count": null,
   "metadata": {
    "executionStartTime": 1638489267152,
    "executionStopTime": 1638489267253,
    "originalKey": "221f9786-a351-41be-897f-4577da569178",
    "requestMsgId": "0ff4a95d-b556-4a21-b794-184ba4181a49"
   },
   "outputs": [],
   "source": []
  }
 ],
 "metadata": {
  "kernelspec": {
   "display_name": "Python 3",
   "language": "python",
   "name": "python3"
  },
  "language_info": {
   "codemirror_mode": {
    "name": "ipython",
    "version": 3
   },
   "file_extension": ".py",
   "mimetype": "text/x-python",
   "name": "python",
   "nbconvert_exporter": "python",
   "pygments_lexer": "ipython3",
   "version": "3.8.8"
  },
  "last_base_url": "https://0282.od.fbinfra.net/",
  "last_kernel_id": "f0259543-6954-48ef-bf3e-f0b2635fdbec",
  "last_msg_id": "6ae219b2-bbc621e514740d948f47fa15_79",
  "last_server_session_id": "e032338a-d916-4be6-a767-bbbe86b9adee",
  "outputWidgetContext": {}
 },
 "nbformat": 4,
 "nbformat_minor": 4
}
