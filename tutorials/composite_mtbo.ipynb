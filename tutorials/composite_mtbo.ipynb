{
  "metadata": {
    "dataExplorerConfig": {},
    "bento_stylesheets": {
      "bento/extensions/flow/main.css": true,
      "bento/extensions/kernel_selector/main.css": true,
      "bento/extensions/kernel_ui/main.css": true,
      "bento/extensions/new_kernel/main.css": true,
      "bento/extensions/system_usage/main.css": true,
      "bento/extensions/theme/main.css": true
    },
    "kernelspec": {
      "display_name": "Python 3 (ipykernel)",
      "language": "python",
      "name": "python3"
    },
    "language_info": {
      "codemirror_mode": {
        "name": "ipython",
        "version": 3
      },
      "file_extension": ".py",
      "mimetype": "text/x-python",
      "name": "python",
      "nbconvert_exporter": "python",
      "pygments_lexer": "ipython3",
      "version": "3.8.6"
    },
    "captumWidgetMessage": {},
    "outputWidgetContext": {}
  },
  "nbformat": 4,
  "nbformat_minor": 2,
  "cells": [
    {
      "cell_type": "markdown",
      "metadata": {
        "originalKey": "2c421274-e807-4d93-8b0e-d23afdb49a2d",
        "showInput": false
      },
      "source": [
        "## Composite Bayesian Optimization with Multi-Task Gaussian Processes\n",
        "\n",
        "In this tutorial, we'll be describing how to perform multi-task Bayesian optimization over composite functions. In these types of problems, there are several related outputs, and an overall easy to evaluate objective function that we wish to maximize.\n",
        "\n",
        "**Multi-task Bayesian Optimization** was first proposed by [Swersky et al, NeurIPS, '13](https://papers.neurips.cc/paper/2013/hash/f33ba15effa5c10e873bf3842afb46a6-Abstract.html) in the context of fast hyper-parameter tuning for neural network models; however, we demonstrate a more advanced use-case of **[composite Bayesian optimization](https://proceedings.mlr.press/v97/astudillo19a.html)** where the overall function that we wish to optimize is a cheap-to-evaluate (and known) function of the outputs. In general, we expect that using more information about the function should yield improved performance when attempting to optimize it, particularly if the metric function itself is quickly varying.\n",
        "\n",
        "See [the composite BO tutorial w/ HOGP](https://github.com/pytorch/botorch/blob/main/tutorials/composite_bo_with_hogp.ipynb) for a more technical introduction. In general, we suggest using MTGPs for unstructured task outputs and the HOGP for matrix / tensor structured outputs.\n",
        "\n",
        "\n",
        "We will use a Multi-Task Gaussian process ([MTGP](https://papers.nips.cc/paper/2007/hash/66368270ffd51418ec58bd793f2d9b1b-Abstract.html)) with an ICM kernel to model all of the outputs in this problem. MTGPs can be easily accessed in Botorch via the `botorch.models.KroneckerMultiTaskGP` model class (for the \"block design\" case of fully observed outputs at all inputs). Given $T$ tasks (outputs) and $n$ data points, they assume that the responses, $Y \\sim \\mathbb{R}^{n \\times T},$ are distributed as $\\text{vec}(Y) \\sim \\mathcal{N}(f, D)$ and $f \\sim \\mathcal{GP}(\\mu_{\\theta}, K_{XX} \\otimes K_{T}),$ where $D$ is a (diagonal) noise term."
      ]
    },
    {
      "cell_type": "code",
      "metadata": {
        "originalKey": "8f5c4d81-1359-4305-bad3-2973e747e853",
        "customOutput": null,
        "collapsed": false,
        "requestMsgId": "6db6ec8c-6245-4efd-9089-5e2e54d0c285",
        "executionStartTime": 1668655887003,
        "executionStopTime": 1668655887649
      },
      "source": [
        "import os\n",
        "import time\n",
        "\n",
        "import torch\n",
        "from botorch.acquisition.monte_carlo import qExpectedImprovement\n",
        "from botorch.acquisition.objective import GenericMCObjective\n",
        "from botorch.models import KroneckerMultiTaskGP, SingleTaskGP\n",
        "from botorch.optim import optimize_acqf\n",
        "from botorch.optim.fit import fit_gpytorch_torch\n",
        "from botorch.sampling.normal import IIDNormalSampler\n",
        "\n",
        "from botorch.test_functions import Hartmann\n",
        "from gpytorch.mlls import ExactMarginalLogLikelihood\n",
        "\n",
        "SMOKE_TEST = os.environ.get(\"SMOKE_TEST\")"
      ],
      "execution_count": 1,
      "outputs": [
        {
          "output_type": "stream",
          "name": "stderr",
          "text": [
            "I1116 193126.356 _utils_internal.py:179] NCCL_DEBUG env var is set to None\n"
          ]
        },
        {
          "output_type": "stream",
          "name": "stderr",
          "text": [
            "I1116 193126.357 _utils_internal.py:188] NCCL_DEBUG is INFO from /etc/nccl.conf\n"
          ]
        }
      ]
    },
    {
      "cell_type": "markdown",
      "metadata": {
        "originalKey": "de394597-4088-4f32-94c7-7c611876eebc",
        "showInput": false
      },
      "source": [
        "### Set device, dtype and random seed"
      ]
    },
    {
      "cell_type": "code",
      "metadata": {
        "originalKey": "7f4bd86f-7f22-4c28-b439-976650d67384",
        "customOutput": null,
        "collapsed": false,
        "requestMsgId": "5ec09ff7-9453-4382-992f-e25058b3e06e",
        "executionStartTime": 1668655887891,
        "executionStopTime": 1668655887985
      },
      "source": [
        "torch.random.manual_seed(2010)\n",
        "\n",
        "tkwargs = {\n",
        "    \"dtype\": torch.double,\n",
        "    \"device\": torch.device(\"cuda:0\" if torch.cuda.is_available() else \"cpu\"),\n",
        "}"
      ],
      "execution_count": 2,
      "outputs": []
    },
    {
      "cell_type": "markdown",
      "metadata": {
        "originalKey": "f151402e-238e-4c5c-be43-55a73f07664e",
        "showInput": false
      },
      "source": [
        "### Problem Definition\n",
        "\n",
        "The function that we wish to optimize is based off of a contextual version of the Hartmann-6 test function, where following [Feng et al, NeurIPS, '20](https://proceedings.neurips.cc/paper/2020/hash/faff959d885ec0ecf70741a846c34d1d-Abstract.html) we convert the sixth task dimension into a task indicator. We assume that we evaluate all $20$ contexts at once."
      ]
    },
    {
      "cell_type": "code",
      "metadata": {
        "originalKey": "2aa23c26-1132-4421-b869-5464e2959141",
        "customOutput": null,
        "collapsed": false,
        "requestMsgId": "333e9297-d842-400d-a4b5-db7ba2b1e051",
        "executionStartTime": 1668655888207,
        "executionStopTime": 1668655888299
      },
      "source": [
        "from botorch.test_functions import Hartmann\n",
        "from torch import Tensor\n",
        "\n",
        "class ContextualHartmann6(Hartmann):\n",
        "    def __init__(self, num_tasks: int = 20, noise_std = None, negate = False):\n",
        "        super().__init__(dim=6, noise_std = noise_std, negate = negate)\n",
        "        self.task_range = torch.linspace(0, 1, num_tasks).unsqueeze(-1)\n",
        "        self._bounds = [(0.0, 1.0) for _ in range(self.dim - 1)]\n",
        "        self.bounds = torch.tensor(self._bounds).t()\n",
        "        \n",
        "    def evaluate_true(self, X: Tensor) -> Tensor:\n",
        "        batch_X = X.unsqueeze(-2)\n",
        "        batch_dims = X.ndim - 1\n",
        "        \n",
        "        expanded_task_range = self.task_range\n",
        "        for _ in range(batch_dims):\n",
        "            expanded_task_range = expanded_task_range.unsqueeze(0)\n",
        "        task_range = expanded_task_range.repeat(*X.shape[:-1], 1, 1).to(X)\n",
        "        concatenated_X = torch.cat(\n",
        "            (batch_X.repeat(*[1]*batch_dims, self.task_range.shape[0], 1), task_range), dim=-1\n",
        "        )\n",
        "        return super().evaluate_true(concatenated_X)"
      ],
      "execution_count": 3,
      "outputs": []
    },
    {
      "cell_type": "markdown",
      "metadata": {
        "originalKey": "a2fbe3e8-98cf-49e0-9891-8d6009790955",
        "showInput": false
      },
      "source": [
        "We use `GenericMCObjective` to define the differentiable function that we are optimizing. Here, it is defined as \n",
        "$$g(f) = \\sum_{i=1}^T \\cos(f_i^2 + f_i w_i)$$\n",
        "where $w$ is a weight vector (drawn randomly once at the start of the optimization). As this function is a non-linear function of the outputs $f,$ we cannot compute acquisition functions via computation of the posterior mean and variance, but rather have to compute posterior samples and evaluate acquisitions with Monte Carlo sampling. \n",
        "\n",
        "For greater than $10$ or so tasks, it is computationally challenging to sample the posterior over all tasks jointly using conventional approaches, except that [Maddox et al, '21](https://arxiv.org/abs/2106.12997) have devised an efficient method for exploiting the structure in the posterior distribution of the MTGP, enabling efficient MC based optimization of objectives using MTGPs."
      ]
    },
    {
      "cell_type": "code",
      "metadata": {
        "originalKey": "e1dd2e2b-042c-4507-86aa-c1f519ad4df7",
        "customOutput": null,
        "collapsed": false,
        "requestMsgId": "df6d70a8-87a3-4f9b-a7ff-0680a69f36e1",
        "executionStartTime": 1668655888638,
        "executionStopTime": 1668655892409
      },
      "source": [
        "problem = ContextualHartmann6(noise_std = 0.001, negate=True).to(**tkwargs)\n",
        "\n",
        "# we choose 20 random weights\n",
        "weights = torch.randn(20, **tkwargs)\n",
        "\n",
        "def callable_func(samples, X=None):\n",
        "    res = -torch.cos((samples**2) + samples * weights)\n",
        "    return res.sum(dim=-1)\n",
        "\n",
        "objective = GenericMCObjective(callable_func)"
      ],
      "execution_count": 4,
      "outputs": []
    },
    {
      "cell_type": "code",
      "metadata": {
        "originalKey": "1c078c31-ac02-4847-adb8-7d777de57a4d",
        "customOutput": null,
        "collapsed": false,
        "requestMsgId": "f8601186-90e6-47fd-bb5d-438ff162db65",
        "executionStartTime": 1668655892643,
        "executionStopTime": 1668655892728
      },
      "source": [
        "bounds = problem.bounds"
      ],
      "execution_count": 5,
      "outputs": []
    },
    {
      "cell_type": "markdown",
      "metadata": {
        "originalKey": "df727b70-30bb-458d-81cc-55dc6a5a3ef2",
        "showInput": false
      },
      "source": [
        "### Define helper functions\n",
        "\n",
        "Define helper functions used for optimizing the acquisition function and for constructing the batch expected improvement acquisition, which we optimize for both the batch GP and MTGP."
      ]
    },
    {
      "cell_type": "code",
      "metadata": {
        "originalKey": "e7b55a90-4947-4863-bd11-3413e1d5c9af",
        "customOutput": null,
        "collapsed": false,
        "requestMsgId": "96a3c2f7-b803-44f2-8627-4ab41c6bed54",
        "executionStartTime": 1668655892956,
        "executionStopTime": 1668655893040
      },
      "source": [
        "def optimize_acqf_and_get_candidate(acq_func, bounds, batch_size):\n",
        "    \"\"\"Optimizes the acquisition function, and returns a new candidate and a noisy observation.\"\"\"\n",
        "    # optimize\n",
        "    candidates, _ = optimize_acqf(\n",
        "        acq_function=acq_func,\n",
        "        bounds=bounds,\n",
        "        q=batch_size,\n",
        "        num_restarts=10,\n",
        "        raw_samples=512,  # used for intialization heuristic\n",
        "        options={\"batch_limit\": 5, \"maxiter\": 200, \"init_batch_limit\": 5},\n",
        "    )\n",
        "    # observe new values \n",
        "    new_x = candidates.detach()\n",
        "    return new_x"
      ],
      "execution_count": 6,
      "outputs": []
    },
    {
      "cell_type": "code",
      "metadata": {
        "originalKey": "38cc0aa9-f319-4e79-ab11-b50a122f2968",
        "customOutput": null,
        "collapsed": false,
        "requestMsgId": "b3fc104e-4684-40ca-9474-0c45c4767e2a",
        "executionStartTime": 1668655893255,
        "executionStopTime": 1668655893264
      },
      "source": [
        "def construct_acqf(model, objective, num_samples, best_f):\n",
        "    sampler = IIDNormalSampler(sample_shape=torch.Size([num_samples]))\n",
        "    qEI = qExpectedImprovement(\n",
        "        model=model, \n",
        "        best_f=best_f,\n",
        "        sampler=sampler, \n",
        "        objective=objective,\n",
        "    )\n",
        "    return qEI"
      ],
      "execution_count": 7,
      "outputs": []
    },
    {
      "cell_type": "markdown",
      "metadata": {
        "originalKey": "53414433-e097-4556-90e9-e99e35cdb390",
        "showInput": false
      },
      "source": [
        "Set environmental parameters, we use 20 initial data points and optimize for 20 steps with a batch size of 3 candidate points at each evaluation."
      ]
    },
    {
      "cell_type": "code",
      "metadata": {
        "originalKey": "518830e7-d391-49ad-a5a9-3a74e2c00e02",
        "customOutput": null,
        "collapsed": false,
        "requestMsgId": "2f589746-3113-44b5-ab25-e9d7f6f2a4f5",
        "executionStartTime": 1668655893481,
        "executionStopTime": 1668655893494
      },
      "source": [
        "if SMOKE_TEST:\n",
        "    n_init = 5\n",
        "    n_steps = 1\n",
        "    batch_size = 2\n",
        "    num_samples = 4\n",
        "    n_trials = 4\n",
        "    verbose = False\n",
        "else:\n",
        "    n_init = 20\n",
        "    n_steps = 20\n",
        "    batch_size = 3\n",
        "    num_samples = 128\n",
        "    n_trials = 3\n",
        "    verbose = True"
      ],
      "execution_count": 8,
      "outputs": []
    },
    {
      "cell_type": "markdown",
      "metadata": {
        "originalKey": "eff2dc86-0797-40a7-962d-04e8c539c21a",
        "showInput": false
      },
      "source": [
        "## BO Loop\n",
        "\n",
        "Warning... this optimization loop can take a while, especially on the CPU. We compare to both random sampling and a batch GP fit in a composite manner on every output. The batch GP does not take into account any correlations between the different tasks."
      ]
    },
    {
      "cell_type": "code",
      "metadata": {
        "originalKey": "a9ec9107-cbba-4c04-a509-fea4d9d41dc7",
        "customOutput": null,
        "collapsed": false,
        "requestMsgId": "b65dd0ba-649c-42ac-b688-4ef2bdb1e43f",
        "executionStartTime": 1668655893801,
        "executionStopTime": 1668658416621
      },
      "source": [
        "\n",
        "mtgp_trial_objectives = []\n",
        "batch_trial_objectives = []\n",
        "rand_trial_objectives = []\n",
        "\n",
        "for trial in range(n_trials):\n",
        "    init_x = (bounds[1] - bounds[0]) * torch.rand(n_init, bounds.shape[1], **tkwargs) + bounds[0]\n",
        "\n",
        "    init_y = problem(init_x)\n",
        "\n",
        "    mtgp_train_x, mtgp_train_y = init_x, init_y\n",
        "    batch_train_x, batch_train_y = init_x, init_y\n",
        "    rand_x, rand_y = init_x, init_y\n",
        "\n",
        "    best_value_mtgp = objective(init_y).max()\n",
        "    best_value_batch = best_value_mtgp\n",
        "    best_random = best_value_mtgp\n",
        "    \n",
        "    for iteration in range(n_steps):\n",
        "        # we empty the cache to clear memory out\n",
        "        torch.cuda.empty_cache()\n",
        "\n",
        "        mtgp_t0 = time.monotonic()\n",
        "        mtgp = KroneckerMultiTaskGP(\n",
        "            mtgp_train_x, \n",
        "            mtgp_train_y, \n",
        "        )\n",
        "        mtgp_mll = ExactMarginalLogLikelihood(mtgp.likelihood, mtgp)\n",
        "        fit_gpytorch_torch(mtgp_mll, options={\"maxiter\": 3000, \"lr\": 0.01, \"disp\": False})\n",
        "        mtgp_acqf = construct_acqf(mtgp, objective, num_samples, best_value_mtgp)\n",
        "        new_mtgp_x = optimize_acqf_and_get_candidate(mtgp_acqf, bounds, batch_size)\n",
        "        mtgp_t1 = time.monotonic()\n",
        "\n",
        "        batch_t0 = time.monotonic()\n",
        "        batchgp = SingleTaskGP(\n",
        "            batch_train_x, \n",
        "            batch_train_y, \n",
        "        )\n",
        "        batch_mll = ExactMarginalLogLikelihood(batchgp.likelihood, batchgp)\n",
        "        fit_gpytorch_torch(batch_mll, options={\"maxiter\": 3000, \"lr\": 0.01, \"disp\": False})\n",
        "        batch_acqf = construct_acqf(batchgp, objective, num_samples, best_value_batch)\n",
        "        new_batch_x = optimize_acqf_and_get_candidate(batch_acqf, bounds, batch_size)\n",
        "        batch_t1 = time.monotonic()\n",
        "\n",
        "        mtgp_train_x = torch.cat((mtgp_train_x, new_mtgp_x), dim=0)\n",
        "        batch_train_x = torch.cat((batch_train_x, new_batch_x), dim=0)\n",
        "\n",
        "        mtgp_train_y = torch.cat((mtgp_train_y, problem(new_mtgp_x)), dim=0)\n",
        "        batch_train_y = torch.cat((batch_train_y, problem(new_batch_x)), dim=0)\n",
        "\n",
        "        best_value_mtgp = objective(mtgp_train_y).max()\n",
        "        best_value_batch = objective(batch_train_y).max()\n",
        "        \n",
        "        new_rand_x = (bounds[1] - bounds[0]) * torch.rand(batch_size, bounds.shape[1], **tkwargs) + bounds[0]\n",
        "        rand_x = torch.cat((rand_x, new_rand_x))\n",
        "        rand_y = torch.cat((rand_y, problem(new_rand_x)))\n",
        "        best_random = objective(rand_y).max()\n",
        "\n",
        "        if verbose:\n",
        "            print(\n",
        "                f\"\\nBatch {iteration:>2}: best_value (random, mtgp, batch) = \"\n",
        "                f\"({best_random:>4.2f}, {best_value_mtgp:>4.2f}, {best_value_batch:>4.2f}), \"\n",
        "                f\"batch time = {batch_t1-batch_t0:>4.2f}, mtgp time = {mtgp_t1-mtgp_t0:>4.2f}\", end=\"\"\n",
        "            )\n",
        "        else:\n",
        "            print(\".\", end=\"\")\n",
        "            \n",
        "    mtgp_trial_objectives.append(objective(mtgp_train_y).detach().cpu())\n",
        "    batch_trial_objectives.append(objective(batch_train_y).detach().cpu())\n",
        "    rand_trial_objectives.append(objective(rand_y).detach().cpu())"
      ],
      "execution_count": 9,
      "outputs": [
        {
          "output_type": "stream",
          "name": "stderr",
          "text": [
            "/data/sandcastle/boxes/fbsource/buck-out/v2/gen/fbcode/f3b9a99e517e0a13/bento/kernels/__bento_kernel_axoptics__/bento_kernel_axoptics#link-tree/botorch/optim/optimize.py:306: RuntimeWarning:\n\nOptimization failed in `gen_candidates_scipy` with the following warning(s):\n[OptimizationWarning('Optimization failed within `scipy.optimize.minimize` with status 2.')]\nTrying again with a new set of initial conditions.\n\n"
          ]
        },
        {
          "output_type": "stream",
          "name": "stdout",
          "text": [
            "\nBatch  0: best_value (random, mtgp, batch) = (-9.52, -9.52, -9.52), batch time = 3.31, mtgp time = 45.77",
            "\nBatch  1: best_value (random, mtgp, batch) = (-9.52, -9.52, -9.52), batch time = 2.02, mtgp time = 12.52"
          ]
        },
        {
          "output_type": "stream",
          "name": "stderr",
          "text": [
            "/data/sandcastle/boxes/fbsource/buck-out/v2/gen/fbcode/f3b9a99e517e0a13/bento/kernels/__bento_kernel_axoptics__/bento_kernel_axoptics#link-tree/botorch/optim/optimize.py:306: RuntimeWarning:\n\nOptimization failed in `gen_candidates_scipy` with the following warning(s):\n[OptimizationWarning('Optimization failed within `scipy.optimize.minimize` with status 2.')]\nTrying again with a new set of initial conditions.\n\n"
          ]
        },
        {
          "output_type": "stream",
          "name": "stdout",
          "text": [
            "\nBatch  2: best_value (random, mtgp, batch) = (-9.52, -9.52, -9.52), batch time = 2.14, mtgp time = 53.70"
          ]
        },
        {
          "output_type": "stream",
          "name": "stderr",
          "text": [
            "/data/sandcastle/boxes/fbsource/buck-out/v2/gen/fbcode/f3b9a99e517e0a13/bento/kernels/__bento_kernel_axoptics__/bento_kernel_axoptics#link-tree/botorch/optim/optimize.py:306: RuntimeWarning:\n\nOptimization failed in `gen_candidates_scipy` with the following warning(s):\n[OptimizationWarning('Optimization failed within `scipy.optimize.minimize` with status 2.'), NumericalWarning('A not p.d., added jitter of 1.0e-08 to the diagonal')]\nTrying again with a new set of initial conditions.\n\n"
          ]
        },
        {
          "output_type": "stream",
          "name": "stdout",
          "text": [
            "\nBatch  3: best_value (random, mtgp, batch) = (-9.52, -9.52, -9.52), batch time = 1.98, mtgp time = 53.48",
            "\nBatch  4: best_value (random, mtgp, batch) = (-9.52, -9.52, -5.75), batch time = 4.06, mtgp time = 39.60",
            "\nBatch  5: best_value (random, mtgp, batch) = (-9.52, -3.53, -2.88), batch time = 8.28, mtgp time = 28.05",
            "\nBatch  6: best_value (random, mtgp, batch) = (-9.52, -3.53, -2.52), batch time = 8.07, mtgp time = 30.54",
            "\nBatch  7: best_value (random, mtgp, batch) = (-9.52, -3.52, -2.45), batch time = 7.99, mtgp time = 12.40",
            "\nBatch  8: best_value (random, mtgp, batch) = (-9.52, -2.64, -2.45), batch time = 7.83, mtgp time = 19.01",
            "\nBatch  9: best_value (random, mtgp, batch) = (-9.52, -2.64, -2.45), batch time = 7.75, mtgp time = 28.12"
          ]
        },
        {
          "output_type": "stream",
          "name": "stderr",
          "text": [
            "/data/sandcastle/boxes/fbsource/buck-out/v2/gen/fbcode/f3b9a99e517e0a13/bento/kernels/__bento_kernel_axoptics__/bento_kernel_axoptics#link-tree/botorch/optim/optimize.py:306: RuntimeWarning:\n\nOptimization failed in `gen_candidates_scipy` with the following warning(s):\n[NumericalWarning('A not p.d., added jitter of 1.0e-08 to the diagonal'), OptimizationWarning('Optimization failed within `scipy.optimize.minimize` with status 2.')]\nTrying again with a new set of initial conditions.\n\n"
          ]
        },
        {
          "output_type": "stream",
          "name": "stdout",
          "text": [
            "\nBatch 10: best_value (random, mtgp, batch) = (-9.52, -2.64, -2.45), batch time = 7.24, mtgp time = 63.18",
            "\nBatch 11: best_value (random, mtgp, batch) = (-9.52, -2.64, -2.45), batch time = 7.85, mtgp time = 45.08",
            "\nBatch 12: best_value (random, mtgp, batch) = (-9.52, -2.64, -2.22), batch time = 8.53, mtgp time = 24.61"
          ]
        },
        {
          "output_type": "stream",
          "name": "stderr",
          "text": [
            "/data/sandcastle/boxes/fbsource/buck-out/v2/gen/fbcode/f3b9a99e517e0a13/bento/kernels/__bento_kernel_axoptics__/bento_kernel_axoptics#link-tree/botorch/optim/optimize.py:306: RuntimeWarning:\n\nOptimization failed in `gen_candidates_scipy` with the following warning(s):\n[OptimizationWarning('Optimization failed within `scipy.optimize.minimize` with status 2.')]\nTrying again with a new set of initial conditions.\n\n"
          ]
        },
        {
          "output_type": "stream",
          "name": "stdout",
          "text": [
            "\nBatch 13: best_value (random, mtgp, batch) = (-9.52, -2.64, -2.22), batch time = 7.75, mtgp time = 62.04",
            "\nBatch 14: best_value (random, mtgp, batch) = (-9.52, -2.64, -2.22), batch time = 8.15, mtgp time = 19.19",
            "\nBatch 15: best_value (random, mtgp, batch) = (-9.52, -2.64, -2.22), batch time = 8.05, mtgp time = 26.64",
            "\nBatch 16: best_value (random, mtgp, batch) = (-9.52, -2.64, -2.22), batch time = 7.63, mtgp time = 24.20",
            "\nBatch 17: best_value (random, mtgp, batch) = (-9.52, -2.48, -2.22), batch time = 8.36, mtgp time = 29.47",
            "\nBatch 18: best_value (random, mtgp, batch) = (-6.07, -2.48, -2.22), batch time = 8.25, mtgp time = 26.25",
            "\nBatch 19: best_value (random, mtgp, batch) = (-6.07, -2.20, -2.22), batch time = 4.29, mtgp time = 26.26",
            "\nBatch  0: best_value (random, mtgp, batch) = (-5.28, -3.10, -3.23), batch time = 5.20, mtgp time = 41.11",
            "\nBatch  1: best_value (random, mtgp, batch) = (-5.28, -3.10, -3.23), batch time = 8.81, mtgp time = 49.68",
            "\nBatch  2: best_value (random, mtgp, batch) = (-5.28, -3.10, -2.89), batch time = 8.38, mtgp time = 27.30",
            "\nBatch  3: best_value (random, mtgp, batch) = (-5.28, -3.10, -2.70), batch time = 8.10, mtgp time = 28.32",
            "\nBatch  4: best_value (random, mtgp, batch) = (-5.28, -3.10, -2.70), batch time = 9.32, mtgp time = 31.53",
            "\nBatch  5: best_value (random, mtgp, batch) = (-5.28, -3.10, -2.70), batch time = 8.29, mtgp time = 35.85",
            "\nBatch  6: best_value (random, mtgp, batch) = (-5.28, -3.10, -2.51), batch time = 8.31, mtgp time = 29.49",
            "\nBatch  7: best_value (random, mtgp, batch) = (-5.28, -3.10, -2.51), batch time = 9.07, mtgp time = 20.94",
            "\nBatch  8: best_value (random, mtgp, batch) = (-5.28, -3.10, -2.51), batch time = 7.90, mtgp time = 23.02",
            "\nBatch  9: best_value (random, mtgp, batch) = (-5.28, -3.10, -2.51), batch time = 7.99, mtgp time = 23.84",
            "\nBatch 10: best_value (random, mtgp, batch) = (-5.28, -2.92, -2.24), batch time = 8.04, mtgp time = 22.89",
            "\nBatch 11: best_value (random, mtgp, batch) = (-5.28, -2.92, -2.24), batch time = 8.06, mtgp time = 38.07",
            "\nBatch 12: best_value (random, mtgp, batch) = (-5.28, -2.92, -2.24), batch time = 8.84, mtgp time = 28.94",
            "\nBatch 13: best_value (random, mtgp, batch) = (-5.28, -2.34, -2.24), batch time = 8.67, mtgp time = 28.40",
            "\nBatch 14: best_value (random, mtgp, batch) = (-5.28, -2.34, -2.24), batch time = 7.78, mtgp time = 25.74",
            "\nBatch 15: best_value (random, mtgp, batch) = (-5.28, -2.34, -2.24), batch time = 8.06, mtgp time = 56.54",
            "\nBatch 16: best_value (random, mtgp, batch) = (-5.28, -2.34, -2.24), batch time = 8.42, mtgp time = 40.27",
            "\nBatch 17: best_value (random, mtgp, batch) = (-5.28, -2.34, -2.24), batch time = 8.58, mtgp time = 34.44",
            "\nBatch 18: best_value (random, mtgp, batch) = (-5.28, -2.34, -2.24), batch time = 7.94, mtgp time = 43.83",
            "\nBatch 19: best_value (random, mtgp, batch) = (-5.28, -2.34, -2.24), batch time = 8.81, mtgp time = 53.25",
            "\nBatch  0: best_value (random, mtgp, batch) = (-7.10, -7.10, -4.90), batch time = 2.41, mtgp time = 12.40",
            "\nBatch  1: best_value (random, mtgp, batch) = (-7.10, -3.49, -4.02), batch time = 8.21, mtgp time = 44.55",
            "\nBatch  2: best_value (random, mtgp, batch) = (-7.10, -3.49, -2.70), batch time = 8.13, mtgp time = 37.52",
            "\nBatch  3: best_value (random, mtgp, batch) = (-7.10, -3.49, -2.39), batch time = 8.63, mtgp time = 18.00",
            "\nBatch  4: best_value (random, mtgp, batch) = (-6.70, -3.49, -2.39), batch time = 8.25, mtgp time = 51.32",
            "\nBatch  5: best_value (random, mtgp, batch) = (-6.70, -2.93, -2.39), batch time = 8.16, mtgp time = 50.34",
            "\nBatch  6: best_value (random, mtgp, batch) = (-6.70, -2.93, -2.39), batch time = 7.95, mtgp time = 42.04",
            "\nBatch  7: best_value (random, mtgp, batch) = (-6.70, -2.93, -2.39), batch time = 8.18, mtgp time = 45.74",
            "\nBatch  8: best_value (random, mtgp, batch) = (-6.70, -2.93, -2.39), batch time = 8.06, mtgp time = 39.82",
            "\nBatch  9: best_value (random, mtgp, batch) = (-6.54, -2.93, -2.39), batch time = 8.39, mtgp time = 39.64",
            "\nBatch 10: best_value (random, mtgp, batch) = (-6.54, -2.93, -2.39), batch time = 8.15, mtgp time = 46.49",
            "\nBatch 11: best_value (random, mtgp, batch) = (-6.54, -2.77, -2.39), batch time = 7.89, mtgp time = 27.89",
            "\nBatch 12: best_value (random, mtgp, batch) = (-6.54, -2.77, -2.32), batch time = 8.45, mtgp time = 33.86",
            "\nBatch 13: best_value (random, mtgp, batch) = (-6.54, -2.77, -2.32), batch time = 8.55, mtgp time = 19.53"
          ]
        },
        {
          "output_type": "stream",
          "name": "stderr",
          "text": [
            "/data/sandcastle/boxes/fbsource/buck-out/v2/gen/fbcode/f3b9a99e517e0a13/bento/kernels/__bento_kernel_axoptics__/bento_kernel_axoptics#link-tree/botorch/optim/optimize.py:306: RuntimeWarning:\n\nOptimization failed in `gen_candidates_scipy` with the following warning(s):\n[OptimizationWarning('Optimization failed within `scipy.optimize.minimize` with status 2.')]\nTrying again with a new set of initial conditions.\n\n"
          ]
        },
        {
          "output_type": "stream",
          "name": "stdout",
          "text": [
            "\nBatch 14: best_value (random, mtgp, batch) = (-6.54, -2.77, -2.32), batch time = 8.09, mtgp time = 45.71",
            "\nBatch 15: best_value (random, mtgp, batch) = (-6.54, -2.67, -2.32), batch time = 8.03, mtgp time = 24.59",
            "\nBatch 16: best_value (random, mtgp, batch) = (-5.50, -2.67, -2.32), batch time = 8.65, mtgp time = 22.76",
            "\nBatch 17: best_value (random, mtgp, batch) = (-5.50, -2.67, -2.18), batch time = 8.15, mtgp time = 26.27",
            "\nBatch 18: best_value (random, mtgp, batch) = (-5.50, -2.67, -2.18), batch time = 8.01, mtgp time = 54.98",
            "\nBatch 19: best_value (random, mtgp, batch) = (-5.50, -2.67, -2.18), batch time = 6.50, mtgp time = 34.56"
          ]
        }
      ]
    },
    {
      "cell_type": "markdown",
      "metadata": {
        "originalKey": "b567ab22-f3b4-41e3-aaae-75e6fe820cfc",
        "showInput": false
      },
      "source": [
        "### Plot Results"
      ]
    },
    {
      "cell_type": "code",
      "metadata": {
        "originalKey": "e0aa4e12-c620-4ad8-ae62-93e5d86aa749",
        "customOutput": null,
        "collapsed": false,
        "requestMsgId": "411477be-fc76-4e40-b3f9-164f10ca0a0b",
        "executionStartTime": 1668658416908,
        "executionStopTime": 1668658417004
      },
      "source": [
        "import matplotlib.pyplot as plt"
      ],
      "execution_count": 10,
      "outputs": []
    },
    {
      "cell_type": "markdown",
      "metadata": {
        "originalKey": "3585efc5-bcb5-49f0-9fe1-e50d2deccfd2",
        "showInput": false
      },
      "source": [
        "Finally, we plot the results, where we see that the MTGP tends to outperform both the batch GP and the random baseline. The optimization procedure seems to have a good deal less noise than the batch GP.\n",
        "\n",
        "However, as demonstrated above, optimizing the acquisition function and fitting the MTGP tend to take a bit longer."
      ]
    },
    {
      "cell_type": "code",
      "metadata": {
        "originalKey": "de92c2b6-186d-4ade-a943-b3059715924f",
        "customOutput": null,
        "collapsed": false,
        "requestMsgId": "bec8d564-29a6-400a-85d4-aeeace3674c4",
        "executionStartTime": 1668658417232,
        "executionStopTime": 1668658417315
      },
      "source": [
        "mtgp_results = torch.stack(mtgp_trial_objectives)[:, n_init:].cummax(1).values\n",
        "batch_results = torch.stack(batch_trial_objectives)[:, n_init:].cummax(1).values\n",
        "random_results = torch.stack(rand_trial_objectives)[:, n_init:].cummax(1).values"
      ],
      "execution_count": 11,
      "outputs": []
    },
    {
      "cell_type": "code",
      "metadata": {
        "originalKey": "df7c4448-7664-400c-9c1a-def393c26b6a",
        "customOutput": null,
        "collapsed": false,
        "requestMsgId": "ef47e1cc-aaf5-47b9-9b20-dc0259de2465",
        "executionStartTime": 1668658417567,
        "executionStopTime": 1668658417873
      },
      "source": [
        "plt.plot(mtgp_results.mean(0))\n",
        "plt.fill_between(\n",
        "    torch.arange(n_steps * batch_size), \n",
        "    mtgp_results.mean(0) - 2. * mtgp_results.std(0) / (n_trials ** 0.5),\n",
        "    mtgp_results.mean(0) + 2. * mtgp_results.std(0) / (n_trials ** 0.5),\n",
        "    alpha = 0.3, label = \"MTGP\",\n",
        ")\n",
        "\n",
        "plt.plot(batch_results.mean(0))\n",
        "plt.fill_between(\n",
        "    torch.arange(n_steps * batch_size), \n",
        "    batch_results.mean(0) - 2. * batch_results.std(0) / (n_trials ** 0.5),\n",
        "    batch_results.mean(0) + 2. * batch_results.std(0) / (n_trials ** 0.5),\n",
        "    alpha = 0.3, label = \"Batch\"\n",
        ")\n",
        "\n",
        "plt.plot(random_results.mean(0))\n",
        "plt.fill_between(\n",
        "    torch.arange(n_steps * batch_size), \n",
        "    random_results.mean(0) - 2. * random_results.std(0) / (n_trials ** 0.5),\n",
        "    random_results.mean(0) + 2. * random_results.std(0) / (n_trials ** 0.5),\n",
        "    alpha = 0.3, label = \"Random\"\n",
        ")\n",
        "\n",
        "plt.legend(loc = \"lower right\", fontsize = 15)\n",
        "plt.xlabel(\"Number of Function Queries\")\n",
        "plt.ylabel(\"Best Objective Achieved\")"
      ],
      "execution_count": 12,
      "outputs": [
        {
          "output_type": "execute_result",
          "data": {
            "text/plain": "Text(0, 0.5, 'Best Objective Achieved')"
          },
          "metadata": {
            "bento_obj_id": "139939757883888"
          },
          "execution_count": 12
        },
        {
          "output_type": "display_data",
          "data": {
            "text/plain": "<Figure size 432x288 with 1 Axes>",
            "image/png": "[encoded data removed]"
          },
          "metadata": {
            "bento_obj_id": "139939791511408",
            "needs_background": "light"
          }
        }
      ]
    },
    {
      "cell_type": "code",
      "metadata": {
        "originalKey": "49c62bed-cab5-44f9-82b0-90ca2c2f598d",
        "customOutput": null,
        "collapsed": false,
        "requestMsgId": "b2ac13f5-29a6-4287-b521-59bcdcf9f737",
        "executionStartTime": 1668658418086,
        "executionStopTime": 1668658418094
      },
      "source": [
        ""
      ],
      "execution_count": 13,
      "outputs": []
    }
  ]
}
