{
 "cells": [
  {
   "cell_type": "markdown",
   "metadata": {
    "collapsed": true
   },
   "source": [
    "## Application of batch-mode regression to cross-validation\n",
    "\n",
    "botorch provides a helper function `gen_loo_cv_folds` to easily perform leave-one-out (LOO) cross-validation (CV) by taking advantage of batch-mode regression and evaluation in GPyTorch. This tutorial illustrates the process on a noisy sinusoidal function, similar to the example from the batch-mode GP regression [tutorial](https://github.com/cornellius-gp/gpytorch/blob/master/examples/01_Simple_GP_Regression/Simple_Batch_Mode_GP_Regression.ipynb) from GPyTorch:\n",
    "\n",
    "$$y = \\sin(2\\pi x) + \\epsilon, ~\\epsilon \\sim \\mathcal N(0, 0.2).$$\n",
    "\n",
    "Note: this tutorial aims to introduce batch-mode regression and evaluation in GPyTorch with CV as an example application. For alternative, more user-friendly functions to perform CV, see [**TODO**: link to Ax]. However, for larger CV tasks, it may be useful to exploit GPyTorch batch-mode, as shown in this tutorial."
   ]
  },
  {
   "cell_type": "code",
   "execution_count": 1,
   "metadata": {},
   "outputs": [],
   "source": [
    "import torch\n",
    "import math\n",
    "\n",
    "device = torch.device(\"cpu\")\n",
    "dtype = torch.float\n",
    "torch.manual_seed(3);"
   ]
  },
  {
   "cell_type": "markdown",
   "metadata": {},
   "source": [
    "#### Initialize the CV dataset\n",
    "\n",
    "For our training data, we take 20 regularly spaced points on the interval $[0, 1]$ and generate noisy evaluations with standard deviation 0.2."
   ]
  },
  {
   "cell_type": "code",
   "execution_count": 2,
   "metadata": {},
   "outputs": [],
   "source": [
    "sigma = math.sqrt(0.2)\n",
    "train_x = torch.linspace(0, 1, 20, dtype=dtype, device=device).view(-1, 1)\n",
    "train_y_noiseless = torch.sin(train_x * (2 * math.pi)).view(-1)\n",
    "train_y = train_y_noiseless + sigma * torch.randn_like(train_y_noiseless)"
   ]
  },
  {
   "cell_type": "markdown",
   "metadata": {},
   "source": [
    "The botorch function `gen_loo_cv_folds` takes our dataset `train_x` and `train_y` as input and returns the LOO CV folds in a `CVFolds` object."
   ]
  },
  {
   "cell_type": "code",
   "execution_count": 3,
   "metadata": {},
   "outputs": [],
   "source": [
    "from botorch.cross_validation import gen_loo_cv_folds\n",
    "\n",
    "cv_folds = gen_loo_cv_folds(train_x=train_x, train_y=train_y)"
   ]
  },
  {
   "cell_type": "markdown",
   "metadata": {},
   "source": [
    "The `cv_folds` object contains the data, stored as tensors of appropriate batch shape, necessary to perform 20 CVs of 19 training points and 1 test point. For example, we can check that the shapes of the training data are `b x n x d = 20 x 19 x 1` and `b x n = 20 x 19`."
   ]
  },
  {
   "cell_type": "code",
   "execution_count": 4,
   "metadata": {},
   "outputs": [
    {
     "data": {
      "text/plain": [
       "(torch.Size([20, 19, 1]), torch.Size([20, 19]))"
      ]
     },
     "execution_count": 4,
     "metadata": {},
     "output_type": "execute_result"
    }
   ],
   "source": [
    "cv_folds.train_x.shape, cv_folds.train_y.shape"
   ]
  },
  {
   "cell_type": "code",
   "execution_count": 5,
   "metadata": {},
   "outputs": [
    {
     "data": {
      "text/plain": [
       "(torch.Size([20, 1, 1]), torch.Size([20, 1]))"
      ]
     },
     "execution_count": 5,
     "metadata": {},
     "output_type": "execute_result"
    }
   ],
   "source": [
    "cv_folds.test_x.shape, cv_folds.test_y.shape"
   ]
  },
  {
   "cell_type": "markdown",
   "metadata": {},
   "source": [
    "Note that in a situation where the dataset is large, one may not want to perform LOO; in that case, a similar process can be used to perform $k$-fold CV."
   ]
  },
  {
   "cell_type": "markdown",
   "metadata": {},
   "source": [
    "#### Instantiate a batch-mode GP\n",
    "\n",
    "We can now define and fit a batch-mode GP, meaning that the `b = 20` sets of training data can be fit as `b = 20` separate GP models in parallel through GPyTorch. We use a basic `SingleTaskGP` with inferred noise level."
   ]
  },
  {
   "cell_type": "code",
   "execution_count": 6,
   "metadata": {},
   "outputs": [],
   "source": [
    "from botorch import fit_gpytorch_model\n",
    "from botorch.models import SingleTaskGP\n",
    "from gpytorch.mlls.exact_marginal_log_likelihood import ExactMarginalLogLikelihood\n",
    "\n",
    "# instantiate and fit model\n",
    "model = SingleTaskGP(train_X=cv_folds.train_x, train_Y=cv_folds.train_y)\n",
    "mll = ExactMarginalLogLikelihood(model.likelihood, model)\n",
    "mll = fit_gpytorch_model(mll)"
   ]
  },
  {
   "cell_type": "markdown",
   "metadata": {},
   "source": [
    "#### Compute the cross-validation error and generate plots\n",
    "To compute the cross-validation error, we first evaluate the test points by computing the posterior in batch mode. Next, we compute the squared errors for each test point from the prediction and take an average across all cross-validation folds."
   ]
  },
  {
   "cell_type": "code",
   "execution_count": 7,
   "metadata": {},
   "outputs": [
    {
     "name": "stdout",
     "output_type": "stream",
     "text": [
      "Cross-validation error:  0.37\n"
     ]
    },
    {
     "data": {
      "image/png": "[encoded data removed]",
      "text/plain": [
       "<Figure size 432x288 with 1 Axes>"
      ]
     },
     "metadata": {
      "needs_background": "light"
     },
     "output_type": "display_data"
    }
   ],
   "source": [
    "from matplotlib import pyplot as plt\n",
    "%matplotlib inline\n",
    "\n",
    "with torch.no_grad():\n",
    "    # evaluate on the test points in batch mode\n",
    "    posterior = model.posterior(cv_folds.test_x)\n",
    "    mean = posterior.mean\n",
    "    cv_error = ((cv_folds.test_y.squeeze() - mean.squeeze()) ** 2).mean()\n",
    "    print(f\"Cross-validation error: {cv_error : 4.2}\")\n",
    "    \n",
    "    # get lower and upper confidence bounds\n",
    "    lower, upper = posterior.mvn.confidence_region()\n",
    "    \n",
    "    # scatterplot of predicted versus test\n",
    "    _, axes = plt.subplots(1, 1, figsize=(6, 4))\n",
    "    plt.plot([-1.5, 1.5], [-1.5, 1.5], 'k', label=\"true objective\", linewidth=2)\n",
    "    \n",
    "    axes.set_xlabel(\"Actual\")\n",
    "    axes.set_ylabel(\"Predicted\")\n",
    "    \n",
    "    axes.errorbar(\n",
    "        x=cv_folds.test_y.numpy(), \n",
    "        y=mean.numpy(), \n",
    "        xerr=1.96*sigma,\n",
    "        yerr=((upper-lower)/2).numpy(),\n",
    "        fmt='*'\n",
    "    )    "
   ]
  },
  {
   "cell_type": "markdown",
   "metadata": {},
   "source": [
    "Finally, we can visualize the fitted models. To do this, we again take advantage of batch-mode evaluation to obtain predictions, including lower and upper confidence regions, from each of the 20 models."
   ]
  },
  {
   "cell_type": "code",
   "execution_count": 8,
   "metadata": {},
   "outputs": [],
   "source": [
    "with torch.no_grad():\n",
    "    # evaluate the models at a series of points for plotting \n",
    "    plot_x = torch.linspace(0, 1, 101).view(1, -1, 1).repeat(cv_folds.train_x.shape[0], 1, 1)\n",
    "    posterior = model.posterior(plot_x)\n",
    "    mean = posterior.mean\n",
    "    \n",
    "    # get lower and upper confidence bounds\n",
    "    lower, upper = posterior.mvn.confidence_region()\n",
    "    plot_x.squeeze_()"
   ]
  },
  {
   "cell_type": "markdown",
   "metadata": {},
   "source": [
    "The code snippet below plots the result for the 12th CV fold (by setting `num = 12`), but note that we have computed the results for all folds above (other plots can be obtained by iterating `num` from 1 to 20)."
   ]
  },
  {
   "cell_type": "code",
   "execution_count": 9,
   "metadata": {},
   "outputs": [
    {
     "data": {
      "text/plain": [
       "<matplotlib.collections.PolyCollection at 0x135fe0eb8>"
      ]
     },
     "execution_count": 9,
     "metadata": {},
     "output_type": "execute_result"
    },
    {
     "data": {
      "image/png": "[encoded data removed]",
      "text/plain": [
       "<Figure size 432x288 with 1 Axes>"
      ]
     },
     "metadata": {
      "needs_background": "light"
     },
     "output_type": "display_data"
    }
   ],
   "source": [
    "_, axes = plt.subplots(1, 1, figsize=(6, 4))\n",
    "\n",
    "# plot the 12th CV fold\n",
    "num = 12 \n",
    "\n",
    "# plot the training data in black\n",
    "axes.plot(\n",
    "    cv_folds.train_x[num - 1].detach().numpy(), \n",
    "    cv_folds.train_y[num - 1].detach().numpy(), \n",
    "    'k*'\n",
    ")\n",
    "\n",
    "# plot the test data in red\n",
    "axes.plot(\n",
    "    cv_folds.test_x[num - 1].detach().numpy(), \n",
    "    cv_folds.test_y[num - 1].detach().numpy(), \n",
    "    'r*'\n",
    ")\n",
    "\n",
    "# plot posterior means as blue line\n",
    "axes.plot(plot_x[num - 1].numpy(), mean[num-1].numpy(), 'b')\n",
    "\n",
    "# shade between the lower and upper confidence bounds\n",
    "axes.fill_between(\n",
    "    plot_x[num - 1].numpy(), \n",
    "    lower[num - 1].numpy(), \n",
    "    upper[num - 1].numpy(), \n",
    "    alpha=0.5\n",
    ")"
   ]
  },
  {
   "cell_type": "markdown",
   "metadata": {},
   "source": [
    "Here we can observe that the `SingleTaskGP` we used here infers a really small noise level (and hence overfits the data). If we know that our observations are noisy, a better choice would be a `FixedNoiseGP`, or even a `HeteroskedasticSingleTaskGP`."
   ]
  }
 ],
 "metadata": {
  "bento_stylesheets": {
   "bento/extensions/flow/main.css": true,
   "bento/extensions/kernel_selector/main.css": true,
   "bento/extensions/kernel_ui/main.css": true,
   "bento/extensions/new_kernel/main.css": true,
   "bento/extensions/system_usage/main.css": true,
   "bento/extensions/theme/main.css": true
  },
  "disseminate_notebook_id": {
   "notebook_id": "430741191006122"
  },
  "disseminate_notebook_info": {
   "bento_version": "20190325-030410",
   "description": "",
   "hide_code": false,
   "hipster_group": "",
   "kernel_build_info": {
    "error": "The file located at '/data/users/drjiang/fbsource/fbcode/bento/kernels/local/ae_lazarus/TARGETS' could not be found."
   },
   "no_uii": true,
   "notebook_number": "76658",
   "others_can_edit": false,
   "request_review": true,
   "reviewers": "",
   "revision_id": "2268331346591950",
   "tags": "",
   "tasks": "",
   "title": "cross_validation_tutorial"
  },
  "kernelspec": {
   "display_name": "Python 3",
   "language": "python",
   "name": "python3"
  },
  "language_info": {
   "codemirror_mode": {
    "name": "ipython",
    "version": 3
   },
   "file_extension": ".py",
   "mimetype": "text/x-python",
   "name": "python",
   "nbconvert_exporter": "python",
   "pygments_lexer": "ipython3",
   "version": "3.6.8"
  }
 },
 "nbformat": 4,
 "nbformat_minor": 2
}
