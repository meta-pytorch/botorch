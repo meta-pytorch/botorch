{
  "cells": [
    {
      "cell_type": "markdown",
      "metadata": {
        "originalKey": "20bce0d3-6ea0-4db3-bc3b-2569027a0e3b",
        "showInput": false
      },
      "source": [
        "## Constrained, Parallel, Multi-Objective BO in BoTorch with qNEHVI, and qParEGO\n",
        "\n",
        "In this tutorial, we illustrate how to implement a constrained multi-objective (MO) Bayesian Optimization (BO) closed loop in BoTorch.\n",
        "\n",
        "We use the parallel ParEGO ($q$ParEGO) [1] and parallel Noisy Expected Hypervolume Improvement ($q$NEHVI) [2]  acquisition functions to optimize a synthetic C2-DTLZ2 test function with $M=2$ objectives, $V=1$ constraint, and $d=4$ parameters. The two objectives are\n",
        "$$f_1(\\mathbf x) = (1+ g(\\mathbf x_M))\\cos\\big(\\frac{\\pi}{2}x_1\\big)$$\n",
        "$$f_2(\\mathbf x) = (1+ g(\\mathbf x_M))\\sin\\big(\\frac{\\pi}{2}x_1\\big)$$\n",
        "where $g(\\mathbf x) = \\sum_{x_i \\in \\mathbf x_M} (x_i - 0.5)^2, \\mathbf x \\in [0,1]^d,$ and $\\mathbf x_M$ represents the last $d - M +1$ elements of $\\mathbf x$. Additionally, the C2-DTLZ2 problem uses the following constraint:\n",
        "\n",
        "$$c(\\mathbf x) = - \\min \\bigg[\\min_{i=1}^M\\bigg((f_i(\\mathbf x) -1 )^2 + \\sum_{j=1, j=i}^M (f_j^2 - r^2) \\bigg), \\bigg(\\sum_{i=1}^M \\big((f_i(\\mathbf x) - \\frac{1}{\\sqrt{M}})^2 - r^2\\big)\\bigg)\\bigg]\\geq 0$$\n",
        "\n",
        "where $\\mathbf x \\in [0,1]^d$ and $r=0.2$. \n",
        "\n",
        "The goal here is to *minimize* both objectives. Since BoTorch assumes maximization, we maximize the negative of each objective. Since there typically is no single best solution in multi-objective optimization problems, we seek to find the pareto frontier, the set of optimal trade-offs where improving one metric means deteriorating another.\n",
        "\n",
        "[1] [S. Daulton, M. Balandat, and E. Bakshy. Differentiable Expected Hypervolume Improvement for Parallel Multi-Objective Bayesian Optimization. Advances in Neural Information Processing Systems 33, 2020.](https://arxiv.org/abs/2006.05078)\n",
        "\n",
        "[2] [S. Daulton, M. Balandat, and E. Bakshy. Parallel Bayesian Optimization of Multiple Noisy Objectives with Expected Hypervolume Improvement. Advances in Neural Information Processing Systems 34, 2021.](https://arxiv.org/abs/2105.08195)\n",
        "\n",
        "**For batch optimization (or in noisy settings), we strongly recommend using $q$NEHVI rather than $q$EHVI [1] because it is far more efficient than $q$EHVI and mathematically equivalent in the noiseless setting.**"
      ]
    },
    {
      "cell_type": "markdown",
      "metadata": {
        "originalKey": "00d9f0ef-fab6-463e-a54d-a548581bc7f4"
      },
      "source": [
        "### Set dtype and device\n",
        "Note: $q$EHVI aggressively exploits parallel hardware and is much faster when run on a GPU. See [1] for details."
      ]
    },
    {
      "cell_type": "code",
      "execution_count": 1,
      "metadata": {
        "collapsed": false,
        "executionStartTime": 1648147919827,
        "executionStopTime": 1648147920547,
        "originalKey": "1b948968-e9e7-45cb-9bc6-64c79db6f9f8",
        "requestMsgId": "f27224aa-b567-4a6d-b6b3-74f2ecbfe319"
      },
      "outputs": [],
      "source": [
        "import os\n",
        "import torch\n",
        "\n",
        "\n",
        "tkwargs = {\n",
        "    \"dtype\": torch.double,\n",
        "    \"device\": torch.device(\"cuda\" if torch.cuda.is_available() else \"cpu\"),\n",
        "}\n",
        "SMOKE_TEST = os.environ.get(\"SMOKE_TEST\")"
      ]
    },
    {
      "cell_type": "markdown",
      "metadata": {
        "originalKey": "89f8b99f-5cb2-45c9-9df6-7e1d18d4f8c6"
      },
      "source": [
        "### Problem setup\n"
      ]
    },
    {
      "cell_type": "code",
      "execution_count": 2,
      "metadata": {
        "collapsed": false,
        "executionStartTime": 1648147920597,
        "executionStopTime": 1648147921274,
        "originalKey": "7459e7b1-b499-4d80-a0c9-44e0985be876",
        "requestMsgId": "4227f250-60b5-4c97-b04c-3cfe7a1c410a"
      },
      "outputs": [],
      "source": [
        "from botorch.test_functions.multi_objective import C2DTLZ2\n",
        "\n",
        "\n",
        "d = 4\n",
        "M = 2\n",
        "problem = C2DTLZ2(dim=d, num_objectives=M, negate=True).to(**tkwargs)"
      ]
    },
    {
      "cell_type": "markdown",
      "metadata": {
        "code_folding": [],
        "hidden_ranges": [],
        "originalKey": "2de9fbab-9d15-4410-8371-d3b1f730e3d7",
        "showInput": false
      },
      "source": [
        "#### Model initialization\n",
        "\n",
        "We use a multi-output `SingleTaskGP` to model the two objectives with a homoskedastic Gaussian likelihood with an inferred noise level.\n",
        "\n",
        "The models are initialized with $2(d+1)=10$ points drawn randomly from $[0,1]^{4}$."
      ]
    },
    {
      "cell_type": "code",
      "execution_count": 3,
      "metadata": {
        "code_folding": [],
        "collapsed": false,
        "executionStartTime": 1648147921281,
        "executionStopTime": 1648147921311,
        "hidden_ranges": [],
        "originalKey": "89484dd2-c509-4692-9c81-51fcee30d48b",
        "requestMsgId": "192b8d87-b2e3-4223-b193-6399b8643391"
      },
      "outputs": [],
      "source": [
        "from botorch.models.gp_regression import SingleTaskGP\n",
        "from botorch.models.model_list_gp_regression import ModelListGP\n",
        "from botorch.models.transforms.outcome import Standardize\n",
        "from botorch.utils.sampling import draw_sobol_samples\n",
        "from botorch.utils.transforms import normalize, unnormalize\n",
        "from gpytorch.mlls.sum_marginal_log_likelihood import SumMarginalLogLikelihood\n",
        "\n",
        "\n",
        "def generate_initial_data(n):\n",
        "    # generate training data\n",
        "    train_x = draw_sobol_samples(bounds=problem.bounds, n=n, q=1).squeeze(1)\n",
        "    train_obj = problem(train_x)\n",
        "    # negative values imply feasibility in botorch\n",
        "    train_con = -problem.evaluate_slack(train_x)\n",
        "    return train_x, train_obj, train_con\n",
        "\n",
        "\n",
        "def initialize_model(train_x, train_obj, train_con):\n",
        "    # define models for objective and constraint\n",
        "    train_x = normalize(train_x, problem.bounds)\n",
        "    train_y = torch.cat([train_obj, train_con], dim=-1)\n",
        "    models = []\n",
        "    for i in range(train_y.shape[-1]):\n",
        "        models.append(SingleTaskGP(train_x, train_y[..., i : i + 1], outcome_transform=Standardize(m=1)))\n",
        "    model = ModelListGP(*models)\n",
        "    mll = SumMarginalLogLikelihood(model.likelihood, model)\n",
        "    return mll, model"
      ]
    },
    {
      "cell_type": "markdown",
      "metadata": {
        "code_folding": [],
        "hidden_ranges": [],
        "originalKey": "a0f6fa02-0843-4c45-8a19-8654226c1edc",
        "showInput": false
      },
      "source": [
        "#### Define a helper function that performs the essential BO step for $q$NEHVI\n",
        "The helper function below initializes the $q$NEHVI acquisition function, optimizes it, and returns the batch $\\{x_1, x_2, \\ldots x_q\\}$ along with the observed function values. \n",
        "\n",
        "For this example, we'll use a small batch of $q=2$. Passing the keyword argument `sequential=True` to the function `optimize_acqf`specifies that candidates should be optimized in a sequential greedy fashion (see [1] for details why this is important). A simple initialization heuristic is used to select the 10 restart initial locations from a set of 512 random points. Multi-start optimization of the acquisition function is performed using LBFGS-B with exact gradients computed via auto-differentiation.\n",
        "\n",
        "**Reference Point**\n",
        "\n",
        "$q$NEHVI requires specifying a reference point, which is the lower bound on the objectives used for computing hypervolume. In this tutorial, we assume the reference point is known. In practice the reference point can be set 1) using domain knowledge to be slightly worse than the lower bound of objective values, where the lower bound is the minimum acceptable value of interest for each objective, or 2) using a dynamic reference point selection strategy.\n",
        "\n",
        "**Integrating over function values at in-sample designs**\n",
        "\n",
        "$q$NEHVI integrates over the unknown function values at the previously evaluated designs (see [2] for details). Therefore, we need to provide the previously evaluated designs (`train_x`, *normalized* to be within $[0,1]^d$) to the acquisition function.\n",
        "\n",
        "**Pruning baseline designs**\n",
        "To speed up integration over the function values at the previously evaluated designs, we prune the set of previously evaluated designs (by setting `prune_baseline=True`) to only include those which have positive probability of being on the current in-sample Pareto frontier."
      ]
    },
    {
      "cell_type": "code",
      "execution_count": 4,
      "metadata": {
        "code_folding": [],
        "collapsed": false,
        "executionStartTime": 1648147921346,
        "executionStopTime": 1648147921445,
        "hidden_ranges": [],
        "originalKey": "34d8d62f-8f7a-4d21-8b96-6b8dded4b1fd",
        "requestMsgId": "65dcfbb2-f1e9-40a1-9807-8cdc1cc3fdc8"
      },
      "outputs": [],
      "source": [
        "from botorch.acquisition.multi_objective.monte_carlo import qNoisyExpectedHypervolumeImprovement\n",
        "from botorch.acquisition.multi_objective.objective import IdentityMCMultiOutputObjective\n",
        "from botorch.optim.optimize import optimize_acqf, optimize_acqf_list\n",
        "from botorch.utils.multi_objective.scalarization import get_chebyshev_scalarization\n",
        "from botorch.utils.sampling import sample_simplex\n",
        "\n",
        "\n",
        "BATCH_SIZE = 2\n",
        "NUM_RESTARTS = 10 if not SMOKE_TEST else 2\n",
        "RAW_SAMPLES = 512 if not SMOKE_TEST else 4\n",
        "\n",
        "standard_bounds = torch.zeros(2, problem.dim, **tkwargs)\n",
        "standard_bounds[1] = 1\n",
        "\n",
        "\n",
        "def optimize_qnehvi_and_get_observation(model, train_x, train_obj, train_con, sampler):\n",
        "    \"\"\"Optimizes the qNEHVI acquisition function, and returns a new candidate and observation.\"\"\"\n",
        "    train_x = normalize(train_x, problem.bounds)\n",
        "    acq_func = qNoisyExpectedHypervolumeImprovement(\n",
        "        model=model,\n",
        "        ref_point=problem.ref_point.tolist(),  # use known reference point\n",
        "        X_baseline=train_x,\n",
        "        sampler=sampler,\n",
        "        prune_baseline=True,\n",
        "        # define an objective that specifies which outcomes are the objectives\n",
        "        objective=IdentityMCMultiOutputObjective(outcomes=[0, 1]),\n",
        "        # specify that the constraint is on the last outcome\n",
        "        constraints=[lambda Z: Z[..., -1]],\n",
        "    )\n",
        "    # optimize\n",
        "    candidates, _ = optimize_acqf(\n",
        "        acq_function=acq_func,\n",
        "        bounds=standard_bounds,\n",
        "        q=BATCH_SIZE,\n",
        "        num_restarts=NUM_RESTARTS,\n",
        "        raw_samples=RAW_SAMPLES,  # used for intialization heuristic\n",
        "        options={\"batch_limit\": 5, \"maxiter\": 200},\n",
        "        sequential=True,\n",
        "    )\n",
        "    # observe new values\n",
        "    new_x = unnormalize(candidates.detach(), bounds=problem.bounds)\n",
        "    new_obj = problem(new_x)\n",
        "    # negative values imply feasibility in botorch\n",
        "    new_con = -problem.evaluate_slack(new_x)\n",
        "    return new_x, new_obj, new_con"
      ]
    },
    {
      "cell_type": "markdown",
      "metadata": {
        "originalKey": "9b4277b1-fc2a-467f-ae21-cb30d6823bd9"
      },
      "source": [
        "#### Define a helper function for creating constrained objectives for $q$ParEGO\n",
        "The helper function below initializes a ConstrainedMCObjective for $q$ParEGO. It creates the `objective` which fetches the outcomes required for the scalarized objective and applies the scalarization and the constraints, which are modeled outcomes.\n"
      ]
    },
    {
      "cell_type": "code",
      "execution_count": 5,
      "metadata": {
        "collapsed": false,
        "executionStartTime": 1648147921477,
        "executionStopTime": 1648147921559,
        "originalKey": "5b09ea9d-026d-4b87-a07d-a96553851061",
        "requestMsgId": "daf2cfd6-47f7-467c-a4d2-e1837a0249b5"
      },
      "outputs": [],
      "source": [
        "from botorch.acquisition.objective import ConstrainedMCObjective\n",
        "\n",
        "\n",
        "def get_constrained_mc_objective(train_obj, train_con, scalarization):\n",
        "    \"\"\"Initialize a ConstrainedMCObjective for qParEGO\"\"\"\n",
        "    n_obj = train_obj.shape[-1]\n",
        "    # assume first outcomes of the model are the objectives, the rest constraints\n",
        "    def objective(Z):\n",
        "        return scalarization(Z[..., :n_obj])\n",
        "\n",
        "    constrained_obj = ConstrainedMCObjective(\n",
        "        objective=objective,\n",
        "        constraints=[lambda Z: Z[..., -1]],  # index the constraint\n",
        "    )\n",
        "    return constrained_obj"
      ]
    },
    {
      "cell_type": "markdown",
      "metadata": {
        "originalKey": "ae9e19c2-327f-486e-bee3-11f1b71b0dfe"
      },
      "source": [
        "#### Define a helper function that performs the essential BO step for $q$ParEGO\n",
        "The helper function below similarly initializes $q$ParEGO, optimizes it, and returns the batch $\\{x_1, x_2, \\ldots x_q\\}$ along with the observed function values. \n",
        "\n",
        "$q$ParEGO uses random augmented chebyshev scalarization with the `qExpectedImprovement` acquisition function. In the parallel setting ($q>1$), each candidate is optimized in sequential greedy fashion using a different random scalarization (see [1] for details).\n",
        "\n",
        "To do this, we create a list of `qExpectedImprovement` acquisition functions, each with different random scalarization weights. The `optimize_acqf_list` method sequentially generates one candidate per acquisition function and conditions the next candidate (and acquisition function) on the previously selected pending candidates."
      ]
    },
    {
      "cell_type": "code",
      "execution_count": 6,
      "metadata": {
        "code_folding": [],
        "collapsed": false,
        "executionStartTime": 1648147921596,
        "executionStopTime": 1648147921696,
        "hidden_ranges": [],
        "originalKey": "fe116b82-f959-406e-89c7-d5e52c6dc05e",
        "requestMsgId": "a4a23da4-64de-4948-ad92-76b57c023f62"
      },
      "outputs": [],
      "source": [
        "from botorch.acquisition.monte_carlo import qExpectedImprovement\n",
        "\n",
        "\n",
        "def optimize_qparego_and_get_observation(model, train_obj, train_con, sampler):\n",
        "    \"\"\"Samples a set of random weights for each candidate in the batch, performs sequential greedy optimization\n",
        "    of the qParEGO acquisition function, and returns a new candidate and observation.\"\"\"\n",
        "    acq_func_list = []\n",
        "    for _ in range(BATCH_SIZE):\n",
        "        # sample random weights\n",
        "        weights = sample_simplex(problem.num_objectives, **tkwargs).squeeze()\n",
        "        # construct augmented Chebyshev scalarization\n",
        "        scalarization = get_chebyshev_scalarization(weights=weights, Y=train_obj)\n",
        "        # initialize ConstrainedMCObjective\n",
        "        constrained_objective = get_constrained_mc_objective(\n",
        "            train_obj=train_obj,\n",
        "            train_con=train_con,\n",
        "            scalarization=scalarization,\n",
        "        )\n",
        "        train_y = torch.cat([train_obj, train_con], dim=-1)\n",
        "        acq_func = qExpectedImprovement(  # pyre-ignore: [28]\n",
        "            model=model,\n",
        "            objective=constrained_objective,\n",
        "            best_f=constrained_objective(train_y).max(),\n",
        "            sampler=sampler,\n",
        "        )\n",
        "        acq_func_list.append(acq_func)\n",
        "    # optimize\n",
        "    candidates, _ = optimize_acqf_list(\n",
        "        acq_function_list=acq_func_list,\n",
        "        bounds=standard_bounds,\n",
        "        num_restarts=NUM_RESTARTS,\n",
        "        raw_samples=RAW_SAMPLES,  # used for intialization heuristic\n",
        "        options={\"batch_limit\": 5, \"maxiter\": 200},\n",
        "    )\n",
        "    # observe new values\n",
        "    new_x = unnormalize(candidates.detach(), bounds=problem.bounds)\n",
        "    new_obj = problem(new_x)\n",
        "    # negative values imply feasibility in botorch\n",
        "    new_con = -problem.evaluate_slack(new_x)\n",
        "    return new_x, new_obj, new_con"
      ]
    },
    {
      "cell_type": "markdown",
      "metadata": {
        "originalKey": "d4487ba0-4fad-41dd-a2ae-e0b95094dba1",
        "showInput": false
      },
      "source": [
        "### Perform Bayesian Optimization loop with $q$EHVI and $q$ParEGO\n",
        "The Bayesian optimization \"loop\" for a batch size of $q$ simply iterates the following steps:\n",
        "1. given a surrogate model, choose a batch of points $\\{x_1, x_2, \\ldots x_q\\}$\n",
        "2. observe $f(x)$ for each $x$ in the batch \n",
        "3. update the surrogate model. \n",
        "\n",
        "\n",
        "Just for illustration purposes, we run one trial with `N_BATCH=20` rounds of optimization. The acquisition function is approximated using `MC_SAMPLES=128` samples.\n",
        "\n",
        "*Note*: Running this may take a little while."
      ]
    },
    {
      "cell_type": "code",
      "execution_count": 7,
      "metadata": {
        "code_folding": [],
        "collapsed": false,
        "executionStartTime": 1648147921723,
        "executionStopTime": 1648148617464,
        "hidden_ranges": [],
        "originalKey": "49bd8e2e-5062-498f-8061-bec0045fb4e4",
        "requestMsgId": "4c225d99-6425-4201-ac4a-a042a351c1d3"
      },
      "outputs": [
        {
          "name": "stdout",
          "output_type": "stream",
          "text": [
            "\n",
            "Batch  1: Hypervolume (random, qParEGO, qNEHVI) = (0.15, 0.19, 0.15), time = 49.48.\n",
            "\n",
            "Batch  2: Hypervolume (random, qParEGO, qNEHVI) = (0.15, 0.21, 0.16), time = 34.03.\n",
            "\n",
            "Batch  3: Hypervolume (random, qParEGO, qNEHVI) = (0.15, 0.21, 0.19), time = 33.42.\n",
            "\n",
            "Batch  4: Hypervolume (random, qParEGO, qNEHVI) = (0.15, 0.21, 0.19), time = 36.61.\n",
            "\n",
            "Batch  5: Hypervolume (random, qParEGO, qNEHVI) = (0.17, 0.23, 0.19), time = 28.77.\n",
            "\n",
            "Batch  6: Hypervolume (random, qParEGO, qNEHVI) = (0.17, 0.23, 0.24), time = 36.22.\n",
            "\n",
            "Batch  7: Hypervolume (random, qParEGO, qNEHVI) = (0.18, 0.25, 0.27), time = 28.64.\n",
            "\n",
            "Batch  8: Hypervolume (random, qParEGO, qNEHVI) = (0.18, 0.25, 0.29), time = 29.08.\n",
            "\n",
            "Batch  9: Hypervolume (random, qParEGO, qNEHVI) = (0.18, 0.25, 0.30), time = 26.04.\n",
            "\n",
            "Batch 10: Hypervolume (random, qParEGO, qNEHVI) = (0.18, 0.26, 0.31), time = 38.61.\n",
            "\n",
            "Batch 11: Hypervolume (random, qParEGO, qNEHVI) = (0.18, 0.26, 0.31), time = 38.01.\n",
            "\n",
            "Batch 12: Hypervolume (random, qParEGO, qNEHVI) = (0.22, 0.26, 0.31), time = 36.52.\n",
            "\n",
            "Batch 13: Hypervolume (random, qParEGO, qNEHVI) = (0.22, 0.26, 0.32), time = 37.15.\n",
            "\n",
            "Batch 14: Hypervolume (random, qParEGO, qNEHVI) = (0.22, 0.29, 0.32), time = 36.02.\n",
            "\n",
            "Batch 15: Hypervolume (random, qParEGO, qNEHVI) = (0.22, 0.30, 0.33), time = 33.84.\n",
            "\n",
            "Batch 16: Hypervolume (random, qParEGO, qNEHVI) = (0.22, 0.30, 0.38), time = 28.67.\n",
            "\n",
            "Batch 17: Hypervolume (random, qParEGO, qNEHVI) = (0.22, 0.33, 0.38), time = 31.00.\n",
            "\n",
            "Batch 18: Hypervolume (random, qParEGO, qNEHVI) = (0.22, 0.34, 0.38), time = 40.21.\n",
            "\n",
            "Batch 19: Hypervolume (random, qParEGO, qNEHVI) = (0.22, 0.34, 0.38), time = 28.19.\n",
            "\n",
            "Batch 20: Hypervolume (random, qParEGO, qNEHVI) = (0.22, 0.34, 0.38), time = 44.94."
          ]
        }
      ],
      "source": [
        "import time\n",
        "import warnings\n",
        "\n",
        "from botorch import fit_gpytorch_model\n",
        "from botorch.exceptions import BadInitialCandidatesWarning\n",
        "from botorch.sampling.samplers import SobolQMCNormalSampler\n",
        "from botorch.utils.multi_objective.hypervolume import Hypervolume\n",
        "from botorch.utils.multi_objective.pareto import is_non_dominated\n",
        "\n",
        "\n",
        "warnings.filterwarnings(\"ignore\", category=BadInitialCandidatesWarning)\n",
        "warnings.filterwarnings(\"ignore\", category=RuntimeWarning)\n",
        "\n",
        "N_BATCH = 20 if not SMOKE_TEST else 5\n",
        "MC_SAMPLES = 128 if not SMOKE_TEST else 16\n",
        "verbose = True\n",
        "\n",
        "hv = Hypervolume(ref_point=problem.ref_point)\n",
        "hvs_qparego, hvs_qnehvi, hvs_random = [], [], []\n",
        "\n",
        "# call helper functions to generate initial training data and initialize model\n",
        "train_x_qparego, train_obj_qparego, train_con_qparego = generate_initial_data(n=2 * (d + 1))\n",
        "mll_qparego, model_qparego = initialize_model(train_x_qparego, train_obj_qparego, train_con_qparego)\n",
        "\n",
        "train_x_qnehvi, train_obj_qnehvi, train_con_qnehvi = train_x_qparego, train_obj_qparego, train_con_qparego\n",
        "train_x_random, train_obj_random, train_con_random = train_x_qparego, train_obj_qparego, train_con_qparego\n",
        "\n",
        "mll_qnehvi, model_qnehvi = initialize_model(train_x_qnehvi, train_obj_qnehvi, train_con_qnehvi)\n",
        "\n",
        "# compute pareto front\n",
        "is_feas = (train_con_qparego <= 0).all(dim=-1)\n",
        "feas_train_obj = train_obj_qparego[is_feas]\n",
        "if feas_train_obj.shape[0] > 0:\n",
        "    pareto_mask = is_non_dominated(feas_train_obj)\n",
        "    pareto_y = feas_train_obj[pareto_mask]\n",
        "    # compute hypervolume\n",
        "    volume = hv.compute(pareto_y)\n",
        "else:\n",
        "    volume = 0.0\n",
        "\n",
        "hvs_qparego.append(volume)\n",
        "hvs_qnehvi.append(volume)\n",
        "hvs_random.append(volume)\n",
        "\n",
        "# run N_BATCH rounds of BayesOpt after the initial random batch\n",
        "for iteration in range(1, N_BATCH + 1):\n",
        "    t0 = time.time()\n",
        "\n",
        "    # fit the models\n",
        "    fit_gpytorch_model(mll_qparego)\n",
        "    fit_gpytorch_model(mll_qnehvi)\n",
        "\n",
        "    # define the qParEGO and qNEHVI acquisition modules using a QMC sampler\n",
        "    qparego_sampler = SobolQMCNormalSampler(num_samples=MC_SAMPLES)\n",
        "    qnehvi_sampler = SobolQMCNormalSampler(num_samples=MC_SAMPLES)\n",
        "\n",
        "    # optimize acquisition functions and get new observations\n",
        "    new_x_qparego, new_obj_qparego, new_con_qparego = optimize_qparego_and_get_observation(\n",
        "        model_qparego, train_obj_qparego, train_con_qparego, qparego_sampler\n",
        "    )\n",
        "    new_x_qnehvi, new_obj_qnehvi, new_con_qnehvi = optimize_qnehvi_and_get_observation(\n",
        "        model_qnehvi, train_x_qnehvi, train_obj_qnehvi, train_con_qnehvi, qnehvi_sampler\n",
        "    )\n",
        "    new_x_random, new_obj_random, new_con_random = generate_initial_data(n=BATCH_SIZE)\n",
        "\n",
        "    # update training points\n",
        "    train_x_qparego = torch.cat([train_x_qparego, new_x_qparego])\n",
        "    train_obj_qparego = torch.cat([train_obj_qparego, new_obj_qparego])\n",
        "    train_con_qparego = torch.cat([train_con_qparego, new_con_qparego])\n",
        "\n",
        "    train_x_qnehvi = torch.cat([train_x_qnehvi, new_x_qnehvi])\n",
        "    train_obj_qnehvi = torch.cat([train_obj_qnehvi, new_obj_qnehvi])\n",
        "    train_con_qnehvi = torch.cat([train_con_qnehvi, new_con_qnehvi])\n",
        "\n",
        "    train_x_random = torch.cat([train_x_random, new_x_random])\n",
        "    train_obj_random = torch.cat([train_obj_random, new_obj_random])\n",
        "    train_con_random = torch.cat([train_con_random, new_con_random])\n",
        "\n",
        "    # update progress\n",
        "    for hvs_list, train_obj, train_con in zip(\n",
        "        (hvs_random, hvs_qparego, hvs_qnehvi),\n",
        "        (train_obj_random, train_obj_qparego, train_obj_qnehvi),\n",
        "        (train_con_random, train_con_qparego, train_con_qnehvi),\n",
        "    ):\n",
        "        # compute pareto front\n",
        "        is_feas = (train_con <= 0).all(dim=-1)\n",
        "        feas_train_obj = train_obj[is_feas]\n",
        "        if feas_train_obj.shape[0] > 0:\n",
        "            pareto_mask = is_non_dominated(feas_train_obj)\n",
        "            pareto_y = feas_train_obj[pareto_mask]\n",
        "            # compute feasible hypervolume\n",
        "            volume = hv.compute(pareto_y)\n",
        "        else:\n",
        "            volume = 0.0\n",
        "        hvs_list.append(volume)\n",
        "\n",
        "    # reinitialize the models so they are ready for fitting on next iteration\n",
        "    # Note: we find improved performance from not warm starting the model hyperparameters\n",
        "    # using the hyperparameters from the previous iteration\n",
        "    mll_qparego, model_qparego = initialize_model(train_x_qparego, train_obj_qparego, train_con_qparego)\n",
        "    mll_qnehvi, model_qnehvi = initialize_model(train_x_qnehvi, train_obj_qnehvi, train_con_qnehvi)\n",
        "\n",
        "    t1 = time.time()\n",
        "\n",
        "    if verbose:\n",
        "        print(\n",
        "            f\"\\nBatch {iteration:>2}: Hypervolume (random, qParEGO, qNEHVI) = \"\n",
        "            f\"({hvs_random[-1]:>4.2f}, {hvs_qparego[-1]:>4.2f}, {hvs_qnehvi[-1]:>4.2f}), \"\n",
        "            f\"time = {t1-t0:>4.2f}.\",\n",
        "            end=\"\",\n",
        "        )\n",
        "    else:\n",
        "        print(\".\", end=\"\")"
      ]
    },
    {
      "cell_type": "markdown",
      "metadata": {
        "originalKey": "3132af99-128f-41fc-9e6c-d1eaf6083f81"
      },
      "source": [
        "#### Plot the results\n",
        "The plot below shows the log feasible hypervolume difference: the log difference between the hypervolume of the true feasible pareto front and the hypervolume of the observed (feasible) pareto front identified by each algorithm. The log feasible hypervolume difference is plotted at each step of the optimization for each of the algorithms.\n",
        "\n",
        "The plot show that $q$NEHVI vastly outperforms the $q$ParEGO and Sobol baselines."
      ]
    },
    {
      "cell_type": "code",
      "execution_count": 8,
      "metadata": {
        "code_folding": [],
        "collapsed": false,
        "executionStartTime": 1648148617491,
        "executionStopTime": 1648148618333,
        "hidden_ranges": [],
        "originalKey": "a92268cc-117b-4dfc-bccb-1c24c95e6d36",
        "requestMsgId": "38f5ce01-264f-43bd-8bdb-edf756f7c0dc"
      },
      "outputs": [
        {
          "data": {
            "text/plain": [
              "<matplotlib.legend.Legend at 0x7f45b8114d00>"
            ]
          },
          "execution_count": 8,
          "metadata": {
            "bento_obj_id": "139937417612544"
          },
          "output_type": "execute_result"
        },
        {
          "data": {
            "image/png": "[encoded data removed]",
            "text/plain": [
              "<Figure size 576x432 with 1 Axes>"
            ]
          },
          "metadata": {
            "bento_obj_id": "139937418499840",
            "needs_background": "light"
          },
          "output_type": "display_data"
        }
      ],
      "source": [
        "import numpy as np\n",
        "from matplotlib import pyplot as plt\n",
        "\n",
        "\n",
        "%matplotlib inline\n",
        "\n",
        "\n",
        "iters = np.arange(N_BATCH + 1) * BATCH_SIZE\n",
        "log_hv_difference_qparego = np.log10(problem.max_hv - np.asarray(hvs_qparego))\n",
        "log_hv_difference_qnehvi = np.log10(problem.max_hv - np.asarray(hvs_qnehvi))\n",
        "log_hv_difference_rnd = np.log10(problem.max_hv - np.asarray(hvs_random))\n",
        "\n",
        "fig, ax = plt.subplots(1, 1, figsize=(8, 6))\n",
        "ax.plot(\n",
        "    iters,\n",
        "    log_hv_difference_rnd,\n",
        "    label=\"Sobol\",\n",
        "    linewidth=1.5,\n",
        "    color=\"gray\",\n",
        ")\n",
        "ax.plot(\n",
        "    iters,\n",
        "    log_hv_difference_qparego,\n",
        "    label=\"qParEGO\",\n",
        "    linewidth=1.5,\n",
        "    color=\"red\",\n",
        ")\n",
        "ax.plot(\n",
        "    iters,\n",
        "    log_hv_difference_qnehvi,\n",
        "    label=\"qNEHVI\",\n",
        "    linewidth=1.5,\n",
        "    color=\"blue\",\n",
        ")\n",
        "ax.set(xlabel=\"number of observations (beyond initial points)\", ylabel=\"Log Hypervolume Difference\")\n",
        "ax.legend(loc=\"lower right\")"
      ]
    },
    {
      "cell_type": "markdown",
      "metadata": {
        "code_folding": [],
        "collapsed": true,
        "hidden_ranges": [],
        "originalKey": "a926c260-dcc2-4ce9-9c53-7b75456c6c0c",
        "showInput": false
      },
      "source": [
        "#### Plot the observations colored by iteration\n",
        "\n",
        "To examine optimization process from another perspective, we plot the collected observations under each algorithm where the color corresponds to the BO iteration at which the point was collected. The plot on the right for $q$NEHVI shows that the $q$NEHVI quickly identifies the pareto front and most of its evaluations are very close to the pareto front. $q$ParEGO also identifies has many observations close to the pareto front, but relies on optimizing random scalarizations, which is a less principled way of optimizing the pareto front compared to $q$NEHVI, which explicitly attempts focuses on improving the pareto front. Sobol generates random points and has few points close to the pareto front"
      ]
    },
    {
      "cell_type": "code",
      "execution_count": 9,
      "metadata": {
        "collapsed": false,
        "executionStartTime": 1648148618662,
        "executionStopTime": 1648148619362,
        "originalKey": "216d4baf-c640-4d1f-ab80-705bbc380005",
        "requestMsgId": "75cb7f30-5ed2-4a02-bf46-b5c660af6494"
      },
      "outputs": [
        {
          "data": {
            "text/plain": [
              "Text(0.5, 1.0, 'Iteration')"
            ]
          },
          "execution_count": 9,
          "metadata": {
            "bento_obj_id": "139937561887792"
          },
          "output_type": "execute_result"
        },
        {
          "data": {
            "image/png": "[encoded data removed]",
            "text/plain": [
              "<Figure size 1224x360 with 4 Axes>"
            ]
          },
          "metadata": {
            "bento_obj_id": "139937403234240",
            "needs_background": "light"
          },
          "output_type": "display_data"
        }
      ],
      "source": [
        "from matplotlib.cm import ScalarMappable\n",
        "\n",
        "\n",
        "fig, axes = plt.subplots(1, 3, figsize=(17, 5))\n",
        "algos = [\"Sobol\", \"qParEGO\", \"qNEHVI\"]\n",
        "cm = plt.cm.get_cmap('viridis')\n",
        "\n",
        "batch_number = torch.cat(\n",
        "    [torch.zeros(2*(d+1)), torch.arange(1, N_BATCH+1).repeat(BATCH_SIZE, 1).t().reshape(-1)]\n",
        ").numpy()\n",
        "\n",
        "for i, train_obj in enumerate((train_obj_random, train_obj_qparego, train_obj_qnehvi)):\n",
        "    sc = axes[i].scatter(train_obj[:, 0].cpu().numpy(), train_obj[:,1].cpu().numpy(), c=batch_number, alpha=0.8)\n",
        "    axes[i].set_title(algos[i])\n",
        "    axes[i].set_xlabel(\"Objective 1\")\n",
        "    axes[i].set_xlim(-2.5, 0)\n",
        "    axes[i].set_ylim(-2.5, 0)\n",
        "axes[0].set_ylabel(\"Objective 2\")\n",
        "norm = plt.Normalize(batch_number.min(), batch_number.max())\n",
        "sm =  ScalarMappable(norm=norm, cmap=cm)\n",
        "sm.set_array([])\n",
        "fig.subplots_adjust(right=0.9)\n",
        "cbar_ax = fig.add_axes([0.93, 0.15, 0.01, 0.7])\n",
        "cbar = fig.colorbar(sm, cax=cbar_ax)\n",
        "cbar.ax.set_title(\"Iteration\")"
      ]
    }
  ],
  "metadata": {
    "kernelspec": {
      "display_name": "python3",
      "language": "python",
      "metadata": {
        "cinder_runtime": false,
        "fbpkg_supported": true,
        "is_prebuilt": true,
        "kernel_name": "bento_kernel_ae",
        "nightly_builds": false
      },
      "name": "python3"
    },
    "last_base_url": "https://devvm7832.prn0.facebook.com:8090/",
    "last_kernel_id": "0b84f7f4-81a8-45c6-b666-c492e27d97a6",
    "last_msg_id": "905ee962-2b33ee429b7e8d68b081da23_80",
    "last_server_session_id": "af01fe08-aee2-47a6-b113-d5ae7c3ae7b1",
    "outputWidgetContext": {}
  },
  "nbformat": 4,
  "nbformat_minor": 2
}
