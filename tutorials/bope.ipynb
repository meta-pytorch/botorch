{
  "metadata": {
    "dataExplorerConfig": {},
    "kernelspec": {
      "display_name": "python3",
      "language": "python",
      "name": "python3",
      "metadata": {}
    },
    "last_server_session_id": "8ae9172e-d1b6-4b08-bee0-0395a9549d6b",
    "last_kernel_id": "74594d10-ddf5-4f99-8f35-7f9d57b7f715",
    "last_base_url": "",
    "last_msg_id": "9cfa893c-a2930f2b65ac1d68ae75388a_107",
    "captumWidgetMessage": {},
    "outputWidgetContext": {}
  },
  "nbformat": 4,
  "nbformat_minor": 2,
  "cells": [
    {
      "cell_type": "markdown",
      "metadata": {
        "originalKey": "6778d143-3808-45b3-bcbe-da7c7475280a",
        "showInput": false,
        "customInput": null,
        "code_folding": [],
        "hidden_ranges": []
      },
      "source": [
        "# Bayesian Optimization with Preference Exploration\n",
        "\n",
        "In this tutorial, we demonstrate how to implement a closed loop of Bayesian optimization with preference exploration, or BOPE [1].\n",
        "BOPE is designed for Bayesian optimization of expensive-to-evaluate experiments,\n",
        "where the response surface function of the experiment $f_\\mathrm{true}$ generates vector-valued outcomes over which a decision-maker (DM) has preferences.\n",
        "These preferences are encoded by a utility function $g_\\mathrm{true}$ that is not known in closed form but can be estimated by\n",
        "asking the DM to express preferences over pairs of outcome vectors.\n",
        "\n",
        "In other words, with BOPE, we wish to solve the following optimization problem:\n",
        "\n",
        "$$\n",
        " \\max_{x \\in \\mathcal{X}} g_\\mathrm{true}(f_\\mathrm{true}(x))\n",
        "$$\n",
        "\n",
        "Unlike many other Bayesian optimization setups where multiple consecutive batches of experiments are performed,\n",
        "in BOPE, we alternate between two stages: *preference exploration* and *experimentation*.\n",
        "\n",
        "In the preference exploration stage, we use an acquisition function (i.e., a preference exploratoin strategy, or PE strategy)\n",
        "to adaptively generate pairs of hypothetical outcome and ask the decision-maker’s preference within each pair.\n",
        "In the experimentation stage, we use a batch version of noisy expected improvement that integrates over our uncertainty in the\n",
        "utility function called $\\text{qNEIUU}$ to generate experimental candidates for evaluation.\n",
        "\n",
        "\n",
        "[1] [Z.J. Lin, R. Astudillo, P.I. Frazier, and E. Bakshy, Preference Exploration for Efficient Bayesian Optimization with Multiple Outcomes. AISTATS, 2022.](https://arxiv.org/abs/2203.11382)"
      ],
      "attachments": {}
    },
    {
      "cell_type": "code",
      "metadata": {
        "collapsed": false,
        "originalKey": "a9f7ce4d-a9aa-493a-aa8f-3edbd77b7daa",
        "code_folding": [],
        "hidden_ranges": [],
        "requestMsgId": "a9f7ce4d-a9aa-493a-aa8f-3edbd77b7daa",
        "executionStartTime": 1665422428594,
        "executionStopTime": 1665422432951,
        "customOutput": null
      },
      "source": [
        "import os\n",
        "import warnings\n",
        "\n",
        "import matplotlib as mpl\n",
        "import matplotlib.pylab as plt\n",
        "import numpy as np\n",
        "import pandas as pd\n",
        "import torch\n",
        "from botorch.acquisition import GenericMCObjective, LearnedObjective\n",
        "from botorch.acquisition.monte_carlo import qNoisyExpectedImprovement, qSimpleRegret\n",
        "from botorch.acquisition.preference import AnalyticExpectedUtilityOfBestOption\n",
        "from botorch.fit import fit_gpytorch_mll\n",
        "from botorch.models.deterministic import FixedSingleSampleModel\n",
        "from botorch.models.gp_regression import SingleTaskGP\n",
        "from botorch.models.pairwise_gp import PairwiseGP, PairwiseLaplaceMarginalLogLikelihood\n",
        "from botorch.optim.optimize import optimize_acqf\n",
        "from botorch.sampling.samplers import SobolQMCNormalSampler\n",
        "from botorch.test_functions.multi_objective import DTLZ2\n",
        "from botorch.utils.sampling import draw_sobol_samples\n",
        "from gpytorch.mlls.exact_marginal_log_likelihood import ExactMarginalLogLikelihood\n",
        "\n",
        "\n",
        "%matplotlib inline\n",
        "\n",
        "# Suppress potential optimization warnings for cleaner notebook\n",
        "warnings.filterwarnings(\"ignore\")\n",
        "\n",
        "# Set plotting colors\n",
        "colors = [\"tab:blue\", \"tab:orange\", \"tab:green\", \"tab:red\"]\n",
        "mpl.rcParams[\"axes.prop_cycle\"] = mpl.cycler(color=colors)\n",
        "\n",
        "SMOKE_TEST = os.environ.get(\"SMOKE_TEST\")"
      ],
      "execution_count": 1,
      "outputs": [
        {
          "output_type": "stream",
          "name": "stderr",
          "text": [
            "I1010 102029.845 font_manager.py:1349] generated new fontManager\n"
          ]
        },
        {
          "output_type": "stream",
          "name": "stderr",
          "text": [
            "I1010 102029.977 _utils_internal.py:179] NCCL_DEBUG env var is set to None\n"
          ]
        },
        {
          "output_type": "stream",
          "name": "stderr",
          "text": [
            "I1010 102029.978 _utils_internal.py:197] NCCL_DEBUG is forced to WARN from None\n"
          ]
        }
      ]
    },
    {
      "cell_type": "markdown",
      "metadata": {
        "originalKey": "7729000d-0661-4689-8f2b-f99e32c52b70",
        "showInput": false,
        "customInput": null,
        "code_folding": [],
        "hidden_ranges": []
      },
      "source": [
        "## Problem Setup\n",
        "\n",
        "In this tutorial, we use the DTLZ2 problem with d=5 inputs and k=4 outcomes as our test problem $f_\\mathrm{true}$.\n",
        "\n",
        "For the utility function $g_\\mathrm{true}$, we use the negative L1 distance from a Pareto-optimal point the outcome space:\n",
        "$Y^* = f(X^*)$ where $X^* = [0.5, 0.5, 0.5, 0.5, 0.5]$. "
      ],
      "attachments": {}
    },
    {
      "cell_type": "code",
      "metadata": {
        "originalKey": "06c206ad-b080-4d58-b225-75cd8d24fe33",
        "showInput": true,
        "customInput": null,
        "collapsed": false,
        "requestMsgId": "06c206ad-b080-4d58-b225-75cd8d24fe33",
        "executionStartTime": 1665422433054,
        "executionStopTime": 1665422433071,
        "code_folding": [],
        "hidden_ranges": [],
        "customOutput": null
      },
      "source": [
        "def neg_l1_dist(Y):\n",
        "    \"\"\"Negative L1 distance from a Pareto optimal points\"\"\"\n",
        "    if len(Y.shape) == 1:\n",
        "        Y = Y.unsqueeze(0)\n",
        "    dist = torch.cdist(Y, torch.full(Y.shape[-1:], fill_value=0.5).unsqueeze(0), p=1).squeeze(-1)\n",
        "    return -dist\n",
        "\n",
        "\n",
        "if SMOKE_TEST:\n",
        "    NUM_RESTARTS = 2\n",
        "    NUM_PREF_SAMPLES = 1\n",
        "    NUM_OUTCOME_SAMPLES = 4\n",
        "    RAW_SAMPLES = 8\n",
        "    BATCH_LIMIT = 2\n",
        "else:\n",
        "    NUM_RESTARTS = 8\n",
        "    NUM_PREF_SAMPLES = 1\n",
        "    NUM_OUTCOME_SAMPLES = 64\n",
        "    RAW_SAMPLES = 64\n",
        "    BATCH_LIMIT = 4\n",
        "\n",
        "X_dim = 5\n",
        "Y_dim = 4\n",
        "problem = DTLZ2(dim=X_dim, num_objectives=Y_dim)\n",
        "util_func = neg_l1_dist"
      ],
      "execution_count": 2,
      "outputs": []
    },
    {
      "cell_type": "markdown",
      "metadata": {
        "originalKey": "bf98ebb8-36d5-423a-9eea-5ff99c44975b",
        "showInput": false,
        "customInput": null,
        "code_folding": [],
        "hidden_ranges": []
      },
      "source": [
        "Here we define a collection of helper functions for BOPE:"
      ],
      "attachments": {}
    },
    {
      "cell_type": "code",
      "metadata": {
        "originalKey": "b95bac6c-3f6f-4c1b-a3d4-370855f88625",
        "showInput": true,
        "customInput": null,
        "collapsed": false,
        "requestMsgId": "b95bac6c-3f6f-4c1b-a3d4-370855f88625",
        "executionStopTime": 1665422433207,
        "executionStartTime": 1665422433202,
        "code_folding": [],
        "hidden_ranges": [],
        "customOutput": null
      },
      "source": [
        "def fit_outcome_model(X, Y, X_bounds):\n",
        "    \"\"\"Fit the outcome model f\"\"\"\n",
        "    outcome_model = SingleTaskGP(train_X=X, train_Y=Y)\n",
        "    mll = ExactMarginalLogLikelihood(outcome_model.likelihood, outcome_model)\n",
        "    fit_gpytorch_mll(mll)\n",
        "    return outcome_model\n",
        "\n",
        "\n",
        "def fit_pref_model(Y, comps):\n",
        "    \"\"\"Fit the preference model g\"\"\"\n",
        "    model = PairwiseGP(Y, comps, jitter=1e-4)\n",
        "    mll = PairwiseLaplaceMarginalLogLikelihood(model.likelihood, model)\n",
        "    fit_gpytorch_mll(mll)\n",
        "    return model\n",
        "\n",
        "\n",
        "def gen_rand_X(problem, n):\n",
        "    \"\"\"Generate n quasi-random Sobol points in the design space\"\"\"\n",
        "    return draw_sobol_samples(bounds=problem.bounds, n=1, q=n).squeeze(0)\n",
        "\n",
        "\n",
        "def generate_random_exp_data(problem, n):\n",
        "    \"\"\"Generate n observations of (X, Y) Pairs\"\"\"\n",
        "    X = gen_rand_X(problem, n)\n",
        "    Y = problem(X)\n",
        "    return X, Y\n",
        "\n",
        "\n",
        "def generate_random_pref_data(outcome_model, n):\n",
        "    \"\"\"Generate n pairwise comparison data between 2n points\"\"\"\n",
        "    X = gen_rand_X(problem, 2 * n)\n",
        "    Y = outcome_model.posterior(X).sample().squeeze(0)\n",
        "    util = util_func(Y)\n",
        "    comps = gen_comps(util)\n",
        "    return Y, comps\n",
        "\n",
        "\n",
        "def gen_comps(util):\n",
        "    \"\"\"Given an 1-d tensor of utility, create pairwise comparisons between adjacent items\"\"\"\n",
        "    util = util.reshape(-1, 2)\n",
        "    comps = torch.arange(util.numel()).reshape(-1, 2)\n",
        "    flip = util[:, 0] < util[:, 1]\n",
        "    comps[flip, [0]], comps[flip, [1]] = comps[flip, [1]], comps[flip, [0]]\n",
        "\n",
        "    return comps\n",
        "\n",
        "\n",
        "def run_pref_learn(outcome_model, train_Y, train_comps, n_comps, pe_strategy, verbose=False):\n",
        "    \"\"\"Perform preference exploration with a given PE strategy for n_comps rounds\"\"\"\n",
        "    for i in range(n_comps):\n",
        "        if verbose:\n",
        "            print(f\"Running {i+1}/{n_comps} preference learning using {pe_strategy}\")\n",
        "        pref_model = fit_pref_model(train_Y, train_comps)\n",
        "        if pe_strategy == \"EUBO-zeta\":\n",
        "            # EUBO-zeta\n",
        "            one_sample_outcome_model = FixedSingleSampleModel(model=outcome_model)\n",
        "            acqf = AnalyticExpectedUtilityOfBestOption(pref_model=pref_model, outcome_model=one_sample_outcome_model)\n",
        "            cand_X, acqf_val = optimize_acqf(\n",
        "                acq_function=acqf,\n",
        "                q=2,\n",
        "                bounds=problem.bounds,\n",
        "                num_restarts=NUM_RESTARTS,\n",
        "                raw_samples=RAW_SAMPLES,  # used for intialization heuristic\n",
        "                options={\"batch_limit\": BATCH_LIMIT},\n",
        "            )\n",
        "            cand_Y = one_sample_outcome_model(cand_X)\n",
        "        elif pe_strategy == \"Random-f\":\n",
        "            # Random-f\n",
        "            cand_X = gen_rand_X(problem, n=2)\n",
        "            cand_Y = outcome_model.posterior(cand_X).sample().squeeze(0)\n",
        "        else:\n",
        "            raise RuntimeError(\"Unknown preference exploration strategy!\")\n",
        "\n",
        "        cand_Y = cand_Y.detach().clone()\n",
        "        cand_comps = gen_comps(util_func(cand_Y))\n",
        "\n",
        "        train_comps = torch.cat((train_comps, cand_comps + train_Y.shape[0]))\n",
        "        train_Y = torch.cat((train_Y, cand_Y))\n",
        "\n",
        "    return train_Y, train_comps\n",
        "\n",
        "\n",
        "def gen_exp_cand(outcome_model, objective, q, acqf_name):\n",
        "    \"\"\"Given an outcome model and an objective, generate q experimental candidates\n",
        "    using specified acquisition function.\"\"\"\n",
        "    sampler = SobolQMCNormalSampler(num_samples=NUM_OUTCOME_SAMPLES)\n",
        "    if acqf_name == \"qNEI\":\n",
        "        # generate experimental candidates with qNEI/qNEIUU\n",
        "        acq_func = qNoisyExpectedImprovement(\n",
        "            model=outcome_model,\n",
        "            objective=objective,\n",
        "            X_baseline=X,\n",
        "            sampler=sampler,\n",
        "            prune_baseline=True,\n",
        "        )\n",
        "    elif acqf_name == \"posterior_mean\":\n",
        "        # generate experimental candidates with maximum posterior mean\n",
        "        acq_func = qSimpleRegret(\n",
        "            model=outcome_model,\n",
        "            sampler=sampler,\n",
        "            objective=objective,\n",
        "        )\n",
        "    else:\n",
        "        raise RuntimeError(\"Unknown acquisition function name!\")\n",
        "\n",
        "    # optimize the acquisition function\n",
        "    candidates, _ = optimize_acqf(\n",
        "        acq_function=acq_func,\n",
        "        q=q,\n",
        "        bounds=problem.bounds,\n",
        "        num_restarts=NUM_RESTARTS,\n",
        "        raw_samples=RAW_SAMPLES,\n",
        "        options={\"batch_limit\": BATCH_LIMIT},\n",
        "        sequential=True,\n",
        "    )\n",
        "    return candidates\n",
        "\n",
        "\n",
        "def find_max_posterior_mean(outcome_model, train_Y, train_comps, verbose=False):\n",
        "    \"\"\"Helper function that find the max posterior mean under current outcome and\n",
        "    preference model\"\"\"\n",
        "    pref_model = fit_pref_model(train_Y, train_comps)\n",
        "    sampler = SobolQMCNormalSampler(num_samples=NUM_PREF_SAMPLES)\n",
        "    pref_obj = LearnedObjective(pref_model=pref_model, sampler=sampler)\n",
        "    post_mean_cand_X = gen_exp_cand(outcome_model, pref_obj, q=1, acqf_name=\"posterior_mean\")\n",
        "\n",
        "    post_mean_util = util_func(problem(post_mean_cand_X)).item()\n",
        "    if verbose:\n",
        "        print(f\"Max posterior mean utility: {post_mean_util:.3f}\")\n",
        "    within_result = {\n",
        "        \"n_comps\": train_comps.shape[0],\n",
        "        \"util\": post_mean_util,\n",
        "    }\n",
        "    return within_result"
      ],
      "execution_count": 3,
      "outputs": []
    },
    {
      "cell_type": "markdown",
      "metadata": {
        "originalKey": "7d9d4982-ca40-4744-88d5-775a5c306ddd",
        "showInput": false,
        "customInput": null,
        "code_folding": [],
        "hidden_ranges": []
      },
      "source": [
        "## Closed Loop BOPE\n",
        "\n",
        "### Setup\n",
        "The following cell shows the core part of this tutorial.\n",
        "In BOPE, we use two probablistic models (in this case, two Gaussian processes) $f$ and $g$\n",
        "to model $f_\\mathrm{true}$ and $g_\\mathrm{true}$ respectively.\n",
        "\n",
        "We start by initializing the outcome model $f$ with 16 quasi-random points (the initial experimentation stage).\n",
        "\n",
        "Next, we enter the preference exploration (PE) stage.\n",
        "A straightforward strategy of performing PE is to present the decision-maker with comparisons using outcomes estimated\n",
        "by sampling from the outcome model using random design points. We refer this method as $\\text{Random}\\mathrm{-}f$.\n",
        "\n",
        "Alternatively, we could initialize the preference model with $\\text{Random}\\mathrm{-}f$,\n",
        "then perform PE using the $\\text{EUBO}\\mathrm{-}\\zeta$ acquisition function as proposed in [1].\n",
        "<!-- \\tilde{f} somehow is not rendering --> \n",
        "\n",
        "In this tutorial, we examine both strategies by starting with initializating the preference model with 3 comparisons using $\\text{Random}\\mathrm{-}f$.\n",
        "After that, we perform 3 * 4 = 12 pairwise comparisons using either $\\text{EUBO}\\mathrm{-}\\zeta$ or $\\text{Random}\\mathrm{-}f$.\n",
        "Then we move on to the 2nd experimentation stage by generating a candidate using qNEIUU by\n",
        "leveraging both the outcome model and the learned preference model.\n",
        "\n",
        "We additionally examine two other experimental canadidate generation strategies:\n",
        "In the first one, we assume the true utility function is known and generate experiment candidate(s) using qNEI.\n",
        "This represents the performance upper bound of PE strategies.\n",
        "For the second experiment canadidate generation strategy, we use random design points to generate new candidates."
      ],
      "attachments": {}
    },
    {
      "cell_type": "code",
      "metadata": {
        "originalKey": "bfec9691-5175-4eea-89ee-5072a7a08ad8",
        "showInput": true,
        "customInput": null,
        "code_folding": [],
        "hidden_ranges": [],
        "collapsed": false,
        "requestMsgId": "bfec9691-5175-4eea-89ee-5072a7a08ad8",
        "executionStartTime": 1665422433357,
        "executionStopTime": 1665422492003,
        "customOutput": null
      },
      "source": [
        "verbose = False\n",
        "# Number of pairwise comparisons performed before checking posterior mean\n",
        "every_n_comps = 3\n",
        "# Total number of checking the maximum posterior mean\n",
        "n_check_post_mean = 3\n",
        "n_reps = 1\n",
        "within_session_results = []\n",
        "exp_candidate_results = []\n",
        "\n",
        "for i in range(n_reps):\n",
        "    print(f\"Run {i}\")\n",
        "    # Experimentation stage: initial exploration batch\n",
        "    torch.manual_seed(i)\n",
        "    np.random.seed(i)\n",
        "    X, Y = generate_random_exp_data(problem, 16)\n",
        "    outcome_model = fit_outcome_model(X, Y, problem.bounds)\n",
        "\n",
        "    # Preference exploration stage: initialize the preference model with comparsions\n",
        "    # between pairs of outcomes estimated using random design points\n",
        "    init_train_Y, init_train_comps = generate_random_pref_data(outcome_model, n=1)\n",
        "\n",
        "    # Perform preference exploration using either Random-f or EUBO-zeta\n",
        "    for pe_strategy in [\"EUBO-zeta\", \"Random-f\"]:\n",
        "        train_Y, train_comps = init_train_Y.clone(), init_train_comps.clone()\n",
        "        within_result = find_max_posterior_mean(outcome_model, train_Y, train_comps)\n",
        "        within_result.update({\"run_id\": i, \"pe_strategy\": pe_strategy})\n",
        "        within_session_results.append(within_result)\n",
        "\n",
        "        for j in range(n_check_post_mean):\n",
        "            train_Y, train_comps = run_pref_learn(\n",
        "                outcome_model, train_Y, train_comps, n_comps=every_n_comps, pe_strategy=pe_strategy, verbose=verbose\n",
        "            )\n",
        "            if verbose:\n",
        "                print(f\"Checking posterior mean after {(j+1) * every_n_comps} comps using PE strategy {pe_strategy}\")\n",
        "            within_result = find_max_posterior_mean(outcome_model, train_Y, train_comps, verbose=verbose)\n",
        "            within_result.update({\"run_id\": i, \"pe_strategy\": pe_strategy})\n",
        "            within_session_results.append(within_result)\n",
        "\n",
        "        # Going back to the experimentation stage: generate an additional batch of experimental evaluations\n",
        "        # with the learned preference model and qNEIUU\n",
        "        pref_model = fit_pref_model(train_Y, train_comps)\n",
        "        sampler = SobolQMCNormalSampler(num_samples=NUM_PREF_SAMPLES)\n",
        "        pref_obj = LearnedObjective(pref_model=pref_model, sampler=sampler)\n",
        "        exp_cand_X = gen_exp_cand(outcome_model, pref_obj, q=1, acqf_name=\"qNEI\")\n",
        "        qneiuu_util = util_func(problem(exp_cand_X)).item()\n",
        "        print(f\"{pe_strategy} qNEIUU candidate utility: {qneiuu_util:.3f}\")\n",
        "        exp_result = {\n",
        "            \"util\": qneiuu_util,\n",
        "            \"strategy\": pe_strategy,\n",
        "            \"run_id\": i,\n",
        "        }\n",
        "        exp_candidate_results.append(exp_result)\n",
        "\n",
        "    # Generate a batch of experimental evaluations using oracle and random baselines\n",
        "    # True utility\n",
        "    true_obj = GenericMCObjective(util_func)\n",
        "    true_obj_cand_X = gen_exp_cand(outcome_model, true_obj, q=1, acqf_name=\"qNEI\")\n",
        "    true_obj_util = util_func(problem(true_obj_cand_X)).item()\n",
        "    print(f\"True objective utility: {true_obj_util:.3f}\")\n",
        "    exp_result = {\n",
        "        \"util\": true_obj_util,\n",
        "        \"strategy\": \"True Utility\",\n",
        "        \"run_id\": i,\n",
        "    }\n",
        "    exp_candidate_results.append(exp_result)\n",
        "\n",
        "    # Random experiment\n",
        "    _, random_Y = generate_random_exp_data(problem, 1)\n",
        "    random_util = util_func(random_Y).item()\n",
        "    print(f\"Random experiment utility: {random_util:.3f}\")\n",
        "    exp_result = {\n",
        "        \"util\": random_util,\n",
        "        \"strategy\": \"Random Experiment\",\n",
        "        \"run_id\": i,\n",
        "    }\n",
        "    exp_candidate_results.append(exp_result)"
      ],
      "execution_count": 4,
      "outputs": [
        {
          "output_type": "stream",
          "name": "stdout",
          "text": [
            "Run 0\n"
          ]
        },
        {
          "output_type": "stream",
          "name": "stdout",
          "text": [
            "EUBO-zeta qNEIUU candidate utility: -0.447\n"
          ]
        },
        {
          "output_type": "stream",
          "name": "stdout",
          "text": [
            "Random-f qNEIUU candidate utility: -0.565\n"
          ]
        },
        {
          "output_type": "stream",
          "name": "stdout",
          "text": [
            "True objective utility: -0.113\nRandom experiment utility: -1.333\n"
          ]
        }
      ]
    },
    {
      "cell_type": "markdown",
      "metadata": {
        "originalKey": "64f2fb33-46bc-47ac-b169-ea702e41f6cd",
        "showInput": false,
        "customInput": null,
        "code_folding": [],
        "hidden_ranges": []
      },
      "source": [
        "## Plot the Results\n",
        "\n",
        "We evaluate our results by creating two plots.\n",
        "\n",
        "In the first plot, we focus on comparing how $\\text{EUBO}\\mathrm{-}\\zeta$ can efficiently identify the maximizer \n",
        "of $g_\\mathrm{true}(f_\\mathrm{true}(x))$ within a preference exploration stage.\n",
        "We examine this by estimatig the maximum posterior mean after every 3 pairwise comparisons.\n",
        "\n",
        "Here, we plot the the max utility value identified using $\\text{EUBO}\\mathrm{-}\\zeta$ and $\\text{Random}\\mathrm{-}f$\n",
        "with increasing number of pairwise comparisons.\n",
        "As we can see in this plot, the preference model learned using $\\text{EUBO}\\mathrm{-}\\zeta$ is able to identify the maximum utility more efficiently."
      ],
      "attachments": {}
    },
    {
      "cell_type": "code",
      "metadata": {
        "originalKey": "f414bd4b-b897-4d5b-b621-85e1352bc024",
        "showInput": true,
        "customInput": null,
        "code_folding": [],
        "hidden_ranges": [],
        "collapsed": false,
        "requestMsgId": "f414bd4b-b897-4d5b-b621-85e1352bc024",
        "executionStartTime": 1665422492014,
        "executionStopTime": 1665422492648,
        "customOutput": null
      },
      "source": [
        "# Prepare PE data for plots\n",
        "within_df = pd.DataFrame(within_session_results)\n",
        "within_df[\"pe_strategy\"] = within_df[\"pe_strategy\"].str.replace(\"EUBO-zeta\", r\"$EUBO-\\\\zeta$\")\n",
        "within_df = (\n",
        "    within_df.groupby([\"n_comps\", \"pe_strategy\"])\n",
        "    .agg({\"util\": [\"mean\", \"sem\"]})\n",
        "    .droplevel(level=0, axis=1)\n",
        "    .reset_index()\n",
        ")\n",
        "within_df\n",
        "\n",
        "# Plotting\n",
        "plt.figure(figsize=(8, 6))\n",
        "for name, group in within_df.groupby(\"pe_strategy\", sort=True):\n",
        "    yerr=1.96 * group[\"sem\"]\n",
        "    if np.any(np.isnan(yerr)):\n",
        "        yerr = None\n",
        "    plt.errorbar(\n",
        "        x=group[\"n_comps\"], y=group[\"mean\"], yerr=yerr, label=name, linewidth=1.5, capsize=3, alpha=0.6\n",
        "    )\n",
        "plt.xlabel(\"Number of comparisons\")\n",
        "plt.ylabel(\"Max value identified\")\n",
        "plt.legend(title=\"PE Strategy\")"
      ],
      "execution_count": 5,
      "outputs": [
        {
          "output_type": "execute_result",
          "data": {
            "text/plain": "<matplotlib.legend.Legend at 0x7fa64bd930a0>"
          },
          "metadata": {
            "bento_obj_id": "140352213823648"
          },
          "execution_count": 5
        },
        {
          "output_type": "display_data",
          "data": {
            "text/plain": "<Figure size 576x432 with 1 Axes>",
            "image/png": "[encoded data removed]"
          },
          "metadata": {
            "bento_obj_id": "140352213786528",
            "needs_background": "light"
          }
        }
      ]
    },
    {
      "cell_type": "markdown",
      "metadata": {
        "originalKey": "e407a6c3-0cf3-4ec2-886a-4973db669ceb",
        "showInput": false,
        "customInput": null,
        "code_folding": [],
        "hidden_ranges": []
      },
      "source": [
        "In the following cell, we show the average utility values achieved using different methods in the 2nd experimentation stage.\n",
        "\n",
        "We see that $\\text{EUBO}\\mathrm{-}\\zeta$, as a one-step Bayesian optimal PE strategy, performs very similarly to the true utility strategy.\n",
        "\n",
        "On the other hand, despite that $\\text{Random}\\mathrm{-}f$ is a relatively straightforward PE strategy,\n",
        "it is still able to suggest experimental candidates with generally higher utility values than the random experiment baseline."
      ],
      "attachments": {}
    },
    {
      "cell_type": "code",
      "metadata": {
        "originalKey": "309a9641-4a12-4d52-94e7-5701a23f2a79",
        "showInput": true,
        "customInput": null,
        "code_folding": [],
        "hidden_ranges": [],
        "collapsed": false,
        "requestMsgId": "309a9641-4a12-4d52-94e7-5701a23f2a79",
        "executionStartTime": 1665422492662,
        "executionStopTime": 1665422492922,
        "customOutput": null
      },
      "source": [
        "# Prepare the 2nd experimentation batch data for plot\n",
        "exp_df = pd.DataFrame(exp_candidate_results)\n",
        "exp_df[\"strategy\"] = exp_df[\"strategy\"].str.replace(\"EUBO-zeta\", r\"$EUBO-\\\\zeta$\")\n",
        "exp_df[\"strategy\"] = pd.Categorical(\n",
        "    exp_df[\"strategy\"], [\"True Utility\", \"$EUBO-\\zeta$\", \"Random-f\", \"Random Experiment\"]\n",
        ")\n",
        "exp_df = exp_df.groupby([\"strategy\"]).agg({\"util\": [\"mean\", \"sem\"]}).droplevel(level=0, axis=1).reset_index()\n",
        "\n",
        "# Plotting\n",
        "plt.figure(figsize=(8, 6))\n",
        "for name, group in exp_df.groupby(\"strategy\", sort=True):\n",
        "    yerr=1.96 * group[\"sem\"]\n",
        "    if np.any(np.isnan(yerr)):\n",
        "        yerr = None\n",
        "    plt.errorbar(\n",
        "        x=group[\"strategy\"],\n",
        "        y=group[\"mean\"],\n",
        "        yerr=yerr,\n",
        "        fmt=\"o\",\n",
        "        markersize=10,\n",
        "        label=name,\n",
        "        linewidth=1.5,\n",
        "        capsize=3,\n",
        "    )\n",
        "\n",
        "plt.xlabel(\"Experimentation Strategy\")\n",
        "plt.ylabel(\"Utility achieved in the 2nd experiment stage\")\n",
        "plt.legend(title=\"Experimentation Strategy\")"
      ],
      "execution_count": 6,
      "outputs": [
        {
          "output_type": "execute_result",
          "data": {
            "text/plain": "<matplotlib.legend.Legend at 0x7fa64b05b940>"
          },
          "metadata": {
            "bento_obj_id": "140352199964992"
          },
          "execution_count": 6
        },
        {
          "output_type": "display_data",
          "data": {
            "text/plain": "<Figure size 576x432 with 1 Axes>",
            "image/png": "[encoded data removed]"
          },
          "metadata": {
            "bento_obj_id": "140352199958240",
            "needs_background": "light"
          }
        }
      ]
    }
  ]
}
