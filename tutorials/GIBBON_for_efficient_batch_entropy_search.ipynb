{
 "cells": [
  {
   "cell_type": "markdown",
   "metadata": {},
   "source": [
    "## The GIBBON (General-purpose Information-Based Bayesian OptimisatioN) acquisition function\n",
    "\n",
    "A particularly intuitive and empirically effective class of acquisition functions has arisen based on information theory. Information-theoretic Bayesian Optimisation (BO) seeks to reduce uncertainty in the location of high-performing areas of the search space, as measured in terms of differential entropy. BoTorch already supports information-theoretic BO through an implementation of the Max-value Entropy Search (MES) acquisition function [1] (see the [Max-Value Entropy tutorial](./max_value_entropy) for details), which makes evaluations that reduce uncertainty in the maximum value attained by the objective function. However, in order to support batch and multi-fidelity BO, our implementation of MES employs numerical integrations and fantasy observations  (i. e., we generate one point each time and when we try to generate the 𝑖-th point of a batch, we condition the models on the 𝑖−1 points generated prior to this). Unfortunately,  Each of these calculations can can add significantly to the computational overhead incurred by BO.\n",
    "\n",
    "In this notebook, we provide an information-theoretic acquisition function for tasks where objective function query costs are not large enough to overshadow significant optimisation overheads known as General-purpose Information-Based Bayesian OptimisatioN (GIBBON) [2]. In this tutorial, we present a very high-level overview of GIBBON and demonstrate its use within BoTorch.\n",
    "\n",
    "### Calculating GIBBON\n",
    "\n",
    "Following a principled information-theoretic construction, the GIBBON acquisition function measures the utility of evaluating a candidate batch of $B$ points $\\{\\textbf{x}\\}_{i=1}^B$ as\n",
    "\\begin{align}\n",
    "    \\alpha_{\\text{GIBBON}}(\\{\\textbf{x}\\}_{i=1}^B)\n",
    "    &= \\frac{1}{2}\\log |C| + \\sum_{i=1}^B  \\hat{\\alpha}_{\\text{MES}}(\\textbf{x}_i)\n",
    "\\end{align}\n",
    "where $|C|$ is the determinant of the $B\\times B$ correlation matrix between the batch elements and $\\hat{\\alpha}_{\\text{MES}}$ is an analytical approximation of the standard (non-batch) MES acquisition function. The GIBBON acquisition function forms a lower bound on the exact (but intractable) batch MES function and is consequently referred to as the `qLowerBoundMaxValueEntropy` in BoTorch. Crucially, GIBBON can be computed in closed-form and so incurs substantially lower overheads than batch MES via fantasies.\n",
    "\n",
    "### Interpretating GIBBON\n",
    "Note that the above decomposition of GIBBON has two terms and each has a helpful intuitive justification. In particular, the first term encourages diversity within the batch (achieving high values for points with low predictive correlation), whereas the second term ensures that evaluations are targeted in areas of the search space that provide large amounts of information about the maximum value attained by the objective function.\n",
    "\n",
    "\n",
    "<br>\n",
    "__References__\n",
    "\n",
    "\n",
    "[1] [Wang, Z., Jegelka, S., _Max-value Entropy Search for Efficient Bayesian Optimization._ arXiv:1703.01968v3, 2018](https://arxiv.org/abs/1703.01968)\n",
    "\n",
    "[2] [Moss, M., et al., _GIBBON: General-purpose Information-Based Bayesian Optimisation._  arXiv:2102.03324, 2020](https://arxiv.org/abs/2102.03324)\n"
   ]
  },
  {
   "cell_type": "code",
   "execution_count": 1,
   "metadata": {},
   "outputs": [],
   "source": [
    "import os \n",
    "SMOKE_TEST = os.environ.get(\"SMOKE_TEST\")"
   ]
  },
  {
   "cell_type": "markdown",
   "metadata": {},
   "source": [
    "### 1. Setting up a toy model\n",
    "We will fit a standard SingleTaskGP model on noisy observations of the synthetic 2D SixHumpCamel function."
   ]
  },
  {
   "cell_type": "code",
   "execution_count": 2,
   "metadata": {},
   "outputs": [],
   "source": [
    "import math\n",
    "import torch\n",
    "\n",
    "from botorch.test_functions import SixHumpCamel\n",
    "from botorch.fit import fit_gpytorch_model\n",
    "from botorch.models import SingleTaskGP\n",
    "from botorch.utils.transforms import standardize, normalize\n",
    "from gpytorch.mlls import ExactMarginalLogLikelihood\n",
    "\n",
    "torch.manual_seed(123456)\n",
    "\n",
    "bounds = torch.tensor(SixHumpCamel._bounds).T\n",
    "bounds_norm = torch.tensor([[0.,0.],[1.,1.]])\n",
    "train_X = bounds[0] + (bounds[1] - bounds[0]) * torch.rand(5, 2)\n",
    "train_Y = SixHumpCamel(negate=True)(train_X).unsqueeze(-1)\n",
    "\n",
    "train_X = normalize(train_X, bounds=bounds)\n",
    "train_Y = standardize(train_Y + 0.05 * torch.randn_like(train_Y))\n",
    "\n",
    "model = SingleTaskGP(train_X, train_Y)\n",
    "mll = ExactMarginalLogLikelihood(model.likelihood, model)\n",
    "fit_gpytorch_model(mll, max_retries=10);"
   ]
  },
  {
   "cell_type": "markdown",
   "metadata": {},
   "source": [
    "### 2. Defining the GIBBON acquisition function\n",
    "\n",
    "GIBBON is implemented in BoTorch as `qLowerBoundMaxValueEntropy` and supports pending points through its `X_pending` argument. Required arguments for the constructor are `model` and `candidate_set` (the discretized candidate points in the design space that will be used to draw max value samples). There are also other optional parameters, such as number of max value samples. Just like in our implementation of MES, two different sampling algorithms are supported for the max value samples: discretized Thompson sampling and Gumbel sampling (the default choice). \n",
    "   "
   ]
  },
  {
   "cell_type": "code",
   "execution_count": 3,
   "metadata": {},
   "outputs": [],
   "source": [
    "from botorch.acquisition.max_value_entropy_search import qLowerBoundMaxValueEntropy\n",
    "\n",
    "candidate_set_size = 1000 if not SMOKE_TEST else 5\n",
    "candidate_set = torch.rand(candidate_set_size, bounds_norm.size(1), device=bounds.device, dtype=bounds.dtype)\n",
    "qGIBBON = qLowerBoundMaxValueEntropy(model, candidate_set)\n",
    "     "
   ]
  },
  {
   "cell_type": "markdown",
   "metadata": {},
   "source": [
    "### 3. Optimizing the GIBBON acquisition function to get the next candidate points\n",
    "\n",
    "In order to obtain the next candidate point(s) to query, we need to optimize the acquisition function over the design space. For $q=1$ case, we can simply call the `optimize_acqf` function in the library. For $q>1$,  we greedily build batches using sequential optimization. \n"
   ]
  },
  {
   "cell_type": "code",
   "execution_count": 4,
   "metadata": {},
   "outputs": [
    {
     "data": {
      "text/plain": [
       "(tensor([[ 0.1204, -0.0163]]), tensor(0.0085))"
      ]
     },
     "execution_count": 4,
     "metadata": {},
     "output_type": "execute_result"
    }
   ],
   "source": [
    "from botorch.optim import optimize_acqf\n",
    "\n",
    "NUM_RESTARTS = 10 if not SMOKE_TEST else 2\n",
    "RAW_SAMPLES = 512 if not SMOKE_TEST else 4\n",
    "\n",
    "# for q = 1\n",
    "candidates, acq_value = optimize_acqf(\n",
    "    acq_function=qGIBBON, \n",
    "    bounds=bounds,\n",
    "    q=1,\n",
    "    num_restarts=NUM_RESTARTS,\n",
    "    raw_samples=RAW_SAMPLES,\n",
    "    options={\"sample_around_best\": True},\n",
    ")\n",
    "candidates, acq_value"
   ]
  },
  {
   "cell_type": "code",
   "execution_count": 5,
   "metadata": {},
   "outputs": [
    {
     "data": {
      "text/plain": [
       "(tensor([[ 0.1193, -0.0160],\n",
       "         [ 1.4334,  0.4397]]),\n",
       " tensor([0.0085, 0.0082]))"
      ]
     },
     "execution_count": 5,
     "metadata": {},
     "output_type": "execute_result"
    }
   ],
   "source": [
    "from botorch.optim import optimize_acqf\n",
    "\n",
    "# for q = 2, sequential optimization\n",
    "candidates, acq_value = optimize_acqf(\n",
    "    acq_function=qGIBBON, \n",
    "    bounds=bounds,\n",
    "    q=2,\n",
    "    num_restarts=NUM_RESTARTS,\n",
    "    raw_samples=RAW_SAMPLES,\n",
    "    options={\"sample_around_best\": True},\n",
    "    sequential=True,\n",
    ")\n",
    "candidates, acq_value"
   ]
  },
  {
   "cell_type": "markdown",
   "metadata": {},
   "source": [
    "### 4. Comparing GIBBON with other acquisition functions\n",
    "\n",
    "We now perform an illustrative comparison between GIBBON and the other low-cost acquisition functions implemented in BoTorch. We plot points chosen by each of the acquisition functions, each acquisition function's surface.\n"
   ]
  },
  {
   "cell_type": "markdown",
   "metadata": {},
   "source": [
    "#### Sequential BO (q=1)\n",
    "\n",
    "Firstly, we investigate GIBBON in the purely sequential case, comparing agaisnt MES, Expected Improvement (EI) and Probability of Improvement (PI). We see that GIBBON provides a very high-quality approximation of MES, choosing essentially the same location.\n"
   ]
  },
  {
   "cell_type": "code",
   "execution_count": 8,
   "metadata": {},
   "outputs": [
    {
     "data": {
      "text/plain": [
       "Text(-0.1, 0.5, 'x_2')"
      ]
     },
     "execution_count": 8,
     "metadata": {},
     "output_type": "execute_result"
    },
    {
     "data": {
      "image/png": "[encoded data removed]",
      "text/plain": [
       "<Figure size 720x360 with 4 Axes>"
      ]
     },
     "metadata": {
      "needs_background": "light"
     },
     "output_type": "display_data"
    }
   ],
   "source": [
    "from botorch.acquisition import ExpectedImprovement, ProbabilityOfImprovement, qMaxValueEntropy\n",
    "import matplotlib.pyplot as plt\n",
    "\n",
    "# prep different acqusition functions\n",
    "acqs = {}\n",
    "candidate_set = torch.rand(10000, bounds.size(1), device=bounds.device, dtype=bounds.dtype)\n",
    "acqs['GIBBON'] = qLowerBoundMaxValueEntropy(model, candidate_set)\n",
    "acqs['MES'] = qMaxValueEntropy(model, candidate_set)\n",
    "acqs['EI'] = ExpectedImprovement(model,best_f=train_Y.max())\n",
    "acqs['PI'] = ProbabilityOfImprovement(model,best_f=train_Y.max())\n",
    "\n",
    "# prep grid to evaluate acq functions\n",
    "n = 100 if not SMOKE_TEST else 2\n",
    "xv, yv = torch.meshgrid([torch.linspace(0, 1, n), torch.linspace(0, 1, n)])\n",
    "test_x = torch.stack([xv.reshape(n*n, 1), yv.reshape(n*n, 1)], -1)\n",
    "\n",
    "# eval and maximise acq functions\n",
    "evals = {}\n",
    "candidates = {}\n",
    "for acq in acqs.keys():\n",
    "    evals[acq] = acqs[acq](test_x).detach().reshape(n, n)\n",
    "    candidates[acq],_ = optimize_acqf(\n",
    "        acq_function=acqs[acq], \n",
    "        bounds=bounds_norm,\n",
    "        q=1,\n",
    "        num_restarts=5,\n",
    "        raw_samples=100,\n",
    "        options={\"sample_around_best\": True},\n",
    "    )\n",
    "    \n",
    "# plot acqusition function values and chosen points\n",
    "fig, (ax1, ax2, ax3, ax4) = plt.subplots(nrows=1, ncols=4, sharex=True, sharey=True, figsize=(10,5))\n",
    "ax1.contourf(xv,yv,evals['GIBBON'],levels=20)\n",
    "ax1.scatter(candidates['GIBBON'][:,0],candidates['GIBBON'][:,1],marker=\"X\",c=\"r\")\n",
    "ax1.set_title(\"GIBBON\")\n",
    "ax2.contourf(xv,yv,evals['MES'],levels=20)\n",
    "ax2.scatter(candidates['MES'][:,0],candidates['MES'][:,1],marker=\"X\",c=\"r\")\n",
    "ax2.set_title(\"MES\")\n",
    "ax3.contourf(xv,yv,evals['EI'],levels=20)\n",
    "ax3.scatter(candidates['EI'][:,0],candidates['EI'][:,1],marker=\"X\",c=\"r\")\n",
    "ax3.set_title(\"EI\")\n",
    "ax4.contourf(xv,yv,evals['PI'],levels=20)\n",
    "ax4.scatter(candidates['PI'][:,0],candidates['PI'][:,1],marker=\"X\",c=\"r\")\n",
    "ax4.set_title(\"PI\")\n",
    "fig.text(0.5, -0.1, 'x_1', ha='center')\n",
    "fig.text(-0.1, 0.5, 'x_2', va='center')"
   ]
  },
  {
   "cell_type": "markdown",
   "metadata": {},
   "source": [
    "#### Batch BO (q=3)\n",
    "\n",
    "For the batch BO case, GIBBON selects similar points to MES but with an order-of-magnitude lower computational overhead, i.e perfoming information-theoretic BO at the cost of much simpler acqusition functions like EI and PI. We stress that this gap in computational overhead between GIBBON and MES grows substantially as the optimisation progresses (see [2])."
   ]
  },
  {
   "cell_type": "code",
   "execution_count": 1,
   "metadata": {
    "pycharm": {
     "name": "#%%\n"
    }
   },
   "outputs": [
    {
     "ename": "SyntaxError",
     "evalue": "invalid syntax (1596232601.py, line 31)",
     "output_type": "error",
     "traceback": [
      "\u001B[0;36m  File \u001B[0;32m\"/var/folders/t3/xhtsf2011qndtzgvjdgdnylw0000gn/T/ipykernel_40081/1596232601.py\"\u001B[0;36m, line \u001B[0;32m31\u001B[0m\n\u001B[0;31m    sequential=True,\u001B[0m\n\u001B[0m              ^\u001B[0m\n\u001B[0;31mSyntaxError\u001B[0m\u001B[0;31m:\u001B[0m invalid syntax\n"
     ]
    }
   ],
   "source": [
    "from botorch.acquisition import qNoisyExpectedImprovement, qProbabilityOfImprovement\n",
    "from time import time\n",
    "\n",
    "# prep different acqusition functions\n",
    "acqs = {}\n",
    "candidate_set = torch.rand(10000, bounds.size(1), device=bounds.device, dtype=bounds.dtype)\n",
    "acqs['GIBBON'] = qLowerBoundMaxValueEntropy(model, candidate_set)\n",
    "acqs['MES'] = qMaxValueEntropy(model, candidate_set)\n",
    "acqs['EI'] = qNoisyExpectedImprovement(model, train_X)\n",
    "acqs['PI'] = qProbabilityOfImprovement(model, best_f=train_Y.max())\n",
    "\n",
    "# prep grid to evaluate acq functions\n",
    "n = 100 if not SMOKE_TEST else 2\n",
    "xv, yv = torch.meshgrid([torch.linspace(0, 1, n), torch.linspace(0, 1, n)])\n",
    "test_x = torch.stack([xv.reshape(n*n, 1), yv.reshape(n*n, 1)], -1)\n",
    "\n",
    "# eval and maximise acq functions\n",
    "evals = {}\n",
    "candidates = {}\n",
    "times = {}\n",
    "for acq in acqs.keys():\n",
    "    evals[acq] = acqs[acq](test_x).detach().reshape(n, n)\n",
    "    t_0 = time()\n",
    "    candidates[acq],_ = optimize_acqf(\n",
    "        acq_function=acqs[acq],\n",
    "        bounds=bounds_norm, \n",
    "        q=3,\n",
    "        num_restarts=5, \n",
    "        raw_samples=100,\n",
    "        options={\"sample_around_best\": True},\n",
    "        sequential=True,\n",
    "    )\n",
    "    times[acq] = time() - t_0\n",
    "    \n",
    "# plot acqusition function values and chosen points\n",
    "fig, (ax1, ax2, ax3, ax4) = plt.subplots(nrows=1, ncols=4, sharex=True, sharey=True, figsize=(10,5))\n",
    "ax1.contourf(xv,yv,evals['GIBBON'],levels=20)\n",
    "ax1.scatter(candidates['GIBBON'][:,0],candidates['GIBBON'][:,1],marker=\"X\",c=\"r\")\n",
    "ax1.set_title(\"GIBBON\")\n",
    "ax2.contourf(xv,yv,evals['MES'],levels=20)\n",
    "ax2.scatter(candidates['MES'][:,0],candidates['MES'][:,1],marker=\"X\",c=\"r\")\n",
    "ax2.set_title(\"MES\")\n",
    "ax3.contourf(xv,yv,evals['EI'],levels=20)\n",
    "ax3.scatter(candidates['EI'][:,0],candidates['EI'][:,1],marker=\"X\",c=\"r\")\n",
    "ax3.set_title(\"EI\")\n",
    "ax4.contourf(xv,yv,evals['PI'],levels=20)\n",
    "ax4.scatter(candidates['PI'][:,0],candidates['PI'][:,1],marker=\"X\",c=\"r\")\n",
    "ax4.set_title(\"PI\")\n",
    "fig.text(0.5, -0.1, 'x_1', ha='center')\n",
    "fig.text(-0.1, 0.5, 'x_2', va='center')\n",
    "\n",
    "# plot computational overheads\n",
    "plt.figure()\n",
    "heights = [times[acq] for acq in acqs.keys()]\n",
    "plt.bar(acqs.keys(), heights)\n",
    "plt.ylabel(\"Computation Time\")\n",
    "plt.xlabel(\"Acquisition Function\")"
   ]
  }
 ],
 "metadata": {
  "kernelspec": {
   "display_name": "Python 3",
   "language": "python",
   "name": "python3"
  },
  "language_info": {
   "codemirror_mode": {
    "name": "ipython",
    "version": 3
   },
   "file_extension": ".py",
   "mimetype": "text/x-python",
   "name": "python",
   "nbconvert_exporter": "python",
   "pygments_lexer": "ipython3",
   "version": "3.6.9"
  }
 },
 "nbformat": 4,
 "nbformat_minor": 2
}