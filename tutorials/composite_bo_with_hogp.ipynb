{
  "metadata": {
    "dataExplorerConfig": {},
    "kernelspec": {
      "display_name": "Python 3 (ipykernel)",
      "language": "python",
      "name": "python3"
    },
    "captumWidgetMessage": {},
    "outputWidgetContext": {}
  },
  "nbformat": 4,
  "nbformat_minor": 2,
  "cells": [
    {
      "cell_type": "markdown",
      "metadata": {
        "originalKey": "8335acc8-138f-4d2d-b65e-73b26f81f37b",
        "showInput": false
      },
      "source": [
        "## Composite Bayesian Optimization with the High Order Gaussian Process"
      ]
    },
    {
      "cell_type": "markdown",
      "metadata": {
        "originalKey": "0456cc35-2d2b-4861-a97e-220b06664757",
        "showInput": false
      },
      "source": [
        "In this tutorial, we're going to explore composite Bayesian optimization [Astudillo & Frazier, ICML, '19](https://proceedings.mlr.press/v97/astudillo19a.html) with the High Order Gaussian Process (HOGP) model of [Zhe et al, AISTATS, '19](http://proceedings.mlr.press/v89/zhe19a.html). The setup for composite Bayesian optimization is that we have an unknown (black box) function mapping input parameters to several outputs, and a second, known function describing the quality of the functional output. We wish to find input parameters that maximize the output metric function. We wish to find input parameters that maximize the output metric function in a black-box manner. \n",
        "\n",
        "Specifically, this can be described as $\\max_{x \\in \\mathcal{X}} g(f(x)),$ where $f$ is unknown and $g$ is known. As in traditional Bayesian optimization, we are going to construct a Gaussian process surrogate model over the expensive to evaluate function $f(.),$ and will use a HOGP to model this function. "
      ]
    },
    {
      "cell_type": "markdown",
      "metadata": {
        "originalKey": "e9d6372a-3961-453d-a2fc-6ed7b649c76c",
        "showInput": false
      },
      "source": [
        "### HOGP model description\n",
        "\n",
        "The [High Order Gaussian Process (HOGP) model](https://proceedings.mlr.press/v89/zhe19a.html) is a Gaussian process model designed specifically to operate over tensors or multi-dimensional arrays and exploits structure in the tensor to be able to operate efficiently. Specifically, the HOGP takes as inputs $y \\in \\mathbb{R}^{N \\times d_2 \\times \\cdots \\times d_M}$ and assumes that $\\text{vec}(y) \\sim \\mathcal{N}(0, \\otimes_{i=1}^M K_i + \\sigma^2 I),$ where $K_1 = K_{XX}.$ Each dimension of the tensor has its own kernel function, $K_i,$ as well as a set of $d_i$ latent parameters that can be optimized over.\n",
        "\n",
        "Recently, [Maddox et al, '21](https://arxiv.org/abs/2106.12997) proposed a method for computing posterior samples from the HOGP by exploiting structure in the posterior distribution, thereby enabling its usage in BO settings. While they show that this approach allows to use composite BO on problems with tens or thousands of outputs, for scalability we consider a much smaller example here (that does not require GPU acceleration)."
      ]
    },
    {
      "cell_type": "code",
      "metadata": {
        "originalKey": "7480bb71-30eb-4f3b-b12e-0e69974c85cc",
        "code_folding": [],
        "hidden_ranges": [],
        "collapsed": false,
        "requestMsgId": "5290684d-de9d-4c43-a60c-0cd5eaa47401",
        "executionStartTime": 1668650428046,
        "executionStopTime": 1668650429565,
        "customOutput": null
      },
      "source": [
        "import torch\n",
        "import os\n",
        "import logging\n",
        "import math\n",
        "import matplotlib.pyplot as plt\n",
        "import time\n",
        "\n",
        "import gpytorch.settings as gpt_settings\n",
        "\n",
        "from botorch.acquisition import qExpectedImprovement\n",
        "from botorch.acquisition.objective import GenericMCObjective\n",
        "from botorch.models import HigherOrderGP, SingleTaskGP\n",
        "from botorch.models.higher_order_gp import FlattenedStandardize\n",
        "from botorch.models.transforms import Normalize, Standardize\n",
        "from botorch.optim import optimize_acqf\n",
        "from botorch.sampling.normal import IIDNormalSampler\n",
        "\n",
        "from gpytorch.mlls import ExactMarginalLogLikelihood\n",
        "\n",
        "%matplotlib inline\n",
        "\n",
        "SMOKE_TEST = os.environ.get(\"SMOKE_TEST\")"
      ],
      "execution_count": 1,
      "outputs": [
        {
          "output_type": "stream",
          "name": "stderr",
          "text": [
            "I1116 180027.938 _utils_internal.py:179] NCCL_DEBUG env var is set to None\n"
          ]
        },
        {
          "output_type": "stream",
          "name": "stderr",
          "text": [
            "I1116 180027.940 _utils_internal.py:188] NCCL_DEBUG is INFO from /etc/nccl.conf\n"
          ]
        }
      ]
    },
    {
      "cell_type": "code",
      "metadata": {
        "originalKey": "54f8c9eb-2a60-40bc-a65d-fe53a49a4b41",
        "collapsed": false,
        "requestMsgId": "5fa424bb-50b8-4a43-8b05-3fbded915b8a",
        "executionStartTime": 1668650429809,
        "executionStopTime": 1668650429816,
        "customOutput": null
      },
      "source": [
        "from botorch.optim.fit import fit_gpytorch_torch"
      ],
      "execution_count": 2,
      "outputs": []
    },
    {
      "cell_type": "markdown",
      "metadata": {
        "originalKey": "c90bc749-758f-49cd-bfb3-970a921c66da",
        "showInput": false
      },
      "source": [
        "#### Set Device and dtype"
      ]
    },
    {
      "cell_type": "code",
      "metadata": {
        "originalKey": "cdd35219-5048-4cd1-8cb5-bade7c89c43b",
        "collapsed": false,
        "requestMsgId": "16fd7d48-dd6f-4d50-8929-b70131ceb85e",
        "executionStartTime": 1668650430598,
        "executionStopTime": 1668650430689,
        "code_folding": [],
        "hidden_ranges": [],
        "customOutput": null
      },
      "source": [
        "torch.manual_seed(0)\n",
        "device = torch.device(\"cpu\") if not torch.cuda.is_available() else torch.device(\"cuda:4\")\n",
        "dtype = torch.float\n",
        "\n",
        "print(\"Using \", device)"
      ],
      "execution_count": 3,
      "outputs": [
        {
          "output_type": "stream",
          "name": "stdout",
          "text": [
            "Using  cuda:4\n"
          ]
        }
      ]
    },
    {
      "cell_type": "code",
      "metadata": {
        "originalKey": "7b06232c-481f-41c4-86a5-116b84cae6d4",
        "collapsed": false,
        "requestMsgId": "01fb641d-36d7-4dbc-8f68-a4280047b90e",
        "executionStartTime": 1668650430900,
        "executionStopTime": 1668650430910,
        "customOutput": null
      },
      "source": [
        "models_used = (\n",
        "    \"rnd\",\n",
        "    \"ei\",\n",
        "    \"ei_hogp_cf\",\n",
        ")"
      ],
      "execution_count": 4,
      "outputs": []
    },
    {
      "cell_type": "markdown",
      "metadata": {
        "originalKey": "720c695f-d688-4b80-a2b1-f15db6e3c42a",
        "showInput": false
      },
      "source": [
        "### Problem Description"
      ]
    },
    {
      "cell_type": "markdown",
      "metadata": {
        "originalKey": "24c31ede-5f02-4b48-8513-10572e33ae78",
        "showInput": false
      },
      "source": [
        "We use a simple test problem describing the concentration of pollutants after a chemical spill from [Astudillo & Frazier, ICML, '19](https://proceedings.mlr.press/v97/astudillo19a.html) defined over a $3 \\times 4$ grid of values $s,t$ and we wish to optimize the parameters w.r.t. their true values, to estimate the true value of parameters, $x = [M, D, L, \\tau].$ The function is given by \n",
        "$$ f(s,t | M, D, L, \\tau) := \\frac{M}{\\sqrt{4 \\pi D t}}  \\exp\\{-\\frac{s^2}{4Dt}\\} + \\frac{1_{t > \\tau} M}{\\sqrt{4 \\pi D(t - \\tau)}} \\exp\\{- \\frac{(s - L)^2}{4 D (t - \\tau)}\\}, $$\n",
        "with the cheap to evaluate, differentiable function given by $g(y):= \\sum_{(s,t) \\in S \\times T} \\left(c(s, t|x_{\\text{true}}) - y\\right)^2.$ As the objective function itself is going to be implemented in Pytorch, we will be able to differentiate through it, enabling the usage of gradient-based optimization to optimize the objectives with respect to the inputs."
      ]
    },
    {
      "cell_type": "code",
      "metadata": {
        "originalKey": "3e5c8ac7-ddcf-4011-b2bc-d9e5afeb057d",
        "collapsed": false,
        "requestMsgId": "44b1e145-86b4-4486-9c20-f5daee368716",
        "executionStartTime": 1668650431136,
        "executionStopTime": 1668650431222,
        "customOutput": null
      },
      "source": [
        "def env_cfun(s, t, M, D, L, tau):\n",
        "    c1 = M / torch.sqrt(4 * math.pi * D * t)\n",
        "    exp1 = torch.exp(-(s ** 2) / 4 / D / t)\n",
        "    term1 = c1 * exp1\n",
        "    c2 = M / torch.sqrt(4 * math.pi * D * (t - tau))\n",
        "    exp2 = torch.exp(-((s - L) ** 2) / 4 / D / (t - tau))\n",
        "    term2 = c2 * exp2\n",
        "    term2[torch.isnan(term2)] = 0.0\n",
        "    return term1 + term2"
      ],
      "execution_count": 5,
      "outputs": []
    },
    {
      "cell_type": "markdown",
      "metadata": {
        "originalKey": "cd0586f4-a16a-4a4a-b82a-37d23b441c6d",
        "showInput": false
      },
      "source": [
        "#### Helper Functions"
      ]
    },
    {
      "cell_type": "markdown",
      "metadata": {
        "originalKey": "412c92c8-ddf6-4adb-b2e3-86196fea6898",
        "showInput": false
      },
      "source": [
        "These are helper functions for us to maximize the acquisition function and to get random points."
      ]
    },
    {
      "cell_type": "code",
      "metadata": {
        "originalKey": "15defcd4-f94b-4032-a9b1-ad11ac9c70d0",
        "collapsed": false,
        "requestMsgId": "d1592327-484f-4005-b113-c82ca052c3f4",
        "executionStartTime": 1668650431448,
        "executionStopTime": 1668650431538,
        "customOutput": null
      },
      "source": [
        "def gen_rand_points(bounds, num_samples):\n",
        "    points_nlzd = torch.rand(num_samples, bounds.shape[-1]).to(bounds)\n",
        "    return bounds[0] + (bounds[1] - bounds[0]) * points_nlzd\n",
        "    \n",
        "\n",
        "def optimize_ei(qEI, bounds, **options):\n",
        "    with gpt_settings.fast_computations(covar_root_decomposition=False):\n",
        "        cands_nlzd, _ = optimize_acqf(\n",
        "                qEI, bounds, **options, \n",
        "        )\n",
        "    return cands_nlzd"
      ],
      "execution_count": 6,
      "outputs": []
    },
    {
      "cell_type": "markdown",
      "metadata": {
        "originalKey": "f0def79f-54e0-4141-801b-2aaa65cb48e3",
        "showInput": false
      },
      "source": [
        "Below is a wrapped function to help us define bounds on the parameter space, we can also vary the size of the grid if we'd like to."
      ]
    },
    {
      "cell_type": "code",
      "metadata": {
        "originalKey": "4355754a-e091-4d33-bf83-76714cb46f63",
        "collapsed": false,
        "requestMsgId": "980f80c4-42f6-4084-8f75-3570b3c334b3",
        "executionStartTime": 1668650431782,
        "executionStopTime": 1668650431873,
        "customOutput": null
      },
      "source": [
        "def prepare_data(s_size=3, t_size=4, device=device, dtype=dtype):\n",
        "    print(\"---- Running the environmental problem with \", s_size, t_size, \" ----\")\n",
        "    # X = [M, D, L, tau]\n",
        "    bounds = torch.tensor(\n",
        "        [[7.0, 0.02, 0.01, 30.010], [13.0, 0.12, 3.00, 30.295]],\n",
        "        device=device,\n",
        "        dtype=dtype,\n",
        "    )\n",
        "\n",
        "    M0 = torch.tensor(10.0, device=device, dtype=dtype)\n",
        "    D0 = torch.tensor(0.07, device=device, dtype=dtype)\n",
        "    L0 = torch.tensor(1.505, device=device, dtype=dtype)\n",
        "    tau0 = torch.tensor(30.1525, device=device, dtype=dtype)\n",
        "\n",
        "    # we can vectorize everything, no need for loops\n",
        "    if s_size == 3:\n",
        "        S = torch.tensor([0.0, 1.0, 2.5], device=device, dtype=dtype)\n",
        "    else:\n",
        "        S = torch.linspace(0.0, 2.5, s_size, device=device, dtype=dtype)\n",
        "    if t_size == 4:\n",
        "        T = torch.tensor([15.0, 30.0, 45.0, 60.0], device=device, dtype=dtype)\n",
        "    else:\n",
        "        T = torch.linspace(15.0, 60.0, t_size, device=device, dtype=dtype)\n",
        "\n",
        "    Sgrid, Tgrid = torch.meshgrid(S, T)\n",
        "\n",
        "    # X = [M, D, L, tau]\n",
        "    def c_batched(X, k=None):\n",
        "        return torch.stack([env_cfun(Sgrid, Tgrid, *x) for x in X])\n",
        "\n",
        "    c_true = env_cfun(Sgrid, Tgrid, M0, D0, L0, tau0)\n",
        "\n",
        "    def neq_sum_quared_diff(samples):\n",
        "        # unsqueeze\n",
        "        if samples.shape[-1] == (s_size * t_size):\n",
        "            samples = samples.unsqueeze(-1).reshape(\n",
        "                *samples.shape[:-1], s_size, t_size\n",
        "            )\n",
        "\n",
        "        sq_diffs = (samples - c_true).pow(2)\n",
        "        return sq_diffs.sum(dim=(-1, -2)).mul(-1.0)\n",
        "\n",
        "    objective = GenericMCObjective(neq_sum_quared_diff)\n",
        "    num_samples = 32\n",
        "\n",
        "    return c_batched, objective, bounds, num_samples"
      ],
      "execution_count": 7,
      "outputs": []
    },
    {
      "cell_type": "markdown",
      "metadata": {
        "originalKey": "e0284996-a67c-471c-a0bc-3472e6ac8459",
        "showInput": false
      },
      "source": [
        "In the above, we construct a `GenericMCObjective` instance to codify the objective function (which is minimizing the MSE of the output tensors and the outputs corresponding to the \"true\" parameter values). Note that the objective function is encoded in PyTorch and is differentiable (although it technically doesn't have to be). Ultimately, we backpropagate through the objective with respect to the input parameters (and through the HOGP as well)."
      ]
    },
    {
      "cell_type": "markdown",
      "metadata": {
        "originalKey": "1471cbeb-efdd-409b-9be0-1e360fef4787",
        "showInput": false
      },
      "source": [
        "## BO Loop"
      ]
    },
    {
      "cell_type": "markdown",
      "metadata": {
        "originalKey": "3be94f6f-32a8-4caa-ae48-93580c14584e",
        "showInput": false
      },
      "source": [
        "Finally, we run the BO loop over three trials for $15$ batches each. This loop might take a while.\n",
        "\n",
        "We will be comparing to both random selection and batch expected improvment on the aggregated metric."
      ]
    },
    {
      "cell_type": "code",
      "metadata": {
        "originalKey": "38126e32-cd3c-4786-ba67-2e7bbad7e691",
        "collapsed": false,
        "requestMsgId": "85ed80a7-2e32-4189-99f3-e0b7ecefe110",
        "executionStartTime": 1668650432121,
        "executionStopTime": 1668650432127,
        "customOutput": null
      },
      "source": [
        "n_init = 30\n",
        "\n",
        "if SMOKE_TEST:\n",
        "    n_batches = 1\n",
        "    batch_size = 2\n",
        "    n_trials = 1\n",
        "else:\n",
        "    n_batches = 15\n",
        "    batch_size = 4\n",
        "    n_trials = 3"
      ],
      "execution_count": 8,
      "outputs": []
    },
    {
      "cell_type": "markdown",
      "metadata": {
        "originalKey": "ac61b7da-7376-41fe-aa89-b1fed1b1c1ee",
        "showInput": false
      },
      "source": [
        "As a word of caution, we've found that when fitting the HOGP model, using first-order optimizers (e.g. Adam) as is used in `fit_gpytorch_torch` tends to outperform second-order optimizers such as L-BFGS-B due to the large number of free parameters in the HOGP. L-BFGS-B tends to overfit in practice here."
      ]
    },
    {
      "cell_type": "code",
      "metadata": {
        "originalKey": "b1daebae-8e63-478e-b6ce-605ac8db7a3a",
        "collapsed": false,
        "requestMsgId": "b1da295d-7555-45ac-a4a8-989dd2c625f7",
        "executionStartTime": 1668650432451,
        "executionStopTime": 1668650722451,
        "code_folding": [],
        "hidden_ranges": [],
        "customOutput": null
      },
      "source": [
        "all_objective_vals = []\n",
        "\n",
        "with gpt_settings.cholesky_jitter(1e-4):\n",
        "    c_batched, objective, bounds, num_samples = prepare_data(device=device, dtype=dtype)\n",
        "\n",
        "    train_X_init = gen_rand_points(bounds, n_init)\n",
        "    train_Y_init = c_batched(train_X_init)\n",
        "\n",
        "    # these will keep track of the points explored\n",
        "    train_X = {k: train_X_init.clone() for k in models_used}\n",
        "    train_Y = {k: train_Y_init.clone() for k in train_X}\n",
        "\n",
        "    # run the BO loop\n",
        "    for i in range(n_batches):\n",
        "        tic = time.monotonic()\n",
        "\n",
        "        # get best observations, log status\n",
        "        best_f = {k: objective(v).max().detach() for k, v in train_Y.items()}\n",
        "\n",
        "        logging.info(\n",
        "            f\"It {i+1:>2}/{n_batches}, best obs.: \"\n",
        "            \", \".join([f\"{k}: {v:.3f}\" for k, v in best_f.items()])\n",
        "        )\n",
        "\n",
        "        # generate random candidates\n",
        "        cands = {}\n",
        "        cands[\"rnd\"] = gen_rand_points(bounds, batch_size)\n",
        "\n",
        "        optimize_acqf_kwargs = {\n",
        "            \"q\": batch_size,\n",
        "            \"num_restarts\": 10,\n",
        "            \"raw_samples\": 512,\n",
        "        }\n",
        "        sampler = IIDNormalSampler(sample_shape=torch.Size([128]))\n",
        "\n",
        "        train_Y_ei = objective(train_Y[\"ei\"]).unsqueeze(-1)\n",
        "        model_ei = SingleTaskGP(\n",
        "            train_X[\"ei\"],\n",
        "            train_Y_ei,\n",
        "            input_transform=Normalize(train_X[\"ei\"].shape[-1]),\n",
        "            outcome_transform=Standardize(train_Y_ei.shape[-1]),\n",
        "        )\n",
        "\n",
        "        mll = ExactMarginalLogLikelihood(model_ei.likelihood, model_ei)\n",
        "        fit_gpytorch_torch(mll, options={\"lr\": 0.01, \"maxiter\": 3000, \"disp\": False})\n",
        "\n",
        "        # generate qEI candidate (single output modeling)\n",
        "        qEI = qExpectedImprovement(model_ei, best_f=best_f[\"ei\"], sampler=sampler)\n",
        "        cands[\"ei\"] = optimize_ei(qEI, bounds, **optimize_acqf_kwargs)\n",
        "\n",
        "        model_ei_hogp_cf = HigherOrderGP(\n",
        "            train_X[\"ei_hogp_cf\"],\n",
        "            train_Y[\"ei_hogp_cf\"],\n",
        "            outcome_transform=FlattenedStandardize(train_Y[\"ei_hogp_cf\"].shape[1:]),\n",
        "            input_transform=Normalize(train_X[\"ei_hogp_cf\"].shape[-1]),\n",
        "            latent_init=\"gp\",\n",
        "        )\n",
        "\n",
        "        mll = ExactMarginalLogLikelihood(model_ei_hogp_cf.likelihood, model_ei_hogp_cf)\n",
        "        fit_gpytorch_torch(mll, options={\"lr\": 0.01, \"maxiter\": 3000, \"disp\": False})\n",
        "\n",
        "        # generate qEI candidate (multi-output modeling)\n",
        "        qEI_hogp_cf = qExpectedImprovement(\n",
        "            model_ei_hogp_cf,\n",
        "            best_f=best_f[\"ei_hogp_cf\"],\n",
        "            sampler=sampler,\n",
        "            objective=objective,\n",
        "        )\n",
        "        cands[\"ei_hogp_cf\"] = optimize_ei(qEI_hogp_cf, bounds, **optimize_acqf_kwargs)\n",
        "\n",
        "        # make observations and update data\n",
        "        for k, Xold in train_X.items():\n",
        "            Xnew = cands[k]\n",
        "            if Xnew.shape[0] > 0:\n",
        "                train_X[k] = torch.cat([Xold, Xnew])\n",
        "                train_Y[k] = torch.cat([train_Y[k], c_batched(Xnew)])\n",
        "\n",
        "        logging.info(f\"Wall time: {time.monotonic() - tic:1f}\")\n",
        "\n",
        "    objective_dict = {k: objective(train_Y[k]) for k in train_Y}"
      ],
      "execution_count": 9,
      "outputs": [
        {
          "output_type": "stream",
          "name": "stdout",
          "text": [
            "---- Running the environmental problem with  3 4  ----\n"
          ]
        },
        {
          "output_type": "stream",
          "name": "stderr",
          "text": [
            "I1116 180036.405 <ipython-input-9-45b9544ba152>:20] rnd: -0.666It  1/15, best obs.: , ei: -0.666It  1/15, best obs.: , ei_hogp_cf: -0.666\n"
          ]
        },
        {
          "output_type": "stream",
          "name": "stderr",
          "text": [
            "/data/sandcastle/boxes/fbsource/buck-out/v2/gen/fbcode/f3b9a99e517e0a13/bento/kernels/__bento_kernel_axoptics__/bento_kernel_axoptics#link-tree/botorch/optim/optimize.py:306: RuntimeWarning:\n\nOptimization failed in `gen_candidates_scipy` with the following warning(s):\n[OptimizationWarning('Optimization failed within `scipy.optimize.minimize` with status 2.')]\nTrying again with a new set of initial conditions.\n\n"
          ]
        },
        {
          "output_type": "stream",
          "name": "stderr",
          "text": [
            "I1116 180154.411 <ipython-input-9-45b9544ba152>:78] Wall time: 78.005815\n"
          ]
        },
        {
          "output_type": "stream",
          "name": "stderr",
          "text": [
            "I1116 180154.413 <ipython-input-9-45b9544ba152>:20] rnd: -0.666It  2/15, best obs.: , ei: -0.170It  2/15, best obs.: , ei_hogp_cf: -0.001\n"
          ]
        },
        {
          "output_type": "stream",
          "name": "stderr",
          "text": [
            "I1116 180213.277 <ipython-input-9-45b9544ba152>:78] Wall time: 18.865570\n"
          ]
        },
        {
          "output_type": "stream",
          "name": "stderr",
          "text": [
            "I1116 180213.280 <ipython-input-9-45b9544ba152>:20] rnd: -0.666It  3/15, best obs.: , ei: -0.051It  3/15, best obs.: , ei_hogp_cf: -0.001\n"
          ]
        },
        {
          "output_type": "stream",
          "name": "stderr",
          "text": [
            "I1116 180237.682 <ipython-input-9-45b9544ba152>:78] Wall time: 24.403220\n"
          ]
        },
        {
          "output_type": "stream",
          "name": "stderr",
          "text": [
            "I1116 180237.685 <ipython-input-9-45b9544ba152>:20] rnd: -0.666It  4/15, best obs.: , ei: -0.036It  4/15, best obs.: , ei_hogp_cf: -0.001\n"
          ]
        },
        {
          "output_type": "stream",
          "name": "stderr",
          "text": [
            "I1116 180244.376 <ipython-input-9-45b9544ba152>:78] Wall time: 6.690989\n"
          ]
        },
        {
          "output_type": "stream",
          "name": "stderr",
          "text": [
            "I1116 180244.378 <ipython-input-9-45b9544ba152>:20] rnd: -0.666It  5/15, best obs.: , ei: -0.036It  5/15, best obs.: , ei_hogp_cf: -0.001\n"
          ]
        },
        {
          "output_type": "stream",
          "name": "stderr",
          "text": [
            "I1116 180303.585 <ipython-input-9-45b9544ba152>:78] Wall time: 19.207737\n"
          ]
        },
        {
          "output_type": "stream",
          "name": "stderr",
          "text": [
            "I1116 180303.587 <ipython-input-9-45b9544ba152>:20] rnd: -0.666It  6/15, best obs.: , ei: -0.020It  6/15, best obs.: , ei_hogp_cf: -0.001\n"
          ]
        },
        {
          "output_type": "stream",
          "name": "stderr",
          "text": [
            "I1116 180329.335 <ipython-input-9-45b9544ba152>:78] Wall time: 25.748903\n"
          ]
        },
        {
          "output_type": "stream",
          "name": "stderr",
          "text": [
            "I1116 180329.337 <ipython-input-9-45b9544ba152>:20] rnd: -0.393It  7/15, best obs.: , ei: -0.020It  7/15, best obs.: , ei_hogp_cf: -0.001\n"
          ]
        },
        {
          "output_type": "stream",
          "name": "stderr",
          "text": [
            "I1116 180339.991 <ipython-input-9-45b9544ba152>:78] Wall time: 10.655380\n"
          ]
        },
        {
          "output_type": "stream",
          "name": "stderr",
          "text": [
            "I1116 180339.994 <ipython-input-9-45b9544ba152>:20] rnd: -0.393It  8/15, best obs.: , ei: -0.020It  8/15, best obs.: , ei_hogp_cf: -0.001\n"
          ]
        },
        {
          "output_type": "stream",
          "name": "stderr",
          "text": [
            "I1116 180348.075 <ipython-input-9-45b9544ba152>:78] Wall time: 8.082961\n"
          ]
        },
        {
          "output_type": "stream",
          "name": "stderr",
          "text": [
            "I1116 180348.077 <ipython-input-9-45b9544ba152>:20] rnd: -0.393It  9/15, best obs.: , ei: -0.009It  9/15, best obs.: , ei_hogp_cf: -0.001\n"
          ]
        },
        {
          "output_type": "stream",
          "name": "stderr",
          "text": [
            "I1116 180355.706 <ipython-input-9-45b9544ba152>:78] Wall time: 7.629530\n"
          ]
        },
        {
          "output_type": "stream",
          "name": "stderr",
          "text": [
            "I1116 180355.708 <ipython-input-9-45b9544ba152>:20] rnd: -0.393It 10/15, best obs.: , ei: -0.009It 10/15, best obs.: , ei_hogp_cf: -0.001\n"
          ]
        },
        {
          "output_type": "stream",
          "name": "stderr",
          "text": [
            "I1116 180404.081 <ipython-input-9-45b9544ba152>:78] Wall time: 8.374623\n"
          ]
        },
        {
          "output_type": "stream",
          "name": "stderr",
          "text": [
            "I1116 180404.084 <ipython-input-9-45b9544ba152>:20] rnd: -0.393It 11/15, best obs.: , ei: -0.009It 11/15, best obs.: , ei_hogp_cf: -0.001\n"
          ]
        },
        {
          "output_type": "stream",
          "name": "stderr",
          "text": [
            "I1116 180412.001 <ipython-input-9-45b9544ba152>:78] Wall time: 7.917544\n"
          ]
        },
        {
          "output_type": "stream",
          "name": "stderr",
          "text": [
            "I1116 180412.003 <ipython-input-9-45b9544ba152>:20] rnd: -0.393It 12/15, best obs.: , ei: -0.009It 12/15, best obs.: , ei_hogp_cf: -0.001\n"
          ]
        },
        {
          "output_type": "stream",
          "name": "stderr",
          "text": [
            "I1116 180421.722 <ipython-input-9-45b9544ba152>:78] Wall time: 9.719707\n"
          ]
        },
        {
          "output_type": "stream",
          "name": "stderr",
          "text": [
            "I1116 180421.725 <ipython-input-9-45b9544ba152>:20] rnd: -0.393It 13/15, best obs.: , ei: -0.009It 13/15, best obs.: , ei_hogp_cf: -0.001\n"
          ]
        },
        {
          "output_type": "stream",
          "name": "stderr",
          "text": [
            "I1116 180432.075 <ipython-input-9-45b9544ba152>:78] Wall time: 10.351635\n"
          ]
        },
        {
          "output_type": "stream",
          "name": "stderr",
          "text": [
            "I1116 180432.077 <ipython-input-9-45b9544ba152>:20] rnd: -0.393It 14/15, best obs.: , ei: -0.009It 14/15, best obs.: , ei_hogp_cf: -0.001\n"
          ]
        },
        {
          "output_type": "stream",
          "name": "stderr",
          "text": [
            "I1116 180453.233 <ipython-input-9-45b9544ba152>:78] Wall time: 21.157326\n"
          ]
        },
        {
          "output_type": "stream",
          "name": "stderr",
          "text": [
            "I1116 180453.235 <ipython-input-9-45b9544ba152>:20] rnd: -0.393It 15/15, best obs.: , ei: -0.009It 15/15, best obs.: , ei_hogp_cf: -0.001\n"
          ]
        },
        {
          "output_type": "stream",
          "name": "stderr",
          "text": [
            "I1116 180522.339 <ipython-input-9-45b9544ba152>:78] Wall time: 29.105464\n"
          ]
        }
      ]
    },
    {
      "cell_type": "code",
      "metadata": {
        "originalKey": "27d1cdec-ddbf-4e97-a4d7-ad3ad658f0f6",
        "collapsed": false,
        "requestMsgId": "c11f1eea-a512-4b46-9444-236343c8e73c",
        "executionStartTime": 1668650722685,
        "executionStopTime": 1668650722717,
        "code_folding": [],
        "hidden_ranges": [],
        "customOutput": null
      },
      "source": [
        "methods_dict = {k: objective_dict[k].cpu().cummax(0)[0] for k in models_used}\n",
        "mean_results = {k: -methods_dict[k][n_init:] for k in models_used}"
      ],
      "execution_count": 10,
      "outputs": []
    },
    {
      "cell_type": "markdown",
      "metadata": {
        "originalKey": "c9ef07f3-0f09-4736-8105-36c942073ad2",
        "showInput": false
      },
      "source": [
        "Finally, we plot the results, showing that the HOGP performs well on this task, and converges to a closer parameter value than a batch GP on the composite metric itself."
      ]
    },
    {
      "cell_type": "code",
      "metadata": {
        "originalKey": "bf14f09f-e677-427e-a05f-fba4c6763dc3",
        "collapsed": false,
        "requestMsgId": "e82d8e43-50cf-42e3-82aa-d59ab3a60a2c",
        "executionStartTime": 1668650722984,
        "executionStopTime": 1668650723542,
        "code_folding": [],
        "hidden_ranges": [],
        "customOutput": null
      },
      "source": [
        "plt.figure(figsize = (8,6))\n",
        "labels_dict = {\"rnd\": \"Random\", \"ei\": \"EI\", \"ei_hogp_cf\": \"Composite EI\"}\n",
        "for k in models_used:\n",
        "    plt.plot(\n",
        "        torch.arange(n_batches * batch_size),\n",
        "        mean_results[k],\n",
        "        label = labels_dict[k],\n",
        "    )\n",
        "plt.legend(fontsize = 20)\n",
        "plt.semilogy()\n",
        "plt.xlabel(\"Number of Function Queries\")\n",
        "plt.ylabel(\"Difference from True Parameter\")"
      ],
      "execution_count": 11,
      "outputs": [
        {
          "output_type": "execute_result",
          "data": {
            "text/plain": "Text(0, 0.5, 'Difference from True Parameter')"
          },
          "metadata": {
            "bento_obj_id": "140382816955360"
          },
          "execution_count": 11
        },
        {
          "output_type": "display_data",
          "data": {
            "text/plain": "<Figure size 576x432 with 1 Axes>",
            "image/png": "[encoded data removed]"
          },
          "metadata": {
            "bento_obj_id": "140383083203456",
            "needs_background": "light"
          }
        }
      ]
    }
  ]
}
