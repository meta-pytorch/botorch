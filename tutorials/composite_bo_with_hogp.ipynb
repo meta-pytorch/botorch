{
  "metadata": {
    "dataExplorerConfig": {},
    "kernelspec": {
      "display_name": "python3",
      "language": "python",
      "name": "python3",
      "cinder_runtime": true,
      "ipyflow_runtime": false,
      "metadata": {
        "kernel_name": "bento_kernel_ae",
        "nightly_builds": false,
        "fbpkg_supported": true,
        "cinder_runtime": true,
        "ipyflow_runtime": false,
        "is_prebuilt": true
      }
    },
    "captumWidgetMessage": {},
    "last_server_session_id": "05313730-fd4b-4421-8eec-e4f76854ac10",
    "last_kernel_id": "45500574-ce64-4c6b-b5dc-1d72d3803be1",
    "last_base_url": "https://bento.edge.x2p.facebook.net/",
    "last_msg_id": "28851d73-33cffc3b77df0fcac5bd3f5d_103",
    "outputWidgetContext": {}
  },
  "nbformat": 4,
  "nbformat_minor": 2,
  "cells": [
    {
      "cell_type": "markdown",
      "metadata": {
        "originalKey": "8335acc8-138f-4d2d-b65e-73b26f81f37b",
        "showInput": false
      },
      "source": [
        "## Composite Bayesian Optimization with the High Order Gaussian Process"
      ]
    },
    {
      "cell_type": "markdown",
      "metadata": {
        "originalKey": "0456cc35-2d2b-4861-a97e-220b06664757",
        "showInput": false
      },
      "source": [
        "In this tutorial, we're going to explore composite Bayesian optimization [Astudillo & Frazier, ICML, '19](https://proceedings.mlr.press/v97/astudillo19a.html) with the High Order Gaussian Process (HOGP) model of [Zhe et al, AISTATS, '19](http://proceedings.mlr.press/v89/zhe19a.html). The setup for composite Bayesian optimization is that we have an unknown (black box) function mapping input parameters to several outputs, and a second, known function describing the quality of the functional output. We wish to find input parameters that maximize the output metric function. We wish to find input parameters that maximize the output metric function in a black-box manner. \n",
        "\n",
        "Specifically, this can be described as $\\max_{x \\in \\mathcal{X}} g(f(x)),$ where $f$ is unknown and $g$ is known. As in traditional Bayesian optimization, we are going to construct a Gaussian process surrogate model over the expensive to evaluate function $f(.),$ and will use a HOGP to model this function. "
      ]
    },
    {
      "cell_type": "markdown",
      "metadata": {
        "originalKey": "e9d6372a-3961-453d-a2fc-6ed7b649c76c",
        "showInput": false
      },
      "source": [
        "### HOGP model description\n",
        "\n",
        "The [High Order Gaussian Process (HOGP) model](https://proceedings.mlr.press/v89/zhe19a.html) is a Gaussian process model designed specifically to operate over tensors or multi-dimensional arrays and exploits structure in the tensor to be able to operate efficiently. Specifically, the HOGP takes as inputs $y \\in \\mathbb{R}^{N \\times d_2 \\times \\cdots \\times d_M}$ and assumes that $\\text{vec}(y) \\sim \\mathcal{N}(0, \\otimes_{i=1}^M K_i + \\sigma^2 I),$ where $K_1 = K_{XX}.$ Each dimension of the tensor has its own kernel function, $K_i,$ as well as a set of $d_i$ latent parameters that can be optimized over.\n",
        "\n",
        "Recently, [Maddox et al, '21](https://arxiv.org/abs/2106.12997) proposed a method for computing posterior samples from the HOGP by exploiting structure in the posterior distribution, thereby enabling its usage in BO settings. While they show that this approach allows to use composite BO on problems with tens or thousands of outputs, for scalability we consider a much smaller example here (that does not require GPU acceleration)."
      ]
    },
    {
      "cell_type": "code",
      "metadata": {
        "originalKey": "3e3a9351-1762-4076-9681-5969c3b6ad0f",
        "code_folding": [],
        "hidden_ranges": [],
        "collapsed": false,
        "requestMsgId": "3e3a9351-1762-4076-9681-5969c3b6ad0f",
        "executionStartTime": 1674867748475,
        "executionStopTime": 1674867751238,
        "customOutput": null
      },
      "source": [
        "import torch\n",
        "import os\n",
        "import math\n",
        "import matplotlib.pyplot as plt\n",
        "import time\n",
        "\n",
        "import gpytorch.settings as gpt_settings\n",
        "\n",
        "from botorch.acquisition import qExpectedImprovement\n",
        "from botorch.acquisition.objective import GenericMCObjective\n",
        "from botorch.models import HigherOrderGP, SingleTaskGP\n",
        "from botorch.models.higher_order_gp import FlattenedStandardize\n",
        "from botorch.models.transforms import Normalize, Standardize\n",
        "from botorch.optim import optimize_acqf\n",
        "from botorch.sampling.normal import IIDNormalSampler\n",
        "\n",
        "from gpytorch.mlls import ExactMarginalLogLikelihood\n",
        "\n",
        "%matplotlib inline\n",
        "\n",
        "SMOKE_TEST = os.environ.get(\"SMOKE_TEST\")"
      ],
      "execution_count": 1,
      "outputs": [
        {
          "output_type": "stream",
          "name": "stderr",
          "text": [
            "I0127 170228.601 _utils_internal.py:179] NCCL_DEBUG env var is set to None\n"
          ]
        },
        {
          "output_type": "stream",
          "name": "stderr",
          "text": [
            "I0127 170228.602 _utils_internal.py:197] NCCL_DEBUG is forced to WARN from None\n"
          ]
        }
      ]
    },
    {
      "cell_type": "code",
      "metadata": {
        "originalKey": "01e5ed6e-c749-4d4d-a703-c8b57aeb30b6",
        "collapsed": false,
        "requestMsgId": "01e5ed6e-c749-4d4d-a703-c8b57aeb30b6",
        "executionStartTime": 1674867751354,
        "executionStopTime": 1674867751366,
        "customOutput": null
      },
      "source": [
        "from botorch.optim.fit import fit_gpytorch_torch"
      ],
      "execution_count": 2,
      "outputs": []
    },
    {
      "cell_type": "markdown",
      "metadata": {
        "originalKey": "c90bc749-758f-49cd-bfb3-970a921c66da",
        "showInput": false
      },
      "source": [
        "#### Set Device and dtype"
      ]
    },
    {
      "cell_type": "code",
      "metadata": {
        "originalKey": "6d1ccdc3-e431-46fe-9cb6-960641287c0b",
        "collapsed": false,
        "requestMsgId": "6d1ccdc3-e431-46fe-9cb6-960641287c0b",
        "executionStartTime": 1674867751480,
        "executionStopTime": 1674867751507,
        "code_folding": [],
        "hidden_ranges": [],
        "customOutput": null
      },
      "source": [
        "torch.manual_seed(0)\n",
        "device = torch.device(\"cpu\") if not torch.cuda.is_available() else torch.device(\"cuda:4\")\n",
        "dtype = torch.float\n",
        "\n",
        "print(\"Using \", device)"
      ],
      "execution_count": 3,
      "outputs": [
        {
          "output_type": "stream",
          "name": "stdout",
          "text": [
            "Using  cpu\n"
          ]
        }
      ]
    },
    {
      "cell_type": "code",
      "metadata": {
        "originalKey": "68db2e42-024f-4057-8225-953286a67e82",
        "collapsed": false,
        "requestMsgId": "68db2e42-024f-4057-8225-953286a67e82",
        "executionStartTime": 1674867751659,
        "executionStopTime": 1674867751665,
        "customOutput": null
      },
      "source": [
        "models_used = (\n",
        "    \"rnd\",\n",
        "    \"ei\",\n",
        "    \"ei_hogp_cf\",\n",
        ")"
      ],
      "execution_count": 4,
      "outputs": []
    },
    {
      "cell_type": "markdown",
      "metadata": {
        "originalKey": "720c695f-d688-4b80-a2b1-f15db6e3c42a",
        "showInput": false
      },
      "source": [
        "### Problem Description"
      ]
    },
    {
      "cell_type": "markdown",
      "metadata": {
        "originalKey": "24c31ede-5f02-4b48-8513-10572e33ae78",
        "showInput": false
      },
      "source": [
        "We use a simple test problem describing the concentration of pollutants after a chemical spill from [Astudillo & Frazier, ICML, '19](https://proceedings.mlr.press/v97/astudillo19a.html) defined over a $3 \\times 4$ grid of values $s,t$ and we wish to optimize the parameters w.r.t. their true values, to estimate the true value of parameters, $x = [M, D, L, \\tau].$ The function is given by \n",
        "$$ f(s,t | M, D, L, \\tau) := \\frac{M}{\\sqrt{4 \\pi D t}}  \\exp\\{-\\frac{s^2}{4Dt}\\} + \\frac{1_{t > \\tau} M}{\\sqrt{4 \\pi D(t - \\tau)}} \\exp\\{- \\frac{(s - L)^2}{4 D (t - \\tau)}\\}, $$\n",
        "with the cheap to evaluate, differentiable function given by $g(y):= \\sum_{(s,t) \\in S \\times T} \\left(c(s, t|x_{\\text{true}}) - y\\right)^2.$ As the objective function itself is going to be implemented in Pytorch, we will be able to differentiate through it, enabling the usage of gradient-based optimization to optimize the objectives with respect to the inputs."
      ]
    },
    {
      "cell_type": "code",
      "metadata": {
        "originalKey": "94e7d644-93ef-4fd8-b6fe-1802988c585f",
        "collapsed": false,
        "requestMsgId": "94e7d644-93ef-4fd8-b6fe-1802988c585f",
        "executionStartTime": 1674867751778,
        "executionStopTime": 1674867751788,
        "customOutput": null
      },
      "source": [
        "def env_cfun(s, t, M, D, L, tau):\n",
        "    c1 = M / torch.sqrt(4 * math.pi * D * t)\n",
        "    exp1 = torch.exp(-(s ** 2) / 4 / D / t)\n",
        "    term1 = c1 * exp1\n",
        "    c2 = M / torch.sqrt(4 * math.pi * D * (t - tau))\n",
        "    exp2 = torch.exp(-((s - L) ** 2) / 4 / D / (t - tau))\n",
        "    term2 = c2 * exp2\n",
        "    term2[torch.isnan(term2)] = 0.0\n",
        "    return term1 + term2"
      ],
      "execution_count": 5,
      "outputs": []
    },
    {
      "cell_type": "markdown",
      "metadata": {
        "originalKey": "cd0586f4-a16a-4a4a-b82a-37d23b441c6d",
        "showInput": false
      },
      "source": [
        "#### Helper Functions"
      ]
    },
    {
      "cell_type": "markdown",
      "metadata": {
        "originalKey": "412c92c8-ddf6-4adb-b2e3-86196fea6898",
        "showInput": false
      },
      "source": [
        "These are helper functions for us to maximize the acquisition function and to get random points."
      ]
    },
    {
      "cell_type": "code",
      "metadata": {
        "originalKey": "cfc52b2b-81ce-40cc-9edc-2849edc499a8",
        "collapsed": false,
        "requestMsgId": "cfc52b2b-81ce-40cc-9edc-2849edc499a8",
        "executionStartTime": 1674867751897,
        "executionStopTime": 1674867751906,
        "customOutput": null
      },
      "source": [
        "def gen_rand_points(bounds, num_samples):\n",
        "    points_nlzd = torch.rand(num_samples, bounds.shape[-1]).to(bounds)\n",
        "    return bounds[0] + (bounds[1] - bounds[0]) * points_nlzd\n",
        "    \n",
        "\n",
        "def optimize_ei(qEI, bounds, **options):\n",
        "    with gpt_settings.fast_computations(covar_root_decomposition=False):\n",
        "        cands_nlzd, _ = optimize_acqf(\n",
        "                qEI, bounds, **options, \n",
        "        )\n",
        "    return cands_nlzd"
      ],
      "execution_count": 6,
      "outputs": []
    },
    {
      "cell_type": "markdown",
      "metadata": {
        "originalKey": "f0def79f-54e0-4141-801b-2aaa65cb48e3",
        "showInput": false
      },
      "source": [
        "Below is a wrapped function to help us define bounds on the parameter space, we can also vary the size of the grid if we'd like to."
      ]
    },
    {
      "cell_type": "code",
      "metadata": {
        "originalKey": "4982e25c-91fb-4f1f-a487-c4ab7d525b35",
        "collapsed": false,
        "requestMsgId": "4982e25c-91fb-4f1f-a487-c4ab7d525b35",
        "executionStartTime": 1674867752020,
        "executionStopTime": 1674867752026,
        "customOutput": null
      },
      "source": [
        "def prepare_data(s_size=3, t_size=4, device=device, dtype=dtype):\n",
        "    print(\"---- Running the environmental problem with \", s_size, t_size, \" ----\")\n",
        "    # X = [M, D, L, tau]\n",
        "    bounds = torch.tensor(\n",
        "        [[7.0, 0.02, 0.01, 30.010], [13.0, 0.12, 3.00, 30.295]],\n",
        "        device=device,\n",
        "        dtype=dtype,\n",
        "    )\n",
        "\n",
        "    M0 = torch.tensor(10.0, device=device, dtype=dtype)\n",
        "    D0 = torch.tensor(0.07, device=device, dtype=dtype)\n",
        "    L0 = torch.tensor(1.505, device=device, dtype=dtype)\n",
        "    tau0 = torch.tensor(30.1525, device=device, dtype=dtype)\n",
        "\n",
        "    # we can vectorize everything, no need for loops\n",
        "    if s_size == 3:\n",
        "        S = torch.tensor([0.0, 1.0, 2.5], device=device, dtype=dtype)\n",
        "    else:\n",
        "        S = torch.linspace(0.0, 2.5, s_size, device=device, dtype=dtype)\n",
        "    if t_size == 4:\n",
        "        T = torch.tensor([15.0, 30.0, 45.0, 60.0], device=device, dtype=dtype)\n",
        "    else:\n",
        "        T = torch.linspace(15.0, 60.0, t_size, device=device, dtype=dtype)\n",
        "\n",
        "    Sgrid, Tgrid = torch.meshgrid(S, T)\n",
        "\n",
        "    # X = [M, D, L, tau]\n",
        "    def c_batched(X, k=None):\n",
        "        return torch.stack([env_cfun(Sgrid, Tgrid, *x) for x in X])\n",
        "\n",
        "    c_true = env_cfun(Sgrid, Tgrid, M0, D0, L0, tau0)\n",
        "\n",
        "    def neq_sum_quared_diff(samples):\n",
        "        # unsqueeze\n",
        "        if samples.shape[-1] == (s_size * t_size):\n",
        "            samples = samples.unsqueeze(-1).reshape(\n",
        "                *samples.shape[:-1], s_size, t_size\n",
        "            )\n",
        "\n",
        "        sq_diffs = (samples - c_true).pow(2)\n",
        "        return sq_diffs.sum(dim=(-1, -2)).mul(-1.0)\n",
        "\n",
        "    objective = GenericMCObjective(neq_sum_quared_diff)\n",
        "    num_samples = 32\n",
        "\n",
        "    return c_batched, objective, bounds, num_samples"
      ],
      "execution_count": 7,
      "outputs": []
    },
    {
      "cell_type": "markdown",
      "metadata": {
        "originalKey": "e0284996-a67c-471c-a0bc-3472e6ac8459",
        "showInput": false
      },
      "source": [
        "In the above, we construct a `GenericMCObjective` instance to codify the objective function (which is minimizing the MSE of the output tensors and the outputs corresponding to the \"true\" parameter values). Note that the objective function is encoded in PyTorch and is differentiable (although it technically doesn't have to be). Ultimately, we backpropagate through the objective with respect to the input parameters (and through the HOGP as well)."
      ]
    },
    {
      "cell_type": "markdown",
      "metadata": {
        "originalKey": "1471cbeb-efdd-409b-9be0-1e360fef4787",
        "showInput": false
      },
      "source": [
        "## BO Loop"
      ]
    },
    {
      "cell_type": "markdown",
      "metadata": {
        "originalKey": "3be94f6f-32a8-4caa-ae48-93580c14584e",
        "showInput": false
      },
      "source": [
        "Finally, we run the BO loop over three trials for $15$ batches each. This loop might take a while.\n",
        "\n",
        "We will be comparing to both random selection and batch expected improvment on the aggregated metric."
      ]
    },
    {
      "cell_type": "code",
      "metadata": {
        "originalKey": "4e7b5fb2-a22d-420d-a8bd-4b43061512a9",
        "collapsed": false,
        "requestMsgId": "4e7b5fb2-a22d-420d-a8bd-4b43061512a9",
        "executionStartTime": 1674867752131,
        "executionStopTime": 1674867752141,
        "customOutput": null
      },
      "source": [
        "n_init = 30\n",
        "\n",
        "if SMOKE_TEST:\n",
        "    n_batches = 1\n",
        "    batch_size = 2\n",
        "else:\n",
        "    n_batches = 15\n",
        "    batch_size = 4"
      ],
      "execution_count": 8,
      "outputs": []
    },
    {
      "cell_type": "markdown",
      "metadata": {
        "originalKey": "ac61b7da-7376-41fe-aa89-b1fed1b1c1ee",
        "showInput": false
      },
      "source": [
        "As a word of caution, we've found that when fitting the HOGP model, using first-order optimizers (e.g. Adam) as is used in `fit_gpytorch_torch` tends to outperform second-order optimizers such as L-BFGS-B due to the large number of free parameters in the HOGP. L-BFGS-B tends to overfit in practice here."
      ]
    },
    {
      "cell_type": "code",
      "metadata": {
        "originalKey": "e1612ad6-6cd9-47ab-9c48-15f9e0b6879f",
        "collapsed": false,
        "requestMsgId": "e1612ad6-6cd9-47ab-9c48-15f9e0b6879f",
        "executionStartTime": 1674867752259,
        "executionStopTime": 1674868273494,
        "code_folding": [],
        "hidden_ranges": [],
        "customOutput": null
      },
      "source": [
        "with gpt_settings.cholesky_jitter(1e-4):\n",
        "    c_batched, objective, bounds, num_samples = prepare_data(device=device, dtype=dtype)\n",
        "\n",
        "    train_X_init = gen_rand_points(bounds, n_init)\n",
        "    train_Y_init = c_batched(train_X_init)\n",
        "\n",
        "    # these will keep track of the points explored\n",
        "    train_X = {k: train_X_init.clone() for k in models_used}\n",
        "    train_Y = {k: train_Y_init.clone() for k in train_X}\n",
        "\n",
        "    # run the BO loop\n",
        "    for i in range(n_batches):\n",
        "        tic = time.monotonic()\n",
        "\n",
        "        # get best observations, log status\n",
        "        best_f = {k: objective(v).max().detach() for k, v in train_Y.items()}\n",
        "\n",
        "        print(\n",
        "            f\"It {i+1:>2}/{n_batches}, best obs.: \"\n",
        "            \", \".join([f\"{k}: {v:.3f}\" for k, v in best_f.items()])\n",
        "        )\n",
        "\n",
        "        # generate random candidates\n",
        "        cands = {}\n",
        "        cands[\"rnd\"] = gen_rand_points(bounds, batch_size)\n",
        "\n",
        "        optimize_acqf_kwargs = {\n",
        "            \"q\": batch_size,\n",
        "            \"num_restarts\": 10,\n",
        "            \"raw_samples\": 512,\n",
        "        }\n",
        "        sampler = IIDNormalSampler(sample_shape=torch.Size([128]))\n",
        "\n",
        "        train_Y_ei = objective(train_Y[\"ei\"]).unsqueeze(-1)\n",
        "        model_ei = SingleTaskGP(\n",
        "            train_X[\"ei\"],\n",
        "            train_Y_ei,\n",
        "            input_transform=Normalize(train_X[\"ei\"].shape[-1]),\n",
        "            outcome_transform=Standardize(train_Y_ei.shape[-1]),\n",
        "        )\n",
        "\n",
        "        mll = ExactMarginalLogLikelihood(model_ei.likelihood, model_ei)\n",
        "        fit_gpytorch_torch(mll, options={\"lr\": 0.01})\n",
        "\n",
        "        # generate qEI candidate (single output modeling)\n",
        "        qEI = qExpectedImprovement(model_ei, best_f=best_f[\"ei\"], sampler=sampler)\n",
        "        cands[\"ei\"] = optimize_ei(qEI, bounds, **optimize_acqf_kwargs)\n",
        "\n",
        "        model_ei_hogp_cf = HigherOrderGP(\n",
        "            train_X[\"ei_hogp_cf\"],\n",
        "            train_Y[\"ei_hogp_cf\"],\n",
        "            outcome_transform=FlattenedStandardize(train_Y[\"ei_hogp_cf\"].shape[1:]),\n",
        "            input_transform=Normalize(train_X[\"ei_hogp_cf\"].shape[-1]),\n",
        "            latent_init=\"gp\",\n",
        "        )\n",
        "\n",
        "        mll = ExactMarginalLogLikelihood(model_ei_hogp_cf.likelihood, model_ei_hogp_cf)\n",
        "        fit_gpytorch_torch(mll, options={\"lr\": 0.01})\n",
        "\n",
        "        # generate qEI candidate (multi-output modeling)\n",
        "        qEI_hogp_cf = qExpectedImprovement(\n",
        "            model_ei_hogp_cf,\n",
        "            best_f=best_f[\"ei_hogp_cf\"],\n",
        "            sampler=sampler,\n",
        "            objective=objective,\n",
        "        )\n",
        "        cands[\"ei_hogp_cf\"] = optimize_ei(qEI_hogp_cf, bounds, **optimize_acqf_kwargs)\n",
        "\n",
        "        # make observations and update data\n",
        "        for k, Xold in train_X.items():\n",
        "            Xnew = cands[k]\n",
        "            if Xnew.shape[0] > 0:\n",
        "                train_X[k] = torch.cat([Xold, Xnew])\n",
        "                train_Y[k] = torch.cat([train_Y[k], c_batched(Xnew)])\n",
        "\n",
        "        print(f\"Wall time: {time.monotonic() - tic:1f}\")\n",
        "\n",
        "    objective_dict = {k: objective(train_Y[k]) for k in train_Y}"
      ],
      "execution_count": 9,
      "outputs": [
        {
          "output_type": "stream",
          "name": "stdout",
          "text": [
            "---- Running the environmental problem with  3 4  ----\nrnd: -0.666It  1/15, best obs.: , ei: -0.666It  1/15, best obs.: , ei_hogp_cf: -0.666\n"
          ]
        },
        {
          "output_type": "stream",
          "name": "stdout",
          "text": [
            "Wall time: 115.926927\nrnd: -0.666It  2/15, best obs.: , ei: -0.167It  2/15, best obs.: , ei_hogp_cf: -0.023\n"
          ]
        },
        {
          "output_type": "stream",
          "name": "stderr",
          "text": [
            "/mnt/xarfuse/uid-24323/50ffb8fb-seed-nspid4026533892_cgpid8123152-ns-4026533889/botorch/optim/initializers.py:208: BadInitialCandidatesWarning:\n\nUnable to find non-zero acquisition function values - initial conditions are being selected randomly.\n\n"
          ]
        },
        {
          "output_type": "stream",
          "name": "stdout",
          "text": [
            "Wall time: 21.258103\nrnd: -0.666It  3/15, best obs.: , ei: -0.167It  3/15, best obs.: , ei_hogp_cf: -0.023\n"
          ]
        },
        {
          "output_type": "stream",
          "name": "stderr",
          "text": [
            "/mnt/xarfuse/uid-24323/50ffb8fb-seed-nspid4026533892_cgpid8123152-ns-4026533889/botorch/optim/initializers.py:208: BadInitialCandidatesWarning:\n\nUnable to find non-zero acquisition function values - initial conditions are being selected randomly.\n\n"
          ]
        },
        {
          "output_type": "stream",
          "name": "stdout",
          "text": [
            "Wall time: 22.722730\nrnd: -0.666It  4/15, best obs.: , ei: -0.167It  4/15, best obs.: , ei_hogp_cf: -0.023\n"
          ]
        },
        {
          "output_type": "stream",
          "name": "stderr",
          "text": [
            "/mnt/xarfuse/uid-24323/50ffb8fb-seed-nspid4026533892_cgpid8123152-ns-4026533889/botorch/optim/initializers.py:208: BadInitialCandidatesWarning:\n\nUnable to find non-zero acquisition function values - initial conditions are being selected randomly.\n\n"
          ]
        },
        {
          "output_type": "stream",
          "name": "stdout",
          "text": [
            "Wall time: 20.445288\nrnd: -0.666It  5/15, best obs.: , ei: -0.107It  5/15, best obs.: , ei_hogp_cf: -0.023\n"
          ]
        },
        {
          "output_type": "stream",
          "name": "stderr",
          "text": [
            "/mnt/xarfuse/uid-24323/50ffb8fb-seed-nspid4026533892_cgpid8123152-ns-4026533889/botorch/optim/initializers.py:208: BadInitialCandidatesWarning:\n\nUnable to find non-zero acquisition function values - initial conditions are being selected randomly.\n\n"
          ]
        },
        {
          "output_type": "stream",
          "name": "stdout",
          "text": [
            "Wall time: 26.696790\nrnd: -0.666It  6/15, best obs.: , ei: -0.107It  6/15, best obs.: , ei_hogp_cf: -0.023\n"
          ]
        },
        {
          "output_type": "stream",
          "name": "stderr",
          "text": [
            "/mnt/xarfuse/uid-24323/50ffb8fb-seed-nspid4026533892_cgpid8123152-ns-4026533889/botorch/optim/initializers.py:208: BadInitialCandidatesWarning:\n\nUnable to find non-zero acquisition function values - initial conditions are being selected randomly.\n\n"
          ]
        },
        {
          "output_type": "stream",
          "name": "stdout",
          "text": [
            "Wall time: 22.371702\nrnd: -0.666It  7/15, best obs.: , ei: -0.107It  7/15, best obs.: , ei_hogp_cf: -0.023\n"
          ]
        },
        {
          "output_type": "stream",
          "name": "stderr",
          "text": [
            "/mnt/xarfuse/uid-24323/50ffb8fb-seed-nspid4026533892_cgpid8123152-ns-4026533889/botorch/optim/initializers.py:208: BadInitialCandidatesWarning:\n\nUnable to find non-zero acquisition function values - initial conditions are being selected randomly.\n\n"
          ]
        },
        {
          "output_type": "stream",
          "name": "stdout",
          "text": [
            "Wall time: 27.173150\nrnd: -0.666It  8/15, best obs.: , ei: -0.107It  8/15, best obs.: , ei_hogp_cf: -0.023\n"
          ]
        },
        {
          "output_type": "stream",
          "name": "stderr",
          "text": [
            "/mnt/xarfuse/uid-24323/50ffb8fb-seed-nspid4026533892_cgpid8123152-ns-4026533889/botorch/optim/initializers.py:208: BadInitialCandidatesWarning:\n\nUnable to find non-zero acquisition function values - initial conditions are being selected randomly.\n\n"
          ]
        },
        {
          "output_type": "stream",
          "name": "stdout",
          "text": [
            "Wall time: 28.839321\nrnd: -0.666It  9/15, best obs.: , ei: -0.107It  9/15, best obs.: , ei_hogp_cf: -0.023\n"
          ]
        },
        {
          "output_type": "stream",
          "name": "stderr",
          "text": [
            "/mnt/xarfuse/uid-24323/50ffb8fb-seed-nspid4026533892_cgpid8123152-ns-4026533889/botorch/optim/initializers.py:208: BadInitialCandidatesWarning:\n\nUnable to find non-zero acquisition function values - initial conditions are being selected randomly.\n\n"
          ]
        },
        {
          "output_type": "stream",
          "name": "stdout",
          "text": [
            "Wall time: 27.775464\nrnd: -0.666It 10/15, best obs.: , ei: -0.107It 10/15, best obs.: , ei_hogp_cf: -0.023\n"
          ]
        },
        {
          "output_type": "stream",
          "name": "stderr",
          "text": [
            "/mnt/xarfuse/uid-24323/50ffb8fb-seed-nspid4026533892_cgpid8123152-ns-4026533889/botorch/optim/initializers.py:208: BadInitialCandidatesWarning:\n\nUnable to find non-zero acquisition function values - initial conditions are being selected randomly.\n\n"
          ]
        },
        {
          "output_type": "stream",
          "name": "stdout",
          "text": [
            "Wall time: 30.701209\nrnd: -0.666It 11/15, best obs.: , ei: -0.081It 11/15, best obs.: , ei_hogp_cf: -0.023\n"
          ]
        },
        {
          "output_type": "stream",
          "name": "stderr",
          "text": [
            "/mnt/xarfuse/uid-24323/50ffb8fb-seed-nspid4026533892_cgpid8123152-ns-4026533889/botorch/optim/initializers.py:208: BadInitialCandidatesWarning:\n\nUnable to find non-zero acquisition function values - initial conditions are being selected randomly.\n\n"
          ]
        },
        {
          "output_type": "stream",
          "name": "stdout",
          "text": [
            "Wall time: 32.340837\nrnd: -0.666It 12/15, best obs.: , ei: -0.061It 12/15, best obs.: , ei_hogp_cf: -0.023\n"
          ]
        },
        {
          "output_type": "stream",
          "name": "stderr",
          "text": [
            "/mnt/xarfuse/uid-24323/50ffb8fb-seed-nspid4026533892_cgpid8123152-ns-4026533889/botorch/optim/initializers.py:208: BadInitialCandidatesWarning:\n\nUnable to find non-zero acquisition function values - initial conditions are being selected randomly.\n\n"
          ]
        },
        {
          "output_type": "stream",
          "name": "stdout",
          "text": [
            "Wall time: 30.764347\nrnd: -0.666It 13/15, best obs.: , ei: -0.061It 13/15, best obs.: , ei_hogp_cf: -0.023\n"
          ]
        },
        {
          "output_type": "stream",
          "name": "stderr",
          "text": [
            "/mnt/xarfuse/uid-24323/50ffb8fb-seed-nspid4026533892_cgpid8123152-ns-4026533889/botorch/optim/initializers.py:208: BadInitialCandidatesWarning:\n\nUnable to find non-zero acquisition function values - initial conditions are being selected randomly.\n\n"
          ]
        },
        {
          "output_type": "stream",
          "name": "stdout",
          "text": [
            "Wall time: 38.894389\nrnd: -0.666It 14/15, best obs.: , ei: -0.061It 14/15, best obs.: , ei_hogp_cf: -0.023\n"
          ]
        },
        {
          "output_type": "stream",
          "name": "stderr",
          "text": [
            "/mnt/xarfuse/uid-24323/50ffb8fb-seed-nspid4026533892_cgpid8123152-ns-4026533889/botorch/optim/initializers.py:208: BadInitialCandidatesWarning:\n\nUnable to find non-zero acquisition function values - initial conditions are being selected randomly.\n\n"
          ]
        },
        {
          "output_type": "stream",
          "name": "stdout",
          "text": [
            "Wall time: 37.427671\nrnd: -0.642It 15/15, best obs.: , ei: -0.061It 15/15, best obs.: , ei_hogp_cf: -0.023\n"
          ]
        },
        {
          "output_type": "stream",
          "name": "stderr",
          "text": [
            "/mnt/xarfuse/uid-24323/50ffb8fb-seed-nspid4026533892_cgpid8123152-ns-4026533889/botorch/optim/initializers.py:208: BadInitialCandidatesWarning:\n\nUnable to find non-zero acquisition function values - initial conditions are being selected randomly.\n\n"
          ]
        },
        {
          "output_type": "stream",
          "name": "stdout",
          "text": [
            "Wall time: 37.834574\n"
          ]
        }
      ]
    },
    {
      "cell_type": "code",
      "metadata": {
        "originalKey": "a6fce9d7-e5df-4a59-943f-fb769b904680",
        "collapsed": false,
        "requestMsgId": "a6fce9d7-e5df-4a59-943f-fb769b904680",
        "executionStartTime": 1674868273609,
        "executionStopTime": 1674868273616,
        "code_folding": [],
        "hidden_ranges": [],
        "customOutput": null
      },
      "source": [
        "methods_dict = {k: objective_dict[k].cpu().cummax(0)[0] for k in models_used}\n",
        "mean_results = {k: -methods_dict[k][n_init:] for k in models_used}"
      ],
      "execution_count": 10,
      "outputs": []
    },
    {
      "cell_type": "markdown",
      "metadata": {
        "originalKey": "c9ef07f3-0f09-4736-8105-36c942073ad2",
        "showInput": false
      },
      "source": [
        "Finally, we plot the results, showing that the HOGP performs well on this task, and converges to a closer parameter value than a batch GP on the composite metric itself."
      ]
    },
    {
      "cell_type": "code",
      "metadata": {
        "originalKey": "945c4a1b-7b7e-4e20-84ed-8541954f97c4",
        "collapsed": false,
        "requestMsgId": "945c4a1b-7b7e-4e20-84ed-8541954f97c4",
        "executionStartTime": 1674868274144,
        "executionStopTime": 1674868274640,
        "code_folding": [],
        "hidden_ranges": [],
        "customOutput": null
      },
      "source": [
        "plt.figure(figsize = (8,6))\n",
        "labels_dict = {\"rnd\": \"Random\", \"ei\": \"EI\", \"ei_hogp_cf\": \"Composite EI\"}\n",
        "for k in models_used:\n",
        "    plt.plot(\n",
        "        torch.arange(n_batches * batch_size),\n",
        "        mean_results[k],\n",
        "        label = labels_dict[k],\n",
        "    )\n",
        "plt.legend(fontsize = 20)\n",
        "plt.semilogy()\n",
        "plt.xlabel(\"Number of Function Queries\")\n",
        "plt.ylabel(\"Difference from True Parameter\")"
      ],
      "execution_count": 11,
      "outputs": [
        {
          "output_type": "execute_result",
          "data": {
            "text/plain": "Text(0, 0.5, 'Difference from True Parameter')"
          },
          "metadata": {
            "bento_obj_id": "140172477257712"
          },
          "execution_count": 11
        },
        {
          "output_type": "display_data",
          "data": {
            "text/plain": "<Figure size 576x432 with 1 Axes>",
            "image/png": "[encoded data removed]"
          },
          "metadata": {
            "bento_obj_id": "140172477215936",
            "needs_background": "light"
          }
        }
      ]
    }
  ]
}
