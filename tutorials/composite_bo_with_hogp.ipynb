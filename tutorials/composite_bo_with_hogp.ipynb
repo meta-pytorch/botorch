{
  "metadata": {
    "kernelspec": {
      "display_name": "python3",
      "language": "python",
      "name": "python3",
      "metadata": {
        "kernel_name": "bento_kernel_ae",
        "nightly_builds": false,
        "fbpkg_supported": true,
        "cinder_runtime": false,
        "is_prebuilt": true
      }
    },
    "last_server_session_id": "6b78123e-88de-4edf-9edf-6229d42da7b1",
    "last_kernel_id": "fea2f706-245c-487a-95ed-2b6ea55f7c00",
    "last_base_url": "https://9907.od.fbinfra.net/",
    "last_msg_id": "5e370949-b06f44a2f1ff2db122a7e271_267",
    "captumWidgetMessage": {},
    "outputWidgetContext": {}
  },
  "nbformat": 4,
  "nbformat_minor": 2,
  "cells": [
    {
      "cell_type": "markdown",
      "metadata": {
        "originalKey": "8335acc8-138f-4d2d-b65e-73b26f81f37b"
      },
      "source": [
        "## Composite Bayesian Optimization with the High Order Gaussian Process"
      ]
    },
    {
      "cell_type": "markdown",
      "metadata": {
        "originalKey": "0456cc35-2d2b-4861-a97e-220b06664757"
      },
      "source": [
        "In this tutorial, we're going to explore composite Bayesian optimization [Astudillo & Frazier, ICML, '19](https://proceedings.mlr.press/v97/astudillo19a.html) with the High Order Gaussian Process (HOGP) model of [Zhe et al, AISTATS, '19](http://proceedings.mlr.press/v89/zhe19a.html). The setup for composite Bayesian optimization is that we have an unknown (black box) function mapping input parameters to several outputs, and a second, known function describing the quality of the functional output. We wish to find input parameters that maximize the output metric function. We wish to find input parameters that maximize the output metric function in a black-box manner. \n",
        "\n",
        "Specifically, this can be described as $\\max_{x \\in \\mathcal{X}} g(f(x)),$ where $f$ is unknown and $g$ is known. As in traditional Bayesian optimization, we are going to construct a Gaussian process surrogate model over the expensive to evaluate function $f(.),$ and will use a HOGP to model this function. "
      ]
    },
    {
      "cell_type": "markdown",
      "metadata": {
        "originalKey": "e9d6372a-3961-453d-a2fc-6ed7b649c76c"
      },
      "source": [
        "### HOGP model description\n",
        "\n",
        "The [High Order Gaussian Process (HOGP) model](https://proceedings.mlr.press/v89/zhe19a.html) is a Gaussian process model designed specifically to operate over tensors or multi-dimensional arrays and exploits structure in the tensor to be able to operate efficiently. Specifically, the HOGP takes as inputs $y \\in \\mathbb{R}^{N \\times d_2 \\times \\cdots \\times d_M}$ and assumes that $\\text{vec}(y) \\sim \\mathcal{N}(0, \\otimes_{i=1}^M K_i + \\sigma^2 I),$ where $K_1 = K_{XX}.$ Each dimension of the tensor has its own kernel function, $K_i,$ as well as a set of $d_i$ latent parameters that can be optimized over.\n",
        "\n",
        "Recently, [Maddox et al, '21](https://arxiv.org/abs/2106.12997) proposed a method for computing posterior samples from the HOGP by exploiting structure in the posterior distribution, thereby enabling its usage in BO settings. While they show that this approach allows to use composite BO on problems with tens or thousands of outputs, for scalability we consider a much smaller example here (that does not require GPU acceleration)."
      ]
    },
    {
      "cell_type": "code",
      "metadata": {
        "originalKey": "abaab37c-0271-489d-b587-6830767c4021",
        "code_folding": [],
        "hidden_ranges": [],
        "collapsed": false,
        "requestMsgId": "7480bb71-30eb-4f3b-b12e-0e69974c85cc",
        "executionStartTime": 1648575762624,
        "executionStopTime": 1648575763908
      },
      "source": [
        "import torch\n",
        "import os\n",
        "import logging\n",
        "import numpy as np\n",
        "import math\n",
        "import matplotlib.pyplot as plt\n",
        "import time\n",
        "\n",
        "import gpytorch.settings as gpt_settings\n",
        "\n",
        "from botorch.acquisition import qSimpleRegret, qExpectedImprovement\n",
        "from botorch.acquisition.objective import GenericMCObjective\n",
        "from botorch.models import HigherOrderGP, SingleTaskGP\n",
        "from botorch.models.higher_order_gp import FlattenedStandardize\n",
        "from botorch.models.transforms import Normalize, Standardize\n",
        "from botorch import fit_gpytorch_model\n",
        "from botorch.optim import optimize_acqf\n",
        "from botorch.sampling import IIDNormalSampler\n",
        "from botorch.utils.sampling import draw_sobol_samples\n",
        "\n",
        "from gpytorch.mlls import ExactMarginalLogLikelihood\n",
        "\n",
        "%matplotlib inline\n",
        "\n",
        "SMOKE_TEST = os.environ.get(\"SMOKE_TEST\")"
      ],
      "execution_count": 4,
      "outputs": []
    },
    {
      "cell_type": "code",
      "metadata": {
        "originalKey": "a867d76f-2885-48fa-86ff-db245b8f5cfd",
        "collapsed": false,
        "requestMsgId": "54f8c9eb-2a60-40bc-a65d-fe53a49a4b41",
        "executionStartTime": 1648575764013,
        "executionStopTime": 1648575764035
      },
      "source": [
        "from botorch.optim.fit import fit_gpytorch_torch"
      ],
      "execution_count": 5,
      "outputs": []
    },
    {
      "cell_type": "markdown",
      "metadata": {
        "originalKey": "c90bc749-758f-49cd-bfb3-970a921c66da"
      },
      "source": [
        "#### Set Device and dtype"
      ]
    },
    {
      "cell_type": "code",
      "metadata": {
        "originalKey": "9e1cf15a-549d-4e46-af6c-2ff2dd8b7194",
        "collapsed": false,
        "requestMsgId": "cdd35219-5048-4cd1-8cb5-bade7c89c43b",
        "executionStartTime": 1648575764112,
        "executionStopTime": 1648575764974,
        "code_folding": [],
        "hidden_ranges": []
      },
      "source": [
        "torch.manual_seed(0)\n",
        "device = torch.device(\"cpu\") if not torch.cuda.is_available() else torch.device(\"cuda:0\")\n",
        "dtype = torch.float\n",
        "\n",
        "print(\"Using \", device)"
      ],
      "execution_count": 6,
      "outputs": [
        {
          "output_type": "stream",
          "name": "stdout",
          "text": [
            "Using  cuda:0\n"
          ]
        }
      ]
    },
    {
      "cell_type": "code",
      "metadata": {
        "originalKey": "9e14670f-7757-4fdd-8016-6b36889cf4a3",
        "collapsed": false,
        "requestMsgId": "7b06232c-481f-41c4-86a5-116b84cae6d4",
        "executionStartTime": 1648575765049,
        "executionStopTime": 1648575765060
      },
      "source": [
        "models_used = (\n",
        "    \"rnd\",\n",
        "    \"ei\",\n",
        "    \"ei_hogp_cf\",\n",
        ")"
      ],
      "execution_count": 7,
      "outputs": []
    },
    {
      "cell_type": "markdown",
      "metadata": {
        "originalKey": "720c695f-d688-4b80-a2b1-f15db6e3c42a"
      },
      "source": [
        "### Problem Description"
      ]
    },
    {
      "cell_type": "markdown",
      "metadata": {
        "originalKey": "24c31ede-5f02-4b48-8513-10572e33ae78"
      },
      "source": [
        "We use a simple test problem describing the concentration of pollutants after a chemical spill from [Astudillo & Frazier, ICML, '19](https://proceedings.mlr.press/v97/astudillo19a.html) defined over a $3 \\times 4$ grid of values $s,t$ and we wish to optimize the parameters w.r.t. their true values, to estimate the true value of parameters, $x = [M, D, L, \\tau].$ The function is given by \n",
        "$$ f(s,t | M, D, L, \\tau) := \\frac{M}{\\sqrt{4 \\pi D t}}  \\exp\\{-\\frac{s^2}{4Dt}\\} + \\frac{1_{t > \\tau} M}{\\sqrt{4 \\pi D(t - \\tau)}} \\exp\\{- \\frac{(s - L)^2}{4 D (t - \\tau)}\\}, $$\n",
        "with the cheap to evaluate, differentiable function given by $g(y):= \\sum_{(s,t) \\in S \\times T} \\left(c(s, t|x_{\\text{true}}) - y\\right)^2.$ As the objective function itself is going to be implemented in Pytorch, we will be able to differentiate through it, enabling the usage of gradient-based optimization to optimize the objectives with respect to the inputs."
      ]
    },
    {
      "cell_type": "code",
      "metadata": {
        "originalKey": "4c17045d-dcb9-465f-a111-cbcb565e4358",
        "collapsed": false,
        "requestMsgId": "3e5c8ac7-ddcf-4011-b2bc-d9e5afeb057d",
        "executionStartTime": 1648575765077,
        "executionStopTime": 1648575765537
      },
      "source": [
        "def env_cfun(s, t, M, D, L, tau):\n",
        "    c1 = M / torch.sqrt(4 * math.pi * D * t)\n",
        "    exp1 = torch.exp(-(s ** 2) / 4 / D / t)\n",
        "    term1 = c1 * exp1\n",
        "    c2 = M / torch.sqrt(4 * math.pi * D * (t - tau))\n",
        "    exp2 = torch.exp(-((s - L) ** 2) / 4 / D / (t - tau))\n",
        "    term2 = c2 * exp2\n",
        "    term2[torch.isnan(term2)] = 0.0\n",
        "    return term1 + term2"
      ],
      "execution_count": 8,
      "outputs": []
    },
    {
      "cell_type": "markdown",
      "metadata": {
        "originalKey": "cd0586f4-a16a-4a4a-b82a-37d23b441c6d"
      },
      "source": [
        "#### Helper Functions"
      ]
    },
    {
      "cell_type": "markdown",
      "metadata": {
        "originalKey": "412c92c8-ddf6-4adb-b2e3-86196fea6898"
      },
      "source": [
        "These are helper functions for us to maximize the acquisition function and to get random points."
      ]
    },
    {
      "cell_type": "code",
      "metadata": {
        "originalKey": "60a02452-de21-4b99-8bd9-8167fe0561fd",
        "collapsed": false,
        "requestMsgId": "15defcd4-f94b-4032-a9b1-ad11ac9c70d0",
        "executionStartTime": 1648575765544,
        "executionStopTime": 1648575765547
      },
      "source": [
        "def gen_rand_points(bounds, num_samples):\n",
        "    points_nlzd = torch.rand(num_samples, bounds.shape[-1]).to(bounds)\n",
        "    return bounds[0] + (bounds[1] - bounds[0]) * points_nlzd\n",
        "    \n",
        "\n",
        "def optimize_ei(qEI, bounds, **options):\n",
        "    with gpt_settings.fast_computations(covar_root_decomposition=False):\n",
        "        cands_nlzd, _ = optimize_acqf(\n",
        "                qEI, bounds, **options, \n",
        "        )\n",
        "    return cands_nlzd"
      ],
      "execution_count": 9,
      "outputs": []
    },
    {
      "cell_type": "markdown",
      "metadata": {
        "originalKey": "f0def79f-54e0-4141-801b-2aaa65cb48e3"
      },
      "source": [
        "Below is a wrapped function to help us define bounds on the parameter space, we can also vary the size of the grid if we'd like to."
      ]
    },
    {
      "cell_type": "code",
      "metadata": {
        "originalKey": "61476bc0-6935-42a0-9597-a866eadcc920",
        "collapsed": false,
        "requestMsgId": "4355754a-e091-4d33-bf83-76714cb46f63",
        "executionStartTime": 1648575765579,
        "executionStopTime": 1648575765638
      },
      "source": [
        "def prepare_data(s_size=3, t_size=4, device=device, dtype=dtype):\n",
        "    print(\"---- Running the environmental problem with \", s_size, t_size, \" ----\")\n",
        "    # X = [M, D, L, tau]\n",
        "    bounds = torch.tensor(\n",
        "        [[7.0, 0.02, 0.01, 30.010], [13.0, 0.12, 3.00, 30.295]],\n",
        "        device=device,\n",
        "        dtype=dtype,\n",
        "    )\n",
        "\n",
        "    M0 = torch.tensor(10.0, device=device, dtype=dtype)\n",
        "    D0 = torch.tensor(0.07, device=device, dtype=dtype)\n",
        "    L0 = torch.tensor(1.505, device=device, dtype=dtype)\n",
        "    tau0 = torch.tensor(30.1525, device=device, dtype=dtype)\n",
        "\n",
        "    # we can vectorize everything, no need for loops\n",
        "    if s_size == 3:\n",
        "        S = torch.tensor([0.0, 1.0, 2.5], device=device, dtype=dtype)\n",
        "    else:\n",
        "        S = torch.linspace(0.0, 2.5, s_size, device=device, dtype=dtype)\n",
        "    if t_size == 4:\n",
        "        T = torch.tensor([15.0, 30.0, 45.0, 60.0], device=device, dtype=dtype)\n",
        "    else:\n",
        "        T = torch.linspace(15.0, 60.0, t_size, device=device, dtype=dtype)\n",
        "\n",
        "    Sgrid, Tgrid = torch.meshgrid(S, T)\n",
        "\n",
        "    # X = [M, D, L, tau]\n",
        "    def c_batched(X, k=None):\n",
        "        return torch.stack([env_cfun(Sgrid, Tgrid, *x) for x in X])\n",
        "\n",
        "    c_true = env_cfun(Sgrid, Tgrid, M0, D0, L0, tau0)\n",
        "\n",
        "    def neq_sum_quared_diff(samples):\n",
        "        # unsqueeze\n",
        "        if samples.shape[-1] == (s_size * t_size):\n",
        "            samples = samples.unsqueeze(-1).reshape(\n",
        "                *samples.shape[:-1], s_size, t_size\n",
        "            )\n",
        "\n",
        "        sq_diffs = (samples - c_true).pow(2)\n",
        "        return sq_diffs.sum(dim=(-1, -2)).mul(-1.0)\n",
        "\n",
        "    objective = GenericMCObjective(neq_sum_quared_diff)\n",
        "    num_samples = 32\n",
        "\n",
        "    return c_batched, objective, bounds, num_samples"
      ],
      "execution_count": 10,
      "outputs": []
    },
    {
      "cell_type": "markdown",
      "metadata": {
        "originalKey": "e0284996-a67c-471c-a0bc-3472e6ac8459"
      },
      "source": [
        "In the above, we construct a `GenericMCObjective` instance to codify the objective function (which is minimizing the MSE of the output tensors and the outputs corresponding to the \"true\" parameter values). Note that the objective function is encoded in PyTorch and is differentiable (although it technically doesn't have to be). Ultimately, we backpropagate through the objective with respect to the input parameters (and through the HOGP as well)."
      ]
    },
    {
      "cell_type": "markdown",
      "metadata": {
        "originalKey": "1471cbeb-efdd-409b-9be0-1e360fef4787"
      },
      "source": [
        "## BO Loop"
      ]
    },
    {
      "cell_type": "markdown",
      "metadata": {
        "originalKey": "3be94f6f-32a8-4caa-ae48-93580c14584e"
      },
      "source": [
        "Finally, we run the BO loop over three trials for $15$ batches each. This loop might take a while.\n",
        "\n",
        "We will be comparing to both random selection and batch expected improvment on the aggregated metric."
      ]
    },
    {
      "cell_type": "code",
      "metadata": {
        "originalKey": "b2b886dd-1b41-423f-8793-f327a3e6e523",
        "collapsed": false,
        "requestMsgId": "38126e32-cd3c-4786-ba67-2e7bbad7e691",
        "executionStartTime": 1648575765681,
        "executionStopTime": 1648575765730
      },
      "source": [
        "n_init = 30\n",
        "\n",
        "if SMOKE_TEST:\n",
        "    n_batches = 1\n",
        "    batch_size = 2\n",
        "    n_trials = 1\n",
        "else:\n",
        "    n_batches = 15\n",
        "    batch_size = 4\n",
        "    n_trials = 3"
      ],
      "execution_count": 11,
      "outputs": []
    },
    {
      "cell_type": "markdown",
      "metadata": {
        "originalKey": "ac61b7da-7376-41fe-aa89-b1fed1b1c1ee"
      },
      "source": [
        "As a word of caution, we've found that when fitting the HOGP model, using first-order optimizers (e.g. Adam) as is used in `fit_gpytorch_torch` tends to outperform second-order optimizers such as L-BFGS-B due to the large number of free parameters in the HOGP. L-BFGS-B tends to overfit in practice here."
      ]
    },
    {
      "cell_type": "code",
      "metadata": {
        "originalKey": "a300f860-1559-48f4-992e-44983b3bb029",
        "collapsed": false,
        "requestMsgId": "b1daebae-8e63-478e-b6ce-605ac8db7a3a",
        "executionStartTime": 1648575765784,
        "executionStopTime": 1648576082547,
        "code_folding": [],
        "hidden_ranges": []
      },
      "source": [
        "all_objective_vals = []\n",
        "\n",
        "with gpt_settings.cholesky_jitter(1e-4):\n",
        "    c_batched, objective, bounds, num_samples = prepare_data(device=device, dtype=dtype)\n",
        "\n",
        "    train_X_init = gen_rand_points(bounds, n_init)\n",
        "    train_Y_init = c_batched(train_X_init)\n",
        "\n",
        "    # these will keep track of the points explored\n",
        "    train_X = {k: train_X_init.clone() for k in models_used}\n",
        "    train_Y = {k: train_Y_init.clone() for k in train_X}\n",
        "\n",
        "    # run the BO loop\n",
        "    for i in range(n_batches):\n",
        "        tic = time.time()\n",
        "\n",
        "        # get best observations, log status\n",
        "        best_f = {k: objective(v).max().detach() for k, v in train_Y.items()}\n",
        "\n",
        "        logging.info(\n",
        "            f\"It {i+1:>2}/{n_batches}, best obs.: \"\n",
        "            \", \".join([f\"{k}: {v:.3f}\" for k, v in best_f.items()])\n",
        "        )\n",
        "\n",
        "        # generate random candidates\n",
        "        cands = {}\n",
        "        cands[\"rnd\"] = gen_rand_points(bounds, batch_size)\n",
        "\n",
        "        optimize_acqf_kwargs = {\n",
        "            \"q\": batch_size,\n",
        "            \"num_restarts\": 10,\n",
        "            \"raw_samples\": 512,\n",
        "        }\n",
        "        sampler = IIDNormalSampler(num_samples=128)\n",
        "\n",
        "        train_Y_ei = objective(train_Y[\"ei\"]).unsqueeze(-1)\n",
        "        model_ei = SingleTaskGP(\n",
        "            train_X[\"ei\"],\n",
        "            train_Y_ei,\n",
        "            input_transform=Normalize(train_X[\"ei\"].shape[-1]),\n",
        "            outcome_transform=Standardize(train_Y_ei.shape[-1]),\n",
        "        )\n",
        "\n",
        "        mll = ExactMarginalLogLikelihood(model_ei.likelihood, model_ei)\n",
        "        fit_gpytorch_torch(mll, options={\"lr\": 0.01, \"maxiter\": 3000, \"disp\": False})\n",
        "\n",
        "        # generate qEI candidate (single output modeling)\n",
        "        qEI = qExpectedImprovement(model_ei, best_f=best_f[\"ei\"], sampler=sampler)\n",
        "        cands[\"ei\"] = optimize_ei(qEI, bounds, **optimize_acqf_kwargs)\n",
        "\n",
        "        model_ei_hogp_cf = HigherOrderGP(\n",
        "            train_X[\"ei_hogp_cf\"],\n",
        "            train_Y[\"ei_hogp_cf\"],\n",
        "            outcome_transform=FlattenedStandardize(train_Y[\"ei_hogp_cf\"].shape[1:]),\n",
        "            input_transform=Normalize(train_X[\"ei_hogp_cf\"].shape[-1]),\n",
        "            latent_init=\"gp\",\n",
        "        )\n",
        "\n",
        "        mll = ExactMarginalLogLikelihood(model_ei_hogp_cf.likelihood, model_ei_hogp_cf)\n",
        "        fit_gpytorch_torch(mll, options={\"lr\": 0.01, \"maxiter\": 3000, \"disp\": False})\n",
        "\n",
        "        # generate qEI candidate (multi-output modeling)\n",
        "        qEI_hogp_cf = qExpectedImprovement(\n",
        "            model_ei_hogp_cf,\n",
        "            best_f=best_f[\"ei_hogp_cf\"],\n",
        "            sampler=sampler,\n",
        "            objective=objective,\n",
        "        )\n",
        "        cands[\"ei_hogp_cf\"] = optimize_ei(qEI_hogp_cf, bounds, **optimize_acqf_kwargs)\n",
        "\n",
        "        # make observations and update data\n",
        "        for k, Xold in train_X.items():\n",
        "            Xnew = cands[k]\n",
        "            if Xnew.shape[0] > 0:\n",
        "                train_X[k] = torch.cat([Xold, Xnew])\n",
        "                train_Y[k] = torch.cat([train_Y[k], c_batched(Xnew)])\n",
        "\n",
        "        logging.info(f\"Wall time: {time.time() - tic:1f}\")\n",
        "\n",
        "    objective_dict = {k: objective(train_Y[k]) for k in train_Y}"
      ],
      "execution_count": 12,
      "outputs": [
        {
          "output_type": "stream",
          "name": "stdout",
          "text": [
            "---- Running the environmental problem with  3 4  ----\n"
          ]
        },
        {
          "output_type": "stream",
          "name": "stderr",
          "text": [
            "I0329 104248.534 <ipython-input-12-935863451e4e>:20] rnd: -0.666It  1/15, best obs.: , ei: -0.666It  1/15, best obs.: , ei_hogp_cf: -0.666\n"
          ]
        },
        {
          "output_type": "stream",
          "name": "stderr",
          "text": [
            "I0329 104349.332 <ipython-input-12-935863451e4e>:78] Wall time: 60.798171\n"
          ]
        },
        {
          "output_type": "stream",
          "name": "stderr",
          "text": [
            "I0329 104349.334 <ipython-input-12-935863451e4e>:20] rnd: -0.666It  2/15, best obs.: , ei: -0.109It  2/15, best obs.: , ei_hogp_cf: -0.000\n"
          ]
        },
        {
          "output_type": "stream",
          "name": "stderr",
          "text": [
            "I0329 104359.222 <ipython-input-12-935863451e4e>:78] Wall time: 9.888608\n"
          ]
        },
        {
          "output_type": "stream",
          "name": "stderr",
          "text": [
            "I0329 104359.224 <ipython-input-12-935863451e4e>:20] rnd: -0.666It  3/15, best obs.: , ei: -0.090It  3/15, best obs.: , ei_hogp_cf: -0.000\n"
          ]
        },
        {
          "output_type": "stream",
          "name": "stderr",
          "text": [
            "I0329 104415.049 <ipython-input-12-935863451e4e>:78] Wall time: 15.826928\n"
          ]
        },
        {
          "output_type": "stream",
          "name": "stderr",
          "text": [
            "I0329 104415.052 <ipython-input-12-935863451e4e>:20] rnd: -0.666It  4/15, best obs.: , ei: -0.090It  4/15, best obs.: , ei_hogp_cf: -0.000\n"
          ]
        },
        {
          "output_type": "stream",
          "name": "stderr",
          "text": [
            "I0329 104427.876 <ipython-input-12-935863451e4e>:78] Wall time: 12.825083\n"
          ]
        },
        {
          "output_type": "stream",
          "name": "stderr",
          "text": [
            "I0329 104427.879 <ipython-input-12-935863451e4e>:20] rnd: -0.406It  5/15, best obs.: , ei: -0.090It  5/15, best obs.: , ei_hogp_cf: -0.000\n"
          ]
        },
        {
          "output_type": "stream",
          "name": "stderr",
          "text": [
            "I0329 104444.104 <ipython-input-12-935863451e4e>:78] Wall time: 16.226710\n"
          ]
        },
        {
          "output_type": "stream",
          "name": "stderr",
          "text": [
            "I0329 104444.107 <ipython-input-12-935863451e4e>:20] rnd: -0.406It  6/15, best obs.: , ei: -0.072It  6/15, best obs.: , ei_hogp_cf: -0.000\n"
          ]
        },
        {
          "output_type": "stream",
          "name": "stderr",
          "text": [
            "/mnt/xarfuse/uid-25824/c80901c0-seed-nspid4026533660_cgpid93750242-ns-4026533645/gpytorch/utils/cholesky.py:40: NumericalWarning:\n\nA not p.d., added jitter of 1.0e-04 to the diagonal\n\n"
          ]
        },
        {
          "output_type": "stream",
          "name": "stderr",
          "text": [
            "I0329 104457.139 <ipython-input-12-935863451e4e>:78] Wall time: 13.033942\n"
          ]
        },
        {
          "output_type": "stream",
          "name": "stderr",
          "text": [
            "I0329 104457.141 <ipython-input-12-935863451e4e>:20] rnd: -0.406It  7/15, best obs.: , ei: -0.044It  7/15, best obs.: , ei_hogp_cf: -0.000\n"
          ]
        },
        {
          "output_type": "stream",
          "name": "stderr",
          "text": [
            "I0329 104527.454 <ipython-input-12-935863451e4e>:78] Wall time: 30.313691\n"
          ]
        },
        {
          "output_type": "stream",
          "name": "stderr",
          "text": [
            "I0329 104527.456 <ipython-input-12-935863451e4e>:20] rnd: -0.406It  8/15, best obs.: , ei: -0.009It  8/15, best obs.: , ei_hogp_cf: -0.000\n"
          ]
        },
        {
          "output_type": "stream",
          "name": "stderr",
          "text": [
            "I0329 104550.315 <ipython-input-12-935863451e4e>:78] Wall time: 22.860429\n"
          ]
        },
        {
          "output_type": "stream",
          "name": "stderr",
          "text": [
            "I0329 104550.318 <ipython-input-12-935863451e4e>:20] rnd: -0.406It  9/15, best obs.: , ei: -0.009It  9/15, best obs.: , ei_hogp_cf: -0.000\n"
          ]
        },
        {
          "output_type": "stream",
          "name": "stderr",
          "text": [
            "I0329 104608.382 <ipython-input-12-935863451e4e>:78] Wall time: 18.065853\n"
          ]
        },
        {
          "output_type": "stream",
          "name": "stderr",
          "text": [
            "I0329 104608.385 <ipython-input-12-935863451e4e>:20] rnd: -0.406It 10/15, best obs.: , ei: -0.009It 10/15, best obs.: , ei_hogp_cf: -0.000\n"
          ]
        },
        {
          "output_type": "stream",
          "name": "stderr",
          "text": [
            "I0329 104618.371 <ipython-input-12-935863451e4e>:78] Wall time: 9.987822\n"
          ]
        },
        {
          "output_type": "stream",
          "name": "stderr",
          "text": [
            "I0329 104618.373 <ipython-input-12-935863451e4e>:20] rnd: -0.406It 11/15, best obs.: , ei: -0.009It 11/15, best obs.: , ei_hogp_cf: -0.000\n"
          ]
        },
        {
          "output_type": "stream",
          "name": "stderr",
          "text": [
            "I0329 104629.971 <ipython-input-12-935863451e4e>:78] Wall time: 11.599180\n"
          ]
        },
        {
          "output_type": "stream",
          "name": "stderr",
          "text": [
            "I0329 104629.973 <ipython-input-12-935863451e4e>:20] rnd: -0.406It 12/15, best obs.: , ei: -0.009It 12/15, best obs.: , ei_hogp_cf: -0.000\n"
          ]
        },
        {
          "output_type": "stream",
          "name": "stderr",
          "text": [
            "I0329 104641.266 <ipython-input-12-935863451e4e>:78] Wall time: 11.294424\n"
          ]
        },
        {
          "output_type": "stream",
          "name": "stderr",
          "text": [
            "I0329 104641.269 <ipython-input-12-935863451e4e>:20] rnd: -0.406It 13/15, best obs.: , ei: -0.009It 13/15, best obs.: , ei_hogp_cf: -0.000\n"
          ]
        },
        {
          "output_type": "stream",
          "name": "stderr",
          "text": [
            "I0329 104652.543 <ipython-input-12-935863451e4e>:78] Wall time: 11.274903\n"
          ]
        },
        {
          "output_type": "stream",
          "name": "stderr",
          "text": [
            "I0329 104652.546 <ipython-input-12-935863451e4e>:20] rnd: -0.406It 14/15, best obs.: , ei: -0.009It 14/15, best obs.: , ei_hogp_cf: -0.000\n"
          ]
        },
        {
          "output_type": "stream",
          "name": "stderr",
          "text": [
            "I0329 104725.562 <ipython-input-12-935863451e4e>:78] Wall time: 33.017415\n"
          ]
        },
        {
          "output_type": "stream",
          "name": "stderr",
          "text": [
            "I0329 104725.565 <ipython-input-12-935863451e4e>:20] rnd: -0.406It 15/15, best obs.: , ei: -0.009It 15/15, best obs.: , ei_hogp_cf: -0.000\n"
          ]
        },
        {
          "output_type": "stream",
          "name": "stderr",
          "text": [
            "I0329 104802.468 <ipython-input-12-935863451e4e>:78] Wall time: 36.904831\n"
          ]
        }
      ]
    },
    {
      "cell_type": "code",
      "metadata": {
        "originalKey": "f94e3dfa-2f62-43aa-8cb9-0defd111b9ec",
        "collapsed": false,
        "requestMsgId": "27d1cdec-ddbf-4e97-a4d7-ad3ad658f0f6",
        "executionStartTime": 1648576201384,
        "executionStopTime": 1648576201399,
        "code_folding": [],
        "hidden_ranges": []
      },
      "source": [
        "methods_dict = {k: objective_dict[k].cpu().cummax(0)[0] for k in models_used}\n",
        "mean_results = {k: -methods_dict[k][n_init:] for k in models_used}"
      ],
      "execution_count": 18,
      "outputs": []
    },
    {
      "cell_type": "markdown",
      "metadata": {
        "originalKey": "c9ef07f3-0f09-4736-8105-36c942073ad2"
      },
      "source": [
        "Finally, we plot the results, showing that the HOGP performs well on this task, and converges to a closer parameter value than a batch GP on the composite metric itself."
      ]
    },
    {
      "cell_type": "code",
      "metadata": {
        "originalKey": "e5f988bd-ead0-42cf-85e5-c0608e23285f",
        "collapsed": false,
        "requestMsgId": "bf14f09f-e677-427e-a05f-fba4c6763dc3",
        "executionStartTime": 1648576213088,
        "executionStopTime": 1648576213954,
        "code_folding": [],
        "hidden_ranges": []
      },
      "source": [
        "plt.figure(figsize = (8,6))\n",
        "labels_dict = {\"rnd\": \"Random\", \"ei\": \"EI\", \"ei_hogp_cf\": \"Composite EI\"}\n",
        "for k in models_used:\n",
        "    plt.plot(\n",
        "        torch.arange(n_batches * batch_size),\n",
        "        mean_results[k],\n",
        "        label = labels_dict[k],\n",
        "    )\n",
        "plt.legend(fontsize = 20)\n",
        "plt.semilogy()\n",
        "plt.xlabel(\"Number of Function Queries\")\n",
        "plt.ylabel(\"Difference from True Parameter\")"
      ],
      "execution_count": 22,
      "outputs": [
        {
          "output_type": "execute_result",
          "data": {
            "text/plain": "Text(0, 0.5, 'Difference from True Parameter')"
          },
          "metadata": {
            "bento_obj_id": "140365307596752"
          },
          "execution_count": 22
        },
        {
          "output_type": "display_data",
          "data": {
            "text/plain": "<Figure size 576x432 with 1 Axes>",
            "image/png": "[encoded data removed]"
          },
          "metadata": {
            "bento_obj_id": "140365307644992",
            "needs_background": "light"
          }
        }
      ]
    }
  ]
}
