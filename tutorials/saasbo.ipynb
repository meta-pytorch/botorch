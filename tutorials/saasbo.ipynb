{
  "metadata": {
    "kernelspec": {
      "display_name": "python3",
      "language": "python",
      "name": "python3",
      "metadata": {
        "is_prebuilt": false,
        "kernel_name": "ae_experimental_local",
        "cinder_runtime": false
      }
    },
    "last_server_session_id": "013bb606-2252-408b-aae3-4934698a16e4",
    "last_kernel_id": "9790295b-207d-4c21-9a85-8461179a629f",
    "last_base_url": "https://devbig817.ftw3.facebook.com:8090/",
    "last_msg_id": "2d0a8522-651ca7e3ef45a1a80daf61ed_323",
    "outputWidgetContext": {}
  },
  "nbformat": 4,
  "nbformat_minor": 2,
  "cells": [
    {
      "cell_type": "markdown",
      "metadata": {
        "originalKey": "501041cc-0473-4971-bff9-fd6e92e1eae4",
        "showInput": false,
        "customInput": null,
        "code_folding": [],
        "hidden_ranges": []
      },
      "source": [
        "## High-Dimensional sample-efficient Bayesian Optimization with SAASBO\n",
        "\n",
        "This tutorial shows how to use the Sparse Axis-Aligned Subspace Bayesian Optimization (SAASBO) \n",
        "method for high-dimensional Bayesian optimization [1]. SAASBO places strong priors on the \n",
        "inverse lengthscales to avoid overfitting in high-dimensional spaces. Specifically, SAASBO \n",
        "uses a hierarchical sparsity prior consisting of a global shrinkage parameter \n",
        "$\\tau \\sim \\mathcal{HC}(\\beta)$ and inverse lengthscales $\\rho_d \\sim \\mathcal{HC}(\\tau)$ \n",
        "for $d=1, \\ldots, D$, where $\\mathcal{HC}$ is the half-Cauchy distribution. \n",
        "While half-Cauchy priors favor values near zero they also have heavy tails, which allows the \n",
        "inverse lengthscales of the most important parameters to escape zero. To perform inference in the \n",
        "SAAS model we use Hamiltonian Monte Carlo (HMC) as we found that to outperform MAP inference.\n",
        "\n",
        "We find that SAASBO performs well on problems with hundreds of dimensions. As we rely on HMC \n",
        "and in particular the No-U-Turn-Sampler (NUTS) for inference, the overhead of SAASBO scales \n",
        "cubically with the number of datapoints. Depending on the problem, using more than a few hundred\n",
        "evaluations may not be feasible as SAASBO is designed for problems with a limited evaluation budget.\n",
        "\n",
        "[1]: [D. Eriksson, M. Jankowiak. High-Dimensional Bayesian Optimization with Sparse Axis-Aligned Subspaces. Proceedings of the Thirty-Seventh Conference on Uncertainty in Artificial Intelligence, 2021.](https://proceedings.mlr.press/v161/eriksson21a.html)"
      ],
      "attachments": {}
    },
    {
      "cell_type": "code",
      "metadata": {
        "collapsed": false,
        "originalKey": "db4ecf37-02df-4e93-883b-bcdd788bff6f",
        "code_folding": [],
        "hidden_ranges": [],
        "requestMsgId": "d3ea25c6-f974-4a5c-8673-c06b5ec90b7c",
        "executionStartTime": 1648101616472,
        "executionStopTime": 1648101616477
      },
      "source": [
        "import os\n",
        "\n",
        "import torch\n",
        "from botorch import fit_fully_bayesian_model_nuts\n",
        "from botorch.acquisition import qExpectedImprovement\n",
        "from botorch.models.fully_bayesian import SaasFullyBayesianSingleTaskGP\n",
        "from botorch.models.transforms import Standardize\n",
        "from botorch.optim import optimize_acqf\n",
        "from botorch.test_functions import Branin\n",
        "from torch.quasirandom import SobolEngine\n",
        "\n",
        "\n",
        "SMOKE_TEST = os.environ.get(\"SMOKE_TEST\")"
      ],
      "execution_count": 1,
      "outputs": []
    },
    {
      "cell_type": "code",
      "metadata": {
        "originalKey": "f4f2935c-3a51-431e-863e-f45ab5bb6e83",
        "showInput": true,
        "customInput": null,
        "code_folding": [],
        "hidden_ranges": [],
        "collapsed": false,
        "requestMsgId": "f72b1f17-6e03-4d03-8a5c-19f6d7d7379a",
        "executionStartTime": 1648101616486,
        "executionStopTime": 1648101616494
      },
      "source": [
        "tkwargs = {\"device\": torch.device(\"cuda\" if torch.cuda.is_available() else \"cpu\"), \"dtype\": torch.double}"
      ],
      "execution_count": 2,
      "outputs": []
    },
    {
      "cell_type": "markdown",
      "metadata": {
        "originalKey": "af8beafd-352c-421d-8797-7660ddfa39f3",
        "showInput": false,
        "customInput": null,
        "code_folding": [],
        "hidden_ranges": []
      },
      "source": [
        "## Simple model fitting\n",
        "We generate a simple function that only depends no the first parameter and show that the SAAS\n",
        "model sets all other lengthscale to large values."
      ],
      "attachments": {}
    },
    {
      "cell_type": "code",
      "metadata": {
        "originalKey": "3481d2c0-b02e-4268-aa14-94ddcfae13fe",
        "showInput": true,
        "customInput": null,
        "code_folding": [],
        "hidden_ranges": [],
        "collapsed": false,
        "requestMsgId": "776107c9-c7f5-4356-9bbe-62a240f8a74b",
        "executionStartTime": 1648101616506,
        "executionStopTime": 1648101616512
      },
      "source": [
        "train_X = torch.rand(10, 4, **tkwargs)\n",
        "test_X = torch.rand(5, 4, **tkwargs)\n",
        "train_Y = torch.sin(train_X[:, :1])\n",
        "test_Y = torch.sin(test_X[:, :1])"
      ],
      "execution_count": 3,
      "outputs": []
    },
    {
      "cell_type": "code",
      "metadata": {
        "originalKey": "04380514-7429-498a-a6db-c8c659f8b9ca",
        "showInput": true,
        "customInput": null,
        "collapsed": false,
        "requestMsgId": "9ada7ae5-9476-4572-8119-8dce606026a1",
        "executionStopTime": 1648101631281,
        "code_folding": [],
        "hidden_ranges": [],
        "executionStartTime": 1648101616537
      },
      "source": [
        "saas_gp = SaasFullyBayesianSingleTaskGP(train_X=train_X, train_Y=train_Y)\n",
        "fit_fully_bayesian_model_nuts(saas_gp)\n",
        "with torch.no_grad():\n",
        "    posterior = saas_gp.posterior(test_X, marginalize_over_mcmc_samples=True)"
      ],
      "execution_count": 4,
      "outputs": [
        {
          "output_type": "stream",
          "name": "stderr",
          "text": [
            "\rWarmup:   0%|          | 0/768 [00:00, ?it/s]",
            "\rWarmup:   0%|          | 1/768 [00:00,  5.29it/s, step size=6.99e+00, acc. prob=0.984]",
            "\rWarmup:   1%|▏         | 10/768 [00:00, 31.69it/s, step size=1.56e-01, acc. prob=0.690]",
            "\rWarmup:   2%|▏         | 14/768 [00:00, 24.89it/s, step size=8.13e-02, acc. prob=0.706]",
            "\rWarmup:   2%|▏         | 17/768 [00:00, 24.97it/s, step size=1.70e-01, acc. prob=0.735]",
            "\rWarmup:   3%|▎         | 21/768 [00:00, 28.65it/s, step size=5.27e-01, acc. prob=0.764]",
            "\rWarmup:   3%|▎         | 25/768 [00:01, 21.06it/s, step size=2.24e-01, acc. prob=0.757]",
            "\rWarmup:   4%|▎         | 28/768 [00:01, 21.51it/s, step size=1.69e-01, acc. prob=0.757]",
            "\rWarmup:   4%|▍         | 31/768 [00:01, 20.43it/s, step size=7.29e-02, acc. prob=0.750]",
            "\rWarmup:   4%|▍         | 34/768 [00:01, 17.75it/s, step size=5.98e-02, acc. prob=0.751]",
            "\rWarmup:   5%|▍         | 36/768 [00:01, 16.78it/s, step size=1.81e-01, acc. prob=0.765]",
            "\rWarmup:   5%|▌         | 41/768 [00:01, 21.96it/s, step size=2.00e-01, acc. prob=0.769]",
            "\rWarmup:   6%|▌         | 44/768 [00:02, 20.54it/s, step size=2.55e-01, acc. prob=0.772]",
            "\rWarmup:   6%|▌         | 47/768 [00:02, 20.48it/s, step size=9.49e-02, acc. prob=0.765]",
            "\rWarmup:   7%|▋         | 50/768 [00:02, 18.85it/s, step size=1.92e-01, acc. prob=0.772]",
            "\rWarmup:   7%|▋         | 55/768 [00:02, 24.36it/s, step size=3.58e-01, acc. prob=0.779]",
            "\rWarmup:   8%|▊         | 58/768 [00:02, 24.60it/s, step size=2.73e-01, acc. prob=0.778]",
            "\rWarmup:   8%|▊         | 61/768 [00:02, 23.55it/s, step size=2.46e-01, acc. prob=0.778]",
            "\rWarmup:   8%|▊         | 64/768 [00:02, 24.02it/s, step size=1.68e-01, acc. prob=0.775]",
            "\rWarmup:   9%|▊         | 67/768 [00:03, 20.93it/s, step size=1.08e-01, acc. prob=0.773]",
            "\rWarmup:   9%|▉         | 70/768 [00:03, 20.00it/s, step size=3.47e-01, acc. prob=0.782]",
            "\rWarmup:  10%|▉         | 74/768 [00:03, 23.87it/s, step size=2.39e-01, acc. prob=0.780]",
            "\rWarmup:  10%|█         | 78/768 [00:03, 23.41it/s, step size=2.57e-01, acc. prob=0.781]",
            "\rWarmup:  11%|█         | 81/768 [00:03, 21.94it/s, step size=1.19e-01, acc. prob=0.777]",
            "\rWarmup:  11%|█         | 84/768 [00:03, 19.81it/s, step size=2.24e-01, acc. prob=0.781]",
            "\rWarmup:  11%|█▏        | 88/768 [00:04, 21.14it/s, step size=1.38e-01, acc. prob=0.779]",
            "\rWarmup:  12%|█▏        | 91/768 [00:04, 21.08it/s, step size=2.98e-01, acc. prob=0.784]",
            "\rWarmup:  12%|█▏        | 95/768 [00:04, 24.98it/s, step size=1.18e-01, acc. prob=0.779]",
            "\rWarmup:  13%|█▎        | 98/768 [00:04, 22.66it/s, step size=3.54e-01, acc. prob=0.785]",
            "\rWarmup:  14%|█▎        | 104/768 [00:04, 28.64it/s, step size=6.78e-01, acc. prob=0.769]",
            "\rWarmup:  14%|█▍        | 111/768 [00:04, 37.16it/s, step size=3.20e-01, acc. prob=0.769]",
            "\rWarmup:  15%|█▌        | 117/768 [00:04, 42.53it/s, step size=5.77e-01, acc. prob=0.772]",
            "\rWarmup:  16%|█▌        | 123/768 [00:04, 45.23it/s, step size=9.01e-01, acc. prob=0.774]",
            "\rWarmup:  17%|█▋        | 128/768 [00:05, 42.67it/s, step size=5.80e-01, acc. prob=0.774]",
            "\rWarmup:  18%|█▊        | 135/768 [00:05, 47.72it/s, step size=3.49e-01, acc. prob=0.773]",
            "\rWarmup:  18%|█▊        | 141/768 [00:05, 48.83it/s, step size=7.73e-01, acc. prob=0.776]",
            "\rWarmup:  19%|█▉        | 147/768 [00:05, 42.10it/s, step size=3.90e-01, acc. prob=0.775]",
            "\rWarmup:  20%|█▉        | 152/768 [00:05, 42.89it/s, step size=1.06e-01, acc. prob=0.769]",
            "\rWarmup:  20%|██        | 157/768 [00:05, 35.33it/s, step size=1.03e+00, acc. prob=0.775]",
            "\rWarmup:  21%|██        | 161/768 [00:05, 31.40it/s, step size=5.37e-01, acc. prob=0.775]",
            "\rWarmup:  21%|██▏       | 165/768 [00:06, 31.87it/s, step size=3.27e-01, acc. prob=0.774]",
            "\rWarmup:  22%|██▏       | 170/768 [00:06, 33.17it/s, step size=2.65e-01, acc. prob=0.774]",
            "\rWarmup:  23%|██▎       | 176/768 [00:06, 37.66it/s, step size=7.08e-01, acc. prob=0.777]",
            "\rWarmup:  24%|██▎       | 182/768 [00:06, 41.91it/s, step size=5.76e-01, acc. prob=0.777]",
            "\rWarmup:  24%|██▍       | 188/768 [00:06, 45.22it/s, step size=1.06e+00, acc. prob=0.779]",
            "\rWarmup:  26%|██▌       | 196/768 [00:06, 53.72it/s, step size=7.21e-01, acc. prob=0.779]",
            "\rWarmup:  26%|██▋       | 202/768 [00:06, 53.84it/s, step size=7.88e-01, acc. prob=0.780]",
            "\rWarmup:  27%|██▋       | 208/768 [00:06, 54.73it/s, step size=3.64e-01, acc. prob=0.778]",
            "\rWarmup:  28%|██▊       | 214/768 [00:07, 51.39it/s, step size=7.51e-01, acc. prob=0.780]",
            "\rWarmup:  29%|██▉       | 222/768 [00:07, 57.97it/s, step size=3.32e-01, acc. prob=0.779]",
            "\rWarmup:  30%|██▉       | 229/768 [00:07, 61.03it/s, step size=5.95e-01, acc. prob=0.781]",
            "\rWarmup:  31%|███       | 239/768 [00:07, 70.93it/s, step size=8.53e-01, acc. prob=0.782]",
            "\rWarmup:  32%|███▏      | 247/768 [00:07, 73.22it/s, step size=7.99e-01, acc. prob=0.783]",
            "\rWarmup:  33%|███▎      | 255/768 [00:07, 66.95it/s, step size=6.35e-01, acc. prob=0.778]",
            "\rWarmup:  34%|███▍      | 262/768 [00:07, 65.16it/s, step size=2.10e-01, acc. prob=0.778]",
            "\rWarmup:  35%|███▌      | 269/768 [00:07, 62.97it/s, step size=3.22e-01, acc. prob=0.779]",
            "\rWarmup:  36%|███▌      | 276/768 [00:08, 52.38it/s, step size=3.40e-01, acc. prob=0.779]",
            "\rWarmup:  37%|███▋      | 282/768 [00:08, 50.63it/s, step size=9.27e-01, acc. prob=0.781]",
            "\rWarmup:  38%|███▊      | 288/768 [00:08, 51.58it/s, step size=4.51e-01, acc. prob=0.780]",
            "\rWarmup:  38%|███▊      | 294/768 [00:08, 51.32it/s, step size=5.37e-01, acc. prob=0.780]",
            "\rWarmup:  39%|███▉      | 303/768 [00:08, 59.70it/s, step size=4.17e-01, acc. prob=0.780]",
            "\rWarmup:  40%|████      | 310/768 [00:08, 61.98it/s, step size=5.22e-01, acc. prob=0.781]",
            "\rWarmup:  41%|████▏     | 318/768 [00:08, 64.45it/s, step size=7.44e-01, acc. prob=0.782]",
            "\rWarmup:  42%|████▏     | 325/768 [00:08, 65.53it/s, step size=1.86e-01, acc. prob=0.780]",
            "\rWarmup:  43%|████▎     | 332/768 [00:08, 65.39it/s, step size=8.21e-01, acc. prob=0.782]",
            "\rWarmup:  44%|████▍     | 340/768 [00:09, 63.57it/s, step size=2.83e-01, acc. prob=0.781]",
            "\rWarmup:  45%|████▌     | 347/768 [00:09, 63.82it/s, step size=4.49e-01, acc. prob=0.782]",
            "\rWarmup:  46%|████▌     | 354/768 [00:09, 63.14it/s, step size=4.36e-01, acc. prob=0.782]",
            "\rWarmup:  47%|████▋     | 361/768 [00:09, 59.64it/s, step size=6.25e-01, acc. prob=0.783]",
            "\rWarmup:  48%|████▊     | 370/768 [00:09, 67.49it/s, step size=7.02e-01, acc. prob=0.783]",
            "\rWarmup:  49%|████▉     | 379/768 [00:09, 72.00it/s, step size=7.91e-01, acc. prob=0.784]",
            "\rWarmup:  50%|█████     | 387/768 [00:09, 72.68it/s, step size=4.53e-01, acc. prob=0.783]",
            "\rWarmup:  51%|█████▏    | 395/768 [00:09, 71.00it/s, step size=4.03e-01, acc. prob=0.783]",
            "\rWarmup:  53%|█████▎    | 404/768 [00:09, 71.95it/s, step size=5.95e-01, acc. prob=0.784]",
            "\rWarmup:  54%|█████▎    | 412/768 [00:10, 67.21it/s, step size=3.80e-01, acc. prob=0.784]",
            "\rWarmup:  55%|█████▍    | 419/768 [00:10, 67.44it/s, step size=7.32e-01, acc. prob=0.785]",
            "\rWarmup:  56%|█████▌    | 428/768 [00:10, 72.22it/s, step size=4.64e-01, acc. prob=0.784]",
            "\rWarmup:  57%|█████▋    | 436/768 [00:10, 73.05it/s, step size=5.05e-01, acc. prob=0.785]",
            "\rWarmup:  58%|█████▊    | 444/768 [00:10, 73.72it/s, step size=6.54e-01, acc. prob=0.785]",
            "\rWarmup:  59%|█████▉    | 452/768 [00:10, 69.48it/s, step size=4.40e-01, acc. prob=0.785]",
            "\rWarmup:  60%|█████▉    | 460/768 [00:10, 69.24it/s, step size=4.34e-01, acc. prob=0.785]",
            "\rWarmup:  61%|██████    | 469/768 [00:10, 68.96it/s, step size=1.72e-01, acc. prob=0.782]",
            "\rWarmup:  62%|██████▏   | 476/768 [00:11, 63.45it/s, step size=1.20e+00, acc. prob=0.784]",
            "\rWarmup:  63%|██████▎   | 484/768 [00:11, 62.73it/s, step size=1.72e-01, acc. prob=0.783]",
            "\rWarmup:  64%|██████▍   | 491/768 [00:11, 60.47it/s, step size=7.91e-01, acc. prob=0.784]",
            "\rWarmup:  65%|██████▌   | 501/768 [00:11, 62.77it/s, step size=1.79e-01, acc. prob=0.783]",
            "\rWarmup:  66%|██████▌   | 508/768 [00:11, 63.33it/s, step size=5.49e-01, acc. prob=0.784]",
            "\rSample:  67%|██████▋   | 518/768 [00:11, 70.71it/s, step size=5.10e-01, acc. prob=0.851]",
            "\rSample:  68%|██████▊   | 526/768 [00:11, 68.80it/s, step size=5.10e-01, acc. prob=0.902]",
            "\rSample:  69%|██████▉   | 533/768 [00:11, 67.56it/s, step size=5.10e-01, acc. prob=0.886]",
            "\rSample:  70%|███████   | 540/768 [00:11, 66.65it/s, step size=5.10e-01, acc. prob=0.870]",
            "\rSample:  71%|███████   | 547/768 [00:12, 66.06it/s, step size=5.10e-01, acc. prob=0.889]",
            "\rSample:  72%|███████▏  | 554/768 [00:12, 62.85it/s, step size=5.10e-01, acc. prob=0.893]",
            "\rSample:  73%|███████▎  | 561/768 [00:12, 63.32it/s, step size=5.10e-01, acc. prob=0.896]",
            "\rSample:  74%|███████▍  | 569/768 [00:12, 66.91it/s, step size=5.10e-01, acc. prob=0.893]",
            "\rSample:  75%|███████▌  | 578/768 [00:12, 73.09it/s, step size=5.10e-01, acc. prob=0.890]",
            "\rSample:  76%|███████▋  | 587/768 [00:12, 77.74it/s, step size=5.10e-01, acc. prob=0.875]",
            "\rSample:  77%|███████▋  | 595/768 [00:12, 76.84it/s, step size=5.10e-01, acc. prob=0.866]",
            "\rSample:  79%|███████▊  | 603/768 [00:12, 75.76it/s, step size=5.10e-01, acc. prob=0.863]",
            "\rSample:  80%|███████▉  | 612/768 [00:12, 78.79it/s, step size=5.10e-01, acc. prob=0.865]",
            "\rSample:  81%|████████  | 621/768 [00:13, 81.81it/s, step size=5.10e-01, acc. prob=0.867]",
            "\rSample:  82%|████████▏ | 630/768 [00:13, 77.63it/s, step size=5.10e-01, acc. prob=0.872]",
            "\rSample:  83%|████████▎ | 638/768 [00:13, 73.52it/s, step size=5.10e-01, acc. prob=0.864]",
            "\rSample:  84%|████████▍ | 646/768 [00:13, 70.87it/s, step size=5.10e-01, acc. prob=0.867]",
            "\rSample:  85%|████████▌ | 654/768 [00:13, 72.17it/s, step size=5.10e-01, acc. prob=0.871]",
            "\rSample:  86%|████████▌ | 662/768 [00:13, 73.93it/s, step size=5.10e-01, acc. prob=0.864]",
            "\rSample:  87%|████████▋ | 671/768 [00:13, 77.60it/s, step size=5.10e-01, acc. prob=0.861]",
            "\rSample:  89%|████████▊ | 681/768 [00:13, 82.15it/s, step size=5.10e-01, acc. prob=0.863]",
            "\rSample:  90%|████████▉ | 690/768 [00:13, 83.21it/s, step size=5.10e-01, acc. prob=0.863]",
            "\rSample:  91%|█████████ | 699/768 [00:14, 84.53it/s, step size=5.10e-01, acc. prob=0.866]",
            "\rSample:  92%|█████████▏| 709/768 [00:14, 88.73it/s, step size=5.10e-01, acc. prob=0.862]",
            "\rSample:  93%|█████████▎| 718/768 [00:14, 88.89it/s, step size=5.10e-01, acc. prob=0.863]",
            "\rSample:  95%|█████████▍| 727/768 [00:14, 87.38it/s, step size=5.10e-01, acc. prob=0.864]",
            "\rSample:  96%|█████████▌| 737/768 [00:14, 88.94it/s, step size=5.10e-01, acc. prob=0.865]",
            "\rSample:  97%|█████████▋| 746/768 [00:14, 84.00it/s, step size=5.10e-01, acc. prob=0.866]",
            "\rSample:  98%|█████████▊| 755/768 [00:14, 84.92it/s, step size=5.10e-01, acc. prob=0.868]",
            "\rSample: 100%|█████████▉| 765/768 [00:14, 88.66it/s, step size=5.10e-01, acc. prob=0.867]",
            "\rSample: 100%|██████████| 768/768 [00:14, 51.68it/s, step size=5.10e-01, acc. prob=0.865]",
            "\n"
          ]
        }
      ]
    },
    {
      "cell_type": "markdown",
      "metadata": {
        "originalKey": "95b94b84-8e46-4b0b-b078-48ece48df3e5",
        "showInput": false,
        "customInput": null,
        "code_folding": [],
        "hidden_ranges": []
      },
      "source": [
        "Test predictions are very close to the ground-truth"
      ],
      "attachments": {}
    },
    {
      "cell_type": "code",
      "metadata": {
        "originalKey": "b0ac3ad4-5302-46e5-8b26-f3c8d9628561",
        "showInput": true,
        "customInput": null,
        "code_folding": [],
        "hidden_ranges": [],
        "collapsed": false,
        "requestMsgId": "088fe4bb-2701-4f14-9fb9-13b0d0580e85",
        "executionStartTime": 1648101631289,
        "executionStopTime": 1648101631295
      },
      "source": [
        "print(posterior.mean.squeeze(-1))\n",
        "print(test_Y.squeeze(-1))"
      ],
      "execution_count": 5,
      "outputs": [
        {
          "output_type": "stream",
          "name": "stdout",
          "text": [
            "tensor([0.7138, 0.0843, 0.8048, 0.3042, 0.0394], dtype=torch.float64)\ntensor([0.7104, 0.0842, 0.7949, 0.3040, 0.0394], dtype=torch.float64)\n"
          ]
        }
      ]
    },
    {
      "cell_type": "markdown",
      "metadata": {
        "originalKey": "5f4fa168-2662-499b-ac82-3ab122dfe2ad",
        "showInput": false,
        "customInput": null,
        "code_folding": [],
        "hidden_ranges": []
      },
      "source": [
        "The first feature has the smallest lengthscale"
      ],
      "attachments": {}
    },
    {
      "cell_type": "code",
      "metadata": {
        "originalKey": "966218a7-f003-4440-a43f-715ca804ad3a",
        "showInput": true,
        "customInput": null,
        "collapsed": false,
        "requestMsgId": "191de623-1227-4f90-92f1-43647fefb82a",
        "executionStartTime": 1648101631572,
        "executionStopTime": 1648101631579,
        "code_folding": [],
        "hidden_ranges": []
      },
      "source": [
        "print(saas_gp.median_lengthscale)"
      ],
      "execution_count": 6,
      "outputs": [
        {
          "output_type": "stream",
          "name": "stdout",
          "text": [
            "tensor([  4.6953,  79.9256, 175.9217, 127.2767], dtype=torch.float64,\n       grad_fn=<SqueezeBackward1>)\n"
          ]
        }
      ]
    },
    {
      "cell_type": "markdown",
      "metadata": {
        "originalKey": "978d6058-bf82-4770-b9b9-56e0eace8e28",
        "showInput": false,
        "customInput": null,
        "code_folding": [],
        "hidden_ranges": []
      },
      "source": [
        "## Model fitting with fixed noise\n",
        "By default, we infer the unknown noise variance in the data. You can also pass in a known \n",
        "noise variance for each observation, which may be useful in cases where you for example\n",
        "know that the problem is noise-free and can then set the noise variance to a small value such as `1e-6`."
      ],
      "attachments": {}
    },
    {
      "cell_type": "code",
      "metadata": {
        "originalKey": "0e92c44d-87c4-45dc-bc99-932a1c98e35b",
        "showInput": true,
        "customInput": null,
        "code_folding": [],
        "hidden_ranges": [],
        "collapsed": false,
        "requestMsgId": "fef66f45-9a8f-47cc-aaf2-79092f64dfbd",
        "executionStartTime": 1648101631585,
        "executionStopTime": 1648101645224
      },
      "source": [
        "saas_gp = SaasFullyBayesianSingleTaskGP(train_X=train_X, train_Y=train_Y, train_Yvar=torch.full_like(train_Y, 1e-6))\n",
        "fit_fully_bayesian_model_nuts(saas_gp)\n",
        "with torch.no_grad():\n",
        "    posterior = saas_gp.posterior(test_X, marginalize_over_mcmc_samples=True)"
      ],
      "execution_count": 7,
      "outputs": [
        {
          "output_type": "stream",
          "name": "stderr",
          "text": [
            "\rWarmup:   0%|          | 0/768 [00:00, ?it/s]",
            "\rWarmup:   0%|          | 1/768 [00:00,  6.18it/s, step size=7.19e+00, acc. prob=1.000]",
            "\rWarmup:   1%|          | 4/768 [00:00, 15.58it/s, step size=1.60e-01, acc. prob=0.499]",
            "\rWarmup:   1%|          | 7/768 [00:00, 20.08it/s, step size=4.76e-01, acc. prob=0.692]",
            "\rWarmup:   1%|▏         | 10/768 [00:00, 20.31it/s, step size=3.99e-01, acc. prob=0.720]",
            "\rWarmup:   2%|▏         | 13/768 [00:00, 20.04it/s, step size=4.02e-01, acc. prob=0.738]",
            "\rWarmup:   2%|▏         | 16/768 [00:00, 15.88it/s, step size=2.36e-01, acc. prob=0.738]",
            "\rWarmup:   3%|▎         | 20/768 [00:01, 20.43it/s, step size=5.96e-01, acc. prob=0.764]",
            "\rWarmup:   3%|▎         | 23/768 [00:01, 16.98it/s, step size=1.88e-01, acc. prob=0.751]",
            "\rWarmup:   3%|▎         | 26/768 [00:01, 17.55it/s, step size=1.51e-01, acc. prob=0.753]",
            "\rWarmup:   4%|▎         | 28/768 [00:01, 17.51it/s, step size=4.71e-01, acc. prob=0.770]",
            "\rWarmup:   4%|▍         | 30/768 [00:01, 17.04it/s, step size=2.10e-01, acc. prob=0.761]",
            "\rWarmup:   4%|▍         | 33/768 [00:01, 18.05it/s, step size=2.23e-01, acc. prob=0.765]",
            "\rWarmup:   5%|▍         | 36/768 [00:02, 18.10it/s, step size=1.56e-01, acc. prob=0.763]",
            "\rWarmup:   5%|▍         | 38/768 [00:02, 16.28it/s, step size=3.71e-01, acc. prob=0.773]",
            "\rWarmup:   5%|▌         | 41/768 [00:02, 16.51it/s, step size=1.29e-01, acc. prob=0.764]",
            "\rWarmup:   6%|▌         | 43/768 [00:02, 16.21it/s, step size=3.16e-01, acc. prob=0.774]",
            "\rWarmup:   6%|▌         | 46/768 [00:02, 18.33it/s, step size=2.51e-01, acc. prob=0.773]",
            "\rWarmup:   6%|▋         | 49/768 [00:02, 19.08it/s, step size=9.84e-02, acc. prob=0.766]",
            "\rWarmup:   7%|▋         | 51/768 [00:02, 17.81it/s, step size=2.33e-01, acc. prob=0.774]",
            "\rWarmup:   7%|▋         | 55/768 [00:03, 19.70it/s, step size=1.71e-01, acc. prob=0.773]",
            "\rWarmup:   7%|▋         | 57/768 [00:03, 19.19it/s, step size=4.29e-01, acc. prob=0.781]",
            "\rWarmup:   8%|▊         | 60/768 [00:03, 20.61it/s, step size=9.11e-02, acc. prob=0.770]",
            "\rWarmup:   8%|▊         | 63/768 [00:03, 20.09it/s, step size=3.05e-01, acc. prob=0.780]",
            "\rWarmup:   9%|▊         | 67/768 [00:03, 22.70it/s, step size=3.09e-01, acc. prob=0.780]",
            "\rWarmup:   9%|▉         | 71/768 [00:03, 25.47it/s, step size=3.85e-01, acc. prob=0.783]",
            "\rWarmup:  10%|▉         | 75/768 [00:03, 28.24it/s, step size=3.85e-01, acc. prob=0.783]",
            "\rWarmup:  10%|█         | 78/768 [00:04, 23.56it/s, step size=1.78e-01, acc. prob=0.779]",
            "\rWarmup:  11%|█         | 81/768 [00:04, 25.00it/s, step size=4.07e-01, acc. prob=0.784]",
            "\rWarmup:  11%|█         | 85/768 [00:04, 27.23it/s, step size=2.96e-01, acc. prob=0.783]",
            "\rWarmup:  12%|█▏        | 90/768 [00:04, 31.82it/s, step size=4.35e-01, acc. prob=0.786]",
            "\rWarmup:  12%|█▏        | 94/768 [00:04, 25.85it/s, step size=3.21e-01, acc. prob=0.784]",
            "\rWarmup:  13%|█▎        | 97/768 [00:04, 26.35it/s, step size=9.73e-02, acc. prob=0.778]",
            "\rWarmup:  13%|█▎        | 100/768 [00:04, 21.04it/s, step size=3.72e+00, acc. prob=0.774]",
            "\rWarmup:  14%|█▍        | 106/768 [00:05, 28.24it/s, step size=4.28e-01, acc. prob=0.772]",
            "\rWarmup:  15%|█▍        | 113/768 [00:05, 36.67it/s, step size=5.24e-01, acc. prob=0.775]",
            "\rWarmup:  16%|█▌        | 120/768 [00:05, 44.34it/s, step size=7.24e-01, acc. prob=0.777]",
            "\rWarmup:  16%|█▋        | 125/768 [00:05, 37.27it/s, step size=6.77e-01, acc. prob=0.777]",
            "\rWarmup:  17%|█▋        | 131/768 [00:05, 41.99it/s, step size=4.90e-01, acc. prob=0.777]",
            "\rWarmup:  18%|█▊        | 136/768 [00:05, 43.22it/s, step size=3.65e-01, acc. prob=0.776]",
            "\rWarmup:  18%|█▊        | 141/768 [00:05, 38.40it/s, step size=2.10e-01, acc. prob=0.775]",
            "\rWarmup:  19%|█▉        | 147/768 [00:05, 43.18it/s, step size=4.63e-01, acc. prob=0.778]",
            "\rWarmup:  20%|██        | 154/768 [00:06, 47.94it/s, step size=3.38e-01, acc. prob=0.769]",
            "\rWarmup:  21%|██        | 162/768 [00:06, 55.04it/s, step size=2.31e-01, acc. prob=0.771]",
            "\rWarmup:  22%|██▏       | 168/768 [00:06, 53.99it/s, step size=1.86e-01, acc. prob=0.771]",
            "\rWarmup:  23%|██▎       | 174/768 [00:06, 52.80it/s, step size=3.04e-01, acc. prob=0.773]",
            "\rWarmup:  24%|██▎       | 182/768 [00:06, 58.82it/s, step size=5.90e-01, acc. prob=0.775]",
            "\rWarmup:  25%|██▍       | 190/768 [00:06, 58.83it/s, step size=2.40e-01, acc. prob=0.774]",
            "\rWarmup:  26%|██▌       | 197/768 [00:06, 58.83it/s, step size=6.87e-01, acc. prob=0.776]",
            "\rWarmup:  26%|██▋       | 203/768 [00:06, 53.95it/s, step size=7.51e-01, acc. prob=0.777]",
            "\rWarmup:  28%|██▊       | 212/768 [00:06, 62.06it/s, step size=5.79e-01, acc. prob=0.777]",
            "\rWarmup:  29%|██▊       | 219/768 [00:07, 61.06it/s, step size=2.10e-01, acc. prob=0.776]",
            "\rWarmup:  29%|██▉       | 226/768 [00:07, 55.48it/s, step size=7.46e-01, acc. prob=0.779]",
            "\rWarmup:  30%|███       | 234/768 [00:07, 58.70it/s, step size=3.59e-01, acc. prob=0.778]",
            "\rWarmup:  32%|███▏      | 243/768 [00:07, 63.52it/s, step size=5.23e-01, acc. prob=0.779]",
            "\rWarmup:  33%|███▎      | 250/768 [00:07, 57.75it/s, step size=9.94e+00, acc. prob=0.779]",
            "\rWarmup:  34%|███▎      | 259/768 [00:07, 64.89it/s, step size=8.83e-01, acc. prob=0.777]",
            "\rWarmup:  35%|███▍      | 267/768 [00:07, 68.21it/s, step size=5.01e-01, acc. prob=0.777]",
            "\rWarmup:  36%|███▌      | 275/768 [00:08, 62.48it/s, step size=2.31e-01, acc. prob=0.776]",
            "\rWarmup:  37%|███▋      | 282/768 [00:08, 62.22it/s, step size=2.21e-01, acc. prob=0.777]",
            "\rWarmup:  38%|███▊      | 289/768 [00:08, 61.03it/s, step size=7.18e-01, acc. prob=0.779]",
            "\rWarmup:  39%|███▉      | 301/768 [00:08, 74.12it/s, step size=2.87e-01, acc. prob=0.778]",
            "\rWarmup:  40%|████      | 309/768 [00:08, 75.57it/s, step size=7.29e-01, acc. prob=0.780]",
            "\rWarmup:  42%|████▏     | 321/768 [00:08, 85.42it/s, step size=2.41e-01, acc. prob=0.778]",
            "\rWarmup:  43%|████▎     | 330/768 [00:08, 76.38it/s, step size=5.82e-01, acc. prob=0.780]",
            "\rWarmup:  44%|████▍     | 340/768 [00:08, 81.52it/s, step size=7.05e-01, acc. prob=0.781]",
            "\rWarmup:  45%|████▌     | 349/768 [00:08, 78.37it/s, step size=4.89e-01, acc. prob=0.781]",
            "\rWarmup:  47%|████▋     | 360/768 [00:09, 86.61it/s, step size=7.47e-01, acc. prob=0.782]",
            "\rWarmup:  48%|████▊     | 369/768 [00:09, 86.56it/s, step size=5.91e-01, acc. prob=0.782]",
            "\rWarmup:  49%|████▉     | 378/768 [00:09, 87.00it/s, step size=6.21e-01, acc. prob=0.782]",
            "\rWarmup:  50%|█████     | 387/768 [00:09, 83.94it/s, step size=6.77e-01, acc. prob=0.782]",
            "\rWarmup:  52%|█████▏    | 396/768 [00:09, 81.26it/s, step size=4.69e-01, acc. prob=0.782]",
            "\rWarmup:  53%|█████▎    | 405/768 [00:09, 78.71it/s, step size=4.39e-01, acc. prob=0.782]",
            "\rWarmup:  54%|█████▍    | 414/768 [00:09, 79.78it/s, step size=7.17e-01, acc. prob=0.783]",
            "\rWarmup:  55%|█████▌    | 426/768 [00:09, 88.63it/s, step size=5.87e-01, acc. prob=0.783]",
            "\rWarmup:  57%|█████▋    | 435/768 [00:09, 87.24it/s, step size=4.33e-01, acc. prob=0.783]",
            "\rWarmup:  58%|█████▊    | 444/768 [00:10, 87.00it/s, step size=6.27e-01, acc. prob=0.784]",
            "\rWarmup:  59%|█████▉    | 453/768 [00:10, 76.44it/s, step size=6.75e-01, acc. prob=0.784]",
            "\rWarmup:  60%|██████    | 461/768 [00:10, 74.80it/s, step size=1.42e+00, acc. prob=0.785]",
            "\rWarmup:  61%|██████    | 469/768 [00:10, 73.06it/s, step size=2.85e-01, acc. prob=0.782]",
            "\rWarmup:  62%|██████▏   | 477/768 [00:10, 67.92it/s, step size=9.24e-01, acc. prob=0.783]",
            "\rWarmup:  64%|██████▎   | 488/768 [00:10, 78.20it/s, step size=7.53e-01, acc. prob=0.783]",
            "\rWarmup:  65%|██████▍   | 497/768 [00:10, 77.70it/s, step size=1.19e-01, acc. prob=0.782]",
            "\rWarmup:  66%|██████▌   | 505/768 [00:10, 68.60it/s, step size=2.22e-01, acc. prob=0.783]",
            "\rWarmup:  67%|██████▋   | 513/768 [00:11, 70.61it/s, step size=5.11e-01, acc. prob=0.937]",
            "\rSample:  68%|██████▊   | 523/768 [00:11, 76.93it/s, step size=5.11e-01, acc. prob=0.880]",
            "\rSample:  69%|██████▉   | 532/768 [00:11, 79.12it/s, step size=5.11e-01, acc. prob=0.907]",
            "\rSample:  71%|███████   | 542/768 [00:11, 83.25it/s, step size=5.11e-01, acc. prob=0.888]",
            "\rSample:  72%|███████▏  | 551/768 [00:11, 83.40it/s, step size=5.11e-01, acc. prob=0.901]",
            "\rSample:  73%|███████▎  | 562/768 [00:11, 89.69it/s, step size=5.11e-01, acc. prob=0.901]",
            "\rSample:  75%|███████▍  | 573/768 [00:11, 94.28it/s, step size=5.11e-01, acc. prob=0.904]",
            "\rSample:  76%|███████▌  | 584/768 [00:11, 95.96it/s, step size=5.11e-01, acc. prob=0.903]",
            "\rSample:  77%|███████▋  | 594/768 [00:11, 89.06it/s, step size=5.11e-01, acc. prob=0.898]",
            "\rSample:  79%|███████▊  | 604/768 [00:12, 89.51it/s, step size=5.11e-01, acc. prob=0.890]",
            "\rSample:  80%|████████  | 615/768 [00:12, 94.11it/s, step size=5.11e-01, acc. prob=0.885]",
            "\rSample:  81%|████████▏ | 625/768 [00:12, 94.45it/s, step size=5.11e-01, acc. prob=0.890]",
            "\rSample:  83%|████████▎ | 635/768 [00:12, 94.69it/s, step size=5.11e-01, acc. prob=0.892]",
            "\rSample:  84%|████████▍ | 645/768 [00:12, 95.12it/s, step size=5.11e-01, acc. prob=0.895]",
            "\rSample:  85%|████████▌ | 655/768 [00:12, 95.10it/s, step size=5.11e-01, acc. prob=0.896]",
            "\rSample:  87%|████████▋ | 665/768 [00:12, 96.30it/s, step size=5.11e-01, acc. prob=0.891]",
            "\rSample:  88%|████████▊ | 675/768 [00:12, 96.13it/s, step size=5.11e-01, acc. prob=0.890]",
            "\rSample:  89%|████████▉ | 685/768 [00:12, 90.38it/s, step size=5.11e-01, acc. prob=0.886]",
            "\rSample:  91%|█████████ | 696/768 [00:12, 93.51it/s, step size=5.11e-01, acc. prob=0.888]",
            "\rSample:  92%|█████████▏| 706/768 [00:13, 94.24it/s, step size=5.11e-01, acc. prob=0.885]",
            "\rSample:  93%|█████████▎| 716/768 [00:13, 94.30it/s, step size=5.11e-01, acc. prob=0.886]",
            "\rSample:  95%|█████████▍| 726/768 [00:13, 94.88it/s, step size=5.11e-01, acc. prob=0.888]",
            "\rSample:  96%|█████████▌| 737/768 [00:13, 96.92it/s, step size=5.11e-01, acc. prob=0.888]",
            "\rSample:  97%|█████████▋| 747/768 [00:13, 96.09it/s, step size=5.11e-01, acc. prob=0.887]",
            "\rSample:  99%|█████████▊| 757/768 [00:13, 95.99it/s, step size=5.11e-01, acc. prob=0.890]",
            "\rSample: 100%|█████████▉| 767/768 [00:13, 95.97it/s, step size=5.11e-01, acc. prob=0.891]",
            "\rSample: 100%|██████████| 768/768 [00:13, 55.95it/s, step size=5.11e-01, acc. prob=0.891]",
            "\n"
          ]
        }
      ]
    },
    {
      "cell_type": "code",
      "metadata": {
        "originalKey": "6b9cd0c0-0fb6-43ed-87f2-2f7594dcf5fd",
        "showInput": true,
        "customInput": null,
        "collapsed": false,
        "requestMsgId": "f97d1361-f3a6-4adb-8f3b-b94a9127bf87",
        "executionStartTime": 1648101645309,
        "executionStopTime": 1648101645319,
        "code_folding": [],
        "hidden_ranges": []
      },
      "source": [
        "print(posterior.mean.squeeze(-1))\n",
        "print(test_Y.squeeze(-1))"
      ],
      "execution_count": 8,
      "outputs": [
        {
          "output_type": "stream",
          "name": "stdout",
          "text": [
            "tensor([0.7120, 0.0843, 0.8010, 0.3041, 0.0392], dtype=torch.float64)\ntensor([0.7104, 0.0842, 0.7949, 0.3040, 0.0394], dtype=torch.float64)\n"
          ]
        }
      ]
    },
    {
      "cell_type": "code",
      "metadata": {
        "originalKey": "a3d133dc-db3c-4737-97f5-33c38f5f5013",
        "showInput": true,
        "customInput": null,
        "code_folding": [],
        "hidden_ranges": [],
        "collapsed": false,
        "requestMsgId": "0cd14f8a-8833-4573-9dc8-de1dffd67024",
        "executionStartTime": 1648101645404,
        "executionStopTime": 1648101645428
      },
      "source": [
        "print(saas_gp.median_lengthscale)"
      ],
      "execution_count": 9,
      "outputs": [
        {
          "output_type": "stream",
          "name": "stdout",
          "text": [
            "tensor([  5.1014, 118.8423, 190.4300,  78.6207], dtype=torch.float64,\n       grad_fn=<SqueezeBackward1>)\n"
          ]
        }
      ]
    },
    {
      "cell_type": "markdown",
      "metadata": {
        "originalKey": "d9bec8be-2acd-40b8-aebb-612b62bbdfc3",
        "showInput": false,
        "customInput": null,
        "code_folding": [],
        "hidden_ranges": [],
        "collapsed": false,
        "requestMsgId": "d9bec8be-2acd-40b8-aebb-612b62bbdfc3",
        "executionStartTime": 1644277314184,
        "executionStopTime": 1644277314189
      },
      "source": [
        "## Optimize Branin embedded in a 50D space\n",
        "We take the standard 2D Branin problem and embed it in a 50D space. In particular,\n",
        "we let dimensions 0 and 1 correspond to the true dimensions. We will show that\n",
        "SAASBO is able to identify the important dimensions and efficiently optimize this function.\n",
        "We work with the domain $[0, 1]^d$ and unnormalize the inputs to the true domain of Branin \n",
        "before evaluating the function.\n",
        "\n",
        "The time to fit the SAAS model can be decreased by lowering\n",
        "`WARMUP_STEPS` and `NUM_SAMPLES`. We recommend using 512 warmup steps and 256 samples when\n",
        "possible and to not use fewer than 256 warmup steps and 128 samples. By default, we only\n",
        "keep each 16th sample which with 256 samples results in 32 hyperparameter samples.\n",
        "We average over these samples when computing the acquisition function."
      ],
      "attachments": {}
    },
    {
      "cell_type": "code",
      "metadata": {
        "originalKey": "baa8cb36-8b36-4601-af8a-a6e11cccddbd",
        "showInput": true,
        "customInput": null,
        "code_folding": [],
        "hidden_ranges": [],
        "collapsed": false,
        "requestMsgId": "680af611-a9bc-41a5-bc10-1fc2dec0b31b",
        "executionStartTime": 1648101645502,
        "executionStopTime": 1648101645598
      },
      "source": [
        "branin = Branin().to(**tkwargs)\n",
        "\n",
        "\n",
        "def branin_emb(x):\n",
        "    \"\"\"x is assumed to be in [0, 1]^d\"\"\"\n",
        "    lb, ub = branin.bounds\n",
        "    return branin(lb + (ub - lb) * x[..., :2])"
      ],
      "execution_count": 10,
      "outputs": []
    },
    {
      "cell_type": "code",
      "metadata": {
        "originalKey": "1282f038-e5f0-4886-92f4-acc247174d2d",
        "showInput": true,
        "customInput": null,
        "code_folding": [],
        "hidden_ranges": [],
        "collapsed": false,
        "requestMsgId": "c10e806f-cfac-436e-9e52-ac17309abefa",
        "executionStartTime": 1648101645606,
        "executionStopTime": 1648101645651
      },
      "source": [
        "DIM = 50 if not SMOKE_TEST else 10\n",
        "\n",
        "# Evaluation budget\n",
        "N_INIT = 10\n",
        "N_ITERATIONS = 10 if not SMOKE_TEST else 1\n",
        "BATCH_SIZE = 4 if not SMOKE_TEST else 1\n",
        "print(f\"Using a total of {N_INIT + BATCH_SIZE * N_ITERATIONS} function evaluations\")\n",
        "\n",
        "# Settings for NUTS\n",
        "WARMUP_STEPS = 512 if not SMOKE_TEST else 32\n",
        "NUM_SAMPLES = 256 if not SMOKE_TEST else 16\n",
        "THINNING = 16"
      ],
      "execution_count": 11,
      "outputs": [
        {
          "output_type": "stream",
          "name": "stdout",
          "text": [
            "Using a total of 50 function evaluations\n"
          ]
        }
      ]
    },
    {
      "cell_type": "markdown",
      "metadata": {
        "originalKey": "27fd793f-18ee-49cb-9aa5-c8cd78b0b807",
        "showInput": false,
        "customInput": null,
        "code_folding": [],
        "hidden_ranges": []
      },
      "source": [
        "### Run the optimization\n",
        "We use 10 initial Sobol points followed by 10 iterations of BO using a batch size of 4, \n",
        "which results in a total of 50 function evaluations. As our goal is to minimize Branin, we flip\n",
        "the sign of the function values before fitting the SAAS model as the BoTorch acquisition\n",
        "functions assume maximization."
      ],
      "attachments": {}
    },
    {
      "cell_type": "code",
      "metadata": {
        "originalKey": "201b12d5-747a-48b5-9bfa-9fe8470da1aa",
        "showInput": true,
        "customInput": null,
        "collapsed": false,
        "requestMsgId": "ba00b0e6-6155-49bf-afaa-dfa59dfc62a0",
        "executionStartTime": 1648101645704,
        "executionStopTime": 1648102354171,
        "code_folding": [],
        "hidden_ranges": []
      },
      "source": [
        "X = SobolEngine(dimension=DIM, scramble=True, seed=0).draw(N_INIT).to(**tkwargs)\n",
        "Y = branin_emb(X).unsqueeze(-1)\n",
        "print(f\"Best initial point: {Y.min().item():.3f}\")\n",
        "\n",
        "for i in range(N_ITERATIONS):\n",
        "    train_Y = -1 * Y  # Flip the sign since we want to minimize f(x)\n",
        "    gp = SaasFullyBayesianSingleTaskGP(\n",
        "        train_X=X, train_Y=train_Y, train_Yvar=torch.full_like(train_Y, 1e-6), outcome_transform=Standardize(m=1)\n",
        "    )\n",
        "    fit_fully_bayesian_model_nuts(gp, warmup_steps=WARMUP_STEPS, num_samples=NUM_SAMPLES, disable_progbar=True)\n",
        "\n",
        "    EI = qExpectedImprovement(model=gp, best_f=train_Y.max())\n",
        "    candidates, acq_values = optimize_acqf(\n",
        "        EI,\n",
        "        bounds=torch.cat((torch.zeros(1, DIM), torch.ones(1, DIM))).to(**tkwargs),\n",
        "        q=BATCH_SIZE,\n",
        "        num_restarts=10,\n",
        "        raw_samples=1024,\n",
        "    )\n",
        "\n",
        "    Y_next = torch.cat([branin_emb(x).unsqueeze(-1) for x in candidates]).unsqueeze(-1)\n",
        "    if Y_next.min() < Y.min():\n",
        "        ind_best = Y_next.argmin()\n",
        "        x0, x1 = candidates[ind_best, :2].tolist()\n",
        "        print(f\"{i + 1}) New best: {Y_next[ind_best].item():.3f} @ \" f\"[{x0:.3f}, {x1:.3f}]\")\n",
        "    X = torch.cat((X, candidates))\n",
        "    Y = torch.cat((Y, Y_next))"
      ],
      "execution_count": 12,
      "outputs": [
        {
          "output_type": "stream",
          "name": "stdout",
          "text": [
            "Best initial point: 13.121\n"
          ]
        },
        {
          "output_type": "stream",
          "name": "stdout",
          "text": [
            "1) New best: 10.961 @ [1.000, 0.000]\n"
          ]
        },
        {
          "output_type": "stream",
          "name": "stdout",
          "text": [
            "2) New best: 10.254 @ [1.000, 0.392]\n"
          ]
        },
        {
          "output_type": "stream",
          "name": "stdout",
          "text": [
            "4) New best: 2.011 @ [1.000, 0.183]\n"
          ]
        },
        {
          "output_type": "stream",
          "name": "stdout",
          "text": [
            "5) New best: 0.478 @ [0.954, 0.169]\n"
          ]
        },
        {
          "output_type": "stream",
          "name": "stdout",
          "text": [
            "6) New best: 0.408 @ [0.546, 0.152]\n"
          ]
        },
        {
          "output_type": "stream",
          "name": "stdout",
          "text": [
            "9) New best: 0.398 @ [0.543, 0.150]\n"
          ]
        },
        {
          "output_type": "stream",
          "name": "stdout",
          "text": [
            "10) New best: 0.398 @ [0.124, 0.818]\n"
          ]
        }
      ]
    },
    {
      "cell_type": "markdown",
      "metadata": {
        "originalKey": "a9704a99-0712-40bb-a263-6798e0925291",
        "showInput": false,
        "customInput": null,
        "code_folding": [],
        "hidden_ranges": []
      },
      "source": [
        "## Plot the results\n",
        "\n",
        "We can see that we were able to get close to the global optimium of $\\approx 0.398$ after 50 function evaluations.\n",
        ""
      ],
      "attachments": {}
    },
    {
      "cell_type": "code",
      "metadata": {
        "originalKey": "83549b00-1c36-45e2-a64e-5f95c2a8ece4",
        "showInput": true,
        "customInput": null,
        "code_folding": [],
        "hidden_ranges": [],
        "collapsed": false,
        "requestMsgId": "513faa58-7de2-47aa-8e58-e64883a4f871",
        "executionStartTime": 1648102354289,
        "executionStopTime": 1648102354770
      },
      "source": [
        "import matplotlib.pyplot as plt\n",
        "import numpy as np\n",
        "\n",
        "\n",
        "Y_np = Y.cpu().numpy()\n",
        "fig, ax = plt.subplots(figsize=(8, 6))\n",
        "ax.plot(np.minimum.accumulate(Y_np), color=\"b\", label=\"SAASBO\")\n",
        "ax.plot([0, len(Y_np)], [0.398, 0.398], \"--\", c=\"g\", lw=3, label=\"Optimal value\")\n",
        "ax.grid(True)\n",
        "ax.set_title(f\"Branin, D = {DIM}\", fontsize=20)\n",
        "ax.set_xlabel(\"Number of evaluations\", fontsize=20)\n",
        "ax.set_xlim([0, len(Y_np)])\n",
        "ax.set_ylabel(\"Best value found\", fontsize=20)\n",
        "ax.set_ylim([0, 8])\n",
        "ax.legend(fontsize=18)\n",
        "plt.show()"
      ],
      "execution_count": 13,
      "outputs": [
        {
          "output_type": "display_data",
          "data": {
            "text/plain": "<Figure size 576x432 with 1 Axes>",
            "image/png": "[encoded data removed]"
          },
          "metadata": {
            "bento_obj_id": "139860068742336",
            "needs_background": "light"
          }
        }
      ]
    },
    {
      "cell_type": "markdown",
      "metadata": {
        "originalKey": "838dd7ad-b1d4-4781-89aa-781328aff71d",
        "showInput": false,
        "customInput": null,
        "code_folding": [],
        "hidden_ranges": []
      },
      "source": [
        "## Look a the lengthscales from the final model\n",
        "\n",
        "As SAASBO places strong priors on the inverse lengthscales, we only expect parameters \n",
        "0 and 1 to be identified as important by the model since the other parameters have no effect.\n",
        "We can confirm that this is the case below as the lengthscales of parameters 0 and 1 are \n",
        "small with all other lengthscales being large."
      ],
      "attachments": {}
    },
    {
      "cell_type": "code",
      "metadata": {
        "originalKey": "724ea9c5-0f49-4281-b3e9-7d8bbffcdbe3",
        "showInput": true,
        "customInput": null,
        "collapsed": false,
        "requestMsgId": "b9f5809e-a0fb-4091-b731-430f19a8c910",
        "executionStartTime": 1648102354791,
        "executionStopTime": 1648102354929,
        "code_folding": [],
        "hidden_ranges": []
      },
      "source": [
        "median_lengthscales = gp.median_lengthscale\n",
        "for i in median_lengthscales.argsort()[:10]:\n",
        "    print(f\"Parameter {i:2}) Median lengthscale = {median_lengthscales[i].item():.2e}\")"
      ],
      "execution_count": 14,
      "outputs": [
        {
          "output_type": "stream",
          "name": "stdout",
          "text": [
            "Parameter  0) Median lengthscale = 8.03e-01\nParameter  1) Median lengthscale = 2.41e+00\nParameter 12) Median lengthscale = 1.48e+04\nParameter 23) Median lengthscale = 1.48e+04\nParameter 11) Median lengthscale = 1.60e+04\nParameter 38) Median lengthscale = 1.72e+04\nParameter  7) Median lengthscale = 1.76e+04\nParameter  6) Median lengthscale = 1.78e+04\nParameter 24) Median lengthscale = 1.83e+04\nParameter 41) Median lengthscale = 2.00e+04\n"
          ]
        }
      ]
    },
    {
      "cell_type": "code",
      "metadata": {
        "originalKey": "42d450ad-0e08-4833-8711-ad8fb48e1f5f",
        "showInput": true,
        "customInput": null,
        "collapsed": false,
        "requestMsgId": "2808f3bf-d754-4033-b3a4-1c8e116463f0",
        "executionStopTime": 1648102354940,
        "executionStartTime": 1648102354936
      },
      "source": [
        ""
      ],
      "execution_count": 14,
      "outputs": []
    }
  ]
}
