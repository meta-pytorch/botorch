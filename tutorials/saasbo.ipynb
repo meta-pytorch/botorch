{
  "metadata": {
    "kernelspec": {
      "display_name": "python3",
      "language": "python",
      "name": "python3",
      "metadata": {
        "is_prebuilt": false,
        "kernel_name": "ae_experimental_local",
        "cinder_runtime": false
      }
    },
    "last_server_session_id": "013bb606-2252-408b-aae3-4934698a16e4",
    "last_kernel_id": "24f99c26-f208-4f53-b8de-5c24452eea87",
    "last_base_url": "https://devbig817.ftw3.facebook.com:8090/",
    "last_msg_id": "5600bf00-17f5c49ebc3a0da7caf2ef78_625",
    "outputWidgetContext": {}
  },
  "nbformat": 4,
  "nbformat_minor": 2,
  "cells": [
    {
      "cell_type": "markdown",
      "metadata": {
        "originalKey": "501041cc-0473-4971-bff9-fd6e92e1eae4",
        "showInput": false,
        "customInput": null,
        "code_folding": [],
        "hidden_ranges": []
      },
      "source": [
        "## High-Dimensional sample-efficient Bayesian Optimization with SAASBO\n",
        "\n",
        "This tutorial shows how to use the Sparse Axis-Aligned Subspace Bayesian Optimization (SAASBO) \n",
        "method for high-dimensional Bayesian optimization [1]. SAASBO places strong priors on the \n",
        "inverse lengthscales to avoid overfitting in high-dimensional spaces. Specifically, SAASBO \n",
        "uses a hierarchical sparsity prior consisting of a global shrinkage parameter \n",
        "$\\tau \\sim \\mathcal{HC}(\\beta)$ and inverse lengthscales $\\rho_d \\sim \\mathcal{HC}(\\tau)$ \n",
        "for $d=1, \\ldots, D$, where $\\mathcal{HC}$ is the half-Cauchy distribution. \n",
        "While half-Cauchy priors favor values near zero they also have heavy tails, which allows the \n",
        "inverse lengthscales of the most important parameters to escape zero. To perform inference in the \n",
        "SAAS model we use Hamiltonian Monte Carlo (HMC) as we found that to outperform MAP inference.\n",
        "\n",
        "We find that SAASBO performs well on problems with hundreds of dimensions. As we rely on HMC \n",
        "and in particular the No-U-Turn-Sampler (NUTS) for inference, the overhead of SAASBO scales \n",
        "cubically with the number of datapoints. Depending on the problem, using more than a few hundred\n",
        "evaluations may not be feasible as SAASBO is designed for problems with a limited evaluation budget.\n",
        "\n",
        "[1]: [D. Eriksson, M. Jankowiak. High-Dimensional Bayesian Optimization with Sparse Axis-Aligned Subspaces. Proceedings of the Thirty-Seventh Conference on Uncertainty in Artificial Intelligence, 2021.](https://proceedings.mlr.press/v161/eriksson21a.html)"
      ],
      "attachments": {}
    },
    {
      "cell_type": "code",
      "metadata": {
        "collapsed": false,
        "originalKey": "4c1d86e2-0514-408a-b288-0f1ac43217ce",
        "code_folding": [],
        "hidden_ranges": [],
        "requestMsgId": "4c1d86e2-0514-408a-b288-0f1ac43217ce",
        "executionStartTime": 1648572855584,
        "executionStopTime": 1648572855720
      },
      "source": [
        "import os\n",
        "\n",
        "import matplotlib.pyplot as plt\n",
        "import numpy as np\n",
        "import torch\n",
        "from botorch import fit_fully_bayesian_model_nuts\n",
        "from botorch.acquisition import qExpectedImprovement\n",
        "from botorch.models.fully_bayesian import SaasFullyBayesianSingleTaskGP\n",
        "from botorch.models.transforms import Standardize\n",
        "from botorch.optim import optimize_acqf\n",
        "from botorch.test_functions import Branin\n",
        "from torch.quasirandom import SobolEngine\n",
        "\n",
        "\n",
        "%matplotlib inline\n",
        "SMOKE_TEST = os.environ.get(\"SMOKE_TEST\")"
      ],
      "execution_count": 1,
      "outputs": []
    },
    {
      "cell_type": "code",
      "metadata": {
        "originalKey": "0e957c3e-f8ba-4b48-ac65-c40de2b07e92",
        "showInput": true,
        "customInput": null,
        "code_folding": [],
        "hidden_ranges": [],
        "collapsed": false,
        "requestMsgId": "0e957c3e-f8ba-4b48-ac65-c40de2b07e92",
        "executionStartTime": 1648572855819,
        "executionStopTime": 1648572855823
      },
      "source": [
        "tkwargs = {\"device\": torch.device(\"cuda\" if torch.cuda.is_available() else \"cpu\"), \"dtype\": torch.double}"
      ],
      "execution_count": 2,
      "outputs": []
    },
    {
      "cell_type": "markdown",
      "metadata": {
        "originalKey": "af8beafd-352c-421d-8797-7660ddfa39f3",
        "showInput": false,
        "customInput": null,
        "code_folding": [],
        "hidden_ranges": []
      },
      "source": [
        "## Simple model fitting\n",
        "We generate a simple function that only depends on the first parameter and show that the SAAS\n",
        "model sets all other lengthscale to large values."
      ],
      "attachments": {}
    },
    {
      "cell_type": "code",
      "metadata": {
        "originalKey": "5310bd69-fe22-4a4b-9720-46ee5030b0a2",
        "showInput": true,
        "customInput": null,
        "code_folding": [],
        "hidden_ranges": [],
        "collapsed": false,
        "requestMsgId": "5310bd69-fe22-4a4b-9720-46ee5030b0a2",
        "executionStartTime": 1648572855830,
        "executionStopTime": 1648572855921
      },
      "source": [
        "train_X = torch.rand(10, 4, **tkwargs)\n",
        "test_X = torch.rand(5, 4, **tkwargs)\n",
        "train_Y = torch.sin(train_X[:, :1])\n",
        "test_Y = torch.sin(test_X[:, :1])"
      ],
      "execution_count": 3,
      "outputs": []
    },
    {
      "cell_type": "code",
      "metadata": {
        "originalKey": "47fd8c46-7e2d-4d2f-a9fe-128410a75714",
        "showInput": true,
        "customInput": null,
        "collapsed": false,
        "requestMsgId": "47fd8c46-7e2d-4d2f-a9fe-128410a75714",
        "executionStopTime": 1648572872637,
        "code_folding": [],
        "hidden_ranges": [],
        "executionStartTime": 1648572855948
      },
      "source": [
        "saas_gp = SaasFullyBayesianSingleTaskGP(train_X=train_X, train_Y=train_Y)\n",
        "fit_fully_bayesian_model_nuts(saas_gp)\n",
        "with torch.no_grad():\n",
        "    posterior = saas_gp.posterior(test_X, marginalize_over_mcmc_samples=True)"
      ],
      "execution_count": 4,
      "outputs": [
        {
          "output_type": "stream",
          "name": "stderr",
          "text": [
            "\rWarmup:   0%|          | 0/768 [00:00, ?it/s]",
            "\rWarmup:   0%|          | 1/768 [00:00,  5.63it/s, step size=3.60e+00, acc. prob=1.000]",
            "\rWarmup:   1%|          | 5/768 [00:00, 14.91it/s, step size=1.33e-01, acc. prob=0.603]",
            "\rWarmup:   1%|          | 7/768 [00:00, 15.37it/s, step size=3.81e-01, acc. prob=0.714]",
            "\rWarmup:   1%|          | 9/768 [00:00, 16.15it/s, step size=1.30e-01, acc. prob=0.696]",
            "\rWarmup:   2%|▏         | 13/768 [00:00, 21.61it/s, step size=3.51e-01, acc. prob=0.752]",
            "\rWarmup:   2%|▏         | 17/768 [00:00, 26.01it/s, step size=4.64e-01, acc. prob=0.768]",
            "\rWarmup:   3%|▎         | 21/768 [00:00, 26.03it/s, step size=4.04e-01, acc. prob=0.771]",
            "\rWarmup:   3%|▎         | 25/768 [00:01, 24.27it/s, step size=8.01e-02, acc. prob=0.752]",
            "\rWarmup:   4%|▎         | 28/768 [00:01, 19.16it/s, step size=3.96e-01, acc. prob=0.776]",
            "\rWarmup:   4%|▍         | 31/768 [00:01, 17.37it/s, step size=2.52e-01, acc. prob=0.773]",
            "\rWarmup:   5%|▍         | 36/768 [00:01, 20.17it/s, step size=2.35e-01, acc. prob=0.775]",
            "\rWarmup:   5%|▌         | 39/768 [00:01, 19.45it/s, step size=2.19e-01, acc. prob=0.776]",
            "\rWarmup:   5%|▌         | 42/768 [00:02, 17.20it/s, step size=2.53e-01, acc. prob=0.778]",
            "\rWarmup:   6%|▌         | 45/768 [00:02, 17.48it/s, step size=1.16e-01, acc. prob=0.772]",
            "\rWarmup:   6%|▌         | 47/768 [00:02, 17.16it/s, step size=2.55e-01, acc. prob=0.780]",
            "\rWarmup:   7%|▋         | 50/768 [00:02, 17.71it/s, step size=1.02e-01, acc. prob=0.773]",
            "\rWarmup:   7%|▋         | 52/768 [00:02, 15.16it/s, step size=2.62e-01, acc. prob=0.781]",
            "\rWarmup:   8%|▊         | 58/768 [00:02, 23.74it/s, step size=8.21e-01, acc. prob=0.791]",
            "\rWarmup:   8%|▊         | 61/768 [00:03, 23.68it/s, step size=1.29e-01, acc. prob=0.778]",
            "\rWarmup:   8%|▊         | 64/768 [00:03, 20.72it/s, step size=4.24e-01, acc. prob=0.787]",
            "\rWarmup:   9%|▊         | 67/768 [00:03, 18.43it/s, step size=2.03e-01, acc. prob=0.782]",
            "\rWarmup:   9%|▉         | 70/768 [00:03, 20.31it/s, step size=1.70e-01, acc. prob=0.782]",
            "\rWarmup:  10%|▉         | 73/768 [00:03, 19.26it/s, step size=2.33e-01, acc. prob=0.784]",
            "\rWarmup:  10%|▉         | 76/768 [00:03, 21.47it/s, step size=7.24e-02, acc. prob=0.777]",
            "\rWarmup:  10%|█         | 79/768 [00:04, 14.20it/s, step size=2.05e-01, acc. prob=0.784]",
            "\rWarmup:  11%|█         | 81/768 [00:04, 14.75it/s, step size=2.80e-01, acc. prob=0.786]",
            "\rWarmup:  11%|█         | 85/768 [00:04, 15.48it/s, step size=1.92e-01, acc. prob=0.784]",
            "\rWarmup:  11%|█▏        | 87/768 [00:04, 16.14it/s, step size=3.58e-01, acc. prob=0.788]",
            "\rWarmup:  12%|█▏        | 89/768 [00:04, 15.11it/s, step size=2.28e-01, acc. prob=0.786]",
            "\rWarmup:  12%|█▏        | 92/768 [00:05, 17.35it/s, step size=3.42e-01, acc. prob=0.789]",
            "\rWarmup:  13%|█▎        | 99/768 [00:05, 23.57it/s, step size=1.58e+00, acc. prob=0.786]",
            "\rWarmup:  13%|█▎        | 103/768 [00:05, 26.89it/s, step size=2.78e-01, acc. prob=0.773]",
            "\rWarmup:  14%|█▍        | 106/768 [00:05, 25.13it/s, step size=5.96e-01, acc. prob=0.777]",
            "\rWarmup:  14%|█▍        | 109/768 [00:05, 25.40it/s, step size=4.11e-01, acc. prob=0.777]",
            "\rWarmup:  15%|█▍        | 114/768 [00:05, 29.13it/s, step size=2.26e-01, acc. prob=0.776]",
            "\rWarmup:  15%|█▌        | 118/768 [00:05, 28.74it/s, step size=5.00e-01, acc. prob=0.778]",
            "\rWarmup:  16%|█▌        | 121/768 [00:05, 27.71it/s, step size=6.66e-02, acc. prob=0.773]",
            "\rWarmup:  16%|█▌        | 124/768 [00:06, 24.20it/s, step size=3.12e-01, acc. prob=0.778]",
            "\rWarmup:  17%|█▋        | 128/768 [00:06, 27.75it/s, step size=2.61e-01, acc. prob=0.778]",
            "\rWarmup:  17%|█▋        | 131/768 [00:06, 27.01it/s, step size=6.32e-01, acc. prob=0.780]",
            "\rWarmup:  18%|█▊        | 136/768 [00:06, 30.48it/s, step size=2.79e-01, acc. prob=0.778]",
            "\rWarmup:  18%|█▊        | 140/768 [00:06, 30.33it/s, step size=6.79e-01, acc. prob=0.781]",
            "\rWarmup:  19%|█▉        | 145/768 [00:06, 34.62it/s, step size=2.39e-01, acc. prob=0.778]",
            "\rWarmup:  20%|█▉        | 152/768 [00:06, 42.64it/s, step size=4.06e-01, acc. prob=0.770]",
            "\rWarmup:  21%|██        | 160/768 [00:06, 50.17it/s, step size=4.99e-01, acc. prob=0.773]",
            "\rWarmup:  22%|██▏       | 168/768 [00:07, 57.93it/s, step size=3.06e-01, acc. prob=0.773]",
            "\rWarmup:  23%|██▎       | 174/768 [00:07, 41.92it/s, step size=6.24e-01, acc. prob=0.775]",
            "\rWarmup:  23%|██▎       | 179/768 [00:07, 43.10it/s, step size=2.05e-01, acc. prob=0.773]",
            "\rWarmup:  24%|██▍       | 185/768 [00:07, 44.94it/s, step size=4.96e-01, acc. prob=0.775]",
            "\rWarmup:  25%|██▌       | 194/768 [00:07, 52.99it/s, step size=5.10e-01, acc. prob=0.776]",
            "\rWarmup:  26%|██▌       | 201/768 [00:07, 57.21it/s, step size=1.20e+00, acc. prob=0.778]",
            "\rWarmup:  27%|██▋       | 208/768 [00:07, 58.74it/s, step size=4.65e-01, acc. prob=0.777]",
            "\rWarmup:  28%|██▊       | 216/768 [00:08, 58.17it/s, step size=3.74e-01, acc. prob=0.777]",
            "\rWarmup:  29%|██▉       | 222/768 [00:08, 57.43it/s, step size=2.31e-01, acc. prob=0.776]",
            "\rWarmup:  30%|██▉       | 228/768 [00:08, 50.69it/s, step size=3.94e-01, acc. prob=0.778]",
            "\rWarmup:  31%|███       | 235/768 [00:08, 54.33it/s, step size=6.60e-01, acc. prob=0.779]",
            "\rWarmup:  31%|███▏      | 241/768 [00:08, 52.30it/s, step size=7.63e-01, acc. prob=0.780]",
            "\rWarmup:  32%|███▏      | 247/768 [00:08, 48.54it/s, step size=4.79e-01, acc. prob=0.779]",
            "\rWarmup:  33%|███▎      | 252/768 [00:08, 43.43it/s, step size=5.94e-01, acc. prob=0.779]",
            "\rWarmup:  34%|███▎      | 259/768 [00:08, 48.05it/s, step size=3.51e-01, acc. prob=0.779]",
            "\rWarmup:  34%|███▍      | 264/768 [00:09, 45.11it/s, step size=7.47e-01, acc. prob=0.780]",
            "\rWarmup:  35%|███▌      | 272/768 [00:09, 52.29it/s, step size=5.72e-01, acc. prob=0.780]",
            "\rWarmup:  36%|███▋      | 279/768 [00:09, 55.58it/s, step size=9.62e-01, acc. prob=0.781]",
            "\rWarmup:  37%|███▋      | 287/768 [00:09, 59.79it/s, step size=6.88e-01, acc. prob=0.781]",
            "\rWarmup:  38%|███▊      | 294/768 [00:09, 60.13it/s, step size=6.41e-01, acc. prob=0.782]",
            "\rWarmup:  39%|███▉      | 303/768 [00:09, 67.42it/s, step size=4.11e-01, acc. prob=0.782]",
            "\rWarmup:  40%|████      | 310/768 [00:09, 61.96it/s, step size=7.43e-01, acc. prob=0.783]",
            "\rWarmup:  41%|████▏     | 317/768 [00:09, 62.34it/s, step size=4.43e-01, acc. prob=0.782]",
            "\rWarmup:  42%|████▏     | 324/768 [00:09, 58.67it/s, step size=6.46e-01, acc. prob=0.783]",
            "\rWarmup:  43%|████▎     | 330/768 [00:10, 58.75it/s, step size=3.70e-01, acc. prob=0.783]",
            "\rWarmup:  44%|████▍     | 336/768 [00:10, 51.59it/s, step size=4.72e-01, acc. prob=0.783]",
            "\rWarmup:  45%|████▍     | 343/768 [00:10, 54.82it/s, step size=3.18e-01, acc. prob=0.783]",
            "\rWarmup:  46%|████▌     | 352/768 [00:10, 62.20it/s, step size=5.54e-01, acc. prob=0.784]",
            "\rWarmup:  47%|████▋     | 359/768 [00:10, 64.22it/s, step size=4.83e-01, acc. prob=0.784]",
            "\rWarmup:  48%|████▊     | 366/768 [00:10, 63.71it/s, step size=5.54e-01, acc. prob=0.785]",
            "\rWarmup:  49%|████▉     | 376/768 [00:10, 71.54it/s, step size=7.53e-01, acc. prob=0.785]",
            "\rWarmup:  50%|█████     | 384/768 [00:10, 71.66it/s, step size=4.23e-01, acc. prob=0.785]",
            "\rWarmup:  51%|█████     | 392/768 [00:10, 72.06it/s, step size=5.31e-01, acc. prob=0.785]",
            "\rWarmup:  52%|█████▏    | 400/768 [00:11, 73.51it/s, step size=6.69e-01, acc. prob=0.786]",
            "\rWarmup:  54%|█████▎    | 411/768 [00:11, 82.15it/s, step size=4.30e-01, acc. prob=0.786]",
            "\rWarmup:  55%|█████▍    | 420/768 [00:11, 64.59it/s, step size=5.30e-01, acc. prob=0.786]",
            "\rWarmup:  56%|█████▌    | 428/768 [00:11, 59.76it/s, step size=4.46e-01, acc. prob=0.786]",
            "\rWarmup:  57%|█████▋    | 435/768 [00:11, 59.58it/s, step size=4.72e-01, acc. prob=0.786]",
            "\rWarmup:  58%|█████▊    | 442/768 [00:11, 58.31it/s, step size=4.04e-01, acc. prob=0.786]",
            "\rWarmup:  58%|█████▊    | 449/768 [00:11, 60.86it/s, step size=8.09e-01, acc. prob=0.788]",
            "\rWarmup:  60%|█████▉    | 457/768 [00:12, 64.14it/s, step size=4.81e-01, acc. prob=0.787]",
            "\rWarmup:  60%|██████    | 464/768 [00:12, 63.38it/s, step size=3.19e-01, acc. prob=0.786]",
            "\rWarmup:  61%|██████▏   | 471/768 [00:12, 59.65it/s, step size=6.25e-01, acc. prob=0.787]",
            "\rWarmup:  62%|██████▏   | 478/768 [00:12, 60.88it/s, step size=1.15e+00, acc. prob=0.787]",
            "\rWarmup:  63%|██████▎   | 485/768 [00:12, 48.90it/s, step size=2.63e-01, acc. prob=0.786]",
            "\rWarmup:  64%|██████▍   | 491/768 [00:12, 47.54it/s, step size=4.21e-01, acc. prob=0.787]",
            "\rWarmup:  65%|██████▍   | 498/768 [00:12, 51.58it/s, step size=4.41e-01, acc. prob=0.787]",
            "\rWarmup:  66%|██████▌   | 504/768 [00:12, 52.79it/s, step size=3.92e-01, acc. prob=0.787]",
            "\rWarmup:  66%|██████▋   | 510/768 [00:13, 54.23it/s, step size=8.55e-01, acc. prob=0.788]",
            "\rSample:  67%|██████▋   | 517/768 [00:13, 58.36it/s, step size=5.16e-01, acc. prob=0.907]",
            "\rSample:  68%|██████▊   | 524/768 [00:13, 59.93it/s, step size=5.16e-01, acc. prob=0.846]",
            "\rSample:  69%|██████▉   | 531/768 [00:13, 62.50it/s, step size=5.16e-01, acc. prob=0.836]",
            "\rSample:  70%|███████   | 538/768 [00:13, 62.81it/s, step size=5.16e-01, acc. prob=0.843]",
            "\rSample:  71%|███████   | 545/768 [00:13, 63.14it/s, step size=5.16e-01, acc. prob=0.862]",
            "\rSample:  72%|███████▏  | 552/768 [00:13, 63.33it/s, step size=5.16e-01, acc. prob=0.877]",
            "\rSample:  73%|███████▎  | 559/768 [00:13, 63.45it/s, step size=5.16e-01, acc. prob=0.878]",
            "\rSample:  74%|███████▎  | 566/768 [00:13, 63.60it/s, step size=5.16e-01, acc. prob=0.872]",
            "\rSample:  75%|███████▍  | 573/768 [00:14, 63.59it/s, step size=5.16e-01, acc. prob=0.878]",
            "\rSample:  76%|███████▌  | 580/768 [00:14, 65.06it/s, step size=5.16e-01, acc. prob=0.884]",
            "\rSample:  76%|███████▋  | 587/768 [00:14, 64.64it/s, step size=5.16e-01, acc. prob=0.885]",
            "\rSample:  77%|███████▋  | 594/768 [00:14, 64.36it/s, step size=5.16e-01, acc. prob=0.879]",
            "\rSample:  78%|███████▊  | 601/768 [00:14, 64.13it/s, step size=5.16e-01, acc. prob=0.877]",
            "\rSample:  79%|███████▉  | 608/768 [00:14, 64.05it/s, step size=5.16e-01, acc. prob=0.878]",
            "\rSample:  80%|████████  | 615/768 [00:14, 63.93it/s, step size=5.16e-01, acc. prob=0.878]",
            "\rSample:  81%|████████  | 623/768 [00:14, 66.89it/s, step size=5.16e-01, acc. prob=0.880]",
            "\rSample:  82%|████████▏ | 630/768 [00:14, 65.82it/s, step size=5.16e-01, acc. prob=0.877]",
            "\rSample:  83%|████████▎ | 637/768 [00:15, 66.69it/s, step size=5.16e-01, acc. prob=0.878]",
            "\rSample:  84%|████████▍ | 645/768 [00:15, 68.91it/s, step size=5.16e-01, acc. prob=0.880]",
            "\rSample:  85%|████████▌ | 654/768 [00:15, 72.83it/s, step size=5.16e-01, acc. prob=0.882]",
            "\rSample:  86%|████████▋ | 664/768 [00:15, 78.42it/s, step size=5.16e-01, acc. prob=0.880]",
            "\rSample:  88%|████████▊ | 673/768 [00:15, 79.78it/s, step size=5.16e-01, acc. prob=0.879]",
            "\rSample:  89%|████████▉ | 682/768 [00:15, 80.75it/s, step size=5.16e-01, acc. prob=0.879]",
            "\rSample:  90%|████████▉ | 691/768 [00:15, 80.62it/s, step size=5.16e-01, acc. prob=0.875]",
            "\rSample:  91%|█████████ | 700/768 [00:15, 78.64it/s, step size=5.16e-01, acc. prob=0.873]",
            "\rSample:  92%|█████████▏| 709/768 [00:15, 81.12it/s, step size=5.16e-01, acc. prob=0.871]",
            "\rSample:  93%|█████████▎| 718/768 [00:15, 82.24it/s, step size=5.16e-01, acc. prob=0.874]",
            "\rSample:  95%|█████████▍| 727/768 [00:16, 78.89it/s, step size=5.16e-01, acc. prob=0.874]",
            "\rSample:  96%|█████████▌| 736/768 [00:16, 80.57it/s, step size=5.16e-01, acc. prob=0.876]",
            "\rSample:  97%|█████████▋| 745/768 [00:16, 83.11it/s, step size=5.16e-01, acc. prob=0.875]",
            "\rSample:  98%|█████████▊| 754/768 [00:16, 82.56it/s, step size=5.16e-01, acc. prob=0.876]",
            "\rSample:  99%|█████████▉| 764/768 [00:16, 85.28it/s, step size=5.16e-01, acc. prob=0.878]",
            "\rSample: 100%|██████████| 768/768 [00:16, 46.30it/s, step size=5.16e-01, acc. prob=0.878]",
            "\n"
          ]
        }
      ]
    },
    {
      "cell_type": "markdown",
      "metadata": {
        "originalKey": "95b94b84-8e46-4b0b-b078-48ece48df3e5",
        "showInput": false,
        "customInput": null,
        "code_folding": [],
        "hidden_ranges": []
      },
      "source": [
        "Test predictions are very close to the ground-truth"
      ],
      "attachments": {}
    },
    {
      "cell_type": "code",
      "metadata": {
        "originalKey": "5bc5e3dd-57b0-42e7-8172-5d4c2756cdaa",
        "showInput": true,
        "customInput": null,
        "code_folding": [],
        "hidden_ranges": [],
        "collapsed": false,
        "requestMsgId": "5bc5e3dd-57b0-42e7-8172-5d4c2756cdaa",
        "executionStartTime": 1648572872726,
        "executionStopTime": 1648572872737
      },
      "source": [
        "print(posterior.mean.squeeze(-1))\n",
        "print(test_Y.squeeze(-1))"
      ],
      "execution_count": 5,
      "outputs": [
        {
          "output_type": "stream",
          "name": "stdout",
          "text": [
            "tensor([0.6217, 0.0734, 0.2665, 0.7605, 0.6732], dtype=torch.float64)\ntensor([0.6218, 0.0741, 0.2660, 0.7601, 0.6759], dtype=torch.float64)\n"
          ]
        }
      ]
    },
    {
      "cell_type": "markdown",
      "metadata": {
        "originalKey": "5f4fa168-2662-499b-ac82-3ab122dfe2ad",
        "showInput": false,
        "customInput": null,
        "code_folding": [],
        "hidden_ranges": []
      },
      "source": [
        "The first feature has the smallest lengthscale"
      ],
      "attachments": {}
    },
    {
      "cell_type": "code",
      "metadata": {
        "originalKey": "6c090dd6-942a-40be-bb01-3b37fba51cad",
        "showInput": true,
        "customInput": null,
        "collapsed": false,
        "requestMsgId": "6c090dd6-942a-40be-bb01-3b37fba51cad",
        "executionStartTime": 1648572872832,
        "executionStopTime": 1648572872841,
        "code_folding": [],
        "hidden_ranges": []
      },
      "source": [
        "print(saas_gp.median_lengthscale)"
      ],
      "execution_count": 6,
      "outputs": [
        {
          "output_type": "stream",
          "name": "stdout",
          "text": [
            "tensor([  6.5470, 104.8640, 106.7488,  49.0426], dtype=torch.float64,\n       grad_fn=<SqueezeBackward1>)\n"
          ]
        }
      ]
    },
    {
      "cell_type": "markdown",
      "metadata": {
        "originalKey": "978d6058-bf82-4770-b9b9-56e0eace8e28",
        "showInput": false,
        "customInput": null,
        "code_folding": [],
        "hidden_ranges": []
      },
      "source": [
        "## Model fitting with fixed noise\n",
        "By default, we infer the unknown noise variance in the data. You can also pass in a known \n",
        "noise variance for each observation, which may be useful in cases where you for example\n",
        "know that the problem is noise-free and can then set the noise variance to a small value such as `1e-6`."
      ],
      "attachments": {}
    },
    {
      "cell_type": "code",
      "metadata": {
        "originalKey": "8c51c126-d561-4eba-8a7f-e58ed2339881",
        "showInput": true,
        "customInput": null,
        "code_folding": [],
        "hidden_ranges": [],
        "collapsed": false,
        "requestMsgId": "8c51c126-d561-4eba-8a7f-e58ed2339881",
        "executionStartTime": 1648572872938,
        "executionStopTime": 1648572887835
      },
      "source": [
        "saas_gp = SaasFullyBayesianSingleTaskGP(train_X=train_X, train_Y=train_Y, train_Yvar=torch.full_like(train_Y, 1e-6))\n",
        "fit_fully_bayesian_model_nuts(saas_gp)\n",
        "with torch.no_grad():\n",
        "    posterior = saas_gp.posterior(test_X, marginalize_over_mcmc_samples=True)"
      ],
      "execution_count": 7,
      "outputs": [
        {
          "output_type": "stream",
          "name": "stderr",
          "text": [
            "\rWarmup:   0%|          | 0/768 [00:00, ?it/s]",
            "\rWarmup:   0%|          | 2/768 [00:00, 19.77it/s, step size=4.60e-01, acc. prob=0.000]",
            "\rWarmup:   1%|          | 8/768 [00:00, 37.87it/s, step size=9.44e-02, acc. prob=0.587]",
            "\rWarmup:   2%|▏         | 12/768 [00:00, 24.16it/s, step size=2.44e-01, acc. prob=0.683]",
            "\rWarmup:   2%|▏         | 15/768 [00:00, 19.73it/s, step size=8.54e-02, acc. prob=0.683]",
            "\rWarmup:   2%|▏         | 18/768 [00:00, 15.70it/s, step size=4.61e-01, acc. prob=0.731]",
            "\rWarmup:   3%|▎         | 22/768 [00:01, 20.26it/s, step size=9.23e-02, acc. prob=0.717]",
            "\rWarmup:   3%|▎         | 25/768 [00:01, 20.04it/s, step size=4.71e-01, acc. prob=0.748]",
            "\rWarmup:   4%|▎         | 28/768 [00:01, 18.56it/s, step size=1.64e-01, acc. prob=0.738]",
            "\rWarmup:   4%|▍         | 31/768 [00:01, 19.37it/s, step size=3.62e-01, acc. prob=0.752]",
            "\rWarmup:   4%|▍         | 34/768 [00:01, 20.10it/s, step size=1.21e-01, acc. prob=0.743]",
            "\rWarmup:   5%|▍         | 37/768 [00:01, 20.50it/s, step size=5.85e-01, acc. prob=0.763]",
            "\rWarmup:   5%|▌         | 40/768 [00:01, 20.80it/s, step size=2.35e-01, acc. prob=0.756]",
            "\rWarmup:   6%|▌         | 43/768 [00:02, 22.39it/s, step size=1.86e-01, acc. prob=0.756]",
            "\rWarmup:   6%|▌         | 46/768 [00:02, 20.12it/s, step size=3.45e-01, acc. prob=0.764]",
            "\rWarmup:   7%|▋         | 50/768 [00:02, 23.99it/s, step size=1.99e-01, acc. prob=0.761]",
            "\rWarmup:   7%|▋         | 54/768 [00:02, 26.14it/s, step size=1.53e-01, acc. prob=0.761]",
            "\rWarmup:   7%|▋         | 57/768 [00:02, 24.68it/s, step size=3.35e-01, acc. prob=0.768]",
            "\rWarmup:   8%|▊         | 60/768 [00:02, 22.63it/s, step size=2.20e-01, acc. prob=0.766]",
            "\rWarmup:   8%|▊         | 63/768 [00:02, 23.96it/s, step size=1.27e-01, acc. prob=0.763]",
            "\rWarmup:   9%|▊         | 66/768 [00:03, 23.07it/s, step size=4.59e-01, acc. prob=0.773]",
            "\rWarmup:   9%|▉         | 70/768 [00:03, 26.20it/s, step size=2.16e-01, acc. prob=0.769]",
            "\rWarmup:  10%|▉         | 73/768 [00:03, 24.86it/s, step size=2.14e-01, acc. prob=0.770]",
            "\rWarmup:  10%|█         | 78/768 [00:03, 30.45it/s, step size=3.97e-01, acc. prob=0.775]",
            "\rWarmup:  11%|█         | 82/768 [00:03, 32.26it/s, step size=6.80e-02, acc. prob=0.765]",
            "\rWarmup:  11%|█         | 86/768 [00:03, 29.52it/s, step size=3.24e-01, acc. prob=0.775]",
            "\rWarmup:  12%|█▏        | 90/768 [00:03, 29.84it/s, step size=6.37e-02, acc. prob=0.766]",
            "\rWarmup:  12%|█▏        | 94/768 [00:04, 21.63it/s, step size=2.54e-01, acc. prob=0.775]",
            "\rWarmup:  13%|█▎        | 98/768 [00:04, 23.91it/s, step size=1.96e-01, acc. prob=0.774]",
            "\rWarmup:  13%|█▎        | 103/768 [00:04, 27.00it/s, step size=1.86e-01, acc. prob=0.763]",
            "\rWarmup:  14%|█▍        | 107/768 [00:04, 29.52it/s, step size=6.70e-01, acc. prob=0.769]",
            "\rWarmup:  14%|█▍        | 111/768 [00:04, 29.73it/s, step size=3.58e-01, acc. prob=0.768]",
            "\rWarmup:  15%|█▌        | 116/768 [00:04, 33.39it/s, step size=8.05e-01, acc. prob=0.772]",
            "\rWarmup:  16%|█▌        | 121/768 [00:04, 37.35it/s, step size=1.91e-01, acc. prob=0.769]",
            "\rWarmup:  16%|█▋        | 126/768 [00:05, 33.19it/s, step size=2.01e-01, acc. prob=0.770]",
            "\rWarmup:  17%|█▋        | 131/768 [00:05, 33.40it/s, step size=4.82e-01, acc. prob=0.773]",
            "\rWarmup:  18%|█▊        | 136/768 [00:05, 37.06it/s, step size=7.39e-01, acc. prob=0.775]",
            "\rWarmup:  19%|█▊        | 143/768 [00:05, 36.66it/s, step size=2.56e-01, acc. prob=0.773]",
            "\rWarmup:  20%|█▉        | 153/768 [00:05, 49.60it/s, step size=3.47e-01, acc. prob=0.765]",
            "\rWarmup:  21%|██        | 159/768 [00:05, 49.23it/s, step size=4.99e-01, acc. prob=0.768]",
            "\rWarmup:  22%|██▏       | 166/768 [00:05, 52.66it/s, step size=6.61e-01, acc. prob=0.769]",
            "\rWarmup:  23%|██▎       | 173/768 [00:05, 56.81it/s, step size=4.92e-01, acc. prob=0.770]",
            "\rWarmup:  23%|██▎       | 179/768 [00:06, 52.67it/s, step size=5.94e-01, acc. prob=0.771]",
            "\rWarmup:  24%|██▍       | 186/768 [00:06, 56.61it/s, step size=7.92e-01, acc. prob=0.772]",
            "\rWarmup:  25%|██▌       | 192/768 [00:06, 55.67it/s, step size=3.22e-01, acc. prob=0.771]",
            "\rWarmup:  26%|██▌       | 198/768 [00:06, 54.83it/s, step size=5.28e-01, acc. prob=0.772]",
            "\rWarmup:  27%|██▋       | 205/768 [00:06, 57.93it/s, step size=7.25e-01, acc. prob=0.773]",
            "\rWarmup:  27%|██▋       | 211/768 [00:06, 55.49it/s, step size=7.82e-01, acc. prob=0.774]",
            "\rWarmup:  28%|██▊       | 217/768 [00:06, 49.11it/s, step size=7.05e-01, acc. prob=0.774]",
            "\rWarmup:  29%|██▉       | 226/768 [00:06, 57.23it/s, step size=5.55e-01, acc. prob=0.774]",
            "\rWarmup:  30%|███       | 233/768 [00:06, 58.68it/s, step size=3.61e-01, acc. prob=0.774]",
            "\rWarmup:  31%|███▏      | 240/768 [00:07, 57.60it/s, step size=6.27e-01, acc. prob=0.776]",
            "\rWarmup:  32%|███▏      | 249/768 [00:07, 64.27it/s, step size=1.21e+00, acc. prob=0.776]",
            "\rWarmup:  34%|███▎      | 258/768 [00:07, 68.80it/s, step size=3.12e-01, acc. prob=0.772]",
            "\rWarmup:  35%|███▍      | 265/768 [00:07, 61.98it/s, step size=8.74e-01, acc. prob=0.774]",
            "\rWarmup:  36%|███▌      | 273/768 [00:07, 62.36it/s, step size=1.73e-01, acc. prob=0.773]",
            "\rWarmup:  36%|███▋      | 280/768 [00:07, 60.79it/s, step size=7.03e-01, acc. prob=0.775]",
            "\rWarmup:  37%|███▋      | 287/768 [00:07, 58.79it/s, step size=8.84e-01, acc. prob=0.776]",
            "\rWarmup:  38%|███▊      | 295/768 [00:07, 63.27it/s, step size=7.86e-01, acc. prob=0.776]",
            "\rWarmup:  39%|███▉      | 302/768 [00:08, 60.00it/s, step size=4.64e-01, acc. prob=0.776]",
            "\rWarmup:  40%|████      | 309/768 [00:08, 58.60it/s, step size=7.63e-01, acc. prob=0.777]",
            "\rWarmup:  41%|████      | 316/768 [00:08, 60.26it/s, step size=5.67e-01, acc. prob=0.777]",
            "\rWarmup:  42%|████▏     | 325/768 [00:08, 66.41it/s, step size=4.73e-01, acc. prob=0.777]",
            "\rWarmup:  43%|████▎     | 332/768 [00:08, 66.94it/s, step size=4.34e-01, acc. prob=0.777]",
            "\rWarmup:  44%|████▍     | 340/768 [00:08, 69.24it/s, step size=3.06e-01, acc. prob=0.777]",
            "\rWarmup:  45%|████▌     | 349/768 [00:08, 75.00it/s, step size=4.74e-01, acc. prob=0.778]",
            "\rWarmup:  46%|████▋     | 357/768 [00:08, 74.33it/s, step size=8.53e-01, acc. prob=0.779]",
            "\rWarmup:  48%|████▊     | 366/768 [00:08, 76.30it/s, step size=3.27e-01, acc. prob=0.778]",
            "\rWarmup:  49%|████▊     | 374/768 [00:09, 74.42it/s, step size=6.84e-01, acc. prob=0.779]",
            "\rWarmup:  50%|████▉     | 382/768 [00:09, 71.29it/s, step size=7.40e-01, acc. prob=0.780]",
            "\rWarmup:  51%|█████     | 391/768 [00:09, 74.78it/s, step size=4.38e-01, acc. prob=0.779]",
            "\rWarmup:  52%|█████▏    | 399/768 [00:09, 72.84it/s, step size=3.46e-01, acc. prob=0.779]",
            "\rWarmup:  53%|█████▎    | 407/768 [00:09, 70.00it/s, step size=3.75e-01, acc. prob=0.780]",
            "\rWarmup:  54%|█████▍    | 415/768 [00:09, 60.78it/s, step size=4.62e-01, acc. prob=0.780]",
            "\rWarmup:  55%|█████▌    | 423/768 [00:09, 63.81it/s, step size=8.33e-01, acc. prob=0.781]",
            "\rWarmup:  56%|█████▌    | 430/768 [00:09, 62.17it/s, step size=6.79e-01, acc. prob=0.781]",
            "\rWarmup:  57%|█████▋    | 439/768 [00:10, 68.89it/s, step size=5.21e-01, acc. prob=0.781]",
            "\rWarmup:  58%|█████▊    | 447/768 [00:10, 69.33it/s, step size=3.59e-01, acc. prob=0.781]",
            "\rWarmup:  59%|█████▉    | 455/768 [00:10, 67.59it/s, step size=6.07e-01, acc. prob=0.782]",
            "\rWarmup:  60%|██████    | 462/768 [00:10, 63.10it/s, step size=5.05e+00, acc. prob=0.780]",
            "\rWarmup:  61%|██████    | 469/768 [00:10, 59.68it/s, step size=1.11e+00, acc. prob=0.780]",
            "\rWarmup:  62%|██████▏   | 476/768 [00:10, 44.59it/s, step size=5.73e-01, acc. prob=0.780]",
            "\rWarmup:  63%|██████▎   | 484/768 [00:10, 49.24it/s, step size=6.21e-01, acc. prob=0.780]",
            "\rWarmup:  64%|██████▍   | 492/768 [00:11, 50.17it/s, step size=2.70e-01, acc. prob=0.780]",
            "\rWarmup:  65%|██████▍   | 499/768 [00:11, 54.10it/s, step size=3.02e-01, acc. prob=0.780]",
            "\rWarmup:  66%|██████▌   | 507/768 [00:11, 59.08it/s, step size=1.45e-01, acc. prob=0.779]",
            "\rSample:  67%|██████▋   | 514/768 [00:11, 47.91it/s, step size=4.90e-01, acc. prob=0.701]",
            "\rSample:  68%|██████▊   | 522/768 [00:11, 54.49it/s, step size=4.90e-01, acc. prob=0.846]",
            "\rSample:  69%|██████▉   | 532/768 [00:11, 64.54it/s, step size=4.90e-01, acc. prob=0.850]",
            "\rSample:  71%|███████   | 542/768 [00:11, 69.76it/s, step size=4.90e-01, acc. prob=0.891]",
            "\rSample:  72%|███████▏  | 551/768 [00:11, 74.19it/s, step size=4.90e-01, acc. prob=0.902]",
            "\rSample:  73%|███████▎  | 559/768 [00:12, 75.26it/s, step size=4.90e-01, acc. prob=0.895]",
            "\rSample:  74%|███████▍  | 568/768 [00:12, 78.45it/s, step size=4.90e-01, acc. prob=0.903]",
            "\rSample:  75%|███████▌  | 577/768 [00:12, 75.87it/s, step size=4.90e-01, acc. prob=0.907]",
            "\rSample:  76%|███████▋  | 587/768 [00:12, 80.22it/s, step size=4.90e-01, acc. prob=0.907]",
            "\rSample:  78%|███████▊  | 596/768 [00:12, 80.93it/s, step size=4.90e-01, acc. prob=0.908]",
            "\rSample:  79%|███████▉  | 605/768 [00:12, 83.24it/s, step size=4.90e-01, acc. prob=0.908]",
            "\rSample:  80%|████████  | 615/768 [00:12, 86.72it/s, step size=4.90e-01, acc. prob=0.909]",
            "\rSample:  81%|████████▏ | 625/768 [00:12, 87.73it/s, step size=4.90e-01, acc. prob=0.905]",
            "\rSample:  83%|████████▎ | 635/768 [00:12, 90.80it/s, step size=4.90e-01, acc. prob=0.906]",
            "\rSample:  84%|████████▍ | 645/768 [00:13, 90.44it/s, step size=4.90e-01, acc. prob=0.909]",
            "\rSample:  85%|████████▌ | 655/768 [00:13, 86.05it/s, step size=4.90e-01, acc. prob=0.905]",
            "\rSample:  86%|████████▋ | 664/768 [00:13, 81.41it/s, step size=4.90e-01, acc. prob=0.907]",
            "\rSample:  88%|████████▊ | 673/768 [00:13, 81.35it/s, step size=4.90e-01, acc. prob=0.905]",
            "\rSample:  89%|████████▉ | 683/768 [00:13, 84.87it/s, step size=4.90e-01, acc. prob=0.908]",
            "\rSample:  90%|█████████ | 692/768 [00:13, 81.31it/s, step size=4.90e-01, acc. prob=0.907]",
            "\rSample:  91%|█████████▏| 701/768 [00:13, 69.17it/s, step size=4.90e-01, acc. prob=0.905]",
            "\rSample:  92%|█████████▏| 709/768 [00:13, 69.04it/s, step size=4.90e-01, acc. prob=0.907]",
            "\rSample:  93%|█████████▎| 717/768 [00:14, 68.92it/s, step size=4.90e-01, acc. prob=0.909]",
            "\rSample:  94%|█████████▍| 725/768 [00:14, 66.31it/s, step size=4.90e-01, acc. prob=0.909]",
            "\rSample:  95%|█████████▌| 732/768 [00:14, 66.83it/s, step size=4.90e-01, acc. prob=0.910]",
            "\rSample:  96%|█████████▌| 739/768 [00:14, 62.23it/s, step size=4.90e-01, acc. prob=0.910]",
            "\rSample:  97%|█████████▋| 746/768 [00:14, 61.43it/s, step size=4.90e-01, acc. prob=0.911]",
            "\rSample:  98%|█████████▊| 754/768 [00:14, 64.85it/s, step size=4.90e-01, acc. prob=0.912]",
            "\rSample:  99%|█████████▉| 761/768 [00:14, 65.87it/s, step size=4.90e-01, acc. prob=0.913]",
            "\rSample: 100%|██████████| 768/768 [00:14, 66.63it/s, step size=4.90e-01, acc. prob=0.914]",
            "\rSample: 100%|██████████| 768/768 [00:14, 51.77it/s, step size=4.90e-01, acc. prob=0.914]",
            "\n"
          ]
        }
      ]
    },
    {
      "cell_type": "code",
      "metadata": {
        "originalKey": "ed60cf96-a7a8-49d9-98d1-e332bd3581c8",
        "showInput": true,
        "customInput": null,
        "collapsed": false,
        "requestMsgId": "ed60cf96-a7a8-49d9-98d1-e332bd3581c8",
        "executionStartTime": 1648572887910,
        "executionStopTime": 1648572887969,
        "code_folding": [],
        "hidden_ranges": []
      },
      "source": [
        "print(posterior.mean.squeeze(-1))\n",
        "print(test_Y.squeeze(-1))"
      ],
      "execution_count": 8,
      "outputs": [
        {
          "output_type": "stream",
          "name": "stdout",
          "text": [
            "tensor([0.6218, 0.0738, 0.2656, 0.7602, 0.6739], dtype=torch.float64)\ntensor([0.6218, 0.0741, 0.2660, 0.7601, 0.6759], dtype=torch.float64)\n"
          ]
        }
      ]
    },
    {
      "cell_type": "code",
      "metadata": {
        "originalKey": "3ea66982-f896-44c1-9189-77738a84243e",
        "showInput": true,
        "customInput": null,
        "code_folding": [],
        "hidden_ranges": [],
        "collapsed": false,
        "requestMsgId": "3ea66982-f896-44c1-9189-77738a84243e",
        "executionStartTime": 1648572888016,
        "executionStopTime": 1648572888075
      },
      "source": [
        "print(saas_gp.median_lengthscale)"
      ],
      "execution_count": 9,
      "outputs": [
        {
          "output_type": "stream",
          "name": "stdout",
          "text": [
            "tensor([  5.2253, 101.2994,  48.6106,  82.2288], dtype=torch.float64,\n       grad_fn=<SqueezeBackward1>)\n"
          ]
        }
      ]
    },
    {
      "cell_type": "markdown",
      "metadata": {
        "originalKey": "d9bec8be-2acd-40b8-aebb-612b62bbdfc3",
        "showInput": false,
        "customInput": null,
        "code_folding": [],
        "hidden_ranges": [],
        "collapsed": false,
        "requestMsgId": "d9bec8be-2acd-40b8-aebb-612b62bbdfc3",
        "executionStartTime": 1644277314184,
        "executionStopTime": 1644277314189
      },
      "source": [
        "## Optimize Branin embedded in a 50D space\n",
        "We take the standard 2D Branin problem and embed it in a 50D space. In particular,\n",
        "we let dimensions 0 and 1 correspond to the true dimensions. We will show that\n",
        "SAASBO is able to identify the important dimensions and efficiently optimize this function.\n",
        "We work with the domain $[0, 1]^d$ and unnormalize the inputs to the true domain of Branin \n",
        "before evaluating the function.\n",
        "\n",
        "The time to fit the SAAS model can be decreased by lowering\n",
        "`WARMUP_STEPS` and `NUM_SAMPLES`. We recommend using 512 warmup steps and 256 samples when\n",
        "possible and to not use fewer than 256 warmup steps and 128 samples. By default, we only\n",
        "keep each 16th sample which with 256 samples results in 32 hyperparameter samples.\n",
        "We average over these samples when computing the acquisition function."
      ],
      "attachments": {}
    },
    {
      "cell_type": "code",
      "metadata": {
        "originalKey": "f23b1121-e551-4a32-a1d4-e3e431079e3a",
        "showInput": true,
        "customInput": null,
        "code_folding": [],
        "hidden_ranges": [],
        "collapsed": false,
        "requestMsgId": "f23b1121-e551-4a32-a1d4-e3e431079e3a",
        "executionStartTime": 1648572888123,
        "executionStopTime": 1648572888176
      },
      "source": [
        "branin = Branin().to(**tkwargs)\n",
        "\n",
        "\n",
        "def branin_emb(x):\n",
        "    \"\"\"x is assumed to be in [0, 1]^d\"\"\"\n",
        "    lb, ub = branin.bounds\n",
        "    return branin(lb + (ub - lb) * x[..., :2])"
      ],
      "execution_count": 10,
      "outputs": []
    },
    {
      "cell_type": "code",
      "metadata": {
        "originalKey": "e0e995b4-f870-49d4-86ed-07bcb15d5485",
        "showInput": true,
        "customInput": null,
        "code_folding": [],
        "hidden_ranges": [],
        "collapsed": false,
        "requestMsgId": "e0e995b4-f870-49d4-86ed-07bcb15d5485",
        "executionStartTime": 1648572888228,
        "executionStopTime": 1648572888286
      },
      "source": [
        "DIM = 50 if not SMOKE_TEST else 10\n",
        "\n",
        "# Evaluation budget\n",
        "N_INIT = 10\n",
        "N_ITERATIONS = 10 if not SMOKE_TEST else 1\n",
        "BATCH_SIZE = 4 if not SMOKE_TEST else 1\n",
        "print(f\"Using a total of {N_INIT + BATCH_SIZE * N_ITERATIONS} function evaluations\")\n",
        "\n",
        "# Settings for NUTS\n",
        "WARMUP_STEPS = 512 if not SMOKE_TEST else 32\n",
        "NUM_SAMPLES = 256 if not SMOKE_TEST else 16\n",
        "THINNING = 16"
      ],
      "execution_count": 11,
      "outputs": [
        {
          "output_type": "stream",
          "name": "stdout",
          "text": [
            "Using a total of 50 function evaluations\n"
          ]
        }
      ]
    },
    {
      "cell_type": "markdown",
      "metadata": {
        "originalKey": "27fd793f-18ee-49cb-9aa5-c8cd78b0b807",
        "showInput": false,
        "customInput": null,
        "code_folding": [],
        "hidden_ranges": []
      },
      "source": [
        "### Run the optimization\n",
        "We use 10 initial Sobol points followed by 10 iterations of BO using a batch size of 4, \n",
        "which results in a total of 50 function evaluations. As our goal is to minimize Branin, we flip\n",
        "the sign of the function values before fitting the SAAS model as the BoTorch acquisition\n",
        "functions assume maximization."
      ],
      "attachments": {}
    },
    {
      "cell_type": "code",
      "metadata": {
        "originalKey": "2bfbdd07-5d55-4e21-9fbb-6610f1bfbce2",
        "showInput": true,
        "customInput": null,
        "collapsed": false,
        "requestMsgId": "2bfbdd07-5d55-4e21-9fbb-6610f1bfbce2",
        "executionStartTime": 1648572888335,
        "executionStopTime": 1648573670634,
        "code_folding": [],
        "hidden_ranges": []
      },
      "source": [
        "X = SobolEngine(dimension=DIM, scramble=True, seed=0).draw(N_INIT).to(**tkwargs)\n",
        "Y = branin_emb(X).unsqueeze(-1)\n",
        "print(f\"Best initial point: {Y.min().item():.3f}\")\n",
        "\n",
        "for i in range(N_ITERATIONS):\n",
        "    train_Y = -1 * Y  # Flip the sign since we want to minimize f(x)\n",
        "    gp = SaasFullyBayesianSingleTaskGP(\n",
        "        train_X=X, train_Y=train_Y, train_Yvar=torch.full_like(train_Y, 1e-6), outcome_transform=Standardize(m=1)\n",
        "    )\n",
        "    fit_fully_bayesian_model_nuts(gp, warmup_steps=WARMUP_STEPS, num_samples=NUM_SAMPLES, disable_progbar=True)\n",
        "\n",
        "    EI = qExpectedImprovement(model=gp, best_f=train_Y.max())\n",
        "    candidates, acq_values = optimize_acqf(\n",
        "        EI,\n",
        "        bounds=torch.cat((torch.zeros(1, DIM), torch.ones(1, DIM))).to(**tkwargs),\n",
        "        q=BATCH_SIZE,\n",
        "        num_restarts=10,\n",
        "        raw_samples=1024,\n",
        "    )\n",
        "\n",
        "    Y_next = torch.cat([branin_emb(x).unsqueeze(-1) for x in candidates]).unsqueeze(-1)\n",
        "    if Y_next.min() < Y.min():\n",
        "        ind_best = Y_next.argmin()\n",
        "        x0, x1 = candidates[ind_best, :2].tolist()\n",
        "        print(f\"{i + 1}) New best: {Y_next[ind_best].item():.3f} @ \" f\"[{x0:.3f}, {x1:.3f}]\")\n",
        "    X = torch.cat((X, candidates))\n",
        "    Y = torch.cat((Y, Y_next))"
      ],
      "execution_count": 12,
      "outputs": [
        {
          "output_type": "stream",
          "name": "stdout",
          "text": [
            "Best initial point: 13.121\n"
          ]
        },
        {
          "output_type": "stream",
          "name": "stdout",
          "text": [
            "3) New best: 9.978 @ [0.878, 0.224]\n"
          ]
        },
        {
          "output_type": "stream",
          "name": "stdout",
          "text": [
            "4) New best: 7.561 @ [0.455, 0.246]\n"
          ]
        },
        {
          "output_type": "stream",
          "name": "stdout",
          "text": [
            "5) New best: 1.983 @ [0.161, 0.708]\n"
          ]
        },
        {
          "output_type": "stream",
          "name": "stdout",
          "text": [
            "6) New best: 0.418 @ [0.539, 0.157]\n"
          ]
        },
        {
          "output_type": "stream",
          "name": "stdout",
          "text": [
            "7) New best: 0.400 @ [0.960, 0.165]\n"
          ]
        }
      ]
    },
    {
      "cell_type": "markdown",
      "metadata": {
        "originalKey": "a9704a99-0712-40bb-a263-6798e0925291",
        "showInput": false,
        "customInput": null,
        "code_folding": [],
        "hidden_ranges": []
      },
      "source": [
        "## Plot the results\n",
        "\n",
        "We can see that we were able to get close to the global optimium of $\\approx 0.398$ after 50 function evaluations.\n",
        ""
      ],
      "attachments": {}
    },
    {
      "cell_type": "code",
      "metadata": {
        "originalKey": "7e33af23-6d14-45f0-b57e-64e851d9b613",
        "showInput": true,
        "customInput": null,
        "code_folding": [],
        "hidden_ranges": [],
        "collapsed": false,
        "requestMsgId": "7e33af23-6d14-45f0-b57e-64e851d9b613",
        "executionStartTime": 1648573670713,
        "executionStopTime": 1648573671120
      },
      "source": [
        "Y_np = Y.cpu().numpy()\n",
        "fig, ax = plt.subplots(figsize=(8, 6))\n",
        "ax.plot(np.minimum.accumulate(Y_np), color=\"b\", label=\"SAASBO\")\n",
        "ax.plot([0, len(Y_np)], [0.398, 0.398], \"--\", c=\"g\", lw=3, label=\"Optimal value\")\n",
        "ax.grid(True)\n",
        "ax.set_title(f\"Branin, D = {DIM}\", fontsize=20)\n",
        "ax.set_xlabel(\"Number of evaluations\", fontsize=20)\n",
        "ax.set_xlim([0, len(Y_np)])\n",
        "ax.set_ylabel(\"Best value found\", fontsize=20)\n",
        "ax.set_ylim([0, 8])\n",
        "ax.legend(fontsize=18)\n",
        "plt.show()"
      ],
      "execution_count": 13,
      "outputs": [
        {
          "output_type": "display_data",
          "data": {
            "text/plain": "<Figure size 576x432 with 1 Axes>",
            "image/png": "[encoded data removed]"
          },
          "metadata": {
            "bento_obj_id": "139935108444800",
            "needs_background": "light"
          }
        }
      ]
    },
    {
      "cell_type": "markdown",
      "metadata": {
        "originalKey": "d81134ff-cec6-45cb-92bf-4170f428af40",
        "showInput": false,
        "customInput": null,
        "code_folding": [],
        "hidden_ranges": []
      },
      "source": [
        "## Predict on some test points\n",
        "We fit a model using the 50 datapoints collected by SAASBO and predict on 50 test \n",
        "points in order to see how well the SAAS model predicts out-of-sample.\n",
        "The plot shows the mean and a 95% confidence interval for each test point."
      ],
      "attachments": {}
    },
    {
      "cell_type": "code",
      "metadata": {
        "originalKey": "dba74ac5-2693-45e1-bcc7-79b08bb4c10b",
        "showInput": true,
        "customInput": null,
        "code_folding": [],
        "hidden_ranges": [],
        "collapsed": false,
        "requestMsgId": "dba74ac5-2693-45e1-bcc7-79b08bb4c10b",
        "executionStartTime": 1648573671128,
        "executionStopTime": 1648573729692
      },
      "source": [
        "gp = SaasFullyBayesianSingleTaskGP(\n",
        "    train_X=X, train_Y=Y, train_Yvar=torch.full_like(Y, 1e-6), outcome_transform=Standardize(m=1)\n",
        ")\n",
        "fit_fully_bayesian_model_nuts(gp, warmup_steps=WARMUP_STEPS, num_samples=NUM_SAMPLES, disable_progbar=True)"
      ],
      "execution_count": 14,
      "outputs": []
    },
    {
      "cell_type": "code",
      "metadata": {
        "originalKey": "90e8dad6-db54-4400-af17-d7e20bfa7703",
        "showInput": true,
        "customInput": null,
        "code_folding": [],
        "hidden_ranges": [],
        "collapsed": false,
        "requestMsgId": "90e8dad6-db54-4400-af17-d7e20bfa7703",
        "executionStartTime": 1648573729801,
        "executionStopTime": 1648573729854
      },
      "source": [
        "test_X = SobolEngine(dimension=DIM, scramble=True, seed=1234).draw(50).to(**tkwargs)\n",
        "test_Y = branin_emb(test_X).unsqueeze(-1)\n",
        "\n",
        "with torch.no_grad():\n",
        "    posterior = gp.posterior(test_X, marginalize_over_mcmc_samples=True)\n",
        "    mean, var = posterior.mean, posterior.variance"
      ],
      "execution_count": 15,
      "outputs": []
    },
    {
      "cell_type": "code",
      "metadata": {
        "originalKey": "aa323eae-e09e-4301-a711-229cf022abf1",
        "showInput": true,
        "customInput": null,
        "code_folding": [],
        "hidden_ranges": [],
        "collapsed": false,
        "requestMsgId": "aa323eae-e09e-4301-a711-229cf022abf1",
        "executionStartTime": 1648573729969,
        "executionStopTime": 1648573730201
      },
      "source": [
        "fig, ax = plt.subplots(1, 1, figsize=(8, 6))\n",
        "ax.plot([0, 80], [0, 80], \"b--\", lw=2)\n",
        "markers, caps, bars = ax.errorbar(\n",
        "    test_Y.squeeze(-1).cpu().numpy(),\n",
        "    mean.squeeze(-1).cpu().numpy(),\n",
        "    yerr=1.96 * var.squeeze(-1).sqrt().cpu().numpy(),\n",
        "    fmt=\".\",\n",
        "    capsize=4,\n",
        "    elinewidth=2.0,\n",
        "    ms=14,\n",
        "    c=\"k\",\n",
        "    ecolor=\"gray\",\n",
        ")\n",
        "ax.set_xlim([0, 80])\n",
        "ax.set_ylim([0, 80])\n",
        "[bar.set_alpha(0.8) for bar in bars]\n",
        "[cap.set_alpha(0.8) for cap in caps]\n",
        "ax.set_xlabel(\"True value\", fontsize=20)\n",
        "ax.set_ylabel(\"Predicted value\", fontsize=20)\n",
        "ax.set_aspect(\"equal\")\n",
        "ax.grid(True)"
      ],
      "execution_count": 16,
      "outputs": [
        {
          "output_type": "display_data",
          "data": {
            "text/plain": "<Figure size 576x432 with 1 Axes>",
            "image/png": "[encoded data removed]"
          },
          "metadata": {
            "bento_obj_id": "139935085274208",
            "needs_background": "light"
          }
        }
      ]
    },
    {
      "cell_type": "markdown",
      "metadata": {
        "originalKey": "838dd7ad-b1d4-4781-89aa-781328aff71d",
        "showInput": false,
        "customInput": null,
        "code_folding": [],
        "hidden_ranges": []
      },
      "source": [
        "## Look a the lengthscales from the final model\n",
        "\n",
        "As SAASBO places strong priors on the inverse lengthscales, we only expect parameters \n",
        "0 and 1 to be identified as important by the model since the other parameters have no effect.\n",
        "We can confirm that this is the case below as the lengthscales of parameters 0 and 1 are \n",
        "small with all other lengthscales being large."
      ],
      "attachments": {}
    },
    {
      "cell_type": "code",
      "metadata": {
        "originalKey": "24b79369-3dff-4443-8b20-26349f41543b",
        "showInput": true,
        "customInput": null,
        "collapsed": false,
        "requestMsgId": "24b79369-3dff-4443-8b20-26349f41543b",
        "executionStartTime": 1648573730210,
        "executionStopTime": 1648573730314,
        "code_folding": [],
        "hidden_ranges": []
      },
      "source": [
        "median_lengthscales = gp.median_lengthscale\n",
        "for i in median_lengthscales.argsort()[:10]:\n",
        "    print(f\"Parameter {i:2}) Median lengthscale = {median_lengthscales[i].item():.2e}\")"
      ],
      "execution_count": 17,
      "outputs": [
        {
          "output_type": "stream",
          "name": "stdout",
          "text": [
            "Parameter  0) Median lengthscale = 7.21e-01\nParameter  1) Median lengthscale = 2.03e+00\nParameter 37) Median lengthscale = 1.73e+04\nParameter 21) Median lengthscale = 1.94e+04\nParameter 45) Median lengthscale = 2.02e+04\nParameter 39) Median lengthscale = 2.07e+04\nParameter 11) Median lengthscale = 2.10e+04\nParameter 26) Median lengthscale = 2.27e+04\nParameter 16) Median lengthscale = 2.27e+04\nParameter 35) Median lengthscale = 2.37e+04\n"
          ]
        }
      ]
    },
    {
      "cell_type": "code",
      "metadata": {
        "originalKey": "51fc305e-ec70-4e9c-a2db-ae3fb5f38388",
        "showInput": true,
        "customInput": null
      },
      "source": [
        ""
      ],
      "execution_count": null,
      "outputs": []
    }
  ]
}
