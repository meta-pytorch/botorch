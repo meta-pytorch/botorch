{
  "metadata": {
    "kernelspec": {
      "display_name": "python3",
      "language": "python",
      "name": "python3",
      "metadata": {
        "is_prebuilt": false,
        "kernel_name": "ae_local",
        "cinder_runtime": false
      }
    },
    "last_base_url": "https://devbig817.ftw3.facebook.com:8090/",
    "last_kernel_id": "a7bbe73b-ad66-4be3-9bac-27063ad0e3e4",
    "last_msg_id": "54931601-325c365835eb3d8a798d24d6_98",
    "last_server_session_id": "a4cb3c34-3d75-4f47-ad5e-0609188502cd",
    "outputWidgetContext": {}
  },
  "nbformat": 4,
  "nbformat_minor": 2,
  "cells": [
    {
      "cell_type": "markdown",
      "metadata": {
        "code_folding": [],
        "customInput": null,
        "hidden_ranges": [],
        "originalKey": "501041cc-0473-4971-bff9-fd6e92e1eae4",
        "showInput": false
      },
      "source": [
        "## High-Dimensional sample-efficient Bayesian Optimization with SAASBO\n",
        "\n",
        "This tutorial shows how to use the Sparse Axis-Aligned Subspace Bayesian Optimization (SAASBO) \n",
        "method for high-dimensional Bayesian optimization [1]. SAASBO places strong priors on the \n",
        "inverse lengthscales to avoid overfitting in high-dimensional spaces. Specifically, SAASBO \n",
        "uses a hierarchical sparsity prior consisting of a global shrinkage parameter \n",
        "$\\tau \\sim \\mathcal{HC}(\\beta)$ and inverse lengthscales $\\rho_d \\sim \\mathcal{HC}(\\tau)$ \n",
        "for $d=1, \\ldots, D$, where $\\mathcal{HC}$ is the half-Cauchy distribution. \n",
        "While half-Cauchy priors favor values near zero they also have heavy tails, which allows the \n",
        "inverse lengthscales of the most important parameters to escape zero. To perform inference in the \n",
        "SAAS model we use Hamiltonian Monte Carlo (HMC) as we found that to outperform MAP inference.\n",
        "\n",
        "We find that SAASBO performs well on problems with hundreds of dimensions. As we rely on HMC \n",
        "and in particular the No-U-Turn-Sampler (NUTS) for inference, the overhead of SAASBO scales \n",
        "cubically with the number of datapoints. Depending on the problem, using more than a few hundred\n",
        "evaluations may not be feasible as SAASBO is designed for problems with a limited evaluation budget.\n",
        "\n",
        "In general, we recommend using [Ax](https://ax.dev) for a simple BO setup like this one. See [here](https://ax.dev/tutorials/saasbo.html) for a SAASBO tutorial in Ax, which uses the Noisy Expected Improvement acquisition function. To customize the acquisition function used with SAASBO in Ax, see the [custom acquisition tutorial](./custom_acquisition), where adding `\\\"surrogate\\\": Surrogate(SaasFullyBayesianSingleTaskGP),` to the `model_kwargs` of `BOTORCH_MODULAR` step is sufficient to enable the SAAS model.\n",
        "\n",
        "[1]: [D. Eriksson, M. Jankowiak. High-Dimensional Bayesian Optimization with Sparse Axis-Aligned Subspaces. Proceedings of the Thirty-Seventh Conference on Uncertainty in Artificial Intelligence, 2021.](https://proceedings.mlr.press/v161/eriksson21a.html)"
      ]
    },
    {
      "cell_type": "code",
      "metadata": {
        "code_folding": [],
        "executionStartTime": 1650234170354,
        "executionStopTime": 1650234172777,
        "hidden_ranges": [],
        "originalKey": "a6c53717-9ad1-4756-81e0-6d8756a23e11",
        "requestMsgId": "26933c08-82d6-439d-9fcb-6e358b080ab6",
        "collapsed": false
      },
      "source": [
        "import os\n",
        "\n",
        "import matplotlib.pyplot as plt\n",
        "import numpy as np\n",
        "import torch\n",
        "from botorch import fit_fully_bayesian_model_nuts\n",
        "from botorch.acquisition import qExpectedImprovement\n",
        "from botorch.models.fully_bayesian import SaasFullyBayesianSingleTaskGP\n",
        "from botorch.models.transforms import Standardize\n",
        "from botorch.optim import optimize_acqf\n",
        "from botorch.test_functions import Branin\n",
        "from torch.quasirandom import SobolEngine\n",
        "\n",
        "\n",
        "%matplotlib inline\n",
        "SMOKE_TEST = os.environ.get(\"SMOKE_TEST\")"
      ],
      "execution_count": 1,
      "outputs": []
    },
    {
      "cell_type": "code",
      "metadata": {
        "code_folding": [],
        "customInput": null,
        "executionStartTime": 1650234172872,
        "executionStopTime": 1650234172878,
        "hidden_ranges": [],
        "originalKey": "a19ae9f3-2b63-411c-94d0-ffc2fdf2a45a",
        "requestMsgId": "f1e3c7f0-1afc-42e2-af59-5f5fae755ce5",
        "showInput": true,
        "collapsed": false
      },
      "source": [
        "tkwargs = {\"device\": torch.device(\"cuda\" if torch.cuda.is_available() else \"cpu\"), \"dtype\": torch.double}"
      ],
      "execution_count": 2,
      "outputs": []
    },
    {
      "cell_type": "markdown",
      "metadata": {
        "code_folding": [],
        "customInput": null,
        "hidden_ranges": [],
        "originalKey": "08a3d790-52a5-4821-af21-1040f1a037f0",
        "showInput": false
      },
      "source": [
        "The time to fit the SAAS model can be decreased by lowering\n",
        "`WARMUP_STEPS` and `NUM_SAMPLES`. We recommend using 512 warmup steps and 256 samples when\n",
        "possible and to not use fewer than 256 warmup steps and 128 samples. By default, we only\n",
        "keep each 16th sample which with 256 samples results in 32 hyperparameter samples."
      ]
    },
    {
      "cell_type": "code",
      "metadata": {
        "customInput": null,
        "executionStartTime": 1650234172890,
        "executionStopTime": 1650234172961,
        "originalKey": "5cdef3eb-e589-4df0-b0d9-78919e0c6a7e",
        "requestMsgId": "363224de-347c-46a7-9c84-970cbb8e825d",
        "showInput": true,
        "collapsed": false
      },
      "source": [
        "WARMUP_STEPS = 512 if not SMOKE_TEST else 32\n",
        "NUM_SAMPLES = 256 if not SMOKE_TEST else 16\n",
        "THINNING = 16"
      ],
      "execution_count": 3,
      "outputs": []
    },
    {
      "cell_type": "markdown",
      "metadata": {
        "code_folding": [],
        "customInput": null,
        "hidden_ranges": [],
        "originalKey": "af8beafd-352c-421d-8797-7660ddfa39f3",
        "showInput": false
      },
      "source": [
        "## Simple model fitting\n",
        "We generate a simple function that only depends on the first parameter and show that the SAAS\n",
        "model sets all other lengthscales to large values."
      ]
    },
    {
      "cell_type": "code",
      "metadata": {
        "code_folding": [],
        "customInput": null,
        "executionStartTime": 1650234173003,
        "executionStopTime": 1650234173056,
        "hidden_ranges": [],
        "originalKey": "74eb6de2-5ad9-46a8-bb89-289ea7e0795a",
        "requestMsgId": "f506aa6b-904c-4a7e-8a38-0443e983df06",
        "showInput": true,
        "collapsed": false
      },
      "source": [
        "train_X = torch.rand(10, 4, **tkwargs)\n",
        "test_X = torch.rand(5, 4, **tkwargs)\n",
        "train_Y = torch.sin(train_X[:, :1])\n",
        "test_Y = torch.sin(test_X[:, :1])"
      ],
      "execution_count": 4,
      "outputs": []
    },
    {
      "cell_type": "markdown",
      "metadata": {
        "code_folding": [],
        "customInput": null,
        "hidden_ranges": [],
        "originalKey": "cc9314b1-f255-4f7d-9f6d-eb349b34805e",
        "showInput": false
      },
      "source": [
        "By default, we infer the unknown noise variance in the data. You can also pass in a known \n",
        "noise variance (`train_Yvar`) for each observation, which may be useful in cases where you for example\n",
        "know that the problem is noise-free and can then set the noise variance to a small value such as `1e-6`.\n",
        "\n",
        "In this case you can construct a model as follows:\n",
        "```\n",
        "gp = SaasFullyBayesianSingleTaskGP(train_X=train_X, train_Y=train_Y, train_Yvar=torch.full_like(train_Y, 1e-6))\n",
        "```"
      ]
    },
    {
      "cell_type": "code",
      "metadata": {
        "code_folding": [],
        "customInput": null,
        "executionStartTime": 1650234173089,
        "executionStopTime": 1650234188812,
        "hidden_ranges": [],
        "originalKey": "69db96ac-4974-4934-acc8-5a2662ec9dc4",
        "requestMsgId": "148855fb-cf0c-4fc5-8431-06a5e61c5da5",
        "showInput": true,
        "collapsed": false
      },
      "source": [
        "gp = SaasFullyBayesianSingleTaskGP(train_X=train_X, train_Y=train_Y)\n",
        "fit_fully_bayesian_model_nuts(\n",
        "    gp, warmup_steps=WARMUP_STEPS, num_samples=NUM_SAMPLES, thinning=THINNING, disable_progbar=True\n",
        ")\n",
        "with torch.no_grad():\n",
        "    posterior = gp.posterior(test_X)"
      ],
      "execution_count": 5,
      "outputs": []
    },
    {
      "cell_type": "markdown",
      "metadata": {
        "code_folding": [],
        "customInput": null,
        "hidden_ranges": [],
        "originalKey": "5f4fa168-2662-499b-ac82-3ab122dfe2ad",
        "showInput": false
      },
      "source": [
        "Computing the median lengthscales over the MCMC dimensions makes it clear that the first feature has the smallest lengthscale\n",
        ""
      ]
    },
    {
      "cell_type": "code",
      "metadata": {
        "code_folding": [],
        "customInput": null,
        "executionStartTime": 1650234188822,
        "executionStopTime": 1650234189056,
        "hidden_ranges": [],
        "originalKey": "02b17ef6-53b6-4b36-a805-66a1fdaa791c",
        "requestMsgId": "44a1f7c0-9649-4d89-8226-0405fdf88518",
        "showInput": true,
        "collapsed": false
      },
      "source": [
        "print(gp.median_lengthscale.detach())"
      ],
      "execution_count": 6,
      "outputs": [
        {
          "output_type": "stream",
          "name": "stdout",
          "text": [
            "tensor([  4.4017, 207.1334,  96.3712, 190.6768], dtype=torch.float64)\n"
          ]
        }
      ]
    },
    {
      "cell_type": "markdown",
      "metadata": {
        "code_folding": [],
        "customInput": null,
        "hidden_ranges": [],
        "originalKey": "cf15a6ca-3377-40d1-9821-fad8f6600657",
        "showInput": false
      },
      "source": [
        "### Make predictions with the model\n",
        "\n",
        "In the next cell we show how to make predictions with the SAAS model. You compute the mean\n",
        "and variance for test points just like for any other BoTorch posteriors. Note that the mean \n",
        "and posterior will have an extra batch dimension at -3 that corresponds to the number of MCMC\n",
        "samples (which is 16 in this tutorial)."
      ]
    },
    {
      "cell_type": "code",
      "metadata": {
        "code_folding": [],
        "customInput": null,
        "executionStartTime": 1650234189064,
        "executionStopTime": 1650234189076,
        "hidden_ranges": [],
        "originalKey": "cfe56132-ebf0-4897-a978-00c5d73a91b4",
        "requestMsgId": "898039a4-6ec8-46bd-a583-5a1614a3ccf6",
        "showInput": true,
        "collapsed": false
      },
      "source": [
        "print(posterior.mean.shape)\n",
        "print(posterior.variance.shape)"
      ],
      "execution_count": 7,
      "outputs": [
        {
          "output_type": "stream",
          "name": "stdout",
          "text": [
            "torch.Size([16, 5, 1])\ntorch.Size([16, 5, 1])\n"
          ]
        }
      ]
    },
    {
      "cell_type": "markdown",
      "metadata": {
        "code_folding": [],
        "customInput": null,
        "hidden_ranges": [],
        "originalKey": "02b33f7f-4f31-432a-bac7-8cad1831e9a1",
        "showInput": false
      },
      "source": [
        "We also provide several convenience methods for computing different statistics over the MCMC samples:\n",
        "```\n",
        "mixture_mean = posterior.mixture_mean\n",
        "mixture_variance = posterior.mixture_variance\n",
        "mixture_median = posterior.mixture_median\n",
        "mixture_quantile = posterior.quantile(q=0.95)\n",
        "```"
      ]
    },
    {
      "cell_type": "code",
      "metadata": {
        "code_folding": [],
        "customInput": null,
        "executionStartTime": 1650234189089,
        "executionStopTime": 1650234189100,
        "hidden_ranges": [],
        "originalKey": "5112b6e2-78af-4018-b7fd-6c0dfc9857e6",
        "requestMsgId": "b387d057-a497-401b-bfc2-ab427669c451",
        "showInput": true,
        "collapsed": false
      },
      "source": [
        "print(f\"Ground truth:     {test_Y.squeeze(-1)}\")\n",
        "print(f\"Mixture mean:     {posterior.mixture_mean.squeeze(-1)}\")\n",
        "print(f\"Mixture median:   {posterior.mixture_median.squeeze(-1)}\")"
      ],
      "execution_count": 8,
      "outputs": [
        {
          "output_type": "stream",
          "name": "stdout",
          "text": [
            "Ground truth:     tensor([0.3282, 0.8348, 0.1427, 0.0913, 0.6747], dtype=torch.float64)\nMixture mean:     tensor([0.3274, 0.8415, 0.1443, 0.0924, 0.6733], dtype=torch.float64)\nMixture median:   tensor([0.3277, 0.8422, 0.1436, 0.0919, 0.6738], dtype=torch.float64)\n"
          ]
        }
      ]
    },
    {
      "cell_type": "markdown",
      "metadata": {
        "code_folding": [],
        "customInput": null,
        "executionStartTime": 1644277314184,
        "executionStopTime": 1644277314189,
        "hidden_ranges": [],
        "originalKey": "d9bec8be-2acd-40b8-aebb-612b62bbdfc3",
        "requestMsgId": "d9bec8be-2acd-40b8-aebb-612b62bbdfc3",
        "showInput": false
      },
      "source": [
        "## Optimize Branin embedded in a 50D space\n",
        "We take the standard 2D Branin problem and embed it in a 50D space. In particular,\n",
        "we let dimensions 0 and 1 correspond to the true dimensions. We will show that\n",
        "SAASBO is able to identify the important dimensions and efficiently optimize this function.\n",
        "We work with the domain $[0, 1]^d$ and unnormalize the inputs to the true domain of Branin \n",
        "before evaluating the function."
      ]
    },
    {
      "cell_type": "code",
      "metadata": {
        "code_folding": [],
        "customInput": null,
        "executionStartTime": 1650234189112,
        "executionStopTime": 1650234189147,
        "hidden_ranges": [],
        "originalKey": "076b953c-6027-40c6-a807-b2bb82be770a",
        "requestMsgId": "15baa08e-ca35-4da7-a495-c63fe5d5779d",
        "showInput": true,
        "collapsed": false
      },
      "source": [
        "branin = Branin().to(**tkwargs)\n",
        "\n",
        "\n",
        "def branin_emb(x):\n",
        "    \"\"\"x is assumed to be in [0, 1]^d\"\"\"\n",
        "    lb, ub = branin.bounds\n",
        "    return branin(lb + (ub - lb) * x[..., :2])"
      ],
      "execution_count": 9,
      "outputs": []
    },
    {
      "cell_type": "code",
      "metadata": {
        "code_folding": [],
        "customInput": null,
        "executionStartTime": 1650234189178,
        "executionStopTime": 1650234189438,
        "hidden_ranges": [],
        "originalKey": "10202f24-e344-47e2-8198-1737fccf7ac8",
        "requestMsgId": "98b6936b-2f06-4d1f-82c0-2f1bd660d0b2",
        "showInput": true,
        "collapsed": false
      },
      "source": [
        "DIM = 50 if not SMOKE_TEST else 10\n",
        "\n",
        "# Evaluation budget\n",
        "N_INIT = 10\n",
        "N_ITERATIONS = 10 if not SMOKE_TEST else 1\n",
        "BATCH_SIZE = 4 if not SMOKE_TEST else 1\n",
        "print(f\"Using a total of {N_INIT + BATCH_SIZE * N_ITERATIONS} function evaluations\")"
      ],
      "execution_count": 10,
      "outputs": [
        {
          "output_type": "stream",
          "name": "stdout",
          "text": [
            "Using a total of 50 function evaluations\n"
          ]
        }
      ]
    },
    {
      "cell_type": "markdown",
      "metadata": {
        "code_folding": [],
        "customInput": null,
        "hidden_ranges": [],
        "originalKey": "27fd793f-18ee-49cb-9aa5-c8cd78b0b807",
        "showInput": false
      },
      "source": [
        "### Run the optimization\n",
        "We use 10 initial Sobol points followed by 10 iterations of BO using a batch size of 4, \n",
        "which results in a total of 50 function evaluations. As our goal is to minimize Branin, we flip\n",
        "the sign of the function values before fitting the SAAS model as the BoTorch acquisition\n",
        "functions assume maximization."
      ]
    },
    {
      "cell_type": "code",
      "metadata": {
        "code_folding": [],
        "customInput": null,
        "executionStartTime": 1650234189470,
        "executionStopTime": 1650234891471,
        "hidden_ranges": [],
        "originalKey": "7342e71a-3fa9-4389-a98d-88d13beadc99",
        "requestMsgId": "269287e0-500f-474d-891a-5439487e9a77",
        "showInput": true,
        "collapsed": false
      },
      "source": [
        "X = SobolEngine(dimension=DIM, scramble=True, seed=0).draw(N_INIT).to(**tkwargs)\n",
        "Y = branin_emb(X).unsqueeze(-1)\n",
        "print(f\"Best initial point: {Y.min().item():.3f}\")\n",
        "\n",
        "for i in range(N_ITERATIONS):\n",
        "    train_Y = -1 * Y  # Flip the sign since we want to minimize f(x)\n",
        "    gp = SaasFullyBayesianSingleTaskGP(\n",
        "        train_X=X, train_Y=train_Y, train_Yvar=torch.full_like(train_Y, 1e-6), outcome_transform=Standardize(m=1)\n",
        "    )\n",
        "    fit_fully_bayesian_model_nuts(\n",
        "        gp, warmup_steps=WARMUP_STEPS, num_samples=NUM_SAMPLES, thinning=THINNING, disable_progbar=True\n",
        "    )\n",
        "\n",
        "    EI = qExpectedImprovement(model=gp, best_f=train_Y.max())\n",
        "    candidates, acq_values = optimize_acqf(\n",
        "        EI,\n",
        "        bounds=torch.cat((torch.zeros(1, DIM), torch.ones(1, DIM))).to(**tkwargs),\n",
        "        q=BATCH_SIZE,\n",
        "        num_restarts=10,\n",
        "        raw_samples=1024,\n",
        "    )\n",
        "\n",
        "    Y_next = torch.cat([branin_emb(x).unsqueeze(-1) for x in candidates]).unsqueeze(-1)\n",
        "    if Y_next.min() < Y.min():\n",
        "        ind_best = Y_next.argmin()\n",
        "        x0, x1 = candidates[ind_best, :2].tolist()\n",
        "        print(f\"{i + 1}) New best: {Y_next[ind_best].item():.3f} @ \" f\"[{x0:.3f}, {x1:.3f}]\")\n",
        "    X = torch.cat((X, candidates))\n",
        "    Y = torch.cat((Y, Y_next))"
      ],
      "execution_count": 11,
      "outputs": [
        {
          "output_type": "stream",
          "name": "stdout",
          "text": [
            "Best initial point: 13.121\n"
          ]
        },
        {
          "output_type": "stream",
          "name": "stdout",
          "text": [
            "4) New best: 4.679 @ [0.479, 0.238]\n"
          ]
        },
        {
          "output_type": "stream",
          "name": "stdout",
          "text": [
            "5) New best: 0.464 @ [0.131, 0.795]\n"
          ]
        },
        {
          "output_type": "stream",
          "name": "stdout",
          "text": [
            "6) New best: 0.457 @ [0.536, 0.149]\n"
          ]
        },
        {
          "output_type": "stream",
          "name": "stdout",
          "text": [
            "7) New best: 0.400 @ [0.542, 0.155]\n"
          ]
        },
        {
          "output_type": "stream",
          "name": "stdout",
          "text": [
            "10) New best: 0.399 @ [0.543, 0.150]\n"
          ]
        }
      ]
    },
    {
      "cell_type": "markdown",
      "metadata": {
        "code_folding": [],
        "customInput": null,
        "hidden_ranges": [],
        "originalKey": "a9704a99-0712-40bb-a263-6798e0925291",
        "showInput": false
      },
      "source": [
        "## Plot the results\n",
        "\n",
        "We can see that we were able to get close to the global optimium of $\\approx 0.398$ after 50 function evaluations.\n",
        ""
      ]
    },
    {
      "cell_type": "code",
      "metadata": {
        "code_folding": [],
        "customInput": null,
        "executionStartTime": 1650234891537,
        "executionStopTime": 1650234892438,
        "hidden_ranges": [],
        "originalKey": "22f74895-3c95-410c-a49f-bd6a0094695d",
        "requestMsgId": "fd0d7aa7-8d55-4942-adc2-de356666ac84",
        "showInput": true,
        "collapsed": false
      },
      "source": [
        "Y_np = Y.cpu().numpy()\n",
        "fig, ax = plt.subplots(figsize=(8, 6))\n",
        "ax.plot(np.minimum.accumulate(Y_np), color=\"b\", label=\"SAASBO\")\n",
        "ax.plot([0, len(Y_np)], [0.398, 0.398], \"--\", c=\"g\", lw=3, label=\"Optimal value\")\n",
        "ax.grid(True)\n",
        "ax.set_title(f\"Branin, D = {DIM}\", fontsize=20)\n",
        "ax.set_xlabel(\"Number of evaluations\", fontsize=20)\n",
        "ax.set_xlim([0, len(Y_np)])\n",
        "ax.set_ylabel(\"Best value found\", fontsize=20)\n",
        "ax.set_ylim([0, 8])\n",
        "ax.legend(fontsize=18)\n",
        "plt.show()"
      ],
      "execution_count": 12,
      "outputs": [
        {
          "output_type": "display_data",
          "data": {
            "text/plain": "<Figure size 576x432 with 1 Axes>",
            "image/png": "[encoded data removed]"
          },
          "metadata": {
            "bento_obj_id": "140494428153504",
            "needs_background": "light"
          }
        }
      ]
    },
    {
      "cell_type": "markdown",
      "metadata": {
        "code_folding": [],
        "customInput": null,
        "hidden_ranges": [],
        "originalKey": "d81134ff-cec6-45cb-92bf-4170f428af40",
        "showInput": false
      },
      "source": [
        "## Predict on some test points\n",
        "We fit a model using the 50 datapoints collected by SAASBO and predict on 50 test \n",
        "points in order to see how well the SAAS model predicts out-of-sample.\n",
        "The plot shows the mean and a 95% confidence interval for each test point."
      ]
    },
    {
      "cell_type": "code",
      "metadata": {
        "code_folding": [],
        "customInput": null,
        "executionStartTime": 1650234892466,
        "executionStopTime": 1650234951004,
        "hidden_ranges": [],
        "originalKey": "5b5b8b72-77fd-4a4d-b46d-49cc842f2c62",
        "requestMsgId": "970977ea-ee5e-46eb-b500-683673ce723e",
        "showInput": true,
        "collapsed": false
      },
      "source": [
        "train_X = SobolEngine(dimension=DIM, scramble=True, seed=0).draw(50).to(**tkwargs)\n",
        "test_X = SobolEngine(dimension=DIM, scramble=True, seed=1).draw(50).to(**tkwargs)\n",
        "train_Y = branin_emb(train_X).unsqueeze(-1)\n",
        "test_Y = branin_emb(test_X).unsqueeze(-1)\n",
        "\n",
        "gp = SaasFullyBayesianSingleTaskGP(\n",
        "    train_X=train_X, train_Y=train_Y, train_Yvar=torch.full_like(train_Y, 1e-6), outcome_transform=Standardize(m=1)\n",
        ")\n",
        "fit_fully_bayesian_model_nuts(\n",
        "    gp, warmup_steps=WARMUP_STEPS, num_samples=NUM_SAMPLES, thinning=THINNING, disable_progbar=True\n",
        ")"
      ],
      "execution_count": 13,
      "outputs": []
    },
    {
      "cell_type": "code",
      "metadata": {
        "code_folding": [],
        "customInput": null,
        "executionStartTime": 1650234951111,
        "executionStopTime": 1650234951168,
        "hidden_ranges": [],
        "originalKey": "b18a9ebf-7fe7-4c0e-9d4e-882c149128bd",
        "requestMsgId": "25139c91-a34c-4fa8-808f-70c1cf6952fd",
        "showInput": true,
        "collapsed": false
      },
      "source": [
        "with torch.no_grad():\n",
        "    posterior = gp.posterior(test_X)\n",
        "median = posterior.mixture_median\n",
        "q1 = posterior.mixture_quantile(q=0.025)\n",
        "q2 = posterior.mixture_quantile(q=0.975)"
      ],
      "execution_count": 14,
      "outputs": []
    },
    {
      "cell_type": "code",
      "metadata": {
        "code_folding": [],
        "customInput": null,
        "executionStartTime": 1650234951208,
        "executionStopTime": 1650234951511,
        "hidden_ranges": [],
        "originalKey": "b85763a7-759e-4b04-b73d-52db5ce9537e",
        "requestMsgId": "39163b27-e252-4244-9712-f52503e00f74",
        "showInput": true,
        "collapsed": false
      },
      "source": [
        "fig, ax = plt.subplots(1, 1, figsize=(8, 6))\n",
        "ax.plot([0, 80], [0, 80], \"b--\", lw=2)\n",
        "\n",
        "yerr1, yerr2 = median - q1, q2 - median\n",
        "yerr = torch.cat((yerr1.unsqueeze(0), yerr2.unsqueeze(0)), dim=0).squeeze(-1)\n",
        "markers, caps, bars = ax.errorbar(\n",
        "    test_Y.squeeze(-1).cpu(),\n",
        "    median.squeeze(-1).cpu(),\n",
        "    yerr=yerr.cpu(),\n",
        "    fmt=\".\",\n",
        "    capsize=4,\n",
        "    elinewidth=2.0,\n",
        "    ms=14,\n",
        "    c=\"k\",\n",
        "    ecolor=\"gray\",\n",
        ")\n",
        "ax.set_xlim([0, 80])\n",
        "ax.set_ylim([0, 80])\n",
        "[bar.set_alpha(0.8) for bar in bars]\n",
        "[cap.set_alpha(0.8) for cap in caps]\n",
        "ax.set_xlabel(\"True value\", fontsize=20)\n",
        "ax.set_ylabel(\"Predicted value\", fontsize=20)\n",
        "ax.set_aspect(\"equal\")\n",
        "ax.grid(True)"
      ],
      "execution_count": 15,
      "outputs": [
        {
          "output_type": "display_data",
          "data": {
            "text/plain": "<Figure size 576x432 with 1 Axes>",
            "image/png": "[encoded data removed]"
          },
          "metadata": {
            "bento_obj_id": "140494171138128",
            "needs_background": "light"
          }
        }
      ]
    },
    {
      "cell_type": "markdown",
      "metadata": {
        "code_folding": [],
        "customInput": null,
        "hidden_ranges": [],
        "originalKey": "34e976cd-7d09-40d2-8987-aecdefa7c0fd",
        "requestMsgId": "34e976cd-7d09-40d2-8987-aecdefa7c0fd",
        "showInput": false
      },
      "source": [
        "## Look a the lengthscales from the final model\n",
        "\n",
        "As SAASBO places strong priors on the inverse lengthscales, we only expect parameters \n",
        "0 and 1 to be identified as important by the model since the other parameters have no effect.\n",
        "We can confirm that this is the case below as the lengthscales of parameters 0 and 1 are \n",
        "small with all other lengthscales being large."
      ]
    },
    {
      "cell_type": "code",
      "metadata": {
        "code_folding": [],
        "customInput": null,
        "executionStartTime": 1650234951551,
        "executionStopTime": 1650234951627,
        "hidden_ranges": [],
        "originalKey": "f08ad85a-4d54-4958-a30c-62c2e77d39ff",
        "requestMsgId": "33147b57-ea6b-4c67-9c7d-796bb54d5c84",
        "showInput": true,
        "collapsed": false
      },
      "source": [
        "median_lengthscales = gp.median_lengthscale\n",
        "for i in median_lengthscales.argsort()[:10]:\n",
        "    print(f\"Parameter {i:2}) Median lengthscale = {median_lengthscales[i].item():.2e}\")"
      ],
      "execution_count": 16,
      "outputs": [
        {
          "output_type": "stream",
          "name": "stdout",
          "text": [
            "Parameter  0) Median lengthscale = 7.63e-01\nParameter  1) Median lengthscale = 2.46e+00\nParameter 14) Median lengthscale = 1.52e+03\nParameter 44) Median lengthscale = 1.54e+03\nParameter 46) Median lengthscale = 1.59e+03\nParameter 48) Median lengthscale = 1.65e+03\nParameter 17) Median lengthscale = 1.70e+03\nParameter 25) Median lengthscale = 1.71e+03\nParameter 42) Median lengthscale = 1.72e+03\nParameter 45) Median lengthscale = 1.74e+03\n"
          ]
        }
      ]
    },
    {
      "cell_type": "code",
      "metadata": {
        "customInput": null,
        "executionStartTime": 1650234951631,
        "executionStopTime": 1650234951646,
        "originalKey": "1903180f-c926-4f00-98a6-dc1b38d8d8fc",
        "requestMsgId": "6b419c9d-6e7f-454b-939d-e099c9715781",
        "showInput": true,
        "collapsed": false
      },
      "source": [
        ""
      ],
      "execution_count": 16,
      "outputs": []
    }
  ]
}
