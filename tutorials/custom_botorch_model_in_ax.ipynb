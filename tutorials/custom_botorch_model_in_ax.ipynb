{
 "cells": [
  {
   "cell_type": "markdown",
   "metadata": {
    "code_folding": [],
    "hidden_ranges": [],
    "isAgentGenerated": false,
    "language": "markdown",
    "originalKey": "8760cbbb-0419-4ddd-b16d-360a0f8efb23",
    "outputsInitialized": false,
    "showInput": false
   },
   "source": [
    "## Using a custom BoTorch model with Ax\n",
    "\n",
    "In this tutorial, we illustrate how to use a custom BoTorch model within Ax's `botorch_modular` API. This allows us to harness the convenience of Ax for running Bayesian Optimization loops while maintaining full flexibility in modeling.\n",
    "\n",
    "Acquisition functions and their optimizers can be swapped out in much the same fashion. See for example the tutorial for [Implementing a custom acquisition function](./custom_acquisition).\n",
    "\n",
    "If you want to do something non-standard, or would like to have full insight into every aspect of the implementation, please see [this tutorial](./closed_loop_botorch_only) for how to write your own full optimization loop in BoTorch.\n"
   ]
  },
  {
   "cell_type": "code",
   "execution_count": null,
   "metadata": {
    "collapsed": false,
    "customInput": null,
    "executionStartTime": 1730996758749,
    "executionStopTime": 1730996764518,
    "isAgentGenerated": false,
    "jupyter": {
     "outputs_hidden": false
    },
    "language": "python",
    "originalKey": "e93e2f29-61fe-4f9f-b7bd-b742e2fe9344",
    "output": {
     "id": "469571788973641"
    },
    "outputsInitialized": true,
    "requestMsgId": "e93e2f29-61fe-4f9f-b7bd-b742e2fe9344",
    "serverExecutionDuration": 3997.7363101207,
    "showInput": true
   },
   "outputs": [],
   "source": [
    "import os\n",
    "from contextlib import contextmanager, nullcontext\n",
    "\n",
    "import plotly.io as pio\n",
    "\n",
    "from ax.utils.testing.mock import mock_botorch_optimize_context_manager\n",
    "\n",
    "# Ax uses Plotly to produce interactive plots. These are great for viewing and analysis,\n",
    "# though they also lead to large file sizes, which is not ideal for files living in GH.\n",
    "# Changing the default to `png` strips the interactive components to get around this.\n",
    "pio.renderers.default = \"png\"\n",
    "\n",
    "SMOKE_TEST = os.environ.get(\"SMOKE_TEST\")\n",
    "NUM_EVALS = 10 if SMOKE_TEST else 30"
   ]
  },
  {
   "cell_type": "markdown",
   "metadata": {
    "isAgentGenerated": false,
    "language": "markdown",
    "originalKey": "007adb71-ee1b-407c-9a61-ff948c104fce",
    "outputsInitialized": false,
    "showInput": false
   },
   "source": [
    "### Implementing the custom model\n",
    "\n",
    "For this tutorial, we implement a very simple GPyTorch `ExactGP` model that uses an RBF kernel (with ARD) and infers a homoskedastic noise level.\n",
    "\n",
    "Model definition is straightforward. Here we implement a GPyTorch `ExactGP` that inherits from `GPyTorchModel`; together these two superclasses add all the API calls that BoTorch expects in its various modules. \n",
    "\n",
    "*Note:* BoTorch allows implementing any custom model that follows the `Model` API. For more information, please see the [Model Documentation](../docs/models)."
   ]
  },
  {
   "cell_type": "code",
   "execution_count": 2,
   "metadata": {
    "code_folding": [],
    "collapsed": false,
    "executionStartTime": 1730996759581,
    "executionStopTime": 1730996764532,
    "hidden_ranges": [],
    "isAgentGenerated": false,
    "jupyter": {
     "outputs_hidden": false
    },
    "language": "python",
    "originalKey": "5aa02924-4c3d-4654-a81e-ef58084337d3",
    "outputsInitialized": true,
    "requestMsgId": "5aa02924-4c3d-4654-a81e-ef58084337d3",
    "serverExecutionDuration": 2.7337353676558
   },
   "outputs": [],
   "source": [
    "from typing import Optional\n",
    "\n",
    "from botorch.models.gpytorch import GPyTorchModel\n",
    "from gpytorch.distributions import MultivariateNormal\n",
    "from gpytorch.kernels import RBFKernel, ScaleKernel\n",
    "from gpytorch.likelihoods import GaussianLikelihood\n",
    "from gpytorch.means import ConstantMean\n",
    "from gpytorch.models import ExactGP\n",
    "from torch import Tensor\n",
    "\n",
    "\n",
    "class SimpleCustomGP(ExactGP, GPyTorchModel):\n",
    "\n",
    "    _num_outputs = 1  # to inform GPyTorchModel API\n",
    "\n",
    "    def __init__(self, train_X, train_Y, train_Yvar: Optional[Tensor] = None):\n",
    "        # NOTE: This ignores train_Yvar and uses inferred noise instead.\n",
    "        # squeeze output dim before passing train_Y to ExactGP\n",
    "        super().__init__(train_X, train_Y.squeeze(-1), GaussianLikelihood())\n",
    "        self.mean_module = ConstantMean()\n",
    "        self.covar_module = ScaleKernel(\n",
    "            base_kernel=RBFKernel(ard_num_dims=train_X.shape[-1]),\n",
    "        )\n",
    "        self.to(train_X)  # make sure we're on the right device/dtype\n",
    "\n",
    "    def forward(self, x):\n",
    "        mean_x = self.mean_module(x)\n",
    "        covar_x = self.covar_module(x)\n",
    "        return MultivariateNormal(mean_x, covar_x)"
   ]
  },
  {
   "cell_type": "markdown",
   "metadata": {
    "code_folding": [],
    "customInput": null,
    "hidden_ranges": [],
    "isAgentGenerated": false,
    "language": "markdown",
    "originalKey": "0f22b707-cec8-43a1-9152-503a1904fbd5",
    "outputsInitialized": false,
    "showInput": false
   },
   "source": [
    "### Instantiate a `BoTorchModel` in Ax\n",
    "\n",
    "A `BoTorchModel` in Ax encapsulates both the surrogate -- which `Ax` calls a `Surrogate` and BoTorch calls a `Model` -- and an acquisition function. Here, we will only specify the custom surrogate and let Ax choose the default acquisition function.\n",
    "\n",
    "Most models should work with the base `Surrogate` in Ax, except for BoTorch `ModelListGP`, which works with `ListSurrogate`.\n",
    "Note that the `Model` (e.g., the `SimpleCustomGP`) must implement `construct_inputs`, as this is used to construct the inputs required for instantiating a `Model` instance from the experiment data."
   ]
  },
  {
   "cell_type": "code",
   "execution_count": 3,
   "metadata": {
    "code_folding": [],
    "collapsed": false,
    "customInput": null,
    "executionStartTime": 1730996760524,
    "executionStopTime": 1730996764544,
    "hidden_ranges": [],
    "isAgentGenerated": false,
    "jupyter": {
     "outputs_hidden": false
    },
    "language": "python",
    "originalKey": "14a8c659-c142-4bd6-9a8e-29cfa78d7b98",
    "outputsInitialized": true,
    "requestMsgId": "14a8c659-c142-4bd6-9a8e-29cfa78d7b98",
    "serverExecutionDuration": 2.4179229512811,
    "showInput": true
   },
   "outputs": [],
   "source": [
    "from ax.models.torch.botorch_modular.model import BoTorchModel\n",
    "from ax.models.torch.botorch_modular.surrogate import Surrogate, SurrogateSpec\n",
    "from ax.models.torch.botorch_modular.utils import ModelConfig\n",
    "\n",
    "ax_model = BoTorchModel(\n",
    "    surrogate=Surrogate(\n",
    "        surrogate_spec=SurrogateSpec(\n",
    "            model_configs=[\n",
    "                ModelConfig(\n",
    "                    # The model class to use\n",
    "                    botorch_model_class=SimpleCustomGP,\n",
    "                    # Optional, MLL class with which to optimize model parameters\n",
    "                    # mll_class=ExactMarginalLogLikelihood,\n",
    "                    # Optional, dictionary of keyword arguments to model constructor\n",
    "                    # model_options={}\n",
    "                )\n",
    "            ]\n",
    "        )\n",
    "    ),\n",
    "    # Optional, acquisition function class to use - see custom acquisition tutorial\n",
    "    # botorch_acqf_class=qExpectedImprovement,\n",
    ")"
   ]
  },
  {
   "cell_type": "markdown",
   "metadata": {
    "code_folding": [],
    "customInput": null,
    "hidden_ranges": [],
    "isAgentGenerated": false,
    "language": "markdown",
    "originalKey": "4254a19d-cf71-4a88-a00f-608331cd9f54",
    "outputsInitialized": false,
    "showInput": false
   },
   "source": [
    "### Combine with a `ModelBridge`\n",
    "\n",
    "`Model`s in Ax require a `ModelBridge` to interface with `Experiment`s. A `ModelBridge` takes the inputs supplied by the `Experiment` and converts them to the inputs expected by the `Model`. For a `BoTorchModel`, we use `TorchModelBridge`. The Modular BoTorch interface creates the `BoTorchModel` and the `TorchModelBridge` in a single step, as follows:\n",
    "\n",
    "```\n",
    "from ax.modelbridge.registry import Models\n",
    "model_bridge = Models.BOTORCH_MODULAR(\n",
    "    experiment=experiment,\n",
    "    data=data,\n",
    "    surrogate=Surrogate(SimpleCustomGP),\n",
    "    # Optional, will use default if unspecified\n",
    "    # botorch_acqf_class=qLogNoisyExpectedImprovement,  \n",
    ")\n",
    "# To generate a trial\n",
    "trial = model_bridge.gen(1)\n",
    "```\n"
   ]
  },
  {
   "cell_type": "markdown",
   "metadata": {
    "code_folding": [],
    "customInput": null,
    "hidden_ranges": [],
    "isAgentGenerated": false,
    "language": "markdown",
    "originalKey": "40d38579-279d-49fd-b2aa-e8c1fcab2a61",
    "outputsInitialized": false,
    "showInput": false
   },
   "source": [
    "# Using the custom model in Ax to optimize the Branin function\n",
    "\n",
    "We will demonstrate this with both the Service API (simpler, easier to use) and the Developer API (advanced, more customizable)."
   ]
  },
  {
   "cell_type": "markdown",
   "metadata": {
    "code_folding": [],
    "customInput": null,
    "hidden_ranges": [],
    "isAgentGenerated": false,
    "language": "markdown",
    "originalKey": "f4553323-645d-40f9-b1d5-b549e5265eb9",
    "outputsInitialized": false,
    "showInput": false
   },
   "source": [
    "## Optimization with Ax's Service API\n",
    "\n",
    "A detailed tutorial on the Service API can be found [here](https://ax.dev/tutorials/gpei_hartmann_service.html).\n",
    "\n",
    "In order to customize the way the candidates are created in the Service API, we need to construct a new `GenerationStrategy` and pass it into `AxClient`."
   ]
  },
  {
   "cell_type": "code",
   "execution_count": 4,
   "metadata": {
    "code_folding": [],
    "collapsed": false,
    "customInput": null,
    "executionStartTime": 1730996762310,
    "executionStopTime": 1730996764558,
    "hidden_ranges": [],
    "isAgentGenerated": false,
    "jupyter": {
     "outputs_hidden": false
    },
    "language": "python",
    "originalKey": "4d444eb9-21a3-43fc-a855-8793290d60dc",
    "outputsInitialized": true,
    "requestMsgId": "4d444eb9-21a3-43fc-a855-8793290d60dc",
    "serverExecutionDuration": 2.1021906286478,
    "showInput": true
   },
   "outputs": [],
   "source": [
    "from ax.modelbridge.generation_strategy import GenerationStep, GenerationStrategy\n",
    "from ax.modelbridge.registry import Models\n",
    "\n",
    "\n",
    "gs = GenerationStrategy(\n",
    "    steps=[\n",
    "        # Quasi-random initialization step\n",
    "        GenerationStep(\n",
    "            model=Models.SOBOL,\n",
    "            num_trials=5,  # How many trials should be produced from this generation step\n",
    "        ),\n",
    "        # Bayesian optimization step using the custom acquisition function\n",
    "        GenerationStep(\n",
    "            model=Models.BOTORCH_MODULAR,\n",
    "            num_trials=-1,  # No limitation on how many trials should be produced from this step\n",
    "            # For `BOTORCH_MODULAR`, we pass in kwargs to specify what surrogate or acquisition function to use.\n",
    "            model_kwargs={\n",
    "                \"surrogate_spec\": SurrogateSpec(model_configs=[ModelConfig(botorch_model_class=SimpleCustomGP)]),\n",
    "            },\n",
    "        ),\n",
    "    ]\n",
    ")"
   ]
  },
  {
   "cell_type": "markdown",
   "metadata": {
    "code_folding": [],
    "customInput": null,
    "hidden_ranges": [],
    "isAgentGenerated": false,
    "language": "markdown",
    "originalKey": "24e0fd52-cf2f-4c5a-8130-82e3b133c7df",
    "outputsInitialized": false,
    "showInput": false
   },
   "source": [
    "### Setting up the experiment\n",
    "\n",
    "In order to use the `GenerationStrategy` we just created, we will pass it into the `AxClient`."
   ]
  },
  {
   "cell_type": "code",
   "execution_count": 5,
   "metadata": {
    "code_folding": [],
    "collapsed": false,
    "customInput": null,
    "executionStartTime": 1730996763198,
    "executionStopTime": 1730996765492,
    "hidden_ranges": [],
    "isAgentGenerated": false,
    "jupyter": {
     "outputs_hidden": false
    },
    "language": "python",
    "originalKey": "4ee5509a-7cd5-4e0f-adcc-43961562f5f3",
    "output": {
     "id": "8782682878442163"
    },
    "outputsInitialized": true,
    "requestMsgId": "4ee5509a-7cd5-4e0f-adcc-43961562f5f3",
    "serverExecutionDuration": 701.53528917581,
    "showInput": true
   },
   "outputs": [
    {
     "name": "stderr",
     "output_type": "stream",
     "text": [
      "[INFO 11-07 12:52:13] ax.service.ax_client: Starting optimization with verbose logging. To disable logging, set the `verbose_logging` argument to `False`. Note that float values in the logs are rounded to 6 decimal points.\n",
      "[INFO 11-07 12:52:13] ax.service.utils.instantiation: Inferred value type of ParameterType.FLOAT for parameter x1. If that is not the expected value type, you can explicitly specify 'value_type' ('int', 'float', 'bool' or 'str') in parameter dict.\n",
      "[INFO 11-07 12:52:13] ax.service.utils.instantiation: Inferred value type of ParameterType.FLOAT for parameter x2. If that is not the expected value type, you can explicitly specify 'value_type' ('int', 'float', 'bool' or 'str') in parameter dict.\n",
      "[INFO 11-07 12:52:13] ax.service.utils.instantiation: Created search space: SearchSpace(parameters=[RangeParameter(name='x1', parameter_type=FLOAT, range=[-5.0, 10.0]), RangeParameter(name='x2', parameter_type=FLOAT, range=[0.0, 15.0])], parameter_constraints=[]).\n"
     ]
    },
    {
     "name": "stderr",
     "output_type": "stream",
     "text": [
      "[INFO 11-07 08:26:05] ax.service.utils.instantiation: Inferred value type of ParameterType.FLOAT for parameter x1. If that is not the expected value type, you can explicitly specify 'value_type' ('int', 'float', 'bool' or 'str') in parameter dict.\n"
     ]
    },
    {
     "name": "stderr",
     "output_type": "stream",
     "text": [
      "[INFO 11-07 08:26:05] ax.service.utils.instantiation: Inferred value type of ParameterType.FLOAT for parameter x2. If that is not the expected value type, you can explicitly specify 'value_type' ('int', 'float', 'bool' or 'str') in parameter dict.\n"
     ]
    },
    {
     "name": "stderr",
     "output_type": "stream",
     "text": [
      "[INFO 11-07 08:26:05] ax.service.utils.instantiation: Created search space: SearchSpace(parameters=[RangeParameter(name='x1', parameter_type=FLOAT, range=[-5.0, 10.0]), RangeParameter(name='x2', parameter_type=FLOAT, range=[0.0, 15.0])], parameter_constraints=[]).\n"
     ]
    }
   ],
   "source": [
    "import torch\n",
    "from ax.service.ax_client import AxClient\n",
    "from ax.service.utils.instantiation import ObjectiveProperties\n",
    "from botorch.test_functions import Branin\n",
    "\n",
    "\n",
    "# Initialize the client - AxClient offers a convenient API to control the experiment\n",
    "ax_client = AxClient(generation_strategy=gs)\n",
    "# Setup the experiment\n",
    "ax_client.create_experiment(\n",
    "    name=\"branin_test_experiment\",\n",
    "    parameters=[\n",
    "        {\n",
    "            \"name\": \"x1\",\n",
    "            \"type\": \"range\",\n",
    "            # It is crucial to use floats for the bounds, i.e., 0.0 rather than 0.\n",
    "            # Otherwise, the parameter would be inferred as an integer range.\n",
    "            \"bounds\": [-5.0, 10.0],\n",
    "        },\n",
    "        {\n",
    "            \"name\": \"x2\",\n",
    "            \"type\": \"range\",\n",
    "            \"bounds\": [0.0, 15.0],\n",
    "        },\n",
    "    ],\n",
    "    objectives={\n",
    "        \"branin\": ObjectiveProperties(minimize=True),\n",
    "    },\n",
    ")\n",
    "# Setup a function to evaluate the trials\n",
    "branin = Branin()\n",
    "\n",
    "\n",
    "def evaluate(parameters):\n",
    "    x = torch.tensor([[parameters.get(f\"x{i+1}\") for i in range(2)]])\n",
    "    # The GaussianLikelihood used by our model infers an observation noise level,\n",
    "    # so we pass an sem value of NaN to indicate that observation noise is unknown\n",
    "    return {\"branin\": (branin(x).item(), float(\"nan\"))}"
   ]
  },
  {
   "cell_type": "markdown",
   "metadata": {
    "customInput": null,
    "isAgentGenerated": false,
    "language": "markdown",
    "originalKey": "25ac5ba7-291b-466f-bed0-f8cb5f842605",
    "outputsInitialized": false,
    "showInput": false
   },
   "source": [
    "### Running the BO loop"
   ]
  },
  {
   "cell_type": "markdown",
   "metadata": {
    "isAgentGenerated": false,
    "language": "markdown",
    "originalKey": "173daaa5-4a91-4294-aab8-305cada3efb4",
    "outputsInitialized": false,
    "showInput": false
   },
   "source": [
    "The next cell sets up a decorator solely to speed up the testing of the notebook in `SMOKE_TEST` mode. You can safely ignore this cell and the use of the decorator throughout the tutorial."
   ]
  },
  {
   "cell_type": "code",
   "execution_count": 6,
   "metadata": {
    "collapsed": false,
    "executionStartTime": 1730996764634,
    "executionStopTime": 1730996765512,
    "isAgentGenerated": false,
    "jupyter": {
     "outputs_hidden": false
    },
    "language": "python",
    "originalKey": "4cc92119-f4be-42d3-8a3c-c1518bd860dc",
    "output": {
     "id": "905203617909706"
    },
    "outputsInitialized": true,
    "requestMsgId": "4cc92119-f4be-42d3-8a3c-c1518bd860dc",
    "serverExecutionDuration": 5.7004098780453
   },
   "outputs": [
    {
     "data": {
      "text/plain": [
       "<torch._C.Generator at 0x11c891530>"
      ]
     },
     "execution_count": 6,
     "metadata": {},
     "output_type": "execute_result"
    }
   ],
   "source": [
    "if SMOKE_TEST:\n",
    "    fast_smoke_test = mock_botorch_optimize_context_manager\n",
    "else:\n",
    "    fast_smoke_test = nullcontext\n",
    "\n",
    "# Set a seed for reproducible tutorial output\n",
    "torch.manual_seed(0)"
   ]
  },
  {
   "cell_type": "code",
   "execution_count": 7,
   "metadata": {
    "code_folding": [],
    "collapsed": false,
    "customInput": null,
    "executionStartTime": 1730996765169,
    "executionStopTime": 1730996789818,
    "hidden_ranges": [],
    "isAgentGenerated": false,
    "jupyter": {
     "outputs_hidden": false
    },
    "language": "python",
    "originalKey": "1f85e052-7e4f-4d0a-907d-e259fa70f902",
    "output": {
     "id": "1297036191745441"
    },
    "outputsInitialized": true,
    "requestMsgId": "1f85e052-7e4f-4d0a-907d-e259fa70f902",
    "serverExecutionDuration": 24149.213106837,
    "showInput": true
   },
   "outputs": [
    {
     "name": "stderr",
     "output_type": "stream",
     "text": [
      "/Users/sdaulton/miniconda3/envs/botorch_tut/lib/python3.11/site-packages/ax/modelbridge/cross_validation.py:464: UserWarning:\n",
      "\n",
      "Encountered exception in computing model fit quality: RandomModelBridge does not support prediction.\n",
      "\n",
      "[INFO 11-07 12:52:17] ax.service.ax_client: Generated new trial 0 with parameters {'x1': 0.62583, 'x2': 14.359564} using model Sobol.\n",
      "[INFO 11-07 12:52:17] ax.service.ax_client: Completed trial 0 with data: {'branin': (104.365417, nan)}.\n",
      "/Users/sdaulton/miniconda3/envs/botorch_tut/lib/python3.11/site-packages/ax/modelbridge/cross_validation.py:464: UserWarning:\n",
      "\n",
      "Encountered exception in computing model fit quality: RandomModelBridge does not support prediction.\n",
      "\n",
      "[INFO 11-07 12:52:17] ax.service.ax_client: Generated new trial 1 with parameters {'x1': 3.166217, 'x2': 3.867106} using model Sobol.\n",
      "[INFO 11-07 12:52:17] ax.service.ax_client: Completed trial 1 with data: {'branin': (2.996862, nan)}.\n",
      "/Users/sdaulton/miniconda3/envs/botorch_tut/lib/python3.11/site-packages/ax/modelbridge/cross_validation.py:464: UserWarning:\n",
      "\n",
      "Encountered exception in computing model fit quality: RandomModelBridge does not support prediction.\n",
      "\n",
      "[INFO 11-07 12:52:17] ax.service.ax_client: Generated new trial 2 with parameters {'x1': 9.560105, 'x2': 10.718323} using model Sobol.\n",
      "[INFO 11-07 12:52:17] ax.service.ax_client: Completed trial 2 with data: {'branin': (66.530632, nan)}.\n",
      "/Users/sdaulton/miniconda3/envs/botorch_tut/lib/python3.11/site-packages/ax/modelbridge/cross_validation.py:464: UserWarning:\n",
      "\n",
      "Encountered exception in computing model fit quality: RandomModelBridge does not support prediction.\n",
      "\n",
      "[INFO 11-07 12:52:17] ax.service.ax_client: Generated new trial 3 with parameters {'x1': -3.878664, 'x2': 0.117947} using model Sobol.\n",
      "[INFO 11-07 12:52:18] ax.service.ax_client: Completed trial 3 with data: {'branin': (198.850861, nan)}.\n",
      "/Users/sdaulton/miniconda3/envs/botorch_tut/lib/python3.11/site-packages/ax/modelbridge/cross_validation.py:464: UserWarning:\n",
      "\n",
      "Encountered exception in computing model fit quality: RandomModelBridge does not support prediction.\n",
      "\n",
      "[INFO 11-07 12:52:18] ax.service.ax_client: Generated new trial 4 with parameters {'x1': -2.362858, 'x2': 8.855021} using model Sobol.\n",
      "[INFO 11-07 12:52:18] ax.service.ax_client: Completed trial 4 with data: {'branin': (5.811776, nan)}.\n",
      "[INFO 11-07 12:52:21] ax.service.ax_client: Generated new trial 5 with parameters {'x1': 2.562464, 'x2': 4.925756} using model BoTorch.\n",
      "[INFO 11-07 12:52:21] ax.service.ax_client: Completed trial 5 with data: {'branin': (6.61104, nan)}.\n",
      "[INFO 11-07 12:52:21] ax.service.ax_client: Generated new trial 6 with parameters {'x1': 5.503428, 'x2': 4.951339} using model BoTorch.\n",
      "[INFO 11-07 12:52:21] ax.service.ax_client: Completed trial 6 with data: {'branin': (31.249773, nan)}.\n",
      "[INFO 11-07 12:52:22] ax.service.ax_client: Generated new trial 7 with parameters {'x1': -2.306809, 'x2': 4.436082} using model BoTorch.\n",
      "[INFO 11-07 12:52:22] ax.service.ax_client: Completed trial 7 with data: {'branin': (38.632786, nan)}.\n",
      "[INFO 11-07 12:52:22] ax.service.ax_client: Generated new trial 8 with parameters {'x1': -1.582296, 'x2': 7.318848} using model BoTorch.\n",
      "[INFO 11-07 12:52:22] ax.service.ax_client: Completed trial 8 with data: {'branin': (12.208769, nan)}.\n",
      "[INFO 11-07 12:52:23] ax.service.ax_client: Generated new trial 9 with parameters {'x1': -5.0, 'x2': 9.065641} using model BoTorch.\n",
      "[INFO 11-07 12:52:23] ax.service.ax_client: Completed trial 9 with data: {'branin': (78.686066, nan)}.\n",
      "[INFO 11-07 12:52:23] ax.service.ax_client: Generated new trial 10 with parameters {'x1': 0.779998, 'x2': 6.842907} using model BoTorch.\n",
      "[INFO 11-07 12:52:23] ax.service.ax_client: Completed trial 10 with data: {'branin': (20.849186, nan)}.\n",
      "[INFO 11-07 12:52:24] ax.service.ax_client: Generated new trial 11 with parameters {'x1': -0.959171, 'x2': 9.756062} using model BoTorch.\n",
      "[INFO 11-07 12:52:24] ax.service.ax_client: Completed trial 11 with data: {'branin': (19.968334, nan)}.\n",
      "[INFO 11-07 12:52:25] ax.service.ax_client: Generated new trial 12 with parameters {'x1': 1.759405, 'x2': 0.0} using model BoTorch.\n",
      "[INFO 11-07 12:52:25] ax.service.ax_client: Completed trial 12 with data: {'branin': (21.157597, nan)}.\n",
      "[INFO 11-07 12:52:25] ax.service.ax_client: Generated new trial 13 with parameters {'x1': -3.67521, 'x2': 15.0} using model BoTorch.\n",
      "[INFO 11-07 12:52:25] ax.service.ax_client: Completed trial 13 with data: {'branin': (3.70913, nan)}.\n",
      "[INFO 11-07 12:52:26] ax.service.ax_client: Generated new trial 14 with parameters {'x1': 10.0, 'x2': 0.0} using model BoTorch.\n",
      "[INFO 11-07 12:52:26] ax.service.ax_client: Completed trial 14 with data: {'branin': (10.960894, nan)}.\n",
      "/Users/sdaulton/miniconda3/envs/botorch_tut/lib/python3.11/site-packages/linear_operator/utils/cholesky.py:40: NumericalWarning:\n",
      "\n",
      "A not p.d., added jitter of 1.0e-08 to the diagonal\n",
      "\n",
      "[INFO 11-07 12:52:26] ax.service.ax_client: Generated new trial 15 with parameters {'x1': 4.693345, 'x2': 0.0} using model BoTorch.\n",
      "[INFO 11-07 12:52:26] ax.service.ax_client: Completed trial 15 with data: {'branin': (11.7103, nan)}.\n",
      "[INFO 11-07 12:52:27] ax.service.ax_client: Generated new trial 16 with parameters {'x1': -3.16039, 'x2': 12.343285} using model BoTorch.\n",
      "[INFO 11-07 12:52:27] ax.service.ax_client: Completed trial 16 with data: {'branin': (0.400116, nan)}.\n",
      "[INFO 11-07 12:52:27] ax.service.ax_client: Generated new trial 17 with parameters {'x1': 10.0, 'x2': 3.798226} using model BoTorch.\n",
      "[INFO 11-07 12:52:27] ax.service.ax_client: Completed trial 17 with data: {'branin': (2.575594, nan)}.\n",
      "[INFO 11-07 12:52:28] ax.service.ax_client: Generated new trial 18 with parameters {'x1': 3.304444, 'x2': 2.327283} using model BoTorch.\n",
      "[INFO 11-07 12:52:28] ax.service.ax_client: Completed trial 18 with data: {'branin': (0.555859, nan)}.\n",
      "[INFO 11-07 12:52:29] ax.service.ax_client: Generated new trial 19 with parameters {'x1': -3.375582, 'x2': 12.520736} using model BoTorch.\n",
      "[INFO 11-07 12:52:29] ax.service.ax_client: Completed trial 19 with data: {'branin': (0.764316, nan)}.\n",
      "[INFO 11-07 12:52:30] ax.service.ax_client: Generated new trial 20 with parameters {'x1': 9.267105, 'x2': 2.183014} using model BoTorch.\n",
      "[INFO 11-07 12:52:30] ax.service.ax_client: Completed trial 20 with data: {'branin': (0.543305, nan)}.\n",
      "[INFO 11-07 12:52:30] ax.service.ax_client: Generated new trial 21 with parameters {'x1': 9.536612, 'x2': 2.744301} using model BoTorch.\n",
      "[INFO 11-07 12:52:30] ax.service.ax_client: Completed trial 21 with data: {'branin': (0.487921, nan)}.\n",
      "[INFO 11-07 12:52:31] ax.service.ax_client: Generated new trial 22 with parameters {'x1': -3.055135, 'x2': 12.529729} using model BoTorch.\n",
      "[INFO 11-07 12:52:31] ax.service.ax_client: Completed trial 22 with data: {'branin': (0.646773, nan)}.\n",
      "[INFO 11-07 12:52:32] ax.service.ax_client: Generated new trial 23 with parameters {'x1': 3.099745, 'x2': 2.457142} using model BoTorch.\n",
      "[INFO 11-07 12:52:32] ax.service.ax_client: Completed trial 23 with data: {'branin': (0.428578, nan)}.\n",
      "[INFO 11-07 12:52:33] ax.service.ax_client: Generated new trial 24 with parameters {'x1': 8.94462, 'x2': 0.943412} using model BoTorch.\n",
      "[INFO 11-07 12:52:33] ax.service.ax_client: Completed trial 24 with data: {'branin': (2.820818, nan)}.\n",
      "[INFO 11-07 12:52:35] ax.service.ax_client: Generated new trial 25 with parameters {'x1': 9.510065, 'x2': 2.361432} using model BoTorch.\n",
      "[INFO 11-07 12:52:35] ax.service.ax_client: Completed trial 25 with data: {'branin': (0.467552, nan)}.\n",
      "[INFO 11-07 12:52:36] ax.service.ax_client: Generated new trial 26 with parameters {'x1': 9.425844, 'x2': 2.589096} using model BoTorch.\n",
      "[INFO 11-07 12:52:36] ax.service.ax_client: Completed trial 26 with data: {'branin': (0.410706, nan)}.\n",
      "[INFO 11-07 12:52:37] ax.service.ax_client: Generated new trial 27 with parameters {'x1': -3.091638, 'x2': 12.315311} using model BoTorch.\n",
      "[INFO 11-07 12:52:37] ax.service.ax_client: Completed trial 27 with data: {'branin': (0.435478, nan)}.\n",
      "[INFO 11-07 12:52:38] ax.service.ax_client: Generated new trial 28 with parameters {'x1': -3.221389, 'x2': 12.345989} using model BoTorch.\n",
      "[INFO 11-07 12:52:38] ax.service.ax_client: Completed trial 28 with data: {'branin': (0.443229, nan)}.\n",
      "/Users/sdaulton/botorch_2024_11_07/botorch/botorch/optim/optimize.py:576: RuntimeWarning:\n",
      "\n",
      "Optimization failed in `gen_candidates_scipy` with the following warning(s):\n",
      "[OptimizationWarning('Optimization failed within `scipy.optimize.minimize` with status 2 and message ABNORMAL_TERMINATION_IN_LNSRCH.'), OptimizationWarning('Optimization failed within `scipy.optimize.minimize` with status 2 and message ABNORMAL_TERMINATION_IN_LNSRCH.'), OptimizationWarning('Optimization failed within `scipy.optimize.minimize` with status 2 and message ABNORMAL_TERMINATION_IN_LNSRCH.')]\n",
      "Trying again with a new set of initial conditions.\n",
      "\n",
      "/Users/sdaulton/botorch_2024_11_07/botorch/botorch/optim/optimize.py:576: RuntimeWarning:\n",
      "\n",
      "Optimization failed on the second try, after generating a new set of initial conditions.\n",
      "\n",
      "[INFO 11-07 12:52:42] ax.service.ax_client: Generated new trial 29 with parameters {'x1': 3.182468, 'x2': 2.521964} using model BoTorch.\n",
      "[INFO 11-07 12:52:42] ax.service.ax_client: Completed trial 29 with data: {'branin': (0.48354, nan)}.\n"
     ]
    },
    {
     "name": "stderr",
     "output_type": "stream",
     "text": [
      "[INFO 11-07 08:26:05] ax.service.ax_client: Generated new trial 1 with parameters {'x1': 3.166217, 'x2': 3.867106} using model Sobol.\n"
     ]
    },
    {
     "name": "stderr",
     "output_type": "stream",
     "text": [
      "[INFO 11-07 08:26:05] ax.service.ax_client: Completed trial 1 with data: {'branin': (2.996862, nan)}.\n"
     ]
    },
    {
     "name": "stderr",
     "output_type": "stream",
     "text": [
      "[INFO 11-07 08:26:05] ax.service.ax_client: Generated new trial 2 with parameters {'x1': 9.560105, 'x2': 10.718323} using model Sobol.\n"
     ]
    },
    {
     "name": "stderr",
     "output_type": "stream",
     "text": [
      "[INFO 11-07 08:26:05] ax.service.ax_client: Completed trial 2 with data: {'branin': (66.530624, nan)}.\n"
     ]
    },
    {
     "name": "stderr",
     "output_type": "stream",
     "text": [
      "[INFO 11-07 08:26:05] ax.service.ax_client: Generated new trial 3 with parameters {'x1': -3.878664, 'x2': 0.117947} using model Sobol.\n"
     ]
    },
    {
     "name": "stderr",
     "output_type": "stream",
     "text": [
      "[INFO 11-07 08:26:05] ax.service.ax_client: Completed trial 3 with data: {'branin': (198.850861, nan)}.\n"
     ]
    },
    {
     "name": "stderr",
     "output_type": "stream",
     "text": [
      "[INFO 11-07 08:26:05] ax.service.ax_client: Generated new trial 4 with parameters {'x1': -2.362858, 'x2': 8.855021} using model Sobol.\n"
     ]
    },
    {
     "name": "stderr",
     "output_type": "stream",
     "text": [
      "[INFO 11-07 08:26:05] ax.service.ax_client: Completed trial 4 with data: {'branin': (5.811776, nan)}.\n"
     ]
    },
    {
     "name": "stderr",
     "output_type": "stream",
     "text": [
      "[INFO 11-07 08:26:07] ax.service.ax_client: Generated new trial 5 with parameters {'x1': 2.562432, 'x2': 4.925782} using model BoTorch.\n"
     ]
    },
    {
     "name": "stderr",
     "output_type": "stream",
     "text": [
      "[INFO 11-07 08:26:07] ax.service.ax_client: Completed trial 5 with data: {'branin': (6.611189, nan)}.\n"
     ]
    },
    {
     "name": "stderr",
     "output_type": "stream",
     "text": [
      "[INFO 11-07 08:26:07] ax.service.ax_client: Generated new trial 6 with parameters {'x1': 5.50005, 'x2': 4.949873} using model BoTorch.\n"
     ]
    },
    {
     "name": "stderr",
     "output_type": "stream",
     "text": [
      "[INFO 11-07 08:26:07] ax.service.ax_client: Completed trial 6 with data: {'branin': (31.211433, nan)}.\n"
     ]
    },
    {
     "name": "stderr",
     "output_type": "stream",
     "text": [
      "[INFO 11-07 08:26:08] ax.service.ax_client: Generated new trial 7 with parameters {'x1': -2.300231, 'x2': 4.436402} using model BoTorch.\n"
     ]
    },
    {
     "name": "stderr",
     "output_type": "stream",
     "text": [
      "[INFO 11-07 08:26:08] ax.service.ax_client: Completed trial 7 with data: {'branin': (38.505764, nan)}.\n"
     ]
    },
    {
     "name": "stderr",
     "output_type": "stream",
     "text": [
      "[INFO 11-07 08:26:08] ax.service.ax_client: Generated new trial 8 with parameters {'x1': -1.583362, 'x2': 7.318469} using model BoTorch.\n"
     ]
    },
    {
     "name": "stderr",
     "output_type": "stream",
     "text": [
      "[INFO 11-07 08:26:08] ax.service.ax_client: Completed trial 8 with data: {'branin': (12.206194, nan)}.\n"
     ]
    },
    {
     "name": "stderr",
     "output_type": "stream",
     "text": [
      "[INFO 11-07 08:26:09] ax.service.ax_client: Generated new trial 9 with parameters {'x1': -5.0, 'x2': 9.066302} using model BoTorch.\n"
     ]
    },
    {
     "name": "stderr",
     "output_type": "stream",
     "text": [
      "[INFO 11-07 08:26:09] ax.service.ax_client: Completed trial 9 with data: {'branin': (78.675331, nan)}.\n"
     ]
    },
    {
     "name": "stderr",
     "output_type": "stream",
     "text": [
      "[INFO 11-07 08:26:09] ax.service.ax_client: Generated new trial 10 with parameters {'x1': 0.787884, 'x2': 6.879815} using model BoTorch.\n"
     ]
    },
    {
     "name": "stderr",
     "output_type": "stream",
     "text": [
      "[INFO 11-07 08:26:09] ax.service.ax_client: Completed trial 10 with data: {'branin': (20.990005, nan)}.\n"
     ]
    },
    {
     "name": "stderr",
     "output_type": "stream",
     "text": [
      "[INFO 11-07 08:26:10] ax.service.ax_client: Generated new trial 11 with parameters {'x1': 1.60023, 'x2': 0.584966} using model BoTorch.\n"
     ]
    },
    {
     "name": "stderr",
     "output_type": "stream",
     "text": [
      "[INFO 11-07 08:26:10] ax.service.ax_client: Completed trial 11 with data: {'branin': (19.951, nan)}.\n"
     ]
    },
    {
     "name": "stderr",
     "output_type": "stream",
     "text": [
      "[INFO 11-07 08:26:10] ax.service.ax_client: Generated new trial 12 with parameters {'x1': 10.0, 'x2': 0.0} using model BoTorch.\n"
     ]
    },
    {
     "name": "stderr",
     "output_type": "stream",
     "text": [
      "[INFO 11-07 08:26:10] ax.service.ax_client: Completed trial 12 with data: {'branin': (10.960894, nan)}.\n"
     ]
    },
    {
     "name": "stderr",
     "output_type": "stream",
     "text": [
      "[INFO 11-07 08:26:11] ax.service.ax_client: Generated new trial 13 with parameters {'x1': 7.38266, 'x2': 0.0} using model BoTorch.\n"
     ]
    },
    {
     "name": "stderr",
     "output_type": "stream",
     "text": [
      "[INFO 11-07 08:26:11] ax.service.ax_client: Completed trial 13 with data: {'branin': (16.027073, nan)}.\n"
     ]
    },
    {
     "name": "stderr",
     "output_type": "stream",
     "text": [
      "[INFO 11-07 08:26:11] ax.service.ax_client: Generated new trial 14 with parameters {'x1': 4.173322, 'x2': 0.0} using model BoTorch.\n"
     ]
    },
    {
     "name": "stderr",
     "output_type": "stream",
     "text": [
      "[INFO 11-07 08:26:11] ax.service.ax_client: Completed trial 14 with data: {'branin': (7.656268, nan)}.\n"
     ]
    },
    {
     "name": "stderr",
     "output_type": "stream",
     "text": [
      "[INFO 11-07 08:26:12] ax.service.ax_client: Generated new trial 15 with parameters {'x1': -3.935855, 'x2': 15.0} using model BoTorch.\n"
     ]
    },
    {
     "name": "stderr",
     "output_type": "stream",
     "text": [
      "[INFO 11-07 08:26:12] ax.service.ax_client: Completed trial 15 with data: {'branin': (3.810518, nan)}.\n"
     ]
    },
    {
     "name": "stderr",
     "output_type": "stream",
     "text": [
      "[INFO 11-07 08:26:12] ax.service.ax_client: Generated new trial 16 with parameters {'x1': -3.321259, 'x2': 12.38287} using model BoTorch.\n"
     ]
    },
    {
     "name": "stderr",
     "output_type": "stream",
     "text": [
      "[INFO 11-07 08:26:12] ax.service.ax_client: Completed trial 16 with data: {'branin': (0.660087, nan)}.\n"
     ]
    },
    {
     "name": "stderr",
     "output_type": "stream",
     "text": [
      "[INFO 11-07 08:26:13] ax.service.ax_client: Generated new trial 17 with parameters {'x1': 10.0, 'x2': 3.666754} using model BoTorch.\n"
     ]
    },
    {
     "name": "stderr",
     "output_type": "stream",
     "text": [
      "[INFO 11-07 08:26:13] ax.service.ax_client: Completed trial 17 with data: {'branin': (2.383767, nan)}.\n"
     ]
    },
    {
     "name": "stderr",
     "output_type": "stream",
     "text": [
      "[INFO 11-07 08:26:14] ax.service.ax_client: Generated new trial 18 with parameters {'x1': 9.34166, 'x2': 2.5446} using model BoTorch.\n"
     ]
    },
    {
     "name": "stderr",
     "output_type": "stream",
     "text": [
      "[INFO 11-07 08:26:14] ax.service.ax_client: Completed trial 18 with data: {'branin': (0.450308, nan)}.\n"
     ]
    },
    {
     "name": "stderr",
     "output_type": "stream",
     "text": [
      "[INFO 11-07 08:26:14] ax.service.ax_client: Generated new trial 19 with parameters {'x1': 3.076019, 'x2': 2.418569} using model BoTorch.\n"
     ]
    },
    {
     "name": "stderr",
     "output_type": "stream",
     "text": [
      "[INFO 11-07 08:26:14] ax.service.ax_client: Completed trial 19 with data: {'branin': (0.426966, nan)}.\n"
     ]
    },
    {
     "name": "stderr",
     "output_type": "stream",
     "text": [
      "[INFO 11-07 08:26:15] ax.service.ax_client: Generated new trial 20 with parameters {'x1': 9.537424, 'x2': 2.493842} using model BoTorch.\n"
     ]
    },
    {
     "name": "stderr",
     "output_type": "stream",
     "text": [
      "[INFO 11-07 08:26:15] ax.service.ax_client: Completed trial 20 with data: {'branin': (0.4648, nan)}.\n"
     ]
    },
    {
     "name": "stderr",
     "output_type": "stream",
     "text": [
      "[INFO 11-07 08:26:16] ax.service.ax_client: Generated new trial 21 with parameters {'x1': -3.360749, 'x2': 15.0} using model BoTorch.\n"
     ]
    },
    {
     "name": "stderr",
     "output_type": "stream",
     "text": [
      "[INFO 11-07 08:26:16] ax.service.ax_client: Completed trial 21 with data: {'branin': (5.432912, nan)}.\n"
     ]
    },
    {
     "name": "stderr",
     "output_type": "stream",
     "text": [
      "[INFO 11-07 08:26:17] ax.service.ax_client: Generated new trial 22 with parameters {'x1': 9.516079, 'x2': 2.791557} using model BoTorch.\n"
     ]
    },
    {
     "name": "stderr",
     "output_type": "stream",
     "text": [
      "[INFO 11-07 08:26:17] ax.service.ax_client: Completed trial 22 with data: {'branin': (0.494746, nan)}.\n"
     ]
    },
    {
     "name": "stderr",
     "output_type": "stream",
     "text": [
      "[INFO 11-07 08:26:19] ax.service.ax_client: Generated new trial 23 with parameters {'x1': 3.202976, 'x2': 2.439512} using model BoTorch.\n"
     ]
    },
    {
     "name": "stderr",
     "output_type": "stream",
     "text": [
      "[INFO 11-07 08:26:19] ax.service.ax_client: Completed trial 23 with data: {'branin': (0.460872, nan)}.\n"
     ]
    },
    {
     "name": "stderr",
     "output_type": "stream",
     "text": [
      "[INFO 11-07 08:26:20] ax.service.ax_client: Generated new trial 24 with parameters {'x1': 9.625609, 'x2': 2.470825} using model BoTorch.\n"
     ]
    },
    {
     "name": "stderr",
     "output_type": "stream",
     "text": [
      "[INFO 11-07 08:26:20] ax.service.ax_client: Completed trial 24 with data: {'branin': (0.622846, nan)}.\n"
     ]
    },
    {
     "name": "stderr",
     "output_type": "stream",
     "text": [
      "[INFO 11-07 08:26:21] ax.service.ax_client: Generated new trial 25 with parameters {'x1': -3.235781, 'x2': 12.32664} using model BoTorch.\n"
     ]
    },
    {
     "name": "stderr",
     "output_type": "stream",
     "text": [
      "[INFO 11-07 08:26:21] ax.service.ax_client: Completed trial 25 with data: {'branin': (0.471375, nan)}.\n"
     ]
    },
    {
     "name": "stderr",
     "output_type": "stream",
     "text": [
      "[INFO 11-07 08:26:22] ax.service.ax_client: Generated new trial 26 with parameters {'x1': 9.466124, 'x2': 2.301119} using model BoTorch.\n"
     ]
    },
    {
     "name": "stderr",
     "output_type": "stream",
     "text": [
      "[INFO 11-07 08:26:22] ax.service.ax_client: Completed trial 26 with data: {'branin': (0.449765, nan)}.\n"
     ]
    },
    {
     "name": "stderr",
     "output_type": "stream",
     "text": [
      "[W 241107 08:26:24 optimize:576] Optimization failed in `gen_candidates_scipy` with the following warning(s):\n",
      "    [OptimizationWarning('Optimization failed within `scipy.optimize.minimize` with status 2 and message ABNORMAL_TERMINATION_IN_LNSRCH.'), OptimizationWarning('Optimization failed within `scipy.optimize.minimize` with status 2 and message ABNORMAL_TERMINATION_IN_LNSRCH.')]\n",
      "    Trying again with a new set of initial conditions.\n"
     ]
    },
    {
     "name": "stderr",
     "output_type": "stream",
     "text": [
      "[INFO 11-07 08:26:25] ax.service.ax_client: Generated new trial 27 with parameters {'x1': 2.97826, 'x2': 2.43746} using model BoTorch.\n"
     ]
    },
    {
     "name": "stderr",
     "output_type": "stream",
     "text": [
      "[INFO 11-07 08:26:25] ax.service.ax_client: Completed trial 27 with data: {'branin': (0.526684, nan)}.\n"
     ]
    },
    {
     "name": "stderr",
     "output_type": "stream",
     "text": [
      "[INFO 11-07 08:26:27] ax.service.ax_client: Generated new trial 28 with parameters {'x1': -3.286554, 'x2': 12.040548} using model BoTorch.\n"
     ]
    },
    {
     "name": "stderr",
     "output_type": "stream",
     "text": [
      "[INFO 11-07 08:26:27] ax.service.ax_client: Completed trial 28 with data: {'branin': (0.84146, nan)}.\n"
     ]
    },
    {
     "name": "stderr",
     "output_type": "stream",
     "text": [
      "[W 241107 08:26:28 optimize:576] Optimization failed in `gen_candidates_scipy` with the following warning(s):\n",
      "    [OptimizationWarning('Optimization failed within `scipy.optimize.minimize` with status 2 and message ABNORMAL_TERMINATION_IN_LNSRCH.')]\n",
      "    Trying again with a new set of initial conditions.\n"
     ]
    },
    {
     "name": "stderr",
     "output_type": "stream",
     "text": [
      "[INFO 11-07 08:26:29] ax.service.ax_client: Generated new trial 29 with parameters {'x1': 9.459437, 'x2': 2.554713} using model BoTorch.\n"
     ]
    },
    {
     "name": "stderr",
     "output_type": "stream",
     "text": [
      "[INFO 11-07 08:26:29] ax.service.ax_client: Completed trial 29 with data: {'branin': (0.406186, nan)}.\n"
     ]
    }
   ],
   "source": [
    "with fast_smoke_test():\n",
    "    for i in range(NUM_EVALS):\n",
    "        parameters, trial_index = ax_client.get_next_trial()\n",
    "        # Local evaluation here can be replaced with deployment to external system.\n",
    "        ax_client.complete_trial(trial_index=trial_index, raw_data=evaluate(parameters))"
   ]
  },
  {
   "cell_type": "markdown",
   "metadata": {
    "code_folding": [],
    "customInput": null,
    "hidden_ranges": [],
    "isAgentGenerated": false,
    "language": "markdown",
    "originalKey": "2794d041-6a39-483d-a603-cc5088bcd1b2",
    "outputsInitialized": false,
    "showInput": false
   },
   "source": [
    "### Viewing the evaluated trials"
   ]
  },
  {
   "cell_type": "code",
   "execution_count": 8,
   "metadata": {
    "code_folding": [],
    "collapsed": false,
    "customInput": null,
    "executionStartTime": 1730996766045,
    "executionStopTime": 1730996789881,
    "hidden_ranges": [],
    "isAgentGenerated": false,
    "jupyter": {
     "outputs_hidden": false
    },
    "language": "python",
    "originalKey": "26f42620-0f39-4836-aa09-42d1718ee6e6",
    "output": {
     "id": "2736915803137170"
    },
    "outputsInitialized": true,
    "requestMsgId": "26f42620-0f39-4836-aa09-42d1718ee6e6",
    "serverExecutionDuration": 53.62950079143,
    "showInput": true
   },
   "outputs": [
    {
     "name": "stderr",
     "output_type": "stream",
     "text": [
      "[WARNING 11-07 12:53:20] ax.service.utils.report_utils: Column reason missing for all trials. Not appending column.\n"
     ]
    },
    {
     "data": {
      "text/html": [
       "<div>\n",
       "<style scoped>\n",
       "    .dataframe tbody tr th:only-of-type {\n",
       "        vertical-align: middle;\n",
       "    }\n",
       "\n",
       "    .dataframe tbody tr th {\n",
       "        vertical-align: top;\n",
       "    }\n",
       "\n",
       "    .dataframe thead th {\n",
       "        text-align: right;\n",
       "    }\n",
       "</style>\n",
       "<table border=\"1\" class=\"dataframe\">\n",
       "  <thead>\n",
       "    <tr style=\"text-align: right;\">\n",
       "      <th></th>\n",
       "      <th>trial_index</th>\n",
       "      <th>arm_name</th>\n",
       "      <th>trial_status</th>\n",
       "      <th>generation_method</th>\n",
       "      <th>branin</th>\n",
       "      <th>x1</th>\n",
       "      <th>x2</th>\n",
       "    </tr>\n",
       "  </thead>\n",
       "  <tbody>\n",
       "    <tr>\n",
       "      <th>0</th>\n",
       "      <td>0</td>\n",
       "      <td>0_0</td>\n",
       "      <td>COMPLETED</td>\n",
       "      <td>Sobol</td>\n",
       "      <td>104.365417</td>\n",
       "      <td>0.625830</td>\n",
       "      <td>14.359564</td>\n",
       "    </tr>\n",
       "    <tr>\n",
       "      <th>1</th>\n",
       "      <td>1</td>\n",
       "      <td>1_0</td>\n",
       "      <td>COMPLETED</td>\n",
       "      <td>Sobol</td>\n",
       "      <td>2.996862</td>\n",
       "      <td>3.166217</td>\n",
       "      <td>3.867106</td>\n",
       "    </tr>\n",
       "    <tr>\n",
       "      <th>2</th>\n",
       "      <td>2</td>\n",
       "      <td>2_0</td>\n",
       "      <td>COMPLETED</td>\n",
       "      <td>Sobol</td>\n",
       "      <td>66.530632</td>\n",
       "      <td>9.560105</td>\n",
       "      <td>10.718323</td>\n",
       "    </tr>\n",
       "    <tr>\n",
       "      <th>3</th>\n",
       "      <td>3</td>\n",
       "      <td>3_0</td>\n",
       "      <td>COMPLETED</td>\n",
       "      <td>Sobol</td>\n",
       "      <td>198.850861</td>\n",
       "      <td>-3.878664</td>\n",
       "      <td>0.117947</td>\n",
       "    </tr>\n",
       "    <tr>\n",
       "      <th>4</th>\n",
       "      <td>4</td>\n",
       "      <td>4_0</td>\n",
       "      <td>COMPLETED</td>\n",
       "      <td>Sobol</td>\n",
       "      <td>5.811776</td>\n",
       "      <td>-2.362858</td>\n",
       "      <td>8.855021</td>\n",
       "    </tr>\n",
       "    <tr>\n",
       "      <th>5</th>\n",
       "      <td>5</td>\n",
       "      <td>5_0</td>\n",
       "      <td>COMPLETED</td>\n",
       "      <td>BoTorch</td>\n",
       "      <td>6.611040</td>\n",
       "      <td>2.562464</td>\n",
       "      <td>4.925756</td>\n",
       "    </tr>\n",
       "    <tr>\n",
       "      <th>6</th>\n",
       "      <td>6</td>\n",
       "      <td>6_0</td>\n",
       "      <td>COMPLETED</td>\n",
       "      <td>BoTorch</td>\n",
       "      <td>31.249773</td>\n",
       "      <td>5.503428</td>\n",
       "      <td>4.951339</td>\n",
       "    </tr>\n",
       "    <tr>\n",
       "      <th>7</th>\n",
       "      <td>7</td>\n",
       "      <td>7_0</td>\n",
       "      <td>COMPLETED</td>\n",
       "      <td>BoTorch</td>\n",
       "      <td>38.632786</td>\n",
       "      <td>-2.306809</td>\n",
       "      <td>4.436082</td>\n",
       "    </tr>\n",
       "    <tr>\n",
       "      <th>8</th>\n",
       "      <td>8</td>\n",
       "      <td>8_0</td>\n",
       "      <td>COMPLETED</td>\n",
       "      <td>BoTorch</td>\n",
       "      <td>12.208769</td>\n",
       "      <td>-1.582296</td>\n",
       "      <td>7.318848</td>\n",
       "    </tr>\n",
       "    <tr>\n",
       "      <th>9</th>\n",
       "      <td>9</td>\n",
       "      <td>9_0</td>\n",
       "      <td>COMPLETED</td>\n",
       "      <td>BoTorch</td>\n",
       "      <td>78.686066</td>\n",
       "      <td>-5.000000</td>\n",
       "      <td>9.065641</td>\n",
       "    </tr>\n",
       "    <tr>\n",
       "      <th>10</th>\n",
       "      <td>10</td>\n",
       "      <td>10_0</td>\n",
       "      <td>COMPLETED</td>\n",
       "      <td>BoTorch</td>\n",
       "      <td>20.849186</td>\n",
       "      <td>0.779998</td>\n",
       "      <td>6.842907</td>\n",
       "    </tr>\n",
       "    <tr>\n",
       "      <th>11</th>\n",
       "      <td>11</td>\n",
       "      <td>11_0</td>\n",
       "      <td>COMPLETED</td>\n",
       "      <td>BoTorch</td>\n",
       "      <td>19.968334</td>\n",
       "      <td>-0.959171</td>\n",
       "      <td>9.756062</td>\n",
       "    </tr>\n",
       "    <tr>\n",
       "      <th>12</th>\n",
       "      <td>12</td>\n",
       "      <td>12_0</td>\n",
       "      <td>COMPLETED</td>\n",
       "      <td>BoTorch</td>\n",
       "      <td>21.157597</td>\n",
       "      <td>1.759405</td>\n",
       "      <td>0.000000</td>\n",
       "    </tr>\n",
       "    <tr>\n",
       "      <th>13</th>\n",
       "      <td>13</td>\n",
       "      <td>13_0</td>\n",
       "      <td>COMPLETED</td>\n",
       "      <td>BoTorch</td>\n",
       "      <td>3.709130</td>\n",
       "      <td>-3.675210</td>\n",
       "      <td>15.000000</td>\n",
       "    </tr>\n",
       "    <tr>\n",
       "      <th>14</th>\n",
       "      <td>14</td>\n",
       "      <td>14_0</td>\n",
       "      <td>COMPLETED</td>\n",
       "      <td>BoTorch</td>\n",
       "      <td>10.960894</td>\n",
       "      <td>10.000000</td>\n",
       "      <td>0.000000</td>\n",
       "    </tr>\n",
       "    <tr>\n",
       "      <th>15</th>\n",
       "      <td>15</td>\n",
       "      <td>15_0</td>\n",
       "      <td>COMPLETED</td>\n",
       "      <td>BoTorch</td>\n",
       "      <td>11.710300</td>\n",
       "      <td>4.693345</td>\n",
       "      <td>0.000000</td>\n",
       "    </tr>\n",
       "    <tr>\n",
       "      <th>16</th>\n",
       "      <td>16</td>\n",
       "      <td>16_0</td>\n",
       "      <td>COMPLETED</td>\n",
       "      <td>BoTorch</td>\n",
       "      <td>0.400116</td>\n",
       "      <td>-3.160390</td>\n",
       "      <td>12.343285</td>\n",
       "    </tr>\n",
       "    <tr>\n",
       "      <th>17</th>\n",
       "      <td>17</td>\n",
       "      <td>17_0</td>\n",
       "      <td>COMPLETED</td>\n",
       "      <td>BoTorch</td>\n",
       "      <td>2.575594</td>\n",
       "      <td>10.000000</td>\n",
       "      <td>3.798226</td>\n",
       "    </tr>\n",
       "    <tr>\n",
       "      <th>18</th>\n",
       "      <td>18</td>\n",
       "      <td>18_0</td>\n",
       "      <td>COMPLETED</td>\n",
       "      <td>BoTorch</td>\n",
       "      <td>0.555859</td>\n",
       "      <td>3.304444</td>\n",
       "      <td>2.327283</td>\n",
       "    </tr>\n",
       "    <tr>\n",
       "      <th>19</th>\n",
       "      <td>19</td>\n",
       "      <td>19_0</td>\n",
       "      <td>COMPLETED</td>\n",
       "      <td>BoTorch</td>\n",
       "      <td>0.764316</td>\n",
       "      <td>-3.375582</td>\n",
       "      <td>12.520736</td>\n",
       "    </tr>\n",
       "    <tr>\n",
       "      <th>20</th>\n",
       "      <td>20</td>\n",
       "      <td>20_0</td>\n",
       "      <td>COMPLETED</td>\n",
       "      <td>BoTorch</td>\n",
       "      <td>0.543305</td>\n",
       "      <td>9.267105</td>\n",
       "      <td>2.183014</td>\n",
       "    </tr>\n",
       "    <tr>\n",
       "      <th>21</th>\n",
       "      <td>21</td>\n",
       "      <td>21_0</td>\n",
       "      <td>COMPLETED</td>\n",
       "      <td>BoTorch</td>\n",
       "      <td>0.487921</td>\n",
       "      <td>9.536612</td>\n",
       "      <td>2.744301</td>\n",
       "    </tr>\n",
       "    <tr>\n",
       "      <th>22</th>\n",
       "      <td>22</td>\n",
       "      <td>22_0</td>\n",
       "      <td>COMPLETED</td>\n",
       "      <td>BoTorch</td>\n",
       "      <td>0.646773</td>\n",
       "      <td>-3.055135</td>\n",
       "      <td>12.529729</td>\n",
       "    </tr>\n",
       "    <tr>\n",
       "      <th>23</th>\n",
       "      <td>23</td>\n",
       "      <td>23_0</td>\n",
       "      <td>COMPLETED</td>\n",
       "      <td>BoTorch</td>\n",
       "      <td>0.428578</td>\n",
       "      <td>3.099745</td>\n",
       "      <td>2.457142</td>\n",
       "    </tr>\n",
       "    <tr>\n",
       "      <th>24</th>\n",
       "      <td>24</td>\n",
       "      <td>24_0</td>\n",
       "      <td>COMPLETED</td>\n",
       "      <td>BoTorch</td>\n",
       "      <td>2.820818</td>\n",
       "      <td>8.944620</td>\n",
       "      <td>0.943412</td>\n",
       "    </tr>\n",
       "    <tr>\n",
       "      <th>25</th>\n",
       "      <td>25</td>\n",
       "      <td>25_0</td>\n",
       "      <td>COMPLETED</td>\n",
       "      <td>BoTorch</td>\n",
       "      <td>0.467552</td>\n",
       "      <td>9.510065</td>\n",
       "      <td>2.361432</td>\n",
       "    </tr>\n",
       "    <tr>\n",
       "      <th>26</th>\n",
       "      <td>26</td>\n",
       "      <td>26_0</td>\n",
       "      <td>COMPLETED</td>\n",
       "      <td>BoTorch</td>\n",
       "      <td>0.410706</td>\n",
       "      <td>9.425844</td>\n",
       "      <td>2.589096</td>\n",
       "    </tr>\n",
       "    <tr>\n",
       "      <th>27</th>\n",
       "      <td>27</td>\n",
       "      <td>27_0</td>\n",
       "      <td>COMPLETED</td>\n",
       "      <td>BoTorch</td>\n",
       "      <td>0.435478</td>\n",
       "      <td>-3.091638</td>\n",
       "      <td>12.315311</td>\n",
       "    </tr>\n",
       "    <tr>\n",
       "      <th>28</th>\n",
       "      <td>28</td>\n",
       "      <td>28_0</td>\n",
       "      <td>COMPLETED</td>\n",
       "      <td>BoTorch</td>\n",
       "      <td>0.443229</td>\n",
       "      <td>-3.221389</td>\n",
       "      <td>12.345989</td>\n",
       "    </tr>\n",
       "    <tr>\n",
       "      <th>29</th>\n",
       "      <td>29</td>\n",
       "      <td>29_0</td>\n",
       "      <td>COMPLETED</td>\n",
       "      <td>BoTorch</td>\n",
       "      <td>0.483540</td>\n",
       "      <td>3.182468</td>\n",
       "      <td>2.521964</td>\n",
       "    </tr>\n",
       "  </tbody>\n",
       "</table>\n",
       "</div>"
      ],
      "text/plain": [
       "    trial_index arm_name trial_status generation_method      branin  \\\n",
       "0             0      0_0    COMPLETED             Sobol  104.365417   \n",
       "1             1      1_0    COMPLETED             Sobol    2.996862   \n",
       "2             2      2_0    COMPLETED             Sobol   66.530632   \n",
       "3             3      3_0    COMPLETED             Sobol  198.850861   \n",
       "4             4      4_0    COMPLETED             Sobol    5.811776   \n",
       "5             5      5_0    COMPLETED           BoTorch    6.611040   \n",
       "6             6      6_0    COMPLETED           BoTorch   31.249773   \n",
       "7             7      7_0    COMPLETED           BoTorch   38.632786   \n",
       "8             8      8_0    COMPLETED           BoTorch   12.208769   \n",
       "9             9      9_0    COMPLETED           BoTorch   78.686066   \n",
       "10           10     10_0    COMPLETED           BoTorch   20.849186   \n",
       "11           11     11_0    COMPLETED           BoTorch   19.968334   \n",
       "12           12     12_0    COMPLETED           BoTorch   21.157597   \n",
       "13           13     13_0    COMPLETED           BoTorch    3.709130   \n",
       "14           14     14_0    COMPLETED           BoTorch   10.960894   \n",
       "15           15     15_0    COMPLETED           BoTorch   11.710300   \n",
       "16           16     16_0    COMPLETED           BoTorch    0.400116   \n",
       "17           17     17_0    COMPLETED           BoTorch    2.575594   \n",
       "18           18     18_0    COMPLETED           BoTorch    0.555859   \n",
       "19           19     19_0    COMPLETED           BoTorch    0.764316   \n",
       "20           20     20_0    COMPLETED           BoTorch    0.543305   \n",
       "21           21     21_0    COMPLETED           BoTorch    0.487921   \n",
       "22           22     22_0    COMPLETED           BoTorch    0.646773   \n",
       "23           23     23_0    COMPLETED           BoTorch    0.428578   \n",
       "24           24     24_0    COMPLETED           BoTorch    2.820818   \n",
       "25           25     25_0    COMPLETED           BoTorch    0.467552   \n",
       "26           26     26_0    COMPLETED           BoTorch    0.410706   \n",
       "27           27     27_0    COMPLETED           BoTorch    0.435478   \n",
       "28           28     28_0    COMPLETED           BoTorch    0.443229   \n",
       "29           29     29_0    COMPLETED           BoTorch    0.483540   \n",
       "\n",
       "           x1         x2  \n",
       "0    0.625830  14.359564  \n",
       "1    3.166217   3.867106  \n",
       "2    9.560105  10.718323  \n",
       "3   -3.878664   0.117947  \n",
       "4   -2.362858   8.855021  \n",
       "5    2.562464   4.925756  \n",
       "6    5.503428   4.951339  \n",
       "7   -2.306809   4.436082  \n",
       "8   -1.582296   7.318848  \n",
       "9   -5.000000   9.065641  \n",
       "10   0.779998   6.842907  \n",
       "11  -0.959171   9.756062  \n",
       "12   1.759405   0.000000  \n",
       "13  -3.675210  15.000000  \n",
       "14  10.000000   0.000000  \n",
       "15   4.693345   0.000000  \n",
       "16  -3.160390  12.343285  \n",
       "17  10.000000   3.798226  \n",
       "18   3.304444   2.327283  \n",
       "19  -3.375582  12.520736  \n",
       "20   9.267105   2.183014  \n",
       "21   9.536612   2.744301  \n",
       "22  -3.055135  12.529729  \n",
       "23   3.099745   2.457142  \n",
       "24   8.944620   0.943412  \n",
       "25   9.510065   2.361432  \n",
       "26   9.425844   2.589096  \n",
       "27  -3.091638  12.315311  \n",
       "28  -3.221389  12.345989  \n",
       "29   3.182468   2.521964  "
      ]
     },
     "execution_count": 8,
     "metadata": {},
     "output_type": "execute_result"
    }
   ],
   "source": [
    "ax_client.get_trials_data_frame()"
   ]
  },
  {
   "cell_type": "code",
   "execution_count": 9,
   "metadata": {
    "code_folding": [],
    "collapsed": false,
    "customInput": null,
    "executionStartTime": 1730996766786,
    "executionStopTime": 1730996790153,
    "hidden_ranges": [],
    "isAgentGenerated": false,
    "jupyter": {
     "outputs_hidden": false
    },
    "language": "python",
    "originalKey": "89ba4880-e577-40c0-a9f7-5da1df38cb50",
    "output": {
     "id": "2997713397043895"
    },
    "outputsInitialized": true,
    "requestMsgId": "89ba4880-e577-40c0-a9f7-5da1df38cb50",
    "serverExecutionDuration": 252.73659080267,
    "showInput": true
   },
   "outputs": [
    {
     "name": "stdout",
     "output_type": "stream",
     "text": [
      "Best parameters: {'x1': 9.510065129079985, 'x2': 2.361432108875333}\n",
      "Corresponding mean: {'branin': np.float64(0.372037358815291)}, covariance: {'branin': {'branin': np.float64(0.04886421886415146)}}\n"
     ]
    }
   ],
   "source": [
    "parameters, values = ax_client.get_best_parameters()\n",
    "print(f\"Best parameters: {parameters}\")\n",
    "print(f\"Corresponding mean: {values[0]}, covariance: {values[1]}\")"
   ]
  },
  {
   "cell_type": "markdown",
   "metadata": {
    "code_folding": [],
    "customInput": null,
    "hidden_ranges": [],
    "isAgentGenerated": false,
    "language": "markdown",
    "originalKey": "10562d0a-5fc3-4771-91c3-f881bd211174",
    "outputsInitialized": false,
    "showInput": false
   },
   "source": [
    "### Plotting the response surface and optimization progress"
   ]
  },
  {
   "cell_type": "code",
   "execution_count": 10,
   "metadata": {
    "code_folding": [],
    "collapsed": false,
    "customInput": null,
    "executionStartTime": 1730996819269,
    "executionStopTime": 1730996821837,
    "hidden_ranges": [],
    "isAgentGenerated": false,
    "jupyter": {
     "outputs_hidden": false
    },
    "language": "python",
    "originalKey": "9848063a-11f7-41b7-abff-44d6a3d7eb9f",
    "output": {
     "id": "1070981858093152"
    },
    "outputsInitialized": true,
    "requestMsgId": "9848063a-11f7-41b7-abff-44d6a3d7eb9f",
    "serverExecutionDuration": 2040.9845691174,
    "showInput": true
   },
   "outputs": [
    {
     "name": "stderr",
     "output_type": "stream",
     "text": [
      "[INFO 11-07 12:53:22] ax.service.ax_client: Retrieving contour plot with parameter 'x1' on X-axis and 'x2' on Y-axis, for metric 'branin'. Remaining parameters are affixed to the middle of their range.\n"
     ]
    },
    {
     "data": {
      "image/png": "[encoded data removed]"
     },
     "metadata": {},
     "output_type": "display_data"
    }
   ],
   "source": [
    "from ax.utils.notebook.plotting import render\n",
    "\n",
    "render(ax_client.get_contour_plot())"
   ]
  },
  {
   "cell_type": "code",
   "execution_count": 11,
   "metadata": {
    "code_folding": [],
    "collapsed": false,
    "customInput": null,
    "executionStartTime": 1730996822382,
    "executionStopTime": 1730996823213,
    "hidden_ranges": [],
    "isAgentGenerated": false,
    "jupyter": {
     "outputs_hidden": false
    },
    "language": "python",
    "originalKey": "2b8c5ca1-db2e-4aa7-8f53-e1d5ea6406e4",
    "output": {
     "id": "555876497377688"
    },
    "outputsInitialized": true,
    "requestMsgId": "2b8c5ca1-db2e-4aa7-8f53-e1d5ea6406e4",
    "serverExecutionDuration": 255.65920583904,
    "showInput": true
   },
   "outputs": [
    {
     "data": {
      "text/plain": [
       "({'x1': 9.510065129079985, 'x2': 2.361432108875333},\n",
       " {'branin': np.float64(0.372037358815291)})"
      ]
     },
     "execution_count": 11,
     "metadata": {},
     "output_type": "execute_result"
    }
   ],
   "source": [
    "best_parameters, values = ax_client.get_best_parameters()\n",
    "best_parameters, values[0]"
   ]
  },
  {
   "cell_type": "code",
   "execution_count": 12,
   "metadata": {
    "code_folding": [],
    "collapsed": false,
    "customInput": null,
    "executionStartTime": 1730996822759,
    "executionStopTime": 1730996823380,
    "hidden_ranges": [],
    "isAgentGenerated": false,
    "jupyter": {
     "outputs_hidden": false
    },
    "language": "python",
    "originalKey": "998452cf-6251-4f0b-ad9b-ac35b484b634",
    "output": {
     "id": "444230641668471"
    },
    "outputsInitialized": true,
    "requestMsgId": "998452cf-6251-4f0b-ad9b-ac35b484b634",
    "serverExecutionDuration": 118.52293275297,
    "showInput": true
   },
   "outputs": [
    {
     "data": {
      "image/png": "[encoded data removed]"
     },
     "metadata": {},
     "output_type": "display_data"
    }
   ],
   "source": [
    "render(ax_client.get_optimization_trace(objective_optimum=0.397887))"
   ]
  },
  {
   "cell_type": "markdown",
   "metadata": {
    "code_folding": [],
    "hidden_ranges": [],
    "isAgentGenerated": false,
    "language": "markdown",
    "originalKey": "59a5ea1e-1b70-433b-bd3d-e3708d270769",
    "outputsInitialized": false,
    "showInput": false
   },
   "source": [
    "## Optimization with the Developer API\n",
    "\n",
    "A detailed tutorial on the Service API can be found [here](https://ax.dev/tutorials/gpei_hartmann_developer.html).\n",
    "\n",
    "### Set up the Experiment in Ax\n",
    "\n",
    "We need 3 inputs for an Ax `Experiment`:\n",
    "- A search space to optimize over;\n",
    "- An optimization config specifiying the objective / metrics to optimize, and optional outcome constraints;\n",
    "- A runner that handles the deployment of trials. For a synthetic optimization problem, such as here, this only returns simple metadata about the trial."
   ]
  },
  {
   "cell_type": "code",
   "execution_count": 13,
   "metadata": {
    "code_folding": [],
    "collapsed": false,
    "customInput": null,
    "executionStartTime": 1730996823528,
    "executionStopTime": 1730996823772,
    "hidden_ranges": [],
    "isAgentGenerated": false,
    "jupyter": {
     "outputs_hidden": false
    },
    "language": "python",
    "originalKey": "7af04314-588b-44c9-b041-12795d720597",
    "outputsInitialized": true,
    "requestMsgId": "7af04314-588b-44c9-b041-12795d720597",
    "serverExecutionDuration": 4.5209536328912,
    "showInput": true
   },
   "outputs": [],
   "source": [
    "import pandas as pd\n",
    "import torch\n",
    "from ax import (\n",
    "    Data,\n",
    "    Experiment,\n",
    "    Metric,\n",
    "    Objective,\n",
    "    OptimizationConfig,\n",
    "    ParameterType,\n",
    "    RangeParameter,\n",
    "    Runner,\n",
    "    SearchSpace,\n",
    ")\n",
    "from ax.utils.common.result import Ok\n",
    "from botorch.test_functions import Branin\n",
    "\n",
    "\n",
    "branin_func = Branin()\n",
    "\n",
    "# For our purposes, the metric is a wrapper that structures the function output.\n",
    "class BraninMetric(Metric):\n",
    "    def fetch_trial_data(self, trial):\n",
    "        records = []\n",
    "        for arm_name, arm in trial.arms_by_name.items():\n",
    "            params = arm.parameters\n",
    "            tensor_params = torch.tensor([params[\"x1\"], params[\"x2\"]])\n",
    "            records.append(\n",
    "                {\n",
    "                    \"arm_name\": arm_name,\n",
    "                    \"metric_name\": self.name,\n",
    "                    \"trial_index\": trial.index,\n",
    "                    \"mean\": branin_func(tensor_params),\n",
    "                    \"sem\": float(\n",
    "                        \"nan\"\n",
    "                    ),  # SEM (observation noise) - NaN indicates unknown\n",
    "                }\n",
    "            )\n",
    "        return Ok(value=Data(df=pd.DataFrame.from_records(records)))\n",
    "\n",
    "\n",
    "# Search space defines the parameters, their types, and acceptable values.\n",
    "search_space = SearchSpace(\n",
    "    parameters=[\n",
    "        RangeParameter(\n",
    "            name=\"x1\", parameter_type=ParameterType.FLOAT, lower=-5, upper=10\n",
    "        ),\n",
    "        RangeParameter(\n",
    "            name=\"x2\", parameter_type=ParameterType.FLOAT, lower=0, upper=15\n",
    "        ),\n",
    "    ]\n",
    ")\n",
    "\n",
    "optimization_config = OptimizationConfig(\n",
    "    objective=Objective(\n",
    "        metric=BraninMetric(name=\"branin_metric\", lower_is_better=True),\n",
    "        minimize=True,  # This is optional since we specified `lower_is_better=True`\n",
    "    )\n",
    ")\n",
    "\n",
    "\n",
    "class MyRunner(Runner):\n",
    "    def run(self, trial):\n",
    "        trial_metadata = {\"name\": str(trial.index)}\n",
    "        return trial_metadata\n",
    "\n",
    "\n",
    "exp = Experiment(\n",
    "    name=\"branin_experiment\",\n",
    "    search_space=search_space,\n",
    "    optimization_config=optimization_config,\n",
    "    runner=MyRunner(),\n",
    ")"
   ]
  },
  {
   "cell_type": "markdown",
   "metadata": {
    "code_folding": [],
    "hidden_ranges": [],
    "isAgentGenerated": false,
    "language": "markdown",
    "originalKey": "a5cb8ffb-3af8-4fdd-85b4-a10917177dc7",
    "outputsInitialized": false,
    "showInput": false
   },
   "source": [
    "### Run the BO loop\n",
    "\n",
    "First, we use the Sobol generator to create 5 (quasi-) random initial point in the search space. Ax controls objective evaluations via `Trial`s. \n",
    "- We generate a `Trial` using a generator run, e.g., `Sobol` below. A `Trial` specifies relevant metadata as well as the parameters to be evaluated. At this point, the `Trial` is at the `CANDIDATE` stage.\n",
    "- We run the `Trial` using `Trial.run()`. In our example, this serves to mark the `Trial` as `RUNNING`. In an advanced application, this can be used to dispatch the `Trial` for evaluation on a remote server.\n",
    "- Once the `Trial` is done running, we mark it as `COMPLETED`. This tells the `Experiment` that it can fetch the `Trial` data. \n",
    "\n",
    "A `Trial` supports evaluation of a single parameterization. For parallel evaluations, see [`BatchTrial`](https://ax.dev/docs/core.html#trial-vs-batch-trial)."
   ]
  },
  {
   "cell_type": "code",
   "execution_count": 14,
   "metadata": {
    "code_folding": [],
    "collapsed": false,
    "executionStartTime": 1730996824494,
    "executionStopTime": 1730996824758,
    "hidden_ranges": [],
    "isAgentGenerated": false,
    "jupyter": {
     "outputs_hidden": false
    },
    "language": "python",
    "originalKey": "e7c73fd6-9664-4524-b0b1-91e127e26b67",
    "outputsInitialized": true,
    "requestMsgId": "e7c73fd6-9664-4524-b0b1-91e127e26b67",
    "serverExecutionDuration": 11.998974718153
   },
   "outputs": [],
   "source": [
    "from ax.modelbridge.registry import Models\n",
    "\n",
    "\n",
    "sobol = Models.SOBOL(exp.search_space)\n",
    "\n",
    "for i in range(5):\n",
    "    trial = exp.new_trial(generator_run=sobol.gen(1))\n",
    "    trial.run()\n",
    "    trial.mark_completed()"
   ]
  },
  {
   "cell_type": "markdown",
   "metadata": {
    "code_folding": [],
    "customInput": null,
    "hidden_ranges": [],
    "isAgentGenerated": false,
    "language": "markdown",
    "originalKey": "33fef7a2-67db-43cd-bc84-4d5736c582e7",
    "outputsInitialized": false,
    "showInput": false
   },
   "source": [
    "Once the initial (quasi-) random stage is completed, we can use our `SimpleCustomGP` with the default acquisition function chosen by `Ax` to run the BO loop."
   ]
  },
  {
   "cell_type": "code",
   "execution_count": 15,
   "metadata": {
    "code_folding": [],
    "collapsed": false,
    "customInput": null,
    "executionStartTime": 1730996825586,
    "executionStopTime": 1730996847043,
    "hidden_ranges": [],
    "isAgentGenerated": false,
    "jupyter": {
     "outputs_hidden": false
    },
    "language": "python",
    "originalKey": "abc178e3-3e93-4855-b03b-c9acaf3fc7a5",
    "outputsInitialized": true,
    "requestMsgId": "abc178e3-3e93-4855-b03b-c9acaf3fc7a5",
    "serverExecutionDuration": 21109.300409909,
    "showInput": true
   },
   "outputs": [],
   "source": [
    "with fast_smoke_test():\n",
    "    for i in range(NUM_EVALS - 5):\n",
    "        model_bridge = Models.BOTORCH_MODULAR(\n",
    "            experiment=exp,\n",
    "            data=exp.fetch_data(),\n",
    "            surrogate_spec=SurrogateSpec(model_configs=[ModelConfig(SimpleCustomGP)]),\n",
    "        )\n",
    "        trial = exp.new_trial(generator_run=model_bridge.gen(1))\n",
    "        trial.run()\n",
    "        trial.mark_completed()"
   ]
  },
  {
   "cell_type": "markdown",
   "metadata": {
    "code_folding": [],
    "customInput": null,
    "hidden_ranges": [],
    "isAgentGenerated": false,
    "language": "markdown",
    "originalKey": "cb16843a-0e12-47fc-860f-eafb74f1bd3b",
    "outputsInitialized": false,
    "showInput": false
   },
   "source": [
    "View the trials attached to the `Experiment`."
   ]
  },
  {
   "cell_type": "code",
   "execution_count": 16,
   "metadata": {
    "code_folding": [],
    "collapsed": false,
    "customInput": null,
    "executionStartTime": 1730996826387,
    "executionStopTime": 1730996847147,
    "hidden_ranges": [],
    "isAgentGenerated": false,
    "jupyter": {
     "outputs_hidden": false
    },
    "language": "python",
    "originalKey": "a96bc2d0-161f-4d04-b007-d4dee67495b7",
    "output": {
     "id": "594908669713548"
    },
    "outputsInitialized": true,
    "requestMsgId": "a96bc2d0-161f-4d04-b007-d4dee67495b7",
    "serverExecutionDuration": 3.2807770185173,
    "showInput": true
   },
   "outputs": [
    {
     "data": {
      "text/plain": [
       "{0: Trial(experiment_name='branin_experiment', index=0, status=TrialStatus.COMPLETED, arm=Arm(name='0_0', parameters={'x1': 8.268271088600159, 'x2': 13.676363825798035})),\n",
       " 1: Trial(experiment_name='branin_experiment', index=1, status=TrialStatus.COMPLETED, arm=Arm(name='1_0', parameters={'x1': -3.0115276388823986, 'x2': 0.19308556336909533})),\n",
       " 2: Trial(experiment_name='branin_experiment', index=2, status=TrialStatus.COMPLETED, arm=Arm(name='2_0', parameters={'x1': -0.794604872353375, 'x2': 10.19062165170908})),\n",
       " 3: Trial(experiment_name='branin_experiment', index=3, status=TrialStatus.COMPLETED, arm=Arm(name='3_0', parameters={'x1': 2.7553387405350804, 'x2': 4.206141787581146})),\n",
       " 4: Trial(experiment_name='branin_experiment', index=4, status=TrialStatus.COMPLETED, arm=Arm(name='4_0', parameters={'x1': 5.150513867847621, 'x2': 9.072991241700947})),\n",
       " 5: Trial(experiment_name='branin_experiment', index=5, status=TrialStatus.COMPLETED, arm=Arm(name='5_0', parameters={'x1': 1.5497872135088082, 'x2': 9.19017678783918})),\n",
       " 6: Trial(experiment_name='branin_experiment', index=6, status=TrialStatus.COMPLETED, arm=Arm(name='6_0', parameters={'x1': 7.35880350484438, 'x2': 3.182282876550653})),\n",
       " 7: Trial(experiment_name='branin_experiment', index=7, status=TrialStatus.COMPLETED, arm=Arm(name='7_0', parameters={'x1': -5.0, 'x2': 8.206550963671184})),\n",
       " 8: Trial(experiment_name='branin_experiment', index=8, status=TrialStatus.COMPLETED, arm=Arm(name='8_0', parameters={'x1': 4.765065782500189, 'x2': 1.252289390966608})),\n",
       " 9: Trial(experiment_name='branin_experiment', index=9, status=TrialStatus.COMPLETED, arm=Arm(name='9_0', parameters={'x1': 4.505201068669873, 'x2': 3.3644975986881467})),\n",
       " 10: Trial(experiment_name='branin_experiment', index=10, status=TrialStatus.COMPLETED, arm=Arm(name='10_0', parameters={'x1': -3.1164341906014323, 'x2': 15.0})),\n",
       " 11: Trial(experiment_name='branin_experiment', index=11, status=TrialStatus.COMPLETED, arm=Arm(name='11_0', parameters={'x1': 10.0, 'x2': 0.0})),\n",
       " 12: Trial(experiment_name='branin_experiment', index=12, status=TrialStatus.COMPLETED, arm=Arm(name='12_0', parameters={'x1': -5.0, 'x2': 15.0})),\n",
       " 13: Trial(experiment_name='branin_experiment', index=13, status=TrialStatus.COMPLETED, arm=Arm(name='13_0', parameters={'x1': 10.0, 'x2': 2.8078129263430163})),\n",
       " 14: Trial(experiment_name='branin_experiment', index=14, status=TrialStatus.COMPLETED, arm=Arm(name='14_0', parameters={'x1': 2.445554777112278, 'x2': 2.2462261858873593})),\n",
       " 15: Trial(experiment_name='branin_experiment', index=15, status=TrialStatus.COMPLETED, arm=Arm(name='15_0', parameters={'x1': 2.480451132691808, 'x2': 3.056693071733582})),\n",
       " 16: Trial(experiment_name='branin_experiment', index=16, status=TrialStatus.COMPLETED, arm=Arm(name='16_0', parameters={'x1': 10.0, 'x2': 3.9059386481288194})),\n",
       " 17: Trial(experiment_name='branin_experiment', index=17, status=TrialStatus.COMPLETED, arm=Arm(name='17_0', parameters={'x1': 2.0237354666184544, 'x2': 3.511643776100397})),\n",
       " 18: Trial(experiment_name='branin_experiment', index=18, status=TrialStatus.COMPLETED, arm=Arm(name='18_0', parameters={'x1': 2.8769752653087997, 'x2': 2.2483802909633863})),\n",
       " 19: Trial(experiment_name='branin_experiment', index=19, status=TrialStatus.COMPLETED, arm=Arm(name='19_0', parameters={'x1': 3.0536513312697213, 'x2': 2.4346471208663614})),\n",
       " 20: Trial(experiment_name='branin_experiment', index=20, status=TrialStatus.COMPLETED, arm=Arm(name='20_0', parameters={'x1': 9.427576408084287, 'x2': 2.557223349069929})),\n",
       " 21: Trial(experiment_name='branin_experiment', index=21, status=TrialStatus.COMPLETED, arm=Arm(name='21_0', parameters={'x1': 8.84736166287066, 'x2': 0.8696191586858866})),\n",
       " 22: Trial(experiment_name='branin_experiment', index=22, status=TrialStatus.COMPLETED, arm=Arm(name='22_0', parameters={'x1': -1.5039526251440347, 'x2': 15.0})),\n",
       " 23: Trial(experiment_name='branin_experiment', index=23, status=TrialStatus.COMPLETED, arm=Arm(name='23_0', parameters={'x1': -3.335556146334603, 'x2': 12.910932366431291})),\n",
       " 24: Trial(experiment_name='branin_experiment', index=24, status=TrialStatus.COMPLETED, arm=Arm(name='24_0', parameters={'x1': -3.491879380808762, 'x2': 13.514831783855984})),\n",
       " 25: Trial(experiment_name='branin_experiment', index=25, status=TrialStatus.COMPLETED, arm=Arm(name='25_0', parameters={'x1': -3.031782920987203, 'x2': 11.976525526649187})),\n",
       " 26: Trial(experiment_name='branin_experiment', index=26, status=TrialStatus.COMPLETED, arm=Arm(name='26_0', parameters={'x1': -3.1412934283043814, 'x2': 12.616052311698178})),\n",
       " 27: Trial(experiment_name='branin_experiment', index=27, status=TrialStatus.COMPLETED, arm=Arm(name='27_0', parameters={'x1': 9.455852758717114, 'x2': 2.3674336079024183})),\n",
       " 28: Trial(experiment_name='branin_experiment', index=28, status=TrialStatus.COMPLETED, arm=Arm(name='28_0', parameters={'x1': 3.1364699781417986, 'x2': 2.025242611585696})),\n",
       " 29: Trial(experiment_name='branin_experiment', index=29, status=TrialStatus.COMPLETED, arm=Arm(name='29_0', parameters={'x1': -2.936274156572808, 'x2': 11.259953484546505}))}"
      ]
     },
     "execution_count": 16,
     "metadata": {},
     "output_type": "execute_result"
    }
   ],
   "source": [
    "exp.trials"
   ]
  },
  {
   "cell_type": "markdown",
   "metadata": {
    "code_folding": [],
    "customInput": null,
    "hidden_ranges": [],
    "isAgentGenerated": false,
    "language": "markdown",
    "originalKey": "f96540ca-1043-4803-ad8c-d143d98373a2",
    "outputsInitialized": false,
    "showInput": false
   },
   "source": [
    "View the evaluation data about these trials."
   ]
  },
  {
   "cell_type": "code",
   "execution_count": 17,
   "metadata": {
    "code_folding": [],
    "collapsed": false,
    "customInput": null,
    "executionStartTime": 1730996827087,
    "executionStopTime": 1730996847292,
    "hidden_ranges": [],
    "isAgentGenerated": false,
    "jupyter": {
     "outputs_hidden": false
    },
    "language": "python",
    "originalKey": "fa05b927-d262-46fd-bb82-e7f89f8bbc3d",
    "output": {
     "id": "483337300710020"
    },
    "outputsInitialized": true,
    "requestMsgId": "fa05b927-d262-46fd-bb82-e7f89f8bbc3d",
    "serverExecutionDuration": 168.97921916097,
    "showInput": true
   },
   "outputs": [
    {
     "data": {
      "text/html": [
       "<div>\n",
       "<style scoped>\n",
       "    .dataframe tbody tr th:only-of-type {\n",
       "        vertical-align: middle;\n",
       "    }\n",
       "\n",
       "    .dataframe tbody tr th {\n",
       "        vertical-align: top;\n",
       "    }\n",
       "\n",
       "    .dataframe thead th {\n",
       "        text-align: right;\n",
       "    }\n",
       "</style>\n",
       "<table border=\"1\" class=\"dataframe\">\n",
       "  <thead>\n",
       "    <tr style=\"text-align: right;\">\n",
       "      <th></th>\n",
       "      <th>arm_name</th>\n",
       "      <th>metric_name</th>\n",
       "      <th>mean</th>\n",
       "      <th>sem</th>\n",
       "      <th>trial_index</th>\n",
       "    </tr>\n",
       "  </thead>\n",
       "  <tbody>\n",
       "    <tr>\n",
       "      <th>0</th>\n",
       "      <td>0_0</td>\n",
       "      <td>branin_metric</td>\n",
       "      <td>150.233566</td>\n",
       "      <td>NaN</td>\n",
       "      <td>0</td>\n",
       "    </tr>\n",
       "    <tr>\n",
       "      <th>1</th>\n",
       "      <td>1_0</td>\n",
       "      <td>branin_metric</td>\n",
       "      <td>139.047729</td>\n",
       "      <td>NaN</td>\n",
       "      <td>1</td>\n",
       "    </tr>\n",
       "    <tr>\n",
       "      <th>2</th>\n",
       "      <td>2_0</td>\n",
       "      <td>branin_metric</td>\n",
       "      <td>24.817539</td>\n",
       "      <td>NaN</td>\n",
       "      <td>2</td>\n",
       "    </tr>\n",
       "    <tr>\n",
       "      <th>3</th>\n",
       "      <td>3_0</td>\n",
       "      <td>branin_metric</td>\n",
       "      <td>3.699482</td>\n",
       "      <td>NaN</td>\n",
       "      <td>3</td>\n",
       "    </tr>\n",
       "    <tr>\n",
       "      <th>4</th>\n",
       "      <td>4_0</td>\n",
       "      <td>branin_metric</td>\n",
       "      <td>75.591110</td>\n",
       "      <td>NaN</td>\n",
       "      <td>4</td>\n",
       "    </tr>\n",
       "    <tr>\n",
       "      <th>5</th>\n",
       "      <td>5_0</td>\n",
       "      <td>branin_metric</td>\n",
       "      <td>38.786335</td>\n",
       "      <td>NaN</td>\n",
       "      <td>5</td>\n",
       "    </tr>\n",
       "    <tr>\n",
       "      <th>6</th>\n",
       "      <td>6_0</td>\n",
       "      <td>branin_metric</td>\n",
       "      <td>18.167435</td>\n",
       "      <td>NaN</td>\n",
       "      <td>6</td>\n",
       "    </tr>\n",
       "    <tr>\n",
       "      <th>7</th>\n",
       "      <td>7_0</td>\n",
       "      <td>branin_metric</td>\n",
       "      <td>93.378693</td>\n",
       "      <td>NaN</td>\n",
       "      <td>7</td>\n",
       "    </tr>\n",
       "    <tr>\n",
       "      <th>8</th>\n",
       "      <td>8_0</td>\n",
       "      <td>branin_metric</td>\n",
       "      <td>10.515005</td>\n",
       "      <td>NaN</td>\n",
       "      <td>8</td>\n",
       "    </tr>\n",
       "    <tr>\n",
       "      <th>9</th>\n",
       "      <td>9_0</td>\n",
       "      <td>branin_metric</td>\n",
       "      <td>11.683224</td>\n",
       "      <td>NaN</td>\n",
       "      <td>9</td>\n",
       "    </tr>\n",
       "    <tr>\n",
       "      <th>10</th>\n",
       "      <td>10_0</td>\n",
       "      <td>branin_metric</td>\n",
       "      <td>8.159270</td>\n",
       "      <td>NaN</td>\n",
       "      <td>10</td>\n",
       "    </tr>\n",
       "    <tr>\n",
       "      <th>11</th>\n",
       "      <td>11_0</td>\n",
       "      <td>branin_metric</td>\n",
       "      <td>10.960894</td>\n",
       "      <td>NaN</td>\n",
       "      <td>11</td>\n",
       "    </tr>\n",
       "    <tr>\n",
       "      <th>12</th>\n",
       "      <td>12_0</td>\n",
       "      <td>branin_metric</td>\n",
       "      <td>17.508297</td>\n",
       "      <td>NaN</td>\n",
       "      <td>12</td>\n",
       "    </tr>\n",
       "    <tr>\n",
       "      <th>13</th>\n",
       "      <td>13_0</td>\n",
       "      <td>branin_metric</td>\n",
       "      <td>1.981222</td>\n",
       "      <td>NaN</td>\n",
       "      <td>13</td>\n",
       "    </tr>\n",
       "    <tr>\n",
       "      <th>14</th>\n",
       "      <td>14_0</td>\n",
       "      <td>branin_metric</td>\n",
       "      <td>3.033621</td>\n",
       "      <td>NaN</td>\n",
       "      <td>14</td>\n",
       "    </tr>\n",
       "    <tr>\n",
       "      <th>15</th>\n",
       "      <td>15_0</td>\n",
       "      <td>branin_metric</td>\n",
       "      <td>2.465075</td>\n",
       "      <td>NaN</td>\n",
       "      <td>15</td>\n",
       "    </tr>\n",
       "    <tr>\n",
       "      <th>16</th>\n",
       "      <td>16_0</td>\n",
       "      <td>branin_metric</td>\n",
       "      <td>2.758517</td>\n",
       "      <td>NaN</td>\n",
       "      <td>16</td>\n",
       "    </tr>\n",
       "    <tr>\n",
       "      <th>17</th>\n",
       "      <td>17_0</td>\n",
       "      <td>branin_metric</td>\n",
       "      <td>5.839406</td>\n",
       "      <td>NaN</td>\n",
       "      <td>17</td>\n",
       "    </tr>\n",
       "    <tr>\n",
       "      <th>18</th>\n",
       "      <td>18_0</td>\n",
       "      <td>branin_metric</td>\n",
       "      <td>0.790689</td>\n",
       "      <td>NaN</td>\n",
       "      <td>18</td>\n",
       "    </tr>\n",
       "    <tr>\n",
       "      <th>19</th>\n",
       "      <td>19_0</td>\n",
       "      <td>branin_metric</td>\n",
       "      <td>0.443105</td>\n",
       "      <td>NaN</td>\n",
       "      <td>19</td>\n",
       "    </tr>\n",
       "    <tr>\n",
       "      <th>20</th>\n",
       "      <td>20_0</td>\n",
       "      <td>branin_metric</td>\n",
       "      <td>0.404304</td>\n",
       "      <td>NaN</td>\n",
       "      <td>20</td>\n",
       "    </tr>\n",
       "    <tr>\n",
       "      <th>21</th>\n",
       "      <td>21_0</td>\n",
       "      <td>branin_metric</td>\n",
       "      <td>3.303451</td>\n",
       "      <td>NaN</td>\n",
       "      <td>21</td>\n",
       "    </tr>\n",
       "    <tr>\n",
       "      <th>22</th>\n",
       "      <td>22_0</td>\n",
       "      <td>branin_metric</td>\n",
       "      <td>50.510307</td>\n",
       "      <td>NaN</td>\n",
       "      <td>22</td>\n",
       "    </tr>\n",
       "    <tr>\n",
       "      <th>23</th>\n",
       "      <td>23_0</td>\n",
       "      <td>branin_metric</td>\n",
       "      <td>0.605148</td>\n",
       "      <td>NaN</td>\n",
       "      <td>23</td>\n",
       "    </tr>\n",
       "    <tr>\n",
       "      <th>24</th>\n",
       "      <td>24_0</td>\n",
       "      <td>branin_metric</td>\n",
       "      <td>1.127027</td>\n",
       "      <td>NaN</td>\n",
       "      <td>24</td>\n",
       "    </tr>\n",
       "    <tr>\n",
       "      <th>25</th>\n",
       "      <td>25_0</td>\n",
       "      <td>branin_metric</td>\n",
       "      <td>0.457026</td>\n",
       "      <td>NaN</td>\n",
       "      <td>25</td>\n",
       "    </tr>\n",
       "    <tr>\n",
       "      <th>26</th>\n",
       "      <td>26_0</td>\n",
       "      <td>branin_metric</td>\n",
       "      <td>0.514696</td>\n",
       "      <td>NaN</td>\n",
       "      <td>26</td>\n",
       "    </tr>\n",
       "    <tr>\n",
       "      <th>27</th>\n",
       "      <td>27_0</td>\n",
       "      <td>branin_metric</td>\n",
       "      <td>0.420453</td>\n",
       "      <td>NaN</td>\n",
       "      <td>27</td>\n",
       "    </tr>\n",
       "    <tr>\n",
       "      <th>28</th>\n",
       "      <td>28_0</td>\n",
       "      <td>branin_metric</td>\n",
       "      <td>0.462405</td>\n",
       "      <td>NaN</td>\n",
       "      <td>28</td>\n",
       "    </tr>\n",
       "    <tr>\n",
       "      <th>29</th>\n",
       "      <td>29_0</td>\n",
       "      <td>branin_metric</td>\n",
       "      <td>0.877364</td>\n",
       "      <td>NaN</td>\n",
       "      <td>29</td>\n",
       "    </tr>\n",
       "  </tbody>\n",
       "</table>\n",
       "</div>"
      ],
      "text/plain": [
       "   arm_name    metric_name        mean  sem  trial_index\n",
       "0       0_0  branin_metric  150.233566  NaN            0\n",
       "1       1_0  branin_metric  139.047729  NaN            1\n",
       "2       2_0  branin_metric   24.817539  NaN            2\n",
       "3       3_0  branin_metric    3.699482  NaN            3\n",
       "4       4_0  branin_metric   75.591110  NaN            4\n",
       "5       5_0  branin_metric   38.786335  NaN            5\n",
       "6       6_0  branin_metric   18.167435  NaN            6\n",
       "7       7_0  branin_metric   93.378693  NaN            7\n",
       "8       8_0  branin_metric   10.515005  NaN            8\n",
       "9       9_0  branin_metric   11.683224  NaN            9\n",
       "10     10_0  branin_metric    8.159270  NaN           10\n",
       "11     11_0  branin_metric   10.960894  NaN           11\n",
       "12     12_0  branin_metric   17.508297  NaN           12\n",
       "13     13_0  branin_metric    1.981222  NaN           13\n",
       "14     14_0  branin_metric    3.033621  NaN           14\n",
       "15     15_0  branin_metric    2.465075  NaN           15\n",
       "16     16_0  branin_metric    2.758517  NaN           16\n",
       "17     17_0  branin_metric    5.839406  NaN           17\n",
       "18     18_0  branin_metric    0.790689  NaN           18\n",
       "19     19_0  branin_metric    0.443105  NaN           19\n",
       "20     20_0  branin_metric    0.404304  NaN           20\n",
       "21     21_0  branin_metric    3.303451  NaN           21\n",
       "22     22_0  branin_metric   50.510307  NaN           22\n",
       "23     23_0  branin_metric    0.605148  NaN           23\n",
       "24     24_0  branin_metric    1.127027  NaN           24\n",
       "25     25_0  branin_metric    0.457026  NaN           25\n",
       "26     26_0  branin_metric    0.514696  NaN           26\n",
       "27     27_0  branin_metric    0.420453  NaN           27\n",
       "28     28_0  branin_metric    0.462405  NaN           28\n",
       "29     29_0  branin_metric    0.877364  NaN           29"
      ]
     },
     "execution_count": 17,
     "metadata": {},
     "output_type": "execute_result"
    }
   ],
   "source": [
    "exp.fetch_data().df"
   ]
  },
  {
   "cell_type": "markdown",
   "metadata": {
    "code_folding": [],
    "customInput": null,
    "hidden_ranges": [],
    "isAgentGenerated": false,
    "language": "markdown",
    "originalKey": "c3ed0ec0-5002-4e7c-9e57-915e2a671abc",
    "outputsInitialized": false,
    "showInput": false
   },
   "source": [
    "### Plot results\n",
    "\n",
    "We can use convenient Ax utilities for plotting the results."
   ]
  },
  {
   "cell_type": "code",
   "execution_count": 18,
   "metadata": {
    "code_folding": [],
    "collapsed": false,
    "customInput": null,
    "executionStartTime": 1730996827721,
    "executionStopTime": 1730996847354,
    "hidden_ranges": [],
    "isAgentGenerated": false,
    "jupyter": {
     "outputs_hidden": false
    },
    "language": "python",
    "originalKey": "1546c0cf-94f1-4573-acd2-fde9e38d105e",
    "output": {
     "id": "957716379715459"
    },
    "outputsInitialized": true,
    "requestMsgId": "1546c0cf-94f1-4573-acd2-fde9e38d105e",
    "serverExecutionDuration": 78.405936714262,
    "showInput": true
   },
   "outputs": [
    {
     "data": {
      "image/png": "[encoded data removed]"
     },
     "metadata": {},
     "output_type": "display_data"
    }
   ],
   "source": [
    "import numpy as np\n",
    "from ax.plot.trace import optimization_trace_single_method\n",
    "\n",
    "\n",
    "# `plot_single_method` expects a 2-d array of means, because it expects to average means from multiple\n",
    "# optimization runs, so we wrap out best objectives array in another array.\n",
    "objective_means = np.array([[trial.objective_mean for trial in exp.trials.values()]])\n",
    "best_objective_plot = optimization_trace_single_method(\n",
    "    y=np.minimum.accumulate(objective_means, axis=1),\n",
    "    optimum=0.397887,  # Known minimum objective for Branin function.\n",
    ")\n",
    "render(best_objective_plot)"
   ]
  }
 ],
 "metadata": {
  "custom": {
   "cells": [],
   "metadata": {
    "fileHeader": "",
    "isAdHoc": false,
    "kernelspec": {
     "display_name": "python3",
     "language": "python",
     "name": "python3"
    },
    "language_info": {
     "codemirror_mode": {
      "name": "ipython",
      "version": 3
     },
     "file_extension": ".py",
     "mimetype": "text/x-python",
     "name": "python",
     "nbconvert_exporter": "python",
     "pygments_lexer": "ipython3",
     "version": "3.8.13"
    }
   },
   "nbformat": 4,
   "nbformat_minor": 2
  },
  "indentAmount": 2,
  "kernelspec": {
   "display_name": "Python 3 (ipykernel)",
   "language": "python",
   "name": "python3"
  },
  "language_info": {
   "codemirror_mode": {
    "name": "ipython",
    "version": 3
   },
   "file_extension": ".py",
   "mimetype": "text/x-python",
   "name": "python",
   "nbconvert_exporter": "python",
   "pygments_lexer": "ipython3",
   "version": "3.11.10"
  },
  "last_base_url": "https://bento.edge.x2p.facebook.net/",
  "last_kernel_id": "2aaa652f-0c5c-4d10-a405-c876ee910cd9",
  "last_msg_id": "5171cf29-eaa9a8ddaa473c97a4ec9b4c_3655",
  "last_server_session_id": "3a3c3914-d10d-4144-bb71-b197cc08b48a"
 },
 "nbformat": 4,
 "nbformat_minor": 4
}
