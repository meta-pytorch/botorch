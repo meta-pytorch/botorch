{
  "metadata": {
    "dataExplorerConfig": {},
    "kernelspec": {
      "display_name": "python3",
      "language": "python",
      "name": "python3",
      "metadata": {
        "kernel_name": "bento_kernel_ae",
        "nightly_builds": false,
        "fbpkg_supported": true,
        "cinder_runtime": false,
        "is_prebuilt": true
      }
    },
    "toc": {
      "base_numbering": 1,
      "nav_menu": {},
      "number_sections": true,
      "sideBar": true,
      "skip_h1_title": false,
      "title_cell": "Table of Contents",
      "title_sidebar": "Contents",
      "toc_cell": false,
      "toc_position": {},
      "toc_section_display": true,
      "toc_window_display": false
    },
    "varInspector": {
      "cols": {
        "lenName": 16,
        "lenType": 16,
        "lenVar": 40
      },
      "kernels_config": {
        "python": {
          "delete_cmd_postfix": "",
          "delete_cmd_prefix": "del ",
          "library": "var_list.py",
          "varRefreshCmd": "print(var_dic_list())"
        },
        "r": {
          "delete_cmd_postfix": ") ",
          "delete_cmd_prefix": "rm(",
          "library": "var_list.r",
          "varRefreshCmd": "cat(var_dic_list()) "
        }
      },
      "position": {
        "height": "423.4px",
        "left": "858.8px",
        "right": "20px",
        "top": "120px",
        "width": "350px"
      },
      "types_to_exclude": [
        "module",
        "function",
        "builtin_function_or_method",
        "instance",
        "_Feature"
      ],
      "window_display": false
    },
    "last_server_session_id": "1df3a02a-53e1-4dbd-9d47-c26b34f940d0",
    "last_kernel_id": "79aa2ffe-ce8e-41a7-83f7-820a0d94f68a",
    "last_base_url": "https://0291.od.fbinfra.net/",
    "last_msg_id": "c4d96c05-dafeb86a5207fa2aac2fb7ff_402",
    "outputWidgetContext": {}
  },
  "nbformat": 4,
  "nbformat_minor": 2,
  "cells": [
    {
      "cell_type": "markdown",
      "metadata": {
        "originalKey": "4be3ab76-0dde-4daa-81b7-68df50547590"
      },
      "source": [
        "# Simultaneous multi-objective multi-fidelity optimization  "
      ]
    },
    {
      "cell_type": "markdown",
      "metadata": {
        "originalKey": "8fb7e5e3-8176-4b7f-b9b6-9a20bfb7ad37"
      },
      "source": [
        "In this tutorial notebook we demonstrate how to perform multi-objective multi-fidelity (MOMF) optimization in BoTORCH as described in [1]. The main concept in MOMF is introducing a 'fidelity objective' that is optimized along with the problem objectives. This fidelity objective can be thought of as a trust objective that rewards the optimization when going to higher fidelity. This emulates a real world scenario where high fidelity data may sometime yield similar values for other objectives but is still considered more trustworthy. Thus the MOMF explicitly optimizes for getting more trustworthy data while taking into account the higher computational costs associated with it.\n",
        "\n",
        "We will optimize a synthetic function that is a modified multi-fidelity Branin-Currin. This is a 3 x 2 dimensional problem with one of the input dimension being the fidelity. For the MOMF this results in a 3 x 3 optimization since it also takes into account the fidelity objective. In this case the fidelity objective is taken to be a linear function of fidelity, $ f(s)=s$, where $s$ is the fidelity. The MOMF algorithm can accept any discrete or continuous cost functions as an input. In this example, we choose an exponential dependency of the form $C(s)=\\exp(s)$. The goal of the optimization is to find the Pareto front, which is a trade-off solution set for Multi-objective problems, at the highest fidelity. \n",
        "\n",
        "In the second part of this tutorial we compare the method with a multi-objective only optimization using qEHVI [2] with q set to 1 (note that MOMF also supports q>1 if the underlying MO acquisition function supports it). The MO-only optimization runs only at the highest fidelity while MOMF makes use of lower fidelity data to estimate the Pareto front at the highest fidelity.\n",
        "\n",
        "[1] [Irshad, Faran, Stefan Karsch, and Andreas Döpp. \"Expected hypervolume improvement for simultaneous multi-objective and multi-fidelity optimization.\" arXiv preprint arXiv:2112.13901 (2021).](https://arxiv.org/abs/2112.13901)\n",
        "\n",
        "[2] [S. Daulton, M. Balandat, and E. Bakshy. Differentiable Expected Hypervolume Improvement for Parallel Multi-Objective Bayesian Optimization. Advances in Neural Information Processing Systems 33, 2020.](https://arxiv.org/abs/2006.05078)"
      ]
    },
    {
      "cell_type": "code",
      "metadata": {
        "originalKey": "9942097b-6487-4be3-8baa-6223ef94ff4c",
        "code_folding": [],
        "hidden_ranges": [],
        "collapsed": false,
        "requestMsgId": "95bea468-fd77-45e1-b029-8f290ad59a3a",
        "customOutput": null,
        "executionStartTime": 1654294012393,
        "executionStopTime": 1654294013825
      },
      "source": [
        "import os\n",
        "\n",
        "import matplotlib.pyplot as plt\n",
        "import numpy as np\n",
        "import torch"
      ],
      "execution_count": 1,
      "outputs": []
    },
    {
      "cell_type": "markdown",
      "metadata": {
        "originalKey": "313624cb-6e9b-4419-aa46-53bc5dfdbae6"
      },
      "source": [
        "### Set dtype and device \n",
        "Setting up the global variable that determine the device to run the optimization. The optimization is much faster when it runs on GPU."
      ]
    },
    {
      "cell_type": "code",
      "metadata": {
        "originalKey": "ac762b49-bdd3-4d48-9cdd-0a3e7f9e5aac",
        "code_folding": [],
        "hidden_ranges": [],
        "collapsed": false,
        "requestMsgId": "28907d68-643b-4068-b34d-8d14deb5180a",
        "customOutput": null,
        "executionStartTime": 1654294013930,
        "executionStopTime": 1654294013949
      },
      "source": [
        "tkwargs = (\n",
        "    {  # Tkwargs is a dictionary contaning data about data type and data device\n",
        "        \"dtype\": torch.double,\n",
        "        \"device\": torch.device(\"cuda\" if torch.cuda.is_available() else \"cpu\"),\n",
        "    }\n",
        ")\n",
        "SMOKE_TEST = os.environ.get(\"SMOKE_TEST\")"
      ],
      "execution_count": 2,
      "outputs": []
    },
    {
      "cell_type": "markdown",
      "metadata": {
        "originalKey": "6ab54ce1-7768-4460-b965-369fa1c4f664"
      },
      "source": [
        "### Here we define different variables that define the problem setting and optimization settings"
      ]
    },
    {
      "cell_type": "code",
      "metadata": {
        "originalKey": "59fb7919-6865-47c6-b10b-6af7f268c9df",
        "collapsed": false,
        "requestMsgId": "3cee740d-f8c6-45c5-8f54-a167a502d1ac",
        "customOutput": null,
        "executionStartTime": 1654294014035,
        "executionStopTime": 1654294017840,
        "code_folding": [],
        "hidden_ranges": []
      },
      "source": [
        "##############################-----------------------------------------------------##############################################\n",
        "\n",
        "from botorch.test_functions.multi_objective_multi_fidelity import MOMFBraninCurrin\n",
        "\n",
        "##############################-----------------------------------------------------##############################################\n",
        "BC = MOMFBraninCurrin(negate=True)\n",
        "dim_x = BC.dim  # Input Dimension for MO only optimization\n",
        "dim_yMO = BC.num_objectives  # Output Dimension for MO only optimization\n",
        "dim_xMO = dim_x - 1  # Input Dimension for MOMF optimization\n",
        "dim_y = dim_yMO + 1  # Output Dimesnion for MOMF optimization\n",
        "\n",
        "ref_pointMO = [0] * dim_xMO  # Reference point for MO only Hypervolume calculation\n",
        "ref_point = [0] * dim_x  # Reference point for MOMF Hypervolume calculation\n",
        "\n",
        "n_TRIALS = 3\n",
        "BATCH_SIZE = 2  # For Batch-optimization BATCH_SIZE should be greater than 1\n",
        "n_BATCH = 5 if SMOKE_TEST else 30  # Number of iterations within one optimization loop\n",
        "n_INIT = 5  # Number of initial points for MOMF\n",
        "n_INITMO = 1  # Number of initial points for MO only optimization\n",
        "MC_SAMPLES = 8 if SMOKE_TEST else 128  # Number of Monte Carlo samples\n",
        "NUM_RESTARTS = 2 if SMOKE_TEST else 10  # Number of restart points for multi-start optimization\n",
        "RAW_SAMPLES = 4 if SMOKE_TEST else 512  # Number of raw samples for initial point selection heuristic\n",
        "\n",
        "standard_boundsMO = torch.tensor(\n",
        "    [[0.0] * dim_xMO, [1.0] * dim_xMO], **tkwargs\n",
        ")  # Bounds for MO only optimization\n",
        "standard_bounds = torch.tensor(\n",
        "    [[0.0] * dim_x, [1.0] * dim_x], **tkwargs\n",
        ")  # Bounds for MOMF optimization\n",
        "verbose = True"
      ],
      "execution_count": 3,
      "outputs": []
    },
    {
      "cell_type": "markdown",
      "metadata": {
        "originalKey": "ccfef565-dd93-43f1-b2ae-590939bf3e23"
      },
      "source": [
        "### Problem Setup \n",
        "The problem as described before is a modified multi-fidelity version of Branin-Currin (BC) function that results in a 3 x 2 problem. A simple fidelity objective is also defined here which is a linear function of the input fidelity. We also design a wrapper function around the BC that takes care of interfacing torch with numpy and appends the fidelity objective with the BC functions.\n",
        ""
      ]
    },
    {
      "cell_type": "code",
      "metadata": {
        "originalKey": "80aaf653-4b31-46a3-ae1b-c7f497362d12",
        "collapsed": false,
        "requestMsgId": "b277ad25-98a1-43af-a015-b9313825b737",
        "customOutput": null,
        "executionStartTime": 1654294017976,
        "executionStopTime": 1654294018036
      },
      "source": [
        "def fid_obj(X):\n",
        "    # A Fidelity Objective that can be thought of as a trust objective. Higher Fidelity simulations are rewarded as being more\n",
        "    # trustworthy. Here we consider just a linear fidelity objective.\n",
        "    fid_obj = 1 * X[..., -1]\n",
        "    return fid_obj\n",
        "\n",
        "\n",
        "def problem(x, dim_y):\n",
        "    # Wrapper around the Objective function to take care of fid_obj stacking\n",
        "    y = BC(x)  # The Branin-Currin is called\n",
        "    fid = fid_obj(x)  # Getting the fidelity objective values\n",
        "    fid_out = fid.unsqueeze(-1)\n",
        "    y_out = torch.cat(\n",
        "        [y, fid_out], -1\n",
        "    )  # Concatenating objective values with fid_objective\n",
        "    return y_out"
      ],
      "execution_count": 4,
      "outputs": []
    },
    {
      "cell_type": "markdown",
      "metadata": {
        "originalKey": "6a44ae07-fe2e-49e1-9825-e4cc13bff750"
      },
      "source": [
        "### Helper functions to define Cost \n",
        "\n",
        "The cost_func function returns an exponential cost from the fidelity. The cost_callable is a wrapper around it that takes care of the input output shapes. This is given as a callable function to MOMF that internally divides the hypervolume by cost."
      ]
    },
    {
      "cell_type": "code",
      "metadata": {
        "originalKey": "cae82341-3ae2-4cfc-a130-4eaa84a514ac",
        "collapsed": false,
        "requestMsgId": "f5995846-1d32-44be-a30c-1cef166955c6",
        "customOutput": null,
        "executionStartTime": 1654294018091,
        "executionStopTime": 1654294018228
      },
      "source": [
        "exp_arg = torch.tensor(4,**tkwargs)\n",
        "\n",
        "\n",
        "def cost_func(x, A):\n",
        "    # A simple exponential cost function.\n",
        "    val = torch.exp(A * x)\n",
        "    return val\n",
        "\n",
        "\n",
        "print(\n",
        "    \"Min Cost:\", cost_func(0, exp_arg)\n",
        ")  # Displaying the min cost for this optimization\n",
        "print(\n",
        "    \"Max Cost:\", cost_func(1, exp_arg)\n",
        ")  # Displaying the max cost for this optimization\n",
        "\n",
        "\n",
        "def cost_callable(X):\n",
        "    r\"\"\"Wrapper for the cost function that takes care of shaping input and output arrays for interfacing with cost_func.\n",
        "    This is passed as a callable function to MOMF.\n",
        "\n",
        "    Args:\n",
        "        X: A `batch_shape x q x d`-dim Tensor\n",
        "    Returns:\n",
        "        Cost `batch_shape x q x m`-dim Tensor of cost generated from fidelity dimension using cost_func.\n",
        "    \"\"\"\n",
        "\n",
        "    cost = cost_func(torch.flatten(X), exp_arg).reshape(X.shape)\n",
        "    cost = cost[..., [-1]]\n",
        "    return cost"
      ],
      "execution_count": 5,
      "outputs": [
        {
          "output_type": "stream",
          "name": "stdout",
          "text": [
            "Min Cost: tensor(1., device='cuda:0', dtype=torch.float64)\nMax Cost: tensor(54.5982, device='cuda:0', dtype=torch.float64)\n"
          ]
        }
      ]
    },
    {
      "cell_type": "markdown",
      "metadata": {
        "originalKey": "2f3f70a4-3654-4e65-ab6c-69b1e16ab3d6"
      },
      "source": [
        "### Model Initialization \n",
        "We use a multi-output SingleTaskGP to model the problem with a homoskedastic Gaussian likelihood with an inferred noise level. \n",
        "The model is initialized with 5 random points where the fidelity dimension of the initial points is sampled from a probability distribution : $p(s)=C(s)^{-1}$ "
      ]
    },
    {
      "cell_type": "code",
      "metadata": {
        "originalKey": "52fb13f4-81f5-4ec4-b28f-49d19c8696c2",
        "collapsed": false,
        "requestMsgId": "d103042a-df5c-4015-968f-db994be736be",
        "customOutput": null,
        "executionStartTime": 1654294018334,
        "executionStopTime": 1654294018458
      },
      "source": [
        "from botorch.models.gp_regression import SingleTaskGP\n",
        "from botorch.models.transforms.outcome import Standardize\n",
        "from gpytorch.mlls.exact_marginal_log_likelihood import ExactMarginalLogLikelihood\n",
        "\n",
        "\n",
        "def gen_init_data(dim_x, points, dim_y):\n",
        "    # Generates training data with Fidelity dimension sampled from a probability distribution that depends on Cost function\n",
        "    train_x = torch.rand(points, dim_x,**tkwargs)\n",
        "    fid_samples = torch.linspace(\n",
        "        0, 1, 101,**tkwargs) # Array from which fidelity values are sampled  \n",
        "    prob = 1 / cost_func(\n",
        "        fid_samples, exp_arg)  # Probability calculated from the Cost function\n",
        "    prob = prob / torch.sum(prob)  # Normalizing\n",
        "    idx = prob.multinomial(\n",
        "        num_samples=points,\n",
        "        replacement=True)  # Generating indices to choose fidelity samples\n",
        "    train_x[:, -1] = fid_samples[idx]\n",
        "    train_obj = problem(\n",
        "        train_x, dim_y)  # Calls the Problem wrapper to generate train_obj\n",
        "    return train_x, train_obj\n",
        "\n",
        "\n",
        "def initialize_model(train_x, train_obj):\n",
        "    # Initializes a SingleTaskGP with Matern 5/2 Kernel and returns the model and its MLL\n",
        "    model = SingleTaskGP(\n",
        "        train_x,\n",
        "        train_obj,\n",
        "        outcome_transform=Standardize(m=train_obj.shape[-1])\n",
        "    )\n",
        "    mll = ExactMarginalLogLikelihood(model.likelihood, model)\n",
        "    return mll, model"
      ],
      "execution_count": 6,
      "outputs": []
    },
    {
      "cell_type": "markdown",
      "metadata": {
        "originalKey": "dcc1666f-f387-40b0-8137-25b133d22dd2"
      },
      "source": [
        "### Helper function to optimize acquisition function \n",
        "This is a helper function that initializes, optimizes the acquisition function MOMF and returns the new_x and new_obj. The problem is called from within this helper function.\n",
        "\n",
        "A simple initialization heuristic is used to select the 20 restart initial locations from a set of 1024 random points. Multi-start optimization of the acquisition function is performed using LBFGS-B with exact gradients computed via auto-differentiation."
      ]
    },
    {
      "cell_type": "code",
      "metadata": {
        "originalKey": "28046088-862c-4bc8-8da5-bee4ea079f0f",
        "collapsed": false,
        "requestMsgId": "36a3bc34-07d8-4c61-b00c-91985d821896",
        "customOutput": null,
        "executionStartTime": 1654294018575,
        "executionStopTime": 1654294018726,
        "code_folding": [],
        "hidden_ranges": []
      },
      "source": [
        "from botorch.utils.multi_objective.box_decompositions.non_dominated import (\n",
        "    FastNondominatedPartitioning,\n",
        ")\n",
        "from botorch.acquisition.multi_objective.multi_fidelity import MOMF\n",
        "from botorch.optim.optimize import optimize_acqf\n",
        "from botorch.utils.transforms import unnormalize\n",
        "\n",
        "\n",
        "def optimize_MOMF_and_get_obs(\n",
        "    model,\n",
        "    train_obj,\n",
        "    sampler,\n",
        "    dim_y,\n",
        "    ref_point,\n",
        "    standard_bounds,\n",
        "    BATCH_SIZE,\n",
        "    cost_call,\n",
        "):\n",
        "    \"\"\"Wrapper to call MOMF and optimizes it in a sequential greedy fashion returning a new candidate and evaluation\"\"\"\n",
        "    partitioning = FastNondominatedPartitioning(\n",
        "        ref_point=torch.tensor(ref_point,**tkwargs), Y=train_obj\n",
        "    )\n",
        "    acq_func = MOMF(\n",
        "        model=model,\n",
        "        ref_point=ref_point,  # use known reference point\n",
        "        partitioning=partitioning,\n",
        "        sampler=sampler,\n",
        "        cost_call=cost_call,\n",
        "    )\n",
        "    # Optimization\n",
        "    candidates, _ = optimize_acqf(\n",
        "        acq_function=acq_func,\n",
        "        bounds=standard_bounds,\n",
        "        q=BATCH_SIZE,\n",
        "        num_restarts=NUM_RESTARTS,\n",
        "        raw_samples=RAW_SAMPLES,  # used for intialization heuristic\n",
        "        options={\"batch_limit\": 5, \"maxiter\": 200, \"nonnegative\": True},\n",
        "        sequential=True,\n",
        "    )\n",
        "    # observe new values\n",
        "    new_x = unnormalize(candidates.detach(), bounds=standard_bounds)\n",
        "    new_obj = problem(new_x, dim_y)\n",
        "    return new_x, new_obj"
      ],
      "execution_count": 7,
      "outputs": []
    },
    {
      "cell_type": "markdown",
      "metadata": {
        "originalKey": "bdb86f2e-6774-4b00-af78-d081948812a5"
      },
      "source": [
        "### Running MOMF optimization \n",
        "\n",
        "We run a single trial of 30 iterations to optimize the multi-fidelity versions of the Branin-Currin functions. The optimization loop works in the following sequence. \n",
        "\n",
        "1. At the start an initial data of 5 random points is generated and a model initialized using this data.\n",
        "2. The models are used to generate an acquisition function that is optimized to select new input parameters\n",
        "3. The objective function is evaluated at the suggested new_x and returns a new_obj.\n",
        "4. The models are updated with the new points and then are used again to make the next prediction.\n",
        ""
      ]
    },
    {
      "cell_type": "code",
      "metadata": {
        "originalKey": "dc8f374c-592e-463e-8503-72b3a33b7c00",
        "collapsed": false,
        "requestMsgId": "7905dd44-5bbc-4e03-af22-5b17e23ece9c",
        "customOutput": null,
        "executionStartTime": 1654294018833,
        "executionStopTime": 1654294174256,
        "code_folding": [],
        "hidden_ranges": []
      },
      "source": [
        "# MOMF Opt run\n",
        "from botorch import fit_gpytorch_model\n",
        "from botorch.sampling.samplers import SobolQMCNormalSampler\n",
        "\n",
        "verbose = True\n",
        "train_x = torch.zeros(n_INIT + n_BATCH * BATCH_SIZE, dim_x,**tkwargs)  # Intializing train_x to zero\n",
        "train_obj = torch.zeros(n_INIT + n_BATCH * BATCH_SIZE, dim_y,**tkwargs)  # Intializing train_obj to zero\n",
        "train_x[:n_INIT, :], train_obj[:n_INIT, :] = gen_init_data(dim_x, n_INIT, dim_y)  # Generate Initial Data\n",
        "mll, model = initialize_model(train_x[:n_INIT, :], train_obj[:n_INIT, :])  # Initialize Model\n",
        "for iteration in range(0, n_BATCH):\n",
        "    # run N_BATCH rounds of BayesOpt after the initial random batch\n",
        "    fit_gpytorch_model(mll)  # Fit the model\n",
        "    momf_sampler = SobolQMCNormalSampler(num_samples=MC_SAMPLES)  # Generate Sampler\n",
        "    # Updating indices used to store new observations\n",
        "    lower_index = n_INIT + iteration * BATCH_SIZE\n",
        "    upper_index = n_INIT + iteration * BATCH_SIZE + BATCH_SIZE\n",
        "    # optimize acquisition functions and get new observations\n",
        "    new_x, new_obj = optimize_MOMF_and_get_obs(\n",
        "        model,\n",
        "        train_obj[: upper_index, :],\n",
        "        momf_sampler,\n",
        "        dim_y,\n",
        "        ref_point,\n",
        "        standard_bounds,\n",
        "        BATCH_SIZE,\n",
        "        cost_call=cost_callable,\n",
        "    )\n",
        "    if verbose:\n",
        "        print(f\"Iteration: {iteration + 1}\")\n",
        "    # Updating train_x and train_obj\n",
        "    train_x[lower_index : upper_index, :] = new_x\n",
        "    train_obj[lower_index : upper_index, :] = new_obj\n",
        "    # reinitialize the models so they are ready for fitting on next iteration\n",
        "    mll, model = initialize_model(\n",
        "        train_x[: upper_index, :], train_obj[: upper_index, :]\n",
        "    )"
      ],
      "execution_count": 8,
      "outputs": [
        {
          "output_type": "stream",
          "name": "stdout",
          "text": [
            "Iteration: 1\n"
          ]
        },
        {
          "output_type": "stream",
          "name": "stdout",
          "text": [
            "Iteration: 2\n"
          ]
        },
        {
          "output_type": "stream",
          "name": "stdout",
          "text": [
            "Iteration: 3\n"
          ]
        },
        {
          "output_type": "stream",
          "name": "stdout",
          "text": [
            "Iteration: 4\n"
          ]
        },
        {
          "output_type": "stream",
          "name": "stdout",
          "text": [
            "Iteration: 5\n"
          ]
        },
        {
          "output_type": "stream",
          "name": "stdout",
          "text": [
            "Iteration: 6\n"
          ]
        },
        {
          "output_type": "stream",
          "name": "stdout",
          "text": [
            "Iteration: 7\n"
          ]
        },
        {
          "output_type": "stream",
          "name": "stdout",
          "text": [
            "Iteration: 8\n"
          ]
        },
        {
          "output_type": "stream",
          "name": "stdout",
          "text": [
            "Iteration: 9\n"
          ]
        },
        {
          "output_type": "stream",
          "name": "stdout",
          "text": [
            "Iteration: 10\n"
          ]
        },
        {
          "output_type": "stream",
          "name": "stdout",
          "text": [
            "Iteration: 11\n"
          ]
        },
        {
          "output_type": "stream",
          "name": "stdout",
          "text": [
            "Iteration: 12\n"
          ]
        },
        {
          "output_type": "stream",
          "name": "stdout",
          "text": [
            "Iteration: 13\n"
          ]
        },
        {
          "output_type": "stream",
          "name": "stdout",
          "text": [
            "Iteration: 14\n"
          ]
        },
        {
          "output_type": "stream",
          "name": "stdout",
          "text": [
            "Iteration: 15\n"
          ]
        },
        {
          "output_type": "stream",
          "name": "stdout",
          "text": [
            "Iteration: 16\n"
          ]
        },
        {
          "output_type": "stream",
          "name": "stdout",
          "text": [
            "Iteration: 17\n"
          ]
        },
        {
          "output_type": "stream",
          "name": "stdout",
          "text": [
            "Iteration: 18\n"
          ]
        },
        {
          "output_type": "stream",
          "name": "stdout",
          "text": [
            "Iteration: 19\n"
          ]
        },
        {
          "output_type": "stream",
          "name": "stdout",
          "text": [
            "Iteration: 20\n"
          ]
        },
        {
          "output_type": "stream",
          "name": "stdout",
          "text": [
            "Iteration: 21\n"
          ]
        },
        {
          "output_type": "stream",
          "name": "stdout",
          "text": [
            "Iteration: 22\n"
          ]
        },
        {
          "output_type": "stream",
          "name": "stdout",
          "text": [
            "Iteration: 23\n"
          ]
        },
        {
          "output_type": "stream",
          "name": "stdout",
          "text": [
            "Iteration: 24\n"
          ]
        },
        {
          "output_type": "stream",
          "name": "stdout",
          "text": [
            "Iteration: 25\n"
          ]
        },
        {
          "output_type": "stream",
          "name": "stdout",
          "text": [
            "Iteration: 26\n"
          ]
        },
        {
          "output_type": "stream",
          "name": "stdout",
          "text": [
            "Iteration: 27\n"
          ]
        },
        {
          "output_type": "stream",
          "name": "stdout",
          "text": [
            "Iteration: 28\n"
          ]
        },
        {
          "output_type": "stream",
          "name": "stdout",
          "text": [
            "Iteration: 29\n"
          ]
        },
        {
          "output_type": "stream",
          "name": "stdout",
          "text": [
            "Iteration: 30\n"
          ]
        }
      ]
    },
    {
      "cell_type": "markdown",
      "metadata": {
        "originalKey": "bc189d13-6ad9-4687-8e67-c506dcc1dad1"
      },
      "source": [
        "### Result:  Evaluating the Pareto front at the highest fidelity from MOMF\n",
        "\n",
        "After the optimization we are interested in evaluating the final Pareto front. For this we train a GP model with the data acquired by the MOMF optimization. After this we generate $10^4$ random test points between between [0,1] with the fidelity dimension set to 1 to approximate the Pareto front. Two helper functions are defined to achieve this objective where one function generates the test data and the other extracts the Pareto front at the highest fidelity for a given training and testing data.\n",
        "\n",
        "**Note: This works reasonably well only for lower dimensional search spaces**"
      ]
    },
    {
      "cell_type": "code",
      "metadata": {
        "originalKey": "6ad3300d-4f5e-47a2-83ac-cc2dd901a539",
        "collapsed": false,
        "requestMsgId": "670f353a-7b65-4861-a2d1-ec514cbbfe2e",
        "customOutput": null,
        "executionStartTime": 1654294174360,
        "executionStopTime": 1654294174485
      },
      "source": [
        "from botorch.utils.multi_objective.pareto import is_non_dominated\n",
        "from botorch.utils.multi_objective.box_decompositions import DominatedPartitioning\n",
        "\n",
        "\n",
        "def gen_test_points(n_points, dim_x):\n",
        "    # Function to generate random points with fidelity dimension set to 1. Used to evaluate Pareto front from MOMF\n",
        "    test_x = torch.rand(size=(n_points, dim_x), **tkwargs)\n",
        "    test_x[:, -1] = 1\n",
        "    return test_x\n",
        "\n",
        "\n",
        "def get_pareto(train_x, train_obj, test_x, ref_point):\n",
        "    # Function that takes in training and testing data with a reference point. It initializes a model and takes out the\n",
        "    # Posterior mean at the testing points. From these points the non-dominated set is calculated and used to computer\n",
        "    # the hypervolume.\n",
        "    mll, model = initialize_model(train_x, train_obj)\n",
        "    fit_gpytorch_model(mll)\n",
        "    with torch.no_grad():\n",
        "        # Compute posterior mean over outputs at testing data\n",
        "        means = model.posterior(test_x).mean\n",
        "    pareto_mask = is_non_dominated(means)  # Calculating Non-dominated points\n",
        "    pareto_f = means[pareto_mask]  # Saving the Pareto front\n",
        "    # Computing Hypervolume\n",
        "    box_decomp = DominatedPartitioning(\n",
        "        torch.tensor(ref_pointMO,**tkwargs), pareto_f\n",
        "    )\n",
        "    hyper_volume = box_decomp.compute_hypervolume().item()\n",
        "    return hyper_volume, pareto_f"
      ],
      "execution_count": 9,
      "outputs": []
    },
    {
      "cell_type": "code",
      "metadata": {
        "originalKey": "8cd3a631-ce21-4dc0-874e-a5b102a182ba",
        "collapsed": false,
        "requestMsgId": "f3eb3548-e697-490f-bf4c-863fc424b122",
        "customOutput": null,
        "executionStartTime": 1654294174597,
        "executionStopTime": 1654294176343
      },
      "source": [
        "# Using the above two functions to generate the final Pareto front.\n",
        "n_points = 10**4\n",
        "test_x = gen_test_points(n_points, dim_x)\n",
        "_hv, final_PF = get_pareto(train_x[:, :], train_obj[:, :-1], test_x, ref_point)"
      ],
      "execution_count": 10,
      "outputs": []
    },
    {
      "cell_type": "markdown",
      "metadata": {
        "originalKey": "ea24bf8b-a2cf-4a74-afe4-d1b09b6ab70f"
      },
      "source": [
        "Plotting the final Pareto front."
      ]
    },
    {
      "cell_type": "code",
      "metadata": {
        "originalKey": "09507a88-1226-4937-95b3-812bfb7073e9",
        "collapsed": false,
        "requestMsgId": "a1b706c8-fdd1-4bb6-87d1-2df4d77c6f78",
        "customOutput": null,
        "executionStartTime": 1654294176453,
        "executionStopTime": 1654294177011
      },
      "source": [
        "fig, axes = plt.subplots(1, 1, figsize=(4, 4), dpi=200)\n",
        "axes.plot(\n",
        "    final_PF[:, 0].detach().cpu().numpy(),\n",
        "    final_PF[:, 1].detach().cpu().numpy(),\n",
        "    \"o\",\n",
        "    markersize=3.5,\n",
        "    label=\"MOMF\",\n",
        ")\n",
        "axes.set_title(\"Branin-Currin_Pareto Front\", fontsize=\"12\")\n",
        "axes.set_xlabel(\"Branin\", fontsize=\"10\")\n",
        "axes.set_ylabel(\"Currin\", fontsize=\"10\")\n",
        "axes.set_xlim(0, 1)\n",
        "axes.set_ylim(0, 1)\n",
        "axes.tick_params(labelsize=10)\n",
        "axes.legend(loc=\"lower right\", fontsize=\"7\", frameon=True, ncol=1)\n",
        "plt.tight_layout()"
      ],
      "execution_count": 11,
      "outputs": [
        {
          "output_type": "display_data",
          "data": {
            "text/plain": "<Figure size 800x800 with 1 Axes>",
            "image/png": "[encoded data removed]"
          },
          "metadata": {
            "bento_obj_id": "140479753281008",
            "needs_background": "light"
          }
        }
      ]
    },
    {
      "cell_type": "markdown",
      "metadata": {
        "originalKey": "9333f719-5117-4e76-bd9b-6b1262c0da29"
      },
      "source": [
        "# Comparison of MOMF with single-fidelity multi-objective optimization using qEHVI \n",
        "\n",
        "In this section we draw a comparison of the MOMF with qEHVI. For this purpose we will now run 3 trials of the MOMF and qEHVI with 80 iterations for both. For this we define some helper functions for qEHVI similar to what was done for MOMF. \n",
        "\n",
        "**Note: Most of the material for qEHVI example has been taken from [3]**\n",
        "\n",
        "[3] [Constrained, Parallel, Multi-Objective BO in BoTorch with qNEHVI, and qParEGO](https://botorch.org/tutorials/constrained_multi_objective_bo)"
      ]
    },
    {
      "cell_type": "markdown",
      "metadata": {
        "originalKey": "40e77498-2648-43a0-9fae-f0fb2dfd3ff6"
      },
      "source": [
        "Here we define a wrapper function for single-fidelity multi-objective qEHVI optimization that appends a column of ones (representing highest fidelity) around the Branin-Currin function."
      ]
    },
    {
      "cell_type": "code",
      "metadata": {
        "originalKey": "8412af8f-8dfe-487d-8344-1f5bb7492350",
        "collapsed": false,
        "requestMsgId": "ebcb5260-18fa-4427-8eb7-2401d633c347",
        "customOutput": null,
        "executionStartTime": 1654294177062,
        "executionStopTime": 1654294177066
      },
      "source": [
        "def problem_MO(X, dim_y):\n",
        "    # Since MO-only optimization only evaluates at highest fidelity so a column of ones is added to the input to be consistent\n",
        "    # with the same objective function definition.\n",
        "    h_fid = torch.ones(*X.shape[:-1], 1, **tkwargs)\n",
        "    X = torch.cat([X, h_fid], dim=-1)\n",
        "    y = BC(X)\n",
        "    return y"
      ],
      "execution_count": 12,
      "outputs": []
    },
    {
      "cell_type": "markdown",
      "metadata": {
        "originalKey": "8c1f9c30-cd00-4f50-ad94-d7e65530a10d"
      },
      "source": [
        "### Data Initialization qEHVI \n",
        "\n",
        "For qEHVI we initialize with 1 point to keep the initial cost low. We do not aim to make the initial costs the same but for all cases the initial costs of the MOMF are lower when the fidelity is drawn in a probabilistic fashion."
      ]
    },
    {
      "cell_type": "code",
      "metadata": {
        "originalKey": "fd2f01bd-943b-4c51-97b7-fb4c3b1ddf52",
        "collapsed": false,
        "requestMsgId": "58083583-657e-4860-8259-aaa40957189d",
        "customOutput": null,
        "executionStartTime": 1654294177113,
        "executionStopTime": 1654294177262
      },
      "source": [
        "def gen_init_data_MO(dim_x, points, dim_y):\n",
        "    # generates random training data.\n",
        "    train_x = torch.rand(size=(points, dim_x), **tkwargs)\n",
        "    train_obj = problem_MO(train_x, dim_y)\n",
        "    return train_x, train_obj"
      ],
      "execution_count": 13,
      "outputs": []
    },
    {
      "cell_type": "markdown",
      "metadata": {
        "originalKey": "bf63446e-85c6-45b7-a9a2-b6dcc5176ed3"
      },
      "source": [
        "### Helper function to optimize acquisition function \n",
        "This is a helper function that initializes and optimizes the acquisition function qEHVI and returns the new_x and new_obj. The problem is called from within this helper function.\n",
        "\n",
        "A simple initialization heuristic is used to select the 20 restart initial locations from a set of 1024 random points. Multi-start optimization of the acquisition function is performed using LBFGS-B with exact gradients computed via auto-differentiation."
      ]
    },
    {
      "cell_type": "code",
      "metadata": {
        "originalKey": "1622ccc1-c2ea-446e-b370-c422cdb9659a",
        "collapsed": false,
        "requestMsgId": "a327b231-eb64-4ebc-a07d-7db57042bb8e",
        "code_folding": [],
        "hidden_ranges": [],
        "customOutput": null,
        "executionStartTime": 1654294177395,
        "executionStopTime": 1654294177496
      },
      "source": [
        "from botorch.acquisition.multi_objective.monte_carlo import qExpectedHypervolumeImprovement\n",
        "\n",
        "\n",
        "def optimize_MO_and_get_obs(\n",
        "    model, train_obj, sampler, dim_y, ref_point, standard_bounds, BATCH_SIZE_MO\n",
        "):\n",
        "    \"\"\"Optimizes the qEHVI acquisition function, and returns a new candidate and observation.\"\"\"\n",
        "    # partition non-dominated space into disjoint rectangles\n",
        "    partitioning = FastNondominatedPartitioning(\n",
        "        ref_point=torch.tensor(ref_point,**tkwargs), Y=train_obj\n",
        "    )\n",
        "    acq_func = qExpectedHypervolumeImprovement(\n",
        "        model=model,\n",
        "        ref_point=ref_point,  # use a known reference point\n",
        "        partitioning=partitioning,\n",
        "        sampler=sampler,\n",
        "    )\n",
        "    # optimize\n",
        "    candidates, _ = optimize_acqf(\n",
        "        acq_function=acq_func,\n",
        "        bounds=standard_bounds,\n",
        "        q=BATCH_SIZE_MO,\n",
        "        num_restarts=NUM_RESTARTS,\n",
        "        raw_samples=RAW_SAMPLES,  # used for intialization heuristic\n",
        "        options={\"batch_limit\": 5, \"maxiter\": 200, \"nonnegative\": True},\n",
        "        sequential=True,\n",
        "    )\n",
        "    # observe new values\n",
        "    new_x = unnormalize(candidates.detach(), bounds=standard_bounds)\n",
        "    new_obj = problem_MO(new_x, dim_y)\n",
        "    return new_x, new_obj"
      ],
      "execution_count": 14,
      "outputs": []
    },
    {
      "cell_type": "markdown",
      "metadata": {
        "originalKey": "d724499c-1b5a-4aed-a0eb-a3c714c43d53"
      },
      "source": [
        "### Running MOMF and qEHVI optimization for multiple Trials\n",
        "\n",
        "We run 5 trials of 30 iterations each to optimize the multi-fidelity versions of the Brannin-Currin functions using MOMF and qEHVI. The Bayesian loop works in the following sequence. \n",
        "\n",
        "1. At the start of each trial an initial data is generated and a model initialized using this data.\n",
        "2. The models are used to generated an acquisition function that gives us a suggestion for new input parameters\n",
        "3. The objective function is evaluated at the suggested new_x and returns a new_obj.\n",
        "4. The models are updated with the new points and then are used again to make the next prediction.\n",
        "\n",
        "**Note: The following code cell would take some time to run**"
      ]
    },
    {
      "cell_type": "code",
      "metadata": {
        "originalKey": "03e51637-3a3c-42c1-bb61-b38f82e428f6",
        "collapsed": false,
        "requestMsgId": "a4d14ad3-1d85-47d5-9932-39bd34fd382f",
        "customOutput": null,
        "executionStartTime": 1654294177631,
        "executionStopTime": 1654295020623,
        "code_folding": [],
        "hidden_ranges": []
      },
      "source": [
        "# MOMF and qEHVI\n",
        "verbose = True\n",
        "train_x = torch.zeros(n_INIT + n_BATCH * BATCH_SIZE, dim_x, n_TRIALS,**tkwargs)          # Intializing train_x to zero\n",
        "train_obj = torch.zeros(n_INIT + n_BATCH * BATCH_SIZE, dim_y, n_TRIALS,**tkwargs)        # Intializing train_obj to zero\n",
        "\n",
        "train_xMO = torch.zeros(n_INITMO + n_BATCH * BATCH_SIZE, dim_xMO, n_TRIALS,**tkwargs)    # Intializing train_xMO to zero\n",
        "train_objMO = torch.zeros(n_INITMO + n_BATCH * BATCH_SIZE, dim_yMO, n_TRIALS,**tkwargs)  # Intializing train_objMO to zero\n",
        "\n",
        "for trial in range(0, n_TRIALS):\n",
        "    torch.manual_seed(trial)\n",
        "    print(\"***************************************************************************\")\n",
        "    print(\"Trial is \", trial)\n",
        "    # Generate Data and initialize model\n",
        "    train_x[:n_INIT, :, trial], train_obj[:n_INIT, :, trial] = gen_init_data(dim_x, n_INIT, dim_y)\n",
        "    mll, model = initialize_model(train_x[:n_INIT, :, trial], train_obj[:n_INIT, :, trial])\n",
        "\n",
        "    train_xMO[:n_INITMO, :, trial], train_objMO[:n_INITMO, :, trial] = gen_init_data_MO(dim_xMO, n_INITMO, dim_yMO)\n",
        "    mll_MO, model_MO = initialize_model(train_xMO[:n_INITMO, :, trial], train_objMO[:n_INITMO, :, trial])\n",
        "    for _iter in range(0, n_BATCH):\n",
        "        # run N_BATCH rounds of BayesOpt after the initial random batch\n",
        "        fit_gpytorch_model(mll)\n",
        "\n",
        "        fit_gpytorch_model(mll_MO)  # fit the models\n",
        "        sampler = SobolQMCNormalSampler(num_samples=MC_SAMPLES)\n",
        "        # Updating indices used to store new observations\n",
        "        lower_index = n_INIT + _iter * BATCH_SIZE\n",
        "        upper_index = n_INIT + _iter * BATCH_SIZE + BATCH_SIZE\n",
        "        \n",
        "        lower_indexMO = n_INITMO + _iter * BATCH_SIZE\n",
        "        upper_indexMO = n_INITMO + _iter * BATCH_SIZE + BATCH_SIZE\n",
        "        # optimize acquisition function and get new observations\n",
        "        new_x, new_obj = optimize_MOMF_and_get_obs(\n",
        "            model,\n",
        "            train_obj[: upper_index, :, trial],\n",
        "            sampler,\n",
        "            dim_y,\n",
        "            ref_point,\n",
        "            standard_bounds,\n",
        "            BATCH_SIZE,\n",
        "            cost_call=cost_callable,\n",
        "        )\n",
        "\n",
        "        new_x_MO, new_obj_MO = optimize_MO_and_get_obs(\n",
        "            model_MO,\n",
        "            train_objMO[: upper_indexMO, :, trial],\n",
        "            sampler,\n",
        "            dim_yMO,\n",
        "            ref_pointMO,\n",
        "            standard_boundsMO,\n",
        "            BATCH_SIZE,\n",
        "        )\n",
        "        # Updating train_x and train_obj\n",
        "        train_x[lower_index : upper_index, :, trial] = new_x\n",
        "        train_obj[lower_index : upper_index, :, trial] = new_obj\n",
        "        \n",
        "        train_xMO[lower_indexMO : upper_indexMO, :, trial] = new_x_MO\n",
        "        train_objMO[lower_indexMO : upper_indexMO, :, trial] = new_obj_MO\n",
        "        # reinitialize the models so they are ready for fitting on next _iter\n",
        "        mll, model = initialize_model(\n",
        "            train_x[: upper_index, :, trial],\n",
        "            train_obj[: upper_index, :, trial],\n",
        "        )\n",
        "\n",
        "        mll_MO, model_MO = initialize_model(\n",
        "            train_xMO[: upper_indexMO, :, trial],\n",
        "            train_objMO[: upper_indexMO, :, trial],\n",
        "        )\n",
        "        if verbose:\n",
        "            print(f\"Iteration: {_iter + 1}\")"
      ],
      "execution_count": 15,
      "outputs": [
        {
          "output_type": "stream",
          "name": "stdout",
          "text": [
            "***************************************************************************\nTrial is  0\n"
          ]
        },
        {
          "output_type": "stream",
          "name": "stdout",
          "text": [
            "Iteration: 1\n"
          ]
        },
        {
          "output_type": "stream",
          "name": "stdout",
          "text": [
            "Iteration: 2\n"
          ]
        },
        {
          "output_type": "stream",
          "name": "stdout",
          "text": [
            "Iteration: 3\n"
          ]
        },
        {
          "output_type": "stream",
          "name": "stdout",
          "text": [
            "Iteration: 4\n"
          ]
        },
        {
          "output_type": "stream",
          "name": "stdout",
          "text": [
            "Iteration: 5\n"
          ]
        },
        {
          "output_type": "stream",
          "name": "stdout",
          "text": [
            "Iteration: 6\n"
          ]
        },
        {
          "output_type": "stream",
          "name": "stdout",
          "text": [
            "Iteration: 7\n"
          ]
        },
        {
          "output_type": "stream",
          "name": "stdout",
          "text": [
            "Iteration: 8\n"
          ]
        },
        {
          "output_type": "stream",
          "name": "stdout",
          "text": [
            "Iteration: 9\n"
          ]
        },
        {
          "output_type": "stream",
          "name": "stdout",
          "text": [
            "Iteration: 10\n"
          ]
        },
        {
          "output_type": "stream",
          "name": "stdout",
          "text": [
            "Iteration: 11\n"
          ]
        },
        {
          "output_type": "stream",
          "name": "stdout",
          "text": [
            "Iteration: 12\n"
          ]
        },
        {
          "output_type": "stream",
          "name": "stdout",
          "text": [
            "Iteration: 13\n"
          ]
        },
        {
          "output_type": "stream",
          "name": "stdout",
          "text": [
            "Iteration: 14\n"
          ]
        },
        {
          "output_type": "stream",
          "name": "stdout",
          "text": [
            "Iteration: 15\n"
          ]
        },
        {
          "output_type": "stream",
          "name": "stdout",
          "text": [
            "Iteration: 16\n"
          ]
        },
        {
          "output_type": "stream",
          "name": "stdout",
          "text": [
            "Iteration: 17\n"
          ]
        },
        {
          "output_type": "stream",
          "name": "stdout",
          "text": [
            "Iteration: 18\n"
          ]
        },
        {
          "output_type": "stream",
          "name": "stdout",
          "text": [
            "Iteration: 19\n"
          ]
        },
        {
          "output_type": "stream",
          "name": "stdout",
          "text": [
            "Iteration: 20\n"
          ]
        },
        {
          "output_type": "stream",
          "name": "stdout",
          "text": [
            "Iteration: 21\n"
          ]
        },
        {
          "output_type": "stream",
          "name": "stdout",
          "text": [
            "Iteration: 22\n"
          ]
        },
        {
          "output_type": "stream",
          "name": "stdout",
          "text": [
            "Iteration: 23\n"
          ]
        },
        {
          "output_type": "stream",
          "name": "stdout",
          "text": [
            "Iteration: 24\n"
          ]
        },
        {
          "output_type": "stream",
          "name": "stdout",
          "text": [
            "Iteration: 25\n"
          ]
        },
        {
          "output_type": "stream",
          "name": "stdout",
          "text": [
            "Iteration: 26\n"
          ]
        },
        {
          "output_type": "stream",
          "name": "stdout",
          "text": [
            "Iteration: 27\n"
          ]
        },
        {
          "output_type": "stream",
          "name": "stdout",
          "text": [
            "Iteration: 28\n"
          ]
        },
        {
          "output_type": "stream",
          "name": "stdout",
          "text": [
            "Iteration: 29\n"
          ]
        },
        {
          "output_type": "stream",
          "name": "stdout",
          "text": [
            "Iteration: 30\n***************************************************************************\nTrial is  1\n"
          ]
        },
        {
          "output_type": "stream",
          "name": "stderr",
          "text": [
            "/mnt/xarfuse/uid-27684/3a136e4c-seed-nspid4026533674_cgpid87790575-ns-4026533671/gpytorch/utils/cholesky.py:40: NumericalWarning:\n\nA not p.d., added jitter of 1.0e-08 to the diagonal\n\n"
          ]
        },
        {
          "output_type": "stream",
          "name": "stdout",
          "text": [
            "Iteration: 1\n"
          ]
        },
        {
          "output_type": "stream",
          "name": "stdout",
          "text": [
            "Iteration: 2\n"
          ]
        },
        {
          "output_type": "stream",
          "name": "stdout",
          "text": [
            "Iteration: 3\n"
          ]
        },
        {
          "output_type": "stream",
          "name": "stdout",
          "text": [
            "Iteration: 4\n"
          ]
        },
        {
          "output_type": "stream",
          "name": "stdout",
          "text": [
            "Iteration: 5\n"
          ]
        },
        {
          "output_type": "stream",
          "name": "stdout",
          "text": [
            "Iteration: 6\n"
          ]
        },
        {
          "output_type": "stream",
          "name": "stdout",
          "text": [
            "Iteration: 7\n"
          ]
        },
        {
          "output_type": "stream",
          "name": "stdout",
          "text": [
            "Iteration: 8\n"
          ]
        },
        {
          "output_type": "stream",
          "name": "stdout",
          "text": [
            "Iteration: 9\n"
          ]
        },
        {
          "output_type": "stream",
          "name": "stdout",
          "text": [
            "Iteration: 10\n"
          ]
        },
        {
          "output_type": "stream",
          "name": "stdout",
          "text": [
            "Iteration: 11\n"
          ]
        },
        {
          "output_type": "stream",
          "name": "stdout",
          "text": [
            "Iteration: 12\n"
          ]
        },
        {
          "output_type": "stream",
          "name": "stdout",
          "text": [
            "Iteration: 13\n"
          ]
        },
        {
          "output_type": "stream",
          "name": "stdout",
          "text": [
            "Iteration: 14\n"
          ]
        },
        {
          "output_type": "stream",
          "name": "stdout",
          "text": [
            "Iteration: 15\n"
          ]
        },
        {
          "output_type": "stream",
          "name": "stdout",
          "text": [
            "Iteration: 16\n"
          ]
        },
        {
          "output_type": "stream",
          "name": "stdout",
          "text": [
            "Iteration: 17\n"
          ]
        },
        {
          "output_type": "stream",
          "name": "stdout",
          "text": [
            "Iteration: 18\n"
          ]
        },
        {
          "output_type": "stream",
          "name": "stdout",
          "text": [
            "Iteration: 19\n"
          ]
        },
        {
          "output_type": "stream",
          "name": "stdout",
          "text": [
            "Iteration: 20\n"
          ]
        },
        {
          "output_type": "stream",
          "name": "stdout",
          "text": [
            "Iteration: 21\n"
          ]
        },
        {
          "output_type": "stream",
          "name": "stdout",
          "text": [
            "Iteration: 22\n"
          ]
        },
        {
          "output_type": "stream",
          "name": "stdout",
          "text": [
            "Iteration: 23\n"
          ]
        },
        {
          "output_type": "stream",
          "name": "stdout",
          "text": [
            "Iteration: 24\n"
          ]
        },
        {
          "output_type": "stream",
          "name": "stdout",
          "text": [
            "Iteration: 25\n"
          ]
        },
        {
          "output_type": "stream",
          "name": "stdout",
          "text": [
            "Iteration: 26\n"
          ]
        },
        {
          "output_type": "stream",
          "name": "stdout",
          "text": [
            "Iteration: 27\n"
          ]
        },
        {
          "output_type": "stream",
          "name": "stdout",
          "text": [
            "Iteration: 28\n"
          ]
        },
        {
          "output_type": "stream",
          "name": "stdout",
          "text": [
            "Iteration: 29\n"
          ]
        },
        {
          "output_type": "stream",
          "name": "stdout",
          "text": [
            "Iteration: 30\n***************************************************************************\nTrial is  2\n"
          ]
        },
        {
          "output_type": "stream",
          "name": "stdout",
          "text": [
            "Iteration: 1\n"
          ]
        },
        {
          "output_type": "stream",
          "name": "stdout",
          "text": [
            "Iteration: 2\n"
          ]
        },
        {
          "output_type": "stream",
          "name": "stdout",
          "text": [
            "Iteration: 3\n"
          ]
        },
        {
          "output_type": "stream",
          "name": "stdout",
          "text": [
            "Iteration: 4\n"
          ]
        },
        {
          "output_type": "stream",
          "name": "stdout",
          "text": [
            "Iteration: 5\n"
          ]
        },
        {
          "output_type": "stream",
          "name": "stdout",
          "text": [
            "Iteration: 6\n"
          ]
        },
        {
          "output_type": "stream",
          "name": "stdout",
          "text": [
            "Iteration: 7\n"
          ]
        },
        {
          "output_type": "stream",
          "name": "stdout",
          "text": [
            "Iteration: 8\n"
          ]
        },
        {
          "output_type": "stream",
          "name": "stdout",
          "text": [
            "Iteration: 9\n"
          ]
        },
        {
          "output_type": "stream",
          "name": "stdout",
          "text": [
            "Iteration: 10\n"
          ]
        },
        {
          "output_type": "stream",
          "name": "stdout",
          "text": [
            "Iteration: 11\n"
          ]
        },
        {
          "output_type": "stream",
          "name": "stdout",
          "text": [
            "Iteration: 12\n"
          ]
        },
        {
          "output_type": "stream",
          "name": "stdout",
          "text": [
            "Iteration: 13\n"
          ]
        },
        {
          "output_type": "stream",
          "name": "stdout",
          "text": [
            "Iteration: 14\n"
          ]
        },
        {
          "output_type": "stream",
          "name": "stdout",
          "text": [
            "Iteration: 15\n"
          ]
        },
        {
          "output_type": "stream",
          "name": "stdout",
          "text": [
            "Iteration: 16\n"
          ]
        },
        {
          "output_type": "stream",
          "name": "stdout",
          "text": [
            "Iteration: 17\n"
          ]
        },
        {
          "output_type": "stream",
          "name": "stdout",
          "text": [
            "Iteration: 18\n"
          ]
        },
        {
          "output_type": "stream",
          "name": "stdout",
          "text": [
            "Iteration: 19\n"
          ]
        },
        {
          "output_type": "stream",
          "name": "stdout",
          "text": [
            "Iteration: 20\n"
          ]
        },
        {
          "output_type": "stream",
          "name": "stdout",
          "text": [
            "Iteration: 21\n"
          ]
        },
        {
          "output_type": "stream",
          "name": "stdout",
          "text": [
            "Iteration: 22\n"
          ]
        },
        {
          "output_type": "stream",
          "name": "stdout",
          "text": [
            "Iteration: 23\n"
          ]
        },
        {
          "output_type": "stream",
          "name": "stdout",
          "text": [
            "Iteration: 24\n"
          ]
        },
        {
          "output_type": "stream",
          "name": "stdout",
          "text": [
            "Iteration: 25\n"
          ]
        },
        {
          "output_type": "stream",
          "name": "stdout",
          "text": [
            "Iteration: 26\n"
          ]
        },
        {
          "output_type": "stream",
          "name": "stdout",
          "text": [
            "Iteration: 27\n"
          ]
        },
        {
          "output_type": "stream",
          "name": "stdout",
          "text": [
            "Iteration: 28\n"
          ]
        },
        {
          "output_type": "stream",
          "name": "stdout",
          "text": [
            "Iteration: 29\n"
          ]
        },
        {
          "output_type": "stream",
          "name": "stdout",
          "text": [
            "Iteration: 30\n"
          ]
        }
      ]
    },
    {
      "cell_type": "markdown",
      "metadata": {
        "originalKey": "2fa1b7b7-293f-4692-9c98-8ec8f0f015ef"
      },
      "source": [
        "### Evaluating the hypervolume for each iteration for MOMF\n",
        "\n",
        "As before we are interested in the Pareto front at the highest fidelity after the MOMF. In this section we only show the evolution of the mean hypervolume for both MOMF and qEHVI. The calculation for the MOMF is done in a similar fashion as before but now for each trial and iteration to get the evolution of hypervolume."
      ]
    },
    {
      "cell_type": "markdown",
      "metadata": {
        "originalKey": "3bfff3cf-2b08-4ea6-a79a-648caf262de3"
      },
      "source": [
        "The following code loops over the number of trials and the number of iterations within a single trial. It works in the following steps: \n",
        "1. At the start of each iteration a model is trained on the MOMF data.\n",
        "2. We generate a posterior mean from the model and calculated the dominated set from these 10000 points.\n",
        "3. This dominated set is used to estimate the hypervolume and then the next iteration is started where the model now takes n+1 data points\n",
        "\n",
        "**The test points used here are already generated before for evaluation of the single trial of MOMF**\n",
        "\n",
        "**Note: The following cell would take some time**"
      ]
    },
    {
      "cell_type": "code",
      "metadata": {
        "originalKey": "d1a28666-dd40-4ecf-8b9b-76cdabe734a1",
        "collapsed": false,
        "requestMsgId": "b2a75edb-26fc-47ee-911b-1660cde0d0a4",
        "executionStopTime": 1654295336217,
        "customOutput": null,
        "executionStartTime": 1654295020753,
        "code_folding": [],
        "hidden_ranges": []
      },
      "source": [
        "# Generating the final Pareto front by fitting a GP to MOMF data and evaluating the\n",
        "# GP posterior at the highest fidelity with 10000 random points\n",
        "verbose = True\n",
        "hv_MOMF = np.zeros(\n",
        "    (train_obj.shape[0], n_TRIALS)\n",
        ")  # Array that contains hypervolume for n_TRIALS\n",
        "for trial in range(0, n_TRIALS):\n",
        "    # Loop to run over all trials\n",
        "    print(\"***************************************************************************\")\n",
        "    print(\"Trial is \", trial)\n",
        "    for num, i in enumerate(range(n_INIT, train_obj.shape[0], 1)):\n",
        "        # Loop to get evolution of hypervolume during a single trial of MOMF optimization.\n",
        "        hv_MOMF[num, trial], _ = get_pareto(\n",
        "            train_x[:i, :, trial], train_obj[:i, :-1, trial], test_x, ref_point\n",
        "        )\n",
        "        if verbose:\n",
        "            print(f\"Iteration: {num + 1}\")"
      ],
      "execution_count": 16,
      "outputs": [
        {
          "output_type": "stream",
          "name": "stdout",
          "text": [
            "***************************************************************************\nTrial is  0\n"
          ]
        },
        {
          "output_type": "stream",
          "name": "stdout",
          "text": [
            "Iteration: 1\n"
          ]
        },
        {
          "output_type": "stream",
          "name": "stdout",
          "text": [
            "Iteration: 2\n"
          ]
        },
        {
          "output_type": "stream",
          "name": "stdout",
          "text": [
            "Iteration: 3\n"
          ]
        },
        {
          "output_type": "stream",
          "name": "stdout",
          "text": [
            "Iteration: 4\n"
          ]
        },
        {
          "output_type": "stream",
          "name": "stdout",
          "text": [
            "Iteration: 5\n"
          ]
        },
        {
          "output_type": "stream",
          "name": "stdout",
          "text": [
            "Iteration: 6\n"
          ]
        },
        {
          "output_type": "stream",
          "name": "stdout",
          "text": [
            "Iteration: 7\n"
          ]
        },
        {
          "output_type": "stream",
          "name": "stdout",
          "text": [
            "Iteration: 8\n"
          ]
        },
        {
          "output_type": "stream",
          "name": "stdout",
          "text": [
            "Iteration: 9\n"
          ]
        },
        {
          "output_type": "stream",
          "name": "stdout",
          "text": [
            "Iteration: 10\n"
          ]
        },
        {
          "output_type": "stream",
          "name": "stdout",
          "text": [
            "Iteration: 11\n"
          ]
        },
        {
          "output_type": "stream",
          "name": "stdout",
          "text": [
            "Iteration: 12\n"
          ]
        },
        {
          "output_type": "stream",
          "name": "stdout",
          "text": [
            "Iteration: 13\n"
          ]
        },
        {
          "output_type": "stream",
          "name": "stdout",
          "text": [
            "Iteration: 14\n"
          ]
        },
        {
          "output_type": "stream",
          "name": "stdout",
          "text": [
            "Iteration: 15\n"
          ]
        },
        {
          "output_type": "stream",
          "name": "stdout",
          "text": [
            "Iteration: 16\n"
          ]
        },
        {
          "output_type": "stream",
          "name": "stdout",
          "text": [
            "Iteration: 17\n"
          ]
        },
        {
          "output_type": "stream",
          "name": "stdout",
          "text": [
            "Iteration: 18\n"
          ]
        },
        {
          "output_type": "stream",
          "name": "stdout",
          "text": [
            "Iteration: 19\n"
          ]
        },
        {
          "output_type": "stream",
          "name": "stdout",
          "text": [
            "Iteration: 20\n"
          ]
        },
        {
          "output_type": "stream",
          "name": "stdout",
          "text": [
            "Iteration: 21\n"
          ]
        },
        {
          "output_type": "stream",
          "name": "stdout",
          "text": [
            "Iteration: 22\n"
          ]
        },
        {
          "output_type": "stream",
          "name": "stdout",
          "text": [
            "Iteration: 23\n"
          ]
        },
        {
          "output_type": "stream",
          "name": "stdout",
          "text": [
            "Iteration: 24\n"
          ]
        },
        {
          "output_type": "stream",
          "name": "stdout",
          "text": [
            "Iteration: 25\n"
          ]
        },
        {
          "output_type": "stream",
          "name": "stdout",
          "text": [
            "Iteration: 26\n"
          ]
        },
        {
          "output_type": "stream",
          "name": "stdout",
          "text": [
            "Iteration: 27\n"
          ]
        },
        {
          "output_type": "stream",
          "name": "stdout",
          "text": [
            "Iteration: 28\n"
          ]
        },
        {
          "output_type": "stream",
          "name": "stdout",
          "text": [
            "Iteration: 29\n"
          ]
        },
        {
          "output_type": "stream",
          "name": "stdout",
          "text": [
            "Iteration: 30\n"
          ]
        },
        {
          "output_type": "stream",
          "name": "stdout",
          "text": [
            "Iteration: 31\n"
          ]
        },
        {
          "output_type": "stream",
          "name": "stdout",
          "text": [
            "Iteration: 32\n"
          ]
        },
        {
          "output_type": "stream",
          "name": "stdout",
          "text": [
            "Iteration: 33\n"
          ]
        },
        {
          "output_type": "stream",
          "name": "stdout",
          "text": [
            "Iteration: 34\n"
          ]
        },
        {
          "output_type": "stream",
          "name": "stdout",
          "text": [
            "Iteration: 35\n"
          ]
        },
        {
          "output_type": "stream",
          "name": "stdout",
          "text": [
            "Iteration: 36\n"
          ]
        },
        {
          "output_type": "stream",
          "name": "stdout",
          "text": [
            "Iteration: 37\n"
          ]
        },
        {
          "output_type": "stream",
          "name": "stdout",
          "text": [
            "Iteration: 38\n"
          ]
        },
        {
          "output_type": "stream",
          "name": "stdout",
          "text": [
            "Iteration: 39\n"
          ]
        },
        {
          "output_type": "stream",
          "name": "stdout",
          "text": [
            "Iteration: 40\n"
          ]
        },
        {
          "output_type": "stream",
          "name": "stdout",
          "text": [
            "Iteration: 41\n"
          ]
        },
        {
          "output_type": "stream",
          "name": "stdout",
          "text": [
            "Iteration: 42\n"
          ]
        },
        {
          "output_type": "stream",
          "name": "stdout",
          "text": [
            "Iteration: 43\n"
          ]
        },
        {
          "output_type": "stream",
          "name": "stdout",
          "text": [
            "Iteration: 44\n"
          ]
        },
        {
          "output_type": "stream",
          "name": "stdout",
          "text": [
            "Iteration: 45\n"
          ]
        },
        {
          "output_type": "stream",
          "name": "stdout",
          "text": [
            "Iteration: 46\n"
          ]
        },
        {
          "output_type": "stream",
          "name": "stdout",
          "text": [
            "Iteration: 47\n"
          ]
        },
        {
          "output_type": "stream",
          "name": "stdout",
          "text": [
            "Iteration: 48\n"
          ]
        },
        {
          "output_type": "stream",
          "name": "stdout",
          "text": [
            "Iteration: 49\n"
          ]
        },
        {
          "output_type": "stream",
          "name": "stdout",
          "text": [
            "Iteration: 50\n"
          ]
        },
        {
          "output_type": "stream",
          "name": "stdout",
          "text": [
            "Iteration: 51\n"
          ]
        },
        {
          "output_type": "stream",
          "name": "stdout",
          "text": [
            "Iteration: 52\n"
          ]
        },
        {
          "output_type": "stream",
          "name": "stdout",
          "text": [
            "Iteration: 53\n"
          ]
        },
        {
          "output_type": "stream",
          "name": "stdout",
          "text": [
            "Iteration: 54\n"
          ]
        },
        {
          "output_type": "stream",
          "name": "stdout",
          "text": [
            "Iteration: 55\n"
          ]
        },
        {
          "output_type": "stream",
          "name": "stdout",
          "text": [
            "Iteration: 56\n"
          ]
        },
        {
          "output_type": "stream",
          "name": "stdout",
          "text": [
            "Iteration: 57\n"
          ]
        },
        {
          "output_type": "stream",
          "name": "stdout",
          "text": [
            "Iteration: 58\n"
          ]
        },
        {
          "output_type": "stream",
          "name": "stdout",
          "text": [
            "Iteration: 59\n"
          ]
        },
        {
          "output_type": "stream",
          "name": "stdout",
          "text": [
            "Iteration: 60\n***************************************************************************\nTrial is  1\n"
          ]
        },
        {
          "output_type": "stream",
          "name": "stdout",
          "text": [
            "Iteration: 1\n"
          ]
        },
        {
          "output_type": "stream",
          "name": "stdout",
          "text": [
            "Iteration: 2\n"
          ]
        },
        {
          "output_type": "stream",
          "name": "stdout",
          "text": [
            "Iteration: 3\n"
          ]
        },
        {
          "output_type": "stream",
          "name": "stdout",
          "text": [
            "Iteration: 4\n"
          ]
        },
        {
          "output_type": "stream",
          "name": "stdout",
          "text": [
            "Iteration: 5\n"
          ]
        },
        {
          "output_type": "stream",
          "name": "stdout",
          "text": [
            "Iteration: 6\n"
          ]
        },
        {
          "output_type": "stream",
          "name": "stdout",
          "text": [
            "Iteration: 7\n"
          ]
        },
        {
          "output_type": "stream",
          "name": "stdout",
          "text": [
            "Iteration: 8\n"
          ]
        },
        {
          "output_type": "stream",
          "name": "stdout",
          "text": [
            "Iteration: 9\n"
          ]
        },
        {
          "output_type": "stream",
          "name": "stdout",
          "text": [
            "Iteration: 10\n"
          ]
        },
        {
          "output_type": "stream",
          "name": "stdout",
          "text": [
            "Iteration: 11\n"
          ]
        },
        {
          "output_type": "stream",
          "name": "stdout",
          "text": [
            "Iteration: 12\n"
          ]
        },
        {
          "output_type": "stream",
          "name": "stdout",
          "text": [
            "Iteration: 13\n"
          ]
        },
        {
          "output_type": "stream",
          "name": "stdout",
          "text": [
            "Iteration: 14\n"
          ]
        },
        {
          "output_type": "stream",
          "name": "stdout",
          "text": [
            "Iteration: 15\n"
          ]
        },
        {
          "output_type": "stream",
          "name": "stdout",
          "text": [
            "Iteration: 16\n"
          ]
        },
        {
          "output_type": "stream",
          "name": "stdout",
          "text": [
            "Iteration: 17\n"
          ]
        },
        {
          "output_type": "stream",
          "name": "stdout",
          "text": [
            "Iteration: 18\n"
          ]
        },
        {
          "output_type": "stream",
          "name": "stdout",
          "text": [
            "Iteration: 19\n"
          ]
        },
        {
          "output_type": "stream",
          "name": "stdout",
          "text": [
            "Iteration: 20\n"
          ]
        },
        {
          "output_type": "stream",
          "name": "stdout",
          "text": [
            "Iteration: 21\n"
          ]
        },
        {
          "output_type": "stream",
          "name": "stdout",
          "text": [
            "Iteration: 22\n"
          ]
        },
        {
          "output_type": "stream",
          "name": "stdout",
          "text": [
            "Iteration: 23\n"
          ]
        },
        {
          "output_type": "stream",
          "name": "stdout",
          "text": [
            "Iteration: 24\n"
          ]
        },
        {
          "output_type": "stream",
          "name": "stdout",
          "text": [
            "Iteration: 25\n"
          ]
        },
        {
          "output_type": "stream",
          "name": "stdout",
          "text": [
            "Iteration: 26\n"
          ]
        },
        {
          "output_type": "stream",
          "name": "stdout",
          "text": [
            "Iteration: 27\n"
          ]
        },
        {
          "output_type": "stream",
          "name": "stdout",
          "text": [
            "Iteration: 28\n"
          ]
        },
        {
          "output_type": "stream",
          "name": "stdout",
          "text": [
            "Iteration: 29\n"
          ]
        },
        {
          "output_type": "stream",
          "name": "stdout",
          "text": [
            "Iteration: 30\n"
          ]
        },
        {
          "output_type": "stream",
          "name": "stdout",
          "text": [
            "Iteration: 31\n"
          ]
        },
        {
          "output_type": "stream",
          "name": "stdout",
          "text": [
            "Iteration: 32\n"
          ]
        },
        {
          "output_type": "stream",
          "name": "stdout",
          "text": [
            "Iteration: 33\n"
          ]
        },
        {
          "output_type": "stream",
          "name": "stdout",
          "text": [
            "Iteration: 34\n"
          ]
        },
        {
          "output_type": "stream",
          "name": "stdout",
          "text": [
            "Iteration: 35\n"
          ]
        },
        {
          "output_type": "stream",
          "name": "stdout",
          "text": [
            "Iteration: 36\n"
          ]
        },
        {
          "output_type": "stream",
          "name": "stdout",
          "text": [
            "Iteration: 37\n"
          ]
        },
        {
          "output_type": "stream",
          "name": "stdout",
          "text": [
            "Iteration: 38\n"
          ]
        },
        {
          "output_type": "stream",
          "name": "stdout",
          "text": [
            "Iteration: 39\n"
          ]
        },
        {
          "output_type": "stream",
          "name": "stdout",
          "text": [
            "Iteration: 40\n"
          ]
        },
        {
          "output_type": "stream",
          "name": "stdout",
          "text": [
            "Iteration: 41\n"
          ]
        },
        {
          "output_type": "stream",
          "name": "stdout",
          "text": [
            "Iteration: 42\n"
          ]
        },
        {
          "output_type": "stream",
          "name": "stdout",
          "text": [
            "Iteration: 43\n"
          ]
        },
        {
          "output_type": "stream",
          "name": "stdout",
          "text": [
            "Iteration: 44\n"
          ]
        },
        {
          "output_type": "stream",
          "name": "stdout",
          "text": [
            "Iteration: 45\n"
          ]
        },
        {
          "output_type": "stream",
          "name": "stdout",
          "text": [
            "Iteration: 46\n"
          ]
        },
        {
          "output_type": "stream",
          "name": "stdout",
          "text": [
            "Iteration: 47\n"
          ]
        },
        {
          "output_type": "stream",
          "name": "stdout",
          "text": [
            "Iteration: 48\n"
          ]
        },
        {
          "output_type": "stream",
          "name": "stdout",
          "text": [
            "Iteration: 49\n"
          ]
        },
        {
          "output_type": "stream",
          "name": "stdout",
          "text": [
            "Iteration: 50\n"
          ]
        },
        {
          "output_type": "stream",
          "name": "stdout",
          "text": [
            "Iteration: 51\n"
          ]
        },
        {
          "output_type": "stream",
          "name": "stdout",
          "text": [
            "Iteration: 52\n"
          ]
        },
        {
          "output_type": "stream",
          "name": "stdout",
          "text": [
            "Iteration: 53\n"
          ]
        },
        {
          "output_type": "stream",
          "name": "stdout",
          "text": [
            "Iteration: 54\n"
          ]
        },
        {
          "output_type": "stream",
          "name": "stdout",
          "text": [
            "Iteration: 55\n"
          ]
        },
        {
          "output_type": "stream",
          "name": "stdout",
          "text": [
            "Iteration: 56\n"
          ]
        },
        {
          "output_type": "stream",
          "name": "stdout",
          "text": [
            "Iteration: 57\n"
          ]
        },
        {
          "output_type": "stream",
          "name": "stdout",
          "text": [
            "Iteration: 58\n"
          ]
        },
        {
          "output_type": "stream",
          "name": "stdout",
          "text": [
            "Iteration: 59\n"
          ]
        },
        {
          "output_type": "stream",
          "name": "stdout",
          "text": [
            "Iteration: 60\n***************************************************************************\nTrial is  2\n"
          ]
        },
        {
          "output_type": "stream",
          "name": "stdout",
          "text": [
            "Iteration: 1\n"
          ]
        },
        {
          "output_type": "stream",
          "name": "stdout",
          "text": [
            "Iteration: 2\n"
          ]
        },
        {
          "output_type": "stream",
          "name": "stdout",
          "text": [
            "Iteration: 3\n"
          ]
        },
        {
          "output_type": "stream",
          "name": "stdout",
          "text": [
            "Iteration: 4\n"
          ]
        },
        {
          "output_type": "stream",
          "name": "stdout",
          "text": [
            "Iteration: 5\n"
          ]
        },
        {
          "output_type": "stream",
          "name": "stdout",
          "text": [
            "Iteration: 6\n"
          ]
        },
        {
          "output_type": "stream",
          "name": "stdout",
          "text": [
            "Iteration: 7\n"
          ]
        },
        {
          "output_type": "stream",
          "name": "stdout",
          "text": [
            "Iteration: 8\n"
          ]
        },
        {
          "output_type": "stream",
          "name": "stdout",
          "text": [
            "Iteration: 9\n"
          ]
        },
        {
          "output_type": "stream",
          "name": "stdout",
          "text": [
            "Iteration: 10\n"
          ]
        },
        {
          "output_type": "stream",
          "name": "stdout",
          "text": [
            "Iteration: 11\n"
          ]
        },
        {
          "output_type": "stream",
          "name": "stdout",
          "text": [
            "Iteration: 12\n"
          ]
        },
        {
          "output_type": "stream",
          "name": "stdout",
          "text": [
            "Iteration: 13\n"
          ]
        },
        {
          "output_type": "stream",
          "name": "stdout",
          "text": [
            "Iteration: 14\n"
          ]
        },
        {
          "output_type": "stream",
          "name": "stdout",
          "text": [
            "Iteration: 15\n"
          ]
        },
        {
          "output_type": "stream",
          "name": "stdout",
          "text": [
            "Iteration: 16\n"
          ]
        },
        {
          "output_type": "stream",
          "name": "stdout",
          "text": [
            "Iteration: 17\n"
          ]
        },
        {
          "output_type": "stream",
          "name": "stdout",
          "text": [
            "Iteration: 18\n"
          ]
        },
        {
          "output_type": "stream",
          "name": "stdout",
          "text": [
            "Iteration: 19\n"
          ]
        },
        {
          "output_type": "stream",
          "name": "stdout",
          "text": [
            "Iteration: 20\n"
          ]
        },
        {
          "output_type": "stream",
          "name": "stdout",
          "text": [
            "Iteration: 21\n"
          ]
        },
        {
          "output_type": "stream",
          "name": "stdout",
          "text": [
            "Iteration: 22\n"
          ]
        },
        {
          "output_type": "stream",
          "name": "stdout",
          "text": [
            "Iteration: 23\n"
          ]
        },
        {
          "output_type": "stream",
          "name": "stdout",
          "text": [
            "Iteration: 24\n"
          ]
        },
        {
          "output_type": "stream",
          "name": "stdout",
          "text": [
            "Iteration: 25\n"
          ]
        },
        {
          "output_type": "stream",
          "name": "stdout",
          "text": [
            "Iteration: 26\n"
          ]
        },
        {
          "output_type": "stream",
          "name": "stdout",
          "text": [
            "Iteration: 27\n"
          ]
        },
        {
          "output_type": "stream",
          "name": "stdout",
          "text": [
            "Iteration: 28\n"
          ]
        },
        {
          "output_type": "stream",
          "name": "stdout",
          "text": [
            "Iteration: 29\n"
          ]
        },
        {
          "output_type": "stream",
          "name": "stdout",
          "text": [
            "Iteration: 30\n"
          ]
        },
        {
          "output_type": "stream",
          "name": "stdout",
          "text": [
            "Iteration: 31\n"
          ]
        },
        {
          "output_type": "stream",
          "name": "stdout",
          "text": [
            "Iteration: 32\n"
          ]
        },
        {
          "output_type": "stream",
          "name": "stdout",
          "text": [
            "Iteration: 33\n"
          ]
        },
        {
          "output_type": "stream",
          "name": "stdout",
          "text": [
            "Iteration: 34\n"
          ]
        },
        {
          "output_type": "stream",
          "name": "stdout",
          "text": [
            "Iteration: 35\n"
          ]
        },
        {
          "output_type": "stream",
          "name": "stdout",
          "text": [
            "Iteration: 36\n"
          ]
        },
        {
          "output_type": "stream",
          "name": "stdout",
          "text": [
            "Iteration: 37\n"
          ]
        },
        {
          "output_type": "stream",
          "name": "stdout",
          "text": [
            "Iteration: 38\n"
          ]
        },
        {
          "output_type": "stream",
          "name": "stdout",
          "text": [
            "Iteration: 39\n"
          ]
        },
        {
          "output_type": "stream",
          "name": "stdout",
          "text": [
            "Iteration: 40\n"
          ]
        },
        {
          "output_type": "stream",
          "name": "stdout",
          "text": [
            "Iteration: 41\n"
          ]
        },
        {
          "output_type": "stream",
          "name": "stdout",
          "text": [
            "Iteration: 42\n"
          ]
        },
        {
          "output_type": "stream",
          "name": "stdout",
          "text": [
            "Iteration: 43\n"
          ]
        },
        {
          "output_type": "stream",
          "name": "stdout",
          "text": [
            "Iteration: 44\n"
          ]
        },
        {
          "output_type": "stream",
          "name": "stdout",
          "text": [
            "Iteration: 45\n"
          ]
        },
        {
          "output_type": "stream",
          "name": "stdout",
          "text": [
            "Iteration: 46\n"
          ]
        },
        {
          "output_type": "stream",
          "name": "stdout",
          "text": [
            "Iteration: 47\n"
          ]
        },
        {
          "output_type": "stream",
          "name": "stdout",
          "text": [
            "Iteration: 48\n"
          ]
        },
        {
          "output_type": "stream",
          "name": "stdout",
          "text": [
            "Iteration: 49\n"
          ]
        },
        {
          "output_type": "stream",
          "name": "stdout",
          "text": [
            "Iteration: 50\n"
          ]
        },
        {
          "output_type": "stream",
          "name": "stdout",
          "text": [
            "Iteration: 51\n"
          ]
        },
        {
          "output_type": "stream",
          "name": "stdout",
          "text": [
            "Iteration: 52\n"
          ]
        },
        {
          "output_type": "stream",
          "name": "stdout",
          "text": [
            "Iteration: 53\n"
          ]
        },
        {
          "output_type": "stream",
          "name": "stdout",
          "text": [
            "Iteration: 54\n"
          ]
        },
        {
          "output_type": "stream",
          "name": "stdout",
          "text": [
            "Iteration: 55\n"
          ]
        },
        {
          "output_type": "stream",
          "name": "stdout",
          "text": [
            "Iteration: 56\n"
          ]
        },
        {
          "output_type": "stream",
          "name": "stdout",
          "text": [
            "Iteration: 57\n"
          ]
        },
        {
          "output_type": "stream",
          "name": "stdout",
          "text": [
            "Iteration: 58\n"
          ]
        },
        {
          "output_type": "stream",
          "name": "stdout",
          "text": [
            "Iteration: 59\n"
          ]
        },
        {
          "output_type": "stream",
          "name": "stdout",
          "text": [
            "Iteration: 60\n"
          ]
        }
      ]
    },
    {
      "cell_type": "markdown",
      "metadata": {
        "originalKey": "a7ea66e7-1000-4649-a109-23c05fa34186"
      },
      "source": [
        "For the qEHVI the hypervolume calculation is more straightforward. We calculated at each iteration the set of non-dominated points from the training data and use that to estimate the hypervolume."
      ]
    },
    {
      "cell_type": "code",
      "metadata": {
        "originalKey": "43c6138f-a4d0-4cb4-bdf3-0f0b615a4475",
        "collapsed": false,
        "requestMsgId": "b0af5836-27c0-49e4-9590-295e6c188ffc",
        "executionStopTime": 1654295336618,
        "customOutput": null,
        "executionStartTime": 1654295336342
      },
      "source": [
        "# Since the MO data is already at highest fidelity we can calculate the evolution of hypervolume directly from data\n",
        "verbose = False\n",
        "hv_MO = np.zeros((train_objMO.shape[0], n_TRIALS))\n",
        "for trial in range(0, n_TRIALS):\n",
        "    # Loop to run over all the trials\n",
        "    print(\"***************************************************************************\")\n",
        "    print(\"Trial is \", trial)\n",
        "    for num, i in enumerate(range(0, train_objMO.shape[0], 1)):\n",
        "        # Loop to get evolution of hypervolume within a single trial\n",
        "        pareto_maskMO = is_non_dominated(\n",
        "            train_objMO[:i, :, trial]\n",
        "        )  # Calculating Non-dominated points\n",
        "        box_decomp = DominatedPartitioning(\n",
        "            torch.tensor(ref_pointMO,**tkwargs),\n",
        "            train_objMO[:i, :, trial][pareto_maskMO],\n",
        "        )  # Used to calculate hypervolume\n",
        "        hv_MO[num, trial] = box_decomp.compute_hypervolume().item()\n",
        "        if verbose:\n",
        "            print(\"Iteration\", num)"
      ],
      "execution_count": 17,
      "outputs": [
        {
          "output_type": "stream",
          "name": "stdout",
          "text": [
            "***************************************************************************\nTrial is  0\n***************************************************************************\nTrial is  1\n***************************************************************************\nTrial is  2\n"
          ]
        }
      ]
    },
    {
      "cell_type": "code",
      "metadata": {
        "originalKey": "a8ccb897-9524-4752-b8f3-2f6183442733",
        "collapsed": false,
        "requestMsgId": "f134db92-6f19-457b-9175-4bbfe00f7586",
        "executionStopTime": 1654295336861,
        "customOutput": null,
        "executionStartTime": 1654295336728
      },
      "source": [
        "# Cost calculation MOMF and MO\n",
        "cost_single = cost_func(train_x[:, -1], exp_arg)\n",
        "cost_MOMF = torch.cumsum(cost_single, axis=0)\n",
        "# Generating ones equal to number of iterations for MO only-optimization\n",
        "ones = torch.ones(train_objMO.shape[0],**tkwargs)\n",
        "cost_singleMO = cost_func(ones, exp_arg)\n",
        "cost_MO = torch.cumsum(cost_singleMO, axis=0)"
      ],
      "execution_count": 18,
      "outputs": []
    },
    {
      "cell_type": "code",
      "metadata": {
        "originalKey": "f567d1bf-4746-4ee5-bb5b-843f20fd8cf3",
        "collapsed": false,
        "requestMsgId": "45f83c46-22bc-4fde-aba7-b7b563717f62",
        "executionStopTime": 1654295337011,
        "customOutput": null,
        "executionStartTime": 1654295336974
      },
      "source": [
        "# Converting to Numpy arrays for plotting\n",
        "cost_MOMF = cost_MOMF.cpu().numpy()\n",
        "cost_MO = cost_MO.cpu().numpy()\n",
        "true_hv = 0.5235514158034145  # The approximate max hypervolume taken by evaluating the BC function offline with random 50000 points"
      ],
      "execution_count": 19,
      "outputs": []
    },
    {
      "cell_type": "markdown",
      "metadata": {
        "originalKey": "241e1bf5-6c82-4fb1-9f89-0271646d7860"
      },
      "source": [
        "For plotting purposes we calculate the cost of both MOMF and MO using the last dimension of the training input data."
      ]
    },
    {
      "cell_type": "markdown",
      "metadata": {
        "originalKey": "69e38b84-efab-4d37-8240-840dfe04b976"
      },
      "source": [
        "### Results\n",
        "\n",
        "The following plot shows the hypervolume as a percetage of the true hypervolume for both MOMF and qEHVI. The hypervolume is plotted at each iteration on a log scale. We also plot the confidence intervals derived from running multiple trials for the MOMF and MO.\n",
        ""
      ]
    },
    {
      "cell_type": "code",
      "metadata": {
        "originalKey": "40e98f2d-4c3e-4afe-bfa0-45c0c302758c",
        "collapsed": false,
        "requestMsgId": "af1eb301-18c8-4830-8013-9bd26dae7816",
        "executionStopTime": 1654295337619,
        "customOutput": null,
        "executionStartTime": 1654295337061
      },
      "source": [
        "MOMF_mean = np.mean(hv_MOMF[n_INIT : n_BATCH * BATCH_SIZE, :] / true_hv * 100, axis=1)\n",
        "MOMF_CI = (\n",
        "    1.96\n",
        "    * np.std(hv_MOMF[n_INIT : n_BATCH * BATCH_SIZE, :] / true_hv * 100, axis=1)\n",
        "    / np.sqrt(n_TRIALS)\n",
        ")\n",
        "mean_costMOMF = np.mean(cost_MOMF[n_INIT : n_BATCH * BATCH_SIZE], axis=1)\n",
        "MO_mean = np.mean(hv_MO[n_INITMO:, :] / true_hv * 100, axis=1)\n",
        "MO_CI = 1.96 * np.std(hv_MO[n_INITMO:, :] / true_hv * 100, axis=1) / np.sqrt(n_TRIALS)\n",
        "\n",
        "fig, axes = plt.subplots(1, 1, figsize=(4, 4), dpi=200)\n",
        "axes.errorbar(mean_costMOMF, MOMF_mean, yerr=MOMF_CI, markersize=3.5, label=\"MOMF\")\n",
        "axes.errorbar(cost_MO[n_INITMO:], MO_mean, yerr=MO_CI, markersize=3.5, label=\"EHVI\")\n",
        "axes.set_title(\"Branin-Currin\", fontsize=\"12\")\n",
        "axes.set_xlabel(\"Total Cost Log Scale\", fontsize=\"10\")\n",
        "axes.set_ylabel(\"Hypervolume (%)\", fontsize=\"10\")\n",
        "# axes.set_xlim(1,5000)\n",
        "axes.set_ylim(0, 100)\n",
        "axes.tick_params(labelsize=10)\n",
        "axes.legend(loc=\"lower right\", fontsize=\"7\", frameon=True, ncol=1)\n",
        "plt.xscale(\"log\")\n",
        "plt.tight_layout()"
      ],
      "execution_count": 20,
      "outputs": [
        {
          "output_type": "display_data",
          "data": {
            "text/plain": "<Figure size 800x800 with 1 Axes>",
            "image/png": "[encoded data removed]"
          },
          "metadata": {
            "bento_obj_id": "140479548889216",
            "needs_background": "light"
          }
        }
      ]
    }
  ]
}
