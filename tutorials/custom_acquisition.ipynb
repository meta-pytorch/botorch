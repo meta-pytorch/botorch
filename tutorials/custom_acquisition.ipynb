{
  "metadata": {
    "kernelspec": {
      "display_name": "python3",
      "language": "python",
      "name": "python3",
      "metadata": {
        "kernel_name": "bento_kernel_ae",
        "nightly_builds": false,
        "fbpkg_supported": true,
        "is_prebuilt": true
      }
    },
    "last_server_session_id": "2baef851-0b83-461d-a13a-55031180a4e3",
    "last_kernel_id": "c639787b-ec07-49bc-b91b-8fe06aa9b0d0",
    "last_base_url": "https://10601.od.fbinfra.net:443/",
    "last_msg_id": "68579f90-eb9b7aec3051a3df474af652_278",
    "outputWidgetContext": {}
  },
  "nbformat": 4,
  "nbformat_minor": 2,
  "cells": [
    {
      "cell_type": "markdown",
      "metadata": {
        "collapsed": true,
        "originalKey": "4c6694a4-a6f8-4fc6-a9a7-4a29617406cb",
        "showInput": true,
        "code_folding": [],
        "hidden_ranges": []
      },
      "source": [
        "## Writing a custom acquisition function and interfacing with Ax\n",
        "\n",
        "As seen in the [custom BoTorch model in Ax](./custom_botorch_model_in_ax) tutorial, Ax's `BotorchModel` is flexible in allowing different components of the Bayesian optimization loop to be specified through a functional API. This tutorial walks through the steps of writing a custom acquisition function and then inserting it into Ax. \n",
        "\n",
        "Next cell sets up a decorator solely to speed up the testing of the notebook. You can safely ignore this cell and use of the decorator throughout the tutorial."
      ]
    },
    {
      "cell_type": "code",
      "metadata": {
        "originalKey": "2d340028-46d5-44a6-bbb5-174dc137fe98",
        "showInput": true,
        "customInput": null,
        "code_folding": [],
        "hidden_ranges": [],
        "collapsed": false,
        "requestMsgId": "2d340028-46d5-44a6-bbb5-174dc137fe98",
        "executionStartTime": 1646671915465,
        "executionStopTime": 1646671916654
      },
      "source": [
        "import os\n",
        "from contextlib import contextmanager\n",
        "\n",
        "from ax.utils.testing.mock import fast_botorch_optimize_context_manager\n",
        "\n",
        "\n",
        "SMOKE_TEST = os.environ.get(\"SMOKE_TEST\")\n",
        "\n",
        "\n",
        "@contextmanager\n",
        "def dummy_context_manager():\n",
        "    yield\n",
        "\n",
        "\n",
        "if SMOKE_TEST:\n",
        "    fast_smoke_test = fast_botorch_optimize_context_manager\n",
        "else:\n",
        "    fast_smoke_test = dummy_context_manager"
      ],
      "execution_count": 1,
      "outputs": []
    },
    {
      "cell_type": "markdown",
      "metadata": {
        "collapsed": true,
        "originalKey": "c901c723-b2f3-4f75-96c0-6555954209f5",
        "showInput": true,
        "code_folding": [],
        "hidden_ranges": []
      },
      "source": [
        "### Upper Confidence Bound (UCB)\n",
        "\n",
        "The Upper Confidence Bound (UCB) acquisition function balances exploration and exploitation by assigning a score of $\\mu + \\sqrt{\\beta} \\cdot \\sigma$ if the posterior distribution is normal with mean $\\mu$ and variance $\\sigma^2$. This \"analytic\" version is implemented in the `UpperConfidenceBound` class. The Monte Carlo version of UCB is implemented in the `qUpperConfidenceBound` class, which also allows for q-batches of size greater than one. (The derivation of q-UCB is given in Appendix A of [Wilson et. al., 2017](https://arxiv.org/pdf/1712.00424.pdf)).\n",
        "\n",
        "### A scalarized version of q-UCB\n",
        "\n",
        "Suppose now that we are in a multi-output setting, where, e.g., we model the effects of a design on multiple metrics. We first show a simple extension of the q-UCB acquisition function that accepts a multi-output model and performs q-UCB on a scalarized version of the multiple outputs, achieved via a vector of weights. Implementing a new acquisition function in botorch is easy; one simply needs to implement the constructor and a `forward` method."
      ]
    },
    {
      "cell_type": "code",
      "metadata": {
        "originalKey": "75503e22-bf3b-49d6-87a8-cb9c741e941e",
        "code_folding": [],
        "hidden_ranges": [],
        "collapsed": false,
        "requestMsgId": "75503e22-bf3b-49d6-87a8-cb9c741e941e",
        "executionStartTime": 1646671916688,
        "executionStopTime": 1646671916982
      },
      "source": [
        "import math\n",
        "from typing import Optional\n",
        "\n",
        "from botorch.acquisition.monte_carlo import MCAcquisitionFunction\n",
        "from botorch.models.model import Model\n",
        "from botorch.sampling.samplers import MCSampler, SobolQMCNormalSampler\n",
        "from botorch.utils import t_batch_mode_transform\n",
        "from torch import Tensor\n",
        "\n",
        "\n",
        "class qScalarizedUpperConfidenceBound(MCAcquisitionFunction):\n",
        "    def __init__(\n",
        "        self,\n",
        "        model: Model,\n",
        "        beta: Tensor,\n",
        "        weights: Tensor,\n",
        "        sampler: Optional[MCSampler] = None,\n",
        "    ) -> None:\n",
        "        # we use the AcquisitionFunction constructor, since that of\n",
        "        # MCAcquisitionFunction performs some validity checks that we don't want here\n",
        "        super(MCAcquisitionFunction, self).__init__(model=model)\n",
        "        if sampler is None:\n",
        "            sampler = SobolQMCNormalSampler(num_samples=512, collapse_batch_dims=True)\n",
        "        self.sampler = sampler\n",
        "        self.register_buffer(\"beta\", torch.as_tensor(beta))\n",
        "        self.register_buffer(\"weights\", torch.as_tensor(weights))\n",
        "\n",
        "    @t_batch_mode_transform()\n",
        "    def forward(self, X: Tensor) -> Tensor:\n",
        "        \"\"\"Evaluate scalarized qUCB on the candidate set `X`.\n",
        "\n",
        "        Args:\n",
        "            X: A `(b) x q x d`-dim Tensor of `(b)` t-batches with `q` `d`-dim\n",
        "                design points each.\n",
        "\n",
        "        Returns:\n",
        "            Tensor: A `(b)`-dim Tensor of Upper Confidence Bound values at the\n",
        "                given design points `X`.\n",
        "        \"\"\"\n",
        "        posterior = self.model.posterior(X)\n",
        "        samples = self.sampler(posterior)  # n x b x q x o\n",
        "        scalarized_samples = samples.matmul(self.weights)  # n x b x q\n",
        "        mean = posterior.mean  # b x q x o\n",
        "        scalarized_mean = mean.matmul(self.weights)  # b x q\n",
        "        ucb_samples = (\n",
        "            scalarized_mean + math.sqrt(self.beta * math.pi / 2) * (scalarized_samples - scalarized_mean).abs()\n",
        "        )\n",
        "        return ucb_samples.max(dim=-1)[0].mean(dim=0)"
      ],
      "execution_count": 2,
      "outputs": []
    },
    {
      "cell_type": "markdown",
      "metadata": {
        "originalKey": "b1d4ee8e-69e1-4914-b113-473add84f322",
        "showInput": false,
        "code_folding": [],
        "hidden_ranges": []
      },
      "source": [
        "Note that `qScalarizedUpperConfidenceBound` is very similar to `qUpperConfidenceBound` and only requires a few lines of new code to accomodate scalarization of multiple outputs. The `@t_batch_mode_transform` decorator ensures that the input `X` has an explicit t-batch dimension (code comments are added with shapes for clarity).\n",
        "\n",
        "See the end of this tutorial for a quick and easy way of achieving the same scalarization effect using `ScalarizedPosteriorTransform`."
      ]
    },
    {
      "cell_type": "markdown",
      "metadata": {
        "originalKey": "7122ce31-f5ee-4fdc-8962-73f692eaaac0"
      },
      "source": [
        "#### Ad-hoc testing q-Scalarized-UCB\n",
        "\n",
        "Before hooking the newly defined acquisition function into a Bayesian Optimization loop, we should test it. For this we'll just make sure that it properly evaluates on a compatible multi-output model. Here we just define a basic multi-output `SingleTaskGP` model trained on synthetic data."
      ]
    },
    {
      "cell_type": "code",
      "metadata": {
        "originalKey": "4958d0f5-cce4-4fc8-8fa2-8b9d7fe2bd5d",
        "collapsed": false,
        "requestMsgId": "4958d0f5-cce4-4fc8-8fa2-8b9d7fe2bd5d",
        "executionStartTime": 1646671917013,
        "executionStopTime": 1646671917787,
        "code_folding": [],
        "hidden_ranges": []
      },
      "source": [
        "import torch\n",
        "\n",
        "from botorch.fit import fit_gpytorch_model\n",
        "from botorch.models import SingleTaskGP\n",
        "from botorch.utils import standardize\n",
        "from gpytorch.mlls import ExactMarginalLogLikelihood\n",
        "\n",
        "\n",
        "# generate synthetic data\n",
        "X = torch.rand(20, 2)\n",
        "Y = torch.stack([torch.sin(X[:, 0]), torch.cos(X[:, 1])], -1)\n",
        "Y = standardize(Y)  # standardize to zero mean unit variance\n",
        "\n",
        "# construct and fit the multi-output model\n",
        "with fast_smoke_test():\n",
        "    gp = SingleTaskGP(X, Y)\n",
        "    mll = ExactMarginalLogLikelihood(gp.likelihood, gp)\n",
        "    fit_gpytorch_model(mll)\n",
        "\n",
        "# construct the acquisition function\n",
        "qSUCB = qScalarizedUpperConfidenceBound(gp, beta=0.1, weights=torch.tensor([0.1, 0.5]))"
      ],
      "execution_count": 3,
      "outputs": []
    },
    {
      "cell_type": "code",
      "metadata": {
        "originalKey": "5070d96c-5673-4bbf-ab72-781d1eabd1bf",
        "collapsed": false,
        "requestMsgId": "5070d96c-5673-4bbf-ab72-781d1eabd1bf",
        "executionStartTime": 1646671917814,
        "executionStopTime": 1646671917964
      },
      "source": [
        "# evaluate on single q-batch with q=3\n",
        "qSUCB(torch.rand(3, 2))"
      ],
      "execution_count": 4,
      "outputs": [
        {
          "output_type": "execute_result",
          "data": {
            "text/plain": "tensor([-0.0703], grad_fn=<MeanBackward1>)"
          },
          "metadata": {
            "bento_obj_id": "140262428718080"
          },
          "execution_count": 4
        }
      ]
    },
    {
      "cell_type": "code",
      "metadata": {
        "scrolled": true,
        "originalKey": "b3e0a586-b362-4ab4-b4c1-7fc0c99a1be4",
        "collapsed": false,
        "requestMsgId": "b3e0a586-b362-4ab4-b4c1-7fc0c99a1be4",
        "executionStartTime": 1646671918000,
        "executionStopTime": 1646671918150
      },
      "source": [
        "# batch-evaluate on two q-batches with q=3\n",
        "qSUCB(torch.rand(2, 3, 2))"
      ],
      "execution_count": 5,
      "outputs": [
        {
          "output_type": "execute_result",
          "data": {
            "text/plain": "tensor([0.3681, 0.3131], grad_fn=<MeanBackward1>)"
          },
          "metadata": {
            "bento_obj_id": "140262499108720"
          },
          "execution_count": 5
        }
      ]
    },
    {
      "cell_type": "markdown",
      "metadata": {
        "collapsed": true,
        "originalKey": "aa45db76-36cb-42e9-9386-649d9ea5e741"
      },
      "source": [
        "### A scalarized version of analytic UCB (`q=1` only)\n",
        "\n",
        "We can also write an *analytic* version of UCB for a multi-output model, assuming a multivariate normal posterior and `q=1`. The new class `ScalarizedUpperConfidenceBound` subclasses `AnalyticAcquisitionFunction` instead of `MCAcquisitionFunction`. In contrast to the MC version, instead of using the weights on the MC samples, we directly scalarize the mean vector $\\mu$ and covariance matrix $\\Sigma$ and apply standard UCB on the univariate normal distribution, which has mean $w^T \\mu$ and variance $w^T \\Sigma w$. In addition to the `@t_batch_transform` decorator, here we are also using `expected_q=1` to ensure the input `X` has a `q=1`.\n",
        "\n",
        "*Note:* BoTorch also provides a `ScalarizedObjective` abstraction that can be used with any existing analytic acqusition functions and automatically performs the scalarization we implement manually below. See the end of this tutorial for a usage example."
      ]
    },
    {
      "cell_type": "code",
      "metadata": {
        "originalKey": "5528fc1c-5cf1-4cab-9598-9a41e652d6ea",
        "collapsed": false,
        "requestMsgId": "5528fc1c-5cf1-4cab-9598-9a41e652d6ea",
        "executionStartTime": 1646671918182,
        "executionStopTime": 1646671918282
      },
      "source": [
        "from botorch.acquisition import AnalyticAcquisitionFunction\n",
        "\n",
        "\n",
        "class ScalarizedUpperConfidenceBound(AnalyticAcquisitionFunction):\n",
        "    def __init__(\n",
        "        self,\n",
        "        model: Model,\n",
        "        beta: Tensor,\n",
        "        weights: Tensor,\n",
        "        maximize: bool = True,\n",
        "    ) -> None:\n",
        "        # we use the AcquisitionFunction constructor, since that of \n",
        "        # AnalyticAcquisitionFunction performs some validity checks that we don't want here\n",
        "        super(AnalyticAcquisitionFunction, self).__init__(model)\n",
        "        self.maximize = maximize\n",
        "        self.register_buffer(\"beta\", torch.as_tensor(beta))\n",
        "        self.register_buffer(\"weights\", torch.as_tensor(weights))\n",
        "\n",
        "    @t_batch_mode_transform(expected_q=1)\n",
        "    def forward(self, X: Tensor) -> Tensor:\n",
        "        \"\"\"Evaluate the Upper Confidence Bound on the candidate set X using scalarization\n",
        "\n",
        "        Args:\n",
        "            X: A `(b) x d`-dim Tensor of `(b)` t-batches of `d`-dim design\n",
        "                points each.\n",
        "\n",
        "        Returns:\n",
        "            A `(b)`-dim Tensor of Upper Confidence Bound values at the given\n",
        "                design points `X`.\n",
        "        \"\"\"\n",
        "        self.beta = self.beta.to(X)\n",
        "        batch_shape = X.shape[:-2]\n",
        "        posterior = self.model.posterior(X)\n",
        "        means = posterior.mean.squeeze(dim=-2)  # b x o\n",
        "        scalarized_mean = means.matmul(self.weights)  # b\n",
        "        covs = posterior.mvn.covariance_matrix  # b x o x o\n",
        "        weights = self.weights.view(1, -1, 1)  # 1 x o x 1 (assume single batch dimension)\n",
        "        weights = weights.expand(batch_shape + weights.shape[1:])  # b x o x 1\n",
        "        weights_transpose = weights.permute(0, 2, 1)  # b x 1 x o\n",
        "        scalarized_variance = torch.bmm(\n",
        "            weights_transpose, torch.bmm(covs, weights)\n",
        "        ).view(batch_shape)  # b\n",
        "        delta = (self.beta.expand_as(scalarized_mean) * scalarized_variance).sqrt()\n",
        "        if self.maximize:\n",
        "            return scalarized_mean + delta\n",
        "        else:\n",
        "            return scalarized_mean - delta"
      ],
      "execution_count": 6,
      "outputs": []
    },
    {
      "cell_type": "markdown",
      "metadata": {
        "originalKey": "54811aec-bcad-4d24-8346-fa69c9e1d4c1"
      },
      "source": [
        "#### Ad-hoc testing Scalarized-UCB\n",
        "\n",
        "Notice that we pass in an explicit q-batch dimension for consistency, even though `q=1`."
      ]
    },
    {
      "cell_type": "code",
      "metadata": {
        "originalKey": "f7a98f13-7d87-4e87-afb8-a8ff087faeef",
        "collapsed": false,
        "requestMsgId": "f7a98f13-7d87-4e87-afb8-a8ff087faeef",
        "executionStartTime": 1646671918364,
        "executionStopTime": 1646671918383
      },
      "source": [
        "# construct the acquisition function\n",
        "SUCB = ScalarizedUpperConfidenceBound(gp, beta=0.1, weights=torch.tensor([0.1, 0.5]))"
      ],
      "execution_count": 7,
      "outputs": []
    },
    {
      "cell_type": "code",
      "metadata": {
        "originalKey": "78de901c-d537-4b20-8ab2-f1161d12cca3",
        "collapsed": false,
        "requestMsgId": "78de901c-d537-4b20-8ab2-f1161d12cca3",
        "executionStartTime": 1646671918404,
        "executionStopTime": 1646671918535
      },
      "source": [
        "# evaluate on single point\n",
        "SUCB(torch.rand(1, 2))"
      ],
      "execution_count": 8,
      "outputs": [
        {
          "output_type": "execute_result",
          "data": {
            "text/plain": "tensor([-1.2662], grad_fn=<AddBackward0>)"
          },
          "metadata": {
            "bento_obj_id": "140262413764544"
          },
          "execution_count": 8
        }
      ]
    },
    {
      "cell_type": "code",
      "metadata": {
        "originalKey": "3ffbd8b7-11e6-48d1-8d05-eddd3fc8221c",
        "collapsed": false,
        "requestMsgId": "3ffbd8b7-11e6-48d1-8d05-eddd3fc8221c",
        "executionStartTime": 1646671918567,
        "executionStopTime": 1646671918643
      },
      "source": [
        "# batch-evaluate on 3 points\n",
        "SUCB(torch.rand(3, 1, 2))"
      ],
      "execution_count": 9,
      "outputs": [
        {
          "output_type": "execute_result",
          "data": {
            "text/plain": "tensor([ 0.3431, -0.0833,  0.0702], grad_fn=<AddBackward0>)"
          },
          "metadata": {
            "bento_obj_id": "140262412703120"
          },
          "execution_count": 9
        }
      ]
    },
    {
      "cell_type": "markdown",
      "metadata": {
        "originalKey": "23509c96-6cab-4b3c-a8f6-ca87e607f642",
        "showInput": true,
        "customInput": null,
        "code_folding": [],
        "hidden_ranges": []
      },
      "source": [
        "## Using the custom acquisition function with Ax's Service API"
      ]
    },
    {
      "cell_type": "markdown",
      "metadata": {
        "originalKey": "636b7375-e46f-4bfb-bd38-724bcaae1b71",
        "showInput": true,
        "customInput": null,
        "code_folding": [],
        "hidden_ranges": []
      },
      "source": [
        "### Registering the new acquisition function\n",
        "\n",
        "In order to use an acquisition function, Ax needs to know how to generate inputs to construct the acquisition function."
      ]
    },
    {
      "cell_type": "code",
      "metadata": {
        "originalKey": "cd81abdf-050f-470c-be2a-432a52f911b5",
        "showInput": true,
        "customInput": null,
        "code_folding": [],
        "hidden_ranges": [],
        "collapsed": false,
        "requestMsgId": "cd81abdf-050f-470c-be2a-432a52f911b5",
        "executionStartTime": 1646671918683,
        "executionStopTime": 1646671918836
      },
      "source": [
        "from typing import List\n",
        "from typing import Any, Dict\n",
        "\n",
        "from botorch.acquisition.input_constructors import acqf_input_constructor\n",
        "\n",
        "\n",
        "@acqf_input_constructor(ScalarizedUpperConfidenceBound)\n",
        "def construct_inputs_scalarized_ucb(\n",
        "    model: Model,\n",
        "    beta: float,\n",
        "    weights: List[float],\n",
        "    **kwargs: Any,\n",
        ") -> Dict[str, Any]:\n",
        "    return {\n",
        "        \"model\": model,\n",
        "        \"beta\": torch.as_tensor(beta, dtype=torch.double),\n",
        "        \"weights\": torch.as_tensor(weights, dtype=torch.double),\n",
        "    }"
      ],
      "execution_count": 10,
      "outputs": []
    },
    {
      "cell_type": "markdown",
      "metadata": {
        "originalKey": "71d0ade7-1341-4dda-b59e-b4f362d9991d",
        "showInput": true,
        "customInput": null,
        "code_folding": [],
        "hidden_ranges": []
      },
      "source": [
        "### Setting up a `GenerationStrategy` using `BOTORCH_MODULAR` with our custom acquistion function.\n",
        "\n",
        "`BOTORCH_MODULAR` is a convenient wrapper implemented in Ax that facilitates the use of custom BoTorch models and acquisition functions in Ax experiments. In order to customize the way the candidates are generated, we need to construct a new `GenerationStrategy` and pass it into the `AxClient`."
      ]
    },
    {
      "cell_type": "code",
      "metadata": {
        "originalKey": "80c4b078-9787-46da-ac78-a574cc73a17d",
        "showInput": true,
        "customInput": null,
        "code_folding": [],
        "hidden_ranges": [],
        "collapsed": false,
        "requestMsgId": "80c4b078-9787-46da-ac78-a574cc73a17d",
        "executionStartTime": 1646671918882,
        "executionStopTime": 1646671919282
      },
      "source": [
        "from ax.modelbridge.generation_strategy import GenerationStep, GenerationStrategy\n",
        "from ax.modelbridge.registry import Models\n",
        "\n",
        "\n",
        "gs = GenerationStrategy(\n",
        "    steps=[\n",
        "        # Quasi-random initialization step\n",
        "        GenerationStep(\n",
        "            model=Models.SOBOL,\n",
        "            num_trials=5,  # How many trials should be produced from this generation step\n",
        "            model_kwargs={\"seed\": 999},  # Any kwargs you want passed into the model\n",
        "        ),\n",
        "        # Bayesian optimization step using the custom acquisition function\n",
        "        GenerationStep(\n",
        "            model=Models.BOTORCH_MODULAR,\n",
        "            num_trials=-1,  # No limitation on how many trials should be produced from this step\n",
        "            # For `BOTORCH_MODULAR`, we pass in kwargs to specify what surrogate or acquisition function to use.\n",
        "            # `acquisition_options` specifies the set of additional arguments to pass into the input constructor.\n",
        "            model_kwargs={\n",
        "                \"botorch_acqf_class\": ScalarizedUpperConfidenceBound,\n",
        "                \"acquisition_options\": {\"beta\": 0.1, \"weights\": [1.0, 1.0]},\n",
        "            },\n",
        "        ),\n",
        "    ]\n",
        ")"
      ],
      "execution_count": 11,
      "outputs": []
    },
    {
      "cell_type": "markdown",
      "metadata": {
        "originalKey": "b7e98402-9d53-4d33-bfbf-230833edc121",
        "showInput": true,
        "customInput": null,
        "code_folding": [],
        "hidden_ranges": []
      },
      "source": [
        "### Setting up the experiment\n",
        "\n",
        "We will set up a simple experiment to optimize a simple scalarization of the BraninCurrin function (per the weights above). A detailed tutorial on Service API can be found [here](https://ax.dev/tutorials/gpei_hartmann_service.html).\n",
        "\n",
        "In order to use the `GenerationStrategy` we just created, we will pass it into the `AxClient`."
      ]
    },
    {
      "cell_type": "code",
      "metadata": {
        "originalKey": "e1e4f622-4678-4ae1-98a5-02c770c51f87",
        "showInput": true,
        "customInput": null,
        "code_folding": [],
        "hidden_ranges": [],
        "collapsed": false,
        "requestMsgId": "e1e4f622-4678-4ae1-98a5-02c770c51f87",
        "executionStartTime": 1646671919309,
        "executionStopTime": 1646671919661
      },
      "source": [
        "from ax.service.ax_client import AxClient\n",
        "from ax.service.utils.instantiation import ObjectiveProperties\n",
        "from botorch.test_functions import BraninCurrin\n",
        "\n",
        "\n",
        "# Initialize the client - AxClient offers a convenient API to control the experiment\n",
        "ax_client = AxClient(generation_strategy=gs)\n",
        "# Setup the experiment\n",
        "ax_client.create_experiment(\n",
        "    name=\"branincurrin_test_experiment\",\n",
        "    parameters=[\n",
        "        {\n",
        "            \"name\": f\"x{i+1}\",\n",
        "            \"type\": \"range\",\n",
        "            # It is crucial to use floats for the bounds, i.e., 0.0 rather than 0.\n",
        "            # Otherwise, the parameter would \n",
        "            \"bounds\": [0.0, 1.0],\n",
        "        }\n",
        "        for i in range(2)\n",
        "    ],\n",
        "    objectives={\n",
        "        \"branin\": ObjectiveProperties(minimize=True),\n",
        "        \"currin\": ObjectiveProperties(minimize=True),\n",
        "    },\n",
        ")\n",
        "# Setup a function to evaluate the trials\n",
        "branincurrin = BraninCurrin()\n",
        "\n",
        "\n",
        "def evaluate(parameters):\n",
        "    x = torch.tensor([[parameters.get(f\"x{i+1}\") for i in range(2)]])\n",
        "    bc_eval = branincurrin(x).squeeze().tolist()\n",
        "    # In our case, standard error is 0, since we are computing a synthetic function.\n",
        "    return {\"branin\": (bc_eval[0], 0.0), \"currin\": (bc_eval[1], 0.0)}"
      ],
      "execution_count": 12,
      "outputs": [
        {
          "output_type": "stream",
          "name": "stderr",
          "text": [
            "[INFO 03-07 08:51:59] ax.service.ax_client: Starting optimization with verbose logging. To disable logging, set the `verbose_logging` argument to `False`. Note that float values in the logs are rounded to 6 decimal points.\n"
          ]
        },
        {
          "output_type": "stream",
          "name": "stderr",
          "text": [
            "[INFO 03-07 08:51:59] ax.service.utils.instantiation: Due to non-specification, we will use the heuristic for selecting objective thresholds.\n"
          ]
        },
        {
          "output_type": "stream",
          "name": "stderr",
          "text": [
            "[INFO 03-07 08:51:59] ax.service.utils.instantiation: Inferred value type of ParameterType.FLOAT for parameter x1. If that is not the expected value type, you can explicity specify 'value_type' ('int', 'float', 'bool' or 'str') in parameter dict.\n"
          ]
        },
        {
          "output_type": "stream",
          "name": "stderr",
          "text": [
            "[INFO 03-07 08:51:59] ax.service.utils.instantiation: Inferred value type of ParameterType.FLOAT for parameter x2. If that is not the expected value type, you can explicity specify 'value_type' ('int', 'float', 'bool' or 'str') in parameter dict.\n"
          ]
        },
        {
          "output_type": "stream",
          "name": "stderr",
          "text": [
            "[INFO 03-07 08:51:59] ax.service.utils.instantiation: Created search space: SearchSpace(parameters=[RangeParameter(name='x1', parameter_type=FLOAT, range=[0.0, 1.0]), RangeParameter(name='x2', parameter_type=FLOAT, range=[0.0, 1.0])], parameter_constraints=[]).\n"
          ]
        }
      ]
    },
    {
      "cell_type": "markdown",
      "metadata": {
        "originalKey": "ae279099-6f99-4d29-858b-d174d388e2d3",
        "showInput": true,
        "customInput": null,
        "code_folding": [],
        "hidden_ranges": []
      },
      "source": [
        "### Running the BO loop\n",
        "\n",
        "Ax makes this part super simple!"
      ]
    },
    {
      "cell_type": "code",
      "metadata": {
        "originalKey": "11c29a68-56a5-4d48-888b-04dd69cfb0af",
        "showInput": true,
        "customInput": null,
        "code_folding": [],
        "hidden_ranges": [],
        "collapsed": false,
        "requestMsgId": "11c29a68-56a5-4d48-888b-04dd69cfb0af",
        "executionStartTime": 1646671919688,
        "executionStopTime": 1646671923283
      },
      "source": [
        "with fast_smoke_test():\n",
        "    for i in range(15):\n",
        "        parameters, trial_index = ax_client.get_next_trial()\n",
        "        # Local evaluation here can be replaced with deployment to external system.\n",
        "        ax_client.complete_trial(trial_index=trial_index, raw_data=evaluate(parameters))"
      ],
      "execution_count": 13,
      "outputs": [
        {
          "output_type": "stream",
          "name": "stderr",
          "text": [
            "[INFO 03-07 08:51:59] ax.service.ax_client: Generated new trial 0 with parameters {'x1': 0.62873, 'x2': 0.51481}.\n"
          ]
        },
        {
          "output_type": "stream",
          "name": "stderr",
          "text": [
            "[INFO 03-07 08:51:59] ax.service.ax_client: Completed trial 0 with data: {'branin': (46.244598, 0.0), 'currin': (6.842319, 0.0)}.\n"
          ]
        },
        {
          "output_type": "stream",
          "name": "stderr",
          "text": [
            "[INFO 03-07 08:51:59] ax.service.ax_client: Generated new trial 1 with parameters {'x1': 0.434883, 'x2': 0.396266}.\n"
          ]
        },
        {
          "output_type": "stream",
          "name": "stderr",
          "text": [
            "[INFO 03-07 08:51:59] ax.service.ax_client: Completed trial 1 with data: {'branin': (14.735401, 0.0), 'currin': (8.740173, 0.0)}.\n"
          ]
        },
        {
          "output_type": "stream",
          "name": "stderr",
          "text": [
            "[INFO 03-07 08:51:59] ax.service.ax_client: Generated new trial 2 with parameters {'x1': 0.075645, 'x2': 0.934926}.\n"
          ]
        },
        {
          "output_type": "stream",
          "name": "stderr",
          "text": [
            "[INFO 03-07 08:51:59] ax.service.ax_client: Completed trial 2 with data: {'branin': (2.808084, 0.0), 'currin': (4.10731, 0.0)}.\n"
          ]
        },
        {
          "output_type": "stream",
          "name": "stderr",
          "text": [
            "[INFO 03-07 08:51:59] ax.service.ax_client: Generated new trial 3 with parameters {'x1': 0.863245, 'x2': 0.038764}.\n"
          ]
        },
        {
          "output_type": "stream",
          "name": "stderr",
          "text": [
            "[INFO 03-07 08:51:59] ax.service.ax_client: Completed trial 3 with data: {'branin': (9.956846, 0.0), 'currin': (10.342199, 0.0)}.\n"
          ]
        },
        {
          "output_type": "stream",
          "name": "stderr",
          "text": [
            "[INFO 03-07 08:51:59] ax.service.ax_client: Generated new trial 4 with parameters {'x1': 0.953918, 'x2': 0.808236}.\n"
          ]
        },
        {
          "output_type": "stream",
          "name": "stderr",
          "text": [
            "[INFO 03-07 08:51:59] ax.service.ax_client: Completed trial 4 with data: {'branin': (95.420815, 0.0), 'currin': (4.715139, 0.0)}.\n"
          ]
        },
        {
          "output_type": "stream",
          "name": "stderr",
          "text": [
            "[INFO 03-07 08:52:00] ax.service.ax_client: Generated new trial 5 with parameters {'x1': 1.0, 'x2': 0.343958}.\n"
          ]
        },
        {
          "output_type": "stream",
          "name": "stderr",
          "text": [
            "[INFO 03-07 08:52:00] ax.service.ax_client: Completed trial 5 with data: {'branin': (6.59323, 0.0), 'currin': (7.800424, 0.0)}.\n"
          ]
        },
        {
          "output_type": "stream",
          "name": "stderr",
          "text": [
            "[INFO 03-07 08:52:00] ax.service.ax_client: Generated new trial 6 with parameters {'x1': 0.545884, 'x2': 0.0}.\n"
          ]
        },
        {
          "output_type": "stream",
          "name": "stderr",
          "text": [
            "[INFO 03-07 08:52:00] ax.service.ax_client: Completed trial 6 with data: {'branin': (5.420973, 0.0), 'currin': (11.428981, 0.0)}.\n"
          ]
        },
        {
          "output_type": "stream",
          "name": "stderr",
          "text": [
            "[INFO 03-07 08:52:00] ax.service.ax_client: Generated new trial 7 with parameters {'x1': 0.123583, 'x2': 0.0}.\n"
          ]
        },
        {
          "output_type": "stream",
          "name": "stderr",
          "text": [
            "[INFO 03-07 08:52:00] ax.service.ax_client: Completed trial 7 with data: {'branin': (151.348694, 0.0), 'currin': (12.425919, 0.0)}.\n"
          ]
        },
        {
          "output_type": "stream",
          "name": "stderr",
          "text": [
            "[INFO 03-07 08:52:00] ax.service.ax_client: Generated new trial 8 with parameters {'x1': 0.04517, 'x2': 0.0}.\n"
          ]
        },
        {
          "output_type": "stream",
          "name": "stderr",
          "text": [
            "[INFO 03-07 08:52:00] ax.service.ax_client: Completed trial 8 with data: {'branin': (240.225876, 0.0), 'currin': (7.476875, 0.0)}.\n"
          ]
        },
        {
          "output_type": "stream",
          "name": "stderr",
          "text": [
            "[INFO 03-07 08:52:01] ax.service.ax_client: Generated new trial 9 with parameters {'x1': 0.120646, 'x2': 0.032783}.\n"
          ]
        },
        {
          "output_type": "stream",
          "name": "stderr",
          "text": [
            "[INFO 03-07 08:52:01] ax.service.ax_client: Completed trial 9 with data: {'branin': (142.034271, 0.0), 'currin': (12.31697, 0.0)}.\n"
          ]
        },
        {
          "output_type": "stream",
          "name": "stderr",
          "text": [
            "[INFO 03-07 08:52:01] ax.service.ax_client: Generated new trial 10 with parameters {'x1': 0.111548, 'x2': 0.0}.\n"
          ]
        },
        {
          "output_type": "stream",
          "name": "stderr",
          "text": [
            "[INFO 03-07 08:52:01] ax.service.ax_client: Completed trial 10 with data: {'branin': (162.47403, 0.0), 'currin': (11.944614, 0.0)}.\n"
          ]
        },
        {
          "output_type": "stream",
          "name": "stderr",
          "text": [
            "[INFO 03-07 08:52:02] ax.service.ax_client: Generated new trial 11 with parameters {'x1': 0.129161, 'x2': 0.0}.\n"
          ]
        },
        {
          "output_type": "stream",
          "name": "stderr",
          "text": [
            "[INFO 03-07 08:52:02] ax.service.ax_client: Completed trial 11 with data: {'branin': (146.498032, 0.0), 'currin': (12.618309, 0.0)}.\n"
          ]
        },
        {
          "output_type": "stream",
          "name": "stderr",
          "text": [
            "[INFO 03-07 08:52:02] ax.service.ax_client: Generated new trial 12 with parameters {'x1': 0.133428, 'x2': 0.0}.\n"
          ]
        },
        {
          "output_type": "stream",
          "name": "stderr",
          "text": [
            "[INFO 03-07 08:52:02] ax.service.ax_client: Completed trial 12 with data: {'branin': (142.915176, 0.0), 'currin': (12.753123, 0.0)}.\n"
          ]
        },
        {
          "output_type": "stream",
          "name": "stderr",
          "text": [
            "[INFO 03-07 08:52:02] ax.service.ax_client: Generated new trial 13 with parameters {'x1': 0.128619, 'x2': 0.0}.\n"
          ]
        },
        {
          "output_type": "stream",
          "name": "stderr",
          "text": [
            "[INFO 03-07 08:52:02] ax.service.ax_client: Completed trial 13 with data: {'branin': (146.960831, 0.0), 'currin': (12.600433, 0.0)}.\n"
          ]
        },
        {
          "output_type": "stream",
          "name": "stderr",
          "text": [
            "[INFO 03-07 08:52:03] ax.service.ax_client: Generated new trial 14 with parameters {'x1': 0.126961, 'x2': 0.0}.\n"
          ]
        },
        {
          "output_type": "stream",
          "name": "stderr",
          "text": [
            "[INFO 03-07 08:52:03] ax.service.ax_client: Completed trial 14 with data: {'branin': (148.388519, 0.0), 'currin': (12.54465, 0.0)}.\n"
          ]
        }
      ]
    },
    {
      "cell_type": "markdown",
      "metadata": {
        "originalKey": "0e35aa1a-766a-4c5e-924f-852db76c3139",
        "showInput": true,
        "customInput": null,
        "code_folding": [],
        "hidden_ranges": []
      },
      "source": [
        "### Viewing trials and plotting the Pareto frontier\n",
        "\n",
        "View the trials attached to the experiment."
      ]
    },
    {
      "cell_type": "code",
      "metadata": {
        "originalKey": "e3299fb3-d9f7-45e3-ba34-8b5b0c29dea1",
        "showInput": true,
        "customInput": null,
        "collapsed": false,
        "requestMsgId": "e3299fb3-d9f7-45e3-ba34-8b5b0c29dea1",
        "executionStopTime": 1646671923432,
        "executionStartTime": 1646671923319
      },
      "source": [
        "ax_client.generation_strategy.trials_as_df"
      ],
      "execution_count": 14,
      "outputs": [
        {
          "output_type": "stream",
          "name": "stderr",
          "text": [
            "[INFO 03-07 08:52:03] ax.modelbridge.generation_strategy: Note that parameter values in dataframe are rounded to 2 decimal points; the values in the dataframe are thus not the exact ones suggested by Ax in trials.\n"
          ]
        },
        {
          "output_type": "execute_result",
          "data": {
            "text/plain": "    Generation Step  ...              Arm Parameterizations\n0                 0  ...  {'0_0': {'x1': 0.63, 'x2': 0.51}}\n1                 0  ...   {'1_0': {'x1': 0.43, 'x2': 0.4}}\n2                 0  ...  {'2_0': {'x1': 0.08, 'x2': 0.93}}\n3                 0  ...  {'3_0': {'x1': 0.86, 'x2': 0.04}}\n4                 0  ...  {'4_0': {'x1': 0.95, 'x2': 0.81}}\n5                 1  ...   {'5_0': {'x1': 1.0, 'x2': 0.34}}\n6                 1  ...   {'6_0': {'x1': 0.55, 'x2': 0.0}}\n7                 1  ...   {'7_0': {'x1': 0.12, 'x2': 0.0}}\n8                 1  ...   {'8_0': {'x1': 0.05, 'x2': 0.0}}\n9                 1  ...  {'9_0': {'x1': 0.12, 'x2': 0.03}}\n10                1  ...  {'10_0': {'x1': 0.11, 'x2': 0.0}}\n11                1  ...  {'11_0': {'x1': 0.13, 'x2': 0.0}}\n12                1  ...  {'12_0': {'x1': 0.13, 'x2': 0.0}}\n13                1  ...  {'13_0': {'x1': 0.13, 'x2': 0.0}}\n14                1  ...  {'14_0': {'x1': 0.13, 'x2': 0.0}}\n\n[15 rows x 5 columns]",
            "text/html": "<div>\n<style scoped>\n    .dataframe tbody tr th:only-of-type {\n        vertical-align: middle;\n    }\n\n    .dataframe tbody tr th {\n        vertical-align: top;\n    }\n\n    .dataframe thead th {\n        text-align: right;\n    }\n</style>\n<table border=\"1\" class=\"dataframe\">\n  <thead>\n    <tr style=\"text-align: right;\">\n      <th></th>\n      <th>Generation Step</th>\n      <th>Generation Model</th>\n      <th>Trial Index</th>\n      <th>Trial Status</th>\n      <th>Arm Parameterizations</th>\n    </tr>\n  </thead>\n  <tbody>\n    <tr>\n      <th>0</th>\n      <td>0</td>\n      <td>Sobol</td>\n      <td>0</td>\n      <td>COMPLETED</td>\n      <td>{'0_0': {'x1': 0.63, 'x2': 0.51}}</td>\n    </tr>\n    <tr>\n      <th>1</th>\n      <td>0</td>\n      <td>Sobol</td>\n      <td>1</td>\n      <td>COMPLETED</td>\n      <td>{'1_0': {'x1': 0.43, 'x2': 0.4}}</td>\n    </tr>\n    <tr>\n      <th>2</th>\n      <td>0</td>\n      <td>Sobol</td>\n      <td>2</td>\n      <td>COMPLETED</td>\n      <td>{'2_0': {'x1': 0.08, 'x2': 0.93}}</td>\n    </tr>\n    <tr>\n      <th>3</th>\n      <td>0</td>\n      <td>Sobol</td>\n      <td>3</td>\n      <td>COMPLETED</td>\n      <td>{'3_0': {'x1': 0.86, 'x2': 0.04}}</td>\n    </tr>\n    <tr>\n      <th>4</th>\n      <td>0</td>\n      <td>Sobol</td>\n      <td>4</td>\n      <td>COMPLETED</td>\n      <td>{'4_0': {'x1': 0.95, 'x2': 0.81}}</td>\n    </tr>\n    <tr>\n      <th>5</th>\n      <td>1</td>\n      <td>BoTorch</td>\n      <td>5</td>\n      <td>COMPLETED</td>\n      <td>{'5_0': {'x1': 1.0, 'x2': 0.34}}</td>\n    </tr>\n    <tr>\n      <th>6</th>\n      <td>1</td>\n      <td>BoTorch</td>\n      <td>6</td>\n      <td>COMPLETED</td>\n      <td>{'6_0': {'x1': 0.55, 'x2': 0.0}}</td>\n    </tr>\n    <tr>\n      <th>7</th>\n      <td>1</td>\n      <td>BoTorch</td>\n      <td>7</td>\n      <td>COMPLETED</td>\n      <td>{'7_0': {'x1': 0.12, 'x2': 0.0}}</td>\n    </tr>\n    <tr>\n      <th>8</th>\n      <td>1</td>\n      <td>BoTorch</td>\n      <td>8</td>\n      <td>COMPLETED</td>\n      <td>{'8_0': {'x1': 0.05, 'x2': 0.0}}</td>\n    </tr>\n    <tr>\n      <th>9</th>\n      <td>1</td>\n      <td>BoTorch</td>\n      <td>9</td>\n      <td>COMPLETED</td>\n      <td>{'9_0': {'x1': 0.12, 'x2': 0.03}}</td>\n    </tr>\n    <tr>\n      <th>10</th>\n      <td>1</td>\n      <td>BoTorch</td>\n      <td>10</td>\n      <td>COMPLETED</td>\n      <td>{'10_0': {'x1': 0.11, 'x2': 0.0}}</td>\n    </tr>\n    <tr>\n      <th>11</th>\n      <td>1</td>\n      <td>BoTorch</td>\n      <td>11</td>\n      <td>COMPLETED</td>\n      <td>{'11_0': {'x1': 0.13, 'x2': 0.0}}</td>\n    </tr>\n    <tr>\n      <th>12</th>\n      <td>1</td>\n      <td>BoTorch</td>\n      <td>12</td>\n      <td>COMPLETED</td>\n      <td>{'12_0': {'x1': 0.13, 'x2': 0.0}}</td>\n    </tr>\n    <tr>\n      <th>13</th>\n      <td>1</td>\n      <td>BoTorch</td>\n      <td>13</td>\n      <td>COMPLETED</td>\n      <td>{'13_0': {'x1': 0.13, 'x2': 0.0}}</td>\n    </tr>\n    <tr>\n      <th>14</th>\n      <td>1</td>\n      <td>BoTorch</td>\n      <td>14</td>\n      <td>COMPLETED</td>\n      <td>{'14_0': {'x1': 0.13, 'x2': 0.0}}</td>\n    </tr>\n  </tbody>\n</table>\n</div>",
            "application/vnd.dataresource+json": {
              "schema": {
                "fields": [
                  {
                    "name": "index",
                    "type": "integer"
                  },
                  {
                    "name": "Generation Step",
                    "type": "integer"
                  },
                  {
                    "name": "Generation Model",
                    "type": "string"
                  },
                  {
                    "name": "Trial Index",
                    "type": "integer"
                  },
                  {
                    "name": "Trial Status",
                    "type": "string"
                  },
                  {
                    "name": "Arm Parameterizations",
                    "type": "string"
                  }
                ],
                "primaryKey": [
                  "index"
                ],
                "pandas_version": "0.20.0"
              },
              "data": [
                {
                  "index": 0,
                  "Generation Step": 0,
                  "Generation Model": "Sobol",
                  "Trial Index": 0,
                  "Trial Status": "COMPLETED",
                  "Arm Parameterizations": {
                    "0_0": {
                      "x1": 0.63,
                      "x2": 0.51
                    }
                  }
                },
                {
                  "index": 1,
                  "Generation Step": 0,
                  "Generation Model": "Sobol",
                  "Trial Index": 1,
                  "Trial Status": "COMPLETED",
                  "Arm Parameterizations": {
                    "1_0": {
                      "x1": 0.43,
                      "x2": 0.4
                    }
                  }
                },
                {
                  "index": 2,
                  "Generation Step": 0,
                  "Generation Model": "Sobol",
                  "Trial Index": 2,
                  "Trial Status": "COMPLETED",
                  "Arm Parameterizations": {
                    "2_0": {
                      "x1": 0.08,
                      "x2": 0.93
                    }
                  }
                },
                {
                  "index": 3,
                  "Generation Step": 0,
                  "Generation Model": "Sobol",
                  "Trial Index": 3,
                  "Trial Status": "COMPLETED",
                  "Arm Parameterizations": {
                    "3_0": {
                      "x1": 0.86,
                      "x2": 0.04
                    }
                  }
                },
                {
                  "index": 4,
                  "Generation Step": 0,
                  "Generation Model": "Sobol",
                  "Trial Index": 4,
                  "Trial Status": "COMPLETED",
                  "Arm Parameterizations": {
                    "4_0": {
                      "x1": 0.95,
                      "x2": 0.81
                    }
                  }
                },
                {
                  "index": 5,
                  "Generation Step": 1,
                  "Generation Model": "BoTorch",
                  "Trial Index": 5,
                  "Trial Status": "COMPLETED",
                  "Arm Parameterizations": {
                    "5_0": {
                      "x1": 1,
                      "x2": 0.34
                    }
                  }
                },
                {
                  "index": 6,
                  "Generation Step": 1,
                  "Generation Model": "BoTorch",
                  "Trial Index": 6,
                  "Trial Status": "COMPLETED",
                  "Arm Parameterizations": {
                    "6_0": {
                      "x1": 0.55,
                      "x2": 0
                    }
                  }
                },
                {
                  "index": 7,
                  "Generation Step": 1,
                  "Generation Model": "BoTorch",
                  "Trial Index": 7,
                  "Trial Status": "COMPLETED",
                  "Arm Parameterizations": {
                    "7_0": {
                      "x1": 0.12,
                      "x2": 0
                    }
                  }
                },
                {
                  "index": 8,
                  "Generation Step": 1,
                  "Generation Model": "BoTorch",
                  "Trial Index": 8,
                  "Trial Status": "COMPLETED",
                  "Arm Parameterizations": {
                    "8_0": {
                      "x1": 0.05,
                      "x2": 0
                    }
                  }
                },
                {
                  "index": 9,
                  "Generation Step": 1,
                  "Generation Model": "BoTorch",
                  "Trial Index": 9,
                  "Trial Status": "COMPLETED",
                  "Arm Parameterizations": {
                    "9_0": {
                      "x1": 0.12,
                      "x2": 0.03
                    }
                  }
                },
                {
                  "index": 10,
                  "Generation Step": 1,
                  "Generation Model": "BoTorch",
                  "Trial Index": 10,
                  "Trial Status": "COMPLETED",
                  "Arm Parameterizations": {
                    "10_0": {
                      "x1": 0.11,
                      "x2": 0
                    }
                  }
                },
                {
                  "index": 11,
                  "Generation Step": 1,
                  "Generation Model": "BoTorch",
                  "Trial Index": 11,
                  "Trial Status": "COMPLETED",
                  "Arm Parameterizations": {
                    "11_0": {
                      "x1": 0.13,
                      "x2": 0
                    }
                  }
                },
                {
                  "index": 12,
                  "Generation Step": 1,
                  "Generation Model": "BoTorch",
                  "Trial Index": 12,
                  "Trial Status": "COMPLETED",
                  "Arm Parameterizations": {
                    "12_0": {
                      "x1": 0.13,
                      "x2": 0
                    }
                  }
                },
                {
                  "index": 13,
                  "Generation Step": 1,
                  "Generation Model": "BoTorch",
                  "Trial Index": 13,
                  "Trial Status": "COMPLETED",
                  "Arm Parameterizations": {
                    "13_0": {
                      "x1": 0.13,
                      "x2": 0
                    }
                  }
                },
                {
                  "index": 14,
                  "Generation Step": 1,
                  "Generation Model": "BoTorch",
                  "Trial Index": 14,
                  "Trial Status": "COMPLETED",
                  "Arm Parameterizations": {
                    "14_0": {
                      "x1": 0.13,
                      "x2": 0
                    }
                  }
                }
              ]
            }
          },
          "metadata": {
            "bento_obj_id": "140262297979728"
          },
          "execution_count": 14
        }
      ]
    },
    {
      "cell_type": "markdown",
      "metadata": {
        "originalKey": "ca47b562-3c01-4557-9c76-a7143a978dae",
        "showInput": true,
        "customInput": null,
        "code_folding": [],
        "hidden_ranges": []
      },
      "source": [
        "Plot the Pareto frontier.\n",
        "\n",
        "Note that we do not expect a good coverage of the Pareto frontier since our acquisition function naively optimizes the sum of the two objectives."
      ]
    },
    {
      "cell_type": "code",
      "metadata": {
        "originalKey": "5bbd1ba3-1f88-45d3-b4a9-c660a4ff9449",
        "showInput": true,
        "customInput": null,
        "code_folding": [],
        "hidden_ranges": [],
        "collapsed": false,
        "requestMsgId": "5bbd1ba3-1f88-45d3-b4a9-c660a4ff9449",
        "executionStopTime": 1646671937133,
        "executionStartTime": 1646671923463
      },
      "source": [
        "from ax.plot.pareto_frontier import plot_pareto_frontier\n",
        "from ax.utils.notebook.plotting import render\n",
        "from ax.plot.pareto_utils import compute_posterior_pareto_frontier\n",
        "objectives = ax_client.experiment.optimization_config.objective.objectives\n",
        "with fast_smoke_test():\n",
        "    frontier = compute_posterior_pareto_frontier(\n",
        "        experiment=ax_client.experiment,\n",
        "        data=ax_client.experiment.fetch_data(),\n",
        "        primary_objective=objectives[1].metric,\n",
        "        secondary_objective=objectives[0].metric,\n",
        "        absolute_metrics=[\"branin\", \"currin\"],\n",
        "        num_points=20,\n",
        "    )\n",
        "render(plot_pareto_frontier(frontier, CI_level=0.90)) "
      ],
      "execution_count": 15,
      "outputs": [
        {
          "output_type": "display_data",
          "data": {
            "application/vnd.plotly.v1+json": {
              "config": {
                "linkText": "Export to plot.ly",
                "plotlyServerURL": "https://plot.ly",
                "showLink": false
              },
              "data": [
                {
                  "error_x": {
                    "array": [
                      2.1041476996943254,
                      6.786010259991971,
                      1.9656113401688824,
                      4.423732739414581,
                      0.053469934857209245,
                      2.78694105198828,
                      0.6898236525271969,
                      0.9382302172266984,
                      2.7732821025012337,
                      0.8286482293982549,
                      0.034751076827254826,
                      2.3476668361744735,
                      1.4979352627173559,
                      0.06967102340856428,
                      0.8953939354024776,
                      4.59889063486126,
                      3.3354967958939197,
                      3.6932123296624937,
                      4.221451769816604,
                      0.031238075792602585
                    ],
                    "color": "rgba(128,177,211,0.4)",
                    "thickness": 2,
                    "type": "data"
                  },
                  "error_y": {
                    "array": [
                      0.17873377264041637,
                      0.5515306718683937,
                      0.17253745258952607,
                      0.3751576343449705,
                      0.002915780693328641,
                      0.2410228815566845,
                      0.0644407066074909,
                      0.08878179657195737,
                      0.23989919395858042,
                      0.06689120025862685,
                      0.0014881697544525598,
                      0.1998204250555273,
                      0.13264795654518274,
                      0.0030433240864689635,
                      0.08444141407318506,
                      0.38959075548529154,
                      0.2842421343096247,
                      0.31436630497056933,
                      0.3584212826999636,
                      0.0013820652020805975
                    ],
                    "color": "rgba(128,177,211,0.4)",
                    "thickness": 2,
                    "type": "data"
                  },
                  "hoverinfo": "text",
                  "legendgroup": "mean",
                  "marker": {
                    "color": "rgba(128,177,211,1)"
                  },
                  "mode": "markers",
                  "name": "mean",
                  "text": [
                    "<b>Parameterization 0</b><br>currin: 13.465 [13.287, 13.644]<br>branin: 117.584 [115.480, 119.688]<br><br><em>Parameterization:</em><br>x1: 0.16767920184322185<br>x2: 0.0",
                    "<b>Parameterization 1</b><br>currin: 4.58 [4.028, 5.131]<br>branin: 291.107 [284.321, 297.893]<br><br><em>Parameterization:</em><br>x1: 0.0<br>x2: 0.0",
                    "<b>Parameterization 2</b><br>currin: 6.184 [6.012, 6.357]<br>branin: 261.934 [259.969, 263.900]<br><br><em>Parameterization:</em><br>x1: 0.027194891362803644<br>x2: 2.5185166380839053e-16",
                    "<b>Parameterization 3</b><br>currin: 13.6 [13.225, 13.975]<br>branin: 106.514 [102.091, 110.938]<br><br><em>Parameterization:</em><br>x1: 0.18536860966736218<br>x2: 3.3443785963432355e-18",
                    "<b>Parameterization 4</b><br>currin: 12.077 [12.074, 12.080]<br>branin: 159.55 [159.496, 159.603]<br><br><em>Parameterization:</em><br>x1: 0.11460868316283454<br>x2: 5.3303323434787666e-17",
                    "<b>Parameterization 5</b><br>currin: 5.816 [5.575, 6.057]<br>branin: 268.351 [265.564, 271.138]<br><br><em>Parameterization:</em><br>x1: 0.02160336746884051<br>x2: 0.0",
                    "<b>Parameterization 6</b><br>currin: 8.372 [8.307, 8.436]<br>branin: 225.605 [224.915, 226.295]<br><br><em>Parameterization:</em><br>x1: 0.05683632434773296<br>x2: 4.918922233951485e-16",
                    "<b>Parameterization 7</b><br>currin: 9.325 [9.236, 9.414]<br>branin: 210.035 [209.097, 210.973]<br><br><em>Parameterization:</em><br>x1: 0.06925532709748217<br>x2: 1.5503707099545582e-16",
                    "<b>Parameterization 8</b><br>currin: 5.821 [5.581, 6.061]<br>branin: 268.252 [265.478, 271.025]<br><br><em>Parameterization:</em><br>x1: 0.021691376056676585<br>x2: 3.2051296233652496e-17",
                    "<b>Parameterization 9</b><br>currin: 13.243 [13.177, 13.310]<br>branin: 127.566 [126.737, 128.395]<br><br><em>Parameterization:</em><br>x1: 0.15325527390673868<br>x2: 1.773379865989145e-17",
                    "<b>Parameterization 10</b><br>currin: 12.673 [12.671, 12.674]<br>branin: 145.076 [145.041, 145.111]<br><br><em>Parameterization:</em><br>x1: 0.13084181053123273<br>x2: 2.962376806316503e-16",
                    "<b>Parameterization 11</b><br>currin: 13.49 [13.290, 13.690]<br>branin: 116.153 [113.805, 118.500]<br><br><em>Parameterization:</em><br>x1: 0.16985994621981024<br>x2: 2.9632435661937766e-18",
                    "<b>Parameterization 12</b><br>currin: 6.425 [6.293, 6.558]<br>branin: 257.798 [256.300, 259.296]<br><br><em>Parameterization:</em><br>x1: 0.030717753467459964<br>x2: 0.0",
                    "<b>Parameterization 13</b><br>currin: 11.898 [11.895, 11.901]<br>branin: 163.491 [163.421, 163.561]<br><br><em>Parameterization:</em><br>x1: 0.11051194919717217<br>x2: 1.072738325674222e-17",
                    "<b>Parameterization 14</b><br>currin: 8.957 [8.872, 9.041]<br>branin: 216.076 [215.180, 216.971]<br><br><em>Parameterization:</em><br>x1: 0.06441505706513105<br>x2: 1.5792301613815218e-16",
                    "<b>Parameterization 15</b><br>currin: 13.604 [13.214, 13.994]<br>branin: 105.838 [101.239, 110.437]<br><br><em>Parameterization:</em><br>x1: 0.18651341392393878<br>x2: 9.650520914440527e-19",
                    "<b>Parameterization 16</b><br>currin: 13.559 [13.275, 13.844]<br>branin: 111.117 [107.782, 114.453]<br><br><em>Parameterization:</em><br>x1: 0.17777816466095842<br>x2: 3.439734827962657e-18",
                    "<b>Parameterization 17</b><br>currin: 13.576 [13.262, 13.890]<br>branin: 109.518 [105.824, 113.211]<br><br><em>Parameterization:</em><br>x1: 0.18037637368600104<br>x2: 1.496325793153615e-17",
                    "<b>Parameterization 18</b><br>currin: 13.595 [13.236, 13.953]<br>branin: 107.315 [103.093, 111.536]<br><br><em>Parameterization:</em><br>x1: 0.18402322384256978<br>x2: 4.938866169707718e-18",
                    "<b>Parameterization 19</b><br>currin: 12.641 [12.640, 12.642]<br>branin: 145.905 [145.874, 145.936]<br><br><em>Parameterization:</em><br>x1: 0.12986019184125364<br>x2: 4.2280177997753536e-19"
                  ],
                  "type": "scatter",
                  "x": [
                    117.58389028667554,
                    291.1067937435533,
                    261.9341390131741,
                    106.51430497393156,
                    159.54982074893252,
                    268.35108348668814,
                    225.60472789080484,
                    210.03477458396634,
                    268.2515823601982,
                    127.5659257867915,
                    145.07590658746625,
                    116.15282771282256,
                    257.79795250639734,
                    163.49083168058758,
                    216.07584733390487,
                    105.83823160563985,
                    111.11717547592815,
                    109.51765586973892,
                    107.31479871719597,
                    145.90475360323035
                  ],
                  "y": [
                    13.46541893538193,
                    4.579630552641066,
                    6.184094471672527,
                    13.59992686397306,
                    12.07689179916785,
                    5.815591848370005,
                    8.371898089153662,
                    9.325132431371747,
                    5.821247624136068,
                    13.243409084309496,
                    12.672589873157278,
                    13.489805244845972,
                    6.425393170140941,
                    11.897802484570782,
                    8.956711548412214,
                    13.603935231589551,
                    13.559435420005158,
                    13.576081782633128,
                    13.59453002560557,
                    12.64105232536555
                  ]
                }
              ],
              "layout": {
                "height": 500,
                "hovermode": "closest",
                "legend": {
                  "orientation": "h"
                },
                "margin": {
                  "b": 75,
                  "l": 225,
                  "pad": 4,
                  "t": 75
                },
                "template": {
                  "data": {
                    "bar": [
                      {
                        "error_x": {
                          "color": "#2a3f5f"
                        },
                        "error_y": {
                          "color": "#2a3f5f"
                        },
                        "marker": {
                          "line": {
                            "color": "#E5ECF6",
                            "width": 0.5
                          }
                        },
                        "type": "bar"
                      }
                    ],
                    "barpolar": [
                      {
                        "marker": {
                          "line": {
                            "color": "#E5ECF6",
                            "width": 0.5
                          }
                        },
                        "type": "barpolar"
                      }
                    ],
                    "carpet": [
                      {
                        "aaxis": {
                          "endlinecolor": "#2a3f5f",
                          "gridcolor": "white",
                          "linecolor": "white",
                          "minorgridcolor": "white",
                          "startlinecolor": "#2a3f5f"
                        },
                        "baxis": {
                          "endlinecolor": "#2a3f5f",
                          "gridcolor": "white",
                          "linecolor": "white",
                          "minorgridcolor": "white",
                          "startlinecolor": "#2a3f5f"
                        },
                        "type": "carpet"
                      }
                    ],
                    "choropleth": [
                      {
                        "colorbar": {
                          "outlinewidth": 0,
                          "ticks": ""
                        },
                        "type": "choropleth"
                      }
                    ],
                    "contour": [
                      {
                        "colorbar": {
                          "outlinewidth": 0,
                          "ticks": ""
                        },
                        "colorscale": [
                          [
                            0,
                            "#0d0887"
                          ],
                          [
                            0.1111111111111111,
                            "#46039f"
                          ],
                          [
                            0.2222222222222222,
                            "#7201a8"
                          ],
                          [
                            0.3333333333333333,
                            "#9c179e"
                          ],
                          [
                            0.4444444444444444,
                            "#bd3786"
                          ],
                          [
                            0.5555555555555556,
                            "#d8576b"
                          ],
                          [
                            0.6666666666666666,
                            "#ed7953"
                          ],
                          [
                            0.7777777777777778,
                            "#fb9f3a"
                          ],
                          [
                            0.8888888888888888,
                            "#fdca26"
                          ],
                          [
                            1,
                            "#f0f921"
                          ]
                        ],
                        "type": "contour"
                      }
                    ],
                    "contourcarpet": [
                      {
                        "colorbar": {
                          "outlinewidth": 0,
                          "ticks": ""
                        },
                        "type": "contourcarpet"
                      }
                    ],
                    "heatmap": [
                      {
                        "colorbar": {
                          "outlinewidth": 0,
                          "ticks": ""
                        },
                        "colorscale": [
                          [
                            0,
                            "#0d0887"
                          ],
                          [
                            0.1111111111111111,
                            "#46039f"
                          ],
                          [
                            0.2222222222222222,
                            "#7201a8"
                          ],
                          [
                            0.3333333333333333,
                            "#9c179e"
                          ],
                          [
                            0.4444444444444444,
                            "#bd3786"
                          ],
                          [
                            0.5555555555555556,
                            "#d8576b"
                          ],
                          [
                            0.6666666666666666,
                            "#ed7953"
                          ],
                          [
                            0.7777777777777778,
                            "#fb9f3a"
                          ],
                          [
                            0.8888888888888888,
                            "#fdca26"
                          ],
                          [
                            1,
                            "#f0f921"
                          ]
                        ],
                        "type": "heatmap"
                      }
                    ],
                    "heatmapgl": [
                      {
                        "colorbar": {
                          "outlinewidth": 0,
                          "ticks": ""
                        },
                        "colorscale": [
                          [
                            0,
                            "#0d0887"
                          ],
                          [
                            0.1111111111111111,
                            "#46039f"
                          ],
                          [
                            0.2222222222222222,
                            "#7201a8"
                          ],
                          [
                            0.3333333333333333,
                            "#9c179e"
                          ],
                          [
                            0.4444444444444444,
                            "#bd3786"
                          ],
                          [
                            0.5555555555555556,
                            "#d8576b"
                          ],
                          [
                            0.6666666666666666,
                            "#ed7953"
                          ],
                          [
                            0.7777777777777778,
                            "#fb9f3a"
                          ],
                          [
                            0.8888888888888888,
                            "#fdca26"
                          ],
                          [
                            1,
                            "#f0f921"
                          ]
                        ],
                        "type": "heatmapgl"
                      }
                    ],
                    "histogram": [
                      {
                        "marker": {
                          "colorbar": {
                            "outlinewidth": 0,
                            "ticks": ""
                          }
                        },
                        "type": "histogram"
                      }
                    ],
                    "histogram2d": [
                      {
                        "colorbar": {
                          "outlinewidth": 0,
                          "ticks": ""
                        },
                        "colorscale": [
                          [
                            0,
                            "#0d0887"
                          ],
                          [
                            0.1111111111111111,
                            "#46039f"
                          ],
                          [
                            0.2222222222222222,
                            "#7201a8"
                          ],
                          [
                            0.3333333333333333,
                            "#9c179e"
                          ],
                          [
                            0.4444444444444444,
                            "#bd3786"
                          ],
                          [
                            0.5555555555555556,
                            "#d8576b"
                          ],
                          [
                            0.6666666666666666,
                            "#ed7953"
                          ],
                          [
                            0.7777777777777778,
                            "#fb9f3a"
                          ],
                          [
                            0.8888888888888888,
                            "#fdca26"
                          ],
                          [
                            1,
                            "#f0f921"
                          ]
                        ],
                        "type": "histogram2d"
                      }
                    ],
                    "histogram2dcontour": [
                      {
                        "colorbar": {
                          "outlinewidth": 0,
                          "ticks": ""
                        },
                        "colorscale": [
                          [
                            0,
                            "#0d0887"
                          ],
                          [
                            0.1111111111111111,
                            "#46039f"
                          ],
                          [
                            0.2222222222222222,
                            "#7201a8"
                          ],
                          [
                            0.3333333333333333,
                            "#9c179e"
                          ],
                          [
                            0.4444444444444444,
                            "#bd3786"
                          ],
                          [
                            0.5555555555555556,
                            "#d8576b"
                          ],
                          [
                            0.6666666666666666,
                            "#ed7953"
                          ],
                          [
                            0.7777777777777778,
                            "#fb9f3a"
                          ],
                          [
                            0.8888888888888888,
                            "#fdca26"
                          ],
                          [
                            1,
                            "#f0f921"
                          ]
                        ],
                        "type": "histogram2dcontour"
                      }
                    ],
                    "mesh3d": [
                      {
                        "colorbar": {
                          "outlinewidth": 0,
                          "ticks": ""
                        },
                        "type": "mesh3d"
                      }
                    ],
                    "parcoords": [
                      {
                        "line": {
                          "colorbar": {
                            "outlinewidth": 0,
                            "ticks": ""
                          }
                        },
                        "type": "parcoords"
                      }
                    ],
                    "pie": [
                      {
                        "automargin": true,
                        "type": "pie"
                      }
                    ],
                    "scatter": [
                      {
                        "marker": {
                          "colorbar": {
                            "outlinewidth": 0,
                            "ticks": ""
                          }
                        },
                        "type": "scatter"
                      }
                    ],
                    "scatter3d": [
                      {
                        "line": {
                          "colorbar": {
                            "outlinewidth": 0,
                            "ticks": ""
                          }
                        },
                        "marker": {
                          "colorbar": {
                            "outlinewidth": 0,
                            "ticks": ""
                          }
                        },
                        "type": "scatter3d"
                      }
                    ],
                    "scattercarpet": [
                      {
                        "marker": {
                          "colorbar": {
                            "outlinewidth": 0,
                            "ticks": ""
                          }
                        },
                        "type": "scattercarpet"
                      }
                    ],
                    "scattergeo": [
                      {
                        "marker": {
                          "colorbar": {
                            "outlinewidth": 0,
                            "ticks": ""
                          }
                        },
                        "type": "scattergeo"
                      }
                    ],
                    "scattergl": [
                      {
                        "marker": {
                          "colorbar": {
                            "outlinewidth": 0,
                            "ticks": ""
                          }
                        },
                        "type": "scattergl"
                      }
                    ],
                    "scattermapbox": [
                      {
                        "marker": {
                          "colorbar": {
                            "outlinewidth": 0,
                            "ticks": ""
                          }
                        },
                        "type": "scattermapbox"
                      }
                    ],
                    "scatterpolar": [
                      {
                        "marker": {
                          "colorbar": {
                            "outlinewidth": 0,
                            "ticks": ""
                          }
                        },
                        "type": "scatterpolar"
                      }
                    ],
                    "scatterpolargl": [
                      {
                        "marker": {
                          "colorbar": {
                            "outlinewidth": 0,
                            "ticks": ""
                          }
                        },
                        "type": "scatterpolargl"
                      }
                    ],
                    "scatterternary": [
                      {
                        "marker": {
                          "colorbar": {
                            "outlinewidth": 0,
                            "ticks": ""
                          }
                        },
                        "type": "scatterternary"
                      }
                    ],
                    "surface": [
                      {
                        "colorbar": {
                          "outlinewidth": 0,
                          "ticks": ""
                        },
                        "colorscale": [
                          [
                            0,
                            "#0d0887"
                          ],
                          [
                            0.1111111111111111,
                            "#46039f"
                          ],
                          [
                            0.2222222222222222,
                            "#7201a8"
                          ],
                          [
                            0.3333333333333333,
                            "#9c179e"
                          ],
                          [
                            0.4444444444444444,
                            "#bd3786"
                          ],
                          [
                            0.5555555555555556,
                            "#d8576b"
                          ],
                          [
                            0.6666666666666666,
                            "#ed7953"
                          ],
                          [
                            0.7777777777777778,
                            "#fb9f3a"
                          ],
                          [
                            0.8888888888888888,
                            "#fdca26"
                          ],
                          [
                            1,
                            "#f0f921"
                          ]
                        ],
                        "type": "surface"
                      }
                    ],
                    "table": [
                      {
                        "cells": {
                          "fill": {
                            "color": "#EBF0F8"
                          },
                          "line": {
                            "color": "white"
                          }
                        },
                        "header": {
                          "fill": {
                            "color": "#C8D4E3"
                          },
                          "line": {
                            "color": "white"
                          }
                        },
                        "type": "table"
                      }
                    ]
                  },
                  "layout": {
                    "annotationdefaults": {
                      "arrowcolor": "#2a3f5f",
                      "arrowhead": 0,
                      "arrowwidth": 1
                    },
                    "autotypenumbers": "strict",
                    "coloraxis": {
                      "colorbar": {
                        "outlinewidth": 0,
                        "ticks": ""
                      }
                    },
                    "colorscale": {
                      "diverging": [
                        [
                          0,
                          "#8e0152"
                        ],
                        [
                          0.1,
                          "#c51b7d"
                        ],
                        [
                          0.2,
                          "#de77ae"
                        ],
                        [
                          0.3,
                          "#f1b6da"
                        ],
                        [
                          0.4,
                          "#fde0ef"
                        ],
                        [
                          0.5,
                          "#f7f7f7"
                        ],
                        [
                          0.6,
                          "#e6f5d0"
                        ],
                        [
                          0.7,
                          "#b8e186"
                        ],
                        [
                          0.8,
                          "#7fbc41"
                        ],
                        [
                          0.9,
                          "#4d9221"
                        ],
                        [
                          1,
                          "#276419"
                        ]
                      ],
                      "sequential": [
                        [
                          0,
                          "#0d0887"
                        ],
                        [
                          0.1111111111111111,
                          "#46039f"
                        ],
                        [
                          0.2222222222222222,
                          "#7201a8"
                        ],
                        [
                          0.3333333333333333,
                          "#9c179e"
                        ],
                        [
                          0.4444444444444444,
                          "#bd3786"
                        ],
                        [
                          0.5555555555555556,
                          "#d8576b"
                        ],
                        [
                          0.6666666666666666,
                          "#ed7953"
                        ],
                        [
                          0.7777777777777778,
                          "#fb9f3a"
                        ],
                        [
                          0.8888888888888888,
                          "#fdca26"
                        ],
                        [
                          1,
                          "#f0f921"
                        ]
                      ],
                      "sequentialminus": [
                        [
                          0,
                          "#0d0887"
                        ],
                        [
                          0.1111111111111111,
                          "#46039f"
                        ],
                        [
                          0.2222222222222222,
                          "#7201a8"
                        ],
                        [
                          0.3333333333333333,
                          "#9c179e"
                        ],
                        [
                          0.4444444444444444,
                          "#bd3786"
                        ],
                        [
                          0.5555555555555556,
                          "#d8576b"
                        ],
                        [
                          0.6666666666666666,
                          "#ed7953"
                        ],
                        [
                          0.7777777777777778,
                          "#fb9f3a"
                        ],
                        [
                          0.8888888888888888,
                          "#fdca26"
                        ],
                        [
                          1,
                          "#f0f921"
                        ]
                      ]
                    },
                    "colorway": [
                      "#636efa",
                      "#EF553B",
                      "#00cc96",
                      "#ab63fa",
                      "#FFA15A",
                      "#19d3f3",
                      "#FF6692",
                      "#B6E880",
                      "#FF97FF",
                      "#FECB52"
                    ],
                    "font": {
                      "color": "#2a3f5f"
                    },
                    "geo": {
                      "bgcolor": "white",
                      "lakecolor": "white",
                      "landcolor": "#E5ECF6",
                      "showlakes": true,
                      "showland": true,
                      "subunitcolor": "white"
                    },
                    "hoverlabel": {
                      "align": "left"
                    },
                    "hovermode": "closest",
                    "mapbox": {
                      "style": "light"
                    },
                    "paper_bgcolor": "white",
                    "plot_bgcolor": "#E5ECF6",
                    "polar": {
                      "angularaxis": {
                        "gridcolor": "white",
                        "linecolor": "white",
                        "ticks": ""
                      },
                      "bgcolor": "#E5ECF6",
                      "radialaxis": {
                        "gridcolor": "white",
                        "linecolor": "white",
                        "ticks": ""
                      }
                    },
                    "scene": {
                      "xaxis": {
                        "backgroundcolor": "#E5ECF6",
                        "gridcolor": "white",
                        "gridwidth": 2,
                        "linecolor": "white",
                        "showbackground": true,
                        "ticks": "",
                        "zerolinecolor": "white"
                      },
                      "yaxis": {
                        "backgroundcolor": "#E5ECF6",
                        "gridcolor": "white",
                        "gridwidth": 2,
                        "linecolor": "white",
                        "showbackground": true,
                        "ticks": "",
                        "zerolinecolor": "white"
                      },
                      "zaxis": {
                        "backgroundcolor": "#E5ECF6",
                        "gridcolor": "white",
                        "gridwidth": 2,
                        "linecolor": "white",
                        "showbackground": true,
                        "ticks": "",
                        "zerolinecolor": "white"
                      }
                    },
                    "shapedefaults": {
                      "line": {
                        "color": "#2a3f5f"
                      }
                    },
                    "ternary": {
                      "aaxis": {
                        "gridcolor": "white",
                        "linecolor": "white",
                        "ticks": ""
                      },
                      "baxis": {
                        "gridcolor": "white",
                        "linecolor": "white",
                        "ticks": ""
                      },
                      "bgcolor": "#E5ECF6",
                      "caxis": {
                        "gridcolor": "white",
                        "linecolor": "white",
                        "ticks": ""
                      }
                    },
                    "title": {
                      "x": 0.05
                    },
                    "xaxis": {
                      "automargin": true,
                      "gridcolor": "white",
                      "linecolor": "white",
                      "ticks": "",
                      "title": {
                        "standoff": 15
                      },
                      "zerolinecolor": "white",
                      "zerolinewidth": 2
                    },
                    "yaxis": {
                      "automargin": true,
                      "gridcolor": "white",
                      "linecolor": "white",
                      "ticks": "",
                      "title": {
                        "standoff": 15
                      },
                      "zerolinecolor": "white",
                      "zerolinewidth": 2
                    }
                  }
                },
                "title": {
                  "text": "Pareto Frontier"
                },
                "width": 750,
                "xaxis": {
                  "ticksuffix": "",
                  "title": {
                    "text": "branin"
                  },
                  "zeroline": true,
                  "type": "linear",
                  "range": [
                    90.31414858006933,
                    308.8179963942545
                  ],
                  "autorange": true
                },
                "yaxis": {
                  "ticksuffix": "",
                  "title": {
                    "text": "currin"
                  },
                  "zeroline": true,
                  "type": "linear",
                  "range": [
                    3.474465097089219,
                    14.547160770758298
                  ],
                  "autorange": true
                }
              }
            },
            "text/html": "<div>                            <div id=\"e7710b14-3b74-4cc5-86d6-8afa7dd15961\" class=\"plotly-graph-div\" style=\"height:500px; width:750px;\"></div>            <script type=\"text/javascript\">                require([\"plotly\"], function(Plotly) {                    window.PLOTLYENV=window.PLOTLYENV || {};                                    if (document.getElementById(\"e7710b14-3b74-4cc5-86d6-8afa7dd15961\")) {                    Plotly.newPlot(                        \"e7710b14-3b74-4cc5-86d6-8afa7dd15961\",                        [{\"error_x\": {\"array\": [2.1041476996943254, 6.786010259991971, 1.9656113401688824, 4.423732739414581, 0.053469934857209245, 2.78694105198828, 0.6898236525271969, 0.9382302172266984, 2.7732821025012337, 0.8286482293982549, 0.034751076827254826, 2.3476668361744735, 1.4979352627173559, 0.06967102340856428, 0.8953939354024776, 4.59889063486126, 3.3354967958939197, 3.6932123296624937, 4.221451769816604, 0.031238075792602585], \"color\": \"rgba(128,177,211,0.4)\", \"thickness\": 2, \"type\": \"data\"}, \"error_y\": {\"array\": [0.17873377264041637, 0.5515306718683937, 0.17253745258952607, 0.3751576343449705, 0.002915780693328641, 0.2410228815566845, 0.0644407066074909, 0.08878179657195737, 0.23989919395858042, 0.06689120025862685, 0.0014881697544525598, 0.1998204250555273, 0.13264795654518274, 0.0030433240864689635, 0.08444141407318506, 0.38959075548529154, 0.2842421343096247, 0.31436630497056933, 0.3584212826999636, 0.0013820652020805975], \"color\": \"rgba(128,177,211,0.4)\", \"thickness\": 2, \"type\": \"data\"}, \"hoverinfo\": \"text\", \"legendgroup\": \"mean\", \"marker\": {\"color\": \"rgba(128,177,211,1)\"}, \"mode\": \"markers\", \"name\": \"mean\", \"text\": [\"<b>Parameterization 0</b><br>currin: 13.465 [13.287, 13.644]<br>branin: 117.584 [115.480, 119.688]<br><br><em>Parameterization:</em><br>x1: 0.16767920184322185<br>x2: 0.0\", \"<b>Parameterization 1</b><br>currin: 4.58 [4.028, 5.131]<br>branin: 291.107 [284.321, 297.893]<br><br><em>Parameterization:</em><br>x1: 0.0<br>x2: 0.0\", \"<b>Parameterization 2</b><br>currin: 6.184 [6.012, 6.357]<br>branin: 261.934 [259.969, 263.900]<br><br><em>Parameterization:</em><br>x1: 0.027194891362803644<br>x2: 2.5185166380839053e-16\", \"<b>Parameterization 3</b><br>currin: 13.6 [13.225, 13.975]<br>branin: 106.514 [102.091, 110.938]<br><br><em>Parameterization:</em><br>x1: 0.18536860966736218<br>x2: 3.3443785963432355e-18\", \"<b>Parameterization 4</b><br>currin: 12.077 [12.074, 12.080]<br>branin: 159.55 [159.496, 159.603]<br><br><em>Parameterization:</em><br>x1: 0.11460868316283454<br>x2: 5.3303323434787666e-17\", \"<b>Parameterization 5</b><br>currin: 5.816 [5.575, 6.057]<br>branin: 268.351 [265.564, 271.138]<br><br><em>Parameterization:</em><br>x1: 0.02160336746884051<br>x2: 0.0\", \"<b>Parameterization 6</b><br>currin: 8.372 [8.307, 8.436]<br>branin: 225.605 [224.915, 226.295]<br><br><em>Parameterization:</em><br>x1: 0.05683632434773296<br>x2: 4.918922233951485e-16\", \"<b>Parameterization 7</b><br>currin: 9.325 [9.236, 9.414]<br>branin: 210.035 [209.097, 210.973]<br><br><em>Parameterization:</em><br>x1: 0.06925532709748217<br>x2: 1.5503707099545582e-16\", \"<b>Parameterization 8</b><br>currin: 5.821 [5.581, 6.061]<br>branin: 268.252 [265.478, 271.025]<br><br><em>Parameterization:</em><br>x1: 0.021691376056676585<br>x2: 3.2051296233652496e-17\", \"<b>Parameterization 9</b><br>currin: 13.243 [13.177, 13.310]<br>branin: 127.566 [126.737, 128.395]<br><br><em>Parameterization:</em><br>x1: 0.15325527390673868<br>x2: 1.773379865989145e-17\", \"<b>Parameterization 10</b><br>currin: 12.673 [12.671, 12.674]<br>branin: 145.076 [145.041, 145.111]<br><br><em>Parameterization:</em><br>x1: 0.13084181053123273<br>x2: 2.962376806316503e-16\", \"<b>Parameterization 11</b><br>currin: 13.49 [13.290, 13.690]<br>branin: 116.153 [113.805, 118.500]<br><br><em>Parameterization:</em><br>x1: 0.16985994621981024<br>x2: 2.9632435661937766e-18\", \"<b>Parameterization 12</b><br>currin: 6.425 [6.293, 6.558]<br>branin: 257.798 [256.300, 259.296]<br><br><em>Parameterization:</em><br>x1: 0.030717753467459964<br>x2: 0.0\", \"<b>Parameterization 13</b><br>currin: 11.898 [11.895, 11.901]<br>branin: 163.491 [163.421, 163.561]<br><br><em>Parameterization:</em><br>x1: 0.11051194919717217<br>x2: 1.072738325674222e-17\", \"<b>Parameterization 14</b><br>currin: 8.957 [8.872, 9.041]<br>branin: 216.076 [215.180, 216.971]<br><br><em>Parameterization:</em><br>x1: 0.06441505706513105<br>x2: 1.5792301613815218e-16\", \"<b>Parameterization 15</b><br>currin: 13.604 [13.214, 13.994]<br>branin: 105.838 [101.239, 110.437]<br><br><em>Parameterization:</em><br>x1: 0.18651341392393878<br>x2: 9.650520914440527e-19\", \"<b>Parameterization 16</b><br>currin: 13.559 [13.275, 13.844]<br>branin: 111.117 [107.782, 114.453]<br><br><em>Parameterization:</em><br>x1: 0.17777816466095842<br>x2: 3.439734827962657e-18\", \"<b>Parameterization 17</b><br>currin: 13.576 [13.262, 13.890]<br>branin: 109.518 [105.824, 113.211]<br><br><em>Parameterization:</em><br>x1: 0.18037637368600104<br>x2: 1.496325793153615e-17\", \"<b>Parameterization 18</b><br>currin: 13.595 [13.236, 13.953]<br>branin: 107.315 [103.093, 111.536]<br><br><em>Parameterization:</em><br>x1: 0.18402322384256978<br>x2: 4.938866169707718e-18\", \"<b>Parameterization 19</b><br>currin: 12.641 [12.640, 12.642]<br>branin: 145.905 [145.874, 145.936]<br><br><em>Parameterization:</em><br>x1: 0.12986019184125364<br>x2: 4.2280177997753536e-19\"], \"type\": \"scatter\", \"x\": [117.58389028667554, 291.1067937435533, 261.9341390131741, 106.51430497393156, 159.54982074893252, 268.35108348668814, 225.60472789080484, 210.03477458396634, 268.2515823601982, 127.5659257867915, 145.07590658746625, 116.15282771282256, 257.79795250639734, 163.49083168058758, 216.07584733390487, 105.83823160563985, 111.11717547592815, 109.51765586973892, 107.31479871719597, 145.90475360323035], \"y\": [13.46541893538193, 4.579630552641066, 6.184094471672527, 13.59992686397306, 12.07689179916785, 5.815591848370005, 8.371898089153662, 9.325132431371747, 5.821247624136068, 13.243409084309496, 12.672589873157278, 13.489805244845972, 6.425393170140941, 11.897802484570782, 8.956711548412214, 13.603935231589551, 13.559435420005158, 13.576081782633128, 13.59453002560557, 12.64105232536555]}],                        {\"height\": 500, \"hovermode\": \"closest\", \"legend\": {\"orientation\": \"h\"}, \"margin\": {\"b\": 75, \"l\": 225, \"pad\": 4, \"t\": 75}, \"template\": {\"data\": {\"bar\": [{\"error_x\": {\"color\": \"#2a3f5f\"}, \"error_y\": {\"color\": \"#2a3f5f\"}, \"marker\": {\"line\": {\"color\": \"#E5ECF6\", \"width\": 0.5}}, \"type\": \"bar\"}], \"barpolar\": [{\"marker\": {\"line\": {\"color\": \"#E5ECF6\", \"width\": 0.5}}, \"type\": \"barpolar\"}], \"carpet\": [{\"aaxis\": {\"endlinecolor\": \"#2a3f5f\", \"gridcolor\": \"white\", \"linecolor\": \"white\", \"minorgridcolor\": \"white\", \"startlinecolor\": \"#2a3f5f\"}, \"baxis\": {\"endlinecolor\": \"#2a3f5f\", \"gridcolor\": \"white\", \"linecolor\": \"white\", \"minorgridcolor\": \"white\", \"startlinecolor\": \"#2a3f5f\"}, \"type\": \"carpet\"}], \"choropleth\": [{\"colorbar\": {\"outlinewidth\": 0, \"ticks\": \"\"}, \"type\": \"choropleth\"}], \"contour\": [{\"colorbar\": {\"outlinewidth\": 0, \"ticks\": \"\"}, \"colorscale\": [[0.0, \"#0d0887\"], [0.1111111111111111, \"#46039f\"], [0.2222222222222222, \"#7201a8\"], [0.3333333333333333, \"#9c179e\"], [0.4444444444444444, \"#bd3786\"], [0.5555555555555556, \"#d8576b\"], [0.6666666666666666, \"#ed7953\"], [0.7777777777777778, \"#fb9f3a\"], [0.8888888888888888, \"#fdca26\"], [1.0, \"#f0f921\"]], \"type\": \"contour\"}], \"contourcarpet\": [{\"colorbar\": {\"outlinewidth\": 0, \"ticks\": \"\"}, \"type\": \"contourcarpet\"}], \"heatmap\": [{\"colorbar\": {\"outlinewidth\": 0, \"ticks\": \"\"}, \"colorscale\": [[0.0, \"#0d0887\"], [0.1111111111111111, \"#46039f\"], [0.2222222222222222, \"#7201a8\"], [0.3333333333333333, \"#9c179e\"], [0.4444444444444444, \"#bd3786\"], [0.5555555555555556, \"#d8576b\"], [0.6666666666666666, \"#ed7953\"], [0.7777777777777778, \"#fb9f3a\"], [0.8888888888888888, \"#fdca26\"], [1.0, \"#f0f921\"]], \"type\": \"heatmap\"}], \"heatmapgl\": [{\"colorbar\": {\"outlinewidth\": 0, \"ticks\": \"\"}, \"colorscale\": [[0.0, \"#0d0887\"], [0.1111111111111111, \"#46039f\"], [0.2222222222222222, \"#7201a8\"], [0.3333333333333333, \"#9c179e\"], [0.4444444444444444, \"#bd3786\"], [0.5555555555555556, \"#d8576b\"], [0.6666666666666666, \"#ed7953\"], [0.7777777777777778, \"#fb9f3a\"], [0.8888888888888888, \"#fdca26\"], [1.0, \"#f0f921\"]], \"type\": \"heatmapgl\"}], \"histogram\": [{\"marker\": {\"colorbar\": {\"outlinewidth\": 0, \"ticks\": \"\"}}, \"type\": \"histogram\"}], \"histogram2d\": [{\"colorbar\": {\"outlinewidth\": 0, \"ticks\": \"\"}, \"colorscale\": [[0.0, \"#0d0887\"], [0.1111111111111111, \"#46039f\"], [0.2222222222222222, \"#7201a8\"], [0.3333333333333333, \"#9c179e\"], [0.4444444444444444, \"#bd3786\"], [0.5555555555555556, \"#d8576b\"], [0.6666666666666666, \"#ed7953\"], [0.7777777777777778, \"#fb9f3a\"], [0.8888888888888888, \"#fdca26\"], [1.0, \"#f0f921\"]], \"type\": \"histogram2d\"}], \"histogram2dcontour\": [{\"colorbar\": {\"outlinewidth\": 0, \"ticks\": \"\"}, \"colorscale\": [[0.0, \"#0d0887\"], [0.1111111111111111, \"#46039f\"], [0.2222222222222222, \"#7201a8\"], [0.3333333333333333, \"#9c179e\"], [0.4444444444444444, \"#bd3786\"], [0.5555555555555556, \"#d8576b\"], [0.6666666666666666, \"#ed7953\"], [0.7777777777777778, \"#fb9f3a\"], [0.8888888888888888, \"#fdca26\"], [1.0, \"#f0f921\"]], \"type\": \"histogram2dcontour\"}], \"mesh3d\": [{\"colorbar\": {\"outlinewidth\": 0, \"ticks\": \"\"}, \"type\": \"mesh3d\"}], \"parcoords\": [{\"line\": {\"colorbar\": {\"outlinewidth\": 0, \"ticks\": \"\"}}, \"type\": \"parcoords\"}], \"pie\": [{\"automargin\": true, \"type\": \"pie\"}], \"scatter\": [{\"marker\": {\"colorbar\": {\"outlinewidth\": 0, \"ticks\": \"\"}}, \"type\": \"scatter\"}], \"scatter3d\": [{\"line\": {\"colorbar\": {\"outlinewidth\": 0, \"ticks\": \"\"}}, \"marker\": {\"colorbar\": {\"outlinewidth\": 0, \"ticks\": \"\"}}, \"type\": \"scatter3d\"}], \"scattercarpet\": [{\"marker\": {\"colorbar\": {\"outlinewidth\": 0, \"ticks\": \"\"}}, \"type\": \"scattercarpet\"}], \"scattergeo\": [{\"marker\": {\"colorbar\": {\"outlinewidth\": 0, \"ticks\": \"\"}}, \"type\": \"scattergeo\"}], \"scattergl\": [{\"marker\": {\"colorbar\": {\"outlinewidth\": 0, \"ticks\": \"\"}}, \"type\": \"scattergl\"}], \"scattermapbox\": [{\"marker\": {\"colorbar\": {\"outlinewidth\": 0, \"ticks\": \"\"}}, \"type\": \"scattermapbox\"}], \"scatterpolar\": [{\"marker\": {\"colorbar\": {\"outlinewidth\": 0, \"ticks\": \"\"}}, \"type\": \"scatterpolar\"}], \"scatterpolargl\": [{\"marker\": {\"colorbar\": {\"outlinewidth\": 0, \"ticks\": \"\"}}, \"type\": \"scatterpolargl\"}], \"scatterternary\": [{\"marker\": {\"colorbar\": {\"outlinewidth\": 0, \"ticks\": \"\"}}, \"type\": \"scatterternary\"}], \"surface\": [{\"colorbar\": {\"outlinewidth\": 0, \"ticks\": \"\"}, \"colorscale\": [[0.0, \"#0d0887\"], [0.1111111111111111, \"#46039f\"], [0.2222222222222222, \"#7201a8\"], [0.3333333333333333, \"#9c179e\"], [0.4444444444444444, \"#bd3786\"], [0.5555555555555556, \"#d8576b\"], [0.6666666666666666, \"#ed7953\"], [0.7777777777777778, \"#fb9f3a\"], [0.8888888888888888, \"#fdca26\"], [1.0, \"#f0f921\"]], \"type\": \"surface\"}], \"table\": [{\"cells\": {\"fill\": {\"color\": \"#EBF0F8\"}, \"line\": {\"color\": \"white\"}}, \"header\": {\"fill\": {\"color\": \"#C8D4E3\"}, \"line\": {\"color\": \"white\"}}, \"type\": \"table\"}]}, \"layout\": {\"annotationdefaults\": {\"arrowcolor\": \"#2a3f5f\", \"arrowhead\": 0, \"arrowwidth\": 1}, \"autotypenumbers\": \"strict\", \"coloraxis\": {\"colorbar\": {\"outlinewidth\": 0, \"ticks\": \"\"}}, \"colorscale\": {\"diverging\": [[0, \"#8e0152\"], [0.1, \"#c51b7d\"], [0.2, \"#de77ae\"], [0.3, \"#f1b6da\"], [0.4, \"#fde0ef\"], [0.5, \"#f7f7f7\"], [0.6, \"#e6f5d0\"], [0.7, \"#b8e186\"], [0.8, \"#7fbc41\"], [0.9, \"#4d9221\"], [1, \"#276419\"]], \"sequential\": [[0.0, \"#0d0887\"], [0.1111111111111111, \"#46039f\"], [0.2222222222222222, \"#7201a8\"], [0.3333333333333333, \"#9c179e\"], [0.4444444444444444, \"#bd3786\"], [0.5555555555555556, \"#d8576b\"], [0.6666666666666666, \"#ed7953\"], [0.7777777777777778, \"#fb9f3a\"], [0.8888888888888888, \"#fdca26\"], [1.0, \"#f0f921\"]], \"sequentialminus\": [[0.0, \"#0d0887\"], [0.1111111111111111, \"#46039f\"], [0.2222222222222222, \"#7201a8\"], [0.3333333333333333, \"#9c179e\"], [0.4444444444444444, \"#bd3786\"], [0.5555555555555556, \"#d8576b\"], [0.6666666666666666, \"#ed7953\"], [0.7777777777777778, \"#fb9f3a\"], [0.8888888888888888, \"#fdca26\"], [1.0, \"#f0f921\"]]}, \"colorway\": [\"#636efa\", \"#EF553B\", \"#00cc96\", \"#ab63fa\", \"#FFA15A\", \"#19d3f3\", \"#FF6692\", \"#B6E880\", \"#FF97FF\", \"#FECB52\"], \"font\": {\"color\": \"#2a3f5f\"}, \"geo\": {\"bgcolor\": \"white\", \"lakecolor\": \"white\", \"landcolor\": \"#E5ECF6\", \"showlakes\": true, \"showland\": true, \"subunitcolor\": \"white\"}, \"hoverlabel\": {\"align\": \"left\"}, \"hovermode\": \"closest\", \"mapbox\": {\"style\": \"light\"}, \"paper_bgcolor\": \"white\", \"plot_bgcolor\": \"#E5ECF6\", \"polar\": {\"angularaxis\": {\"gridcolor\": \"white\", \"linecolor\": \"white\", \"ticks\": \"\"}, \"bgcolor\": \"#E5ECF6\", \"radialaxis\": {\"gridcolor\": \"white\", \"linecolor\": \"white\", \"ticks\": \"\"}}, \"scene\": {\"xaxis\": {\"backgroundcolor\": \"#E5ECF6\", \"gridcolor\": \"white\", \"gridwidth\": 2, \"linecolor\": \"white\", \"showbackground\": true, \"ticks\": \"\", \"zerolinecolor\": \"white\"}, \"yaxis\": {\"backgroundcolor\": \"#E5ECF6\", \"gridcolor\": \"white\", \"gridwidth\": 2, \"linecolor\": \"white\", \"showbackground\": true, \"ticks\": \"\", \"zerolinecolor\": \"white\"}, \"zaxis\": {\"backgroundcolor\": \"#E5ECF6\", \"gridcolor\": \"white\", \"gridwidth\": 2, \"linecolor\": \"white\", \"showbackground\": true, \"ticks\": \"\", \"zerolinecolor\": \"white\"}}, \"shapedefaults\": {\"line\": {\"color\": \"#2a3f5f\"}}, \"ternary\": {\"aaxis\": {\"gridcolor\": \"white\", \"linecolor\": \"white\", \"ticks\": \"\"}, \"baxis\": {\"gridcolor\": \"white\", \"linecolor\": \"white\", \"ticks\": \"\"}, \"bgcolor\": \"#E5ECF6\", \"caxis\": {\"gridcolor\": \"white\", \"linecolor\": \"white\", \"ticks\": \"\"}}, \"title\": {\"x\": 0.05}, \"xaxis\": {\"automargin\": true, \"gridcolor\": \"white\", \"linecolor\": \"white\", \"ticks\": \"\", \"title\": {\"standoff\": 15}, \"zerolinecolor\": \"white\", \"zerolinewidth\": 2}, \"yaxis\": {\"automargin\": true, \"gridcolor\": \"white\", \"linecolor\": \"white\", \"ticks\": \"\", \"title\": {\"standoff\": 15}, \"zerolinecolor\": \"white\", \"zerolinewidth\": 2}}}, \"title\": {\"text\": \"Pareto Frontier\"}, \"width\": 750, \"xaxis\": {\"ticksuffix\": \"\", \"title\": {\"text\": \"branin\"}, \"zeroline\": true}, \"yaxis\": {\"ticksuffix\": \"\", \"title\": {\"text\": \"currin\"}, \"zeroline\": true}},                        {\"responsive\": true}                    ).then(function(){\n                            \nvar gd = document.getElementById('e7710b14-3b74-4cc5-86d6-8afa7dd15961');\nvar x = new MutationObserver(function (mutations, observer) {{\n        var display = window.getComputedStyle(gd).display;\n        if (!display || display === 'none') {{\n            console.log([gd, 'removed!']);\n            Plotly.purge(gd);\n            observer.disconnect();\n        }}\n}});\n\n// Listen for the removal of the full notebook cells\nvar notebookContainer = gd.closest('#notebook-container');\nif (notebookContainer) {{\n    x.observe(notebookContainer, {childList: true});\n}}\n\n// Listen for the clearing of the current output cell\nvar outputEl = gd.closest('.output');\nif (outputEl) {{\n    x.observe(outputEl, {childList: true});\n}}\n\n                        })                };                });            </script>        </div>"
          },
          "metadata": {}
        }
      ]
    },
    {
      "cell_type": "markdown",
      "metadata": {
        "originalKey": "b9127c73-b1b6-4e46-b593-43068d5015a8",
        "showInput": true,
        "code_folding": [],
        "hidden_ranges": []
      },
      "source": [
        "### Appendix: Using `ScalarizedPosteriorTransform`\n",
        "\n",
        "Using the `ScalarizedPosteriorTransform` abstraction, the functionality of `ScalarizedUpperConfidenceBound` implemented above can be easily achieved in just a few lines of code. `PosteriorTransform`s can be used with both the MC and analytic acquisition functions."
      ]
    },
    {
      "cell_type": "code",
      "metadata": {
        "originalKey": "79a4b36f-4b14-4a62-9dc6-883931ceb5d3",
        "code_folding": [],
        "hidden_ranges": [],
        "collapsed": false,
        "requestMsgId": "79a4b36f-4b14-4a62-9dc6-883931ceb5d3",
        "executionStopTime": 1646671937283,
        "executionStartTime": 1646671937206
      },
      "source": [
        "from botorch.acquisition.objective import ScalarizedPosteriorTransform\n",
        "from botorch.acquisition.analytic import UpperConfidenceBound\n",
        "\n",
        "pt = ScalarizedPosteriorTransform(weights=torch.tensor([0.1, 0.5]))\n",
        "SUCB = UpperConfidenceBound(gp, beta=0.1, posterior_transform=pt)"
      ],
      "execution_count": 16,
      "outputs": []
    }
  ]
}
