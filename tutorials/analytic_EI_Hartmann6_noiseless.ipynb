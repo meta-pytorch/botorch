{
 "cells": [
  {
   "cell_type": "markdown",
   "metadata": {},
   "source": [
    "## Bayesian optimization with Analytic-EI on Hartmann6\n",
    "\n",
    "This example walks through how to perform Bayesian optimization (BO) on the 6-dimensional synthetic test function 'Hartmann6' with noiseless observations in botorch.\n",
    "\n"
   ]
  },
  {
   "cell_type": "markdown",
   "metadata": {},
   "source": [
    "#### Set up device and data type"
   ]
  },
  {
   "cell_type": "code",
   "execution_count": 1,
   "metadata": {},
   "outputs": [],
   "source": [
    "import torch\n",
    "\n",
    "# let's run this on the GPU if there is one available\n",
    "device = torch.device(\"cuda:1\") if torch.cuda.is_available() else torch.device(\"cpu\")    \n",
    "dtype = torch.float"
   ]
  },
  {
   "cell_type": "markdown",
   "metadata": {},
   "source": [
    "The Hartmann6 optimization problem is to minimize\n",
    "\n",
    "$$f(x) = -\\sum_{i=1}^4 \\alpha_i \\exp \\left( -\\sum_{j=1}^6 A_{ij} (x_j - P_{ij})^2  \\right),$$\n",
    "\n",
    "over $x \\in [0,1]^6$. The values of $\\alpha_i$, $A_{ij}$, and $P_{ij}$ can be found in `botorch/test_functions/hartmann6.py`. Since botorch assumes a maximization problem, we will attempt to maximize $-f(x)$ to achieve $\\max_{x} -f(x) = 3.32237$."
   ]
  },
  {
   "cell_type": "markdown",
   "metadata": {},
   "source": [
    "#### Set up oracle (i.e., the function to optimize) and define a random point sampler"
   ]
  },
  {
   "cell_type": "code",
   "execution_count": 2,
   "metadata": {},
   "outputs": [],
   "source": [
    "from botorch.test_functions.hartmann6 import neg_hartmann6, GLOBAL_MAXIMUM\n",
    "\n",
    "DATA_DIM = 6  # the dimension of x\n",
    "MAX_VAL = GLOBAL_MAXIMUM\n",
    "\n",
    "def oracle(X):\n",
    "    \"\"\"Oracle function for generating observations, where X is a `b x 6` tensor.\n",
    "    \"\"\"\n",
    "    return neg_hartmann6(X)\n",
    "\n",
    "def gen_x(num_samples, q=1):\n",
    "    \"\"\"Generate random points in the unit cube [0, 1]^6\"\"\"\n",
    "    return torch.rand(num_samples, q, DATA_DIM, device=device)"
   ]
  },
  {
   "cell_type": "code",
   "execution_count": 3,
   "metadata": {},
   "outputs": [
    {
     "name": "stdout",
     "output_type": "stream",
     "text": [
      "3.32237\n"
     ]
    }
   ],
   "source": [
    "print(GLOBAL_MAXIMUM)"
   ]
  },
  {
   "cell_type": "markdown",
   "metadata": {},
   "source": [
    "#### Import a basic GP model, acquisition functions, and other helper functions\n",
    "\n",
    "This is the model specification of a simple GP model in gpytorch, using a constant mean, RBF Kernel with Automatic Relevance Discovery (ARD).\n",
    "\n",
    "The qEI acquisition function and several other helper functions are also imported here. We use $10$ inital points per trial (sampled using `gen_x`), a batch size of $q=5$, and $30$ batches (or iterations) per trial."
   ]
  },
  {
   "cell_type": "code",
   "execution_count": 4,
   "metadata": {},
   "outputs": [],
   "source": [
    "from botorch.models import SingleTaskGP\n",
    "from botorch.acquisition import ExpectedImprovement\n",
    "from botorch.acquisition.sampler import SobolQMCNormalSampler\n",
    "from botorch.optim import joint_optimize\n",
    "from botorch import fit_gpytorch_model\n",
    "from gpytorch.mlls.exact_marginal_log_likelihood import ExactMarginalLogLikelihood\n",
    "import time\n",
    "\n",
    "INITIAL_POINTS = 10  # The number of initial random samples to take at the beginning of each trial\n",
    "BATCH_SIZE = 1  # The batch size, q\n",
    "N_BATCH = 25  # The number of batches to test for each trial\n",
    "N_TRIALS = 20  # The number of independent trials (N_TRIALS of N_BATCH iterations)"
   ]
  },
  {
   "cell_type": "markdown",
   "metadata": {},
   "source": [
    "Next, we set some optimization-related parameters. We use $1000$ (quasi)-Monte Carlo samples to approximate the acquisition function and $40$ random restarts chosen from $100$ initial candidates at each iteration."
   ]
  },
  {
   "cell_type": "code",
   "execution_count": 5,
   "metadata": {},
   "outputs": [],
   "source": [
    "FIT_OPTIMIZER_ITER = 100  # Number of iterations used to fit model\n",
    "ACQ_OPTIMIZER_ITER = 100  # Number of iterations used to optimize acquisition function\n",
    "N_RESTART_CANDIDATES = 100  # Number of random from which to select restart initial points\n",
    "N_RESTARTS = 20  # Number of restarts"
   ]
  },
  {
   "cell_type": "markdown",
   "metadata": {},
   "source": [
    "#### Define a helper function that performs the essential BO step\n",
    "The Bayesian optimization 'loop' for a batch size of $q$ simply iterates the following steps:\n",
    "\n",
    "1. given a surrogate model, choose a batch of points $\\{x_1, x_2, \\ldots x_q\\}$\n",
    "2. observe $f(x)$ for each $x$ in the batch\n",
    "3. update the surrogate model.\n",
    "\n",
    "Much of the work resides in 1., where the batch is selected by optimizing an acquisition function, q-EI. The helper function below takes an acquisition function as an argument, optimizes it, and returns the batch $\\{x_1, x_2, \\ldots x_q\\}$ along with the observed function values. It also includes logic for selecting restart candidates based on the heuristic `initialize_q_batch_simple`."
   ]
  },
  {
   "cell_type": "code",
   "execution_count": 6,
   "metadata": {},
   "outputs": [],
   "source": [
    "def optimize_acq_and_return_observation(acq_func):\n",
    "    \"\"\"Generates restart conditions, optimizes the acquisition function, and returns\n",
    "        a new candidate and a noisy observation at that candidate.\n",
    "    \"\"\"\n",
    "    bounds = torch.tensor([[0]*DATA_DIM, [1]*DATA_DIM], device=device, dtype=dtype)\n",
    "    candidates = joint_optimize(\n",
    "        acq_function=acq_func,\n",
    "        bounds=bounds,\n",
    "        q=BATCH_SIZE,\n",
    "        num_restarts=N_RESTARTS,\n",
    "        raw_samples=N_RESTART_CANDIDATES,\n",
    "        options={\"simple_init\": True, \"maxiter\": ACQ_OPTIMIZER_ITER},\n",
    "    )\n",
    "    # Fetch the new values \n",
    "    new_x = candidates.detach().squeeze()\n",
    "    new_y = oracle(new_x).squeeze()\n",
    "    return new_x, new_y"
   ]
  },
  {
   "cell_type": "markdown",
   "metadata": {},
   "source": [
    "#### Perform the BO loop with EI\n",
    "\n",
    "We are now ready to run the full BO loop, repeated N_TRIALS = 20 times. In each trial, we draw initial points using `gen_x` and then fit the `SingleTaskGP` using training data derived from the initial points and noiseless evaluations of $-f(x)$."
   ]
  },
  {
   "cell_type": "code",
   "execution_count": 7,
   "metadata": {
    "scrolled": false
   },
   "outputs": [
    {
     "name": "stdout",
     "output_type": "stream",
     "text": [
      "Trial 1 of 20\n",
      "Initial sample, best_value:  1.2\n",
      "Batch  5: best_value (EI, random) = (1.60, 1.20), time = 0.56\n",
      "Batch 10: best_value (EI, random) = (2.75, 1.20), time = 0.80\n",
      "Batch 15: best_value (EI, random) = (2.93, 1.20), time = 0.19\n",
      "Batch 20: best_value (EI, random) = (2.93, 2.23), time = 0.09\n",
      "Batch 25: best_value (EI, random) = (2.96, 2.23), time = 0.34\n",
      "Trial 2 of 20\n",
      "Initial sample, best_value: 0.656\n",
      "Batch  5: best_value (EI, random) = (1.10, 0.66), time = 0.64\n",
      "Batch 10: best_value (EI, random) = (1.96, 0.66), time = 0.61\n",
      "Batch 15: best_value (EI, random) = (2.83, 0.66), time = 0.06\n",
      "Batch 20: best_value (EI, random) = (2.99, 1.04), time = 0.07\n",
      "Batch 25: best_value (EI, random) = (2.99, 1.04), time = 0.25\n",
      "Trial 3 of 20\n",
      "Initial sample, best_value: 0.813\n",
      "Batch  5: best_value (EI, random) = (1.23, 0.85), time = 0.56\n",
      "Batch 10: best_value (EI, random) = (2.62, 0.85), time = 0.66\n",
      "Batch 15: best_value (EI, random) = (3.04, 0.85), time = 0.38\n",
      "Batch 20: best_value (EI, random) = (3.07, 1.65), time = 0.32\n",
      "Batch 25: best_value (EI, random) = (3.09, 1.65), time = 0.15\n",
      "Trial 4 of 20\n",
      "Initial sample, best_value: 0.795\n",
      "Batch  5: best_value (EI, random) = (1.06, 0.80), time = 0.60\n",
      "Batch 10: best_value (EI, random) = (1.31, 1.20), time = 0.60\n",
      "Batch 15: best_value (EI, random) = (1.45, 1.20), time = 0.30\n",
      "Batch 20: best_value (EI, random) = (1.82, 1.92), time = 0.65\n",
      "Batch 25: best_value (EI, random) = (2.18, 1.92), time = 0.28\n",
      "Trial 5 of 20\n",
      "Initial sample, best_value: 1.06\n",
      "Batch  5: best_value (EI, random) = (2.45, 1.06), time = 0.71\n",
      "Batch 10: best_value (EI, random) = (3.24, 1.06), time = 0.43\n",
      "Batch 15: best_value (EI, random) = (3.32, 1.06), time = 0.09\n",
      "Batch 20: best_value (EI, random) = (3.32, 1.06), time = 0.07\n",
      "Batch 25: best_value (EI, random) = (3.32, 1.11), time = 0.15\n",
      "Trial 6 of 20\n",
      "Initial sample, best_value: 0.533\n",
      "Batch  5: best_value (EI, random) = (1.53, 0.53), time = 0.69\n",
      "Batch 10: best_value (EI, random) = (2.56, 0.53), time = 0.28\n",
      "Batch 15: best_value (EI, random) = (2.97, 1.36), time = 0.46\n",
      "Batch 20: best_value (EI, random) = (3.26, 1.36), time = 0.07\n",
      "Batch 25: best_value (EI, random) = (3.26, 1.36), time = 0.09\n",
      "Trial 7 of 20\n",
      "Initial sample, best_value: 0.513\n",
      "Batch  5: best_value (EI, random) = (1.41, 0.52), time = 0.69\n",
      "Batch 10: best_value (EI, random) = (2.84, 0.52), time = 0.50\n",
      "Batch 15: best_value (EI, random) = (3.04, 0.66), time = 0.06\n",
      "Batch 20: best_value (EI, random) = (3.04, 0.70), time = 0.13\n",
      "Batch 25: best_value (EI, random) = (3.11, 0.70), time = 0.14\n",
      "Trial 8 of 20\n",
      "Initial sample, best_value: 1.06\n",
      "Batch  5: best_value (EI, random) = (1.70, 1.06), time = 0.80\n",
      "Batch 10: best_value (EI, random) = (2.29, 1.06), time = 0.22\n",
      "Batch 15: best_value (EI, random) = (3.00, 1.06), time = 0.55\n",
      "Batch 20: best_value (EI, random) = (3.12, 1.06), time = 0.20\n",
      "Batch 25: best_value (EI, random) = (3.12, 1.06), time = 0.10\n",
      "Trial 9 of 20\n",
      "Initial sample, best_value: 0.755\n",
      "Batch  5: best_value (EI, random) = (2.12, 0.75), time = 0.70\n",
      "Batch 10: best_value (EI, random) = (2.81, 0.75), time = 0.46\n",
      "Batch 15: best_value (EI, random) = (2.86, 0.93), time = 0.10\n",
      "Batch 20: best_value (EI, random) = (2.93, 0.93), time = 0.11\n",
      "Batch 25: best_value (EI, random) = (2.93, 0.93), time = 0.09\n",
      "Trial 10 of 20\n",
      "Initial sample, best_value: 1.11\n",
      "Batch  5: best_value (EI, random) = (3.05, 1.31), time = 0.64\n",
      "Batch 10: best_value (EI, random) = (3.29, 1.31), time = 0.29\n",
      "Batch 15: best_value (EI, random) = (3.32, 1.31), time = 0.28\n",
      "Batch 20: best_value (EI, random) = (3.32, 1.31), time = 0.14\n",
      "Batch 25: best_value (EI, random) = (3.32, 1.31), time = 0.14\n",
      "Trial 11 of 20\n",
      "Initial sample, best_value: 0.697\n",
      "Batch  5: best_value (EI, random) = (1.46, 0.70), time = 0.65\n",
      "Batch 10: best_value (EI, random) = (3.07, 1.64), time = 0.66\n",
      "Batch 15: best_value (EI, random) = (3.11, 1.64), time = 0.25\n",
      "Batch 20: best_value (EI, random) = (3.16, 1.64), time = 0.16\n",
      "Batch 25: best_value (EI, random) = (3.18, 1.64), time = 0.34\n",
      "Trial 12 of 20\n",
      "Initial sample, best_value: 0.469\n",
      "Batch  5: best_value (EI, random) = (1.78, 0.47), time = 0.87\n",
      "Batch 10: best_value (EI, random) = (2.93, 1.25), time = 0.70\n",
      "Batch 15: best_value (EI, random) = (3.11, 1.25), time = 0.13\n",
      "Batch 20: best_value (EI, random) = (3.11, 1.25), time = 0.24\n",
      "Batch 25: best_value (EI, random) = (3.19, 1.25), time = 0.32\n",
      "Trial 13 of 20\n",
      "Initial sample, best_value: 0.654\n",
      "Batch  5: best_value (EI, random) = (1.21, 0.65), time = 0.73\n",
      "Batch 10: best_value (EI, random) = (1.64, 0.65), time = 0.69\n",
      "Batch 15: best_value (EI, random) = (2.19, 0.65), time = 0.54\n",
      "Batch 20: best_value (EI, random) = (2.39, 0.65), time = 0.56\n",
      "Batch 25: best_value (EI, random) = (3.21, 1.03), time = 0.49\n",
      "Trial 14 of 20\n",
      "Initial sample, best_value: 0.443\n",
      "Batch  5: best_value (EI, random) = (0.84, 0.44), time = 0.73\n",
      "Batch 10: best_value (EI, random) = (1.71, 2.35), time = 0.40\n",
      "Batch 15: best_value (EI, random) = (2.58, 2.35), time = 0.32\n",
      "Batch 20: best_value (EI, random) = (3.04, 2.35), time = 0.36\n",
      "Batch 25: best_value (EI, random) = (3.07, 2.35), time = 0.12\n",
      "Trial 15 of 20\n",
      "Initial sample, best_value: 0.498\n",
      "Batch  5: best_value (EI, random) = (0.87, 0.50), time = 0.84\n",
      "Batch 10: best_value (EI, random) = (1.76, 0.50), time = 0.64\n",
      "Batch 15: best_value (EI, random) = (2.40, 1.00), time = 0.42\n",
      "Batch 20: best_value (EI, random) = (3.06, 1.00), time = 0.17\n",
      "Batch 25: best_value (EI, random) = (3.28, 1.00), time = 0.16\n",
      "Trial 16 of 20\n",
      "Initial sample, best_value: 0.52\n",
      "Batch  5: best_value (EI, random) = (1.45, 0.52), time = 0.70\n",
      "Batch 10: best_value (EI, random) = (2.88, 2.22), time = 0.66\n",
      "Batch 15: best_value (EI, random) = (3.28, 2.22), time = 0.44\n",
      "Batch 20: best_value (EI, random) = (3.30, 2.22), time = 0.17\n",
      "Batch 25: best_value (EI, random) = (3.30, 2.22), time = 0.09\n",
      "Trial 17 of 20\n",
      "Initial sample, best_value: 2.46\n",
      "Batch  5: best_value (EI, random) = (2.94, 2.46), time = 0.61\n",
      "Batch 10: best_value (EI, random) = (3.20, 2.46), time = 0.26\n",
      "Batch 15: best_value (EI, random) = (3.30, 2.46), time = 0.05\n",
      "Batch 20: best_value (EI, random) = (3.32, 2.46), time = 0.22\n",
      "Batch 25: best_value (EI, random) = (3.32, 2.46), time = 0.13\n",
      "Trial 18 of 20\n",
      "Initial sample, best_value: 0.475\n",
      "Batch  5: best_value (EI, random) = (0.90, 0.47), time = 0.38\n",
      "Batch 10: best_value (EI, random) = (1.86, 0.80), time = 0.72\n",
      "Batch 15: best_value (EI, random) = (2.11, 2.61), time = 0.79\n",
      "Batch 20: best_value (EI, random) = (3.00, 2.61), time = 0.43\n",
      "Batch 25: best_value (EI, random) = (3.27, 2.61), time = 0.39\n",
      "Trial 19 of 20\n",
      "Initial sample, best_value: 1.09\n",
      "Batch  5: best_value (EI, random) = (2.58, 1.09), time = 0.69\n",
      "Batch 10: best_value (EI, random) = (2.86, 1.09), time = 0.22\n",
      "Batch 15: best_value (EI, random) = (2.93, 1.09), time = 0.46\n",
      "Batch 20: best_value (EI, random) = (2.93, 1.09), time = 0.06\n",
      "Batch 25: best_value (EI, random) = (2.93, 1.09), time = 0.25\n",
      "Trial 20 of 20\n",
      "Initial sample, best_value: 1.52\n",
      "Batch  5: best_value (EI, random) = (1.76, 1.52), time = 0.71\n",
      "Batch 10: best_value (EI, random) = (2.99, 1.52), time = 0.58\n",
      "Batch 15: best_value (EI, random) = (3.08, 1.52), time = 0.43\n",
      "Batch 20: best_value (EI, random) = (3.12, 1.52), time = 0.26\n",
      "Batch 25: best_value (EI, random) = (3.12, 1.52), time = 0.11\n"
     ]
    }
   ],
   "source": [
    "seed = 12345\n",
    "best_observed_ei_all = []\n",
    "best_random_all = []\n",
    "cpu_time_all = []\n",
    "\n",
    "import warnings\n",
    "warnings.filterwarnings('ignore')\n",
    "\n",
    "for trial in range(N_TRIALS):\n",
    "    \n",
    "    print(f\"Trial {trial + 1} of {N_TRIALS}\")\n",
    "    torch.manual_seed(seed)\n",
    "    seed = seed + 1\n",
    "    best_observed_ei = []\n",
    "    best_random = []\n",
    "    cpu_time = []\n",
    "    \n",
    "    # Initial random observations are the same for both acquisition functions\n",
    "    train_x_ei = gen_x(INITIAL_POINTS).squeeze()\n",
    "    train_y_ei = oracle(train_x_ei).squeeze()\n",
    "    \n",
    "    # Initialize models\n",
    "    model = SingleTaskGP(train_X=train_x_ei, train_Y=train_y_ei)\n",
    "    model = model.to(device=device, dtype=train_x_ei.dtype)\n",
    "    mll = ExactMarginalLogLikelihood(model.likelihood, model)\n",
    "\n",
    "    # Keep track of the best observed point at each iteration\n",
    "    best_value_ei = oracle(train_x_ei).max().item()\n",
    "    best_observed_ei.append(best_value_ei)\n",
    "    best_random.append(best_value_ei)\n",
    "    \n",
    "    print(f\"Initial sample, best_value: {best_value_ei:4.3}\")\n",
    "\n",
    "    # Run N_BATCH rounds of BO after the initial random batch\n",
    "    for iteration in range(N_BATCH):\n",
    "        \n",
    "        t0 = time.time()\n",
    "        \n",
    "        # Fit models\n",
    "        fit_gpytorch_model(mll, options={\"maxiter\": FIT_OPTIMIZER_ITER})\n",
    "        \n",
    "        # Define the acquisition function\n",
    "        EI = ExpectedImprovement(model=model, best_f=best_value_ei)\n",
    "\n",
    "        # Optimize and get observations\n",
    "        new_x_ei, new_y_ei = optimize_acq_and_return_observation(EI)\n",
    "        \n",
    "        # Update training points\n",
    "        train_x_ei = torch.cat((train_x_ei, new_x_ei.unsqueeze(dim=0)))\n",
    "        train_y_ei = torch.cat((train_y_ei, new_y_ei.unsqueeze(dim=0)))\n",
    "                        \n",
    "        # Get the new best observed value\n",
    "        best_value_ei = oracle(train_x_ei).max().item()\n",
    "        best_observed_ei.append(best_value_ei)\n",
    "        \n",
    "        # Get the new best value if random sampling is used\n",
    "        next_random_best = oracle(gen_x(BATCH_SIZE).squeeze()).max().item()\n",
    "        best_random.append(max(best_random[-1], next_random_best))\n",
    "        \n",
    "        # Reinitialize the model\n",
    "        model.reinitialize(train_X=train_x_ei, train_Y=train_y_ei, keep_params=True)        \n",
    "        \n",
    "        t1 = time.time()\n",
    "        cpu_time.append(t1 - t0)\n",
    "        \n",
    "        # Print out info for every 5th batch\n",
    "        if (iteration+1) % 5 == 0:\n",
    "            print(f\"Batch {iteration+1:2}: best_value (EI, random) \" + \n",
    "                  f\"= ({best_value_ei:4.2f}, {max(best_random):4.2f}), time = {t1-t0:4.2f}\")\n",
    "\n",
    "    best_observed_ei_all.append(best_observed_ei)\n",
    "    best_random_all.append(best_random)\n",
    "    cpu_time_all.append(cpu_time)"
   ]
  },
  {
   "cell_type": "markdown",
   "metadata": {
    "collapsed": true
   },
   "source": [
    "#### Plot results"
   ]
  },
  {
   "cell_type": "code",
   "execution_count": 14,
   "metadata": {},
   "outputs": [
    {
     "data": {
      "text/plain": [
       "<matplotlib.legend.Legend at 0x12dbf0710>"
      ]
     },
     "execution_count": 14,
     "metadata": {},
     "output_type": "execute_result"
    },
    {
     "data": {
      "image/png": "[encoded data removed]",
      "text/plain": [
       "<Figure size 432x288 with 1 Axes>"
      ]
     },
     "metadata": {
      "needs_background": "light"
     },
     "output_type": "display_data"
    }
   ],
   "source": [
    "from matplotlib import pyplot as plt\n",
    "import numpy as np\n",
    "%matplotlib inline\n",
    "\n",
    "def ci(y):\n",
    "    return 1.96 * y.std(axis=0) / np.sqrt(N_TRIALS)\n",
    "\n",
    "iters = np.arange(N_BATCH+1)*BATCH_SIZE+INITIAL_POINTS\n",
    "y_ei = np.asarray(best_observed_ei_all)\n",
    "y_rnd = np.asarray(best_random_all)\n",
    "\n",
    "fig, ax = plt.subplots(1, 1, figsize=(6, 4))\n",
    "ax.errorbar(iters, y_ei.mean(axis=0), yerr=ci(y_ei), label=\"analytic-EI\", linewidth=1.5)\n",
    "ax.errorbar(iters, y_rnd.mean(axis=0), yerr=ci(y_rnd), label=\"random\", linewidth=1.5)\n",
    "plt.plot([0, N_BATCH*BATCH_SIZE+INITIAL_POINTS], [MAX_VAL]*2, 'k', label=\"true objective\", linewidth=2)\n",
    "ax.set_ylim(bottom=0.5)\n",
    "ax.set_xlim(left=10)\n",
    "ax.set(xlabel='number of points', ylabel='best objective value')\n",
    "ax.legend(loc=\"lower right\")"
   ]
  }
 ],
 "metadata": {
  "anaconda-cloud": [],
  "anp_cloned_from": {
   "notebook_id": "327801827863318",
   "revision_id": "2483261731900726"
  },
  "bento_stylesheets": {
   "bento/extensions/flow/main.css": true,
   "bento/extensions/kernel_selector/main.css": true,
   "bento/extensions/kernel_ui/main.css": true,
   "bento/extensions/new_kernel/main.css": true,
   "bento/extensions/system_usage/main.css": true,
   "bento/extensions/theme/main.css": true
  },
  "disseminate_notebook_id": {
   "notebook_id": "474819769721127"
  },
  "disseminate_notebook_info": {
   "bento_version": "20190318-030220",
   "description": "to compare against MC",
   "hide_code": false,
   "hipster_group": "",
   "kernel_build_info": {
    "error": "The file located at '/data/users/drjiang/fbsource/fbcode/bento/kernels/local/ae_lazarus/TARGETS' could not be found."
   },
   "no_uii": true,
   "notebook_number": "74186",
   "others_can_edit": false,
   "revision_id": "431138527659565",
   "tags": "",
   "tasks": "",
   "title": "Analytic_EI_Hartmann6_noiseless"
  },
  "kernelspec": {
   "display_name": "Python 3",
   "language": "python",
   "name": "python3"
  },
  "language_info": {
   "codemirror_mode": {
    "name": "ipython",
    "version": 3
   },
   "file_extension": ".py",
   "mimetype": "text/x-python",
   "name": "python",
   "nbconvert_exporter": "python",
   "pygments_lexer": "ipython3",
   "version": "3.6.8"
  }
 },
 "nbformat": 4,
 "nbformat_minor": 2
}
