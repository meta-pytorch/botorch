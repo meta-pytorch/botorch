{
 "cells": [
  {
   "cell_type": "markdown",
   "metadata": {},
   "source": [
    "## Tutorial on large-scale Thompson sampling\n",
    "\n",
    "This demo currently considers:\n",
    "- 10,000 points with Cholesky\n",
    "- 50,000 points with Random Fourier features (RFFs)\n",
    "- 50,000 points with contour integral quadrature (CIQ)\n",
    "\n",
    "Using CIQ requires KeOps (https://github.com/getkeops/keops) and a GPU since we can't fit the corresponding covariance matrix in memory."
   ]
  },
  {
   "cell_type": "code",
   "execution_count": 1,
   "metadata": {},
   "outputs": [],
   "source": [
    "import warnings\n",
    "\n",
    "import matplotlib.pyplot as plt\n",
    "import torch\n",
    "from botorch.fit import fit_gpytorch_model\n",
    "from botorch.generation import MaxPosteriorSampling\n",
    "from botorch.models import FixedNoiseGP, SingleTaskGP\n",
    "from botorch.test_functions import Hartmann\n",
    "from botorch.utils.transforms import unnormalize\n",
    "from torch.quasirandom import SobolEngine\n",
    "\n",
    "import gpytorch\n",
    "import gpytorch.settings as gpts\n",
    "import pykeops\n",
    "from gpytorch.constraints import Interval\n",
    "from gpytorch.distributions import MultivariateNormal\n",
    "from gpytorch.kernels import MaternKernel, RFFKernel, ScaleKernel\n",
    "from gpytorch.kernels.keops import MaternKernel as KMaternKernel\n",
    "from gpytorch.likelihoods import GaussianLikelihood\n",
    "from gpytorch.mlls import ExactMarginalLogLikelihood\n",
    "from gpytorch.priors import HorseshoePrior\n",
    "from gpytorch.priors.torch_priors import GammaPrior\n",
    "\n",
    "device = torch.device(\"cuda\" if torch.cuda.is_available() else \"cpu\")\n",
    "dtype = torch.double"
   ]
  },
  {
   "cell_type": "code",
   "execution_count": 12,
   "metadata": {},
   "outputs": [
    {
     "name": "stdout",
     "output_type": "stream",
     "text": [
      "\n",
      "pyKeOps with torch bindings is working!\n",
      "\n"
     ]
    }
   ],
   "source": [
    "pykeops.test_torch_bindings()  # Make sure the KeOps bindings are working"
   ]
  },
  {
   "cell_type": "code",
   "execution_count": 3,
   "metadata": {},
   "outputs": [],
   "source": [
    "hart6 = Hartmann(dim=6, negate=True).to(device=device, dtype=dtype)\n",
    "dim = hart6.dim\n",
    "\n",
    "\n",
    "def eval_objective(x):\n",
    "    \"\"\"This is a helper function we use to unnormalize and evalaute a point\"\"\"\n",
    "    return hart6(unnormalize(x, hart6.bounds))"
   ]
  },
  {
   "cell_type": "code",
   "execution_count": 4,
   "metadata": {},
   "outputs": [],
   "source": [
    "def get_initial_points(dim, n_pts, seeed=None):\n",
    "    sobol = SobolEngine(dimension=dim, scramble=True, seed=seed)\n",
    "    X_init = sobol.draw(n=n_pts).to(dtype=dtype, device=device)\n",
    "    return X_init"
   ]
  },
  {
   "cell_type": "code",
   "execution_count": 5,
   "metadata": {},
   "outputs": [],
   "source": [
    "def generate_batch(\n",
    "    X,\n",
    "    Y,\n",
    "    batch_size,\n",
    "    n_candidates,\n",
    "    sampler=\"cholesky\",  # \"cholesky\", \"ciq\", \"rff\"\n",
    "    use_keops=False,\n",
    "):\n",
    "    assert sampler in (\"cholesky\", \"ciq\", \"rff\")\n",
    "    assert X.min() >= 0.0 and X.max() <= 1.0 and torch.all(torch.isfinite(Y))\n",
    "    \n",
    "    # NOTE: We probably want to pass in the default priors in SingleTaskGP here later\n",
    "    kernel_kwargs = {\n",
    "        \"nu\": 2.5,\n",
    "        \"ard_num_dims\": X.shape[-1], \n",
    "        \"lengthscale_constraint\": Interval(0.05, 4.0)\n",
    "    }\n",
    "    if sampler == \"rff\":\n",
    "        base_kernel = RFFKernel(**kernel_kwargs, num_samples=1024)\n",
    "    else:\n",
    "        base_kernel = KMaternKernel(**kernel_kwargs) if use_keops else MaternKernel(**kernel_kwargs)\n",
    "    covar_module = ScaleKernel(base_kernel, outputscale_constraint=Interval(0.01, 100.0))\n",
    "    \n",
    "    # Fit a GP model\n",
    "    train_Y = (Y - Y.mean()) / Y.std()\n",
    "    likelihood = GaussianLikelihood(noise_constraint=Interval(1e-8, 1e-3))\n",
    "    model = SingleTaskGP(X, train_Y, likelihood=likelihood, covar_module=covar_module)\n",
    "    mll = ExactMarginalLogLikelihood(model.likelihood, model)\n",
    "    fit_gpytorch_model(mll)\n",
    "    \n",
    "    # Candidates\n",
    "    sobol = SobolEngine(X.shape[-1], scramble=True)\n",
    "    X_cand = sobol.draw(n_candidates).to(dtype=dtype, device=device)\n",
    "    \n",
    "    # Thompson sample\n",
    "    if sampler == \"cholesky\":\n",
    "        with gpts.max_cholesky_size(float(\"inf\")):\n",
    "            thompson_sampling = MaxPosteriorSampling(model=model, replacement=False)\n",
    "            X_next = thompson_sampling(X_cand, num_samples=batch_size)\n",
    "    elif sampler == \"ciq\" or sampler == \"rff\":\n",
    "        # NOTE: We can use MaxPosteriorSampling here once #652 is landed\n",
    "        with gpytorch.settings.max_cholesky_size(float(\"inf\")):\n",
    "            mean = model(X_cand).mean\n",
    "            covar = model(X_cand).lazy_covariance_matrix\n",
    "        dist = MultivariateNormal(mean, covar.add_jitter(1e-4))\n",
    "        \n",
    "        if sampler == \"ciq\":\n",
    "            with gpts.ciq_samples(True), gpts.minres_tolerance(5e-3), gpts.num_contour_quadrature(15):\n",
    "                with gpts.max_cholesky_size(0), gpts.max_preconditioner_size(50):\n",
    "                    y_cand = dist.sample(torch.Size([batch_size])).t()\n",
    "        elif sampler == \"rff\":\n",
    "            y_cand = dist.sample(torch.Size([batch_size])).t()\n",
    "                \n",
    "        X_next = torch.zeros(batch_size, X.shape[-1], dtype=dtype, device=device)\n",
    "        for i in range(batch_size):\n",
    "            ind_max = y_cand[:, i].argmax()\n",
    "            X_next[i, :] = X_cand[ind_max, :]\n",
    "            y_cand[ind_max, :] = -float(\"inf\")\n",
    "\n",
    "    return X_next"
   ]
  },
  {
   "cell_type": "code",
   "execution_count": 6,
   "metadata": {},
   "outputs": [],
   "source": [
    "def run_optimization(n_init, max_evals, batch_size, sampler, n_candidates, use_keops=False, seed=None):\n",
    "    X = get_initial_points(dim, n_init, seed)\n",
    "    Y = torch.tensor([eval_objective(x) for x in X], dtype=dtype, device=device).unsqueeze(-1)\n",
    "    print(f\"{len(X)}) Best value: {Y.max().item():.2e}\")\n",
    "    \n",
    "    while len(X) < max_evals:\n",
    "        # Create a batch\n",
    "        X_next = generate_batch(\n",
    "            X=X,\n",
    "            Y=Y,\n",
    "            batch_size=min(batch_size, max_evals - len(X)),\n",
    "            n_candidates=n_candidates,\n",
    "            sampler=sampler,\n",
    "            use_keops=use_keops,\n",
    "        )\n",
    "        Y_next = torch.tensor([eval_objective(x) for x in X_next], dtype=dtype, device=device).unsqueeze(-1)\n",
    "\n",
    "        # Append data\n",
    "        X = torch.cat((X, X_next), dim=0)\n",
    "        Y = torch.cat((Y, Y_next), dim=0)\n",
    "\n",
    "        print(f\"{len(X)}) Best value: {Y.max().item():.2e}\")\n",
    "    return X, Y"
   ]
  },
  {
   "cell_type": "code",
   "execution_count": 7,
   "metadata": {},
   "outputs": [],
   "source": [
    "batch_size = 5\n",
    "n_init = 10\n",
    "max_evals = 60\n",
    "seed = 0  # To get the same Sobol points"
   ]
  },
  {
   "cell_type": "markdown",
   "metadata": {},
   "source": [
    "## Cholesky with 10,000 candidates"
   ]
  },
  {
   "cell_type": "code",
   "execution_count": 8,
   "metadata": {},
   "outputs": [
    {
     "name": "stdout",
     "output_type": "stream",
     "text": [
      "10) Best value: 1.12e+00\n",
      "15) Best value: 1.12e+00\n",
      "20) Best value: 1.12e+00\n",
      "25) Best value: 1.76e+00\n",
      "30) Best value: 2.67e+00\n",
      "35) Best value: 2.93e+00\n",
      "40) Best value: 3.07e+00\n",
      "45) Best value: 3.07e+00\n",
      "50) Best value: 3.07e+00\n",
      "55) Best value: 3.08e+00\n",
      "60) Best value: 3.08e+00\n"
     ]
    }
   ],
   "source": [
    "X_chol, Y_chol = run_optimization(n_init, max_evals, batch_size, \"cholesky\", 10000, seed=seed)"
   ]
  },
  {
   "cell_type": "markdown",
   "metadata": {},
   "source": [
    "## RFF with 50,000 candidates"
   ]
  },
  {
   "cell_type": "code",
   "execution_count": 9,
   "metadata": {},
   "outputs": [
    {
     "name": "stdout",
     "output_type": "stream",
     "text": [
      "10) Best value: 1.12e+00\n",
      "15) Best value: 1.12e+00\n",
      "20) Best value: 1.12e+00\n",
      "25) Best value: 1.12e+00\n",
      "30) Best value: 1.35e+00\n",
      "35) Best value: 2.30e+00\n",
      "40) Best value: 2.72e+00\n",
      "45) Best value: 3.13e+00\n",
      "50) Best value: 3.13e+00\n",
      "55) Best value: 3.14e+00\n",
      "60) Best value: 3.14e+00\n"
     ]
    }
   ],
   "source": [
    "X_rff, Y_rff = run_optimization(n_init, max_evals, batch_size, \"rff\", 50000, seed=seed)"
   ]
  },
  {
   "cell_type": "markdown",
   "metadata": {},
   "source": [
    "## CIQ with 50,000 candidates"
   ]
  },
  {
   "cell_type": "code",
   "execution_count": 10,
   "metadata": {},
   "outputs": [
    {
     "name": "stdout",
     "output_type": "stream",
     "text": [
      "10) Best value: 1.12e+00\n",
      "15) Best value: 1.12e+00\n",
      "20) Best value: 1.12e+00\n",
      "25) Best value: 2.43e+00\n",
      "30) Best value: 2.73e+00\n",
      "35) Best value: 2.73e+00\n",
      "40) Best value: 2.99e+00\n",
      "45) Best value: 2.99e+00\n",
      "50) Best value: 3.05e+00\n",
      "55) Best value: 3.16e+00\n",
      "60) Best value: 3.16e+00\n"
     ]
    }
   ],
   "source": [
    "X_ciq, Y_ciq = run_optimization(n_init, max_evals, batch_size, \"ciq\", 50000, use_keops=True, seed=seed)"
   ]
  },
  {
   "cell_type": "code",
   "execution_count": 11,
   "metadata": {},
   "outputs": [
    {
     "data": {
      "image/png": "[encoded data removed]",
      "text/plain": [
       "<Figure size 720x576 with 1 Axes>"
      ]
     },
     "metadata": {
      "needs_background": "light"
     },
     "output_type": "display_data"
    }
   ],
   "source": [
    "import matplotlib\n",
    "import numpy as np\n",
    "from matplotlib import rc\n",
    "\n",
    "\n",
    "fig = plt.figure(figsize=(10, 8))\n",
    "matplotlib.rcParams.update({\"font.size\": 20})\n",
    "\n",
    "results = [\n",
    "    (Y_chol.cpu(), \"Cholesky-10,000\", \"b\", \"\", 14, \"--\"),\n",
    "    (Y_rff.cpu(), \"RFF-50,000\", \"r\", \".\", 14, \"-\"),\n",
    "    (Y_ciq.cpu(), \"CIQ-50,000\", \"g\", \"s\", 7, \"-\"),\n",
    "]\n",
    "\n",
    "optimum = hart6.optimal_value\n",
    "\n",
    "ax = fig.add_subplot(1, 1, 1)\n",
    "names = []\n",
    "for res, name, c, m, ms, ls in results:\n",
    "    names.append(name)\n",
    "    regret = optimum - res.cummax(dim=0)[0]\n",
    "    t = np.arange(len(regret))\n",
    "    nn = int(len(t) / 30)\n",
    "    plt.plot(t[0::nn], regret[0::nn], c=c, marker=m, linestyle=ls, markersize=ms)\n",
    "\n",
    "plt.yscale(\"log\")\n",
    "plt.title(\"Hartmann6\")\n",
    "plt.ylabel(\"Regret\")\n",
    "plt.xlabel(\"Number of evaluations\")\n",
    "plt.xlim([0, max_evals])\n",
    "plt.ylim([0.1, 1])\n",
    "ax.set_yticks([0.1, 0.15, 0.25, 0.4, 0.8, 1.6, 3.2])\n",
    "ax.set_yticklabels([0.1, 0.15, 0.25, 0.4, 0.8, 1.6, 3.2])\n",
    "plt.grid(True)\n",
    "\n",
    "plt.legend(names, loc=\"upper right\")\n",
    "plt.show()"
   ]
  },
  {
   "cell_type": "code",
   "execution_count": null,
   "metadata": {},
   "outputs": [],
   "source": []
  }
 ],
 "metadata": {
  "kernelspec": {
   "display_name": "Python 3",
   "language": "python",
   "name": "python3"
  },
  "language_info": {
   "codemirror_mode": {
    "name": "ipython",
    "version": 3
   },
   "file_extension": ".py",
   "mimetype": "text/x-python",
   "name": "python",
   "nbconvert_exporter": "python",
   "pygments_lexer": "ipython3",
   "version": "3.7.9"
  }
 },
 "nbformat": 4,
 "nbformat_minor": 4
}
