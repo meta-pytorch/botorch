{
 "cells": [
  {
   "cell_type": "markdown",
   "source": [
    "## Multi-Information Source BO with Augmented Gaussian Processes\n",
    "- Contributors: andreaponti5\n",
    "- Last updated: Jan 29, 2024\n",
    "- BoTorch version: 0.9.5(dev)\n",
    "\n",
    "In this tutorial, we show how to perform Multiple Information Source Bayesian Optimization in BoTorch based on the Augmented Gaussian Process (AGP) and the Augmented UCB (AUCB) acquisition function proposed in [1].\n",
    "The key idea of the AGP is to fit a GP model for each information source and *augment* the observations on the high fidelity source with those from *cheaper* sources which can be considered as *reliable*. The GP model fitted on this *augmented* set of observations is the AGP.\n",
    "The AUCB is a modification of the standard UCB -- computed on the AGP -- suitably proposed to also deal with the source-specific query cost.\n",
    "\n",
    "We emprically show that the *AGP-based* Multiple Information Source Basyesian Optimization usually performs better than other multi-fidelity approaches [2].\n",
    "\n",
    "[1] [Candelieri, A., & Archetti, F. (2021). Sparsifying to optimize over multiple information sources: an augmented Gaussian process based algorithm. Structural and Multidisciplinary Optimization, 64, 239-255.](https://link.springer.com/article/10.1007/s00158-021-02882-7)\n",
    "[2] [The arxiv will be available soon.](https://arxiv.org/)\n"
   ],
   "metadata": {
    "collapsed": false
   },
   "id": "826ca0dcff42a3ba"
  },
  {
   "cell_type": "code",
   "execution_count": 1,
   "outputs": [
    {
     "name": "stdout",
     "output_type": "stream",
     "text": [
      "Requirement already satisfied: matplotlib in c:\\users\\ponti\\appdata\\local\\programs\\python\\python311\\lib\\site-packages (3.8.2)\n",
      "Requirement already satisfied: contourpy>=1.0.1 in c:\\users\\ponti\\appdata\\local\\programs\\python\\python311\\lib\\site-packages (from matplotlib) (1.2.0)\n",
      "Requirement already satisfied: cycler>=0.10 in c:\\users\\ponti\\appdata\\local\\programs\\python\\python311\\lib\\site-packages (from matplotlib) (0.12.1)\n",
      "Requirement already satisfied: fonttools>=4.22.0 in c:\\users\\ponti\\appdata\\local\\programs\\python\\python311\\lib\\site-packages (from matplotlib) (4.46.0)\n",
      "Requirement already satisfied: kiwisolver>=1.3.1 in c:\\users\\ponti\\appdata\\local\\programs\\python\\python311\\lib\\site-packages (from matplotlib) (1.4.5)\n",
      "Requirement already satisfied: numpy<2,>=1.21 in c:\\users\\ponti\\appdata\\local\\programs\\python\\python311\\lib\\site-packages (from matplotlib) (1.26.0)\n",
      "Requirement already satisfied: packaging>=20.0 in c:\\users\\ponti\\appdata\\local\\programs\\python\\python311\\lib\\site-packages (from matplotlib) (23.2)\n",
      "Requirement already satisfied: pillow>=8 in c:\\users\\ponti\\appdata\\local\\programs\\python\\python311\\lib\\site-packages (from matplotlib) (10.1.0)\n",
      "Requirement already satisfied: pyparsing>=2.3.1 in c:\\users\\ponti\\appdata\\local\\programs\\python\\python311\\lib\\site-packages (from matplotlib) (3.1.1)\n",
      "Requirement already satisfied: python-dateutil>=2.7 in c:\\users\\ponti\\appdata\\local\\programs\\python\\python311\\lib\\site-packages (from matplotlib) (2.8.2)\n",
      "Requirement already satisfied: six>=1.5 in c:\\users\\ponti\\appdata\\local\\programs\\python\\python311\\lib\\site-packages (from python-dateutil>=2.7->matplotlib) (1.16.0)\n"
     ]
    },
    {
     "name": "stderr",
     "output_type": "stream",
     "text": [
      "\n",
      "[notice] A new release of pip is available: 23.2.1 -> 23.3.2\n",
      "[notice] To update, run: python.exe -m pip install --upgrade pip\n"
     ]
    }
   ],
   "source": [
    "!pip install matplotlib"
   ],
   "metadata": {
    "collapsed": false,
    "ExecuteTime": {
     "end_time": "2024-01-29T08:04:03.628067200Z",
     "start_time": "2024-01-29T08:03:59.110048Z"
    }
   },
   "id": "8aa9032dbb2c2b04"
  },
  {
   "cell_type": "code",
   "execution_count": 2,
   "outputs": [],
   "source": [
    "import os\n",
    "import matplotlib.pyplot as plt\n",
    "\n",
    "import torch\n",
    "from gpytorch import ExactMarginalLogLikelihood\n",
    "\n",
    "import botorch\n",
    "from botorch import fit_gpytorch_mll\n",
    "from botorch.acquisition import InverseCostWeightedUtility, qMultiFidelityMaxValueEntropy\n",
    "from botorch_community.acquisition.augmented_multisource import AugmentedUpperConfidenceBound\n",
    "from botorch.models import AffineFidelityCostModel, SingleTaskMultiFidelityGP\n",
    "from botorch_community.models.gp_regression_multisource import SingleTaskAugmentedGP, get_random_x_for_agp\n",
    "from botorch.models.transforms import Standardize\n",
    "from botorch.optim import optimize_acqf, optimize_acqf_mixed\n",
    "from botorch.test_functions.multi_fidelity import AugmentedBranin"
   ],
   "metadata": {
    "collapsed": false,
    "ExecuteTime": {
     "end_time": "2024-01-29T08:04:09.639408100Z",
     "start_time": "2024-01-29T08:04:03.628965400Z"
    }
   },
   "id": "e55defd1ee4a5b0f"
  },
  {
   "cell_type": "code",
   "execution_count": 3,
   "id": "initial_id",
   "metadata": {
    "collapsed": true,
    "ExecuteTime": {
     "end_time": "2024-01-29T08:04:09.678340900Z",
     "start_time": "2024-01-29T08:04:09.664287600Z"
    }
   },
   "outputs": [],
   "source": [
    "tkwargs = {\n",
    "    \"dtype\": torch.double,\n",
    "    \"device\": torch.device(\"cuda\" if torch.cuda.is_available() else \"cpu\"),\n",
    "}\n",
    "SMOKE_TEST = os.environ.get(\"SMOKE_TEST\", False)"
   ]
  },
  {
   "cell_type": "code",
   "execution_count": 4,
   "outputs": [],
   "source": [
    "N_ITER = 10 if SMOKE_TEST else 50\n",
    "SEED = 3"
   ],
   "metadata": {
    "collapsed": false,
    "ExecuteTime": {
     "end_time": "2024-01-29T08:04:09.679342100Z",
     "start_time": "2024-01-29T08:04:09.669295Z"
    }
   },
   "id": "e316bd291459a135"
  },
  {
   "cell_type": "markdown",
   "source": [
    "### Problem setup\n",
    "We consider the augmented Branin multi-fidelity synthetic test problem. It is important to clarify that *augmented* is not about the AGP: here, it has a different meaning. It means that the Branin test function has been modified by introducing an additional dimension representing the fidelity parameter.\n",
    "\n",
    "The test function takes the form $f(x,s)$ where $x \\in [-5, 10] \\times [0, 15]$ and $s \\in [0,1]$. The target fidelity is 1.0, which means that our goal is to solve $\\max_x f(x,1.0)$ by making use of cheaper evaluations $f(x,s)$ for $s < 1.0$. In this example, we'll assume that the cost function takes the form $5.0 + s$, illustrating a situation where the fixed cost is $5.0$.\n",
    "\n",
    "Since a multiple information source context is considered, three different sources are considered, with $s = 0.5, 0.75, 1.00$, respectively."
   ],
   "metadata": {
    "collapsed": false
   },
   "id": "6b58c67f5dbf329c"
  },
  {
   "cell_type": "code",
   "execution_count": 5,
   "outputs": [],
   "source": [
    "problem = AugmentedBranin(negate=True).to(**tkwargs)\n",
    "fidelities = torch.tensor([0.5, 0.75, 1.0], **tkwargs)\n",
    "n_sources = fidelities.shape[0]\n",
    "\n",
    "bounds = torch.tensor([[-5, 0, 0], [10, 15, n_sources - 1]], **tkwargs)\n",
    "target_fidelities = {n_sources - 1: 1.0}\n",
    "\n",
    "cost_model = AffineFidelityCostModel(fidelity_weights=target_fidelities, fixed_cost=5.0)\n",
    "cost_aware_utility = InverseCostWeightedUtility(cost_model=cost_model)"
   ],
   "metadata": {
    "collapsed": false,
    "ExecuteTime": {
     "end_time": "2024-01-29T08:04:09.761367100Z",
     "start_time": "2024-01-29T08:04:09.677340600Z"
    }
   },
   "id": "5f13380e681011ea"
  },
  {
   "cell_type": "markdown",
   "source": [
    "### Model initialization\n",
    "\n",
    "We use a `SingleTaskAugmentedGP` to implement our AGP.\n",
    "\n",
    "At each Bayesian Optimization iteration, the set of observations from the *ground-truth* (i.e., the highest fidelity and more expensive source) is temporarily *augmented* by including observations from the other cheap sources, only if they can be considered *reliable*. Specifically, an observation $(x,y)$ from a cheap source is considered reliable if it satisfies the following inequality:\n",
    "\n",
    "$$\\vert\\mu(x)-y\\vert \\leq m \\sigma(x)$$\n",
    "\n",
    "where $\\mu(x)$ and $\\sigma(x)$ are, respectively, the posterior mean and standard deviation of the GP model fitted on the high fidelity observations only, and $m$ is a technical parameter making more *conservative* ($m→0$) or *inclusive* ($m→∞)$ the augmentation process. As reported in [1], a suitable value for this parameter is $m=1$.\n",
    "\n",
    "After the set of observations is augmented, the AGP is fitted through `SingleTaskAugmentedGP`.\n"
   ],
   "metadata": {
    "collapsed": false
   },
   "id": "81e30344694a9583"
  },
  {
   "cell_type": "code",
   "execution_count": 6,
   "outputs": [],
   "source": [
    "def generate_initial_data(n):\n",
    "    train_x = get_random_x_for_agp(n, bounds, 1)\n",
    "    xs = train_x[..., :-1]\n",
    "    fids = fidelities[train_x[..., -1].int()].reshape(-1, 1)\n",
    "    train_obj = problem(torch.cat((xs, fids), dim=1)).unsqueeze(-1)\n",
    "    return train_x, train_obj\n",
    "\n",
    "\n",
    "def initialize_model(train_x, train_obj, m):\n",
    "    model = SingleTaskAugmentedGP(\n",
    "        train_x, train_obj, m=m, outcome_transform=Standardize(m=1),\n",
    "    )\n",
    "    mll = ExactMarginalLogLikelihood(model.likelihood, model)\n",
    "    return mll, model"
   ],
   "metadata": {
    "collapsed": false,
    "ExecuteTime": {
     "end_time": "2024-01-29T08:04:09.772956200Z",
     "start_time": "2024-01-29T08:04:09.765101800Z"
    }
   },
   "id": "f8272160f69227ef"
  },
  {
   "cell_type": "markdown",
   "source": [
    "#### Define a helper function that performs the essential BO step\n",
    "This helper function optimizes the acquisition function and returns the candidate point along with the observed function values.\n",
    "\n",
    "The UCB acquisition function has been modified to deal with both the *discrepancy* between information sources and the *source-specific query cost*.\n",
    "\n",
    "Formally, the AUCB acquisition function, at a generic iteration $t$, is defined as:\n",
    "\n",
    "$$\\alpha_s(x,\\hat y^+) = \\frac{\\left[\\hat{\\mu}(x) + \\sqrt{\\beta^{(t)}} \\hat{\\sigma}(x)\\right] - \\hat{y}^+}{c_s \\cdot (1+\\vert \\hat{\\mu}(x) - \\mu_s(x) \\vert)} $$\n",
    "\n",
    "where $\\hat{y}^+$ is the best (i.e., highest) value in the *augmented* set of observations, the numerator is -- therefore -- the optimistic improvement with respect to $\\hat{y}^+$, $c_s$ is the query cost for the source $s$, and $\\vert \\hat{\\mu}(x) - \\mu_s(x) \\vert$ is a discrepancy measure between the predictions provided by the AGP and the GP on the source $s$, respectively, given the input $x$ (i.e., 1 is added just to avoid division by zero).\n",
    "\n",
    "For more information, please refer to [1],"
   ],
   "metadata": {
    "collapsed": false
   },
   "id": "ad21cd7999805d78"
  },
  {
   "cell_type": "code",
   "execution_count": 7,
   "outputs": [],
   "source": [
    "def optimize_aucb(acqf):\n",
    "    candidate, value = optimize_acqf(\n",
    "        acq_function=acqf,\n",
    "        bounds=bounds,\n",
    "        q=1,\n",
    "        num_restarts=5,\n",
    "        raw_samples=128,\n",
    "    )\n",
    "    # observe new values\n",
    "    new_x = candidate.detach()\n",
    "    new_x[:, -1] = torch.round(new_x[:, -1], decimals=0)\n",
    "    return new_x"
   ],
   "metadata": {
    "collapsed": false,
    "ExecuteTime": {
     "end_time": "2024-01-29T08:04:09.783470800Z",
     "start_time": "2024-01-29T08:04:09.769617200Z"
    }
   },
   "id": "311309bd6a4d3a92"
  },
  {
   "cell_type": "markdown",
   "source": [
    "### Perform a few steps of multi-fidelity BO\n",
    "First, let's generate some initial random data and fit a surrogate model."
   ],
   "metadata": {
    "collapsed": false
   },
   "id": "667b55ca7ae58af3"
  },
  {
   "cell_type": "code",
   "execution_count": 8,
   "outputs": [],
   "source": [
    "torch.manual_seed(SEED)\n",
    "train_x, train_obj = generate_initial_data(n=5)"
   ],
   "metadata": {
    "collapsed": false,
    "ExecuteTime": {
     "end_time": "2024-01-29T08:04:11.943091700Z",
     "start_time": "2024-01-29T08:04:09.778471900Z"
    }
   },
   "id": "a2b9dbfbae2f7d5"
  },
  {
   "cell_type": "markdown",
   "source": [
    "We can now use the helper functions above to run a few iterations of BO."
   ],
   "metadata": {
    "collapsed": false
   },
   "id": "ca54230c1481ba60"
  },
  {
   "cell_type": "code",
   "execution_count": 9,
   "outputs": [
    {
     "name": "stdout",
     "output_type": "stream",
     "text": [
      "Iter 0;\t Fid = 1.00;\t Obj = -12.0999;\n",
      "Iter 1;\t Fid = 1.00;\t Obj = -50.0743;\n",
      "Iter 2;\t Fid = 0.50;\t Obj = -11.9672;\n",
      "Iter 3;\t Fid = 0.50;\t Obj = -8.7046;\n",
      "Iter 4;\t Fid = 0.50;\t Obj = -13.3425;\n",
      "Iter 5;\t Fid = 1.00;\t Obj = -11.6850;\n",
      "Iter 6;\t Fid = 0.50;\t Obj = -8.2926;\n",
      "Iter 7;\t Fid = 1.00;\t Obj = -14.4455;\n",
      "Iter 8;\t Fid = 0.50;\t Obj = -16.5711;\n",
      "Iter 9;\t Fid = 1.00;\t Obj = -32.7208;\n",
      "Iter 10;\t Fid = 0.50;\t Obj = -12.7833;\n",
      "Iter 11;\t Fid = 1.00;\t Obj = -40.2770;\n",
      "Iter 12;\t Fid = 0.50;\t Obj = -4.8935;\n",
      "Iter 13;\t Fid = 1.00;\t Obj = -15.2650;\n",
      "Iter 14;\t Fid = 0.50;\t Obj = -6.9511;\n",
      "Iter 15;\t Fid = 1.00;\t Obj = -18.1231;\n",
      "Iter 16;\t Fid = 0.50;\t Obj = -0.6015;\n",
      "Iter 17;\t Fid = 1.00;\t Obj = -17.0770;\n",
      "Iter 18;\t Fid = 0.50;\t Obj = -4.3991;\n",
      "Iter 19;\t Fid = 1.00;\t Obj = -12.4392;\n",
      "Iter 20;\t Fid = 1.00;\t Obj = -112.9747;\n",
      "Iter 21;\t Fid = 0.50;\t Obj = -4.6979;\n",
      "Iter 22;\t Fid = 0.50;\t Obj = -13.1965;\n",
      "Iter 23;\t Fid = 1.00;\t Obj = -14.2637;\n",
      "Iter 24;\t Fid = 0.50;\t Obj = -16.4335;\n",
      "Iter 25;\t Fid = 1.00;\t Obj = -1.4522;\n",
      "Iter 26;\t Fid = 0.50;\t Obj = -14.7771;\n",
      "Iter 27;\t Fid = 1.00;\t Obj = -14.4608;\n",
      "Iter 28;\t Fid = 1.00;\t Obj = -15.3493;\n",
      "Iter 29;\t Fid = 1.00;\t Obj = -27.3031;\n",
      "Iter 30;\t Fid = 0.50;\t Obj = -13.6875;\n",
      "Iter 31;\t Fid = 0.50;\t Obj = -9.9730;\n",
      "Iter 32;\t Fid = 0.50;\t Obj = -9.1073;\n",
      "Iter 33;\t Fid = 1.00;\t Obj = -20.4122;\n",
      "Iter 34;\t Fid = 1.00;\t Obj = -11.3355;\n",
      "Iter 35;\t Fid = 0.50;\t Obj = -31.8170;\n",
      "Iter 36;\t Fid = 0.50;\t Obj = -9.0516;\n",
      "Iter 37;\t Fid = 1.00;\t Obj = -6.1756;\n",
      "Iter 38;\t Fid = 0.50;\t Obj = -4.9320;\n",
      "Iter 39;\t Fid = 1.00;\t Obj = -7.7986;\n",
      "Iter 40;\t Fid = 0.50;\t Obj = -8.6059;\n",
      "Iter 41;\t Fid = 1.00;\t Obj = -17.1693;\n",
      "Iter 42;\t Fid = 0.50;\t Obj = -10.7690;\n",
      "Iter 43;\t Fid = 1.00;\t Obj = -25.7958;\n",
      "Iter 44;\t Fid = 1.00;\t Obj = -122.8804;\n",
      "Iter 45;\t Fid = 1.00;\t Obj = -8.2496;\n",
      "Iter 46;\t Fid = 0.50;\t Obj = -0.7404;\n",
      "Iter 47;\t Fid = 1.00;\t Obj = -13.2155;\n",
      "Iter 48;\t Fid = 1.00;\t Obj = -0.4122;\n",
      "Iter 49;\t Fid = 0.50;\t Obj = -0.4802;\n"
     ]
    }
   ],
   "source": [
    "cumulative_cost = 0.0\n",
    "\n",
    "with botorch.settings.validate_input_scaling(False):\n",
    "    for it in range(N_ITER):\n",
    "        mll, model = initialize_model(train_x, train_obj, m=1)\n",
    "        fit_gpytorch_mll(mll)\n",
    "        acqf = AugmentedUpperConfidenceBound(\n",
    "            model,\n",
    "            beta=3,\n",
    "            maximize=True,\n",
    "            best_f=train_obj[torch.where(train_x[:, -1] == 0)].min(),\n",
    "            cost={i: fid + 5.0 for i, fid in enumerate(fidelities)},\n",
    "        )\n",
    "        new_x = optimize_aucb(acqf)\n",
    "        if model.n_true_points < model.max_n_cheap_points:\n",
    "            new_x[:, -1] = fidelities.shape[0] - 1\n",
    "        train_x = torch.cat([train_x, new_x])\n",
    "\n",
    "        new_x[:, -1] = fidelities[new_x[:, -1].int()]\n",
    "        new_obj = problem(new_x).unsqueeze(-1)\n",
    "        train_obj = torch.cat([train_obj, new_obj])\n",
    "\n",
    "        print(\n",
    "            f\"Iter {it};\"\n",
    "            f\"\\t Fid = {new_x[0].tolist()[-1]:.2f};\"\n",
    "            f\"\\t Obj = {new_obj[0][0].tolist():.4f};\"\n",
    "        )"
   ],
   "metadata": {
    "collapsed": false,
    "ExecuteTime": {
     "end_time": "2024-01-29T08:08:22.793747600Z",
     "start_time": "2024-01-29T08:04:11.940091600Z"
    }
   },
   "id": "8d02e319798a28d7"
  },
  {
   "cell_type": "markdown",
   "source": [
    "## Comparison to MES"
   ],
   "metadata": {
    "collapsed": false
   },
   "id": "ab5e775efb0ccfe9"
  },
  {
   "cell_type": "code",
   "execution_count": 10,
   "outputs": [],
   "source": [
    "def initialize_mes_model(train_x, train_obj, data_fidelity):\n",
    "    model = SingleTaskMultiFidelityGP(\n",
    "        train_x,\n",
    "        train_obj,\n",
    "        outcome_transform=Standardize(m=1),\n",
    "        data_fidelity=data_fidelity,\n",
    "    )\n",
    "    mll = ExactMarginalLogLikelihood(model.likelihood, model)\n",
    "    return mll, model"
   ],
   "metadata": {
    "collapsed": false,
    "ExecuteTime": {
     "end_time": "2024-01-29T08:08:22.804418600Z",
     "start_time": "2024-01-29T08:08:22.796748900Z"
    }
   },
   "id": "1c93f20bdaffccac"
  },
  {
   "cell_type": "code",
   "execution_count": 11,
   "outputs": [],
   "source": [
    "def optimize_mes_and_get_observation(mes_acq, fixed_features_list):\n",
    "    candidates, acq_value = optimize_acqf_mixed(\n",
    "        acq_function=mes_acq,\n",
    "        bounds=problem.bounds,\n",
    "        q=1,\n",
    "        num_restarts=5,\n",
    "        raw_samples=128,\n",
    "        fixed_features_list=fixed_features_list,\n",
    "    )\n",
    "    # observe new values\n",
    "    cost = cost_model(candidates).sum()\n",
    "    new_x = candidates.detach()\n",
    "    new_obj = problem(new_x).unsqueeze(-1)\n",
    "    return new_x, new_obj, cost"
   ],
   "metadata": {
    "collapsed": false,
    "ExecuteTime": {
     "end_time": "2024-01-29T08:08:22.837919300Z",
     "start_time": "2024-01-29T08:08:22.806683100Z"
    }
   },
   "id": "1a1bba8e3496b54d"
  },
  {
   "cell_type": "code",
   "execution_count": 12,
   "outputs": [],
   "source": [
    "train_x_mes = torch.clone(train_x[:10])\n",
    "train_x_mes[:, -1] = fidelities[train_x_mes[:, -1].int()]\n",
    "train_obj_mes = torch.clone(train_obj[:10])"
   ],
   "metadata": {
    "collapsed": false,
    "ExecuteTime": {
     "end_time": "2024-01-29T08:08:22.840918900Z",
     "start_time": "2024-01-29T08:08:22.819913500Z"
    }
   },
   "id": "e8414dfbd0643afa"
  },
  {
   "cell_type": "code",
   "execution_count": 13,
   "outputs": [
    {
     "name": "stdout",
     "output_type": "stream",
     "text": [
      "Iter 0;\t Fid = 0.50;\t Obj = -8.3276;\n",
      "Iter 1;\t Fid = 0.50;\t Obj = -21.1510;\n",
      "Iter 2;\t Fid = 0.50;\t Obj = -20.7855;\n",
      "Iter 3;\t Fid = 0.50;\t Obj = -8.5067;\n",
      "Iter 4;\t Fid = 0.50;\t Obj = -49.7241;\n",
      "Iter 5;\t Fid = 0.50;\t Obj = -1.3525;\n",
      "Iter 6;\t Fid = 0.50;\t Obj = -98.0777;\n",
      "Iter 7;\t Fid = 0.50;\t Obj = -88.9142;\n",
      "Iter 8;\t Fid = 0.50;\t Obj = -1.3561;\n",
      "Iter 9;\t Fid = 1.00;\t Obj = -135.8402;\n",
      "Iter 10;\t Fid = 0.50;\t Obj = -16.4201;\n",
      "Iter 11;\t Fid = 0.50;\t Obj = -125.3250;\n",
      "Iter 12;\t Fid = 0.50;\t Obj = -6.7582;\n",
      "Iter 13;\t Fid = 0.50;\t Obj = -61.3218;\n",
      "Iter 14;\t Fid = 0.50;\t Obj = -19.6356;\n",
      "Iter 15;\t Fid = 0.50;\t Obj = -91.3633;\n",
      "Iter 16;\t Fid = 0.50;\t Obj = -90.9424;\n",
      "Iter 17;\t Fid = 0.50;\t Obj = -22.3466;\n",
      "Iter 18;\t Fid = 0.50;\t Obj = -1.9025;\n",
      "Iter 19;\t Fid = 0.50;\t Obj = -16.0446;\n",
      "Iter 20;\t Fid = 0.50;\t Obj = -13.2516;\n",
      "Iter 21;\t Fid = 0.50;\t Obj = -23.5304;\n",
      "Iter 22;\t Fid = 0.50;\t Obj = -8.6583;\n",
      "Iter 23;\t Fid = 0.50;\t Obj = -19.9776;\n",
      "Iter 24;\t Fid = 0.50;\t Obj = -22.8034;\n",
      "Iter 25;\t Fid = 0.50;\t Obj = -11.0479;\n",
      "Iter 26;\t Fid = 0.50;\t Obj = -1.0324;\n",
      "Iter 27;\t Fid = 0.50;\t Obj = -3.1515;\n",
      "Iter 28;\t Fid = 0.50;\t Obj = -20.1842;\n",
      "Iter 29;\t Fid = 0.50;\t Obj = -4.3885;\n",
      "Iter 30;\t Fid = 0.50;\t Obj = -262.8294;\n",
      "Iter 31;\t Fid = 0.50;\t Obj = -13.1549;\n",
      "Iter 32;\t Fid = 0.50;\t Obj = -35.3697;\n",
      "Iter 33;\t Fid = 0.50;\t Obj = -9.8748;\n",
      "Iter 34;\t Fid = 0.50;\t Obj = -5.5868;\n",
      "Iter 35;\t Fid = 0.50;\t Obj = -262.2982;\n",
      "Iter 36;\t Fid = 1.00;\t Obj = -1.1024;\n",
      "Iter 37;\t Fid = 0.50;\t Obj = -1.9896;\n",
      "Iter 38;\t Fid = 1.00;\t Obj = -10.5575;\n",
      "Iter 39;\t Fid = 1.00;\t Obj = -8.7057;\n",
      "Iter 40;\t Fid = 1.00;\t Obj = -2.3179;\n",
      "Iter 41;\t Fid = 1.00;\t Obj = -1.9847;\n",
      "Iter 42;\t Fid = 1.00;\t Obj = -6.1164;\n",
      "Iter 43;\t Fid = 1.00;\t Obj = -6.2065;\n",
      "Iter 44;\t Fid = 0.50;\t Obj = -110.4581;\n",
      "Iter 45;\t Fid = 1.00;\t Obj = -2.2320;\n",
      "Iter 46;\t Fid = 0.50;\t Obj = -256.6816;\n",
      "Iter 47;\t Fid = 1.00;\t Obj = -7.6145;\n",
      "Iter 48;\t Fid = 0.75;\t Obj = -15.1647;\n",
      "Iter 49;\t Fid = 1.00;\t Obj = -4.1053;\n"
     ]
    }
   ],
   "source": [
    "candidate_set = torch.rand(\n",
    "    1000, problem.bounds.size(1), device=problem.bounds.device, dtype=problem.bounds.dtype\n",
    ")\n",
    "candidate_set = problem.bounds[0] + (problem.bounds[1] - problem.bounds[0]) * candidate_set\n",
    "\n",
    "cumulative_cost = 0.0\n",
    "\n",
    "with botorch.settings.validate_input_scaling(False):\n",
    "    for it in range(N_ITER):\n",
    "        mll, model = initialize_mes_model(train_x_mes, train_obj_mes, data_fidelity=2)\n",
    "        fit_gpytorch_mll(mll)\n",
    "        acqf = qMultiFidelityMaxValueEntropy(\n",
    "            model, candidate_set, cost_aware_utility=cost_aware_utility\n",
    "        )\n",
    "        new_x, new_obj, cost = optimize_mes_and_get_observation(acqf,\n",
    "                                                                fixed_features_list=[{2: fid} for fid in fidelities])\n",
    "        train_x_mes = torch.cat([train_x_mes, new_x])\n",
    "        train_obj_mes = torch.cat([train_obj_mes, new_obj])\n",
    "        cumulative_cost += cost\n",
    "        print(\n",
    "            f\"Iter {it};\"\n",
    "            f\"\\t Fid = {new_x[0].tolist()[-1]:.2f};\"\n",
    "            f\"\\t Obj = {new_obj[0][0].tolist():.4f};\"\n",
    "        )"
   ],
   "metadata": {
    "collapsed": false,
    "ExecuteTime": {
     "end_time": "2024-01-29T08:15:52.142811900Z",
     "start_time": "2024-01-29T08:08:22.829920500Z"
    }
   },
   "id": "fcaf20bf41f1b680"
  },
  {
   "cell_type": "markdown",
   "source": [
    "## Plot results"
   ],
   "metadata": {
    "collapsed": false
   },
   "id": "dd44be2238fc0110"
  },
  {
   "cell_type": "code",
   "execution_count": 14,
   "outputs": [],
   "source": [
    "mapping_fid = dict(zip(range(fidelities.shape[0]), fidelities.tolist()))\n",
    "cost_AGP = torch.cumsum(torch.tensor([mapping_fid[int(source)] for source in train_x[:, -1].tolist()]), dim=0)\n",
    "cost_MES = torch.cumsum(train_x_mes[:, -1], dim=0)"
   ],
   "metadata": {
    "collapsed": false,
    "ExecuteTime": {
     "end_time": "2024-01-29T08:15:52.144810Z",
     "start_time": "2024-01-29T08:15:52.137410200Z"
    }
   },
   "id": "5c5cc1ef1808ad1f"
  },
  {
   "cell_type": "code",
   "execution_count": 15,
   "outputs": [],
   "source": [
    "train_obj[torch.where(train_x[:, -1] != fidelities.shape[0] - 1)] = train_obj.min()\n",
    "best_seen_AGP = torch.cummax(train_obj, dim=0)[0]"
   ],
   "metadata": {
    "collapsed": false,
    "ExecuteTime": {
     "end_time": "2024-01-29T08:15:52.159128900Z",
     "start_time": "2024-01-29T08:15:52.145813Z"
    }
   },
   "id": "4a7f7020f195a31f"
  },
  {
   "cell_type": "code",
   "execution_count": 16,
   "outputs": [],
   "source": [
    "train_obj_mes[torch.where(train_x_mes[:, -1] != 1)[0]] = train_obj_mes.min()\n",
    "best_seen_MES = torch.cummax(train_obj_mes, dim=0)[0]"
   ],
   "metadata": {
    "collapsed": false,
    "ExecuteTime": {
     "end_time": "2024-01-29T08:15:52.162132Z",
     "start_time": "2024-01-29T08:15:52.155612900Z"
    }
   },
   "id": "f696548b9b3f50a5"
  },
  {
   "cell_type": "code",
   "execution_count": 23,
   "outputs": [
    {
     "data": {
      "text/plain": "<Figure size 800x600 with 1 Axes>",
      "image/png": "[encoded data removed]"
     },
     "metadata": {},
     "output_type": "display_data"
    }
   ],
   "source": [
    "fig, ax = plt.subplots(1, 1, figsize=(4, 3), dpi=200)\n",
    "ax.plot(\n",
    "    cost_AGP.cpu()[9:],\n",
    "    best_seen_AGP.cpu()[9:],\n",
    "    label=\"AGP\"\n",
    ")\n",
    "ax.plot(\n",
    "    cost_MES.cpu()[9:],\n",
    "    best_seen_MES.cpu()[9:],\n",
    "    label=\"MES\"\n",
    ")\n",
    "\n",
    "ax.set_title(\"Branin\", fontsize=\"12\")\n",
    "ax.set_xlabel(\"Total cost\", fontsize=\"10\")\n",
    "ax.set_ylabel(\"Best seen\", fontsize=\"10\")\n",
    "ax.tick_params(labelsize=10)\n",
    "ax.legend(loc=\"lower right\", fontsize=\"7\", frameon=True, ncol=1)\n",
    "plt.tight_layout()"
   ],
   "metadata": {
    "collapsed": false,
    "ExecuteTime": {
     "end_time": "2024-01-29T08:23:44.635831300Z",
     "start_time": "2024-01-29T08:23:44.193377300Z"
    }
   },
   "id": "e3604083ed32e0eb"
  }
 ],
 "metadata": {
  "kernelspec": {
   "display_name": "Python 3",
   "language": "python",
   "name": "python3"
  },
  "language_info": {
   "codemirror_mode": {
    "name": "ipython",
    "version": 2
   },
   "file_extension": ".py",
   "mimetype": "text/x-python",
   "name": "python",
   "nbconvert_exporter": "python",
   "pygments_lexer": "ipython2",
   "version": "2.7.6"
  }
 },
 "nbformat": 4,
 "nbformat_minor": 5
}
